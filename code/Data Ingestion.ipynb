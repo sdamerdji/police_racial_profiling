{
 "cells": [
  {
   "cell_type": "markdown",
   "id": "e2548ba6",
   "metadata": {},
   "source": [
    "pip install openpyxl\n"
   ]
  },
  {
   "cell_type": "code",
   "execution_count": 1,
   "id": "5de930ac",
   "metadata": {},
   "outputs": [],
   "source": [
    "import pandas as pd\n",
    "import numpy as np"
   ]
  },
  {
   "cell_type": "code",
   "execution_count": 2,
   "id": "5c08eedc",
   "metadata": {},
   "outputs": [],
   "source": [
    "excel_file = '../data/clean_data/lapd_ripa_raw_data_02012021_-_08312021.xlsx'"
   ]
  },
  {
   "cell_type": "code",
   "execution_count": 3,
   "id": "ce7a1e75",
   "metadata": {},
   "outputs": [],
   "source": [
    "raw_data = pd.read_excel(excel_file, sheet_name=None)"
   ]
  },
  {
   "cell_type": "code",
   "execution_count": 4,
   "id": "0e2ddde9",
   "metadata": {},
   "outputs": [
    {
     "data": {
      "text/plain": [
       "dict_keys(['MAIN', 'Officer', 'ACTIONS TAKEN', 'BASIS FOR SEARCH', 'Reason For Stop', 'Result of Stop', 'Person', 'Perceived Race', 'Perceived Disability', 'Person Contraband Discovered ', 'Result of Stop and Race'])"
      ]
     },
     "execution_count": 4,
     "metadata": {},
     "output_type": "execute_result"
    }
   ],
   "source": [
    "raw_data.keys()"
   ]
  },
  {
   "cell_type": "code",
   "execution_count": 5,
   "id": "central-single",
   "metadata": {},
   "outputs": [
    {
     "data": {
      "text/plain": [
       "380"
      ]
     },
     "execution_count": 5,
     "metadata": {},
     "output_type": "execute_result"
    }
   ],
   "source": [
    "raw_data['MAIN']['Stop Duration'].max()"
   ]
  },
  {
   "cell_type": "code",
   "execution_count": 6,
   "id": "fd068537",
   "metadata": {
    "scrolled": true
   },
   "outputs": [
    {
     "name": "stdout",
     "output_type": "stream",
     "text": [
      "MAIN \t\t1425 rows  \t 1425 unique stops \n",
      "ACTIONS TAKEN \t\t1663 rows  \t 1425 unique stops \n",
      "Reason For Stop \t\t1447 rows  \t 1425 unique stops \n",
      "Result of Stop \t\t1519 rows  \t 1425 unique stops \n",
      "Person \t\t1440 rows  \t 1425 unique stops \n",
      "Perceived Race \t\t1462 rows  \t 1425 unique stops \n",
      "Perceived Disability \t\t1443 rows  \t 1425 unique stops \n",
      "Person Contraband Discovered  \t\t1449 rows  \t 1425 unique stops \n",
      "Result of Stop and Race \t\t1573 rows  \t 1425 unique stops \n"
     ]
    }
   ],
   "source": [
    "for sheet in raw_data.keys():\n",
    "    if \"Stop ID\" in raw_data[sheet].columns:\n",
    "        print(\"{} \\t\\t{} rows  \\t {} unique stops \".format(sheet, len(raw_data[sheet]), len(raw_data[sheet][\"Stop ID\"].unique())))"
   ]
  },
  {
   "cell_type": "markdown",
   "id": "changing-millennium",
   "metadata": {},
   "source": [
    "### Identify and drop stops where multiple people are involved in stops"
   ]
  },
  {
   "cell_type": "markdown",
   "id": "growing-necessity",
   "metadata": {},
   "source": [
    "Because we can't identify the actions taken per person when multiple people are stopped, or who was intended to be stopped in the case of a driver with passengers, we can't reliably use this data to say whether racial profiling occurred."
   ]
  },
  {
   "cell_type": "markdown",
   "id": "perceived-homeless",
   "metadata": {},
   "source": [
    "#### Identifying stops with multiple people"
   ]
  },
  {
   "cell_type": "code",
   "execution_count": 7,
   "id": "chronic-sheet",
   "metadata": {},
   "outputs": [],
   "source": [
    "person, race, disability, stops = raw_data['Person'], raw_data['Perceived Race'], raw_data['Perceived Disability'], raw_data['MAIN']"
   ]
  },
  {
   "cell_type": "code",
   "execution_count": 8,
   "id": "voluntary-afghanistan",
   "metadata": {},
   "outputs": [],
   "source": [
    "# Mult rows in Persons df\n",
    "mult_people_stopped = person['Stop ID'].duplicated(keep=False)\n",
    "bad_stops1 = person[mult_people_stopped]['Stop ID'].unique()\n",
    "\n",
    "# Mult rows in percieved Race df\n",
    "mult_people_stopped = race['Stop ID'].duplicated(keep=False)\n",
    "bad_stops2 = race[mult_people_stopped]['Stop ID'].unique()\n",
    "\n",
    "# Mult rows in percieved Disability df\n",
    "mult_people_stopped = disability['Stop ID'].duplicated(keep=False)\n",
    "bad_stops3 = disability[mult_people_stopped]['Stop ID'].unique()\n",
    "\n",
    "# Combine stop ids\n",
    "all_bad_stops = np.union1d(np.union1d(bad_stops1, bad_stops2), bad_stops3)"
   ]
  },
  {
   "cell_type": "code",
   "execution_count": 9,
   "id": "intelligent-rescue",
   "metadata": {},
   "outputs": [
    {
     "data": {
      "text/plain": [
       "14"
      ]
     },
     "execution_count": 9,
     "metadata": {},
     "output_type": "execute_result"
    }
   ],
   "source": [
    "len(bad_stops1)"
   ]
  },
  {
   "cell_type": "code",
   "execution_count": 10,
   "id": "ranking-cache",
   "metadata": {},
   "outputs": [
    {
     "data": {
      "text/plain": [
       "33"
      ]
     },
     "execution_count": 10,
     "metadata": {},
     "output_type": "execute_result"
    }
   ],
   "source": [
    "len(bad_stops2)"
   ]
  },
  {
   "cell_type": "code",
   "execution_count": 11,
   "id": "nuclear-strategy",
   "metadata": {},
   "outputs": [
    {
     "data": {
      "text/plain": [
       "17"
      ]
     },
     "execution_count": 11,
     "metadata": {},
     "output_type": "execute_result"
    }
   ],
   "source": [
    "len(bad_stops3)"
   ]
  },
  {
   "cell_type": "code",
   "execution_count": 12,
   "id": "level-earthquake",
   "metadata": {},
   "outputs": [
    {
     "data": {
      "text/plain": [
       "36"
      ]
     },
     "execution_count": 12,
     "metadata": {},
     "output_type": "execute_result"
    }
   ],
   "source": [
    "len(all_bad_stops)"
   ]
  },
  {
   "cell_type": "code",
   "execution_count": 13,
   "id": "sought-purple",
   "metadata": {},
   "outputs": [
    {
     "data": {
      "text/plain": [
       "0.02526315789473684"
      ]
     },
     "execution_count": 13,
     "metadata": {},
     "output_type": "execute_result"
    }
   ],
   "source": [
    "len(all_bad_stops) / len(stops)"
   ]
  },
  {
   "cell_type": "markdown",
   "id": "norwegian-interval",
   "metadata": {},
   "source": [
    "So we lose 2.5% of our data by dropping stops with multiple people."
   ]
  },
  {
   "cell_type": "markdown",
   "id": "piano-thumb",
   "metadata": {},
   "source": [
    "Note that a single row in the person sheet can have a one-to-many mapping with percieved race or percieved disability. Presumably, this is an error in the data collection. The officer may have remembered to jot down the percieved race of everyone but not the percieved age & gender of everyone. Take, for example, stop 1752 where one person's gender & age was jotted down, but then multiple races are jotted down for the same stop."
   ]
  },
  {
   "cell_type": "code",
   "execution_count": 14,
   "id": "integrated-beast",
   "metadata": {},
   "outputs": [
    {
     "data": {
      "text/html": [
       "<div>\n",
       "<style scoped>\n",
       "    .dataframe tbody tr th:only-of-type {\n",
       "        vertical-align: middle;\n",
       "    }\n",
       "\n",
       "    .dataframe tbody tr th {\n",
       "        vertical-align: top;\n",
       "    }\n",
       "\n",
       "    .dataframe thead th {\n",
       "        text-align: right;\n",
       "    }\n",
       "</style>\n",
       "<table border=\"1\" class=\"dataframe\">\n",
       "  <thead>\n",
       "    <tr style=\"text-align: right;\">\n",
       "      <th></th>\n",
       "      <th>Stop ID</th>\n",
       "      <th>Perceived Limited English</th>\n",
       "      <th>Perceived Age</th>\n",
       "      <th>Perceived Gender</th>\n",
       "      <th>Gender Nonconforming</th>\n",
       "      <th>Perceived LGBT</th>\n",
       "      <th>Unnamed: 6</th>\n",
       "      <th>Unnamed: 7</th>\n",
       "      <th>Unnamed: 8</th>\n",
       "      <th>Unnamed: 9</th>\n",
       "      <th>Unnamed: 10</th>\n",
       "      <th>Unnamed: 11</th>\n",
       "      <th>Unnamed: 12</th>\n",
       "      <th>Unnamed: 13</th>\n",
       "      <th>Unnamed: 14</th>\n",
       "    </tr>\n",
       "  </thead>\n",
       "  <tbody>\n",
       "    <tr>\n",
       "      <th>857</th>\n",
       "      <td>1752</td>\n",
       "      <td>No</td>\n",
       "      <td>25</td>\n",
       "      <td>Male</td>\n",
       "      <td>No</td>\n",
       "      <td>No</td>\n",
       "      <td>NaN</td>\n",
       "      <td>NaN</td>\n",
       "      <td>NaN</td>\n",
       "      <td>NaN</td>\n",
       "      <td>NaN</td>\n",
       "      <td>NaN</td>\n",
       "      <td>NaN</td>\n",
       "      <td>NaN</td>\n",
       "      <td>NaN</td>\n",
       "    </tr>\n",
       "  </tbody>\n",
       "</table>\n",
       "</div>"
      ],
      "text/plain": [
       "     Stop ID Perceived Limited English  Perceived Age Perceived Gender  \\\n",
       "857     1752                        No             25             Male   \n",
       "\n",
       "    Gender Nonconforming Perceived LGBT  Unnamed: 6  Unnamed: 7 Unnamed: 8  \\\n",
       "857                   No             No         NaN         NaN        NaN   \n",
       "\n",
       "    Unnamed: 9  Unnamed: 10 Unnamed: 11 Unnamed: 12  Unnamed: 13  Unnamed: 14  \n",
       "857        NaN          NaN         NaN         NaN          NaN          NaN  "
      ]
     },
     "execution_count": 14,
     "metadata": {},
     "output_type": "execute_result"
    }
   ],
   "source": [
    "person.query('`Stop ID` == 1752')"
   ]
  },
  {
   "cell_type": "code",
   "execution_count": 15,
   "id": "offensive-adjustment",
   "metadata": {},
   "outputs": [
    {
     "data": {
      "text/html": [
       "<div>\n",
       "<style scoped>\n",
       "    .dataframe tbody tr th:only-of-type {\n",
       "        vertical-align: middle;\n",
       "    }\n",
       "\n",
       "    .dataframe tbody tr th {\n",
       "        vertical-align: top;\n",
       "    }\n",
       "\n",
       "    .dataframe thead th {\n",
       "        text-align: right;\n",
       "    }\n",
       "</style>\n",
       "<table border=\"1\" class=\"dataframe\">\n",
       "  <thead>\n",
       "    <tr style=\"text-align: right;\">\n",
       "      <th></th>\n",
       "      <th>Stop ID</th>\n",
       "      <th>Perceived Race</th>\n",
       "    </tr>\n",
       "  </thead>\n",
       "  <tbody>\n",
       "    <tr>\n",
       "      <th>872</th>\n",
       "      <td>1752</td>\n",
       "      <td>White</td>\n",
       "    </tr>\n",
       "    <tr>\n",
       "      <th>873</th>\n",
       "      <td>1752</td>\n",
       "      <td>Asian</td>\n",
       "    </tr>\n",
       "    <tr>\n",
       "      <th>874</th>\n",
       "      <td>1752</td>\n",
       "      <td>Black/African American</td>\n",
       "    </tr>\n",
       "  </tbody>\n",
       "</table>\n",
       "</div>"
      ],
      "text/plain": [
       "     Stop ID          Perceived Race\n",
       "872     1752                   White\n",
       "873     1752                   Asian\n",
       "874     1752  Black/African American"
      ]
     },
     "execution_count": 15,
     "metadata": {},
     "output_type": "execute_result"
    }
   ],
   "source": [
    "race.query('`Stop ID` == 1752')"
   ]
  },
  {
   "cell_type": "code",
   "execution_count": 16,
   "id": "established-commander",
   "metadata": {},
   "outputs": [
    {
     "data": {
      "text/html": [
       "<div>\n",
       "<style scoped>\n",
       "    .dataframe tbody tr th:only-of-type {\n",
       "        vertical-align: middle;\n",
       "    }\n",
       "\n",
       "    .dataframe tbody tr th {\n",
       "        vertical-align: top;\n",
       "    }\n",
       "\n",
       "    .dataframe thead th {\n",
       "        text-align: right;\n",
       "    }\n",
       "</style>\n",
       "<table border=\"1\" class=\"dataframe\">\n",
       "  <thead>\n",
       "    <tr style=\"text-align: right;\">\n",
       "      <th></th>\n",
       "      <th>Stop ID</th>\n",
       "      <th>Perceived Or Known Disability</th>\n",
       "    </tr>\n",
       "  </thead>\n",
       "  <tbody>\n",
       "    <tr>\n",
       "      <th>858</th>\n",
       "      <td>1752</td>\n",
       "      <td>None</td>\n",
       "    </tr>\n",
       "  </tbody>\n",
       "</table>\n",
       "</div>"
      ],
      "text/plain": [
       "     Stop ID Perceived Or Known Disability\n",
       "858     1752                          None"
      ]
     },
     "execution_count": 16,
     "metadata": {},
     "output_type": "execute_result"
    }
   ],
   "source": [
    "disability.query('`Stop ID` == 1752')"
   ]
  },
  {
   "cell_type": "markdown",
   "id": "commercial-alarm",
   "metadata": {},
   "source": [
    "#### Dropping stops with multiple people"
   ]
  },
  {
   "cell_type": "code",
   "execution_count": 17,
   "id": "considered-miami",
   "metadata": {},
   "outputs": [],
   "source": [
    "# Drop unnamed columns. TODO: Find more systematic way of doing this. \n",
    "person = person.iloc[:, :6]"
   ]
  },
  {
   "cell_type": "code",
   "execution_count": 18,
   "id": "solid-plymouth",
   "metadata": {},
   "outputs": [],
   "source": [
    "# Drop stops with multiple people stopped\n",
    "person = person[~person['Stop ID'].isin(all_bad_stops)]"
   ]
  },
  {
   "cell_type": "code",
   "execution_count": 19,
   "id": "scheduled-arrest",
   "metadata": {},
   "outputs": [
    {
     "data": {
      "text/plain": [
       "(1389, 6)"
      ]
     },
     "execution_count": 19,
     "metadata": {},
     "output_type": "execute_result"
    }
   ],
   "source": [
    "person.shape"
   ]
  },
  {
   "cell_type": "code",
   "execution_count": 21,
   "id": "ultimate-keeping",
   "metadata": {},
   "outputs": [],
   "source": [
    "df = person.merge(race, how='left', on='Stop ID')"
   ]
  },
  {
   "cell_type": "code",
   "execution_count": 22,
   "id": "starting-kennedy",
   "metadata": {},
   "outputs": [],
   "source": [
    "df = df.merge(disability, how='left', on='Stop ID')"
   ]
  },
  {
   "cell_type": "code",
   "execution_count": 23,
   "id": "broad-enclosure",
   "metadata": {},
   "outputs": [
    {
     "data": {
      "text/plain": [
       "(1389, 8)"
      ]
     },
     "execution_count": 23,
     "metadata": {},
     "output_type": "execute_result"
    }
   ],
   "source": [
    "df.shape"
   ]
  },
  {
   "cell_type": "code",
   "execution_count": 24,
   "id": "distant-asset",
   "metadata": {},
   "outputs": [],
   "source": [
    "df = df.merge(raw_data['MAIN'], how='left', on='Stop ID')"
   ]
  },
  {
   "cell_type": "code",
   "execution_count": 25,
   "id": "fifth-christmas",
   "metadata": {},
   "outputs": [
    {
     "data": {
      "text/plain": [
       "(1389, 12)"
      ]
     },
     "execution_count": 25,
     "metadata": {},
     "output_type": "execute_result"
    }
   ],
   "source": [
    "df.shape"
   ]
  },
  {
   "cell_type": "code",
   "execution_count": 26,
   "id": "opponent-mixer",
   "metadata": {},
   "outputs": [
    {
     "data": {
      "text/plain": [
       "Index(['Stop ID', 'Perceived Limited English', 'Perceived Age',\n",
       "       'Perceived Gender', 'Gender Nonconforming', 'Perceived LGBT',\n",
       "       'Perceived Race', 'Perceived Or Known Disability', 'Stop Date Time',\n",
       "       'Stop Duration', 'Stop In Response To Calls for Service', 'Street'],\n",
       "      dtype='object')"
      ]
     },
     "execution_count": 26,
     "metadata": {},
     "output_type": "execute_result"
    }
   ],
   "source": [
    "df.columns"
   ]
  },
  {
   "cell_type": "markdown",
   "id": "thorough-compound",
   "metadata": {},
   "source": [
    "#### Actions taken dataframe"
   ]
  },
  {
   "cell_type": "code",
   "execution_count": 27,
   "id": "graphic-cancer",
   "metadata": {},
   "outputs": [],
   "source": [
    "actions = raw_data['ACTIONS TAKEN']"
   ]
  },
  {
   "cell_type": "code",
   "execution_count": 28,
   "id": "alert-acrylic",
   "metadata": {},
   "outputs": [
    {
     "data": {
      "text/plain": [
       "Index(['Stop ID', 'Action Taken During Stop', 'Person Search Consent Given',\n",
       "       'Property Search Consent Given'],\n",
       "      dtype='object')"
      ]
     },
     "execution_count": 28,
     "metadata": {},
     "output_type": "execute_result"
    }
   ],
   "source": [
    "actions.columns"
   ]
  },
  {
   "cell_type": "code",
   "execution_count": 29,
   "id": "considerable-password",
   "metadata": {},
   "outputs": [],
   "source": [
    "actions = actions[~actions['Stop ID'].isin(all_bad_stops)]"
   ]
  },
  {
   "cell_type": "code",
   "execution_count": 30,
   "id": "amazing-european",
   "metadata": {},
   "outputs": [],
   "source": [
    "# Get all actions for a stop\n",
    "actions = pd.get_dummies(actions).groupby('Stop ID').sum()"
   ]
  },
  {
   "cell_type": "code",
   "execution_count": 31,
   "id": "bigger-heating",
   "metadata": {},
   "outputs": [],
   "source": [
    "# Remove columns for saying 'no' to request for consent to search. It's redundant.\n",
    "to_drop = actions.columns[actions.columns.str.endswith('Given_No')]"
   ]
  },
  {
   "cell_type": "code",
   "execution_count": 32,
   "id": "casual-holiday",
   "metadata": {},
   "outputs": [],
   "source": [
    "actions = actions.drop(to_drop, axis=1)"
   ]
  },
  {
   "cell_type": "code",
   "execution_count": 33,
   "id": "powered-latino",
   "metadata": {},
   "outputs": [
    {
     "data": {
      "text/plain": [
       "(1389, 17)"
      ]
     },
     "execution_count": 33,
     "metadata": {},
     "output_type": "execute_result"
    }
   ],
   "source": [
    "actions.shape"
   ]
  },
  {
   "cell_type": "markdown",
   "id": "pediatric-clone",
   "metadata": {},
   "source": [
    "### Reason for stop"
   ]
  },
  {
   "cell_type": "code",
   "execution_count": 35,
   "id": "valuable-florist",
   "metadata": {},
   "outputs": [],
   "source": [
    "motive = raw_data['Reason For Stop']"
   ]
  },
  {
   "cell_type": "code",
   "execution_count": 36,
   "id": "south-avatar",
   "metadata": {},
   "outputs": [],
   "source": [
    "motive = pd.get_dummies(motive)"
   ]
  },
  {
   "cell_type": "markdown",
   "id": "upper-angola",
   "metadata": {},
   "source": [
    "### Result of stop"
   ]
  },
  {
   "cell_type": "code",
   "execution_count": 37,
   "id": "occasional-bundle",
   "metadata": {},
   "outputs": [],
   "source": [
    "result = raw_data['Result of Stop']"
   ]
  },
  {
   "cell_type": "code",
   "execution_count": 38,
   "id": "portuguese-lodging",
   "metadata": {},
   "outputs": [],
   "source": [
    "result = pd.get_dummies(result)"
   ]
  },
  {
   "cell_type": "markdown",
   "id": "based-external",
   "metadata": {},
   "source": [
    "### Contraband"
   ]
  },
  {
   "cell_type": "code",
   "execution_count": 39,
   "id": "correct-riverside",
   "metadata": {},
   "outputs": [],
   "source": [
    "contraband = raw_data['Person Contraband Discovered ']"
   ]
  },
  {
   "cell_type": "code",
   "execution_count": 40,
   "id": "adult-trouble",
   "metadata": {},
   "outputs": [],
   "source": [
    "contraband = pd.get_dummies(contraband)"
   ]
  },
  {
   "cell_type": "markdown",
   "id": "indoor-fitness",
   "metadata": {},
   "source": [
    "### Merge"
   ]
  },
  {
   "cell_type": "code",
   "execution_count": 41,
   "id": "parallel-pursuit",
   "metadata": {},
   "outputs": [],
   "source": [
    "df = df.merge(actions, how='left', on='Stop ID')"
   ]
  },
  {
   "cell_type": "code",
   "execution_count": 42,
   "id": "induced-period",
   "metadata": {},
   "outputs": [],
   "source": [
    "df = df.merge(motive, how='left', on='Stop ID')"
   ]
  },
  {
   "cell_type": "code",
   "execution_count": 43,
   "id": "greater-departure",
   "metadata": {},
   "outputs": [],
   "source": [
    "df = df.merge(result, how='left', on='Stop ID')"
   ]
  },
  {
   "cell_type": "code",
   "execution_count": 44,
   "id": "included-jacob",
   "metadata": {},
   "outputs": [],
   "source": [
    "df = df.merge(contraband, how='left', on='Stop ID')"
   ]
  },
  {
   "cell_type": "markdown",
   "id": "driving-plymouth",
   "metadata": {},
   "source": [
    "#### It's all merged! Now to simplify the above to make it digestible..."
   ]
  },
  {
   "cell_type": "code",
   "execution_count": null,
   "id": "coated-supervision",
   "metadata": {},
   "outputs": [],
   "source": []
  },
  {
   "cell_type": "code",
   "execution_count": null,
   "id": "western-receptor",
   "metadata": {},
   "outputs": [],
   "source": [
    "for sid in df['Stop ID'].unique()[:30]:\n",
    "    sid_acts = actions[actions['Stop ID'] == sid]\n",
    "    if sid_acts.shape[0] > 1:\n",
    "        print(sid_acts)"
   ]
  },
  {
   "cell_type": "code",
   "execution_count": null,
   "id": "strategic-notion",
   "metadata": {},
   "outputs": [],
   "source": [
    "for sheet in raw_data:\n",
    "    print('sheet', sheet)\n",
    "    for c in raw_data[sheet].columns:\n",
    "        print('\\t' + c)"
   ]
  },
  {
   "cell_type": "code",
   "execution_count": null,
   "id": "fifteen-radiation",
   "metadata": {},
   "outputs": [],
   "source": [
    "raw_data['Reason For Stop']"
   ]
  },
  {
   "cell_type": "code",
   "execution_count": null,
   "id": "4d84afe2",
   "metadata": {},
   "outputs": [],
   "source": [
    "data = raw_data['MAIN']\n",
    "sheets_to_merge=['ACTIONS TAKEN', 'BASIS FOR SEARCH', 'Reason For Stop', \n",
    "                 'Result of Stop', 'Person', 'Perceived Race', \n",
    "                 'Perceived Disability', 'Person Contraband Discovered ']\n",
    "for sheet in sheets_to_merge:\n",
    "    data = data.merge(raw_data[sheet], how=\"inner\", on=\"Stop ID\")"
   ]
  },
  {
   "cell_type": "code",
   "execution_count": null,
   "id": "687b1d8b",
   "metadata": {},
   "outputs": [],
   "source": [
    "data.keys()"
   ]
  },
  {
   "cell_type": "code",
   "execution_count": null,
   "id": "98bb0e98",
   "metadata": {},
   "outputs": [],
   "source": [
    "data"
   ]
  },
  {
   "cell_type": "code",
   "execution_count": null,
   "id": "1b27ba57",
   "metadata": {},
   "outputs": [],
   "source": [
    "len(data)"
   ]
  },
  {
   "cell_type": "code",
   "execution_count": null,
   "id": "9f1c306e",
   "metadata": {},
   "outputs": [],
   "source": [
    "len(data[\"Stop ID\"].unique())"
   ]
  },
  {
   "cell_type": "code",
   "execution_count": null,
   "id": "1451e583",
   "metadata": {
    "scrolled": true
   },
   "outputs": [],
   "source": [
    "data[data[\"Stop ID\"] == 85].drop_duplicates()"
   ]
  },
  {
   "cell_type": "code",
   "execution_count": null,
   "id": "82206303",
   "metadata": {},
   "outputs": [],
   "source": [
    "data[\"Result Of Stop\"].value_counts()"
   ]
  },
  {
   "cell_type": "code",
   "execution_count": null,
   "id": "b7ed22b2",
   "metadata": {},
   "outputs": [],
   "source": [
    "data[\"Stop ID\"].value_counts()"
   ]
  },
  {
   "cell_type": "code",
   "execution_count": null,
   "id": "0c1c0147",
   "metadata": {},
   "outputs": [],
   "source": [
    "data.drop_duplicates()[\"Stop ID\"].value_counts()"
   ]
  },
  {
   "cell_type": "code",
   "execution_count": null,
   "id": "3a26b416",
   "metadata": {},
   "outputs": [],
   "source": [
    "data[data[\"Stop ID\"] == 2217]"
   ]
  },
  {
   "cell_type": "code",
   "execution_count": null,
   "id": "851020ed",
   "metadata": {},
   "outputs": [],
   "source": []
  }
 ],
 "metadata": {
  "kernelspec": {
   "display_name": "Python 3",
   "language": "python",
   "name": "python3"
  },
  "language_info": {
   "codemirror_mode": {
    "name": "ipython",
    "version": 3
   },
   "file_extension": ".py",
   "mimetype": "text/x-python",
   "name": "python",
   "nbconvert_exporter": "python",
   "pygments_lexer": "ipython3",
   "version": "3.8.2"
  }
 },
 "nbformat": 4,
 "nbformat_minor": 5
}
