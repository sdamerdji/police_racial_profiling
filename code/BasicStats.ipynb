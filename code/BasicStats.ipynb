{
 "cells": [
  {
   "cell_type": "markdown",
   "id": "fd62b4a2-7ccc-4f96-b939-7ed633186367",
   "metadata": {},
   "source": [
    "# Basic Statistical Analysis"
   ]
  },
  {
   "cell_type": "markdown",
   "id": "75f14e8c-8965-49e8-b6bd-ca72680afaa6",
   "metadata": {},
   "source": [
    "The most fundamental analysis we can do looks at stop rates per capita. How many times per year is a person stopped by the police, on average? How does it vary by race?"
   ]
  },
  {
   "cell_type": "code",
   "execution_count": 1,
   "id": "1f53bf8a-4427-4927-ad27-04452b3ed001",
   "metadata": {},
   "outputs": [],
   "source": [
    "import pandas as pd\n",
    "import numpy as np\n",
    "from datetime import datetime\n",
    "\n",
    "from astral import Observer\n",
    "from astral.sun import sun\n",
    "from pytz import timezone\n",
    "from timezonefinder import TimezoneFinder\n",
    "import statsmodels.api as sm\n",
    "import statsmodels.formula.api as smf"
   ]
  },
  {
   "cell_type": "code",
   "execution_count": 2,
   "id": "5a73841b-892c-4830-9105-4b7037fbf7ff",
   "metadata": {},
   "outputs": [],
   "source": [
    "sf = pd.read_csv('../data/raw_data/san_francisco.csv', low_memory=False)"
   ]
  },
  {
   "cell_type": "code",
   "execution_count": 3,
   "id": "eaa18690-a776-43b8-81f9-a8eeda33fe06",
   "metadata": {},
   "outputs": [
    {
     "name": "stdout",
     "output_type": "stream",
     "text": [
      "raw_row_number\n",
      "date\n",
      "time\n",
      "location\n",
      "lat\n",
      "lng\n",
      "district\n",
      "subject_age\n",
      "subject_race\n",
      "subject_sex\n",
      "type\n",
      "arrest_made\n",
      "citation_issued\n",
      "warning_issued\n",
      "outcome\n",
      "contraband_found\n",
      "search_conducted\n",
      "search_vehicle\n",
      "search_basis\n",
      "reason_for_stop\n",
      "raw_search_vehicle_description\n",
      "raw_result_of_contact_description\n"
     ]
    }
   ],
   "source": [
    "for col in sf.columns:\n",
    "    print(col)"
   ]
  },
  {
   "cell_type": "code",
   "execution_count": 5,
   "id": "a405993b-1aad-44c6-aa6c-2a48235a89ef",
   "metadata": {},
   "outputs": [
    {
     "data": {
      "text/plain": [
       "(905070, 22)"
      ]
     },
     "execution_count": 5,
     "metadata": {},
     "output_type": "execute_result"
    }
   ],
   "source": [
    "sf.shape"
   ]
  },
  {
   "cell_type": "markdown",
   "id": "5bbab2a0-9efe-43e4-bfac-92bb6bc73001",
   "metadata": {},
   "source": [
    "Let's add up all the 900,000+ stops by race of the person stopped"
   ]
  },
  {
   "cell_type": "code",
   "execution_count": 5,
   "id": "2de93715-92a5-41b6-867d-df9a352095af",
   "metadata": {},
   "outputs": [
    {
     "data": {
      "text/plain": [
       "white                     372318\n",
       "asian/pacific islander    157684\n",
       "black                     152196\n",
       "hispanic                  116014\n",
       "other                     106858\n",
       "Name: subject_race, dtype: int64"
      ]
     },
     "execution_count": 5,
     "metadata": {},
     "output_type": "execute_result"
    }
   ],
   "source": [
    "sf[\"subject_race\"].value_counts()"
   ]
  },
  {
   "cell_type": "code",
   "execution_count": 6,
   "id": "ad1d9da8-0e59-4c4a-882a-b41a6f67a01d",
   "metadata": {},
   "outputs": [],
   "source": [
    "stop_by_race = sf[\"subject_race\"].value_counts()"
   ]
  },
  {
   "cell_type": "code",
   "execution_count": 7,
   "id": "3966a2cf-d425-4f3f-8073-20ad48a7c627",
   "metadata": {},
   "outputs": [],
   "source": [
    "stop_by_race_frac = stop_by_race / sf.shape[0]"
   ]
  },
  {
   "cell_type": "code",
   "execution_count": 8,
   "id": "e6950003-507f-41cd-bb84-6227e9a661e8",
   "metadata": {},
   "outputs": [],
   "source": [
    "sf_pop_list = [.402, .36+.005, .056, .152, .007+.045\n",
    "              ] # https://www.census.gov/quickfacts/sanfranciscocountycalifornia"
   ]
  },
  {
   "cell_type": "code",
   "execution_count": 9,
   "id": "6aa15c7a-71b1-4a45-8d37-72959e000009",
   "metadata": {},
   "outputs": [],
   "source": [
    "sf_pop = pd.Series(sf_pop_list, index = ['white', 'asian/pacific islander', 'black', 'hispanic', 'other'])"
   ]
  },
  {
   "cell_type": "code",
   "execution_count": 10,
   "id": "8a41d5b2-f25a-4f7d-a4ca-ed5a81b14c71",
   "metadata": {},
   "outputs": [
    {
     "data": {
      "text/plain": [
       "white                     0.402\n",
       "asian/pacific islander    0.365\n",
       "black                     0.056\n",
       "hispanic                  0.152\n",
       "other                     0.052\n",
       "dtype: float64"
      ]
     },
     "execution_count": 10,
     "metadata": {},
     "output_type": "execute_result"
    }
   ],
   "source": [
    "sf_pop"
   ]
  },
  {
   "cell_type": "code",
   "execution_count": 11,
   "id": "ff5137e8-4649-4f06-a84f-92de0f467b88",
   "metadata": {},
   "outputs": [
    {
     "data": {
      "text/plain": [
       "white                     1.023307\n",
       "asian/pacific islander    0.477323\n",
       "black                     3.002846\n",
       "hispanic                  0.843305\n",
       "other                     2.270500\n",
       "dtype: float64"
      ]
     },
     "execution_count": 11,
     "metadata": {},
     "output_type": "execute_result"
    }
   ],
   "source": [
    "stop_by_race_frac / sf_pop"
   ]
  },
  {
   "cell_type": "markdown",
   "id": "86f524a0-c162-4d36-a1b8-46859c20a2db",
   "metadata": {},
   "source": [
    "So, on average, Blacks are stopped 3 times per year, whites are stopped once per year, hispanics are stopped 0.84 times per year, and Asians are stopped 0.48 times per year."
   ]
  },
  {
   "cell_type": "markdown",
   "id": "2eefb648-8519-4de2-b764-e142fc9dc72b",
   "metadata": {},
   "source": [
    "### Complications to this quick analysis"
   ]
  },
  {
   "cell_type": "markdown",
   "id": "0a14fafd-954d-4af2-bad9-30edb197a0c4",
   "metadata": {},
   "source": [
    "There are a lot of ways that this quick analysis could miss something. The first one is that it used the population of the city. What if there were a lot of people passing through the town, perhaps working there but not living there? If the demographics of the commuters were different than the residents, and if the police were equally likely to pull anyone over, then we would see differences in the stop rates for completely innocent reasons."
   ]
  },
  {
   "cell_type": "markdown",
   "id": "2924e3f8-6dc6-4d25-abf5-429f0ced4daf",
   "metadata": {},
   "source": [
    "How many Black commuters would there need to be in order to make the rates match?"
   ]
  },
  {
   "cell_type": "code",
   "execution_count": 12,
   "id": "19d0cabd-e2e5-4fc9-ae90-9660bba2622c",
   "metadata": {},
   "outputs": [],
   "source": [
    "pop_by_race = 881549*sf_pop"
   ]
  },
  {
   "cell_type": "code",
   "execution_count": 14,
   "id": "79b8a4f0-9f3b-4dbb-8a36-33a6ec3d0f96",
   "metadata": {},
   "outputs": [],
   "source": [
    "white_stops_per_person = stop_by_race[\"white\"] / pop_by_race[\"white\"]"
   ]
  },
  {
   "cell_type": "code",
   "execution_count": 15,
   "id": "83dc4c17-be3d-4b9b-ab8d-33fa4375fa60",
   "metadata": {},
   "outputs": [
    {
     "data": {
      "text/plain": [
       "1.0506099820934258"
      ]
     },
     "execution_count": 15,
     "metadata": {},
     "output_type": "execute_result"
    }
   ],
   "source": [
    "white_stops_per_person"
   ]
  },
  {
   "cell_type": "code",
   "execution_count": 19,
   "id": "be85d405-3289-4d16-a0c1-9f4c82fa35ad",
   "metadata": {},
   "outputs": [],
   "source": [
    "black_commuters_required = white_stops_per_person * stop_by_race[\"black\"]"
   ]
  },
  {
   "cell_type": "code",
   "execution_count": 20,
   "id": "b0717e3d-df22-41f8-8d69-c76d9cf8f77c",
   "metadata": {},
   "outputs": [
    {
     "data": {
      "text/plain": [
       "110531.89283469104"
      ]
     },
     "execution_count": 20,
     "metadata": {},
     "output_type": "execute_result"
    }
   ],
   "source": [
    "black_commuters_required - pop_by_race[\"black\"]"
   ]
  },
  {
   "cell_type": "markdown",
   "id": "c95e35a7-bf8a-4cc7-9e7a-7ec632adfa74",
   "metadata": {},
   "source": [
    "So, if 110,000 Blacks represented the only commuters into San Francisco, that would be enough to make up for the discrepancy. Of course, there are no where near 110,000 Black commuters to SF. And the real number will be even larger, because of course there are commuters of other races. We could work out the detailed numbers, but there's no need -- the explanation that the stop discrepancy is due to non-residents cannot possibly be true."
   ]
  },
  {
   "cell_type": "markdown",
   "id": "df824316-ae9b-4e9d-b4a8-956c5be4a808",
   "metadata": {},
   "source": [
    "Of course, there are many other possible explanations. Perhaps people of different races commit traffic violations at different rates. To address these complications, we'll need more sophisticated methods. But for San Francisco in 2019, the apparent discrepancy is large. It's clear that any innocent explanation is going to have to do a lot of work to prove itself. "
   ]
  },
  {
   "cell_type": "code",
   "execution_count": null,
   "id": "d10e29ad-c5eb-47f0-9374-925fa4d2be93",
   "metadata": {},
   "outputs": [],
   "source": []
  }
 ],
 "metadata": {
  "kernelspec": {
   "display_name": "Python 3 (ipykernel)",
   "language": "python",
   "name": "python3"
  },
  "language_info": {
   "codemirror_mode": {
    "name": "ipython",
    "version": 3
   },
   "file_extension": ".py",
   "mimetype": "text/x-python",
   "name": "python",
   "nbconvert_exporter": "python",
   "pygments_lexer": "ipython3",
   "version": "3.10.4"
  }
 },
 "nbformat": 4,
 "nbformat_minor": 5
}
