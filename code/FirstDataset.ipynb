{
 "cells": [
  {
   "cell_type": "markdown",
   "id": "77bfe4bb",
   "metadata": {},
   "source": [
    " # Los Altos Police First Dataset"
   ]
  },
  {
   "cell_type": "markdown",
   "id": "0d9de41b",
   "metadata": {},
   "source": [
    "This is a look at the first Los Altos Police Department dataset. Our analyses are still in flux, but this will show where we are right now."
   ]
  },
  {
   "cell_type": "markdown",
   "id": "b75524a6",
   "metadata": {},
   "source": [
    "The RIPA regulations require that each police department publish data on stops. The Los Altos dataset we will be looking at can be found here. https://www.losaltosca.gov/police/page/racial-and-identity-profiling-act-ripa-data\n",
    "\n",
    "The data is in the form of a large table, where each row represents an encounter, and there are columns with both demographic data about the individual, and details about the actions. Each stop has a unique stop identification number (stop_id)."
   ]
  },
  {
   "cell_type": "code",
   "execution_count": 1,
   "id": "9942e05a",
   "metadata": {},
   "outputs": [],
   "source": [
    "import pandas as pd\n",
    "import numpy as np"
   ]
  },
  {
   "cell_type": "markdown",
   "id": "215c5d21",
   "metadata": {},
   "source": [
    "This csv file is a slight modification of the raw data from LAPD, where the column names are standardized."
   ]
  },
  {
   "cell_type": "code",
   "execution_count": 2,
   "id": "ddedbdc4",
   "metadata": {},
   "outputs": [],
   "source": [
    "df = pd.read_csv(\"test_df_2.csv\")\n",
    "# index value is in this temp csv\n",
    "df.drop(df.columns[0], axis=1, inplace=True)\n",
    "df[\"date_time\"] = pd.to_datetime(df[\"date_time\"], format=\"%m/%d/%Y %H:%M\")"
   ]
  },
  {
   "cell_type": "markdown",
   "id": "6a734ce4",
   "metadata": {},
   "source": [
    "Here are all the columns in the table:"
   ]
  },
  {
   "cell_type": "code",
   "execution_count": 3,
   "id": "4ee3069a",
   "metadata": {},
   "outputs": [
    {
     "data": {
      "text/plain": [
       "Index(['stop_id', 'date_time', 'duration', 'call_for_service', 'location',\n",
       "       'actions_taken', 'Person Search Consent Given',\n",
       "       'Property Search Consent Given', 'basis_for_search', 'reason_for_stop',\n",
       "       'result', 'limited_english', 'age', 'gender', 'Gender Nonconforming',\n",
       "       'lgbt', 'race', 'disabilities', 'evidence_found'],\n",
       "      dtype='object')"
      ]
     },
     "execution_count": 3,
     "metadata": {},
     "output_type": "execute_result"
    }
   ],
   "source": [
    "df.keys()"
   ]
  },
  {
   "cell_type": "markdown",
   "id": "bdc5233f",
   "metadata": {},
   "source": [
    "## Data integrity"
   ]
  },
  {
   "cell_type": "markdown",
   "id": "49f7e542",
   "metadata": {},
   "source": [
    "First we will run some basic integrity tests, to make sure there is nothing weird about the dataset."
   ]
  },
  {
   "cell_type": "code",
   "execution_count": 4,
   "id": "3c08fe73",
   "metadata": {},
   "outputs": [],
   "source": [
    "import integrity.compliance as comp"
   ]
  },
  {
   "cell_type": "code",
   "execution_count": 5,
   "id": "32c90234",
   "metadata": {},
   "outputs": [
    {
     "name": "stdout",
     "output_type": "stream",
     "text": [
      "All required fields exist: \u001b[31m\u001b[1mFAIL\u001b[0m\n",
      "   Missing fields: {'property_seized'}\n",
      "   Extra fields:   {'Person Search Consent Given', 'Gender Nonconforming', 'Property Search Consent Given'}\n",
      "All stops unique: \u001b[31m\u001b[1mFAIL\u001b[0m\n",
      "   Total records:   16177\n",
      "   Unique stop_ids: 1425\n",
      "   Unique records:  2117\n",
      "   Duplicate stop_ids: [  72   72   85 ... 2266 2315 2328]\n"
     ]
    },
    {
     "data": {
      "text/plain": [
       "False"
      ]
     },
     "execution_count": 5,
     "metadata": {},
     "output_type": "execute_result"
    }
   ],
   "source": [
    "comp.verbose_checks(df)"
   ]
  },
  {
   "cell_type": "markdown",
   "id": "b0b030b0",
   "metadata": {},
   "source": [
    "There are two problems here.\n",
    "First, the LAPD data does not have all fields required by the regulations ( https://oag.ca.gov/sites/all/files/agweb/pdfs/ripa/stop-data-reg-final-text-110717.pdf)\n",
    "This may be because it wasn't collected, or it may be that it was just not included in the data export. We know that they are collecting the officer identification information to report to the state DOJ, but they are not making that public due to privacy concerns.\n",
    "\n",
    "Also, they seem be colleting some additional fields that are not required. That's okay with us.\n",
    "\n",
    "Second, there are some things going on with duplicate records. There are 14,060 records that are exact duplicates. We have no idea why that should happen; for the following analysis we'll just throw them away.\n",
    "\n",
    "The difference between the \"Unique records\" and \"Unique stop_ids\" appears to stem from two sources: 1) multiple people stopped together, resulting in one stop_id and multiple records and 2) multiple actions for the same person. \n",
    "\n",
    "We'll need to think carefully about some of the implications (\"Which person's race was considered when the stop was made?\")  For now, the following initial analysis just takes the first record as the relevant one, and throws out the rest."
   ]
  },
  {
   "cell_type": "markdown",
   "id": "c669e30c",
   "metadata": {},
   "source": [
    "We can try to estimate how many individuals are involved by using the demographic information."
   ]
  },
  {
   "cell_type": "code",
   "execution_count": 6,
   "id": "a217a26c",
   "metadata": {},
   "outputs": [],
   "source": [
    "dup_stops = np.unique(df[df[\"stop_id\"].duplicated(keep=False)][\"stop_id\"].values)\n",
    "individuals = [comp.count_individuals(df[df[\"stop_id\"] == id].copy()) for id in dup_stops]"
   ]
  },
  {
   "cell_type": "code",
   "execution_count": 7,
   "id": "741c7d22",
   "metadata": {},
   "outputs": [
    {
     "name": "stdout",
     "output_type": "stream",
     "text": [
      "In 153 stops with multiple records, 202 individuals appear to be involved\n",
      "Combined with the 1272 stops with only 1 record, that means 1474 people were likely stopped.\n"
     ]
    }
   ],
   "source": [
    "print(\"In {} stops with multiple records, {} individuals appear to be involved\".format(len(dup_stops), sum(individuals)))\n",
    "single_stops = len(df.drop_duplicates(subset=\"stop_id\", keep=False))\n",
    "print(\"Combined with the {} stops with only 1 record, that means {} people were likely stopped.\".format(single_stops, single_stops+sum(individuals)))"
   ]
  },
  {
   "cell_type": "markdown",
   "id": "f545898c",
   "metadata": {},
   "source": [
    "According the the LAPD website, the 1425 stops represent 1440 people, so in some cases we are overcounting. We will need to work with LAPD to get more information in the next release so we can sort this out."
   ]
  },
  {
   "cell_type": "code",
   "execution_count": 8,
   "id": "ad9e7ecf",
   "metadata": {},
   "outputs": [],
   "source": [
    "# only keep the first record for each stop_id\n",
    "df_uniq = df.drop_duplicates(subset=\"stop_id\", keep=\"first\")"
   ]
  },
  {
   "cell_type": "code",
   "execution_count": 9,
   "id": "3d8c9d73",
   "metadata": {},
   "outputs": [],
   "source": [
    "import integrity.temporal as tp"
   ]
  },
  {
   "cell_type": "markdown",
   "id": "9dda06a4",
   "metadata": {},
   "source": [
    "Now we are going to look at the timing of the stops, to make sure there is nothing weird. We'll look at the total duration of the dataset, we'll makes sure each stop comes after the previous stop_id, and we'll look for gaps and bunching."
   ]
  },
  {
   "cell_type": "code",
   "execution_count": 10,
   "id": "740b2210",
   "metadata": {
    "scrolled": true
   },
   "outputs": [
    {
     "name": "stdout",
     "output_type": "stream",
     "text": [
      "Sufficient time duration: \u001b[32m\u001b[1mPASS\u001b[0m\n",
      "    First stop: 2021-02-01 10:40:00\n",
      "    Last stop:  2021-07-31 23:36:00\n",
      "    Duration of data set: 180 days 12:56:00\n",
      "Stops are in proper time order: \u001b[32m\u001b[1mPASS\u001b[0m\n",
      "Check for unexpected data gaps: \u001b[31m\u001b[1mFAIL\u001b[0m\n",
      "Index:   Duration:\n",
      "3200:  1 days 12:44:00,   2021-02-27 19:43:00 to 2021-03-01 08:27:00\n",
      "4015:  1 days 02:09:00,   2021-03-03 04:04:00 to 2021-03-04 06:13:00\n",
      "4183:  1 days 01:23:00,   2021-03-12 12:58:00 to 2021-03-13 14:21:00\n",
      "4185:  1 days 05:51:00,   2021-03-14 03:43:00 to 2021-03-15 09:34:00\n",
      "5830:  1 days 01:24:00,   2021-04-03 04:25:00 to 2021-04-04 05:49:00\n",
      "13724:  1 days 00:39:00,   2021-04-20 09:25:00 to 2021-04-21 10:04:00\n",
      "13918:  1 days 11:25:00,   2021-05-07 22:26:00 to 2021-05-09 09:51:00\n",
      "14408:  1 days 00:47:00,   2021-05-28 14:34:00 to 2021-05-29 15:21:00\n",
      "15306:  1 days 00:02:00,   2021-06-04 20:19:00 to 2021-06-05 20:21:00\n",
      "15371:  1 days 02:32:00,   2021-06-13 08:33:00 to 2021-06-14 11:05:00\n",
      "15423:  1 days 10:42:00,   2021-06-17 08:01:00 to 2021-06-18 18:43:00\n",
      "15492:  1 days 02:03:00,   2021-06-24 20:38:00 to 2021-06-25 22:41:00\n",
      "15549:  1 days 00:38:00,   2021-07-02 19:28:00 to 2021-07-03 20:06:00\n",
      "15560:  1 days 16:19:00,   2021-07-05 01:07:00 to 2021-07-06 17:26:00\n",
      "15656:  1 days 20:19:00,   2021-07-10 23:45:00 to 2021-07-12 20:04:00\n",
      "16055:  1 days 10:06:00,   2021-07-19 00:48:00 to 2021-07-20 10:54:00\n",
      "16109:  2 days 13:57:00,   2021-07-23 15:29:00 to 2021-07-26 05:26:00\n",
      "\n",
      "Check for excessive stops by hour: \u001b[32m\u001b[1mPASS\u001b[0m\n",
      "Check for excessive stops by day of month: \u001b[32m\u001b[1mPASS\u001b[0m\n",
      "Check for excessive stop days: \u001b[32m\u001b[1mPASS\u001b[0m\n",
      "Check for excessive weekday: \u001b[31m\u001b[1mFAIL\u001b[0m\n"
     ]
    },
    {
     "data": {
      "image/png": "[encoded data removed]",
      "text/plain": [
       "<Figure size 432x288 with 1 Axes>"
      ]
     },
     "metadata": {
      "needs_background": "light"
     },
     "output_type": "display_data"
    },
    {
     "name": "stdout",
     "output_type": "stream",
     "text": [
      "Weekdays with excessive stops: Index(['Wednesday', 'Thursday', 'Sunday', 'Saturday'], dtype='object')\n",
      "\n"
     ]
    },
    {
     "data": {
      "text/plain": [
       "False"
      ]
     },
     "execution_count": 10,
     "metadata": {},
     "output_type": "execute_result"
    }
   ],
   "source": [
    "tp.verbose_checks(df_uniq)"
   ]
  },
  {
   "cell_type": "markdown",
   "id": "8a77b54f",
   "metadata": {},
   "source": [
    "The first unusual thing we see here is quite a few periods where there are no stops at all. This test reports any time 24 hours go by without a single stop. On average, LAPD makes about 8 stops per day; so it's a little odd to see these periods of time with no stops."
   ]
  },
  {
   "cell_type": "markdown",
   "id": "9ad8001d",
   "metadata": {},
   "source": [
    "The next set of tests look for bunching of stops. Were there any particular days that had a lot more stops than expected, so much so that we think the data may be corrupted? In this case, the only one that got to extreme levels of difference was the \"Day of the Week\" stops. There were twice as many stops on Wednesdays and Thursdays as there were on the weekend. This likely reflects staffing and perhaps assignments. "
   ]
  },
  {
   "cell_type": "markdown",
   "id": "62b2463b",
   "metadata": {},
   "source": [
    "## Descriptive statistics"
   ]
  },
  {
   "cell_type": "markdown",
   "id": "f046de5b",
   "metadata": {},
   "source": [
    "Next we will compute some basic descriptive statistics on this dataset. "
   ]
  },
  {
   "cell_type": "markdown",
   "id": "3701dcf9",
   "metadata": {},
   "source": [
    "This chart shows some of the demographic breakdown of the dataset."
   ]
  },
  {
   "cell_type": "code",
   "execution_count": 11,
   "id": "18947014",
   "metadata": {},
   "outputs": [],
   "source": [
    "import plotting.lare_matplot as lmp"
   ]
  },
  {
   "cell_type": "code",
   "execution_count": 12,
   "id": "ca95cfb4",
   "metadata": {},
   "outputs": [
    {
     "data": {
      "image/png": "[encoded data removed]",
      "text/plain": [
       "<Figure size 432x288 with 1 Axes>"
      ]
     },
     "metadata": {
      "needs_background": "light"
     },
     "output_type": "display_data"
    }
   ],
   "source": [
    "lmp.plot_descriptive_bars(df_uniq)"
   ]
  },
  {
   "cell_type": "markdown",
   "id": "6143d537",
   "metadata": {},
   "source": [
    "Without context, it's hard to judge if these are reasonable or unreasonable. In the future, we will gather the data to compare these breakdowns to other towns, and for demographics to the population at large."
   ]
  },
  {
   "cell_type": "markdown",
   "id": "e6b51082",
   "metadata": {},
   "source": [
    "## Basic analysis"
   ]
  },
  {
   "cell_type": "markdown",
   "id": "db9bd8f8",
   "metadata": {},
   "source": [
    "The simplest way of looking at racial disparities it to just look at the number of stops by race, divided by the Los Altos population of that race. This tells us how many \"stops per capita\" there are by race.\n",
    "\n",
    "\"Simple\" methods nearly always miss nuance. Of course, the number of stops the police make depend on the number of people actually in Los Altos, not the number of people with a Los Altos address. So it's always possible that greater numbers of one race than another are In Los Altos without being counted in the population of Los Altos.\n",
    "\n",
    "Nevertheless, let's look at those raw numbers. We'll take the number of stops by race, and divide by the population by race."
   ]
  },
  {
   "cell_type": "code",
   "execution_count": 19,
   "id": "e827827c",
   "metadata": {},
   "outputs": [],
   "source": [
    "import analysis.populations as pop"
   ]
  },
  {
   "cell_type": "code",
   "execution_count": 20,
   "id": "53f90233",
   "metadata": {},
   "outputs": [],
   "source": [
    "la_pop = pop.get_population(\"Los Altos\")"
   ]
  },
  {
   "cell_type": "code",
   "execution_count": 21,
   "id": "542aca48",
   "metadata": {},
   "outputs": [
    {
     "data": {
      "text/plain": [
       "Asian                             1.035127\n",
       "Black/African American           11.550387\n",
       "Hispanic/Latino/a                 7.272950\n",
       "Middle Eastern or South Asian     2.018186\n",
       "Multiple                               NaN\n",
       "Native American                   6.230677\n",
       "Other                                  NaN\n",
       "Pacific Islander                       inf\n",
       "White                             1.000000\n",
       "dtype: float64"
      ]
     },
     "execution_count": 21,
     "metadata": {},
     "output_type": "execute_result"
    }
   ],
   "source": [
    "(df_uniq[\"race\"].value_counts()/la_pop)/(df_uniq[\"race\"].value_counts()[\"White\"]/la_pop[\"White\"])"
   ]
  },
  {
   "cell_type": "markdown",
   "id": "d2d9ecdb",
   "metadata": {},
   "source": [
    "This quick analysis implies that Black people are stopped 11.5x more often than Whites, and Hispanics 7.3x more often."
   ]
  },
  {
   "cell_type": "markdown",
   "id": "a07782d7",
   "metadata": {},
   "source": [
    "Another difficulty with this analysis is that population data is surprisingly hard to get. Hispanic origin is generally treated separately from race, and it's hard to know how to avoid double-counting."
   ]
  },
  {
   "cell_type": "code",
   "execution_count": 23,
   "id": "8f856758",
   "metadata": {
    "scrolled": true
   },
   "outputs": [
    {
     "name": "stdout",
     "output_type": "stream",
     "text": [
      "White people are stopped 0.033436707076402596 times per 6 months in Los Altos.\n"
     ]
    }
   ],
   "source": [
    "print(\"White people are stopped {} times per 6 months in Los Altos.\".format((df_uniq[\"race\"].value_counts()[\"White\"]/la_pop[\"White\"])))"
   ]
  },
  {
   "cell_type": "markdown",
   "id": "a8a26335",
   "metadata": {},
   "source": [
    "One very simple way to begin to analyze the data is to look at the ratios of various outcomes between races. Even though we don't yet know whether the total number of stops is biased, we can use these ratios to look for bias in outcomes."
   ]
  },
  {
   "cell_type": "markdown",
   "id": "848a7b58",
   "metadata": {},
   "source": [
    "Let's compare the \"results\" field outcomes between whites, and the combined Black and Hispanic stops. We combine Black and Hispanics to get better statistics."
   ]
  },
  {
   "cell_type": "code",
   "execution_count": 13,
   "id": "e6f4c830",
   "metadata": {},
   "outputs": [],
   "source": [
    "import analysis.ratios as rat"
   ]
  },
  {
   "cell_type": "code",
   "execution_count": 14,
   "id": "2d4f3ad5",
   "metadata": {},
   "outputs": [],
   "source": [
    "whites = rat.add_races(df_uniq, ['White'])\n",
    "black_hispanic = rat.add_races(df_uniq, ['Black/African American', 'Hispanic/Latino/a'])"
   ]
  },
  {
   "cell_type": "code",
   "execution_count": 15,
   "id": "002264cb",
   "metadata": {
    "scrolled": true
   },
   "outputs": [
    {
     "data": {
      "text/html": [
       "<div>\n",
       "<style scoped>\n",
       "    .dataframe tbody tr th:only-of-type {\n",
       "        vertical-align: middle;\n",
       "    }\n",
       "\n",
       "    .dataframe tbody tr th {\n",
       "        vertical-align: top;\n",
       "    }\n",
       "\n",
       "    .dataframe thead th {\n",
       "        text-align: right;\n",
       "    }\n",
       "</style>\n",
       "<table border=\"1\" class=\"dataframe\">\n",
       "  <thead>\n",
       "    <tr style=\"text-align: right;\">\n",
       "      <th></th>\n",
       "      <th>White</th>\n",
       "      <th>Black/Hispanic</th>\n",
       "      <th>Expected Black/Hispanic</th>\n",
       "      <th>Relative</th>\n",
       "    </tr>\n",
       "  </thead>\n",
       "  <tbody>\n",
       "    <tr>\n",
       "      <th>Citation for infraction</th>\n",
       "      <td>252</td>\n",
       "      <td>142.0</td>\n",
       "      <td>164.033727</td>\n",
       "      <td>0.865676</td>\n",
       "    </tr>\n",
       "    <tr>\n",
       "      <th>Contacted parent/legal guardian or other person responsible for the minor</th>\n",
       "      <td>2</td>\n",
       "      <td>1.0</td>\n",
       "      <td>1.301855</td>\n",
       "      <td>0.768135</td>\n",
       "    </tr>\n",
       "    <tr>\n",
       "      <th>Custodial Arrest pursuant to outstanding warrant</th>\n",
       "      <td>4</td>\n",
       "      <td>1.0</td>\n",
       "      <td>2.603710</td>\n",
       "      <td>0.384067</td>\n",
       "    </tr>\n",
       "    <tr>\n",
       "      <th>Custodial Arrest without warrant</th>\n",
       "      <td>5</td>\n",
       "      <td>9.0</td>\n",
       "      <td>3.254637</td>\n",
       "      <td>2.765285</td>\n",
       "    </tr>\n",
       "    <tr>\n",
       "      <th>Field interview card completed</th>\n",
       "      <td>4</td>\n",
       "      <td>3.0</td>\n",
       "      <td>2.603710</td>\n",
       "      <td>1.152202</td>\n",
       "    </tr>\n",
       "    <tr>\n",
       "      <th>In-field cite and release</th>\n",
       "      <td>8</td>\n",
       "      <td>13.0</td>\n",
       "      <td>5.207420</td>\n",
       "      <td>2.496438</td>\n",
       "    </tr>\n",
       "    <tr>\n",
       "      <th>No Action</th>\n",
       "      <td>34</td>\n",
       "      <td>28.0</td>\n",
       "      <td>22.131535</td>\n",
       "      <td>1.265163</td>\n",
       "    </tr>\n",
       "    <tr>\n",
       "      <th>Noncriminal transport or caretaking transport</th>\n",
       "      <td>1</td>\n",
       "      <td>2.0</td>\n",
       "      <td>0.650927</td>\n",
       "      <td>3.072539</td>\n",
       "    </tr>\n",
       "    <tr>\n",
       "      <th>Psychiatric hold</th>\n",
       "      <td>5</td>\n",
       "      <td>0.0</td>\n",
       "      <td>3.254637</td>\n",
       "      <td>0.000000</td>\n",
       "    </tr>\n",
       "    <tr>\n",
       "      <th>Warning (verbal or written)</th>\n",
       "      <td>278</td>\n",
       "      <td>187.0</td>\n",
       "      <td>180.957841</td>\n",
       "      <td>1.033390</td>\n",
       "    </tr>\n",
       "  </tbody>\n",
       "</table>\n",
       "</div>"
      ],
      "text/plain": [
       "                                                    White  Black/Hispanic  \\\n",
       "Citation for infraction                               252           142.0   \n",
       "Contacted parent/legal guardian or other person...      2             1.0   \n",
       "Custodial Arrest pursuant to outstanding warrant        4             1.0   \n",
       "Custodial Arrest without warrant                        5             9.0   \n",
       "Field interview card completed                          4             3.0   \n",
       "In-field cite and release                               8            13.0   \n",
       "No Action                                              34            28.0   \n",
       "Noncriminal transport or caretaking transport           1             2.0   \n",
       "Psychiatric hold                                        5             0.0   \n",
       "Warning (verbal or written)                           278           187.0   \n",
       "\n",
       "                                                    Expected Black/Hispanic  \\\n",
       "Citation for infraction                                          164.033727   \n",
       "Contacted parent/legal guardian or other person...                 1.301855   \n",
       "Custodial Arrest pursuant to outstanding warrant                   2.603710   \n",
       "Custodial Arrest without warrant                                   3.254637   \n",
       "Field interview card completed                                     2.603710   \n",
       "In-field cite and release                                          5.207420   \n",
       "No Action                                                         22.131535   \n",
       "Noncriminal transport or caretaking transport                      0.650927   \n",
       "Psychiatric hold                                                   3.254637   \n",
       "Warning (verbal or written)                                      180.957841   \n",
       "\n",
       "                                                    Relative  \n",
       "Citation for infraction                             0.865676  \n",
       "Contacted parent/legal guardian or other person...  0.768135  \n",
       "Custodial Arrest pursuant to outstanding warrant    0.384067  \n",
       "Custodial Arrest without warrant                    2.765285  \n",
       "Field interview card completed                      1.152202  \n",
       "In-field cite and release                           2.496438  \n",
       "No Action                                           1.265163  \n",
       "Noncriminal transport or caretaking transport       3.072539  \n",
       "Psychiatric hold                                    0.000000  \n",
       "Warning (verbal or written)                         1.033390  "
      ]
     },
     "execution_count": 15,
     "metadata": {},
     "output_type": "execute_result"
    }
   ],
   "source": [
    "rat.generate_relative_df(whites, black_hispanic, \"White\", \"Black/Hispanic\")"
   ]
  },
  {
   "cell_type": "markdown",
   "id": "170f2c7d",
   "metadata": {},
   "source": [
    "The \"Relative\" column here shows the frequency of that outcome for Blacks and Hispanics relative to Whites. So, given that they were stopped by the police, Blacks and Hispanics were arrested at 2.77x the frequency of Whites.\n",
    "\n",
    "Interestingly, Blacks and Hispanics were issued a \"Citation for infraction\" less often than Whites, and had \"No Action\" more often than Whites, *once they were already stopped.* This might be explained by police stopping Blacks and Hispanics with less justification, then not finding anything to cite them for."
   ]
  },
  {
   "cell_type": "code",
   "execution_count": 16,
   "id": "23db4863",
   "metadata": {},
   "outputs": [],
   "source": [
    "whites = rat.add_races(df_uniq, ['White'], field=\"actions_taken\")\n",
    "black_hispanic = rat.add_races(df_uniq, ['Black/African American', 'Hispanic/Latino/a'], field=\"actions_taken\")"
   ]
  },
  {
   "cell_type": "markdown",
   "id": "79239342",
   "metadata": {},
   "source": [
    "We can compute similar ratios based on the \"Actions Taken\" field. However we have to be careful here. In many cases, there are multiple records for the same person, with multiple actions. We are only keeping the first one, which may not be the most severe one. We need to do more work on how we should handle this before we can put too much faith in these results."
   ]
  },
  {
   "cell_type": "code",
   "execution_count": 17,
   "id": "197e2887",
   "metadata": {},
   "outputs": [
    {
     "data": {
      "text/html": [
       "<div>\n",
       "<style scoped>\n",
       "    .dataframe tbody tr th:only-of-type {\n",
       "        vertical-align: middle;\n",
       "    }\n",
       "\n",
       "    .dataframe tbody tr th {\n",
       "        vertical-align: top;\n",
       "    }\n",
       "\n",
       "    .dataframe thead th {\n",
       "        text-align: right;\n",
       "    }\n",
       "</style>\n",
       "<table border=\"1\" class=\"dataframe\">\n",
       "  <thead>\n",
       "    <tr style=\"text-align: right;\">\n",
       "      <th></th>\n",
       "      <th>White</th>\n",
       "      <th>Black/Hispanic</th>\n",
       "      <th>Expected Black/Hispanic</th>\n",
       "      <th>Relative</th>\n",
       "    </tr>\n",
       "  </thead>\n",
       "  <tbody>\n",
       "    <tr>\n",
       "      <th>Asked for consent to search person</th>\n",
       "      <td>1.0</td>\n",
       "      <td>0.0</td>\n",
       "      <td>0.650927</td>\n",
       "      <td>0.000000</td>\n",
       "    </tr>\n",
       "    <tr>\n",
       "      <th>Asked for consent to search property</th>\n",
       "      <td>5.0</td>\n",
       "      <td>9.0</td>\n",
       "      <td>3.254637</td>\n",
       "      <td>2.765285</td>\n",
       "    </tr>\n",
       "    <tr>\n",
       "      <th>Curbside detention</th>\n",
       "      <td>6.0</td>\n",
       "      <td>15.0</td>\n",
       "      <td>3.905565</td>\n",
       "      <td>3.840674</td>\n",
       "    </tr>\n",
       "    <tr>\n",
       "      <th>Field sobriety test conducted</th>\n",
       "      <td>1.0</td>\n",
       "      <td>1.0</td>\n",
       "      <td>0.650927</td>\n",
       "      <td>1.536269</td>\n",
       "    </tr>\n",
       "    <tr>\n",
       "      <th>Handcuffed or flex cuffed</th>\n",
       "      <td>12.0</td>\n",
       "      <td>6.0</td>\n",
       "      <td>7.811130</td>\n",
       "      <td>0.768135</td>\n",
       "    </tr>\n",
       "    <tr>\n",
       "      <th>No Action</th>\n",
       "      <td>562.0</td>\n",
       "      <td>343.0</td>\n",
       "      <td>365.821248</td>\n",
       "      <td>0.937616</td>\n",
       "    </tr>\n",
       "    <tr>\n",
       "      <th>Patrol car detention</th>\n",
       "      <td>0.0</td>\n",
       "      <td>1.0</td>\n",
       "      <td>0.000000</td>\n",
       "      <td>inf</td>\n",
       "    </tr>\n",
       "    <tr>\n",
       "      <th>Person removed from vehicle by order</th>\n",
       "      <td>6.0</td>\n",
       "      <td>8.0</td>\n",
       "      <td>3.905565</td>\n",
       "      <td>2.048359</td>\n",
       "    </tr>\n",
       "    <tr>\n",
       "      <th>Property was seized</th>\n",
       "      <td>0.0</td>\n",
       "      <td>1.0</td>\n",
       "      <td>0.000000</td>\n",
       "      <td>inf</td>\n",
       "    </tr>\n",
       "    <tr>\n",
       "      <th>Search of person was conducted</th>\n",
       "      <td>0.0</td>\n",
       "      <td>2.0</td>\n",
       "      <td>0.000000</td>\n",
       "      <td>inf</td>\n",
       "    </tr>\n",
       "  </tbody>\n",
       "</table>\n",
       "</div>"
      ],
      "text/plain": [
       "                                      White  Black/Hispanic  \\\n",
       "Asked for consent to search person      1.0             0.0   \n",
       "Asked for consent to search property    5.0             9.0   \n",
       "Curbside detention                      6.0            15.0   \n",
       "Field sobriety test conducted           1.0             1.0   \n",
       "Handcuffed or flex cuffed              12.0             6.0   \n",
       "No Action                             562.0           343.0   \n",
       "Patrol car detention                    0.0             1.0   \n",
       "Person removed from vehicle by order    6.0             8.0   \n",
       "Property was seized                     0.0             1.0   \n",
       "Search of person was conducted          0.0             2.0   \n",
       "\n",
       "                                      Expected Black/Hispanic  Relative  \n",
       "Asked for consent to search person                   0.650927  0.000000  \n",
       "Asked for consent to search property                 3.254637  2.765285  \n",
       "Curbside detention                                   3.905565  3.840674  \n",
       "Field sobriety test conducted                        0.650927  1.536269  \n",
       "Handcuffed or flex cuffed                            7.811130  0.768135  \n",
       "No Action                                          365.821248  0.937616  \n",
       "Patrol car detention                                 0.000000       inf  \n",
       "Person removed from vehicle by order                 3.905565  2.048359  \n",
       "Property was seized                                  0.000000       inf  \n",
       "Search of person was conducted                       0.000000       inf  "
      ]
     },
     "execution_count": 17,
     "metadata": {},
     "output_type": "execute_result"
    }
   ],
   "source": [
    "rat.generate_relative_df(whites, black_hispanic, \"White\", \"Black/Hispanic\")"
   ]
  },
  {
   "cell_type": "markdown",
   "id": "f0c0f3c3",
   "metadata": {},
   "source": [
    "## Preliminary conclusions\n",
    "- While there are some minor issues with the data, it appears that on the whole the data is complete and usable.\n",
    "- Very simple analysis of stop rates suggest a large discrepancy, where Blacks and Hispanics are stopped much more often than Whites.\n",
    "- Analysis of outcome ratios suggest that once stopped, Blacks and Hispanics are more likely to be detained, but also more likely to have \"No Action.\" This is consistent with a hypothesis that police stop Blacks and Hispanics with less justification than Whites, and follow up with more extreme actions if possible.\n"
   ]
  },
  {
   "cell_type": "markdown",
   "id": "7025eb64",
   "metadata": {},
   "source": [
    "## Questions for the Police Department\n",
    "\n",
    "- Where is the \"Property Seized\" field?\n",
    "- When can we expect the complete 2021 data?\n",
    "- Why are there so many exactly duplicated records?\n",
    "- Can we get the data needed to determine the total number of people represented by a stop?\n",
    "\n",
    "## Other Questions\n",
    "- Is there an emerging consensus on how race data is taken with respect to Hispanic origin? How about with respect to mixed-race individuals?\n"
   ]
  },
  {
   "cell_type": "code",
   "execution_count": null,
   "id": "e8a69ea9",
   "metadata": {},
   "outputs": [],
   "source": []
  }
 ],
 "metadata": {
  "kernelspec": {
   "display_name": "Python 3 (ipykernel)",
   "language": "python",
   "name": "python3"
  },
  "language_info": {
   "codemirror_mode": {
    "name": "ipython",
    "version": 3
   },
   "file_extension": ".py",
   "mimetype": "text/x-python",
   "name": "python",
   "nbconvert_exporter": "python",
   "pygments_lexer": "ipython3",
   "version": "3.10.4"
  }
 },
 "nbformat": 4,
 "nbformat_minor": 5
}
