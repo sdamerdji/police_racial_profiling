{
 "cells": [
  {
   "cell_type": "code",
   "execution_count": 1,
   "id": "78b379ae-203d-4366-94b4-410f64f92272",
   "metadata": {},
   "outputs": [],
   "source": [
    "import pandas as pd\n",
    "import numpy as np\n",
    "from datetime import datetime\n",
    "import scipy as scipy"
   ]
  },
  {
   "cell_type": "code",
   "execution_count": 2,
   "id": "0387c4ac-1211-4a15-ab88-3541789c19f5",
   "metadata": {},
   "outputs": [],
   "source": [
    "from scipy.stats import poisson"
   ]
  },
  {
   "cell_type": "code",
   "execution_count": 3,
   "id": "1ae717bc-2f86-4506-a9e3-741c8dc1e595",
   "metadata": {},
   "outputs": [],
   "source": [
    "from scipy import optimize"
   ]
  },
  {
   "cell_type": "code",
   "execution_count": 4,
   "id": "54e664b9-ca3d-414b-b80b-4536ebc9ff39",
   "metadata": {},
   "outputs": [],
   "source": [
    "sf = pd.read_csv('../data/raw_data/san_francisco.csv', low_memory=False)"
   ]
  },
  {
   "cell_type": "code",
   "execution_count": 5,
   "id": "ba909b22-0404-413b-a12b-3e046f3996ce",
   "metadata": {},
   "outputs": [],
   "source": [
    "#sj = pd.read_csv('../data/raw_data/san_jose.csv', low_memory=False)"
   ]
  },
  {
   "cell_type": "code",
   "execution_count": 6,
   "id": "c3e0c315-f498-4b7a-a158-6aa739f21dba",
   "metadata": {},
   "outputs": [
    {
     "data": {
      "text/html": [
       "<div>\n",
       "<style scoped>\n",
       "    .dataframe tbody tr th:only-of-type {\n",
       "        vertical-align: middle;\n",
       "    }\n",
       "\n",
       "    .dataframe tbody tr th {\n",
       "        vertical-align: top;\n",
       "    }\n",
       "\n",
       "    .dataframe thead th {\n",
       "        text-align: right;\n",
       "    }\n",
       "</style>\n",
       "<table border=\"1\" class=\"dataframe\">\n",
       "  <thead>\n",
       "    <tr style=\"text-align: right;\">\n",
       "      <th></th>\n",
       "      <th>raw_row_number</th>\n",
       "      <th>date</th>\n",
       "      <th>time</th>\n",
       "      <th>location</th>\n",
       "      <th>lat</th>\n",
       "      <th>lng</th>\n",
       "      <th>district</th>\n",
       "      <th>subject_age</th>\n",
       "      <th>subject_race</th>\n",
       "      <th>subject_sex</th>\n",
       "      <th>...</th>\n",
       "      <th>citation_issued</th>\n",
       "      <th>warning_issued</th>\n",
       "      <th>outcome</th>\n",
       "      <th>contraband_found</th>\n",
       "      <th>search_conducted</th>\n",
       "      <th>search_vehicle</th>\n",
       "      <th>search_basis</th>\n",
       "      <th>reason_for_stop</th>\n",
       "      <th>raw_search_vehicle_description</th>\n",
       "      <th>raw_result_of_contact_description</th>\n",
       "    </tr>\n",
       "  </thead>\n",
       "  <tbody>\n",
       "    <tr>\n",
       "      <th>0</th>\n",
       "      <td>869921</td>\n",
       "      <td>2014-08-01</td>\n",
       "      <td>00:01:00</td>\n",
       "      <td>MASONIC AV &amp; FELL ST</td>\n",
       "      <td>37.773004</td>\n",
       "      <td>-122.445873</td>\n",
       "      <td>NaN</td>\n",
       "      <td>NaN</td>\n",
       "      <td>asian/pacific islander</td>\n",
       "      <td>female</td>\n",
       "      <td>...</td>\n",
       "      <td>False</td>\n",
       "      <td>True</td>\n",
       "      <td>warning</td>\n",
       "      <td>NaN</td>\n",
       "      <td>False</td>\n",
       "      <td>False</td>\n",
       "      <td>NaN</td>\n",
       "      <td>Mechanical or Non-Moving Violation (V.C.)</td>\n",
       "      <td>No Search</td>\n",
       "      <td>Warning</td>\n",
       "    </tr>\n",
       "    <tr>\n",
       "      <th>1</th>\n",
       "      <td>869922</td>\n",
       "      <td>2014-08-01</td>\n",
       "      <td>00:01:00</td>\n",
       "      <td>GEARY&amp;10TH AV</td>\n",
       "      <td>37.780898</td>\n",
       "      <td>-122.468586</td>\n",
       "      <td>NaN</td>\n",
       "      <td>NaN</td>\n",
       "      <td>black</td>\n",
       "      <td>male</td>\n",
       "      <td>...</td>\n",
       "      <td>True</td>\n",
       "      <td>False</td>\n",
       "      <td>citation</td>\n",
       "      <td>NaN</td>\n",
       "      <td>False</td>\n",
       "      <td>False</td>\n",
       "      <td>NaN</td>\n",
       "      <td>Mechanical or Non-Moving Violation (V.C.)</td>\n",
       "      <td>No Search</td>\n",
       "      <td>Citation</td>\n",
       "    </tr>\n",
       "    <tr>\n",
       "      <th>2</th>\n",
       "      <td>869923</td>\n",
       "      <td>2014-08-01</td>\n",
       "      <td>00:15:00</td>\n",
       "      <td>SUTTER N OCTAVIA ST</td>\n",
       "      <td>37.786919</td>\n",
       "      <td>-122.426718</td>\n",
       "      <td>NaN</td>\n",
       "      <td>NaN</td>\n",
       "      <td>hispanic</td>\n",
       "      <td>male</td>\n",
       "      <td>...</td>\n",
       "      <td>True</td>\n",
       "      <td>False</td>\n",
       "      <td>citation</td>\n",
       "      <td>NaN</td>\n",
       "      <td>False</td>\n",
       "      <td>False</td>\n",
       "      <td>NaN</td>\n",
       "      <td>Mechanical or Non-Moving Violation (V.C.)</td>\n",
       "      <td>No Search</td>\n",
       "      <td>Citation</td>\n",
       "    </tr>\n",
       "    <tr>\n",
       "      <th>3</th>\n",
       "      <td>869924</td>\n",
       "      <td>2014-08-01</td>\n",
       "      <td>00:18:00</td>\n",
       "      <td>3RD ST &amp; DAVIDSON</td>\n",
       "      <td>37.746380</td>\n",
       "      <td>-122.392005</td>\n",
       "      <td>NaN</td>\n",
       "      <td>NaN</td>\n",
       "      <td>hispanic</td>\n",
       "      <td>male</td>\n",
       "      <td>...</td>\n",
       "      <td>False</td>\n",
       "      <td>True</td>\n",
       "      <td>warning</td>\n",
       "      <td>NaN</td>\n",
       "      <td>False</td>\n",
       "      <td>False</td>\n",
       "      <td>NaN</td>\n",
       "      <td>Mechanical or Non-Moving Violation (V.C.)</td>\n",
       "      <td>No Search</td>\n",
       "      <td>Warning</td>\n",
       "    </tr>\n",
       "    <tr>\n",
       "      <th>4</th>\n",
       "      <td>869925</td>\n",
       "      <td>2014-08-01</td>\n",
       "      <td>00:19:00</td>\n",
       "      <td>DIVISADERO ST. &amp; BUSH ST.</td>\n",
       "      <td>37.786348</td>\n",
       "      <td>-122.440003</td>\n",
       "      <td>NaN</td>\n",
       "      <td>NaN</td>\n",
       "      <td>white</td>\n",
       "      <td>male</td>\n",
       "      <td>...</td>\n",
       "      <td>True</td>\n",
       "      <td>False</td>\n",
       "      <td>citation</td>\n",
       "      <td>NaN</td>\n",
       "      <td>False</td>\n",
       "      <td>False</td>\n",
       "      <td>NaN</td>\n",
       "      <td>Mechanical or Non-Moving Violation (V.C.)</td>\n",
       "      <td>No Search</td>\n",
       "      <td>Citation</td>\n",
       "    </tr>\n",
       "    <tr>\n",
       "      <th>...</th>\n",
       "      <td>...</td>\n",
       "      <td>...</td>\n",
       "      <td>...</td>\n",
       "      <td>...</td>\n",
       "      <td>...</td>\n",
       "      <td>...</td>\n",
       "      <td>...</td>\n",
       "      <td>...</td>\n",
       "      <td>...</td>\n",
       "      <td>...</td>\n",
       "      <td>...</td>\n",
       "      <td>...</td>\n",
       "      <td>...</td>\n",
       "      <td>...</td>\n",
       "      <td>...</td>\n",
       "      <td>...</td>\n",
       "      <td>...</td>\n",
       "      <td>...</td>\n",
       "      <td>...</td>\n",
       "      <td>...</td>\n",
       "      <td>...</td>\n",
       "    </tr>\n",
       "    <tr>\n",
       "      <th>905065</th>\n",
       "      <td>893005</td>\n",
       "      <td>2014-10-31</td>\n",
       "      <td>23:47:00</td>\n",
       "      <td>ORTEGA ST &amp; 38TH AVE</td>\n",
       "      <td>37.751482</td>\n",
       "      <td>-122.496725</td>\n",
       "      <td>NaN</td>\n",
       "      <td>NaN</td>\n",
       "      <td>white</td>\n",
       "      <td>male</td>\n",
       "      <td>...</td>\n",
       "      <td>False</td>\n",
       "      <td>True</td>\n",
       "      <td>warning</td>\n",
       "      <td>NaN</td>\n",
       "      <td>False</td>\n",
       "      <td>False</td>\n",
       "      <td>NaN</td>\n",
       "      <td>Moving Violation</td>\n",
       "      <td>No Search</td>\n",
       "      <td>Warning</td>\n",
       "    </tr>\n",
       "    <tr>\n",
       "      <th>905066</th>\n",
       "      <td>893006</td>\n",
       "      <td>2014-10-31</td>\n",
       "      <td>23:48:00</td>\n",
       "      <td>DUBOCE/BELCHER</td>\n",
       "      <td>37.769388</td>\n",
       "      <td>-122.430272</td>\n",
       "      <td>NaN</td>\n",
       "      <td>NaN</td>\n",
       "      <td>asian/pacific islander</td>\n",
       "      <td>male</td>\n",
       "      <td>...</td>\n",
       "      <td>True</td>\n",
       "      <td>False</td>\n",
       "      <td>citation</td>\n",
       "      <td>NaN</td>\n",
       "      <td>False</td>\n",
       "      <td>False</td>\n",
       "      <td>NaN</td>\n",
       "      <td>Moving Violation</td>\n",
       "      <td>No Search</td>\n",
       "      <td>Citation</td>\n",
       "    </tr>\n",
       "    <tr>\n",
       "      <th>905067</th>\n",
       "      <td>893007</td>\n",
       "      <td>2014-10-31</td>\n",
       "      <td>23:49:00</td>\n",
       "      <td>NEW MONTGOMERY &amp; STEVENSON</td>\n",
       "      <td>37.788297</td>\n",
       "      <td>-122.401527</td>\n",
       "      <td>NaN</td>\n",
       "      <td>NaN</td>\n",
       "      <td>white</td>\n",
       "      <td>male</td>\n",
       "      <td>...</td>\n",
       "      <td>True</td>\n",
       "      <td>False</td>\n",
       "      <td>citation</td>\n",
       "      <td>NaN</td>\n",
       "      <td>False</td>\n",
       "      <td>False</td>\n",
       "      <td>NaN</td>\n",
       "      <td>Moving Violation</td>\n",
       "      <td>No Search</td>\n",
       "      <td>Citation</td>\n",
       "    </tr>\n",
       "    <tr>\n",
       "      <th>905068</th>\n",
       "      <td>893008</td>\n",
       "      <td>2014-10-31</td>\n",
       "      <td>23:50:00</td>\n",
       "      <td>BURKE &amp; 3RD</td>\n",
       "      <td>37.745006</td>\n",
       "      <td>-122.387067</td>\n",
       "      <td>NaN</td>\n",
       "      <td>NaN</td>\n",
       "      <td>black</td>\n",
       "      <td>male</td>\n",
       "      <td>...</td>\n",
       "      <td>False</td>\n",
       "      <td>True</td>\n",
       "      <td>warning</td>\n",
       "      <td>NaN</td>\n",
       "      <td>False</td>\n",
       "      <td>False</td>\n",
       "      <td>NaN</td>\n",
       "      <td>Mechanical or Non-Moving Violation (V.C.)</td>\n",
       "      <td>No Search</td>\n",
       "      <td>Warning</td>\n",
       "    </tr>\n",
       "    <tr>\n",
       "      <th>905069</th>\n",
       "      <td>893009</td>\n",
       "      <td>2014-10-31</td>\n",
       "      <td>23:50:00</td>\n",
       "      <td>FILLMORE/WALLER</td>\n",
       "      <td>37.771315</td>\n",
       "      <td>-122.430458</td>\n",
       "      <td>NaN</td>\n",
       "      <td>NaN</td>\n",
       "      <td>white</td>\n",
       "      <td>male</td>\n",
       "      <td>...</td>\n",
       "      <td>True</td>\n",
       "      <td>False</td>\n",
       "      <td>citation</td>\n",
       "      <td>NaN</td>\n",
       "      <td>False</td>\n",
       "      <td>False</td>\n",
       "      <td>NaN</td>\n",
       "      <td>Moving Violation</td>\n",
       "      <td>No Search</td>\n",
       "      <td>Citation</td>\n",
       "    </tr>\n",
       "  </tbody>\n",
       "</table>\n",
       "<p>905070 rows × 22 columns</p>\n",
       "</div>"
      ],
      "text/plain": [
       "       raw_row_number        date      time                    location  \\\n",
       "0              869921  2014-08-01  00:01:00        MASONIC AV & FELL ST   \n",
       "1              869922  2014-08-01  00:01:00               GEARY&10TH AV   \n",
       "2              869923  2014-08-01  00:15:00         SUTTER N OCTAVIA ST   \n",
       "3              869924  2014-08-01  00:18:00           3RD ST & DAVIDSON   \n",
       "4              869925  2014-08-01  00:19:00   DIVISADERO ST. & BUSH ST.   \n",
       "...               ...         ...       ...                         ...   \n",
       "905065         893005  2014-10-31  23:47:00        ORTEGA ST & 38TH AVE   \n",
       "905066         893006  2014-10-31  23:48:00              DUBOCE/BELCHER   \n",
       "905067         893007  2014-10-31  23:49:00  NEW MONTGOMERY & STEVENSON   \n",
       "905068         893008  2014-10-31  23:50:00                 BURKE & 3RD   \n",
       "905069         893009  2014-10-31  23:50:00             FILLMORE/WALLER   \n",
       "\n",
       "              lat         lng district  subject_age            subject_race  \\\n",
       "0       37.773004 -122.445873      NaN          NaN  asian/pacific islander   \n",
       "1       37.780898 -122.468586      NaN          NaN                   black   \n",
       "2       37.786919 -122.426718      NaN          NaN                hispanic   \n",
       "3       37.746380 -122.392005      NaN          NaN                hispanic   \n",
       "4       37.786348 -122.440003      NaN          NaN                   white   \n",
       "...           ...         ...      ...          ...                     ...   \n",
       "905065  37.751482 -122.496725      NaN          NaN                   white   \n",
       "905066  37.769388 -122.430272      NaN          NaN  asian/pacific islander   \n",
       "905067  37.788297 -122.401527      NaN          NaN                   white   \n",
       "905068  37.745006 -122.387067      NaN          NaN                   black   \n",
       "905069  37.771315 -122.430458      NaN          NaN                   white   \n",
       "\n",
       "       subject_sex  ... citation_issued  warning_issued   outcome  \\\n",
       "0           female  ...           False            True   warning   \n",
       "1             male  ...            True           False  citation   \n",
       "2             male  ...            True           False  citation   \n",
       "3             male  ...           False            True   warning   \n",
       "4             male  ...            True           False  citation   \n",
       "...            ...  ...             ...             ...       ...   \n",
       "905065        male  ...           False            True   warning   \n",
       "905066        male  ...            True           False  citation   \n",
       "905067        male  ...            True           False  citation   \n",
       "905068        male  ...           False            True   warning   \n",
       "905069        male  ...            True           False  citation   \n",
       "\n",
       "        contraband_found search_conducted search_vehicle  search_basis  \\\n",
       "0                    NaN            False          False           NaN   \n",
       "1                    NaN            False          False           NaN   \n",
       "2                    NaN            False          False           NaN   \n",
       "3                    NaN            False          False           NaN   \n",
       "4                    NaN            False          False           NaN   \n",
       "...                  ...              ...            ...           ...   \n",
       "905065               NaN            False          False           NaN   \n",
       "905066               NaN            False          False           NaN   \n",
       "905067               NaN            False          False           NaN   \n",
       "905068               NaN            False          False           NaN   \n",
       "905069               NaN            False          False           NaN   \n",
       "\n",
       "                                  reason_for_stop  \\\n",
       "0       Mechanical or Non-Moving Violation (V.C.)   \n",
       "1       Mechanical or Non-Moving Violation (V.C.)   \n",
       "2       Mechanical or Non-Moving Violation (V.C.)   \n",
       "3       Mechanical or Non-Moving Violation (V.C.)   \n",
       "4       Mechanical or Non-Moving Violation (V.C.)   \n",
       "...                                           ...   \n",
       "905065                           Moving Violation   \n",
       "905066                           Moving Violation   \n",
       "905067                           Moving Violation   \n",
       "905068  Mechanical or Non-Moving Violation (V.C.)   \n",
       "905069                           Moving Violation   \n",
       "\n",
       "       raw_search_vehicle_description raw_result_of_contact_description  \n",
       "0                           No Search                           Warning  \n",
       "1                           No Search                          Citation  \n",
       "2                           No Search                          Citation  \n",
       "3                           No Search                           Warning  \n",
       "4                           No Search                          Citation  \n",
       "...                               ...                               ...  \n",
       "905065                      No Search                           Warning  \n",
       "905066                      No Search                          Citation  \n",
       "905067                      No Search                          Citation  \n",
       "905068                      No Search                           Warning  \n",
       "905069                      No Search                          Citation  \n",
       "\n",
       "[905070 rows x 22 columns]"
      ]
     },
     "execution_count": 6,
     "metadata": {},
     "output_type": "execute_result"
    }
   ],
   "source": [
    "sf"
   ]
  },
  {
   "cell_type": "code",
   "execution_count": 7,
   "id": "a394c102-8fba-4cfd-bd8d-e74176288204",
   "metadata": {},
   "outputs": [],
   "source": [
    "#sj"
   ]
  },
  {
   "cell_type": "code",
   "execution_count": 8,
   "id": "5b80cc96-33a1-4c72-bb6a-4fa067c6f326",
   "metadata": {},
   "outputs": [],
   "source": [
    "stop_by_race = sf[\"subject_race\"].value_counts()"
   ]
  },
  {
   "cell_type": "code",
   "execution_count": 9,
   "id": "0f7e02f7-54d7-4bf5-9126-b7f8fa4cfe1a",
   "metadata": {},
   "outputs": [
    {
     "data": {
      "text/plain": [
       "white                     372318\n",
       "asian/pacific islander    157684\n",
       "black                     152196\n",
       "hispanic                  116014\n",
       "other                     106858\n",
       "Name: subject_race, dtype: int64"
      ]
     },
     "execution_count": 9,
     "metadata": {},
     "output_type": "execute_result"
    }
   ],
   "source": [
    "stop_by_race"
   ]
  },
  {
   "cell_type": "code",
   "execution_count": 10,
   "id": "f4477122-200c-49b0-9f4a-cf25540f9b7c",
   "metadata": {},
   "outputs": [],
   "source": [
    "race_index = ['white', 'asian/pacific islander', 'black', 'hispanic', 'other']\n",
    "# http://www.bayareacensus.ca.gov/bayarea.htm"
   ]
  },
  {
   "cell_type": "code",
   "execution_count": 11,
   "id": "6de7de01-5249-4482-8312-522c98179a54",
   "metadata": {},
   "outputs": [],
   "source": [
    "sf_pop_list = [.402, .36+.005, .056, .152, .007+.045\n",
    "              ] # https://www.census.gov/quickfacts/sanfranciscocountycalifornia"
   ]
  },
  {
   "cell_type": "code",
   "execution_count": 12,
   "id": "16f3520c-e02d-4b12-a9bd-02c66789501d",
   "metadata": {},
   "outputs": [],
   "source": [
    "ba_pop_list = [.424, 0.230+0.003, 0.064, 0.235, 0.038 ]"
   ]
  },
  {
   "cell_type": "code",
   "execution_count": 13,
   "id": "4cd91641-6328-416a-b822-99e99f515c5a",
   "metadata": {},
   "outputs": [],
   "source": [
    "sf_pop = pd.Series(sf_pop_list, index = race_index)"
   ]
  },
  {
   "cell_type": "code",
   "execution_count": 14,
   "id": "3835d7bd-e377-4fe5-bf4b-d1672962e2cc",
   "metadata": {},
   "outputs": [],
   "source": [
    "ba_pop = pd.Series(ba_pop_list, index = race_index)"
   ]
  },
  {
   "cell_type": "code",
   "execution_count": 15,
   "id": "f77b038e-febb-404c-b567-ac04978b2818",
   "metadata": {},
   "outputs": [
    {
     "data": {
      "text/plain": [
       "white                     0.402\n",
       "asian/pacific islander    0.365\n",
       "black                     0.056\n",
       "hispanic                  0.152\n",
       "other                     0.052\n",
       "dtype: float64"
      ]
     },
     "execution_count": 15,
     "metadata": {},
     "output_type": "execute_result"
    }
   ],
   "source": [
    "sf_pop"
   ]
  },
  {
   "cell_type": "code",
   "execution_count": 16,
   "id": "c94292c5-8a09-4df7-a8a3-eaea718813e8",
   "metadata": {},
   "outputs": [],
   "source": [
    "pop_by_race = round(881549*sf_pop)"
   ]
  },
  {
   "cell_type": "code",
   "execution_count": 17,
   "id": "ae4421a4-5f0c-4550-afed-abf5eb7d4ca6",
   "metadata": {},
   "outputs": [
    {
     "data": {
      "text/plain": [
       "white                     354383.0\n",
       "asian/pacific islander    321765.0\n",
       "black                      49367.0\n",
       "hispanic                  133995.0\n",
       "other                      45841.0\n",
       "dtype: float64"
      ]
     },
     "execution_count": 17,
     "metadata": {},
     "output_type": "execute_result"
    }
   ],
   "source": [
    "pop_by_race"
   ]
  },
  {
   "cell_type": "code",
   "execution_count": 18,
   "id": "48ab57cc-5997-4ed6-8e72-0b937d6a4d8f",
   "metadata": {},
   "outputs": [],
   "source": [
    "ba_pop_by_race = round(7150739 * ba_pop)"
   ]
  },
  {
   "cell_type": "code",
   "execution_count": 19,
   "id": "66355710-446b-4495-9385-bf476f4f79a9",
   "metadata": {},
   "outputs": [
    {
     "data": {
      "text/plain": [
       "white                     3031913.0\n",
       "asian/pacific islander    1666122.0\n",
       "black                      457647.0\n",
       "hispanic                  1680424.0\n",
       "other                      271728.0\n",
       "dtype: float64"
      ]
     },
     "execution_count": 19,
     "metadata": {},
     "output_type": "execute_result"
    }
   ],
   "source": [
    "ba_pop_by_race"
   ]
  },
  {
   "cell_type": "code",
   "execution_count": 20,
   "id": "b72b049e-eee2-4126-89df-a798b5935246",
   "metadata": {},
   "outputs": [],
   "source": [
    "def bic(params, data, minus_max_like):\n",
    "    result = len(params)*np.log(data.count()) + 2*minus_max_like\n",
    "    return result"
   ]
  },
  {
   "cell_type": "code",
   "execution_count": 21,
   "id": "5949723b-57f9-4e6b-9864-346ef9f1dd3f",
   "metadata": {},
   "outputs": [],
   "source": [
    "def ln_like_1(mu, stops, pops):\n",
    "    lnl=0\n",
    "    for idx in stop_by_race.index:\n",
    "        expect = mu*pops[idx]\n",
    "        pois = scipy.stats.poisson.pmf(stops[idx], expect)\n",
    "        lnl = lnl + np.log(pois)\n",
    "        print(\"{}: expect {}, got {}. Prob: {}\".format(idx, expect, stops[idx], pois))\n",
    "        \n",
    "    return lnl"
   ]
  },
  {
   "cell_type": "code",
   "execution_count": 22,
   "id": "d29a613c-f1a3-4e2f-a5e7-7bba91dcd61c",
   "metadata": {},
   "outputs": [],
   "source": [
    "def ln_like_2(mu, stops, pops, transient):\n",
    "    lnl=0\n",
    "    for idx in stop_by_race.index:\n",
    "        expect = mu*(pops[idx] + transient[idx])\n",
    "        pois = scipy.stats.poisson.pmf(stops[idx], expect)\n",
    "        if(pois <= 0):\n",
    "            pois = 1e-180\n",
    "        lnl = lnl + np.log(pois)\n",
    "        #print(\"{}: expect {}, got {}. Prob: {}\".format(idx, expect, stops[idx], pois))\n",
    "        \n",
    "    return lnl"
   ]
  },
  {
   "cell_type": "code",
   "execution_count": null,
   "id": "e44d0c00-7f01-4780-84eb-94200800ac7a",
   "metadata": {},
   "outputs": [],
   "source": []
  },
  {
   "cell_type": "code",
   "execution_count": 23,
   "id": "ec84cd74-a0f9-4cf0-a82e-496628a63083",
   "metadata": {},
   "outputs": [
    {
     "data": {
      "text/plain": [
       "array([1.05060909, 0.49005952, 3.08295015, 0.86580843, 2.33105735])"
      ]
     },
     "execution_count": 23,
     "metadata": {},
     "output_type": "execute_result"
    }
   ],
   "source": [
    "(stop_by_race/pop_by_race).values"
   ]
  },
  {
   "cell_type": "code",
   "execution_count": 25,
   "id": "3ac12bdd-615f-406d-bb7e-212272ab5b93",
   "metadata": {},
   "outputs": [],
   "source": [
    "def ln_like_opt(x0, stop_by_race, pop_by_race, ba_pop_by_race):\n",
    "    return -ln_like_2(x0[0], stop_by_race, pop_by_race, x0[1:] * ba_pop_by_race)"
   ]
  },
  {
   "cell_type": "code",
   "execution_count": 26,
   "id": "775f7a36-4cfc-4892-bf4e-ff999306385f",
   "metadata": {},
   "outputs": [],
   "source": [
    "initial = [0.48, 0.14, 0, 0.58, 0.06, 0.7]"
   ]
  },
  {
   "cell_type": "code",
   "execution_count": 27,
   "id": "80e75ea6-28de-4d80-a1c5-88583e4d9f07",
   "metadata": {},
   "outputs": [
    {
     "data": {
      "text/plain": [
       "310.1328243294993"
      ]
     },
     "execution_count": 27,
     "metadata": {},
     "output_type": "execute_result"
    }
   ],
   "source": [
    "ln_like_opt(initial, stop_by_race, pop_by_race, ba_pop_by_race)"
   ]
  },
  {
   "cell_type": "code",
   "execution_count": 28,
   "id": "b99872a3-dbc5-488a-94f4-9a2cb778b25a",
   "metadata": {},
   "outputs": [],
   "source": [
    "res = optimize.minimize(ln_like_opt, args=(stop_by_race, pop_by_race, ba_pop_by_race), \n",
    "                       x0=initial, method = 'Nelder-Mead', options={'maxiter':500})"
   ]
  },
  {
   "cell_type": "code",
   "execution_count": 29,
   "id": "f6c08af4-d08f-433a-a0c8-8cfe6e0cea42",
   "metadata": {},
   "outputs": [
    {
     "data": {
      "text/plain": [
       " final_simplex: (array([[0.48702276, 0.1352592 , 0.00120557, 0.57498163, 0.06202079,\n",
       "        0.63875725],\n",
       "       [0.48700965, 0.13526957, 0.00120778, 0.57498887, 0.06201964,\n",
       "        0.63878369],\n",
       "       [0.48701569, 0.13526547, 0.00120472, 0.57500042, 0.0620189 ,\n",
       "        0.63876835],\n",
       "       [0.48701628, 0.13526054, 0.00120437, 0.57500253, 0.0620191 ,\n",
       "        0.63876724],\n",
       "       [0.48701947, 0.13526262, 0.00120422, 0.57499602, 0.06202133,\n",
       "        0.63878215],\n",
       "       [0.4870232 , 0.13525883, 0.00120564, 0.57499102, 0.06201688,\n",
       "        0.63878661],\n",
       "       [0.48702953, 0.13525826, 0.00120598, 0.57495466, 0.06201619,\n",
       "        0.63877224]]), array([34.57948905, 34.57949662, 34.57951365, 34.57952611, 34.57953688,\n",
       "       34.57954331, 34.57956223]))\n",
       "           fun: 34.57948905394005\n",
       "       message: 'Optimization terminated successfully.'\n",
       "          nfev: 248\n",
       "           nit: 150\n",
       "        status: 0\n",
       "       success: True\n",
       "             x: array([0.48702276, 0.1352592 , 0.00120557, 0.57498163, 0.06202079,\n",
       "       0.63875725])"
      ]
     },
     "execution_count": 29,
     "metadata": {},
     "output_type": "execute_result"
    }
   ],
   "source": [
    "res"
   ]
  },
  {
   "cell_type": "code",
   "execution_count": 30,
   "id": "b1469b12-e22d-49ad-afce-37dcf8fdd88b",
   "metadata": {},
   "outputs": [],
   "source": [
    "minus_max_like_2 = ln_like_opt(res.x, stop_by_race, pop_by_race, ba_pop_by_race)"
   ]
  },
  {
   "cell_type": "code",
   "execution_count": 31,
   "id": "15276e89-5f76-43dd-aa55-c8fc1d1c0031",
   "metadata": {},
   "outputs": [
    {
     "data": {
      "text/plain": [
       "78.81560558248471"
      ]
     },
     "execution_count": 31,
     "metadata": {},
     "output_type": "execute_result"
    }
   ],
   "source": [
    "bic(initial, stop_by_race, minus_max_like_2)"
   ]
  },
  {
   "cell_type": "code",
   "execution_count": 32,
   "id": "326668b1-5d7a-4a06-92a7-db50636b591f",
   "metadata": {},
   "outputs": [],
   "source": [
    "def ln_like_3(mu, stops, pops, transient):\n",
    "    lnl=0\n",
    "    for idx in stop_by_race.index:\n",
    "        expect = mu[idx]*(pops[idx] + transient[idx])\n",
    "        pois = scipy.stats.poisson.pmf(stops[idx], expect)\n",
    "        if(pois <= 0):\n",
    "            pois = 1e-180\n",
    "        lnl = lnl + np.log(pois)\n",
    "        #print(\"{}: expect {}, got {}. Prob: {}\".format(idx, expect, stops[idx], pois))\n",
    "        \n",
    "    return lnl"
   ]
  },
  {
   "cell_type": "code",
   "execution_count": 33,
   "id": "88cbaf44-c7ca-4eae-b070-bdb13f549277",
   "metadata": {},
   "outputs": [],
   "source": [
    "def ln_like_opt_3(x0, stop_by_race, pop_by_race, ba_pop_by_race):\n",
    "    mu = pd.Series(x0[0:5], index = race_index)\n",
    "    return -ln_like_3(mu, stop_by_race, pop_by_race, x0[5:] * ba_pop_by_race)"
   ]
  },
  {
   "cell_type": "code",
   "execution_count": 34,
   "id": "1fcd762e-5386-4591-bccb-d2dd644ccb5d",
   "metadata": {},
   "outputs": [
    {
     "data": {
      "text/plain": [
       "['white', 'asian/pacific islander', 'black', 'hispanic', 'other']"
      ]
     },
     "execution_count": 34,
     "metadata": {},
     "output_type": "execute_result"
    }
   ],
   "source": [
    "race_index"
   ]
  },
  {
   "cell_type": "code",
   "execution_count": 35,
   "id": "79b1bfd6-14ed-4932-bb25-85844c793ba6",
   "metadata": {},
   "outputs": [],
   "source": [
    "initial_3 = (stop_by_race/pop_by_race).values"
   ]
  },
  {
   "cell_type": "code",
   "execution_count": 36,
   "id": "9ab0fe3a-0e66-4f0b-a8a9-f9763dc03e1b",
   "metadata": {},
   "outputs": [],
   "source": [
    "initial_3 = np.append(initial_3, [0, 0, 0, 0, 0])"
   ]
  },
  {
   "cell_type": "code",
   "execution_count": 37,
   "id": "029d5d87-8612-4fb0-abe5-4779e6693868",
   "metadata": {},
   "outputs": [
    {
     "data": {
      "text/plain": [
       "array([1.05060909, 0.49005952, 3.08295015, 0.86580843, 2.33105735,\n",
       "       0.        , 0.        , 0.        , 0.        , 0.        ])"
      ]
     },
     "execution_count": 37,
     "metadata": {},
     "output_type": "execute_result"
    }
   ],
   "source": [
    "initial_3"
   ]
  },
  {
   "cell_type": "code",
   "execution_count": 38,
   "id": "629c0832-a42b-40b3-ad04-d4297547688b",
   "metadata": {},
   "outputs": [
    {
     "data": {
      "text/plain": [
       "34.57944478497666"
      ]
     },
     "execution_count": 38,
     "metadata": {},
     "output_type": "execute_result"
    }
   ],
   "source": [
    "ln_like_opt_3(initial_3, stop_by_race, pop_by_race, ba_pop)"
   ]
  },
  {
   "cell_type": "code",
   "execution_count": 39,
   "id": "01ae8ea1-ba93-4be9-86ad-670c0d4f0615",
   "metadata": {},
   "outputs": [],
   "source": [
    "res = optimize.minimize(ln_like_opt_3, args=(stop_by_race, pop_by_race, ba_pop_by_race), \n",
    "                       x0=initial_3, method = 'Nelder-Mead', options={'maxiter':500})"
   ]
  },
  {
   "cell_type": "code",
   "execution_count": 40,
   "id": "8bb5117f-3bd0-4c72-9096-4e3981ea4e65",
   "metadata": {},
   "outputs": [
    {
     "data": {
      "text/plain": [
       " final_simplex: (array([[1.05053872e+00, 4.90037165e-01, 3.08265317e+00, 8.65717390e-01,\n",
       "        2.33088215e+00, 7.82782795e-06, 8.81393923e-06, 1.03929019e-05,\n",
       "        8.38435166e-06, 1.26845293e-05],\n",
       "       [1.05053231e+00, 4.90035134e-01, 3.08262609e+00, 8.65709093e-01,\n",
       "        2.33086618e+00, 8.54225081e-06, 9.61431542e-06, 1.13418217e-05,\n",
       "        9.14850812e-06, 1.38362220e-05],\n",
       "       [1.05053555e+00, 4.90036148e-01, 3.08263976e+00, 8.65713270e-01,\n",
       "        2.33087422e+00, 8.18333460e-06, 9.21438759e-06, 1.08652695e-05,\n",
       "        8.76456481e-06, 1.32561109e-05],\n",
       "       [1.05053083e+00, 4.90034660e-01, 3.08261989e+00, 8.65707191e-01,\n",
       "        2.33086250e+00, 8.70569778e-06, 9.79882075e-06, 1.15573920e-05,\n",
       "        9.32576828e-06, 1.41027069e-05],\n",
       "       [1.05054009e+00, 4.90037596e-01, 3.08265892e+00, 8.65719138e-01,\n",
       "        2.33088544e+00, 7.67594261e-06, 8.64437364e-06, 1.01927390e-05,\n",
       "        8.22305060e-06, 1.24411244e-05],\n",
       "       [1.05053272e+00, 4.90035253e-01, 3.08262781e+00, 8.65709613e-01,\n",
       "        2.33086717e+00, 8.49799534e-06, 9.56585310e-06, 1.12787666e-05,\n",
       "        9.09999282e-06, 1.37671867e-05],\n",
       "       [1.05053614e+00, 4.90036343e-01, 3.08264226e+00, 8.65714048e-01,\n",
       "        2.33087570e+00, 8.11683899e-06, 9.13687402e-06, 1.07760962e-05,\n",
       "        8.69291452e-06, 1.31499603e-05],\n",
       "       [1.05055344e+00, 4.90041838e-01, 3.08271527e+00, 8.65736428e-01,\n",
       "        2.33091877e+00, 6.19185272e-06, 6.96971123e-06, 8.22060261e-06,\n",
       "        6.63133343e-06, 1.00302930e-05],\n",
       "       [1.05053269e+00, 4.90035243e-01, 3.08262766e+00, 8.65709591e-01,\n",
       "        2.33086712e+00, 8.49984175e-06, 9.56893391e-06, 1.12874578e-05,\n",
       "        9.10387604e-06, 1.37716900e-05],\n",
       "       [1.05053075e+00, 4.90034636e-01, 3.08261958e+00, 8.65707090e-01,\n",
       "        2.33086233e+00, 8.71491244e-06, 9.80659406e-06, 1.15698408e-05,\n",
       "        9.33127931e-06, 1.41183424e-05],\n",
       "       [1.05053395e+00, 4.90035651e-01, 3.08263302e+00, 8.65711226e-01,\n",
       "        2.33087025e+00, 8.35943004e-06, 9.41209668e-06, 1.10982945e-05,\n",
       "        8.95292555e-06, 1.35406165e-05]]), array([34.57944478, 34.57944478, 34.57944478, 34.57944478, 34.57944478,\n",
       "       34.57944478, 34.57944478, 34.57944478, 34.57944478, 34.57944479,\n",
       "       34.57944479]))\n",
       "           fun: 34.57944478391437\n",
       "       message: 'Optimization terminated successfully.'\n",
       "          nfev: 372\n",
       "           nit: 184\n",
       "        status: 0\n",
       "       success: True\n",
       "             x: array([1.05053872e+00, 4.90037165e-01, 3.08265317e+00, 8.65717390e-01,\n",
       "       2.33088215e+00, 7.82782795e-06, 8.81393923e-06, 1.03929019e-05,\n",
       "       8.38435166e-06, 1.26845293e-05])"
      ]
     },
     "execution_count": 40,
     "metadata": {},
     "output_type": "execute_result"
    }
   ],
   "source": [
    "res"
   ]
  },
  {
   "cell_type": "code",
   "execution_count": 41,
   "id": "f58f0d7a-7454-4228-96b2-729a45409ce6",
   "metadata": {},
   "outputs": [],
   "source": [
    "minus_max_like_3 = ln_like_opt_3(res.x, stop_by_race, pop_by_race, ba_pop)"
   ]
  },
  {
   "cell_type": "code",
   "execution_count": 42,
   "id": "674c6d66-9618-4d5d-9aea-5fb0fe7391b0",
   "metadata": {},
   "outputs": [
    {
     "data": {
      "text/plain": [
       "85.25856560948182"
      ]
     },
     "execution_count": 42,
     "metadata": {},
     "output_type": "execute_result"
    }
   ],
   "source": [
    "bic(initial_3, stop_by_race, minus_max_like_3)"
   ]
  },
  {
   "cell_type": "code",
   "execution_count": 43,
   "id": "005c2a8b-3337-4fd6-9280-7b9058fe4649",
   "metadata": {},
   "outputs": [],
   "source": [
    "def ln_like_opt_4(x0, stop_by_race, pop_by_race, ba_pop_by_race):\n",
    "    mu = pd.Series(x0[0:5], index = race_index)\n",
    "    return -ln_like_3(mu, stop_by_race, pop_by_race, x0[5] * ba_pop_by_race)"
   ]
  },
  {
   "cell_type": "code",
   "execution_count": 44,
   "id": "313c8739-281f-484e-859d-4f526b491bcb",
   "metadata": {},
   "outputs": [],
   "source": [
    "initial_4 = np.append((stop_by_race/pop_by_race).values, 0.05)"
   ]
  },
  {
   "cell_type": "code",
   "execution_count": 45,
   "id": "f9fd4a2a-2807-4eeb-b799-f3c5a9f98435",
   "metadata": {},
   "outputs": [],
   "source": [
    "res = optimize.minimize(ln_like_opt_4, args=(stop_by_race, pop_by_race, ba_pop_by_race), \n",
    "                       x0=initial_4, method = 'Nelder-Mead', options={'maxiter':500})"
   ]
  },
  {
   "cell_type": "code",
   "execution_count": 46,
   "id": "dc99b310-2771-4f90-ae0f-c256c334b80d",
   "metadata": {},
   "outputs": [
    {
     "data": {
      "text/plain": [
       " final_simplex: (array([[1.05060909, 0.49005952, 3.08295015, 0.86580843, 2.33105735,\n",
       "        0.05      ],\n",
       "       [1.05063474, 0.49005952, 3.08295015, 0.86580843, 2.33105735,\n",
       "        0.05      ],\n",
       "       [1.05060909, 0.49007148, 3.08295015, 0.86580843, 2.33105735,\n",
       "        0.05      ],\n",
       "       [1.05060909, 0.49005952, 3.08302542, 0.86580843, 2.33105735,\n",
       "        0.05      ],\n",
       "       [1.05060909, 0.49005952, 3.08295015, 0.86582956, 2.33105735,\n",
       "        0.05      ],\n",
       "       [1.05060909, 0.49005952, 3.08295015, 0.86580843, 2.33111426,\n",
       "        0.05      ],\n",
       "       [1.05060909, 0.49005952, 3.08295015, 0.86580843, 2.33105735,\n",
       "        0.05000122]]), array([2072.32658369, 2072.32658369, 2072.32658369, 2072.32658369,\n",
       "       2072.32658369, 2072.32658369, 2072.32658369]))\n",
       "           fun: 2072.326583694641\n",
       "       message: 'Optimization terminated successfully.'\n",
       "          nfev: 95\n",
       "           nit: 12\n",
       "        status: 0\n",
       "       success: True\n",
       "             x: array([1.05060909, 0.49005952, 3.08295015, 0.86580843, 2.33105735,\n",
       "       0.05      ])"
      ]
     },
     "execution_count": 46,
     "metadata": {},
     "output_type": "execute_result"
    }
   ],
   "source": [
    "res"
   ]
  },
  {
   "cell_type": "code",
   "execution_count": 47,
   "id": "86a7c6c4-10e0-40b5-84c2-e0f68e265d7b",
   "metadata": {},
   "outputs": [
    {
     "data": {
      "text/plain": [
       "34.57944478651916"
      ]
     },
     "execution_count": 47,
     "metadata": {},
     "output_type": "execute_result"
    }
   ],
   "source": [
    "ln_like_opt_4(res.x, stop_by_race, pop_by_race, ba_pop)"
   ]
  },
  {
   "cell_type": "code",
   "execution_count": 48,
   "id": "b2307911-e413-4a86-80d5-d8de417b9d9f",
   "metadata": {},
   "outputs": [
    {
     "data": {
      "text/plain": [
       "5"
      ]
     },
     "execution_count": 48,
     "metadata": {},
     "output_type": "execute_result"
    }
   ],
   "source": [
    "stop_by_race.count()"
   ]
  },
  {
   "cell_type": "code",
   "execution_count": 49,
   "id": "c9dfaece-236b-4014-aa04-d759e6bd4f6e",
   "metadata": {},
   "outputs": [
    {
     "data": {
      "text/plain": [
       "78.81551704764293"
      ]
     },
     "execution_count": 49,
     "metadata": {},
     "output_type": "execute_result"
    }
   ],
   "source": [
    "bic(res.x, stop_by_race, ln_like_opt_4(res.x, stop_by_race, pop_by_race, ba_pop))"
   ]
  },
  {
   "cell_type": "code",
   "execution_count": 63,
   "id": "0811645a-6cbc-4244-b9f1-1fec92e68b34",
   "metadata": {},
   "outputs": [
    {
     "data": {
      "text/plain": [
       "Moving Violation                                              75450\n",
       "Mechanical or Non-Moving Violation (V.C.)                     73479\n",
       "MPC Violation                                                   930\n",
       "BOLO/APB/Warrant                                                646\n",
       "Assistance to Motorist                                          240\n",
       "DUI Check                                                       188\n",
       "Traffic Collision                                               169\n",
       "Moving Violation|Mechanical or Non-Moving Violation (V.C.)       29\n",
       "Moving Violation|MPC Violation                                    2\n",
       "Moving Violation|BOLO/APB/Warrant                                 1\n",
       "Name: reason_for_stop, dtype: int64"
      ]
     },
     "execution_count": 63,
     "metadata": {},
     "output_type": "execute_result"
    }
   ],
   "source": [
    "sf[sf[\"subject_race\"]==\"black\"][\"reason_for_stop\"].value_counts()"
   ]
  },
  {
   "cell_type": "code",
   "execution_count": 64,
   "id": "d8ae23cc-21bc-4828-a946-17f5464b7558",
   "metadata": {},
   "outputs": [
    {
     "data": {
      "text/plain": [
       "Moving Violation                                                                                        244182\n",
       "Mechanical or Non-Moving Violation (V.C.)                                                               125184\n",
       "MPC Violation                                                                                             1004\n",
       "Traffic Collision                                                                                          475\n",
       "DUI Check                                                                                                  395\n",
       "Assistance to Motorist                                                                                     329\n",
       "BOLO/APB/Warrant                                                                                           208\n",
       "Moving Violation|Mechanical or Non-Moving Violation (V.C.)                                                  74\n",
       "Moving Violation|MPC Violation                                                                               4\n",
       "Mechanical or Non-Moving Violation (V.C.)|DUI Check                                                          2\n",
       "Moving Violation|DUI Check                                                                                   2\n",
       "Moving Violation|NA                                                                                          2\n",
       "Moving Violation|Assistance to Motorist                                                                      1\n",
       "Moving Violation|MPC Violation|MPC Violation                                                                 1\n",
       "Mechanical or Non-Moving Violation (V.C.)|Assistance to Motorist                                             1\n",
       "MPC Violation|Moving Violation                                                                               1\n",
       "Mechanical or Non-Moving Violation (V.C.)|Moving Violation                                                   1\n",
       "Moving Violation|Mechanical or Non-Moving Violation (V.C.)|Mechanical or Non-Moving Violation (V.C.)         1\n",
       "DUI Check|MPC Violation                                                                                      1\n",
       "Name: reason_for_stop, dtype: int64"
      ]
     },
     "execution_count": 64,
     "metadata": {},
     "output_type": "execute_result"
    }
   ],
   "source": [
    "sf[sf[\"subject_race\"]==\"white\"][\"reason_for_stop\"].value_counts()"
   ]
  },
  {
   "cell_type": "code",
   "execution_count": null,
   "id": "9056bc08-2f4f-40da-95a5-68b95502811e",
   "metadata": {},
   "outputs": [],
   "source": []
  }
 ],
 "metadata": {
  "kernelspec": {
   "display_name": "Python 3",
   "language": "python",
   "name": "python3"
  },
  "language_info": {
   "codemirror_mode": {
    "name": "ipython",
    "version": 3
   },
   "file_extension": ".py",
   "mimetype": "text/x-python",
   "name": "python",
   "nbconvert_exporter": "python",
   "pygments_lexer": "ipython3",
   "version": "3.8.10"
  }
 },
 "nbformat": 4,
 "nbformat_minor": 5
}
