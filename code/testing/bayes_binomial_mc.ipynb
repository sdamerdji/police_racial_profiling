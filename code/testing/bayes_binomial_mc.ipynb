{
 "cells": [
  {
   "cell_type": "code",
   "execution_count": 1,
   "id": "2858a1be",
   "metadata": {},
   "outputs": [],
   "source": [
    "import numpy as np\n",
    "import matplotlib.pyplot as plt"
   ]
  },
  {
   "cell_type": "code",
   "execution_count": 2,
   "id": "3e1c92f5",
   "metadata": {},
   "outputs": [],
   "source": [
    "import pandas as pd"
   ]
  },
  {
   "cell_type": "code",
   "execution_count": 3,
   "id": "b4a6c332",
   "metadata": {},
   "outputs": [],
   "source": [
    "import sys, os"
   ]
  },
  {
   "cell_type": "code",
   "execution_count": 4,
   "id": "ef732e92",
   "metadata": {},
   "outputs": [],
   "source": [
    "sys.path.append('..')"
   ]
  },
  {
   "cell_type": "code",
   "execution_count": 5,
   "id": "a2ffd05f",
   "metadata": {},
   "outputs": [],
   "source": [
    "import analysis.bayes_binomial as bayes"
   ]
  },
  {
   "cell_type": "code",
   "execution_count": 6,
   "id": "27ffbbbd",
   "metadata": {},
   "outputs": [],
   "source": [
    "import testing.bayes_binomial_mc as bayes_mc"
   ]
  },
  {
   "cell_type": "markdown",
   "id": "6b300ce2",
   "metadata": {},
   "source": [
    "First, let's do a quick convergence check."
   ]
  },
  {
   "cell_type": "code",
   "execution_count": 12,
   "id": "a1bb08d2",
   "metadata": {},
   "outputs": [],
   "source": [
    "data_1000 = bayes_mc.create_data(0.5, 100, 100, 1000)"
   ]
  },
  {
   "cell_type": "code",
   "execution_count": 13,
   "id": "699e4ae2",
   "metadata": {},
   "outputs": [],
   "source": [
    "data_10000 = bayes_mc.create_data(0.5, 100, 100, 10000)"
   ]
  },
  {
   "cell_type": "code",
   "execution_count": 15,
   "id": "203b115d",
   "metadata": {},
   "outputs": [],
   "source": [
    "data_1000['odds'] = data_1000.apply(bayes_mc.rowwise_odds, axis=1)"
   ]
  },
  {
   "cell_type": "code",
   "execution_count": 19,
   "id": "ebfcd0ef",
   "metadata": {},
   "outputs": [],
   "source": [
    "os.makedirs(\"../testing/mc_convergence\", exist_ok=True)"
   ]
  },
  {
   "cell_type": "code",
   "execution_count": 20,
   "id": "6fbc400c",
   "metadata": {},
   "outputs": [],
   "source": [
    "data_1000.to_csv('../testing/mc_convergence/data_1000.csv', index=False)"
   ]
  },
  {
   "cell_type": "code",
   "execution_count": 21,
   "id": "8fffd4b7",
   "metadata": {},
   "outputs": [],
   "source": [
    "data_10000['odds'] = data_10000.apply(bayes_mc.rowwise_odds, axis=1)"
   ]
  },
  {
   "cell_type": "code",
   "execution_count": 22,
   "id": "6cc0384d",
   "metadata": {},
   "outputs": [],
   "source": [
    "data_10000.to_csv('../testing/mc_convergence/data_10000.csv', index=False)"
   ]
  },
  {
   "cell_type": "code",
   "execution_count": 24,
   "id": "f2c3ea22",
   "metadata": {},
   "outputs": [],
   "source": [
    "data_1000['score'] = data_1000.apply(bayes_mc.rowwise_score, axis=1)"
   ]
  },
  {
   "cell_type": "code",
   "execution_count": 25,
   "id": "7926df26",
   "metadata": {},
   "outputs": [],
   "source": [
    "data_10000['score'] = data_10000.apply(bayes_mc.rowwise_score, axis=1)"
   ]
  },
  {
   "cell_type": "code",
   "execution_count": 26,
   "id": "9b64e103",
   "metadata": {},
   "outputs": [
    {
     "data": {
      "text/plain": [
       "[<matplotlib.lines.Line2D at 0x7f431cc5f9a0>]"
      ]
     },
     "execution_count": 26,
     "metadata": {},
     "output_type": "execute_result"
    },
    {
     "data": {
      "image/png": "[encoded data removed]",
      "text/plain": [
       "<Figure size 432x288 with 1 Axes>"
      ]
     },
     "metadata": {
      "needs_background": "light"
     },
     "output_type": "display_data"
    }
   ],
   "source": [
    "plt.plot(data_1000['score'].cumsum())"
   ]
  },
  {
   "cell_type": "code",
   "execution_count": 27,
   "id": "1248123f",
   "metadata": {},
   "outputs": [
    {
     "data": {
      "text/plain": [
       "[<matplotlib.lines.Line2D at 0x7f431c96c6a0>]"
      ]
     },
     "execution_count": 27,
     "metadata": {},
     "output_type": "execute_result"
    },
    {
     "data": {
      "image/png": "[encoded data removed]",
      "text/plain": [
       "<Figure size 432x288 with 1 Axes>"
      ]
     },
     "metadata": {
      "needs_background": "light"
     },
     "output_type": "display_data"
    }
   ],
   "source": [
    "plt.plot(data_10000['score'].cumsum())"
   ]
  },
  {
   "cell_type": "code",
   "execution_count": 28,
   "id": "0c2174a7",
   "metadata": {},
   "outputs": [
    {
     "data": {
      "text/plain": [
       "0.3401483988737713"
      ]
     },
     "execution_count": 28,
     "metadata": {},
     "output_type": "execute_result"
    }
   ],
   "source": [
    "data_1000['score'].sum()/1000"
   ]
  },
  {
   "cell_type": "code",
   "execution_count": 29,
   "id": "2766e9cc",
   "metadata": {},
   "outputs": [
    {
     "data": {
      "text/plain": [
       "0.2844579028253478"
      ]
     },
     "execution_count": 29,
     "metadata": {},
     "output_type": "execute_result"
    }
   ],
   "source": [
    "data_10000['score'].sum()/10000"
   ]
  },
  {
   "cell_type": "code",
   "execution_count": 139,
   "id": "aad480b6",
   "metadata": {},
   "outputs": [],
   "source": [
    "def correct_vs_odds(df):\n",
    "    bin_starts = [1, 1.5, 2, 3, 4, 5, 6, 7, 8]\n",
    "    bin_ends = bin_starts[1:]\n",
    "    bin_ends.append(np.infty)\n",
    "    for start, end in zip(bin_starts, bin_ends):\n",
    "        vc=df[(df['odds'] >= start) & (df['odds'] < end)]['true_model'].value_counts()\n",
    "        if 2 in vc.keys():\n",
    "            twocount = vc[2]\n",
    "        else:\n",
    "            twocount = 0\n",
    "        if sum(vc) > 0:\n",
    "            correct_frac = twocount/sum(vc)\n",
    "        else:\n",
    "            correct_frac = np.nan\n",
    "        print(\"[{}, {}): Expected: {:.2f}-{:.2f}  Correct: {} of {} = {:.2f}\".format(\n",
    "            start, end, bayes.impliedProb(start), bayes.impliedProb(end),\n",
    "            twocount, sum(vc), correct_frac))"
   ]
  },
  {
   "cell_type": "code",
   "execution_count": 129,
   "id": "5ddba320",
   "metadata": {},
   "outputs": [
    {
     "name": "stdout",
     "output_type": "stream",
     "text": [
      "[1, 1.5): Expected: 0.50-0.60  Correct: 92 of 187 = 0.49\n",
      "[1.5, 2): Expected: 0.60-0.67  Correct: 72 of 107 = 0.67\n",
      "[2, 2.5): Expected: 0.67-0.71  Correct: 65 of 97 = 0.67\n",
      "[2.5, 3): Expected: 0.71-0.75  Correct: 36 of 58 = 0.62\n",
      "[3, 4): Expected: 0.75-0.80  Correct: 59 of 75 = 0.79\n",
      "[4, 5): Expected: 0.80-0.83  Correct: 48 of 61 = 0.79\n",
      "[5, 10): Expected: 0.83-0.91  Correct: 116 of 142 = 0.82\n",
      "[10, inf): Expected: 0.91-nan  Correct: 3428 of 3442 = 1.00\n"
     ]
    }
   ],
   "source": [
    "correct_vs_odds(data_10000)"
   ]
  },
  {
   "cell_type": "code",
   "execution_count": 98,
   "id": "39878abe",
   "metadata": {},
   "outputs": [
    {
     "name": "stdout",
     "output_type": "stream",
     "text": [
      "[1, 1.5): Expected: 0.50-0.60  Correct: 11 of 27 = 0.41\n",
      "[1.5, 2): Expected: 0.60-0.67  Correct: 6 of 7 = 0.86\n",
      "[2, 2.5): Expected: 0.67-0.71  Correct: 8 of 8 = 1.00\n",
      "[2.5, 3): Expected: 0.71-0.75  Correct: 5 of 7 = 0.71\n",
      "[3, 4): Expected: 0.75-0.80  Correct: 9 of 12 = 0.75\n",
      "[4, 5): Expected: 0.80-0.83  Correct: 7 of 7 = 1.00\n",
      "[5, 10): Expected: 0.83-0.91  Correct: 9 of 11 = 0.82\n",
      "[10, inf): Expected: 0.91-nan  Correct: 354 of 354 = 1.00\n"
     ]
    }
   ],
   "source": [
    "correct_vs_odds(data_1000)"
   ]
  },
  {
   "cell_type": "code",
   "execution_count": 125,
   "id": "7e7d6895",
   "metadata": {},
   "outputs": [],
   "source": [
    "def run_monte_carlo(model_ps=[0.25, 0.5, 0.75], ns = [20, 100, 1000], trials=10000,\n",
    "                   path=\"../testing/mc_data\"):\n",
    "    os.makedirs(path, exist_ok=True)\n",
    "    for model_p in model_ps:\n",
    "        for n in ns:\n",
    "            print(\"Simulating model_p={}, n={}, trials={}...\".format(model_p, n, trials))\n",
    "            df = bayes_mc.create_data(model_p, n, n, trials)\n",
    "            df['odds'] = df.apply(bayes_mc.rowwise_odds, axis=1)\n",
    "            df['score'] = df.apply(bayes_mc.rowwise_score, axis=1)\n",
    "            filename = \"{}/mc_modelp_{}_n_{}_trials_{}.csv\".format(path, model_p, n, trials)\n",
    "            df.to_csv(filename, index=False)\n",
    "            "
   ]
  },
  {
   "cell_type": "code",
   "execution_count": 126,
   "id": "a55e4ab3",
   "metadata": {},
   "outputs": [],
   "source": [
    "def display_mc(model_ps=[0.25, 0.5, 0.75], ns=[20, 100, 1000], trials=10000,\n",
    "              path = \"../testing/mc_data\"):\n",
    "    for model_p in model_ps:\n",
    "        for n in ns:\n",
    "            filename = \"{}/mc_modelp_{}_n_{}_trials_{}.csv\".format(path, model_p, n, trials)\n",
    "            print(\"\\nModel p = {}, n = {}, trials = {}\".format(model_p, n, trials))\n",
    "            try:\n",
    "                df = pd.read_csv(filename)\n",
    "            except Exception as e:\n",
    "                print(\"File {} could not be read. Maybe it doesn't exist.\".format(filename))\n",
    "                print(e.strerror)\n",
    "                continue\n",
    "            correct_vs_odds(df)\n"
   ]
  },
  {
   "cell_type": "code",
   "execution_count": 7,
   "id": "2a984ef9",
   "metadata": {},
   "outputs": [
    {
     "name": "stdout",
     "output_type": "stream",
     "text": [
      "Simulating model_p=0.25, n=20, trials=10000...\n",
      "Simulating model_p=0.25, n=100, trials=10000...\n",
      "Simulating model_p=0.25, n=1000, trials=10000...\n"
     ]
    },
    {
     "name": "stderr",
     "output_type": "stream",
     "text": [
      "/home/brian/.local/lib/python3.10/site-packages/scipy/stats/_discrete_distns.py:69: RuntimeWarning: divide by zero encountered in _binom_pdf\n",
      "  return _boost._binom_pdf(x, n, p)\n",
      "/media/sf_share/personal/lare/police_racial_profiling/code/testing/../testing/../analysis/bayes_binomial.py:32: IntegrationWarning: The integral is probably divergent, or slowly convergent.\n",
      "  result = integrate.quad(integrand, 0, 1)\n"
     ]
    },
    {
     "name": "stdout",
     "output_type": "stream",
     "text": [
      "Simulating model_p=0.5, n=20, trials=10000...\n",
      "Simulating model_p=0.5, n=100, trials=10000...\n",
      "Simulating model_p=0.5, n=1000, trials=10000...\n"
     ]
    },
    {
     "name": "stderr",
     "output_type": "stream",
     "text": [
      "/home/brian/.local/lib/python3.10/site-packages/scipy/stats/_discrete_distns.py:69: RuntimeWarning: divide by zero encountered in _binom_pdf\n",
      "  return _boost._binom_pdf(x, n, p)\n"
     ]
    },
    {
     "name": "stdout",
     "output_type": "stream",
     "text": [
      "Simulating model_p=0.75, n=20, trials=10000...\n",
      "Simulating model_p=0.75, n=100, trials=10000...\n",
      "Simulating model_p=0.75, n=1000, trials=10000...\n"
     ]
    },
    {
     "name": "stderr",
     "output_type": "stream",
     "text": [
      "/home/brian/.local/lib/python3.10/site-packages/scipy/stats/_discrete_distns.py:69: RuntimeWarning: divide by zero encountered in _binom_pdf\n",
      "  return _boost._binom_pdf(x, n, p)\n",
      "/media/sf_share/personal/lare/police_racial_profiling/code/testing/../testing/../analysis/bayes_binomial.py:32: IntegrationWarning: The integral is probably divergent, or slowly convergent.\n",
      "  result = integrate.quad(integrand, 0, 1)\n"
     ]
    }
   ],
   "source": [
    "bayes_mc.run_monte_carlo(trials=10000)"
   ]
  },
  {
   "cell_type": "code",
   "execution_count": 8,
   "id": "9c9ce85e",
   "metadata": {},
   "outputs": [
    {
     "name": "stdout",
     "output_type": "stream",
     "text": [
      "\n",
      "Model p = 0.25, n = 20, trials = 10000\n",
      "[1, 1.5): Expected: 0.50-0.60  Correct: 144 of 455 = 0.32\n",
      "[1.5, 2): Expected: 0.60-0.67  Correct: 48 of 131 = 0.37\n",
      "[2, 3): Expected: 0.67-0.75  Correct: 104 of 271 = 0.38\n",
      "[3, 4): Expected: 0.75-0.80  Correct: 56 of 118 = 0.47\n",
      "[4, 5): Expected: 0.80-0.83  Correct: 81 of 136 = 0.60\n",
      "[5, 6): Expected: 0.83-0.86  Correct: 23 of 41 = 0.56\n",
      "[6, 7): Expected: 0.86-0.88  Correct: 20 of 38 = 0.53\n",
      "[7, 8): Expected: 0.88-0.89  Correct: 0 of 0 = nan\n",
      "[8, inf): Expected: 0.89-nan  Correct: 1083 of 1141 = 0.95\n",
      "\n",
      "Model p = 0.25, n = 100, trials = 10000\n",
      "[1, 1.5): Expected: 0.50-0.60  Correct: 39 of 175 = 0.22\n",
      "[1.5, 2): Expected: 0.60-0.67  Correct: 38 of 87 = 0.44\n",
      "[2, 3): Expected: 0.67-0.75  Correct: 56 of 114 = 0.49\n",
      "[3, 4): Expected: 0.75-0.80  Correct: 25 of 53 = 0.47\n",
      "[4, 5): Expected: 0.80-0.83  Correct: 25 of 42 = 0.60\n",
      "[5, 6): Expected: 0.83-0.86  Correct: 11 of 23 = 0.48\n",
      "[6, 7): Expected: 0.86-0.88  Correct: 17 of 22 = 0.77\n",
      "[7, 8): Expected: 0.88-0.89  Correct: 8 of 13 = 0.62\n",
      "[8, inf): Expected: 0.89-nan  Correct: 1720 of 1755 = 0.98\n",
      "\n",
      "Model p = 0.25, n = 1000, trials = 10000\n",
      "[1, 1.5): Expected: 0.50-0.60  Correct: 12 of 45 = 0.27\n",
      "[1.5, 2): Expected: 0.60-0.67  Correct: 10 of 29 = 0.34\n",
      "[2, 3): Expected: 0.67-0.75  Correct: 14 of 27 = 0.52\n",
      "[3, 4): Expected: 0.75-0.80  Correct: 11 of 21 = 0.52\n",
      "[4, 5): Expected: 0.80-0.83  Correct: 6 of 9 = 0.67\n",
      "[5, 6): Expected: 0.83-0.86  Correct: 8 of 9 = 0.89\n",
      "[6, 7): Expected: 0.86-0.88  Correct: 1 of 4 = 0.25\n",
      "[7, 8): Expected: 0.88-0.89  Correct: 3 of 3 = 1.00\n",
      "[8, inf): Expected: 0.89-nan  Correct: 2074 of 2083 = 1.00\n",
      "\n",
      "Model p = 0.5, n = 20, trials = 10000\n",
      "[1, 1.5): Expected: 0.50-0.60  Correct: 298 of 482 = 0.62\n",
      "[1.5, 2): Expected: 0.60-0.67  Correct: 98 of 146 = 0.67\n",
      "[2, 3): Expected: 0.67-0.75  Correct: 286 of 391 = 0.73\n",
      "[3, 4): Expected: 0.75-0.80  Correct: 87 of 110 = 0.79\n",
      "[4, 5): Expected: 0.80-0.83  Correct: 182 of 231 = 0.79\n",
      "[5, 6): Expected: 0.83-0.86  Correct: 39 of 47 = 0.83\n",
      "[6, 7): Expected: 0.86-0.88  Correct: 42 of 46 = 0.91\n",
      "[7, 8): Expected: 0.88-0.89  Correct: 0 of 0 = nan\n",
      "[8, inf): Expected: 0.89-nan  Correct: 2181 of 2225 = 0.98\n",
      "\n",
      "Model p = 0.5, n = 100, trials = 10000\n",
      "[1, 1.5): Expected: 0.50-0.60  Correct: 115 of 194 = 0.59\n",
      "[1.5, 2): Expected: 0.60-0.67  Correct: 58 of 87 = 0.67\n",
      "[2, 3): Expected: 0.67-0.75  Correct: 80 of 128 = 0.62\n",
      "[3, 4): Expected: 0.75-0.80  Correct: 56 of 67 = 0.84\n",
      "[4, 5): Expected: 0.80-0.83  Correct: 45 of 53 = 0.85\n",
      "[5, 6): Expected: 0.83-0.86  Correct: 22 of 30 = 0.73\n",
      "[6, 7): Expected: 0.86-0.88  Correct: 33 of 38 = 0.87\n",
      "[7, 8): Expected: 0.88-0.89  Correct: 21 of 22 = 0.95\n",
      "[8, inf): Expected: 0.89-nan  Correct: 3389 of 3412 = 0.99\n",
      "\n",
      "Model p = 0.5, n = 1000, trials = 10000\n",
      "[1, 1.5): Expected: 0.50-0.60  Correct: 35 of 59 = 0.59\n",
      "[1.5, 2): Expected: 0.60-0.67  Correct: 18 of 28 = 0.64\n",
      "[2, 3): Expected: 0.67-0.75  Correct: 28 of 42 = 0.67\n",
      "[3, 4): Expected: 0.75-0.80  Correct: 15 of 21 = 0.71\n",
      "[4, 5): Expected: 0.80-0.83  Correct: 13 of 19 = 0.68\n",
      "[5, 6): Expected: 0.83-0.86  Correct: 14 of 15 = 0.93\n",
      "[6, 7): Expected: 0.86-0.88  Correct: 11 of 11 = 1.00\n",
      "[7, 8): Expected: 0.88-0.89  Correct: 4 of 7 = 0.57\n",
      "[8, inf): Expected: 0.89-nan  Correct: 4210 of 4213 = 1.00\n",
      "\n",
      "Model p = 0.75, n = 20, trials = 10000\n",
      "[1, 1.5): Expected: 0.50-0.60  Correct: 420 of 536 = 0.78\n",
      "[1.5, 2): Expected: 0.60-0.67  Correct: 126 of 151 = 0.83\n",
      "[2, 3): Expected: 0.67-0.75  Correct: 354 of 411 = 0.86\n",
      "[3, 4): Expected: 0.75-0.80  Correct: 118 of 130 = 0.91\n",
      "[4, 5): Expected: 0.80-0.83  Correct: 288 of 309 = 0.93\n",
      "[5, 6): Expected: 0.83-0.86  Correct: 61 of 64 = 0.95\n",
      "[6, 7): Expected: 0.86-0.88  Correct: 66 of 66 = 1.00\n",
      "[7, 8): Expected: 0.88-0.89  Correct: 0 of 0 = nan\n",
      "[8, inf): Expected: 0.89-nan  Correct: 3319 of 3350 = 0.99\n",
      "\n",
      "Model p = 0.75, n = 100, trials = 10000\n",
      "[1, 1.5): Expected: 0.50-0.60  Correct: 141 of 175 = 0.81\n",
      "[1.5, 2): Expected: 0.60-0.67  Correct: 102 of 121 = 0.84\n",
      "[2, 3): Expected: 0.67-0.75  Correct: 162 of 174 = 0.93\n",
      "[3, 4): Expected: 0.75-0.80  Correct: 112 of 117 = 0.96\n",
      "[4, 5): Expected: 0.80-0.83  Correct: 80 of 86 = 0.93\n",
      "[5, 6): Expected: 0.83-0.86  Correct: 39 of 40 = 0.97\n",
      "[6, 7): Expected: 0.86-0.88  Correct: 53 of 56 = 0.95\n",
      "[7, 8): Expected: 0.88-0.89  Correct: 35 of 38 = 0.92\n",
      "[8, inf): Expected: 0.89-nan  Correct: 5195 of 5206 = 1.00\n",
      "\n",
      "Model p = 0.75, n = 1000, trials = 10000\n",
      "[1, 1.5): Expected: 0.50-0.60  Correct: 35 of 47 = 0.74\n",
      "[1.5, 2): Expected: 0.60-0.67  Correct: 29 of 36 = 0.81\n",
      "[2, 3): Expected: 0.67-0.75  Correct: 38 of 42 = 0.90\n",
      "[3, 4): Expected: 0.75-0.80  Correct: 26 of 27 = 0.96\n",
      "[4, 5): Expected: 0.80-0.83  Correct: 22 of 22 = 1.00\n",
      "[5, 6): Expected: 0.83-0.86  Correct: 19 of 19 = 1.00\n",
      "[6, 7): Expected: 0.86-0.88  Correct: 13 of 13 = 1.00\n",
      "[7, 8): Expected: 0.88-0.89  Correct: 6 of 6 = 1.00\n",
      "[8, inf): Expected: 0.89-nan  Correct: 6281 of 6285 = 1.00\n"
     ]
    }
   ],
   "source": [
    "bayes_mc.display_mc(trials=10000)"
   ]
  },
  {
   "cell_type": "code",
   "execution_count": null,
   "id": "eaf4a98e",
   "metadata": {},
   "outputs": [],
   "source": []
  }
 ],
 "metadata": {
  "kernelspec": {
   "display_name": "Python 3 (ipykernel)",
   "language": "python",
   "name": "python3"
  },
  "language_info": {
   "codemirror_mode": {
    "name": "ipython",
    "version": 3
   },
   "file_extension": ".py",
   "mimetype": "text/x-python",
   "name": "python",
   "nbconvert_exporter": "python",
   "pygments_lexer": "ipython3",
   "version": "3.10.4"
  }
 },
 "nbformat": 4,
 "nbformat_minor": 5
}
