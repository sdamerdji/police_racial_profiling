{
 "cells": [
  {
   "cell_type": "code",
   "execution_count": 2,
   "id": "homeless-freeware",
   "metadata": {},
   "outputs": [],
   "source": [
    "import pandas as pd"
   ]
  },
  {
   "cell_type": "code",
   "execution_count": 5,
   "id": "about-passenger",
   "metadata": {},
   "outputs": [],
   "source": [
    "sf = pd.read_csv('../data/raw_data/san_francisco.csv', low_memory=False)"
   ]
  },
  {
   "cell_type": "code",
   "execution_count": 6,
   "id": "enclosed-breakfast",
   "metadata": {},
   "outputs": [],
   "source": [
    "la = pd.read_csv('../data/raw_data/los_angeles.csv', low_memory=False)"
   ]
  },
  {
   "cell_type": "markdown",
   "id": "hollow-inquiry",
   "metadata": {},
   "source": [
    "### To-do:\n",
    "- Check that columns with same semantic meaning for different cities have the same column name. If not, change column names. [DONE]\n",
    "- Only retain the intersection of columns shared by all cities. (Or drop cities where there's insufficient data to perform relevant tests.) [Likely dropping LA]\n",
    "- Do sanity checks to identify non-sense rows\n",
    "- Histograms of variables"
   ]
  },
  {
   "cell_type": "code",
   "execution_count": 8,
   "id": "vulnerable-rolling",
   "metadata": {},
   "outputs": [
    {
     "data": {
      "text/plain": [
       "Index(['raw_row_number', 'date', 'time', 'location', 'lat', 'lng', 'district',\n",
       "       'subject_age', 'subject_race', 'subject_sex', 'type', 'arrest_made',\n",
       "       'citation_issued', 'warning_issued', 'outcome', 'contraband_found',\n",
       "       'search_conducted', 'search_vehicle', 'search_basis', 'reason_for_stop',\n",
       "       'raw_search_vehicle_description', 'raw_result_of_contact_description'],\n",
       "      dtype='object')"
      ]
     },
     "execution_count": 8,
     "metadata": {},
     "output_type": "execute_result"
    }
   ],
   "source": [
    "sf.columns"
   ]
  },
  {
   "cell_type": "code",
   "execution_count": 9,
   "id": "forbidden-annual",
   "metadata": {},
   "outputs": [
    {
     "data": {
      "text/plain": [
       "Index(['raw_row_number', 'date', 'time', 'district', 'region', 'subject_race',\n",
       "       'subject_sex', 'officer_id_hash', 'type', 'raw_descent_description'],\n",
       "      dtype='object')"
      ]
     },
     "execution_count": 9,
     "metadata": {},
     "output_type": "execute_result"
    }
   ],
   "source": [
    "la.columns"
   ]
  },
  {
   "cell_type": "code",
   "execution_count": 15,
   "id": "relative-plate",
   "metadata": {},
   "outputs": [
    {
     "data": {
      "text/plain": [
       "{'date',\n",
       " 'district',\n",
       " 'raw_row_number',\n",
       " 'subject_race',\n",
       " 'subject_sex',\n",
       " 'time',\n",
       " 'type'}"
      ]
     },
     "execution_count": 15,
     "metadata": {},
     "output_type": "execute_result"
    }
   ],
   "source": [
    "# Columns shared by LA & SF\n",
    "set(sf.columns).intersection(set(la.columns))"
   ]
  },
  {
   "cell_type": "code",
   "execution_count": 10,
   "id": "recent-mexico",
   "metadata": {},
   "outputs": [
    {
     "data": {
      "text/plain": [
       "{'officer_id_hash', 'raw_descent_description', 'region'}"
      ]
     },
     "execution_count": 10,
     "metadata": {},
     "output_type": "execute_result"
    }
   ],
   "source": [
    "# Columns only in LA\n",
    "set(la.columns) - set(sf.columns)"
   ]
  },
  {
   "cell_type": "code",
   "execution_count": 14,
   "id": "outside-family",
   "metadata": {},
   "outputs": [
    {
     "data": {
      "text/plain": [
       "{'arrest_made',\n",
       " 'citation_issued',\n",
       " 'contraband_found',\n",
       " 'lat',\n",
       " 'lng',\n",
       " 'location',\n",
       " 'outcome',\n",
       " 'raw_result_of_contact_description',\n",
       " 'raw_search_vehicle_description',\n",
       " 'reason_for_stop',\n",
       " 'search_basis',\n",
       " 'search_conducted',\n",
       " 'search_vehicle',\n",
       " 'subject_age',\n",
       " 'warning_issued'}"
      ]
     },
     "execution_count": 14,
     "metadata": {},
     "output_type": "execute_result"
    }
   ],
   "source": [
    "# Columns only in SF\n",
    "set(sf.columns) - set(la.columns)"
   ]
  },
  {
   "cell_type": "markdown",
   "id": "geological-parish",
   "metadata": {},
   "source": [
    "**SF data takes place from 2007 to 2016. LA data takes place from 2010 to 2018.**"
   ]
  },
  {
   "cell_type": "code",
   "execution_count": 22,
   "id": "tired-wells",
   "metadata": {},
   "outputs": [
    {
     "data": {
      "text/plain": [
       "Timestamp('2007-01-01 00:00:00')"
      ]
     },
     "execution_count": 22,
     "metadata": {},
     "output_type": "execute_result"
    }
   ],
   "source": [
    "pd.to_datetime(sf.date).min()"
   ]
  },
  {
   "cell_type": "code",
   "execution_count": 23,
   "id": "threaded-console",
   "metadata": {},
   "outputs": [
    {
     "data": {
      "text/plain": [
       "Timestamp('2016-06-30 00:00:00')"
      ]
     },
     "execution_count": 23,
     "metadata": {},
     "output_type": "execute_result"
    }
   ],
   "source": [
    "pd.to_datetime(sf.date).max()"
   ]
  },
  {
   "cell_type": "code",
   "execution_count": 25,
   "id": "blessed-impact",
   "metadata": {},
   "outputs": [
    {
     "data": {
      "text/plain": [
       "Timestamp('2010-01-01 00:00:00')"
      ]
     },
     "execution_count": 25,
     "metadata": {},
     "output_type": "execute_result"
    }
   ],
   "source": [
    "pd.to_datetime(la.date).min()"
   ]
  },
  {
   "cell_type": "code",
   "execution_count": 26,
   "id": "anticipated-beast",
   "metadata": {},
   "outputs": [
    {
     "data": {
      "text/plain": [
       "Timestamp('2018-06-23 00:00:00')"
      ]
     },
     "execution_count": 26,
     "metadata": {},
     "output_type": "execute_result"
    }
   ],
   "source": [
    "pd.to_datetime(la.date).max()"
   ]
  },
  {
   "cell_type": "markdown",
   "id": "multiple-quest",
   "metadata": {},
   "source": [
    "**SF only has traffic stops, whereas LA has both.**"
   ]
  },
  {
   "cell_type": "code",
   "execution_count": 28,
   "id": "adult-intellectual",
   "metadata": {},
   "outputs": [
    {
     "data": {
      "text/plain": [
       "vehicular     4135353\n",
       "pedestrian    1283048\n",
       "Name: type, dtype: int64"
      ]
     },
     "execution_count": 28,
     "metadata": {},
     "output_type": "execute_result"
    }
   ],
   "source": [
    "la.type.value_counts()"
   ]
  },
  {
   "cell_type": "code",
   "execution_count": 29,
   "id": "great-rocket",
   "metadata": {},
   "outputs": [
    {
     "data": {
      "text/plain": [
       "vehicular    905070\n",
       "Name: type, dtype: int64"
      ]
     },
     "execution_count": 29,
     "metadata": {},
     "output_type": "execute_result"
    }
   ],
   "source": [
    "sf.type.value_counts()"
   ]
  },
  {
   "cell_type": "markdown",
   "id": "danish-beast",
   "metadata": {},
   "source": [
    "Note to self: LA seems useless since we don't know the result of the stop, whether searches occurred, etc. I think there's enough to do a veil of darkness test (which only checks for stops), but not a threshold test."
   ]
  },
  {
   "cell_type": "markdown",
   "id": "english-irish",
   "metadata": {},
   "source": [
    "One interesting thing about the **LA** dataset: they use Brian's idea of an officer id hash!"
   ]
  },
  {
   "cell_type": "code",
   "execution_count": 33,
   "id": "protective-aspect",
   "metadata": {},
   "outputs": [
    {
     "data": {
      "text/plain": [
       "26dad3a37a    21118\n",
       "f4e01343d9    18064\n",
       "845ba9b6e4    17851\n",
       "a39a690ad7    15338\n",
       "917080a91d    15321\n",
       "eccd01137d    14070\n",
       "4fc7b40217    13448\n",
       "241da4afe3    13271\n",
       "aa69ad87ba    13003\n",
       "355e33393e    12975\n",
       "Name: officer_id_hash, dtype: int64"
      ]
     },
     "execution_count": 33,
     "metadata": {},
     "output_type": "execute_result"
    }
   ],
   "source": [
    "la.officer_id_hash.value_counts()[:10]"
   ]
  },
  {
   "cell_type": "code",
   "execution_count": null,
   "id": "narrative-cowboy",
   "metadata": {},
   "outputs": [],
   "source": []
  }
 ],
 "metadata": {
  "kernelspec": {
   "display_name": "my_kernel",
   "language": "python",
   "name": "my_kernel"
  },
  "language_info": {
   "codemirror_mode": {
    "name": "ipython",
    "version": 3
   },
   "file_extension": ".py",
   "mimetype": "text/x-python",
   "name": "python",
   "nbconvert_exporter": "python",
   "pygments_lexer": "ipython3",
   "version": "3.7.10"
  }
 },
 "nbformat": 4,
 "nbformat_minor": 5
}
