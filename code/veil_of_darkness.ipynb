{
 "cells": [
  {
   "cell_type": "code",
   "execution_count": 1,
   "id": "classified-reservation",
   "metadata": {},
   "outputs": [],
   "source": [
    "import pandas as pd\n",
    "import numpy as np\n",
    "from datetime import datetime\n",
    "\n",
    "from astral import Observer\n",
    "from astral.sun import sun\n",
    "from pytz import timezone\n",
    "from timezonefinder import TimezoneFinder\n",
    "import statsmodels.api as sm\n",
    "import statsmodels.formula.api as smf"
   ]
  },
  {
   "cell_type": "code",
   "execution_count": 2,
   "id": "impressive-woman",
   "metadata": {},
   "outputs": [],
   "source": [
    "def validate_df(df):\n",
    "    assert 'date' in df.columns\n",
    "    assert 'time' in df.columns\n",
    "    assert 'lat' in df.columns\n",
    "    assert 'lng' in df.columns\n",
    "    assert 'subject_race' in df.columns"
   ]
  },
  {
   "cell_type": "code",
   "execution_count": 3,
   "id": "upper-pennsylvania",
   "metadata": {},
   "outputs": [],
   "source": [
    "def time_to_mins(time):    \n",
    "    # Return nan if time is nan\n",
    "    if time != time:\n",
    "        return time\n",
    "    \n",
    "    # Return time in mins\n",
    "    mins = int(time.hour * 60 + time.minute + time.second / 60)\n",
    "    return mins"
   ]
  },
  {
   "cell_type": "code",
   "execution_count": 4,
   "id": "extreme-appeal",
   "metadata": {},
   "outputs": [],
   "source": [
    "def clean_df(df):\n",
    "    df['date'] = pd.to_datetime(df['date'])\n",
    "    if isinstance(df.time.values[0], str):\n",
    "        df['time'] = pd.to_datetime(df.time).dt.time\n",
    "    return df"
   ]
  },
  {
   "cell_type": "code",
   "execution_count": 5,
   "id": "retained-jewel",
   "metadata": {},
   "outputs": [],
   "source": [
    "def filter_for_intertwilight_zone(df):\n",
    "    \"\"\"Assumes dusk & time are column names in df.\n",
    "    \"\"\"\n",
    "    earliest_dusk = df.dusk.min()\n",
    "    latest_dusk = df.dusk.max()\n",
    "    result = df[df.time >= earliest_dusk].copy()\n",
    "    result = result[result.time <= latest_dusk]\n",
    "    return result"
   ]
  },
  {
   "cell_type": "code",
   "execution_count": 6,
   "id": "lasting-society",
   "metadata": {},
   "outputs": [],
   "source": [
    "def black_white_stops_only(df):\n",
    "    \"\"\"Stanford OPP only compares black vs white stops.\"\"\"\n",
    "    df = df.copy()\n",
    "    is_black = df.subject_race == 'black'\n",
    "    is_white = df.subject_race == 'white'\n",
    "    return df[np.logical_or(is_black, is_white)]"
   ]
  },
  {
   "cell_type": "code",
   "execution_count": 7,
   "id": "optimum-macro",
   "metadata": {},
   "outputs": [],
   "source": [
    "def remove_grey_area_stops(df):\n",
    "    \"\"\"Remove stops that occurred after sun started setting and before sun finally vanishing.\n",
    "    It's not clear whether it's light out or dark out, so OPP removes these stops.\n",
    "    \n",
    "    Assumes sunset, dusk, and time are columns in df.\n",
    "    \n",
    "    Notes: It probably isn't necessary to remove these stops. You could model 'lighting' as a\n",
    "    continuous value in [0, 1], instead of as a boolean. You get more data, but you do have to\n",
    "    assume that the ability to racial profile is linear with the amount of lighting.\n",
    "    \"\"\"\n",
    "    after_sunset = df.sunset < df.time\n",
    "    before_dusk = df.time < df.dusk\n",
    "    df = df[~np.logical_and(after_sunset, before_dusk)].copy()\n",
    "    return df"
   ]
  },
  {
   "cell_type": "code",
   "execution_count": 8,
   "id": "acquired-azerbaijan",
   "metadata": {},
   "outputs": [],
   "source": [
    "def get_sunset_df(stops_df):\n",
    "    \"\"\"Return a dataframe where each row is a unique date and the columns denote \n",
    "    the sunset & dusk time for that date\n",
    "    \"\"\"\n",
    "    dates = pd.to_datetime(stops_df['date']).unique()\n",
    "    center_lat, center_lng = stops_df['lat'].mean(), stops_df['lng'].mean()\n",
    "    tf = TimezoneFinder()\n",
    "    tz_name = tf.timezone_at(lng=center_lng, lat=center_lat)\n",
    "    tz = timezone(tz_name)\n",
    "    city = Observer(center_lat, center_lng)\n",
    "    suns = np.array([sun(city, pd.Timestamp(date), tzinfo=tz) for date in dates])\n",
    "    sunsets = np.array([sun['sunset'].time() for sun in suns])\n",
    "    dusks = np.array([sun['dusk'].time() for sun in suns])\n",
    "    sunset_df = pd.DataFrame({'date': dates, 'sunset': sunsets, 'dusk': dusks})\n",
    "    return sunset_df"
   ]
  },
  {
   "cell_type": "code",
   "execution_count": 9,
   "id": "descending-labor",
   "metadata": {},
   "outputs": [],
   "source": [
    "def add_mutations(df):\n",
    "    \"\"\"Add columns like sunset, dusk, is_dark, time_mins, is_black, is_white.\"\"\"\n",
    "    sunset_df = get_sunset_df(df)\n",
    "    df = df.merge(sunset_df, on='date')\n",
    "    df['time_mins'] = df.time.apply(time_to_mins)\n",
    "    df['time_mins'] = pd.to_numeric(df.time_mins, errors='coerce')\n",
    "    df['is_dark'] = df['time'] > df['dusk']\n",
    "    df['is_black'] = df.subject_race == 'black'\n",
    "    df['is_white'] = df.subject_race == 'white'\n",
    "    \n",
    "    # Bin time into 15-minute intervals\n",
    "    n_bins = (df.time_mins.max() - df.time_mins.min()) / 15\n",
    "    print(n_bins)\n",
    "    df['time_bins'] = pd.cut(df['time_mins'], int(n_bins))\n",
    "    \n",
    "    return df"
   ]
  },
  {
   "cell_type": "code",
   "execution_count": 10,
   "id": "enclosed-arbor",
   "metadata": {},
   "outputs": [],
   "source": [
    "def preprocess(df):\n",
    "    df = df.copy()\n",
    "    df = clean_df(df)\n",
    "    df = black_white_stops_only(df)\n",
    "    df = add_mutations(df)\n",
    "    df = filter_for_intertwilight_zone(df)\n",
    "    df = remove_grey_area_stops(df)\n",
    "    return df"
   ]
  },
  {
   "cell_type": "code",
   "execution_count": 11,
   "id": "clear-anthropology",
   "metadata": {},
   "outputs": [
    {
     "name": "stdout",
     "output_type": "stream",
     "text": [
      "95.93333333333334\n"
     ]
    }
   ],
   "source": [
    "sf = pd.read_csv('../data/raw_data/san_francisco.csv', low_memory=False)\n",
    "sf = preprocess(sf)"
   ]
  },
  {
   "cell_type": "code",
   "execution_count": 12,
   "id": "polished-minority",
   "metadata": {},
   "outputs": [
    {
     "data": {
      "text/plain": [
       "Index(['raw_row_number', 'date', 'time', 'location', 'lat', 'lng', 'district',\n",
       "       'subject_age', 'subject_race', 'subject_sex', 'type', 'arrest_made',\n",
       "       'citation_issued', 'warning_issued', 'outcome', 'contraband_found',\n",
       "       'search_conducted', 'search_vehicle', 'search_basis', 'reason_for_stop',\n",
       "       'raw_search_vehicle_description', 'raw_result_of_contact_description',\n",
       "       'sunset', 'dusk', 'time_mins', 'is_dark', 'is_black', 'is_white',\n",
       "       'time_bins'],\n",
       "      dtype='object')"
      ]
     },
     "execution_count": 12,
     "metadata": {},
     "output_type": "execute_result"
    }
   ],
   "source": [
    "sf.columns"
   ]
  },
  {
   "cell_type": "code",
   "execution_count": 13,
   "id": "fancy-league",
   "metadata": {},
   "outputs": [],
   "source": [
    "sf['is_black'] = sf['is_black'].astype(int)"
   ]
  },
  {
   "cell_type": "code",
   "execution_count": 14,
   "id": "christian-brave",
   "metadata": {},
   "outputs": [],
   "source": [
    "mod = smf.glm(formula='is_black ~ is_dark + time_bins + district + subject_sex + subject_age', \n",
    "              family=sm.families.Binomial(),\n",
    "              data=sf)"
   ]
  },
  {
   "cell_type": "code",
   "execution_count": 15,
   "id": "embedded-warning",
   "metadata": {},
   "outputs": [],
   "source": [
    "mod = mod.fit(maxiter=20)"
   ]
  },
  {
   "cell_type": "code",
   "execution_count": 16,
   "id": "close-dairy",
   "metadata": {},
   "outputs": [
    {
     "name": "stdout",
     "output_type": "stream",
     "text": [
      "                 Generalized Linear Model Regression Results                  \n",
      "==============================================================================\n",
      "Dep. Variable:               is_black   No. Observations:                93780\n",
      "Model:                            GLM   Df Residuals:                    93749\n",
      "Model Family:                Binomial   Df Model:                           30\n",
      "Link Function:                  logit   Scale:                          1.0000\n",
      "Method:                          IRLS   Log-Likelihood:                -47657.\n",
      "Date:                Thu, 06 Jan 2022   Deviance:                       95313.\n",
      "Time:                        13:38:26   Pearson chi2:                 9.41e+04\n",
      "No. Iterations:                    20                                         \n",
      "Covariance Type:            nonrobust                                         \n",
      "=============================================================================================================================\n",
      "                                                                coef    std err          z      P>|z|      [0.025      0.975]\n",
      "-----------------------------------------------------------------------------------------------------------------------------\n",
      "Intercept                                                    -1.0916      0.043    -25.118      0.000      -1.177      -1.006\n",
      "is_dark[T.True]                                              -0.0881      0.019     -4.716      0.000      -0.125      -0.051\n",
      "time_bins[T.Interval(15.147, 30.295, closed='right')]     -2.405e-10   1.23e-07     -0.002      0.998   -2.42e-07    2.41e-07\n",
      "time_bins[T.Interval(30.295, 45.442, closed='right')]      4.555e-10   2.34e-07      0.002      0.998   -4.57e-07    4.58e-07\n",
      "time_bins[T.Interval(45.442, 60.589, closed='right')]     -2.797e-11   1.43e-08     -0.002      0.998   -2.81e-08    2.81e-08\n",
      "time_bins[T.Interval(60.589, 75.737, closed='right')]      1.443e-10    7.4e-08      0.002      0.998   -1.45e-07    1.45e-07\n",
      "time_bins[T.Interval(75.737, 90.884, closed='right')]     -2.065e-10   1.06e-07     -0.002      0.998   -2.08e-07    2.07e-07\n",
      "time_bins[T.Interval(90.884, 106.032, closed='right')]    -1.758e-10   9.01e-08     -0.002      0.998   -1.77e-07    1.76e-07\n",
      "time_bins[T.Interval(106.032, 121.179, closed='right')]    1.684e-10   8.64e-08      0.002      0.998   -1.69e-07    1.69e-07\n",
      "time_bins[T.Interval(121.179, 136.326, closed='right')]    -4.77e-11   2.45e-08     -0.002      0.998    -4.8e-08    4.79e-08\n",
      "time_bins[T.Interval(136.326, 151.474, closed='right')]     4.89e-11   2.51e-08      0.002      0.998   -4.91e-08    4.92e-08\n",
      "time_bins[T.Interval(151.474, 166.621, closed='right')]   -1.348e-10   6.91e-08     -0.002      0.998   -1.36e-07    1.35e-07\n",
      "time_bins[T.Interval(166.621, 181.768, closed='right')]   -4.732e-11   2.43e-08     -0.002      0.998   -4.76e-08    4.75e-08\n",
      "time_bins[T.Interval(181.768, 196.916, closed='right')]   -4.052e-12   2.08e-09     -0.002      0.998   -4.08e-09    4.07e-09\n",
      "time_bins[T.Interval(196.916, 212.063, closed='right')]    3.762e-11   1.93e-08      0.002      0.998   -3.78e-08    3.78e-08\n",
      "time_bins[T.Interval(212.063, 227.211, closed='right')]    4.545e-11   2.33e-08      0.002      0.998   -4.56e-08    4.57e-08\n",
      "time_bins[T.Interval(227.211, 242.358, closed='right')]    6.043e-11    3.1e-08      0.002      0.998   -6.07e-08    6.08e-08\n",
      "time_bins[T.Interval(242.358, 257.505, closed='right')]    6.152e-11   3.15e-08      0.002      0.998   -6.18e-08    6.19e-08\n",
      "time_bins[T.Interval(257.505, 272.653, closed='right')]    1.194e-11   6.12e-09      0.002      0.998    -1.2e-08     1.2e-08\n",
      "time_bins[T.Interval(272.653, 287.8, closed='right')]      7.499e-11   3.85e-08      0.002      0.998   -7.53e-08    7.54e-08\n",
      "time_bins[T.Interval(287.8, 302.947, closed='right')]       1.03e-10   5.28e-08      0.002      0.998   -1.03e-07    1.04e-07\n",
      "time_bins[T.Interval(302.947, 318.095, closed='right')]   -1.498e-10   7.68e-08     -0.002      0.998   -1.51e-07     1.5e-07\n",
      "time_bins[T.Interval(318.095, 333.242, closed='right')]   -3.542e-11   1.82e-08     -0.002      0.998   -3.56e-08    3.56e-08\n",
      "time_bins[T.Interval(333.242, 348.389, closed='right')]    -1.18e-11   6.05e-09     -0.002      0.998   -1.19e-08    1.18e-08\n",
      "time_bins[T.Interval(348.389, 363.537, closed='right')]   -2.492e-12   1.28e-09     -0.002      0.998   -2.51e-09     2.5e-09\n",
      "time_bins[T.Interval(363.537, 378.684, closed='right')]    5.951e-12   3.05e-09      0.002      0.998   -5.98e-09    5.99e-09\n",
      "time_bins[T.Interval(378.684, 393.832, closed='right')]   -4.961e-11   2.54e-08     -0.002      0.998   -4.99e-08    4.98e-08\n",
      "time_bins[T.Interval(393.832, 408.979, closed='right')]    -2.53e-11    1.3e-08     -0.002      0.998   -2.55e-08    2.54e-08\n",
      "time_bins[T.Interval(408.979, 424.126, closed='right')]    1.108e-11   5.68e-09      0.002      0.998   -1.11e-08    1.11e-08\n",
      "time_bins[T.Interval(424.126, 439.274, closed='right')]   -6.716e-13   3.44e-10     -0.002      0.998   -6.76e-10    6.74e-10\n",
      "time_bins[T.Interval(439.274, 454.421, closed='right')]    4.648e-12   2.38e-09      0.002      0.998   -4.67e-09    4.68e-09\n",
      "time_bins[T.Interval(454.421, 469.568, closed='right')]            0          0        nan        nan           0           0\n",
      "time_bins[T.Interval(469.568, 484.716, closed='right')]            0          0        nan        nan           0           0\n",
      "time_bins[T.Interval(484.716, 499.863, closed='right')]            0          0        nan        nan           0           0\n",
      "time_bins[T.Interval(499.863, 515.011, closed='right')]            0          0        nan        nan           0           0\n",
      "time_bins[T.Interval(515.011, 530.158, closed='right')]            0          0        nan        nan           0           0\n",
      "time_bins[T.Interval(530.158, 545.305, closed='right')]            0          0        nan        nan           0           0\n",
      "time_bins[T.Interval(545.305, 560.453, closed='right')]            0          0        nan        nan           0           0\n",
      "time_bins[T.Interval(560.453, 575.6, closed='right')]              0          0        nan        nan           0           0\n",
      "time_bins[T.Interval(575.6, 590.747, closed='right')]              0          0        nan        nan           0           0\n",
      "time_bins[T.Interval(590.747, 605.895, closed='right')]            0          0        nan        nan           0           0\n",
      "time_bins[T.Interval(605.895, 621.042, closed='right')]            0          0        nan        nan           0           0\n",
      "time_bins[T.Interval(621.042, 636.189, closed='right')]            0          0        nan        nan           0           0\n",
      "time_bins[T.Interval(636.189, 651.337, closed='right')]            0          0        nan        nan           0           0\n",
      "time_bins[T.Interval(651.337, 666.484, closed='right')]            0          0        nan        nan           0           0\n",
      "time_bins[T.Interval(666.484, 681.632, closed='right')]            0          0        nan        nan           0           0\n",
      "time_bins[T.Interval(681.632, 696.779, closed='right')]            0          0        nan        nan           0           0\n",
      "time_bins[T.Interval(696.779, 711.926, closed='right')]            0          0        nan        nan           0           0\n",
      "time_bins[T.Interval(711.926, 727.074, closed='right')]            0          0        nan        nan           0           0\n",
      "time_bins[T.Interval(727.074, 742.221, closed='right')]            0          0        nan        nan           0           0\n",
      "time_bins[T.Interval(742.221, 757.368, closed='right')]            0          0        nan        nan           0           0\n",
      "time_bins[T.Interval(757.368, 772.516, closed='right')]            0          0        nan        nan           0           0\n",
      "time_bins[T.Interval(772.516, 787.663, closed='right')]            0          0        nan        nan           0           0\n",
      "time_bins[T.Interval(787.663, 802.811, closed='right')]            0          0        nan        nan           0           0\n",
      "time_bins[T.Interval(802.811, 817.958, closed='right')]            0          0        nan        nan           0           0\n",
      "time_bins[T.Interval(817.958, 833.105, closed='right')]            0          0        nan        nan           0           0\n",
      "time_bins[T.Interval(833.105, 848.253, closed='right')]            0          0        nan        nan           0           0\n",
      "time_bins[T.Interval(848.253, 863.4, closed='right')]              0          0        nan        nan           0           0\n",
      "time_bins[T.Interval(863.4, 878.547, closed='right')]              0          0        nan        nan           0           0\n",
      "time_bins[T.Interval(878.547, 893.695, closed='right')]            0          0        nan        nan           0           0\n",
      "time_bins[T.Interval(893.695, 908.842, closed='right')]            0          0        nan        nan           0           0\n",
      "time_bins[T.Interval(908.842, 923.989, closed='right')]            0          0        nan        nan           0           0\n",
      "time_bins[T.Interval(923.989, 939.137, closed='right')]            0          0        nan        nan           0           0\n",
      "time_bins[T.Interval(939.137, 954.284, closed='right')]            0          0        nan        nan           0           0\n",
      "time_bins[T.Interval(954.284, 969.432, closed='right')]            0          0        nan        nan           0           0\n",
      "time_bins[T.Interval(969.432, 984.579, closed='right')]            0          0        nan        nan           0           0\n",
      "time_bins[T.Interval(984.579, 999.726, closed='right')]            0          0        nan        nan           0           0\n",
      "time_bins[T.Interval(999.726, 1014.874, closed='right')]           0          0        nan        nan           0           0\n",
      "time_bins[T.Interval(1014.874, 1030.021, closed='right')]          0          0        nan        nan           0           0\n",
      "time_bins[T.Interval(1030.021, 1045.168, closed='right')]    -0.2112      0.050     -4.211      0.000      -0.310      -0.113\n",
      "time_bins[T.Interval(1045.168, 1060.316, closed='right')]    -0.1968      0.028     -7.009      0.000      -0.252      -0.142\n",
      "time_bins[T.Interval(1060.316, 1075.463, closed='right')]    -0.1965      0.029     -6.852      0.000      -0.253      -0.140\n",
      "time_bins[T.Interval(1075.463, 1090.611, closed='right')]    -0.1324      0.027     -4.820      0.000      -0.186      -0.079\n",
      "time_bins[T.Interval(1090.611, 1105.758, closed='right')]    -0.1739      0.029     -6.023      0.000      -0.231      -0.117\n",
      "time_bins[T.Interval(1105.758, 1120.905, closed='right')]    -0.1525      0.028     -5.413      0.000      -0.208      -0.097\n",
      "time_bins[T.Interval(1120.905, 1136.053, closed='right')]    -0.1075      0.029     -3.725      0.000      -0.164      -0.051\n",
      "time_bins[T.Interval(1136.053, 1151.2, closed='right')]      -0.0965      0.028     -3.394      0.001      -0.152      -0.041\n",
      "time_bins[T.Interval(1151.2, 1166.347, closed='right')]      -0.0239      0.030     -0.798      0.425      -0.083       0.035\n",
      "time_bins[T.Interval(1166.347, 1181.495, closed='right')]    -0.0377      0.030     -1.256      0.209      -0.097       0.021\n",
      "time_bins[T.Interval(1181.495, 1196.642, closed='right')]    -0.0525      0.032     -1.629      0.103      -0.116       0.011\n",
      "time_bins[T.Interval(1196.642, 1211.789, closed='right')]     0.0295      0.032      0.920      0.358      -0.033       0.092\n",
      "time_bins[T.Interval(1211.789, 1226.937, closed='right')]     0.0581      0.036      1.631      0.103      -0.012       0.128\n",
      "time_bins[T.Interval(1226.937, 1242.084, closed='right')]     0.0507      0.037      1.360      0.174      -0.022       0.124\n",
      "time_bins[T.Interval(1242.084, 1257.232, closed='right')]     0.0154      0.041      0.379      0.705      -0.064       0.095\n",
      "time_bins[T.Interval(1257.232, 1272.379, closed='right')]     0.1362      0.045      3.016      0.003       0.048       0.225\n",
      "time_bins[T.Interval(1272.379, 1287.526, closed='right')]          0          0        nan        nan           0           0\n",
      "time_bins[T.Interval(1287.526, 1302.674, closed='right')]          0          0        nan        nan           0           0\n",
      "time_bins[T.Interval(1302.674, 1317.821, closed='right')]          0          0        nan        nan           0           0\n",
      "time_bins[T.Interval(1317.821, 1332.968, closed='right')]          0          0        nan        nan           0           0\n",
      "time_bins[T.Interval(1332.968, 1348.116, closed='right')]          0          0        nan        nan           0           0\n",
      "time_bins[T.Interval(1348.116, 1363.263, closed='right')]          0          0        nan        nan           0           0\n",
      "time_bins[T.Interval(1363.263, 1378.411, closed='right')]          0          0        nan        nan           0           0\n",
      "time_bins[T.Interval(1378.411, 1393.558, closed='right')]          0          0        nan        nan           0           0\n",
      "time_bins[T.Interval(1393.558, 1408.705, closed='right')]          0          0        nan        nan           0           0\n",
      "time_bins[T.Interval(1408.705, 1423.853, closed='right')]          0          0        nan        nan           0           0\n",
      "time_bins[T.Interval(1423.853, 1439.0, closed='right')]            0          0        nan        nan           0           0\n",
      "district[T.B]                                                 0.4727      0.043     11.115      0.000       0.389       0.556\n",
      "district[T.C]                                                 2.8055      0.042     67.172      0.000       2.724       2.887\n",
      "district[T.D]                                                 0.3266      0.044      7.461      0.000       0.241       0.412\n",
      "district[T.E]                                                 0.6566      0.044     15.034      0.000       0.571       0.742\n",
      "district[T.F]                                                 0.0759      0.047      1.623      0.105      -0.016       0.168\n",
      "district[T.G]                                                -0.7206      0.053    -13.538      0.000      -0.825      -0.616\n",
      "district[T.H]                                                 1.0944      0.042     26.157      0.000       1.012       1.176\n",
      "district[T.I]                                                 0.1030      0.046      2.222      0.026       0.012       0.194\n",
      "district[T.J]                                                 1.3342      0.045     29.421      0.000       1.245       1.423\n",
      "district[T.K]                                               -19.9961   1.03e+04     -0.002      0.998   -2.01e+04    2.01e+04\n",
      "district[T.S]                                                 0.0791      0.388      0.204      0.838      -0.682       0.840\n",
      "district[T.T]                                                 0.9869      0.467      2.113      0.035       0.071       1.902\n",
      "subject_sex[T.male]                                           0.1949      0.017     11.297      0.000       0.161       0.229\n",
      "subject_age                                                  -0.0166      0.001    -26.357      0.000      -0.018      -0.015\n",
      "=============================================================================================================================\n"
     ]
    }
   ],
   "source": [
    "print(mod.summary())"
   ]
  },
  {
   "cell_type": "code",
   "execution_count": null,
   "id": "violent-atlanta",
   "metadata": {},
   "outputs": [],
   "source": []
  }
 ],
 "metadata": {
  "kernelspec": {
   "display_name": "Python 3",
   "language": "python",
   "name": "python3"
  },
  "language_info": {
   "codemirror_mode": {
    "name": "ipython",
    "version": 3
   },
   "file_extension": ".py",
   "mimetype": "text/x-python",
   "name": "python",
   "nbconvert_exporter": "python",
   "pygments_lexer": "ipython3",
   "version": "3.8.10"
  }
 },
 "nbformat": 4,
 "nbformat_minor": 5
}
