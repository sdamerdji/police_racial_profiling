{
 "cells": [
  {
   "cell_type": "code",
   "execution_count": 109,
   "id": "comparable-circulation",
   "metadata": {},
   "outputs": [],
   "source": [
    "import math\n",
    "import pandas as pd\n",
    "import numpy as np\n",
    "from datetime import datetime\n",
    "import matplotlib.pyplot as plt\n",
    "from astral import Observer\n",
    "from astral.sun import sun\n",
    "from pytz import timezone\n",
    "from timezonefinder import TimezoneFinder\n",
    "import statsmodels.api as sm\n",
    "import statsmodels.formula.api as smf"
   ]
  },
  {
   "cell_type": "code",
   "execution_count": 2,
   "id": "hungry-rates",
   "metadata": {},
   "outputs": [],
   "source": [
    "def validate_df(df):\n",
    "    assert 'date' in df.columns\n",
    "    assert 'time' in df.columns\n",
    "    assert 'lat' in df.columns\n",
    "    assert 'lng' in df.columns\n",
    "    assert 'subject_race' in df.columns"
   ]
  },
  {
   "cell_type": "code",
   "execution_count": 3,
   "id": "former-hybrid",
   "metadata": {},
   "outputs": [],
   "source": [
    "def time_to_mins(time):    \n",
    "    # Return nan if time is nan\n",
    "    if time != time:\n",
    "        return time\n",
    "    \n",
    "    # Return time in mins\n",
    "    mins = int(time.hour * 60 + time.minute + time.second / 60)\n",
    "    return mins"
   ]
  },
  {
   "cell_type": "code",
   "execution_count": 4,
   "id": "referenced-oxford",
   "metadata": {},
   "outputs": [],
   "source": [
    "def clean_df(df):\n",
    "    df['date'] = pd.to_datetime(df['date'])\n",
    "    if isinstance(df.time.values[0], str):\n",
    "        df['time'] = pd.to_datetime(df.time).dt.time\n",
    "    return df"
   ]
  },
  {
   "cell_type": "code",
   "execution_count": 5,
   "id": "spread-exhibit",
   "metadata": {},
   "outputs": [],
   "source": [
    "def filter_for_intertwilight_zone(df):\n",
    "    \"\"\"Assumes dusk & time are column names in df.\n",
    "    \"\"\"\n",
    "    earliest_dusk = df.dusk.min()\n",
    "    latest_dusk = df.dusk.max()\n",
    "    result = df[df.time >= earliest_dusk].copy()\n",
    "    result = result[result.time <= latest_dusk]\n",
    "    return result"
   ]
  },
  {
   "cell_type": "code",
   "execution_count": 6,
   "id": "vocational-sponsorship",
   "metadata": {},
   "outputs": [],
   "source": [
    "def black_white_stops_only(df):\n",
    "    \"\"\"Stanford OPP only compares black vs white stops.\"\"\"\n",
    "    df = df.copy()\n",
    "    is_black = df.subject_race == 'black'\n",
    "    is_white = df.subject_race == 'white'\n",
    "    return df[np.logical_or(is_black, is_white)]"
   ]
  },
  {
   "cell_type": "code",
   "execution_count": 7,
   "id": "monthly-event",
   "metadata": {},
   "outputs": [],
   "source": [
    "def remove_grey_area_stops(df):\n",
    "    \"\"\"Remove stops that occurred after sun started setting and before sun finally vanishing.\n",
    "    It's not clear whether it's light out or dark out, so OPP removes these stops.\n",
    "    \n",
    "    Assumes sunset, dusk, and time are columns in df.\n",
    "    \n",
    "    Notes: It probably isn't necessary to remove these stops. You could model 'lighting' as a\n",
    "    continuous value in [0, 1], instead of as a boolean. You get more data, but you do have to\n",
    "    assume that the ability to racial profile is linear with the amount of lighting.\n",
    "    \"\"\"\n",
    "    after_sunset = df.sunset < df.time\n",
    "    before_dusk = df.time < df.dusk\n",
    "    df = df[~np.logical_and(after_sunset, before_dusk)].copy()\n",
    "    return df"
   ]
  },
  {
   "cell_type": "code",
   "execution_count": 8,
   "id": "imported-solomon",
   "metadata": {},
   "outputs": [],
   "source": [
    "def get_sunset_df(stops_df):\n",
    "    \"\"\"Return a dataframe where each row is a unique date and the columns denote \n",
    "    the sunset & dusk time for that date\n",
    "    \"\"\"\n",
    "    dates = pd.to_datetime(stops_df['date']).unique()\n",
    "    center_lat, center_lng = stops_df['lat'].mean(), stops_df['lng'].mean()\n",
    "    tf = TimezoneFinder()\n",
    "    tz_name = tf.timezone_at(lng=center_lng, lat=center_lat)\n",
    "    tz = timezone(tz_name)\n",
    "    city = Observer(center_lat, center_lng)\n",
    "    suns = np.array([sun(city, pd.Timestamp(date), tzinfo=tz) for date in dates])\n",
    "    sunsets = np.array([sun['sunset'].time() for sun in suns])\n",
    "    dusks = np.array([sun['dusk'].time() for sun in suns])\n",
    "    sunset_df = pd.DataFrame({'date': dates, 'sunset': sunsets, 'dusk': dusks})\n",
    "    return sunset_df"
   ]
  },
  {
   "cell_type": "code",
   "execution_count": 9,
   "id": "distinguished-flooring",
   "metadata": {},
   "outputs": [],
   "source": [
    "def add_mutations(df):\n",
    "    \"\"\"Add columns like sunset, dusk, is_dark, time_mins, is_black, is_white.\"\"\"\n",
    "    sunset_df = get_sunset_df(df)\n",
    "    df = df.merge(sunset_df, on='date')\n",
    "    df['time_mins'] = df.time.apply(time_to_mins)\n",
    "    df['time_mins'] = pd.to_numeric(df.time_mins, errors='coerce')\n",
    "    df['is_dark'] = df['time'] > df['dusk']\n",
    "    df['is_black'] = (df.subject_race == 'black').astype(int)\n",
    "    df['is_white'] = (df.subject_race == 'white').astype(int)\n",
    "    \n",
    "    # Bin time into 15-minute intervals\n",
    "    n_bins = (df.time_mins.max() - df.time_mins.min()) / 15\n",
    "    df = df[df.time_mins.notna()]\n",
    "    df['time_bins'] = pd.cut(df['time_mins'], int(n_bins))\n",
    "    df['time_bins'] = [str(round(v.left)) for v in df['time_bins'].values]\n",
    "    return df"
   ]
  },
  {
   "cell_type": "code",
   "execution_count": 10,
   "id": "dressed-occasion",
   "metadata": {},
   "outputs": [],
   "source": [
    "def preprocess(df):\n",
    "    df = df.copy()\n",
    "    df = clean_df(df)\n",
    "    df = black_white_stops_only(df)\n",
    "    df = add_mutations(df)\n",
    "    df = filter_for_intertwilight_zone(df)\n",
    "    df = remove_grey_area_stops(df)\n",
    "    return df"
   ]
  },
  {
   "cell_type": "code",
   "execution_count": 185,
   "id": "partial-liability",
   "metadata": {},
   "outputs": [],
   "source": [
    "def veil_of_darkness_model(df, skip_preprocess=False):\n",
    "    if not skip_preprocess:\n",
    "        df = preprocess(df)\n",
    "    mod = smf.glm(formula='is_black ~ is_dark + time_bins + district + subject_sex + subject_age', \n",
    "              family=sm.families.Binomial(),\n",
    "              data=df)\n",
    "    mod = mod.fit()\n",
    "    return mod"
   ]
  },
  {
   "cell_type": "code",
   "execution_count": 186,
   "id": "stock-yahoo",
   "metadata": {},
   "outputs": [],
   "source": [
    "def veil_of_darkness_results(df, skip_preprocess=False):\n",
    "    \"\"\"Return tuple (p value of racial profiling, increased likelihood of being stopped bc black).\"\"\"\n",
    "    mod = veil_of_darkness_model(df, skip_preprocess)\n",
    "    p_val = mod.pvalues['is_dark[T.True]']\n",
    "    increased_odds = np.exp(mod.params)['is_dark[T.True]']\n",
    "    n_sig_digits = 5\n",
    "    return round(p_val, n_sig_digits), round(1 - increased_odds, n_sig_digits)"
   ]
  },
  {
   "cell_type": "code",
   "execution_count": 190,
   "id": "olive-wayne",
   "metadata": {},
   "outputs": [
    {
     "name": "stdout",
     "output_type": "stream",
     "text": [
      "                 Generalized Linear Model Regression Results                  \n",
      "==============================================================================\n",
      "Dep. Variable:               is_black   No. Observations:                93780\n",
      "Model:                            GLM   Df Residuals:                    93749\n",
      "Model Family:                Binomial   Df Model:                           30\n",
      "Link Function:                  logit   Scale:                          1.0000\n",
      "Method:                          IRLS   Log-Likelihood:                -47657.\n",
      "Date:                Mon, 19 Jul 2021   Deviance:                       95313.\n",
      "Time:                        23:33:11   Pearson chi2:                 9.41e+04\n",
      "No. Iterations:                    21                                         \n",
      "Covariance Type:            nonrobust                                         \n",
      "=======================================================================================\n",
      "                          coef    std err          z      P>|z|      [0.025      0.975]\n",
      "---------------------------------------------------------------------------------------\n",
      "Intercept              -1.3028      0.069    -19.012      0.000      -1.437      -1.169\n",
      "is_dark[T.True]        -0.0881      0.019     -4.716      0.000      -0.125      -0.051\n",
      "time_bins[T.1045]       0.0145      0.059      0.246      0.806      -0.101       0.130\n",
      "time_bins[T.1060]       0.0148      0.059      0.249      0.803      -0.101       0.131\n",
      "time_bins[T.1075]       0.0788      0.059      1.340      0.180      -0.036       0.194\n",
      "time_bins[T.1091]       0.0373      0.060      0.624      0.533      -0.080       0.154\n",
      "time_bins[T.1106]       0.0587      0.059      0.987      0.324      -0.058       0.175\n",
      "time_bins[T.1121]       0.1037      0.060      1.729      0.084      -0.014       0.221\n",
      "time_bins[T.1136]       0.1147      0.060      1.918      0.055      -0.003       0.232\n",
      "time_bins[T.1151]       0.1873      0.061      3.083      0.002       0.068       0.306\n",
      "time_bins[T.1166]       0.1735      0.061      2.847      0.004       0.054       0.293\n",
      "time_bins[T.1181]       0.1588      0.062      2.545      0.011       0.037       0.281\n",
      "time_bins[T.1197]       0.2407      0.062      3.854      0.000       0.118       0.363\n",
      "time_bins[T.1212]       0.2693      0.065      4.152      0.000       0.142       0.396\n",
      "time_bins[T.1227]       0.2620      0.066      3.956      0.000       0.132       0.392\n",
      "time_bins[T.1242]       0.2266      0.068      3.309      0.001       0.092       0.361\n",
      "time_bins[T.1257]       0.3474      0.072      4.849      0.000       0.207       0.488\n",
      "district[T.B]           0.4727      0.043     11.114      0.000       0.389       0.556\n",
      "district[T.C]           2.8055      0.042     67.171      0.000       2.724       2.887\n",
      "district[T.D]           0.3266      0.044      7.461      0.000       0.241       0.412\n",
      "district[T.E]           0.6566      0.044     15.033      0.000       0.571       0.742\n",
      "district[T.F]           0.0759      0.047      1.623      0.105      -0.016       0.168\n",
      "district[T.G]          -0.7206      0.053    -13.538      0.000      -0.825      -0.616\n",
      "district[T.H]           1.0944      0.042     26.156      0.000       1.012       1.176\n",
      "district[T.I]           0.1030      0.046      2.222      0.026       0.012       0.194\n",
      "district[T.J]           1.3342      0.045     29.420      0.000       1.245       1.423\n",
      "district[T.K]         -21.0017    1.7e+04     -0.001      0.999   -3.32e+04    3.32e+04\n",
      "district[T.S]           0.0791      0.388      0.204      0.838      -0.682       0.840\n",
      "district[T.T]           0.9869      0.467      2.113      0.035       0.071       1.902\n",
      "subject_sex[T.male]     0.1949      0.017     11.296      0.000       0.161       0.229\n",
      "subject_age            -0.0166      0.001    -26.356      0.000      -0.018      -0.015\n",
      "=======================================================================================\n"
     ]
    }
   ],
   "source": [
    "# summarize sf\n",
    "sf = pd.read_csv('../data/raw_data/san_francisco.csv', low_memory=False)\n",
    "mod = veil_of_darkness_model(sf)\n",
    "print(mod.summary())"
   ]
  },
  {
   "cell_type": "code",
   "execution_count": 65,
   "id": "prepared-gossip",
   "metadata": {},
   "outputs": [
    {
     "data": {
      "text/plain": [
       "(0.0, 0.08434)"
      ]
     },
     "execution_count": 65,
     "metadata": {},
     "output_type": "execute_result"
    }
   ],
   "source": [
    "veil_of_darkness_results(sf)"
   ]
  },
  {
   "cell_type": "code",
   "execution_count": 211,
   "id": "nominated-summit",
   "metadata": {},
   "outputs": [],
   "source": [
    "def sample_n(df, M=250, n=100):\n",
    "    \"\"\"Stratify sample black & white stops\"\"\"\n",
    "    \n",
    "    pval_lst = []\n",
    "    odds_lst = []\n",
    "    df = preprocess(df.copy())\n",
    "    black = df[df['is_black'] == 1]\n",
    "    white = df[df['is_white'] == 1]\n",
    "    frac_white = len(white.index) / len(df.index)\n",
    "    n_white = (int) (frac_white * n)\n",
    "    n_black = (int) ((1 - frac_white) * n)\n",
    "\n",
    "    for i in range(M):\n",
    "        sampled_white = white.sample(n_white)\n",
    "        sampled_black = black.sample(n_black)\n",
    "        sampled = pd.concat([sampled_white, sampled_black], axis=0)\n",
    "        pval, odds = veil_of_darkness_results(sampled, skip_preprocess=True)\n",
    "        pval_lst.append(pval)\n",
    "        odds_lst.append(odds)\n",
    "    return pval_lst, odds_lst"
   ]
  },
  {
   "cell_type": "code",
   "execution_count": 90,
   "id": "nasty-anaheim",
   "metadata": {},
   "outputs": [
    {
     "data": {
      "text/plain": [
       "171"
      ]
     },
     "execution_count": 90,
     "metadata": {},
     "output_type": "execute_result"
    }
   ],
   "source": [
    "avg_yearly = df['date'].dt.year.value_counts().mean()\n",
    "sfpd_size = 1869\n",
    "lapd_size = 32\n",
    "n_hat = int(avg_yearly * lapd_size / sfpd_size)\n",
    "n_hat"
   ]
  },
  {
   "cell_type": "code",
   "execution_count": 208,
   "id": "accessory-stopping",
   "metadata": {},
   "outputs": [
    {
     "data": {
      "text/plain": [
       "70239"
      ]
     },
     "execution_count": 208,
     "metadata": {},
     "output_type": "execute_result"
    }
   ],
   "source": [
    "n_white"
   ]
  },
  {
   "cell_type": "code",
   "execution_count": 209,
   "id": "lovely-scotland",
   "metadata": {},
   "outputs": [
    {
     "data": {
      "text/plain": [
       "29926"
      ]
     },
     "execution_count": 209,
     "metadata": {},
     "output_type": "execute_result"
    }
   ],
   "source": [
    "n_black"
   ]
  },
  {
   "cell_type": "code",
   "execution_count": 210,
   "id": "immediate-locator",
   "metadata": {},
   "outputs": [
    {
     "data": {
      "text/plain": [
       "0.7012329656067489"
      ]
     },
     "execution_count": 210,
     "metadata": {},
     "output_type": "execute_result"
    }
   ],
   "source": [
    "frac_white"
   ]
  },
  {
   "cell_type": "code",
   "execution_count": 172,
   "id": "saved-phase",
   "metadata": {},
   "outputs": [
    {
     "data": {
      "text/plain": [
       "0.017121455323702513"
      ]
     },
     "execution_count": 172,
     "metadata": {},
     "output_type": "execute_result"
    }
   ],
   "source": [
    "lapd_size / sfpd_size"
   ]
  },
  {
   "cell_type": "code",
   "execution_count": 173,
   "id": "instant-accent",
   "metadata": {},
   "outputs": [
    {
     "data": {
      "text/plain": [
       "10016.5"
      ]
     },
     "execution_count": 173,
     "metadata": {},
     "output_type": "execute_result"
    }
   ],
   "source": [
    "avg_yearly"
   ]
  },
  {
   "cell_type": "code",
   "execution_count": 94,
   "id": "accredited-dominant",
   "metadata": {},
   "outputs": [
    {
     "data": {
      "text/plain": [
       "171"
      ]
     },
     "execution_count": 94,
     "metadata": {},
     "output_type": "execute_result"
    }
   ],
   "source": [
    "n_hat"
   ]
  },
  {
   "cell_type": "code",
   "execution_count": 118,
   "id": "collaborative-colonial",
   "metadata": {},
   "outputs": [
    {
     "data": {
      "text/plain": [
       "905070"
      ]
     },
     "execution_count": 118,
     "metadata": {},
     "output_type": "execute_result"
    }
   ],
   "source": [
    "len(sf.index)"
   ]
  },
  {
   "cell_type": "code",
   "execution_count": 212,
   "id": "distinguished-particular",
   "metadata": {},
   "outputs": [],
   "source": [
    "pvalues, _ = sample_n(sf, 100, n_hat)\n",
    "frac = sum([p < .1 for p in pvalues]) / len(pvalues)"
   ]
  },
  {
   "cell_type": "code",
   "execution_count": 215,
   "id": "bearing-killer",
   "metadata": {},
   "outputs": [
    {
     "data": {
      "text/plain": [
       "0.1"
      ]
     },
     "execution_count": 215,
     "metadata": {},
     "output_type": "execute_result"
    }
   ],
   "source": [
    "frac"
   ]
  },
  {
   "cell_type": "code",
   "execution_count": 119,
   "id": "liked-arrow",
   "metadata": {},
   "outputs": [],
   "source": [
    "fracs = []\n",
    "for n in range(10000, 100000, 10000):\n",
    "    pvalues, _ = sample_n(sf, 75, n)\n",
    "    frac = sum([p < .1 for p in pvalues]) / len(pvalues)\n",
    "    fracs.append(frac)"
   ]
  },
  {
   "cell_type": "code",
   "execution_count": 200,
   "id": "revolutionary-effects",
   "metadata": {},
   "outputs": [
    {
     "name": "stdout",
     "output_type": "stream",
     "text": [
      "[0.17333333333333334, 0.16, 0.25333333333333335, 0.30666666666666664, 0.22666666666666666, 0.29333333333333333, 0.37333333333333335, 0.44, 0.4266666666666667]\n"
     ]
    }
   ],
   "source": [
    "print(fracs)"
   ]
  },
  {
   "cell_type": "code",
   "execution_count": 122,
   "id": "continuing-arthur",
   "metadata": {},
   "outputs": [
    {
     "data": {
      "text/plain": [
       "<matplotlib.collections.PathCollection at 0x1350eda30>"
      ]
     },
     "execution_count": 122,
     "metadata": {},
     "output_type": "execute_result"
    },
    {
     "data": {
      "image/png": "[encoded data removed]",
      "text/plain": [
       "<Figure size 432x288 with 1 Axes>"
      ]
     },
     "metadata": {
      "needs_background": "light"
     },
     "output_type": "display_data"
    }
   ],
   "source": [
    "plt.scatter(range(10000, 100000, 10000), fracs)"
   ]
  },
  {
   "cell_type": "code",
   "execution_count": 124,
   "id": "authentic-carrier",
   "metadata": {},
   "outputs": [
    {
     "data": {
      "text/plain": [
       "white                     372318\n",
       "asian/pacific islander    157684\n",
       "black                     152196\n",
       "hispanic                  116014\n",
       "other                     106858\n",
       "Name: subject_race, dtype: int64"
      ]
     },
     "execution_count": 124,
     "metadata": {},
     "output_type": "execute_result"
    }
   ],
   "source": [
    "sf.subject_race.value_counts()"
   ]
  },
  {
   "cell_type": "code",
   "execution_count": 133,
   "id": "annual-cooperation",
   "metadata": {},
   "outputs": [
    {
     "data": {
      "text/html": [
       "<div>\n",
       "<style scoped>\n",
       "    .dataframe tbody tr th:only-of-type {\n",
       "        vertical-align: middle;\n",
       "    }\n",
       "\n",
       "    .dataframe tbody tr th {\n",
       "        vertical-align: top;\n",
       "    }\n",
       "\n",
       "    .dataframe thead th {\n",
       "        text-align: right;\n",
       "    }\n",
       "</style>\n",
       "<table border=\"1\" class=\"dataframe\">\n",
       "  <thead>\n",
       "    <tr style=\"text-align: right;\">\n",
       "      <th></th>\n",
       "      <th>raw_row_number</th>\n",
       "      <th>date</th>\n",
       "      <th>time</th>\n",
       "      <th>location</th>\n",
       "      <th>lat</th>\n",
       "      <th>lng</th>\n",
       "      <th>district</th>\n",
       "      <th>subject_age</th>\n",
       "      <th>subject_race</th>\n",
       "      <th>subject_sex</th>\n",
       "      <th>...</th>\n",
       "      <th>reason_for_stop</th>\n",
       "      <th>raw_search_vehicle_description</th>\n",
       "      <th>raw_result_of_contact_description</th>\n",
       "      <th>sunset</th>\n",
       "      <th>dusk</th>\n",
       "      <th>time_mins</th>\n",
       "      <th>is_dark</th>\n",
       "      <th>is_black</th>\n",
       "      <th>is_white</th>\n",
       "      <th>time_bins</th>\n",
       "    </tr>\n",
       "  </thead>\n",
       "  <tbody>\n",
       "    <tr>\n",
       "      <th>62</th>\n",
       "      <td>870075</td>\n",
       "      <td>2014-08-01</td>\n",
       "      <td>17:32:00</td>\n",
       "      <td>SILVER AVE &amp; MADRID ST</td>\n",
       "      <td>37.728565</td>\n",
       "      <td>-122.427611</td>\n",
       "      <td>NaN</td>\n",
       "      <td>NaN</td>\n",
       "      <td>white</td>\n",
       "      <td>female</td>\n",
       "      <td>...</td>\n",
       "      <td>Mechanical or Non-Moving Violation (V.C.)</td>\n",
       "      <td>No Search</td>\n",
       "      <td>Citation</td>\n",
       "      <td>20:17:56.679932</td>\n",
       "      <td>20:47:30.286907</td>\n",
       "      <td>1052.0</td>\n",
       "      <td>False</td>\n",
       "      <td>0</td>\n",
       "      <td>1</td>\n",
       "      <td>1045</td>\n",
       "    </tr>\n",
       "    <tr>\n",
       "      <th>63</th>\n",
       "      <td>870076</td>\n",
       "      <td>2014-08-01</td>\n",
       "      <td>17:40:00</td>\n",
       "      <td>FORESTER &amp; HEARST</td>\n",
       "      <td>37.730697</td>\n",
       "      <td>-122.448889</td>\n",
       "      <td>NaN</td>\n",
       "      <td>NaN</td>\n",
       "      <td>white</td>\n",
       "      <td>female</td>\n",
       "      <td>...</td>\n",
       "      <td>Mechanical or Non-Moving Violation (V.C.)</td>\n",
       "      <td>No Search</td>\n",
       "      <td>Citation</td>\n",
       "      <td>20:17:56.679932</td>\n",
       "      <td>20:47:30.286907</td>\n",
       "      <td>1060.0</td>\n",
       "      <td>False</td>\n",
       "      <td>0</td>\n",
       "      <td>1</td>\n",
       "      <td>1045</td>\n",
       "    </tr>\n",
       "    <tr>\n",
       "      <th>64</th>\n",
       "      <td>870083</td>\n",
       "      <td>2014-08-01</td>\n",
       "      <td>18:23:00</td>\n",
       "      <td>26TH AVE &amp; OCEAN AVE</td>\n",
       "      <td>37.732448</td>\n",
       "      <td>-122.481894</td>\n",
       "      <td>NaN</td>\n",
       "      <td>NaN</td>\n",
       "      <td>white</td>\n",
       "      <td>female</td>\n",
       "      <td>...</td>\n",
       "      <td>Moving Violation</td>\n",
       "      <td>No Search</td>\n",
       "      <td>Warning</td>\n",
       "      <td>20:17:56.679932</td>\n",
       "      <td>20:47:30.286907</td>\n",
       "      <td>1103.0</td>\n",
       "      <td>False</td>\n",
       "      <td>0</td>\n",
       "      <td>1</td>\n",
       "      <td>1091</td>\n",
       "    </tr>\n",
       "    <tr>\n",
       "      <th>65</th>\n",
       "      <td>870085</td>\n",
       "      <td>2014-08-01</td>\n",
       "      <td>18:30:00</td>\n",
       "      <td>KEITH &amp; SHAFTER</td>\n",
       "      <td>37.729998</td>\n",
       "      <td>-122.388886</td>\n",
       "      <td>NaN</td>\n",
       "      <td>NaN</td>\n",
       "      <td>white</td>\n",
       "      <td>male</td>\n",
       "      <td>...</td>\n",
       "      <td>Moving Violation</td>\n",
       "      <td>No Search</td>\n",
       "      <td>Warning</td>\n",
       "      <td>20:17:56.679932</td>\n",
       "      <td>20:47:30.286907</td>\n",
       "      <td>1110.0</td>\n",
       "      <td>False</td>\n",
       "      <td>0</td>\n",
       "      <td>1</td>\n",
       "      <td>1106</td>\n",
       "    </tr>\n",
       "    <tr>\n",
       "      <th>66</th>\n",
       "      <td>870086</td>\n",
       "      <td>2014-08-01</td>\n",
       "      <td>18:35:00</td>\n",
       "      <td>3RD ST &amp; SHAFTER AVE</td>\n",
       "      <td>37.731643</td>\n",
       "      <td>-122.391910</td>\n",
       "      <td>NaN</td>\n",
       "      <td>NaN</td>\n",
       "      <td>black</td>\n",
       "      <td>female</td>\n",
       "      <td>...</td>\n",
       "      <td>Mechanical or Non-Moving Violation (V.C.)</td>\n",
       "      <td>No Search</td>\n",
       "      <td>Citation</td>\n",
       "      <td>20:17:56.679932</td>\n",
       "      <td>20:47:30.286907</td>\n",
       "      <td>1115.0</td>\n",
       "      <td>False</td>\n",
       "      <td>1</td>\n",
       "      <td>0</td>\n",
       "      <td>1106</td>\n",
       "    </tr>\n",
       "    <tr>\n",
       "      <th>...</th>\n",
       "      <td>...</td>\n",
       "      <td>...</td>\n",
       "      <td>...</td>\n",
       "      <td>...</td>\n",
       "      <td>...</td>\n",
       "      <td>...</td>\n",
       "      <td>...</td>\n",
       "      <td>...</td>\n",
       "      <td>...</td>\n",
       "      <td>...</td>\n",
       "      <td>...</td>\n",
       "      <td>...</td>\n",
       "      <td>...</td>\n",
       "      <td>...</td>\n",
       "      <td>...</td>\n",
       "      <td>...</td>\n",
       "      <td>...</td>\n",
       "      <td>...</td>\n",
       "      <td>...</td>\n",
       "      <td>...</td>\n",
       "      <td>...</td>\n",
       "    </tr>\n",
       "    <tr>\n",
       "      <th>524481</th>\n",
       "      <td>892945</td>\n",
       "      <td>2014-10-31</td>\n",
       "      <td>20:10:00</td>\n",
       "      <td>30TH AND JUDAH ST</td>\n",
       "      <td>37.760934</td>\n",
       "      <td>-122.489113</td>\n",
       "      <td>NaN</td>\n",
       "      <td>NaN</td>\n",
       "      <td>white</td>\n",
       "      <td>male</td>\n",
       "      <td>...</td>\n",
       "      <td>Moving Violation</td>\n",
       "      <td>No Search</td>\n",
       "      <td>Warning</td>\n",
       "      <td>18:11:45.473546</td>\n",
       "      <td>18:39:23.722824</td>\n",
       "      <td>1210.0</td>\n",
       "      <td>True</td>\n",
       "      <td>0</td>\n",
       "      <td>1</td>\n",
       "      <td>1197</td>\n",
       "    </tr>\n",
       "    <tr>\n",
       "      <th>524482</th>\n",
       "      <td>892946</td>\n",
       "      <td>2014-10-31</td>\n",
       "      <td>20:15:00</td>\n",
       "      <td>LAKE ST &amp; 12TH AVE</td>\n",
       "      <td>37.786395</td>\n",
       "      <td>-122.471136</td>\n",
       "      <td>NaN</td>\n",
       "      <td>NaN</td>\n",
       "      <td>white</td>\n",
       "      <td>male</td>\n",
       "      <td>...</td>\n",
       "      <td>Moving Violation</td>\n",
       "      <td>No Search</td>\n",
       "      <td>Citation</td>\n",
       "      <td>18:11:45.473546</td>\n",
       "      <td>18:39:23.722824</td>\n",
       "      <td>1215.0</td>\n",
       "      <td>True</td>\n",
       "      <td>0</td>\n",
       "      <td>1</td>\n",
       "      <td>1212</td>\n",
       "    </tr>\n",
       "    <tr>\n",
       "      <th>524483</th>\n",
       "      <td>892950</td>\n",
       "      <td>2014-10-31</td>\n",
       "      <td>20:38:00</td>\n",
       "      <td>JEFFERSON ST &amp; MASON ST</td>\n",
       "      <td>37.808428</td>\n",
       "      <td>-122.414188</td>\n",
       "      <td>NaN</td>\n",
       "      <td>NaN</td>\n",
       "      <td>white</td>\n",
       "      <td>male</td>\n",
       "      <td>...</td>\n",
       "      <td>Moving Violation</td>\n",
       "      <td>No Search</td>\n",
       "      <td>Citation</td>\n",
       "      <td>18:11:45.473546</td>\n",
       "      <td>18:39:23.722824</td>\n",
       "      <td>1238.0</td>\n",
       "      <td>True</td>\n",
       "      <td>0</td>\n",
       "      <td>1</td>\n",
       "      <td>1227</td>\n",
       "    </tr>\n",
       "    <tr>\n",
       "      <th>524484</th>\n",
       "      <td>892954</td>\n",
       "      <td>2014-10-31</td>\n",
       "      <td>20:54:00</td>\n",
       "      <td>JERROLD AVENUE &amp; PHELPS STREET</td>\n",
       "      <td>37.739862</td>\n",
       "      <td>-122.391287</td>\n",
       "      <td>NaN</td>\n",
       "      <td>NaN</td>\n",
       "      <td>white</td>\n",
       "      <td>male</td>\n",
       "      <td>...</td>\n",
       "      <td>Mechanical or Non-Moving Violation (V.C.)</td>\n",
       "      <td>No Search</td>\n",
       "      <td>Citation</td>\n",
       "      <td>18:11:45.473546</td>\n",
       "      <td>18:39:23.722824</td>\n",
       "      <td>1254.0</td>\n",
       "      <td>True</td>\n",
       "      <td>0</td>\n",
       "      <td>1</td>\n",
       "      <td>1242</td>\n",
       "    </tr>\n",
       "    <tr>\n",
       "      <th>524485</th>\n",
       "      <td>892956</td>\n",
       "      <td>2014-10-31</td>\n",
       "      <td>21:06:00</td>\n",
       "      <td>16TH AVE &amp; BALBOA ST</td>\n",
       "      <td>37.776749</td>\n",
       "      <td>-122.474838</td>\n",
       "      <td>NaN</td>\n",
       "      <td>NaN</td>\n",
       "      <td>white</td>\n",
       "      <td>female</td>\n",
       "      <td>...</td>\n",
       "      <td>Moving Violation</td>\n",
       "      <td>No Search</td>\n",
       "      <td>Warning</td>\n",
       "      <td>18:11:45.473546</td>\n",
       "      <td>18:39:23.722824</td>\n",
       "      <td>1266.0</td>\n",
       "      <td>True</td>\n",
       "      <td>0</td>\n",
       "      <td>1</td>\n",
       "      <td>1257</td>\n",
       "    </tr>\n",
       "  </tbody>\n",
       "</table>\n",
       "<p>100165 rows × 29 columns</p>\n",
       "</div>"
      ],
      "text/plain": [
       "       raw_row_number       date      time                        location  \\\n",
       "62             870075 2014-08-01  17:32:00          SILVER AVE & MADRID ST   \n",
       "63             870076 2014-08-01  17:40:00               FORESTER & HEARST   \n",
       "64             870083 2014-08-01  18:23:00            26TH AVE & OCEAN AVE   \n",
       "65             870085 2014-08-01  18:30:00                 KEITH & SHAFTER   \n",
       "66             870086 2014-08-01  18:35:00            3RD ST & SHAFTER AVE   \n",
       "...               ...        ...       ...                             ...   \n",
       "524481         892945 2014-10-31  20:10:00               30TH AND JUDAH ST   \n",
       "524482         892946 2014-10-31  20:15:00              LAKE ST & 12TH AVE   \n",
       "524483         892950 2014-10-31  20:38:00         JEFFERSON ST & MASON ST   \n",
       "524484         892954 2014-10-31  20:54:00  JERROLD AVENUE & PHELPS STREET   \n",
       "524485         892956 2014-10-31  21:06:00            16TH AVE & BALBOA ST   \n",
       "\n",
       "              lat         lng district  subject_age subject_race subject_sex  \\\n",
       "62      37.728565 -122.427611      NaN          NaN        white      female   \n",
       "63      37.730697 -122.448889      NaN          NaN        white      female   \n",
       "64      37.732448 -122.481894      NaN          NaN        white      female   \n",
       "65      37.729998 -122.388886      NaN          NaN        white        male   \n",
       "66      37.731643 -122.391910      NaN          NaN        black      female   \n",
       "...           ...         ...      ...          ...          ...         ...   \n",
       "524481  37.760934 -122.489113      NaN          NaN        white        male   \n",
       "524482  37.786395 -122.471136      NaN          NaN        white        male   \n",
       "524483  37.808428 -122.414188      NaN          NaN        white        male   \n",
       "524484  37.739862 -122.391287      NaN          NaN        white        male   \n",
       "524485  37.776749 -122.474838      NaN          NaN        white      female   \n",
       "\n",
       "        ...                            reason_for_stop  \\\n",
       "62      ...  Mechanical or Non-Moving Violation (V.C.)   \n",
       "63      ...  Mechanical or Non-Moving Violation (V.C.)   \n",
       "64      ...                           Moving Violation   \n",
       "65      ...                           Moving Violation   \n",
       "66      ...  Mechanical or Non-Moving Violation (V.C.)   \n",
       "...     ...                                        ...   \n",
       "524481  ...                           Moving Violation   \n",
       "524482  ...                           Moving Violation   \n",
       "524483  ...                           Moving Violation   \n",
       "524484  ...  Mechanical or Non-Moving Violation (V.C.)   \n",
       "524485  ...                           Moving Violation   \n",
       "\n",
       "        raw_search_vehicle_description  raw_result_of_contact_description  \\\n",
       "62                           No Search                           Citation   \n",
       "63                           No Search                           Citation   \n",
       "64                           No Search                            Warning   \n",
       "65                           No Search                            Warning   \n",
       "66                           No Search                           Citation   \n",
       "...                                ...                                ...   \n",
       "524481                       No Search                            Warning   \n",
       "524482                       No Search                           Citation   \n",
       "524483                       No Search                           Citation   \n",
       "524484                       No Search                           Citation   \n",
       "524485                       No Search                            Warning   \n",
       "\n",
       "                 sunset             dusk time_mins  is_dark  is_black  \\\n",
       "62      20:17:56.679932  20:47:30.286907    1052.0    False         0   \n",
       "63      20:17:56.679932  20:47:30.286907    1060.0    False         0   \n",
       "64      20:17:56.679932  20:47:30.286907    1103.0    False         0   \n",
       "65      20:17:56.679932  20:47:30.286907    1110.0    False         0   \n",
       "66      20:17:56.679932  20:47:30.286907    1115.0    False         1   \n",
       "...                 ...              ...       ...      ...       ...   \n",
       "524481  18:11:45.473546  18:39:23.722824    1210.0     True         0   \n",
       "524482  18:11:45.473546  18:39:23.722824    1215.0     True         0   \n",
       "524483  18:11:45.473546  18:39:23.722824    1238.0     True         0   \n",
       "524484  18:11:45.473546  18:39:23.722824    1254.0     True         0   \n",
       "524485  18:11:45.473546  18:39:23.722824    1266.0     True         0   \n",
       "\n",
       "       is_white time_bins  \n",
       "62            1      1045  \n",
       "63            1      1045  \n",
       "64            1      1091  \n",
       "65            1      1106  \n",
       "66            0      1106  \n",
       "...         ...       ...  \n",
       "524481        1      1197  \n",
       "524482        1      1212  \n",
       "524483        1      1227  \n",
       "524484        1      1242  \n",
       "524485        1      1257  \n",
       "\n",
       "[100165 rows x 29 columns]"
      ]
     },
     "execution_count": 133,
     "metadata": {},
     "output_type": "execute_result"
    }
   ],
   "source": [
    "df"
   ]
  },
  {
   "cell_type": "code",
   "execution_count": 135,
   "id": "charming-insulation",
   "metadata": {},
   "outputs": [
    {
     "data": {
      "text/plain": [
       "(array([12091., 13783., 10914., 12932., 10203., 10889.,  8450.,  8721.,\n",
       "         5873.,  6309.]),\n",
       " array([1041. , 1063.6, 1086.2, 1108.8, 1131.4, 1154. , 1176.6, 1199.2,\n",
       "        1221.8, 1244.4, 1267. ]),\n",
       " <BarContainer object of 10 artists>)"
      ]
     },
     "execution_count": 135,
     "metadata": {},
     "output_type": "execute_result"
    },
    {
     "data": {
      "image/png": "[encoded data removed]",
      "text/plain": [
       "<Figure size 432x288 with 1 Axes>"
      ]
     },
     "metadata": {
      "needs_background": "light"
     },
     "output_type": "display_data"
    }
   ],
   "source": [
    "plt.hist(df.time_mins)"
   ]
  },
  {
   "cell_type": "code",
   "execution_count": 140,
   "id": "controlling-headset",
   "metadata": {},
   "outputs": [
    {
     "data": {
      "text/plain": [
       "905070"
      ]
     },
     "execution_count": 140,
     "metadata": {},
     "output_type": "execute_result"
    }
   ],
   "source": [
    "len(sf.index)"
   ]
  },
  {
   "cell_type": "code",
   "execution_count": 162,
   "id": "suitable-religion",
   "metadata": {},
   "outputs": [
    {
     "data": {
      "text/plain": [
       "2016"
      ]
     },
     "execution_count": 162,
     "metadata": {},
     "output_type": "execute_result"
    }
   ],
   "source": [
    "df.date.dt.year.max()"
   ]
  },
  {
   "cell_type": "code",
   "execution_count": 151,
   "id": "sensitive-synthesis",
   "metadata": {},
   "outputs": [
    {
     "data": {
      "text/plain": [
       "0         asian/pacific islander\n",
       "1                          black\n",
       "2                       hispanic\n",
       "3                       hispanic\n",
       "4                          white\n",
       "                   ...          \n",
       "905065                     white\n",
       "905066    asian/pacific islander\n",
       "905067                     white\n",
       "905068                     black\n",
       "905069                     white\n",
       "Name: subject_race, Length: 905070, dtype: object"
      ]
     },
     "execution_count": 151,
     "metadata": {},
     "output_type": "execute_result"
    }
   ],
   "source": [
    "sf.subject_race"
   ]
  },
  {
   "cell_type": "code",
   "execution_count": 152,
   "id": "crazy-highland",
   "metadata": {},
   "outputs": [
    {
     "data": {
      "text/plain": [
       "0.7537516435192858"
      ]
     },
     "execution_count": 152,
     "metadata": {},
     "output_type": "execute_result"
    }
   ],
   "source": [
    "(sf.subject_race.isin(('white', 'black', 'asian/pacific islander')) == True).sum() / len(sf.index)"
   ]
  },
  {
   "cell_type": "code",
   "execution_count": 139,
   "id": "monthly-permit",
   "metadata": {},
   "outputs": [
    {
     "data": {
      "text/plain": [
       "0.1909672573086705"
      ]
     },
     "execution_count": 139,
     "metadata": {},
     "output_type": "execute_result"
    }
   ],
   "source": [
    "len(df.index) / 524514"
   ]
  },
  {
   "cell_type": "code",
   "execution_count": null,
   "id": "terminal-smooth",
   "metadata": {},
   "outputs": [],
   "source": []
  }
 ],
 "metadata": {
  "kernelspec": {
   "display_name": "Python 3",
   "language": "python",
   "name": "python3"
  },
  "language_info": {
   "codemirror_mode": {
    "name": "ipython",
    "version": 3
   },
   "file_extension": ".py",
   "mimetype": "text/x-python",
   "name": "python",
   "nbconvert_exporter": "python",
   "pygments_lexer": "ipython3",
   "version": "3.8.2"
  }
 },
 "nbformat": 4,
 "nbformat_minor": 5
}
