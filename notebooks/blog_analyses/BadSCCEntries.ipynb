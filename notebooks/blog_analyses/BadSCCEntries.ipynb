{
 "cells": [
  {
   "cell_type": "code",
   "execution_count": 1,
   "metadata": {},
   "outputs": [],
   "source": [
    "import sys\n",
    "import pandas as pd\n",
    "from datetime import datetime"
   ]
  },
  {
   "cell_type": "code",
   "execution_count": 2,
   "metadata": {},
   "outputs": [],
   "source": [
    "sys.path.append(\"../../code\")\n",
    "sys.path.append(\"../../analysis\")\n",
    "import loaders.cityprotect as cp"
   ]
  },
  {
   "cell_type": "code",
   "execution_count": 4,
   "metadata": {},
   "outputs": [],
   "source": [
    "previous_df = pd.read_pickle(\"../../data/clean_data/SCCSheriff_2017_2022_inferredCity.pkl\")"
   ]
  },
  {
   "cell_type": "code",
   "execution_count": 5,
   "metadata": {},
   "outputs": [
    {
     "name": "stdout",
     "output_type": "stream",
     "text": [
      "Starting: 2022-12-31 23:58:48\n",
      "Ending:   2023-10-15 16:23:52.321444\n",
      "Loading from 27 files.\n",
      "Data file ../../data/raw_data/Santa_Clara_County_Office_of_the_Sheriff\\Apr_Jun_2017_Santa_Clara_County_Office_of_the_Sheriff_report.csv is empty.\n",
      "Data file ../../data/raw_data/Santa_Clara_County_Office_of_the_Sheriff\\Jan_Mar_2017_Santa_Clara_County_Office_of_the_Sheriff_report.csv is empty.\n"
     ]
    }
   ],
   "source": [
    "dept = \"Santa Clara County Office of the Sheriff\"\n",
    "df = cp.cityprotect(\"../../data/raw_data/{}\".format(dept.replace(\" \", \"_\")),\n",
    "                                 start_date = previous_df[\"date\"].max(),\n",
    "                                  end_date = datetime.now() )"
   ]
  },
  {
   "cell_type": "code",
   "execution_count": 6,
   "metadata": {},
   "outputs": [
    {
     "data": {
      "text/plain": [
       "32065"
      ]
     },
     "execution_count": 6,
     "metadata": {},
     "output_type": "execute_result"
    }
   ],
   "source": [
    "len(df)"
   ]
  },
  {
   "cell_type": "code",
   "execution_count": 7,
   "metadata": {},
   "outputs": [
    {
     "data": {
      "text/plain": [
       "7020"
      ]
     },
     "execution_count": 7,
     "metadata": {},
     "output_type": "execute_result"
    }
   ],
   "source": [
    "len(df[\"blocksizedAddress\"].unique())"
   ]
  },
  {
   "cell_type": "code",
   "execution_count": 8,
   "metadata": {},
   "outputs": [],
   "source": [
    "vcs= df[\"blocksizedAddress\"].value_counts()"
   ]
  },
  {
   "cell_type": "code",
   "execution_count": 9,
   "metadata": {},
   "outputs": [
    {
     "data": {
      "text/plain": [
       "blocksizedAddress\n",
       "1 Block BLOCK S ABEL ST               672\n",
       "1 Block                               640\n",
       "1 Block BLOCK W HEDDING ST            627\n",
       ".                                     253\n",
       "STEVENS CREEK BLVD                    247\n",
       "1 Block BLOCK S BASCOM AV             246\n",
       "200 Block BLOCK STEVENS CREEK BLVD    214\n",
       "1 Block BLOCK N 1ST ST                197\n",
       "1 Block BLOCK S DE ANZA BLVD          186\n",
       "100 Block BLOCK W YOUNGER AV          171\n",
       "MONTEREY HWY                          170\n",
       "2700 Block CAROL DR                   157\n",
       "SARATOGA AV                           142\n",
       "FY 101                                141\n",
       "1 Block BLOCK ENBORG CT               122\n",
       "20700 Block STEVENS CREEK BLVD        112\n",
       "E SANTA CLARA ST                      107\n",
       "1 Block BLOCK TASMAN DR               100\n",
       "100 Block BLOCK FRUITVALE AV          100\n",
       "N 1ST ST                              100\n",
       "1 Block BLOCK S CAPITOL AV             97\n",
       "100 Block BLOCK UNIVERSITY AV          92\n",
       "3100 Block MC KEE RD                   90\n",
       "1 Block BLOCK SANTA TERESA BLVD        90\n",
       "1 Block APPLE PARK WAY                 90\n",
       "N DE ANZA BLVD                         89\n",
       "1 Block BLOCK EASTRIDGE LP             87\n",
       "HWY 9                                  86\n",
       "PROSPECT RD                            83\n",
       "S DE ANZA BLVD                         82\n",
       "EL CAMINO REAL                         82\n",
       "ALUM ROCK AV                           80\n",
       "1 Block BLOCK CURTNER AV               78\n",
       "1 Block BLOCK POLE LINE RD             76\n",
       "1800 Block SENTER RD                   75\n",
       "200 Block BLOCK HOMESTEAD RD           74\n",
       "10300 Block TORRE AV                   74\n",
       "FY 280                                 74\n",
       "1 Block BLOCK MISSION COLLEGE BLVD     73\n",
       "100 Block BLOCK E TASMAN DR            71\n",
       "1 Block BLOCK BLOSSOM HILL RD          69\n",
       "100 Block BLOCK STEVENS CREEK BLVD     68\n",
       "SANTA TERESA BLVD                      67\n",
       "20600 Block HOMESTEAD RD               67\n",
       "1 Block BLOCK W ALMA AV                67\n",
       "14500 Block UNION AV                   64\n",
       "N WOLFE RD                             62\n",
       "100 Block BLOCK HIGHLAND AV            58\n",
       "18900 Block PROSPECT RD                58\n",
       "HWY 17                                 56\n",
       "Name: count, dtype: int64"
      ]
     },
     "execution_count": 9,
     "metadata": {},
     "output_type": "execute_result"
    }
   ],
   "source": [
    "vcs[0:50]"
   ]
  },
  {
   "cell_type": "code",
   "execution_count": 10,
   "metadata": {},
   "outputs": [
    {
     "data": {
      "text/plain": [
       "incidentType\n",
       "DISTURBANCE                          66\n",
       "TRESPASSING                          14\n",
       "INDECENT EXPOSURE                     8\n",
       "NARCOTICS                             7\n",
       "DRUNK IN PUBLIC                       7\n",
       "SUSPICIOUS CIRCUMSTANCES              6\n",
       "TRAFFIC HAZARD                        6\n",
       "TAKE A REPORT                         6\n",
       "MISDEMEANOR WANT                      6\n",
       "FOUND PROPERTY                        5\n",
       "PHONE UR OFFICE, OR:                  5\n",
       "MALICIOUS MISCHIEF                    5\n",
       "DISTURBANCE, FIGHT                    5\n",
       "DISTURBANCE, WEAPON                   4\n",
       "MISCELLANEOUS TOW REQUEST             3\n",
       "SUSPICIOUS PERSON                     3\n",
       "SUSPICIOUS PERSON WITH A WEAPON       3\n",
       "BATTERY ON AN OFFICER                 2\n",
       "PETTY THEFT                           2\n",
       "CRIMINAL THREATS                      2\n",
       "ROBBERY                               2\n",
       "SERVICE OR AID REQUEST                2\n",
       "ALARM                                 2\n",
       "LOST PROPERTY                         2\n",
       "SUSPICIOUS VEHICLE                    2\n",
       "THEFT                                 2\n",
       "Other                                 2\n",
       "FIRE, SPECIFY TYPE                    2\n",
       "GRAND THEFT                           1\n",
       "VTA INCIDENT                          1\n",
       "ALARM, AUDIBLE                        1\n",
       "VEHICLE BURGLARY                      1\n",
       "POSSESSION OF METHAMPHETAMINE         1\n",
       "ASSAULT                               1\n",
       "DISORDERLY CONDUCT                    1\n",
       "ASSAULT AND BATTERY                   1\n",
       "VEHICLE ACCIDENT, PROPERTY DAMAGE     1\n",
       "OBSCENE OR HARRASSING PHONE CALLS     1\n",
       "DISTURBANCE, FAMILY                   1\n",
       "EMERGENCY MEDICAL SERVICE CALL        1\n",
       "STOLEN VEHICLE                        1\n",
       "BRANDISHING A WEAPON                  1\n",
       "UNKNOWN CIRCUMSTANCES                 1\n",
       "SICK PERSON-XLATES TO EMS             1\n",
       "Name: count, dtype: int64"
      ]
     },
     "execution_count": 10,
     "metadata": {},
     "output_type": "execute_result"
    }
   ],
   "source": [
    "# df[df[\"blocksizedAddress\"]==\"1 Block BLOCK W HEDDING ST\"][\"incidentType\"].value_counts()\n",
    "#df[df[\"blocksizedAddress\"]==\"1 Block \"][\"incidentType\"].value_counts()\n",
    "df[df[\"blocksizedAddress\"]==\"1 Block BLOCK N 1ST ST\"][\"incidentType\"].value_counts()\n",
    "#df[df[\"blocksizedAddress\"]==\".\"][\"incidentType\"].value_counts()\n",
    "#df[df[\"blocksizedAddress\"]==\"20600 Block HOMESTEAD RD\"][\"incidentType\"].value_counts()\n",
    "#df[df[\"blocksizedAddress\"]==\"1 Block APPLE PARK WAY\"][\"incidentType\"].value_counts()"
   ]
  },
  {
   "cell_type": "code",
   "execution_count": 11,
   "metadata": {},
   "outputs": [
    {
     "data": {
      "text/plain": [
       "174261    Call Type: 602    <br>Description: TRESPASSING...\n",
       "173557    Call Type: 602    <br>Description: TRESPASSING...\n",
       "172334    Call Type: 602    <br>Description: TRESPASSING...\n",
       "168434    Call Type: 602    <br>Description: TRESPASSING...\n",
       "167370    Call Type: 602    <br>Description: TRESPASSING...\n",
       "167232    Call Type: 602    <br>Description: TRESPASSING...\n",
       "164935    Call Type: 602    <br>Description: TRESPASSING...\n",
       "82613     Call Type: 602    <br>Description: TRESPASSING...\n",
       "82595     Call Type: 602    <br>Description: TRESPASSING...\n",
       "82012     Call Type: 602    <br>Description: TRESPASSING...\n",
       "81310     Call Type: 602    <br>Description: TRESPASSING...\n",
       "79852     Call Type: 602    <br>Description: TRESPASSING...\n",
       "77699     Call Type: 602    <br>Description: TRESPASSING...\n",
       "75610     Call Type: 602    <br>Description: TRESPASSING...\n",
       "Name: narrative, dtype: object"
      ]
     },
     "execution_count": 11,
     "metadata": {},
     "output_type": "execute_result"
    }
   ],
   "source": [
    "df[ (df['blocksizedAddress'] == '1 Block BLOCK N 1ST ST') & (df['incidentType'] == 'TRESPASSING')][\"narrative\"]\n"
   ]
  },
  {
   "cell_type": "code",
   "execution_count": null,
   "metadata": {},
   "outputs": [],
   "source": []
  }
 ],
 "metadata": {
  "kernelspec": {
   "display_name": "Python 3",
   "language": "python",
   "name": "python3"
  },
  "language_info": {
   "codemirror_mode": {
    "name": "ipython",
    "version": 3
   },
   "file_extension": ".py",
   "mimetype": "text/x-python",
   "name": "python",
   "nbconvert_exporter": "python",
   "pygments_lexer": "ipython3",
   "version": "3.10.0"
  }
 },
 "nbformat": 4,
 "nbformat_minor": 2
}
