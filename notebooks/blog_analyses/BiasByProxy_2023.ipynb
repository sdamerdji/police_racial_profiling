{
 "cells": [
  {
   "cell_type": "code",
   "execution_count": 1,
   "metadata": {},
   "outputs": [],
   "source": [
    "%load_ext autoreload\n",
    "%autoreload 2"
   ]
  },
  {
   "cell_type": "code",
   "execution_count": 50,
   "metadata": {},
   "outputs": [],
   "source": [
    "import pandas as pd\n",
    "import os\n",
    "import glob\n",
    "import sys\n",
    "import matplotlib.pyplot as plt"
   ]
  },
  {
   "cell_type": "code",
   "execution_count": 3,
   "metadata": {},
   "outputs": [],
   "source": [
    "sys.path.append(\"../../code\")\n",
    "import loaders.cityprotect as cp\n",
    "import loaders.losaltos as lla\n",
    "import analysis.populations as pop\n",
    "import analysis.grouping as gp\n",
    "import plotting.lare_matplot as viz"
   ]
  },
  {
   "cell_type": "code",
   "execution_count": 4,
   "metadata": {},
   "outputs": [
    {
     "name": "stdout",
     "output_type": "stream",
     "text": [
      "Records: 2969 Stop IDs: [55, 4841]  Date Range: [2021-02-01 10:39:00, 2022-06-26 15:06:00]\n",
      "Records: 1660 Stop IDs: [3106, 5742]  Date Range: [2022-01-02 19:11:00, 2022-12-31 19:18:00]\n",
      "Records: 880 Stop IDs: [5743, 6616]  Date Range: [2023-01-01 22:30:00, 2023-06-30 22:42:00]\n"
     ]
    }
   ],
   "source": [
    "la_dir = \"../../data/clean_data/\"\n",
    "la_df =  lla.load_ripa_data(glob.glob(os.path.join(la_dir, \"LAPD_RIPA_*.csv\")), dir=la_dir, verbose=True)"
   ]
  },
  {
   "cell_type": "code",
   "execution_count": 5,
   "metadata": {},
   "outputs": [
    {
     "data": {
      "text/plain": [
       "call_for_service\n",
       "False    4634\n",
       "True       79\n",
       "Name: count, dtype: int64"
      ]
     },
     "execution_count": 5,
     "metadata": {},
     "output_type": "execute_result"
    }
   ],
   "source": [
    "la_df[\"call_for_service\"].value_counts()"
   ]
  },
  {
   "cell_type": "code",
   "execution_count": 6,
   "metadata": {},
   "outputs": [],
   "source": [
    "la_df[\"simple_race\"] = la_df[\"race\"].apply(lambda x: gp.simplify_race(x))"
   ]
  },
  {
   "cell_type": "code",
   "execution_count": 32,
   "metadata": {},
   "outputs": [
    {
     "data": {
      "text/plain": [
       "simple_race\n",
       "White       0.468354\n",
       "Hispanic    0.177215\n",
       "Asian       0.177215\n",
       "Black       0.151899\n",
       "Other       0.025316\n",
       "Name: Call, dtype: float64"
      ]
     },
     "execution_count": 32,
     "metadata": {},
     "output_type": "execute_result"
    }
   ],
   "source": [
    "la_df[la_df[\"call_for_service\"] == True][\"simple_race\"].value_counts(normalize=True).rename(\"Call\")"
   ]
  },
  {
   "cell_type": "code",
   "execution_count": 33,
   "metadata": {},
   "outputs": [
    {
     "data": {
      "text/plain": [
       "simple_race\n",
       "White       0.389728\n",
       "Asian       0.299957\n",
       "Hispanic    0.249245\n",
       "Black       0.040354\n",
       "Other       0.020716\n",
       "Name: No Call, dtype: float64"
      ]
     },
     "execution_count": 33,
     "metadata": {},
     "output_type": "execute_result"
    }
   ],
   "source": [
    "la_df[la_df[\"call_for_service\"] == False][\"simple_race\"].value_counts(normalize=True).rename(\"No Call\")"
   ]
  },
  {
   "cell_type": "code",
   "execution_count": 21,
   "metadata": {},
   "outputs": [],
   "source": [
    "lapop = pop.get_population(city=\"Los Altos\")"
   ]
  },
  {
   "cell_type": "code",
   "execution_count": 26,
   "metadata": {},
   "outputs": [
    {
     "data": {
      "text/html": [
       "<div>\n",
       "<style scoped>\n",
       "    .dataframe tbody tr th:only-of-type {\n",
       "        vertical-align: middle;\n",
       "    }\n",
       "\n",
       "    .dataframe tbody tr th {\n",
       "        vertical-align: top;\n",
       "    }\n",
       "\n",
       "    .dataframe thead th {\n",
       "        text-align: right;\n",
       "    }\n",
       "</style>\n",
       "<table border=\"1\" class=\"dataframe\">\n",
       "  <thead>\n",
       "    <tr style=\"text-align: right;\">\n",
       "      <th></th>\n",
       "      <th>pop</th>\n",
       "      <th>simple_race</th>\n",
       "    </tr>\n",
       "  </thead>\n",
       "  <tbody>\n",
       "    <tr>\n",
       "      <th>White</th>\n",
       "      <td>17735.000000</td>\n",
       "      <td>White</td>\n",
       "    </tr>\n",
       "    <tr>\n",
       "      <th>Hispanic/Latino(a)</th>\n",
       "      <td>1357.000000</td>\n",
       "      <td>Hispanic</td>\n",
       "    </tr>\n",
       "    <tr>\n",
       "      <th>Asian</th>\n",
       "      <td>6963.059055</td>\n",
       "      <td>Asian</td>\n",
       "    </tr>\n",
       "    <tr>\n",
       "      <th>Middle Eastern or South Asian</th>\n",
       "      <td>2622.940945</td>\n",
       "      <td>Asian</td>\n",
       "    </tr>\n",
       "    <tr>\n",
       "      <th>Black/African American</th>\n",
       "      <td>145.000000</td>\n",
       "      <td>Black</td>\n",
       "    </tr>\n",
       "    <tr>\n",
       "      <th>Pacific Islander</th>\n",
       "      <td>0.000000</td>\n",
       "      <td>Other</td>\n",
       "    </tr>\n",
       "    <tr>\n",
       "      <th>Native American</th>\n",
       "      <td>24.000000</td>\n",
       "      <td>Other</td>\n",
       "    </tr>\n",
       "    <tr>\n",
       "      <th>Multiple</th>\n",
       "      <td>1567.000000</td>\n",
       "      <td>Other</td>\n",
       "    </tr>\n",
       "    <tr>\n",
       "      <th>Other</th>\n",
       "      <td>100.000000</td>\n",
       "      <td>Other</td>\n",
       "    </tr>\n",
       "  </tbody>\n",
       "</table>\n",
       "</div>"
      ],
      "text/plain": [
       "                                        pop simple_race\n",
       "White                          17735.000000       White\n",
       "Hispanic/Latino(a)              1357.000000    Hispanic\n",
       "Asian                           6963.059055       Asian\n",
       "Middle Eastern or South Asian   2622.940945       Asian\n",
       "Black/African American           145.000000       Black\n",
       "Pacific Islander                   0.000000       Other\n",
       "Native American                   24.000000       Other\n",
       "Multiple                        1567.000000       Other\n",
       "Other                            100.000000       Other"
      ]
     },
     "execution_count": 26,
     "metadata": {},
     "output_type": "execute_result"
    }
   ],
   "source": [
    "pd.DataFrame({\"pop\": lapop, \"simple_race\": lapop.index.map(gp.simplify_race)})"
   ]
  },
  {
   "cell_type": "code",
   "execution_count": 42,
   "metadata": {},
   "outputs": [],
   "source": [
    "simple_pop_frac = pd.DataFrame({\"Population\": lapop, \"simple_race\": lapop.index.map(gp.simplify_race)}).groupby(\"simple_race\").sum() / lapop.sum()"
   ]
  },
  {
   "cell_type": "code",
   "execution_count": 43,
   "metadata": {},
   "outputs": [],
   "source": [
    "simple_pop_frac[\"Call\"] = la_df[la_df[\"call_for_service\"] == True][\"simple_race\"].value_counts(normalize=True).rename(\"Call\")"
   ]
  },
  {
   "cell_type": "code",
   "execution_count": 44,
   "metadata": {},
   "outputs": [],
   "source": [
    "simple_pop_frac[\"No Call\"] = la_df[la_df[\"call_for_service\"] == False][\"simple_race\"].value_counts(normalize=True).rename(\"No Call\")"
   ]
  },
  {
   "cell_type": "code",
   "execution_count": 45,
   "metadata": {},
   "outputs": [
    {
     "data": {
      "text/html": [
       "<div>\n",
       "<style scoped>\n",
       "    .dataframe tbody tr th:only-of-type {\n",
       "        vertical-align: middle;\n",
       "    }\n",
       "\n",
       "    .dataframe tbody tr th {\n",
       "        vertical-align: top;\n",
       "    }\n",
       "\n",
       "    .dataframe thead th {\n",
       "        text-align: right;\n",
       "    }\n",
       "</style>\n",
       "<table border=\"1\" class=\"dataframe\">\n",
       "  <thead>\n",
       "    <tr style=\"text-align: right;\">\n",
       "      <th></th>\n",
       "      <th>Population</th>\n",
       "      <th>Call</th>\n",
       "      <th>No Call</th>\n",
       "    </tr>\n",
       "    <tr>\n",
       "      <th>simple_race</th>\n",
       "      <th></th>\n",
       "      <th></th>\n",
       "      <th></th>\n",
       "    </tr>\n",
       "  </thead>\n",
       "  <tbody>\n",
       "    <tr>\n",
       "      <th>Asian</th>\n",
       "      <td>0.314151</td>\n",
       "      <td>0.177215</td>\n",
       "      <td>0.299957</td>\n",
       "    </tr>\n",
       "    <tr>\n",
       "      <th>Black</th>\n",
       "      <td>0.004752</td>\n",
       "      <td>0.151899</td>\n",
       "      <td>0.040354</td>\n",
       "    </tr>\n",
       "    <tr>\n",
       "      <th>Hispanic</th>\n",
       "      <td>0.044471</td>\n",
       "      <td>0.177215</td>\n",
       "      <td>0.249245</td>\n",
       "    </tr>\n",
       "    <tr>\n",
       "      <th>Other</th>\n",
       "      <td>0.055417</td>\n",
       "      <td>0.025316</td>\n",
       "      <td>0.020716</td>\n",
       "    </tr>\n",
       "    <tr>\n",
       "      <th>White</th>\n",
       "      <td>0.581209</td>\n",
       "      <td>0.468354</td>\n",
       "      <td>0.389728</td>\n",
       "    </tr>\n",
       "  </tbody>\n",
       "</table>\n",
       "</div>"
      ],
      "text/plain": [
       "             Population      Call   No Call\n",
       "simple_race                                \n",
       "Asian          0.314151  0.177215  0.299957\n",
       "Black          0.004752  0.151899  0.040354\n",
       "Hispanic       0.044471  0.177215  0.249245\n",
       "Other          0.055417  0.025316  0.020716\n",
       "White          0.581209  0.468354  0.389728"
      ]
     },
     "execution_count": 45,
     "metadata": {},
     "output_type": "execute_result"
    }
   ],
   "source": [
    "simple_pop_frac"
   ]
  },
  {
   "cell_type": "code",
   "execution_count": 56,
   "metadata": {},
   "outputs": [
    {
     "name": "stderr",
     "output_type": "stream",
     "text": [
      "C:\\Users\\brian\\AppData\\Local\\Temp\\ipykernel_6828\\810101923.py:3: UserWarning: FixedFormatter should only be used together with FixedLocator\n",
      "  ax.set_yticklabels([f'{100*x:.0f}%' for x in ax.get_yticks()]);\n"
     ]
    },
    {
     "data": {
      "text/plain": [
       "Text(0.5, 1.0, 'Fraction of Stops Originating from Calls to Police')"
      ]
     },
     "execution_count": 56,
     "metadata": {},
     "output_type": "execute_result"
    },
    {
     "data": {
      "image/png": "[encoded data removed]",
      "text/plain": [
       "<Figure size 640x480 with 1 Axes>"
      ]
     },
     "metadata": {},
     "output_type": "display_data"
    }
   ],
   "source": [
    "fig, ax = plt.subplots(1,1)\n",
    "simple_pop_frac.plot.bar(ax=ax)\n",
    "ax.set_yticklabels([f'{100*x:.0f}%' for x in ax.get_yticks()]);\n",
    "ax.set_xlabel(\"\")\n",
    "ax.set_title(\"Fraction of Stops Originating from Calls to Police\")"
   ]
  },
  {
   "cell_type": "code",
   "execution_count": 65,
   "metadata": {},
   "outputs": [
    {
     "name": "stderr",
     "output_type": "stream",
     "text": [
      "C:\\Users\\brian\\AppData\\Local\\Temp\\ipykernel_6828\\774142675.py:4: UserWarning: FixedFormatter should only be used together with FixedLocator\n",
      "  ax.set_xticklabels([f'{100*x:.0f}%' for x in ax.get_xticks()]);\n"
     ]
    },
    {
     "data": {
      "text/plain": [
       "Text(0.5, 1.0, 'Fraction of Stops Originating from Calls to Police')"
      ]
     },
     "execution_count": 65,
     "metadata": {},
     "output_type": "execute_result"
    },
    {
     "data": {
      "image/png": "[encoded data removed]",
      "text/plain": [
       "<Figure size 640x480 with 1 Axes>"
      ]
     },
     "metadata": {},
     "output_type": "display_data"
    }
   ],
   "source": [
    "fig, ax = plt.subplots(1,1)\n",
    "simple_pop_frac.T.plot.barh(stacked=True, ax=ax)\n",
    "ax.legend(loc='center left', bbox_to_anchor=(1, 0.5))\n",
    "ax.set_xticklabels([f'{100*x:.0f}%' for x in ax.get_xticks()]);\n",
    "ax.set_xlim([0,1])\n",
    "ax.set_title(\"Fraction of Stops Originating from Calls to Police\")"
   ]
  },
  {
   "cell_type": "code",
   "execution_count": 58,
   "metadata": {},
   "outputs": [
    {
     "data": {
      "text/html": [
       "<div>\n",
       "<style scoped>\n",
       "    .dataframe tbody tr th:only-of-type {\n",
       "        vertical-align: middle;\n",
       "    }\n",
       "\n",
       "    .dataframe tbody tr th {\n",
       "        vertical-align: top;\n",
       "    }\n",
       "\n",
       "    .dataframe thead th {\n",
       "        text-align: right;\n",
       "    }\n",
       "</style>\n",
       "<table border=\"1\" class=\"dataframe\">\n",
       "  <thead>\n",
       "    <tr style=\"text-align: right;\">\n",
       "      <th></th>\n",
       "      <th>Population</th>\n",
       "      <th>Call</th>\n",
       "      <th>No Call</th>\n",
       "    </tr>\n",
       "    <tr>\n",
       "      <th>simple_race</th>\n",
       "      <th></th>\n",
       "      <th></th>\n",
       "      <th></th>\n",
       "    </tr>\n",
       "  </thead>\n",
       "  <tbody>\n",
       "    <tr>\n",
       "      <th>Asian</th>\n",
       "      <td>0.314151</td>\n",
       "      <td>0.177215</td>\n",
       "      <td>0.299957</td>\n",
       "    </tr>\n",
       "    <tr>\n",
       "      <th>Black</th>\n",
       "      <td>0.004752</td>\n",
       "      <td>0.151899</td>\n",
       "      <td>0.040354</td>\n",
       "    </tr>\n",
       "    <tr>\n",
       "      <th>Hispanic</th>\n",
       "      <td>0.044471</td>\n",
       "      <td>0.177215</td>\n",
       "      <td>0.249245</td>\n",
       "    </tr>\n",
       "    <tr>\n",
       "      <th>Other</th>\n",
       "      <td>0.055417</td>\n",
       "      <td>0.025316</td>\n",
       "      <td>0.020716</td>\n",
       "    </tr>\n",
       "    <tr>\n",
       "      <th>White</th>\n",
       "      <td>0.581209</td>\n",
       "      <td>0.468354</td>\n",
       "      <td>0.389728</td>\n",
       "    </tr>\n",
       "  </tbody>\n",
       "</table>\n",
       "</div>"
      ],
      "text/plain": [
       "             Population      Call   No Call\n",
       "simple_race                                \n",
       "Asian          0.314151  0.177215  0.299957\n",
       "Black          0.004752  0.151899  0.040354\n",
       "Hispanic       0.044471  0.177215  0.249245\n",
       "Other          0.055417  0.025316  0.020716\n",
       "White          0.581209  0.468354  0.389728"
      ]
     },
     "execution_count": 58,
     "metadata": {},
     "output_type": "execute_result"
    }
   ],
   "source": [
    "simple_pop_frac"
   ]
  },
  {
   "cell_type": "code",
   "execution_count": 69,
   "metadata": {},
   "outputs": [
    {
     "data": {
      "text/plain": [
       "simple_race\n",
       "Asian       0.590802\n",
       "Black       3.764164\n",
       "Hispanic    0.711009\n",
       "Other       1.222046\n",
       "White       1.201747\n",
       "dtype: float64"
      ]
     },
     "execution_count": 69,
     "metadata": {},
     "output_type": "execute_result"
    }
   ],
   "source": [
    "simple_pop_frac[\"Call\"]/simple_pop_frac[\"No Call\"]"
   ]
  },
  {
   "cell_type": "code",
   "execution_count": null,
   "metadata": {},
   "outputs": [],
   "source": []
  }
 ],
 "metadata": {
  "kernelspec": {
   "display_name": "Python 3",
   "language": "python",
   "name": "python3"
  },
  "language_info": {
   "codemirror_mode": {
    "name": "ipython",
    "version": 3
   },
   "file_extension": ".py",
   "mimetype": "text/x-python",
   "name": "python",
   "nbconvert_exporter": "python",
   "pygments_lexer": "ipython3",
   "version": "3.10.0"
  }
 },
 "nbformat": 4,
 "nbformat_minor": 2
}
