{
 "cells": [
  {
   "cell_type": "code",
   "execution_count": 94,
   "metadata": {},
   "outputs": [],
   "source": [
    "import pandas as pd\n",
    "import matplotlib.pyplot as plt\n",
    "import seaborn as sns\n",
    "import numpy as np\n",
    "import sys\n",
    "import os\n",
    "import glob\n",
    "sys.path.append(\"../../code\")\n",
    "sys.path.append(\"../../analysis\")"
   ]
  },
  {
   "cell_type": "code",
   "execution_count": 2,
   "metadata": {},
   "outputs": [],
   "source": [
    "from datetime import datetime, timedelta"
   ]
  },
  {
   "cell_type": "code",
   "execution_count": 22,
   "metadata": {},
   "outputs": [],
   "source": [
    "from analysis.grouping import time_bin_cityprotect_incident_types"
   ]
  },
  {
   "cell_type": "code",
   "execution_count": 27,
   "metadata": {},
   "outputs": [],
   "source": [
    "prop_list = [\"Breaking & Entering\", \"Property Crime\", \"Theft of Vehicle\", \"Theft from Vehicle\", \"Theft\"]\n",
    "violent_list = [\"Assault\", \"Robbery\", \"Sexual Offense\", \"Homicide\", \"Rape\"]"
   ]
  },
  {
   "cell_type": "code",
   "execution_count": 7,
   "metadata": {},
   "outputs": [],
   "source": [
    "scc = pd.read_pickle(\"../../data/clean_data/SCCSheriff_2017_2022_inferredCity.pkl\")"
   ]
  },
  {
   "cell_type": "code",
   "execution_count": 8,
   "metadata": {},
   "outputs": [],
   "source": [
    "scc2 = pd.read_pickle(\"../../data/clean_data/SCCSheriff_2023Q1-3_inferred_cities.pkl\")"
   ]
  },
  {
   "cell_type": "code",
   "execution_count": 9,
   "metadata": {},
   "outputs": [],
   "source": [
    "scc = pd.concat([scc, scc2], axis=0)"
   ]
  },
  {
   "cell_type": "code",
   "execution_count": 10,
   "metadata": {},
   "outputs": [
    {
     "data": {
      "text/plain": [
       "Index(['ccn', 'date', 'updateDate', 'city', 'state', 'postalCode',\n",
       "       'blocksizedAddress', 'incidentType', 'parentIncidentType', 'narrative',\n",
       "       'inferredCity', 'postcode'],\n",
       "      dtype='object')"
      ]
     },
     "execution_count": 10,
     "metadata": {},
     "output_type": "execute_result"
    }
   ],
   "source": [
    "scc.columns"
   ]
  },
  {
   "cell_type": "code",
   "execution_count": 11,
   "metadata": {},
   "outputs": [],
   "source": [
    "lah = scc[scc[\"inferredCity\"] == \"Los Altos Hills\"]"
   ]
  },
  {
   "cell_type": "code",
   "execution_count": 15,
   "metadata": {},
   "outputs": [
    {
     "data": {
      "text/plain": [
       "159704   2017-08-01\n",
       "159719   2017-08-01\n",
       "159776   2017-08-02\n",
       "159965   2017-08-02\n",
       "160043   2017-08-02\n",
       "            ...    \n",
       "250410   2023-09-29\n",
       "250397   2023-09-29\n",
       "250383   2023-09-29\n",
       "250387   2023-09-29\n",
       "250370   2023-09-29\n",
       "Name: date, Length: 8231, dtype: datetime64[ns]"
      ]
     },
     "execution_count": 15,
     "metadata": {},
     "output_type": "execute_result"
    }
   ],
   "source": [
    "lah[\"date\"].dt.normalize()"
   ]
  },
  {
   "cell_type": "code",
   "execution_count": 16,
   "metadata": {},
   "outputs": [
    {
     "data": {
      "text/plain": [
       "Timestamp('2023-10-01 05:15:36')"
      ]
     },
     "execution_count": 16,
     "metadata": {},
     "output_type": "execute_result"
    }
   ],
   "source": [
    "scc[\"date\"].max()"
   ]
  },
  {
   "cell_type": "code",
   "execution_count": 17,
   "metadata": {},
   "outputs": [
    {
     "data": {
      "text/html": [
       "<div>\n",
       "<style scoped>\n",
       "    .dataframe tbody tr th:only-of-type {\n",
       "        vertical-align: middle;\n",
       "    }\n",
       "\n",
       "    .dataframe tbody tr th {\n",
       "        vertical-align: top;\n",
       "    }\n",
       "\n",
       "    .dataframe thead th {\n",
       "        text-align: right;\n",
       "    }\n",
       "</style>\n",
       "<table border=\"1\" class=\"dataframe\">\n",
       "  <thead>\n",
       "    <tr style=\"text-align: right;\">\n",
       "      <th></th>\n",
       "      <th>ccn</th>\n",
       "      <th>date</th>\n",
       "      <th>updateDate</th>\n",
       "      <th>city</th>\n",
       "      <th>state</th>\n",
       "      <th>postalCode</th>\n",
       "      <th>blocksizedAddress</th>\n",
       "      <th>incidentType</th>\n",
       "      <th>parentIncidentType</th>\n",
       "      <th>narrative</th>\n",
       "      <th>inferredCity</th>\n",
       "      <th>postcode</th>\n",
       "    </tr>\n",
       "  </thead>\n",
       "  <tbody>\n",
       "    <tr>\n",
       "      <th>80699</th>\n",
       "      <td>S231220281</td>\n",
       "      <td>2023-05-03 00:22:45</td>\n",
       "      <td>2023-05-03 12:35:09</td>\n",
       "      <td>SANTA CLARA COUNTY</td>\n",
       "      <td>CA</td>\n",
       "      <td>.</td>\n",
       "      <td>12700 Block CANARIO WAY</td>\n",
       "      <td>SUSPICIOUS PERSON</td>\n",
       "      <td>Other</td>\n",
       "      <td>Call Type: 1066   &lt;br&gt;Description: SUSPICIOUS ...</td>\n",
       "      <td>Los Altos Hills</td>\n",
       "      <td>94022</td>\n",
       "    </tr>\n",
       "    <tr>\n",
       "      <th>80662</th>\n",
       "      <td>S231220328</td>\n",
       "      <td>2023-05-03 03:22:38</td>\n",
       "      <td>2023-05-03 12:35:07</td>\n",
       "      <td>SANTA CLARA COUNTY</td>\n",
       "      <td>CA</td>\n",
       "      <td>.</td>\n",
       "      <td>12900 Block LA CRESTA DR</td>\n",
       "      <td>SUSPICIOUS PERSON</td>\n",
       "      <td>Other</td>\n",
       "      <td>Call Type: 1066   &lt;br&gt;Description: SUSPICIOUS ...</td>\n",
       "      <td>Los Altos Hills</td>\n",
       "      <td>94022</td>\n",
       "    </tr>\n",
       "    <tr>\n",
       "      <th>80641</th>\n",
       "      <td>S231230006</td>\n",
       "      <td>2023-05-03 07:34:52</td>\n",
       "      <td>2023-05-03 21:01:37</td>\n",
       "      <td>SANTA CLARA COUNTY</td>\n",
       "      <td>CA</td>\n",
       "      <td>.</td>\n",
       "      <td>27400 Block SHERLOCK CT</td>\n",
       "      <td>MISSING PERSON</td>\n",
       "      <td>Other</td>\n",
       "      <td>Call Type: 1065   &lt;br&gt;Description: MISSING PER...</td>\n",
       "      <td>Los Altos Hills</td>\n",
       "      <td>94022</td>\n",
       "    </tr>\n",
       "    <tr>\n",
       "      <th>80602</th>\n",
       "      <td>S231230051</td>\n",
       "      <td>2023-05-03 14:18:53</td>\n",
       "      <td>2023-05-04 05:01:50</td>\n",
       "      <td>SANTA CLARA COUNTY</td>\n",
       "      <td>CA</td>\n",
       "      <td>.</td>\n",
       "      <td>BURKE RD</td>\n",
       "      <td>TRAFFIC HAZARD</td>\n",
       "      <td>Traffic</td>\n",
       "      <td>Call Type: 1125   &lt;br&gt;Description: TRAFFIC HAZ...</td>\n",
       "      <td>Los Altos Hills</td>\n",
       "      <td>94022</td>\n",
       "    </tr>\n",
       "    <tr>\n",
       "      <th>80604</th>\n",
       "      <td>L231230002</td>\n",
       "      <td>2023-05-03 14:22:39</td>\n",
       "      <td>2023-05-04 05:01:51</td>\n",
       "      <td>SANTA CLARA COUNTY</td>\n",
       "      <td>CA</td>\n",
       "      <td>.</td>\n",
       "      <td>BURKE RD</td>\n",
       "      <td>SERVICE OR AID REQUEST</td>\n",
       "      <td>Other</td>\n",
       "      <td>Call Type: SVC    &lt;br&gt;Description: SERVICE OR ...</td>\n",
       "      <td>Los Altos Hills</td>\n",
       "      <td>94022</td>\n",
       "    </tr>\n",
       "    <tr>\n",
       "      <th>80612</th>\n",
       "      <td>S231230084</td>\n",
       "      <td>2023-05-03 15:31:24</td>\n",
       "      <td>2023-05-04 05:01:51</td>\n",
       "      <td>SANTA CLARA COUNTY</td>\n",
       "      <td>CA</td>\n",
       "      <td>.</td>\n",
       "      <td>13900 Block LA PALOMA RD</td>\n",
       "      <td>ALARM, SILENT</td>\n",
       "      <td>Other</td>\n",
       "      <td>Call Type: 1033S  &lt;br&gt;Description: ALARM, SILE...</td>\n",
       "      <td>Los Altos Hills</td>\n",
       "      <td>94022</td>\n",
       "    </tr>\n",
       "    <tr>\n",
       "      <th>80595</th>\n",
       "      <td>S231230244</td>\n",
       "      <td>2023-05-03 21:09:51</td>\n",
       "      <td>2023-05-04 05:01:17</td>\n",
       "      <td>SANTA CLARA COUNTY</td>\n",
       "      <td>CA</td>\n",
       "      <td>.</td>\n",
       "      <td>11900 Block MAGDALENA AV</td>\n",
       "      <td>ALARM, AUDIBLE</td>\n",
       "      <td>Other</td>\n",
       "      <td>Call Type: 1033A  &lt;br&gt;Description: ALARM, AUDI...</td>\n",
       "      <td>Los Altos Hills</td>\n",
       "      <td>94024</td>\n",
       "    </tr>\n",
       "    <tr>\n",
       "      <th>80565</th>\n",
       "      <td>S231230291</td>\n",
       "      <td>2023-05-03 23:09:03</td>\n",
       "      <td>2023-05-04 13:01:32</td>\n",
       "      <td>SANTA CLARA COUNTY</td>\n",
       "      <td>CA</td>\n",
       "      <td>.</td>\n",
       "      <td>28600 Block MATADERO CREEK LN</td>\n",
       "      <td>BURGLARY (460)</td>\n",
       "      <td>Breaking &amp; Entering</td>\n",
       "      <td>Call Type: 459    &lt;br&gt;Description: BURGLARY (4...</td>\n",
       "      <td>Los Altos Hills</td>\n",
       "      <td>94028</td>\n",
       "    </tr>\n",
       "  </tbody>\n",
       "</table>\n",
       "</div>"
      ],
      "text/plain": [
       "              ccn                date          updateDate                city  \\\n",
       "80699  S231220281 2023-05-03 00:22:45 2023-05-03 12:35:09  SANTA CLARA COUNTY   \n",
       "80662  S231220328 2023-05-03 03:22:38 2023-05-03 12:35:07  SANTA CLARA COUNTY   \n",
       "80641  S231230006 2023-05-03 07:34:52 2023-05-03 21:01:37  SANTA CLARA COUNTY   \n",
       "80602  S231230051 2023-05-03 14:18:53 2023-05-04 05:01:50  SANTA CLARA COUNTY   \n",
       "80604  L231230002 2023-05-03 14:22:39 2023-05-04 05:01:51  SANTA CLARA COUNTY   \n",
       "80612  S231230084 2023-05-03 15:31:24 2023-05-04 05:01:51  SANTA CLARA COUNTY   \n",
       "80595  S231230244 2023-05-03 21:09:51 2023-05-04 05:01:17  SANTA CLARA COUNTY   \n",
       "80565  S231230291 2023-05-03 23:09:03 2023-05-04 13:01:32  SANTA CLARA COUNTY   \n",
       "\n",
       "      state postalCode              blocksizedAddress            incidentType  \\\n",
       "80699    CA          .        12700 Block CANARIO WAY       SUSPICIOUS PERSON   \n",
       "80662    CA          .       12900 Block LA CRESTA DR       SUSPICIOUS PERSON   \n",
       "80641    CA          .        27400 Block SHERLOCK CT          MISSING PERSON   \n",
       "80602    CA          .                       BURKE RD          TRAFFIC HAZARD   \n",
       "80604    CA          .                       BURKE RD  SERVICE OR AID REQUEST   \n",
       "80612    CA          .       13900 Block LA PALOMA RD           ALARM, SILENT   \n",
       "80595    CA          .       11900 Block MAGDALENA AV          ALARM, AUDIBLE   \n",
       "80565    CA          .  28600 Block MATADERO CREEK LN          BURGLARY (460)   \n",
       "\n",
       "        parentIncidentType                                          narrative  \\\n",
       "80699                Other  Call Type: 1066   <br>Description: SUSPICIOUS ...   \n",
       "80662                Other  Call Type: 1066   <br>Description: SUSPICIOUS ...   \n",
       "80641                Other  Call Type: 1065   <br>Description: MISSING PER...   \n",
       "80602              Traffic  Call Type: 1125   <br>Description: TRAFFIC HAZ...   \n",
       "80604                Other  Call Type: SVC    <br>Description: SERVICE OR ...   \n",
       "80612                Other  Call Type: 1033S  <br>Description: ALARM, SILE...   \n",
       "80595                Other  Call Type: 1033A  <br>Description: ALARM, AUDI...   \n",
       "80565  Breaking & Entering  Call Type: 459    <br>Description: BURGLARY (4...   \n",
       "\n",
       "          inferredCity postcode  \n",
       "80699  Los Altos Hills    94022  \n",
       "80662  Los Altos Hills    94022  \n",
       "80641  Los Altos Hills    94022  \n",
       "80602  Los Altos Hills    94022  \n",
       "80604  Los Altos Hills    94022  \n",
       "80612  Los Altos Hills    94022  \n",
       "80595  Los Altos Hills    94024  \n",
       "80565  Los Altos Hills    94028  "
      ]
     },
     "execution_count": 17,
     "metadata": {},
     "output_type": "execute_result"
    }
   ],
   "source": [
    "lah[lah[\"date\"].dt.normalize() == datetime(2023, 5, 3)]"
   ]
  },
  {
   "cell_type": "code",
   "execution_count": 28,
   "metadata": {},
   "outputs": [],
   "source": [
    "monthly_lah = time_bin_cityprotect_incident_types(lah)"
   ]
  },
  {
   "cell_type": "code",
   "execution_count": 29,
   "metadata": {},
   "outputs": [
    {
     "data": {
      "text/plain": [
       "date\n",
       "2017     71.0\n",
       "2018     76.0\n",
       "2019    117.0\n",
       "2020    108.0\n",
       "2021     85.0\n",
       "2022    116.0\n",
       "2023     77.0\n",
       "dtype: float64"
      ]
     },
     "execution_count": 29,
     "metadata": {},
     "output_type": "execute_result"
    }
   ],
   "source": [
    "monthly_lah[monthly_lah.columns.intersection(prop_list)].groupby(monthly_lah.index.year).sum().sum(axis=1)"
   ]
  },
  {
   "cell_type": "code",
   "execution_count": 87,
   "metadata": {},
   "outputs": [
    {
     "data": {
      "image/png": "[encoded data removed]",
      "text/plain": [
       "<Figure size 640x480 with 1 Axes>"
      ]
     },
     "metadata": {},
     "output_type": "display_data"
    }
   ],
   "source": [
    "fig, axs = plt.subplots()\n",
    "monthly_lah[monthly_lah.columns.intersection(prop_list)].sum(axis=1).rolling(window=6).mean().plot(label=\"6-mo. Rolling Average\", ax=axs)\n",
    "monthly_lah[monthly_lah.columns.intersection(prop_list)].sum(axis=1).plot(label=\"Monthly\", ax=axs, color=\"g\", linestyle=\"dashed\", linewidth=0.5)\n",
    "\n",
    "axs.set(xlabel=\"Date\", ylabel=\"Incidents per Month\")\n",
    "axs.set(title=\"Property Crimes in Los Altos Hills\")\n",
    "plt.legend()\n",
    "#plt.legend(bbox_to_anchor=(1.05, 0.8), loc='upper left', borderaxespad=0)\n",
    "sns.despine()"
   ]
  },
  {
   "cell_type": "code",
   "execution_count": 96,
   "metadata": {},
   "outputs": [],
   "source": [
    "patrol_start = np.array([[datetime(2023, 4, 19), datetime(2023, 4, 19)], [0, 30]])"
   ]
  },
  {
   "cell_type": "code",
   "execution_count": 97,
   "metadata": {},
   "outputs": [
    {
     "data": {
      "text/plain": [
       "array([[datetime.datetime(2023, 4, 19, 0, 0),\n",
       "        datetime.datetime(2023, 4, 19, 0, 0)],\n",
       "       [0, 30]], dtype=object)"
      ]
     },
     "execution_count": 97,
     "metadata": {},
     "output_type": "execute_result"
    }
   ],
   "source": [
    "patrol_start"
   ]
  },
  {
   "cell_type": "code",
   "execution_count": 100,
   "metadata": {},
   "outputs": [
    {
     "ename": "TypeError",
     "evalue": "plot() got an unexpected keyword argument 'x'",
     "output_type": "error",
     "traceback": [
      "\u001b[1;31m---------------------------------------------------------------------------\u001b[0m",
      "\u001b[1;31mTypeError\u001b[0m                                 Traceback (most recent call last)",
      "\u001b[1;32mc:\\Users\\brian\\Desktop\\share\\personal\\lare\\police_racial_profiling\\notebooks\\blog_analyses\\LosAltosHillsTCCheck.ipynb Cell 18\u001b[0m line \u001b[0;36m1\n\u001b[1;32m----> <a href='vscode-notebook-cell:/c%3A/Users/brian/Desktop/share/personal/lare/police_racial_profiling/notebooks/blog_analyses/LosAltosHillsTCCheck.ipynb#Y156sZmlsZQ%3D%3D?line=0'>1</a>\u001b[0m plt\u001b[39m.\u001b[39;49mplot(x\u001b[39m=\u001b[39;49mpatrol_start[\u001b[39m0\u001b[39;49m], y\u001b[39m=\u001b[39;49mpatrol_start[\u001b[39m1\u001b[39;49m])\n",
      "File \u001b[1;32mc:\\Users\\brian\\AppData\\Local\\Programs\\Python\\Python310\\lib\\site-packages\\matplotlib\\pyplot.py:2812\u001b[0m, in \u001b[0;36mplot\u001b[1;34m(scalex, scaley, data, *args, **kwargs)\u001b[0m\n\u001b[0;32m   2810\u001b[0m \u001b[39m@_copy_docstring_and_deprecators\u001b[39m(Axes\u001b[39m.\u001b[39mplot)\n\u001b[0;32m   2811\u001b[0m \u001b[39mdef\u001b[39;00m \u001b[39mplot\u001b[39m(\u001b[39m*\u001b[39margs, scalex\u001b[39m=\u001b[39m\u001b[39mTrue\u001b[39;00m, scaley\u001b[39m=\u001b[39m\u001b[39mTrue\u001b[39;00m, data\u001b[39m=\u001b[39m\u001b[39mNone\u001b[39;00m, \u001b[39m*\u001b[39m\u001b[39m*\u001b[39mkwargs):\n\u001b[1;32m-> 2812\u001b[0m     \u001b[39mreturn\u001b[39;00m gca()\u001b[39m.\u001b[39mplot(\n\u001b[0;32m   2813\u001b[0m         \u001b[39m*\u001b[39margs, scalex\u001b[39m=\u001b[39mscalex, scaley\u001b[39m=\u001b[39mscaley,\n\u001b[0;32m   2814\u001b[0m         \u001b[39m*\u001b[39m\u001b[39m*\u001b[39m({\u001b[39m\"\u001b[39m\u001b[39mdata\u001b[39m\u001b[39m\"\u001b[39m: data} \u001b[39mif\u001b[39;00m data \u001b[39mis\u001b[39;00m \u001b[39mnot\u001b[39;00m \u001b[39mNone\u001b[39;00m \u001b[39melse\u001b[39;00m {}), \u001b[39m*\u001b[39m\u001b[39m*\u001b[39mkwargs)\n",
      "File \u001b[1;32mc:\\Users\\brian\\AppData\\Local\\Programs\\Python\\Python310\\lib\\site-packages\\matplotlib\\axes\\_axes.py:1688\u001b[0m, in \u001b[0;36mAxes.plot\u001b[1;34m(self, scalex, scaley, data, *args, **kwargs)\u001b[0m\n\u001b[0;32m   1445\u001b[0m \u001b[39m\u001b[39m\u001b[39m\"\"\"\u001b[39;00m\n\u001b[0;32m   1446\u001b[0m \u001b[39mPlot y versus x as lines and/or markers.\u001b[39;00m\n\u001b[0;32m   1447\u001b[0m \n\u001b[1;32m   (...)\u001b[0m\n\u001b[0;32m   1685\u001b[0m \u001b[39m(``'green'``) or hex strings (``'#008000'``).\u001b[39;00m\n\u001b[0;32m   1686\u001b[0m \u001b[39m\"\"\"\u001b[39;00m\n\u001b[0;32m   1687\u001b[0m kwargs \u001b[39m=\u001b[39m cbook\u001b[39m.\u001b[39mnormalize_kwargs(kwargs, mlines\u001b[39m.\u001b[39mLine2D)\n\u001b[1;32m-> 1688\u001b[0m lines \u001b[39m=\u001b[39m [\u001b[39m*\u001b[39m\u001b[39mself\u001b[39m\u001b[39m.\u001b[39m_get_lines(\u001b[39m*\u001b[39margs, data\u001b[39m=\u001b[39mdata, \u001b[39m*\u001b[39m\u001b[39m*\u001b[39mkwargs)]\n\u001b[0;32m   1689\u001b[0m \u001b[39mfor\u001b[39;00m line \u001b[39min\u001b[39;00m lines:\n\u001b[0;32m   1690\u001b[0m     \u001b[39mself\u001b[39m\u001b[39m.\u001b[39madd_line(line)\n",
      "File \u001b[1;32mc:\\Users\\brian\\AppData\\Local\\Programs\\Python\\Python310\\lib\\site-packages\\matplotlib\\axes\\_base.py:246\u001b[0m, in \u001b[0;36m_process_plot_var_args.__call__\u001b[1;34m(self, data, *args, **kwargs)\u001b[0m\n\u001b[0;32m    244\u001b[0m \u001b[39mfor\u001b[39;00m pos_only \u001b[39min\u001b[39;00m \u001b[39m\"\u001b[39m\u001b[39mxy\u001b[39m\u001b[39m\"\u001b[39m:\n\u001b[0;32m    245\u001b[0m     \u001b[39mif\u001b[39;00m pos_only \u001b[39min\u001b[39;00m kwargs:\n\u001b[1;32m--> 246\u001b[0m         \u001b[39mraise\u001b[39;00m _api\u001b[39m.\u001b[39mkwarg_error(\u001b[39mself\u001b[39m\u001b[39m.\u001b[39mcommand, pos_only)\n\u001b[0;32m    248\u001b[0m \u001b[39mif\u001b[39;00m \u001b[39mnot\u001b[39;00m args:\n\u001b[0;32m    249\u001b[0m     \u001b[39mreturn\u001b[39;00m\n",
      "\u001b[1;31mTypeError\u001b[0m: plot() got an unexpected keyword argument 'x'"
     ]
    },
    {
     "data": {
      "image/png": "[encoded data removed]",
      "text/plain": [
       "<Figure size 640x480 with 1 Axes>"
      ]
     },
     "metadata": {},
     "output_type": "display_data"
    }
   ],
   "source": [
    "plt.plot(x=patrol_start[0], y=patrol_start[1])"
   ]
  },
  {
   "cell_type": "code",
   "execution_count": 112,
   "metadata": {},
   "outputs": [
    {
     "data": {
      "text/plain": [
       "DatetimeIndex(['2017-08-31', '2017-09-30', '2017-10-31', '2017-11-30',\n",
       "               '2017-12-31', '2018-01-31', '2018-02-28', '2018-03-31',\n",
       "               '2018-04-30', '2018-05-31', '2018-06-30', '2018-07-31',\n",
       "               '2018-08-31', '2018-09-30', '2018-10-31', '2018-11-30',\n",
       "               '2018-12-31', '2019-01-31', '2019-02-28', '2019-03-31',\n",
       "               '2019-04-30', '2019-05-31', '2019-06-30', '2019-07-31',\n",
       "               '2019-08-31', '2019-09-30', '2019-10-31', '2019-11-30',\n",
       "               '2019-12-31', '2020-01-31', '2020-02-29', '2020-03-31',\n",
       "               '2020-04-30', '2020-05-31', '2020-06-30', '2020-07-31',\n",
       "               '2020-08-31', '2020-09-30', '2020-10-31', '2020-11-30',\n",
       "               '2020-12-31', '2021-01-31', '2021-02-28', '2021-03-31',\n",
       "               '2021-04-30', '2021-05-31', '2021-06-30', '2021-07-31',\n",
       "               '2021-08-31', '2021-09-30', '2021-10-31', '2021-11-30',\n",
       "               '2021-12-31', '2022-01-31', '2022-02-28', '2022-03-31',\n",
       "               '2022-04-30', '2022-05-31', '2022-06-30', '2022-07-31',\n",
       "               '2022-08-31', '2022-09-30', '2022-10-31', '2022-11-30',\n",
       "               '2022-12-31', '2023-01-31', '2023-02-28', '2023-03-31',\n",
       "               '2023-04-30', '2023-05-31', '2023-06-30', '2023-07-31',\n",
       "               '2023-08-31', '2023-09-30'],\n",
       "              dtype='datetime64[ns]', name='date', freq='M')"
      ]
     },
     "execution_count": 112,
     "metadata": {},
     "output_type": "execute_result"
    }
   ],
   "source": [
    "monthly_lah.index"
   ]
  },
  {
   "cell_type": "code",
   "execution_count": 120,
   "metadata": {},
   "outputs": [
    {
     "data": {
      "image/png": "[encoded data removed]",
      "text/plain": [
       "<Figure size 640x480 with 1 Axes>"
      ]
     },
     "metadata": {},
     "output_type": "display_data"
    }
   ],
   "source": [
    "fig, axs = plt.subplots()\n",
    "#monthly_lah[monthly_lah.columns.intersection(prop_list)].sum(axis=1).plot(label=\"Los Altos Hills\", ax=axs,\n",
    "                                                                          # color=\"g\", linestyle=\"dashed\", linewidth=0.5)\n",
    "plt.scatter(x=monthly_lah.index, y=monthly_lah[monthly_lah.columns.intersection(prop_list)].sum(axis=1), \n",
    "            s=4, color = \"g\")\n",
    "plt.plot(monthly_lah.index, monthly_lah[monthly_lah.columns.intersection(prop_list)].sum(axis=1),\n",
    "         linestyle=\"dashed\", linewidth=0.7, color=\"g\" )\n",
    "plt.axvline(datetime(2023, 4, 19))\n",
    "plt.axvline(datetime(2023, 8, 27))\n",
    "axs.set(xlabel=\"Date\", ylabel=\"Incidents per Month\")\n",
    "axs.set(title=\"Property Crimes in Los Altos Hills\")\n",
    "axs.set_xlim([datetime(2023, 2, 1), datetime(2023, 10, 1)])\n",
    "plt.xticks(rotation=45)\n",
    "#plt.legend(bbox_to_anchor=(1.05, 0.8), loc='upper left', borderaxespad=0)\n",
    "sns.despine()"
   ]
  },
  {
   "cell_type": "code",
   "execution_count": 34,
   "metadata": {},
   "outputs": [],
   "source": [
    "jan1 = datetime(2023, 1, 1)"
   ]
  },
  {
   "cell_type": "code",
   "execution_count": 35,
   "metadata": {},
   "outputs": [],
   "source": [
    "query = \"date >= @jan1\""
   ]
  },
  {
   "cell_type": "code",
   "execution_count": 37,
   "metadata": {},
   "outputs": [
    {
     "data": {
      "text/plain": [
       "incidentType\n",
       "ALARM, AUDIBLE                        443\n",
       "SUSPICIOUS VEHICLE                    107\n",
       "DISTURBANCE                           104\n",
       "SERVICE OR AID REQUEST                 93\n",
       "PHONE UR OFFICE, OR:                   80\n",
       "TRAFFIC HAZARD                         56\n",
       "SUSPICIOUS CIRCUMSTANCES               56\n",
       "SUSPICIOUS PERSON                      49\n",
       "PARKING VIOLATION                      42\n",
       "BURGLARY (460)                         41\n",
       "ALARM                                  25\n",
       "VEHICLE ACCIDENT, PROPERTY DAMAGE      19\n",
       "TRESPASSING                            18\n",
       "THEFT                                  18\n",
       "ANIMAL COMPLAINT                       17\n",
       "ALARM, SILENT                          17\n",
       "DISTURBANCE, FAMILY                    12\n",
       "TRAFFIC CONTROL                        10\n",
       "RECKLESS DRIVING                        9\n",
       "STRANDED MOTORIST                       9\n",
       "Other                                   9\n",
       "ABANDONED VEHICLE                       9\n",
       "MALICIOUS MISCHIEF                      8\n",
       "WIRE DOWN                               8\n",
       "HIT AND RUN  PROPERTY DAMAGE ONLY       7\n",
       "MEET THE CITIZEN                        5\n",
       "FIREARMS DISCHARGED                     5\n",
       "STOLEN VEHICLE                          5\n",
       "FOUND PROPERTY                          4\n",
       "SUSPICIOUS PERSON WITH A WEAPON         4\n",
       "DISTURBANCE, UNKNOWN                    4\n",
       "T/C, MINOR INJURIES                     3\n",
       "T/C, MAJOR INJURIES                     3\n",
       "FIRE, SPECIFY TYPE                      3\n",
       "MISSING PERSON                          3\n",
       "UNKNOWN CIRCUMSTANCES                   2\n",
       "LOST PROPERTY                           2\n",
       "VEHICLE ACCIDENT, UNKNOWN INJURIES      1\n",
       "DISTURBANCE, EXCESSIVE NOISE            1\n",
       "DISTURNACE, PARTY                       1\n",
       "TREE DOWN                               1\n",
       "VEHICLE BURGLARY                        1\n",
       "SUSPICIOUS PACKAGE                      1\n",
       "INJURED ANIMAL                          1\n",
       "Name: count, dtype: int64"
      ]
     },
     "execution_count": 37,
     "metadata": {},
     "output_type": "execute_result"
    }
   ],
   "source": [
    "lah.query(query)[\"incidentType\"].value_counts()"
   ]
  },
  {
   "cell_type": "code",
   "execution_count": 42,
   "metadata": {},
   "outputs": [
    {
     "data": {
      "text/plain": [
       "Index([159704, 159719, 159776, 159965, 160043, 160053, 160070, 160123, 160228,\n",
       "       160267,\n",
       "       ...\n",
       "       250546, 250475, 250436, 250413, 250403, 250410, 250397, 250383, 250387,\n",
       "       250370],\n",
       "      dtype='int64', length=8231)"
      ]
     },
     "execution_count": 42,
     "metadata": {},
     "output_type": "execute_result"
    }
   ],
   "source": [
    "lah.index"
   ]
  },
  {
   "cell_type": "code",
   "execution_count": 47,
   "metadata": {},
   "outputs": [],
   "source": [
    "tempdf = lah[lah[\"incidentType\"] == \"BURGLARY (460)\"]"
   ]
  },
  {
   "cell_type": "code",
   "execution_count": 49,
   "metadata": {},
   "outputs": [
    {
     "data": {
      "text/html": [
       "<div>\n",
       "<style scoped>\n",
       "    .dataframe tbody tr th:only-of-type {\n",
       "        vertical-align: middle;\n",
       "    }\n",
       "\n",
       "    .dataframe tbody tr th {\n",
       "        vertical-align: top;\n",
       "    }\n",
       "\n",
       "    .dataframe thead th {\n",
       "        text-align: right;\n",
       "    }\n",
       "</style>\n",
       "<table border=\"1\" class=\"dataframe\">\n",
       "  <thead>\n",
       "    <tr style=\"text-align: right;\">\n",
       "      <th></th>\n",
       "      <th>ccn</th>\n",
       "      <th>date</th>\n",
       "      <th>updateDate</th>\n",
       "      <th>city</th>\n",
       "      <th>state</th>\n",
       "      <th>postalCode</th>\n",
       "      <th>blocksizedAddress</th>\n",
       "      <th>incidentType</th>\n",
       "      <th>parentIncidentType</th>\n",
       "      <th>narrative</th>\n",
       "      <th>inferredCity</th>\n",
       "      <th>postcode</th>\n",
       "    </tr>\n",
       "    <tr>\n",
       "      <th>date</th>\n",
       "      <th></th>\n",
       "      <th></th>\n",
       "      <th></th>\n",
       "      <th></th>\n",
       "      <th></th>\n",
       "      <th></th>\n",
       "      <th></th>\n",
       "      <th></th>\n",
       "      <th></th>\n",
       "      <th></th>\n",
       "      <th></th>\n",
       "      <th></th>\n",
       "    </tr>\n",
       "  </thead>\n",
       "  <tbody>\n",
       "    <tr>\n",
       "      <th>2017</th>\n",
       "      <td>13</td>\n",
       "      <td>13</td>\n",
       "      <td>13</td>\n",
       "      <td>13</td>\n",
       "      <td>13</td>\n",
       "      <td>13</td>\n",
       "      <td>13</td>\n",
       "      <td>13</td>\n",
       "      <td>13</td>\n",
       "      <td>13</td>\n",
       "      <td>13</td>\n",
       "      <td>0</td>\n",
       "    </tr>\n",
       "    <tr>\n",
       "      <th>2018</th>\n",
       "      <td>28</td>\n",
       "      <td>28</td>\n",
       "      <td>28</td>\n",
       "      <td>28</td>\n",
       "      <td>28</td>\n",
       "      <td>28</td>\n",
       "      <td>28</td>\n",
       "      <td>28</td>\n",
       "      <td>28</td>\n",
       "      <td>28</td>\n",
       "      <td>28</td>\n",
       "      <td>0</td>\n",
       "    </tr>\n",
       "    <tr>\n",
       "      <th>2019</th>\n",
       "      <td>41</td>\n",
       "      <td>41</td>\n",
       "      <td>41</td>\n",
       "      <td>41</td>\n",
       "      <td>41</td>\n",
       "      <td>41</td>\n",
       "      <td>41</td>\n",
       "      <td>41</td>\n",
       "      <td>41</td>\n",
       "      <td>41</td>\n",
       "      <td>41</td>\n",
       "      <td>0</td>\n",
       "    </tr>\n",
       "    <tr>\n",
       "      <th>2020</th>\n",
       "      <td>30</td>\n",
       "      <td>30</td>\n",
       "      <td>30</td>\n",
       "      <td>30</td>\n",
       "      <td>30</td>\n",
       "      <td>30</td>\n",
       "      <td>30</td>\n",
       "      <td>30</td>\n",
       "      <td>30</td>\n",
       "      <td>30</td>\n",
       "      <td>30</td>\n",
       "      <td>0</td>\n",
       "    </tr>\n",
       "    <tr>\n",
       "      <th>2021</th>\n",
       "      <td>20</td>\n",
       "      <td>20</td>\n",
       "      <td>20</td>\n",
       "      <td>20</td>\n",
       "      <td>20</td>\n",
       "      <td>20</td>\n",
       "      <td>20</td>\n",
       "      <td>20</td>\n",
       "      <td>20</td>\n",
       "      <td>20</td>\n",
       "      <td>20</td>\n",
       "      <td>0</td>\n",
       "    </tr>\n",
       "    <tr>\n",
       "      <th>2022</th>\n",
       "      <td>49</td>\n",
       "      <td>49</td>\n",
       "      <td>49</td>\n",
       "      <td>49</td>\n",
       "      <td>49</td>\n",
       "      <td>49</td>\n",
       "      <td>49</td>\n",
       "      <td>49</td>\n",
       "      <td>49</td>\n",
       "      <td>49</td>\n",
       "      <td>49</td>\n",
       "      <td>0</td>\n",
       "    </tr>\n",
       "    <tr>\n",
       "      <th>2023</th>\n",
       "      <td>41</td>\n",
       "      <td>41</td>\n",
       "      <td>41</td>\n",
       "      <td>41</td>\n",
       "      <td>41</td>\n",
       "      <td>41</td>\n",
       "      <td>41</td>\n",
       "      <td>41</td>\n",
       "      <td>41</td>\n",
       "      <td>41</td>\n",
       "      <td>41</td>\n",
       "      <td>41</td>\n",
       "    </tr>\n",
       "  </tbody>\n",
       "</table>\n",
       "</div>"
      ],
      "text/plain": [
       "      ccn  date  updateDate  city  state  postalCode  blocksizedAddress  \\\n",
       "date                                                                      \n",
       "2017   13    13          13    13     13          13                 13   \n",
       "2018   28    28          28    28     28          28                 28   \n",
       "2019   41    41          41    41     41          41                 41   \n",
       "2020   30    30          30    30     30          30                 30   \n",
       "2021   20    20          20    20     20          20                 20   \n",
       "2022   49    49          49    49     49          49                 49   \n",
       "2023   41    41          41    41     41          41                 41   \n",
       "\n",
       "      incidentType  parentIncidentType  narrative  inferredCity  postcode  \n",
       "date                                                                       \n",
       "2017            13                  13         13            13         0  \n",
       "2018            28                  28         28            28         0  \n",
       "2019            41                  41         41            41         0  \n",
       "2020            30                  30         30            30         0  \n",
       "2021            20                  20         20            20         0  \n",
       "2022            49                  49         49            49         0  \n",
       "2023            41                  41         41            41        41  "
      ]
     },
     "execution_count": 49,
     "metadata": {},
     "output_type": "execute_result"
    }
   ],
   "source": [
    "tempdf.groupby(tempdf[\"date\"].dt.year).count()"
   ]
  },
  {
   "cell_type": "code",
   "execution_count": 54,
   "metadata": {},
   "outputs": [],
   "source": [
    "scc[\"year\"] = scc[\"date\"].dt.year"
   ]
  },
  {
   "cell_type": "code",
   "execution_count": 74,
   "metadata": {},
   "outputs": [],
   "source": [
    "lah_prop = lah[lah[\"incidentType\"].isin(x.upper() for x in [\"Burglary (460)\", \"Theft\", \"Stolen Vehicle\", \"Vehicle Burglary\"])]"
   ]
  },
  {
   "cell_type": "code",
   "execution_count": 76,
   "metadata": {},
   "outputs": [
    {
     "data": {
      "text/html": [
       "<div>\n",
       "<style scoped>\n",
       "    .dataframe tbody tr th:only-of-type {\n",
       "        vertical-align: middle;\n",
       "    }\n",
       "\n",
       "    .dataframe tbody tr th {\n",
       "        vertical-align: top;\n",
       "    }\n",
       "\n",
       "    .dataframe thead th {\n",
       "        text-align: right;\n",
       "    }\n",
       "</style>\n",
       "<table border=\"1\" class=\"dataframe\">\n",
       "  <thead>\n",
       "    <tr style=\"text-align: right;\">\n",
       "      <th>incidentType</th>\n",
       "      <th>BURGLARY (460)</th>\n",
       "      <th>STOLEN VEHICLE</th>\n",
       "      <th>THEFT</th>\n",
       "      <th>VEHICLE BURGLARY</th>\n",
       "    </tr>\n",
       "    <tr>\n",
       "      <th>year</th>\n",
       "      <th></th>\n",
       "      <th></th>\n",
       "      <th></th>\n",
       "      <th></th>\n",
       "    </tr>\n",
       "  </thead>\n",
       "  <tbody>\n",
       "    <tr>\n",
       "      <th>2017</th>\n",
       "      <td>13</td>\n",
       "      <td>1</td>\n",
       "      <td>33</td>\n",
       "      <td>6</td>\n",
       "    </tr>\n",
       "    <tr>\n",
       "      <th>2018</th>\n",
       "      <td>28</td>\n",
       "      <td>5</td>\n",
       "      <td>17</td>\n",
       "      <td>3</td>\n",
       "    </tr>\n",
       "    <tr>\n",
       "      <th>2019</th>\n",
       "      <td>41</td>\n",
       "      <td>2</td>\n",
       "      <td>34</td>\n",
       "      <td>9</td>\n",
       "    </tr>\n",
       "    <tr>\n",
       "      <th>2020</th>\n",
       "      <td>30</td>\n",
       "      <td>2</td>\n",
       "      <td>36</td>\n",
       "      <td>13</td>\n",
       "    </tr>\n",
       "    <tr>\n",
       "      <th>2021</th>\n",
       "      <td>20</td>\n",
       "      <td>6</td>\n",
       "      <td>38</td>\n",
       "      <td>7</td>\n",
       "    </tr>\n",
       "    <tr>\n",
       "      <th>2022</th>\n",
       "      <td>49</td>\n",
       "      <td>2</td>\n",
       "      <td>38</td>\n",
       "      <td>1</td>\n",
       "    </tr>\n",
       "    <tr>\n",
       "      <th>2023</th>\n",
       "      <td>41</td>\n",
       "      <td>5</td>\n",
       "      <td>18</td>\n",
       "      <td>1</td>\n",
       "    </tr>\n",
       "  </tbody>\n",
       "</table>\n",
       "</div>"
      ],
      "text/plain": [
       "incidentType  BURGLARY (460)  STOLEN VEHICLE  THEFT  VEHICLE BURGLARY\n",
       "year                                                                 \n",
       "2017                      13               1     33                 6\n",
       "2018                      28               5     17                 3\n",
       "2019                      41               2     34                 9\n",
       "2020                      30               2     36                13\n",
       "2021                      20               6     38                 7\n",
       "2022                      49               2     38                 1\n",
       "2023                      41               5     18                 1"
      ]
     },
     "execution_count": 76,
     "metadata": {},
     "output_type": "execute_result"
    }
   ],
   "source": [
    "pd.pivot_table(lah_prop, values=\"ccn\", index=\"year\", columns=[\"incidentType\"], aggfunc=\"count\")"
   ]
  },
  {
   "cell_type": "code",
   "execution_count": 79,
   "metadata": {},
   "outputs": [
    {
     "data": {
      "text/plain": [
       "Timestamp('2023-10-01 05:15:36')"
      ]
     },
     "execution_count": 79,
     "metadata": {},
     "output_type": "execute_result"
    }
   ],
   "source": [
    "scc[\"date\"].max()"
   ]
  },
  {
   "cell_type": "code",
   "execution_count": 39,
   "metadata": {},
   "outputs": [
    {
     "ename": "KeyError",
     "evalue": "'incidentType'",
     "output_type": "error",
     "traceback": [
      "\u001b[1;31m---------------------------------------------------------------------------\u001b[0m",
      "\u001b[1;31mKeyError\u001b[0m                                  Traceback (most recent call last)",
      "File \u001b[1;32mc:\\Users\\brian\\AppData\\Local\\Programs\\Python\\Python310\\lib\\site-packages\\pandas\\core\\indexes\\base.py:3790\u001b[0m, in \u001b[0;36mIndex.get_loc\u001b[1;34m(self, key)\u001b[0m\n\u001b[0;32m   3789\u001b[0m \u001b[39mtry\u001b[39;00m:\n\u001b[1;32m-> 3790\u001b[0m     \u001b[39mreturn\u001b[39;00m \u001b[39mself\u001b[39;49m\u001b[39m.\u001b[39;49m_engine\u001b[39m.\u001b[39;49mget_loc(casted_key)\n\u001b[0;32m   3791\u001b[0m \u001b[39mexcept\u001b[39;00m \u001b[39mKeyError\u001b[39;00m \u001b[39mas\u001b[39;00m err:\n",
      "File \u001b[1;32mindex.pyx:152\u001b[0m, in \u001b[0;36mpandas._libs.index.IndexEngine.get_loc\u001b[1;34m()\u001b[0m\n",
      "File \u001b[1;32mindex.pyx:181\u001b[0m, in \u001b[0;36mpandas._libs.index.IndexEngine.get_loc\u001b[1;34m()\u001b[0m\n",
      "File \u001b[1;32mpandas\\_libs\\hashtable_class_helper.pxi:7080\u001b[0m, in \u001b[0;36mpandas._libs.hashtable.PyObjectHashTable.get_item\u001b[1;34m()\u001b[0m\n",
      "File \u001b[1;32mpandas\\_libs\\hashtable_class_helper.pxi:7088\u001b[0m, in \u001b[0;36mpandas._libs.hashtable.PyObjectHashTable.get_item\u001b[1;34m()\u001b[0m\n",
      "\u001b[1;31mKeyError\u001b[0m: 'incidentType'",
      "\nThe above exception was the direct cause of the following exception:\n",
      "\u001b[1;31mKeyError\u001b[0m                                  Traceback (most recent call last)",
      "\u001b[1;32mc:\\Users\\brian\\Desktop\\share\\personal\\lare\\police_racial_profiling\\notebooks\\blog_analyses\\LosAltosHillsTCCheck.ipynb Cell 20\u001b[0m line \u001b[0;36m1\n\u001b[1;32m----> <a href='vscode-notebook-cell:/c%3A/Users/brian/Desktop/share/personal/lare/police_racial_profiling/notebooks/blog_analyses/LosAltosHillsTCCheck.ipynb#Y134sZmlsZQ%3D%3D?line=0'>1</a>\u001b[0m monthly_lah[monthly_lah[\u001b[39m\"\u001b[39;49m\u001b[39mincidentType\u001b[39;49m\u001b[39m\"\u001b[39;49m] \u001b[39m==\u001b[39m \u001b[39m\"\u001b[39m\u001b[39mBURGLARY (460)\u001b[39m\u001b[39m\"\u001b[39m]\u001b[39m.\u001b[39mgroupby(monthly_lah\u001b[39m.\u001b[39mindex\u001b[39m.\u001b[39myear)\u001b[39m.\u001b[39msum()\u001b[39m.\u001b[39msum(axis\u001b[39m=\u001b[39m\u001b[39m1\u001b[39m)\n",
      "File \u001b[1;32mc:\\Users\\brian\\AppData\\Local\\Programs\\Python\\Python310\\lib\\site-packages\\pandas\\core\\frame.py:3896\u001b[0m, in \u001b[0;36mDataFrame.__getitem__\u001b[1;34m(self, key)\u001b[0m\n\u001b[0;32m   3894\u001b[0m \u001b[39mif\u001b[39;00m \u001b[39mself\u001b[39m\u001b[39m.\u001b[39mcolumns\u001b[39m.\u001b[39mnlevels \u001b[39m>\u001b[39m \u001b[39m1\u001b[39m:\n\u001b[0;32m   3895\u001b[0m     \u001b[39mreturn\u001b[39;00m \u001b[39mself\u001b[39m\u001b[39m.\u001b[39m_getitem_multilevel(key)\n\u001b[1;32m-> 3896\u001b[0m indexer \u001b[39m=\u001b[39m \u001b[39mself\u001b[39;49m\u001b[39m.\u001b[39;49mcolumns\u001b[39m.\u001b[39;49mget_loc(key)\n\u001b[0;32m   3897\u001b[0m \u001b[39mif\u001b[39;00m is_integer(indexer):\n\u001b[0;32m   3898\u001b[0m     indexer \u001b[39m=\u001b[39m [indexer]\n",
      "File \u001b[1;32mc:\\Users\\brian\\AppData\\Local\\Programs\\Python\\Python310\\lib\\site-packages\\pandas\\core\\indexes\\base.py:3797\u001b[0m, in \u001b[0;36mIndex.get_loc\u001b[1;34m(self, key)\u001b[0m\n\u001b[0;32m   3792\u001b[0m     \u001b[39mif\u001b[39;00m \u001b[39misinstance\u001b[39m(casted_key, \u001b[39mslice\u001b[39m) \u001b[39mor\u001b[39;00m (\n\u001b[0;32m   3793\u001b[0m         \u001b[39misinstance\u001b[39m(casted_key, abc\u001b[39m.\u001b[39mIterable)\n\u001b[0;32m   3794\u001b[0m         \u001b[39mand\u001b[39;00m \u001b[39many\u001b[39m(\u001b[39misinstance\u001b[39m(x, \u001b[39mslice\u001b[39m) \u001b[39mfor\u001b[39;00m x \u001b[39min\u001b[39;00m casted_key)\n\u001b[0;32m   3795\u001b[0m     ):\n\u001b[0;32m   3796\u001b[0m         \u001b[39mraise\u001b[39;00m InvalidIndexError(key)\n\u001b[1;32m-> 3797\u001b[0m     \u001b[39mraise\u001b[39;00m \u001b[39mKeyError\u001b[39;00m(key) \u001b[39mfrom\u001b[39;00m \u001b[39merr\u001b[39;00m\n\u001b[0;32m   3798\u001b[0m \u001b[39mexcept\u001b[39;00m \u001b[39mTypeError\u001b[39;00m:\n\u001b[0;32m   3799\u001b[0m     \u001b[39m# If we have a listlike key, _check_indexing_error will raise\u001b[39;00m\n\u001b[0;32m   3800\u001b[0m     \u001b[39m#  InvalidIndexError. Otherwise we fall through and re-raise\u001b[39;00m\n\u001b[0;32m   3801\u001b[0m     \u001b[39m#  the TypeError.\u001b[39;00m\n\u001b[0;32m   3802\u001b[0m     \u001b[39mself\u001b[39m\u001b[39m.\u001b[39m_check_indexing_error(key)\n",
      "\u001b[1;31mKeyError\u001b[0m: 'incidentType'"
     ]
    }
   ],
   "source": [
    "monthly_lah[monthly_lah[\"incidentType\"] == \"BURGLARY (460)\"].groupby(monthly_lah.index.year).sum().sum(axis=1)"
   ]
  },
  {
   "cell_type": "code",
   "execution_count": null,
   "metadata": {},
   "outputs": [],
   "source": []
  }
 ],
 "metadata": {
  "kernelspec": {
   "display_name": "Python 3",
   "language": "python",
   "name": "python3"
  },
  "language_info": {
   "codemirror_mode": {
    "name": "ipython",
    "version": 3
   },
   "file_extension": ".py",
   "mimetype": "text/x-python",
   "name": "python",
   "nbconvert_exporter": "python",
   "pygments_lexer": "ipython3",
   "version": "3.10.0"
  }
 },
 "nbformat": 4,
 "nbformat_minor": 2
}
