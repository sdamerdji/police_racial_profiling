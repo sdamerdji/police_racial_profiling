{
 "cells": [
  {
   "cell_type": "code",
   "execution_count": 1,
   "id": "e5ff6759",
   "metadata": {},
   "outputs": [],
   "source": [
    "import pandas as pd\n",
    "import numpy as np"
   ]
  },
  {
   "cell_type": "code",
   "execution_count": 2,
   "id": "f5c61d40",
   "metadata": {},
   "outputs": [],
   "source": [
    "df = pd.read_csv(\"../data/raw_data/LAPD_RIPA_DATA.csv\", encoding = 'unicode_escape', engine ='python')"
   ]
  },
  {
   "cell_type": "code",
   "execution_count": 3,
   "id": "b355b8dd",
   "metadata": {},
   "outputs": [
    {
     "data": {
      "text/plain": [
       "Index(['stopID', 'stopDateTime', 'stopDuration', 'stopInResponseToCFS',\n",
       "       'street', 'actionTakenDuringStop', 'personSearchConsentGiven',\n",
       "       'propertySearchConsentGiven', 'perceivedRace', 'reasonForStop',\n",
       "       'perceivedOrKnownDisability', 'perceivedLimitedEnglish', 'perceivedAge',\n",
       "       'perceivedGender', 'perceivedLgbt', 'genderNonconforming',\n",
       "       'resultOfStop', 'basisForSearch', 'contrabandOrEvidenceDiscovered'],\n",
       "      dtype='object')"
      ]
     },
     "execution_count": 3,
     "metadata": {},
     "output_type": "execute_result"
    }
   ],
   "source": [
    "df.keys()"
   ]
  },
  {
   "cell_type": "code",
   "execution_count": 4,
   "id": "eeba4cd5",
   "metadata": {},
   "outputs": [
    {
     "data": {
      "text/plain": [
       "'2022-01-02 19:11:28'"
      ]
     },
     "execution_count": 4,
     "metadata": {},
     "output_type": "execute_result"
    }
   ],
   "source": [
    "df.iloc[0].stopDateTime"
   ]
  },
  {
   "cell_type": "code",
   "execution_count": 5,
   "id": "7111110f",
   "metadata": {},
   "outputs": [],
   "source": [
    "df[\"stopDateTime\"] = pd.to_datetime(df[\"stopDateTime\"], format=\"%Y-%m-%d %H:%M:%S\")"
   ]
  },
  {
   "cell_type": "code",
   "execution_count": 6,
   "id": "5ace1654",
   "metadata": {},
   "outputs": [],
   "source": [
    "std_cols = {\"stopID\": \"stop_id\",\n",
    "            \"stopDateTime\": \"date_time\",\n",
    "            \"stopDuration\": \"duration\",\n",
    "            \"stopInResponseToCFS\": \"call_for_service\",\n",
    "           \"street\": \"location\",\n",
    "           \"actionTakenDuringStop\": \"actions_taken\",\n",
    "           \"personSearchConsentGiven\": \"person_search_consent\",\n",
    "           \"propertySearchConsentGiven\": \"property_search_consent\",\n",
    "           \"perceivedRace\": \"race\",\n",
    "           \"reasonForStop\": \"reason_for_stop\",\n",
    "           \"perceivedOrKnownDisability\": \"disabilities\",\n",
    "            \"perceivedLimitedEnglish\": \"limited_english\",\n",
    "            \"perceivedAge\": \"age\",\n",
    "            \"perceivedGender\": \"gender\",\n",
    "            \"perceivedLgbt\": \"lgbt\",\n",
    "            \"genderNonConforming\": \"gender_nonconforming\",\n",
    "            \"resultOfStop\": \"result\",\n",
    "            \"basisForSearch\": \"basis_for_search\",\n",
    "            \"contrabandOrEvidenceDiscovered\": \"evidence_found\"\n",
    "           }"
   ]
  },
  {
   "cell_type": "code",
   "execution_count": 7,
   "id": "0dc38d12",
   "metadata": {},
   "outputs": [],
   "source": [
    "df.rename(columns=std_cols, inplace=\"True\")"
   ]
  },
  {
   "cell_type": "code",
   "execution_count": 8,
   "id": "3a0b11cf",
   "metadata": {},
   "outputs": [
    {
     "data": {
      "text/plain": [
       "Index(['stop_id', 'date_time', 'duration', 'call_for_service', 'location',\n",
       "       'actions_taken', 'person_search_consent', 'property_search_consent',\n",
       "       'race', 'reason_for_stop', 'disabilities', 'limited_english', 'age',\n",
       "       'gender', 'lgbt', 'genderNonconforming', 'result', 'basis_for_search',\n",
       "       'evidence_found'],\n",
       "      dtype='object')"
      ]
     },
     "execution_count": 8,
     "metadata": {},
     "output_type": "execute_result"
    }
   ],
   "source": [
    "df.keys()"
   ]
  },
  {
   "cell_type": "code",
   "execution_count": 9,
   "id": "4d88ac67",
   "metadata": {},
   "outputs": [],
   "source": [
    "import integrity.compliance as comp"
   ]
  },
  {
   "cell_type": "code",
   "execution_count": 10,
   "id": "4b066937",
   "metadata": {},
   "outputs": [
    {
     "name": "stdout",
     "output_type": "stream",
     "text": [
      "All required fields exist: \u001b[31m\u001b[1mFAIL\u001b[0m\n",
      "   Missing fields: {'property_seized'}\n",
      "   Extra fields:   {'genderNonconforming', 'property_search_consent', 'person_search_consent'}\n",
      "All stops unique: \u001b[31m\u001b[1mFAIL\u001b[0m\n",
      "   Total records:   1533\n",
      "   Unique stop_ids: 738\n",
      "   Unique records:  1532\n",
      "   Duplicate stop_ids: [3114 3118 3126 3133 3133 3133 3133 3133 3133 3133 3140 3140 3140 3140\n",
      " 3140 3140 3140 3140 3140 3140 3140 3140 3140 3140 3140 3140 3140 3140\n",
      " 3140 3140 3140 3140 3140 3140 3140 3140 3140 3140 3140 3140 3140 3140\n",
      " 3140 3140 3140 3166 3166 3166 3166 3166 3166 3166 3166 3166 3166 3166\n",
      " 3166 3166 3166 3166 3166 3166 3166 3166 3166 3166 3166 3166 3176 3177\n",
      " 3177 3177 3177 3177 3177 3177 3177 3177 3177 3177 3177 3177 3177 3177\n",
      " 3177 3177 3177 3177 3177 3177 3177 3177 3177 3177 3177 3177 3177 3177\n",
      " 3177 3177 3177 3177 3177 3177 3177 3177 3177 3177 3177 3177 3177 3177\n",
      " 3177 3177 3177 3177 3177 3177 3177 3177 3177 3177 3177 3177 3177 3177\n",
      " 3177 3177 3177 3177 3177 3177 3177 3177 3177 3177 3177 3177 3177 3177\n",
      " 3177 3177 3177 3177 3177 3177 3177 3177 3177 3177 3177 3177 3177 3177\n",
      " 3177 3177 3177 3177 3177 3177 3177 3177 3177 3177 3177 3177 3177 3177\n",
      " 3177 3177 3177 3177 3177 3177 3177 3177 3177 3177 3177 3177 3177 3177\n",
      " 3177 3177 3177 3177 3177 3177 3177 3177 3177 3177 3177 3177 3177 3177\n",
      " 3177 3177 3177 3177 3177 3177 3177 3177 3177 3177 3177 3177 3177 3177\n",
      " 3177 3177 3177 3177 3177 3177 3177 3177 3177 3177 3177 3177 3177 3177\n",
      " 3177 3177 3177 3177 3177 3177 3177 3177 3177 3177 3177 3177 3188 3196\n",
      " 3196 3196 3196 3196 3196 3196 3196 3196 3196 3196 3196 3196 3196 3196\n",
      " 3196 3196 3196 3196 3196 3196 3196 3196 3196 3196 3196 3196 3196 3196\n",
      " 3196 3196 3196 3196 3196 3196 3196 3196 3196 3196 3196 3196 3196 3196\n",
      " 3196 3196 3196 3196 3216 3216 3216 3216 3216 3216 3216 3216 3216 3216\n",
      " 3216 3218 3218 3218 3218 3218 3241 3241 3241 3275 3296 3296 3296 3306\n",
      " 3306 3306 3306 3306 3306 3306 3306 3306 3306 3306 3306 3306 3306 3306\n",
      " 3306 3306 3306 3306 3306 3306 3306 3306 3306 3306 3306 3306 3306 3306\n",
      " 3306 3306 3306 3306 3306 3306 3306 3306 3306 3306 3306 3306 3306 3306\n",
      " 3306 3306 3306 3306 3306 3306 3306 3306 3306 3306 3306 3306 3306 3306\n",
      " 3306 3306 3306 3306 3306 3306 3306 3306 3306 3306 3306 3306 3306 3306\n",
      " 3306 3306 3306 3306 3306 3306 3306 3306 3306 3306 3306 3306 3306 3306\n",
      " 3306 3306 3306 3306 3306 3306 3306 3306 3306 3306 3306 3306 3306 3306\n",
      " 3306 3306 3306 3306 3306 3306 3306 3306 3306 3306 3306 3306 3306 3306\n",
      " 3306 3306 3306 3306 3306 3306 3308 3310 3310 3310 3315 3315 3316 3327\n",
      " 3327 3327 3351 3351 3353 3353 3359 3368 3368 3368 3368 3368 3368 3368\n",
      " 3371 3371 3371 3371 3371 3371 3371 3371 3371 3371 3371 3371 3371 3371\n",
      " 3371 3371 3371 3371 3371 3371 3371 3371 3371 3371 3371 3371 3371 3371\n",
      " 3371 3371 3371 3371 3371 3371 3371 3371 3371 3371 3371 3371 3371 3372\n",
      " 3372 3372 3382 3382 3382 3382 3382 3382 3382 3382 3382 3382 3382 3382\n",
      " 3382 3382 3382 3382 3382 3382 3382 3382 3382 3382 3382 3382 3382 3382\n",
      " 3382 4404 4404 4404 4404 4404 4404 4404 4404 4404 4409 4409 4409 4409\n",
      " 4409 4430 4430 4430 4430 4430 4432 4434 4434 4434 4439 4439 4439 4445\n",
      " 4476 4476 4476 4476 4476 4476 4476 4476 4476 4476 4476 4476 4476 4476\n",
      " 4476 4476 4476 4476 4476 4476 4476 4476 4476 4476 4476 4476 4476 4476\n",
      " 4476 4476 4476 4476 4476 4476 4476 4476 4476 4476 4476 4494 4494 4494\n",
      " 4494 4494 4494 4494 4494 4494 4494 4494 4494 4494 4494 4494 4502 4530\n",
      " 4530 4530 4533 4533 4533 4544 4545 4552 4568 4571 4576 4576 4576 4576\n",
      " 4576 4576 4576 4576 4576 4576 4576 4587 4587 4587 4587 4587 4612 4612\n",
      " 4612 4612 4612 4612 4612 4612 4612 4612 4612 4612 4612 4612 4612 4612\n",
      " 4612 4612 4612 4612 4612 4612 4612 4612 4612 4612 4637 4640 4640 4640\n",
      " 4640 4640 4640 4640 4640 4640 4640 4640 4642 4642 4642 4642 4642 4642\n",
      " 4642 4642 4642 4642 4642 4642 4642 4642 4642 4644 4644 4644 4647 4659\n",
      " 4659 4659 4659 4659 4659 4659 4659 4659 4659 4659 4659 4659 4669 4669\n",
      " 4669 4669 4669 4669 4669 4669 4669 4683 4692 4693 4693 4693 4693 4693\n",
      " 4693 4693 4693 4693 4693 4693 4693 4693 4693 4693 4693 4693 4693 4693\n",
      " 4693 4693 4693 4693 4693 4693 4693 4693 4693 4693 4693 4693 4693 4693\n",
      " 4693 4693 4693 4693 4693 4693 4697 4706 4710 4724 4724 4724 4743 4746\n",
      " 4774 4775 4775 4775 4783 4783 4783 4783 4783 4783 4783 4783 4783 4783\n",
      " 4783 4783 4783 4783 4783 4783 4783 4783 4783 4783 4784 4786 4786 4786\n",
      " 4786 4786 4786 4786 4786 4786 4786 4786 4792 4834 4838]\n"
     ]
    },
    {
     "data": {
      "text/plain": [
       "False"
      ]
     },
     "execution_count": 10,
     "metadata": {},
     "output_type": "execute_result"
    }
   ],
   "source": [
    "comp.verbose_checks(df)"
   ]
  },
  {
   "cell_type": "code",
   "execution_count": 11,
   "id": "bc7703c0",
   "metadata": {},
   "outputs": [],
   "source": [
    "dup_stops = np.unique(df[df[\"stop_id\"].duplicated(keep=False)][\"stop_id\"].values)\n",
    "individuals = [comp.count_individuals(df[df[\"stop_id\"] == id].copy()) for id in dup_stops]"
   ]
  },
  {
   "cell_type": "code",
   "execution_count": 12,
   "id": "7313bdda",
   "metadata": {},
   "outputs": [
    {
     "name": "stdout",
     "output_type": "stream",
     "text": [
      "In 72 stops with multiple records, 89 individuals appear to be involved\n",
      "Combined with the 666 stops with only 1 record, that means 755 people were likely stopped.\n"
     ]
    }
   ],
   "source": [
    "print(\"In {} stops with multiple records, {} individuals appear to be involved\".format(len(dup_stops), sum(individuals)))\n",
    "single_stops = len(df.drop_duplicates(subset=\"stop_id\", keep=False))\n",
    "print(\"Combined with the {} stops with only 1 record, that means {} people were likely stopped.\".format(single_stops, single_stops+sum(individuals)))"
   ]
  },
  {
   "cell_type": "code",
   "execution_count": 13,
   "id": "59042112",
   "metadata": {},
   "outputs": [],
   "source": [
    "df_uniq = df.drop_duplicates(subset=\"stop_id\", keep=\"first\")"
   ]
  },
  {
   "cell_type": "code",
   "execution_count": 14,
   "id": "534c126d",
   "metadata": {},
   "outputs": [],
   "source": [
    "import integrity.temporal as tp"
   ]
  },
  {
   "cell_type": "code",
   "execution_count": 15,
   "id": "97e77477",
   "metadata": {
    "scrolled": true
   },
   "outputs": [
    {
     "name": "stdout",
     "output_type": "stream",
     "text": [
      "Sufficient time duration: \u001b[31m\u001b[1mFAIL\u001b[0m\n",
      "    First stop: 2022-01-02 19:11:28\n",
      "    Last stop:  2022-06-26 15:06:53\n",
      "    Duration of data set: 174 days 19:55:25\n",
      "Stops are in proper time order: \u001b[31m\u001b[1mFAIL\u001b[0m\n",
      "Check for unexpected data gaps: \u001b[31m\u001b[1mFAIL\u001b[0m\n",
      "Index:   Duration:\n",
      "15:  1 days 21:45:14,   2022-01-04 07:09:46 to 2022-01-06 04:55:00\n",
      "18:  1 days 15:16:20,   2022-01-06 05:20:00 to 2022-01-07 20:36:20\n",
      "22:  3 days 17:12:00,   2022-01-07 20:30:00 to 2022-01-11 13:42:00\n",
      "39:  3 days 01:16:37,   2022-01-13 16:48:03 to 2022-01-16 18:04:40\n",
      "41:  1 days 12:19:09,   2022-01-16 20:32:51 to 2022-01-18 08:52:00\n",
      "102:  1 days 14:04:40,   2022-01-24 19:26:18 to 2022-01-26 09:30:58\n",
      "137:  2 days 00:37:42,   2022-01-28 08:37:00 to 2022-01-30 09:14:42\n",
      "308:  1 days 03:19:11,   2022-01-31 17:31:40 to 2022-02-01 20:50:51\n",
      "327:  1 days 04:24:27,   2022-02-05 11:48:00 to 2022-02-06 16:12:27\n",
      "377:  1 days 12:20:49,   2022-02-06 21:19:11 to 2022-02-08 09:40:00\n",
      "466:  1 days 00:05:20,   2022-02-17 09:18:00 to 2022-02-18 09:23:20\n",
      "648:  1 days 04:44:45,   2022-02-26 05:15:15 to 2022-02-27 10:00:00\n",
      "652:  1 days 00:55:28,   2022-02-27 18:02:02 to 2022-02-28 18:57:30\n",
      "681:  1 days 09:40:00,   2022-03-02 09:40:00 to 2022-03-03 19:20:00\n",
      "797:  1 days 00:10:38,   2022-03-08 08:30:00 to 2022-03-09 08:40:38\n",
      "808:  1 days 05:32:52,   2022-03-10 02:57:08 to 2022-03-11 08:30:00\n",
      "810:  1 days 04:24:02,   2022-03-11 08:31:00 to 2022-03-12 12:55:02\n",
      "812:  1 days 19:19:08,   2022-03-12 13:40:52 to 2022-03-14 09:00:00\n",
      "814:  1 days 01:14:48,   2022-03-14 09:43:39 to 2022-03-15 10:58:27\n",
      "844:  1 days 05:30:14,   2022-03-16 14:20:14 to 2022-03-17 19:50:28\n",
      "991:  1 days 01:37:03,   2022-03-28 08:30:00 to 2022-03-29 10:07:03\n",
      "1002:  1 days 02:16:24,   2022-03-30 06:18:05 to 2022-03-31 08:34:29\n",
      "1019:  1 days 15:40:01,   2022-04-03 02:25:00 to 2022-04-04 18:05:01\n",
      "1033:  2 days 00:10:55,   2022-04-06 10:33:05 to 2022-04-08 10:44:00\n",
      "1040:  1 days 19:22:19,   2022-04-09 15:10:00 to 2022-04-11 10:32:19\n",
      "1181:  1 days 04:46:13,   2022-04-29 08:48:22 to 2022-04-30 13:34:35\n",
      "1184:  1 days 03:48:34,   2022-04-30 15:27:21 to 2022-05-01 19:15:55\n",
      "1234:  1 days 05:29:33,   2022-05-07 03:29:11 to 2022-05-08 08:58:44\n",
      "1255:  1 days 03:12:17,   2022-05-08 22:15:26 to 2022-05-10 01:27:43\n",
      "1275:  1 days 17:01:12,   2022-05-12 16:30:43 to 2022-05-14 09:31:55\n",
      "1277:  1 days 09:37:36,   2022-05-14 23:32:24 to 2022-05-16 09:10:00\n",
      "1376:  1 days 02:11:04,   2022-05-21 20:04:51 to 2022-05-22 22:15:55\n",
      "1417:  2 days 18:34:30,   2022-05-27 16:21:54 to 2022-05-30 10:56:24\n",
      "1483:  1 days 12:28:25,   2022-06-03 22:00:35 to 2022-06-05 10:29:00\n",
      "1500:  1 days 07:00:30,   2022-06-09 09:32:35 to 2022-06-10 16:33:05\n",
      "1501:  1 days 05:23:30,   2022-06-10 16:33:05 to 2022-06-11 21:56:35\n",
      "1516:  1 days 10:59:48,   2022-06-15 20:42:12 to 2022-06-17 07:42:00\n",
      "1522:  3 days 02:30:04,   2022-06-18 10:24:56 to 2022-06-21 12:55:00\n",
      "1525:  1 days 00:24:39,   2022-06-21 13:10:00 to 2022-06-22 13:34:39\n",
      "1528:  1 days 03:50:26,   2022-06-22 16:17:31 to 2022-06-23 20:07:57\n",
      "1530:  1 days 14:45:31,   2022-06-23 20:07:57 to 2022-06-25 10:53:28\n",
      "\n",
      "Check for excessive stops by hour: \u001b[32m\u001b[1mPASS\u001b[0m\n",
      "Check for excessive stops by day of month: \u001b[32m\u001b[1mPASS\u001b[0m\n",
      "Check for excessive stop days: \u001b[32m\u001b[1mPASS\u001b[0m\n",
      "Check for excessive weekday: \u001b[31m\u001b[1mFAIL\u001b[0m\n"
     ]
    },
    {
     "data": {
      "image/png": "[encoded data removed]",
      "text/plain": [
       "<Figure size 432x288 with 1 Axes>"
      ]
     },
     "metadata": {
      "needs_background": "light"
     },
     "output_type": "display_data"
    },
    {
     "name": "stdout",
     "output_type": "stream",
     "text": [
      "Weekdays with excessive stops: Index(['Tuesday', 'Wednesday', 'Sunday'], dtype='object')\n",
      "\n"
     ]
    },
    {
     "data": {
      "text/plain": [
       "False"
      ]
     },
     "execution_count": 15,
     "metadata": {},
     "output_type": "execute_result"
    }
   ],
   "source": [
    "tp.verbose_checks(df_uniq)"
   ]
  },
  {
   "cell_type": "code",
   "execution_count": 16,
   "id": "e38e1297",
   "metadata": {},
   "outputs": [],
   "source": [
    "import plotting.lare_matplot as lmp"
   ]
  },
  {
   "cell_type": "code",
   "execution_count": 17,
   "id": "c73e2342",
   "metadata": {},
   "outputs": [
    {
     "data": {
      "image/png": "[encoded data removed]",
      "text/plain": [
       "<Figure size 432x288 with 1 Axes>"
      ]
     },
     "metadata": {
      "needs_background": "light"
     },
     "output_type": "display_data"
    }
   ],
   "source": [
    "lmp.plot_descriptive_bars(df_uniq)"
   ]
  },
  {
   "cell_type": "code",
   "execution_count": 18,
   "id": "8e87492c",
   "metadata": {},
   "outputs": [],
   "source": [
    "import analysis.populations as pop"
   ]
  },
  {
   "cell_type": "code",
   "execution_count": 19,
   "id": "e9738af6",
   "metadata": {},
   "outputs": [],
   "source": [
    "la_pop = pop.get_population(\"Los Altos\")"
   ]
  },
  {
   "cell_type": "code",
   "execution_count": 27,
   "id": "cf6b9be9",
   "metadata": {},
   "outputs": [
    {
     "data": {
      "text/plain": [
       "White                            17735.000000\n",
       "Hispanic/Latino/a                 1357.000000\n",
       "Asian                             6963.059055\n",
       "Middle Eastern or South Asian     2622.940945\n",
       "Black/African American             145.000000\n",
       "Pacific Islander                     0.000000\n",
       "Native American                     24.000000\n",
       "Multiple                          1567.000000\n",
       "Other                              100.000000\n",
       "dtype: float64"
      ]
     },
     "execution_count": 27,
     "metadata": {},
     "output_type": "execute_result"
    }
   ],
   "source": [
    "la_pop"
   ]
  },
  {
   "cell_type": "code",
   "execution_count": 20,
   "id": "f2b5567e",
   "metadata": {},
   "outputs": [
    {
     "data": {
      "text/plain": [
       "Asian                             1.315490\n",
       "Black/African American           13.888720\n",
       "Hispanic/Latino/a                 9.143702\n",
       "Middle Eastern or South Asian     2.229064\n",
       "Multiple                               NaN\n",
       "Native American                   5.413614\n",
       "Other                                  NaN\n",
       "Pacific Islander                       inf\n",
       "White                             1.000000\n",
       "dtype: float64"
      ]
     },
     "execution_count": 20,
     "metadata": {},
     "output_type": "execute_result"
    }
   ],
   "source": [
    "(df_uniq[\"race\"].value_counts()/la_pop)/(df_uniq[\"race\"].value_counts()[\"White\"]/la_pop[\"White\"])"
   ]
  },
  {
   "cell_type": "code",
   "execution_count": 21,
   "id": "09f8e814",
   "metadata": {},
   "outputs": [
    {
     "name": "stdout",
     "output_type": "stream",
     "text": [
      "White people are stopped 0.015393290104313504 times per 6 months in Los Altos.\n"
     ]
    }
   ],
   "source": [
    "print(\"White people are stopped {} times per 6 months in Los Altos.\".format((df_uniq[\"race\"].value_counts()[\"White\"]/la_pop[\"White\"])))"
   ]
  },
  {
   "cell_type": "code",
   "execution_count": 22,
   "id": "6d9ec9aa",
   "metadata": {},
   "outputs": [],
   "source": [
    "import analysis.ratios as rat"
   ]
  },
  {
   "cell_type": "code",
   "execution_count": 23,
   "id": "f306f3aa",
   "metadata": {},
   "outputs": [],
   "source": [
    "whites = rat.add_races(df_uniq, ['White'])\n",
    "black_hispanic = rat.add_races(df_uniq, ['Black/African American', 'Hispanic/Latino/a'])"
   ]
  },
  {
   "cell_type": "code",
   "execution_count": 24,
   "id": "03e78182",
   "metadata": {},
   "outputs": [
    {
     "name": "stderr",
     "output_type": "stream",
     "text": [
      "/home/brian/.local/lib/python3.10/site-packages/scipy/stats/_discrete_distns.py:69: RuntimeWarning: divide by zero encountered in _binom_pdf\n",
      "  return _boost._binom_pdf(x, n, p)\n"
     ]
    },
    {
     "data": {
      "text/html": [
       "<div>\n",
       "<style scoped>\n",
       "    .dataframe tbody tr th:only-of-type {\n",
       "        vertical-align: middle;\n",
       "    }\n",
       "\n",
       "    .dataframe tbody tr th {\n",
       "        vertical-align: top;\n",
       "    }\n",
       "\n",
       "    .dataframe thead th {\n",
       "        text-align: right;\n",
       "    }\n",
       "</style>\n",
       "<table border=\"1\" class=\"dataframe\">\n",
       "  <thead>\n",
       "    <tr style=\"text-align: right;\">\n",
       "      <th></th>\n",
       "      <th>White</th>\n",
       "      <th>Black/Hispanic</th>\n",
       "      <th>Expected Black/Hispanic</th>\n",
       "      <th>Relative</th>\n",
       "      <th>Odds</th>\n",
       "    </tr>\n",
       "  </thead>\n",
       "  <tbody>\n",
       "    <tr>\n",
       "      <th>Citation for infraction</th>\n",
       "      <td>77.0</td>\n",
       "      <td>64.0</td>\n",
       "      <td>62.615385</td>\n",
       "      <td>1.022113</td>\n",
       "      <td>0.103082</td>\n",
       "    </tr>\n",
       "    <tr>\n",
       "      <th>Contacted parent/legal guardian or other person responsible for the minor</th>\n",
       "      <td>1.0</td>\n",
       "      <td>0.0</td>\n",
       "      <td>0.813187</td>\n",
       "      <td>0.000000</td>\n",
       "      <td>0.014719</td>\n",
       "    </tr>\n",
       "    <tr>\n",
       "      <th>Custodial Arrest pursuant to outstanding warrant</th>\n",
       "      <td>6.0</td>\n",
       "      <td>2.0</td>\n",
       "      <td>4.879121</td>\n",
       "      <td>0.409910</td>\n",
       "      <td>0.051371</td>\n",
       "    </tr>\n",
       "    <tr>\n",
       "      <th>Custodial Arrest without warrant</th>\n",
       "      <td>2.0</td>\n",
       "      <td>2.0</td>\n",
       "      <td>1.626374</td>\n",
       "      <td>1.229730</td>\n",
       "      <td>0.022026</td>\n",
       "    </tr>\n",
       "    <tr>\n",
       "      <th>Field interview card completed</th>\n",
       "      <td>0.0</td>\n",
       "      <td>1.0</td>\n",
       "      <td>0.000000</td>\n",
       "      <td>inf</td>\n",
       "      <td>0.018100</td>\n",
       "    </tr>\n",
       "    <tr>\n",
       "      <th>In-field cite and release</th>\n",
       "      <td>4.0</td>\n",
       "      <td>11.0</td>\n",
       "      <td>3.252747</td>\n",
       "      <td>3.381757</td>\n",
       "      <td>0.462084</td>\n",
       "    </tr>\n",
       "    <tr>\n",
       "      <th>No Action</th>\n",
       "      <td>23.0</td>\n",
       "      <td>14.0</td>\n",
       "      <td>18.703297</td>\n",
       "      <td>0.748531</td>\n",
       "      <td>0.087060</td>\n",
       "    </tr>\n",
       "    <tr>\n",
       "      <th>Noncriminal transport or caretaking transport</th>\n",
       "      <td>1.0</td>\n",
       "      <td>1.0</td>\n",
       "      <td>0.813187</td>\n",
       "      <td>1.229730</td>\n",
       "      <td>0.016376</td>\n",
       "    </tr>\n",
       "    <tr>\n",
       "      <th>Psychiatric hold</th>\n",
       "      <td>2.0</td>\n",
       "      <td>0.0</td>\n",
       "      <td>1.626374</td>\n",
       "      <td>0.000000</td>\n",
       "      <td>0.026732</td>\n",
       "    </tr>\n",
       "    <tr>\n",
       "      <th>Warning (verbal or written)</th>\n",
       "      <td>157.0</td>\n",
       "      <td>127.0</td>\n",
       "      <td>127.670330</td>\n",
       "      <td>0.994750</td>\n",
       "      <td>0.111784</td>\n",
       "    </tr>\n",
       "  </tbody>\n",
       "</table>\n",
       "</div>"
      ],
      "text/plain": [
       "                                                    White  Black/Hispanic  \\\n",
       "Citation for infraction                              77.0            64.0   \n",
       "Contacted parent/legal guardian or other person...    1.0             0.0   \n",
       "Custodial Arrest pursuant to outstanding warrant      6.0             2.0   \n",
       "Custodial Arrest without warrant                      2.0             2.0   \n",
       "Field interview card completed                        0.0             1.0   \n",
       "In-field cite and release                             4.0            11.0   \n",
       "No Action                                            23.0            14.0   \n",
       "Noncriminal transport or caretaking transport         1.0             1.0   \n",
       "Psychiatric hold                                      2.0             0.0   \n",
       "Warning (verbal or written)                         157.0           127.0   \n",
       "\n",
       "                                                    Expected Black/Hispanic  \\\n",
       "Citation for infraction                                           62.615385   \n",
       "Contacted parent/legal guardian or other person...                 0.813187   \n",
       "Custodial Arrest pursuant to outstanding warrant                   4.879121   \n",
       "Custodial Arrest without warrant                                   1.626374   \n",
       "Field interview card completed                                     0.000000   \n",
       "In-field cite and release                                          3.252747   \n",
       "No Action                                                         18.703297   \n",
       "Noncriminal transport or caretaking transport                      0.813187   \n",
       "Psychiatric hold                                                   1.626374   \n",
       "Warning (verbal or written)                                      127.670330   \n",
       "\n",
       "                                                    Relative      Odds  \n",
       "Citation for infraction                             1.022113  0.103082  \n",
       "Contacted parent/legal guardian or other person...  0.000000  0.014719  \n",
       "Custodial Arrest pursuant to outstanding warrant    0.409910  0.051371  \n",
       "Custodial Arrest without warrant                    1.229730  0.022026  \n",
       "Field interview card completed                           inf  0.018100  \n",
       "In-field cite and release                           3.381757  0.462084  \n",
       "No Action                                           0.748531  0.087060  \n",
       "Noncriminal transport or caretaking transport       1.229730  0.016376  \n",
       "Psychiatric hold                                    0.000000  0.026732  \n",
       "Warning (verbal or written)                         0.994750  0.111784  "
      ]
     },
     "execution_count": 24,
     "metadata": {},
     "output_type": "execute_result"
    }
   ],
   "source": [
    "rat.generate_relative_df(whites, black_hispanic, \"White\", \"Black/Hispanic\")"
   ]
  },
  {
   "cell_type": "code",
   "execution_count": 25,
   "id": "f7acac09",
   "metadata": {},
   "outputs": [],
   "source": [
    "whites = rat.add_races(df_uniq, ['White'], field=\"actions_taken\")\n",
    "black_hispanic = rat.add_races(df_uniq, ['Black/African American', 'Hispanic/Latino/a'], field=\"actions_taken\")"
   ]
  },
  {
   "cell_type": "code",
   "execution_count": 26,
   "id": "0fad8077",
   "metadata": {},
   "outputs": [
    {
     "name": "stderr",
     "output_type": "stream",
     "text": [
      "/home/brian/.local/lib/python3.10/site-packages/scipy/stats/_discrete_distns.py:69: RuntimeWarning: divide by zero encountered in _binom_pdf\n",
      "  return _boost._binom_pdf(x, n, p)\n"
     ]
    },
    {
     "data": {
      "text/html": [
       "<div>\n",
       "<style scoped>\n",
       "    .dataframe tbody tr th:only-of-type {\n",
       "        vertical-align: middle;\n",
       "    }\n",
       "\n",
       "    .dataframe tbody tr th {\n",
       "        vertical-align: top;\n",
       "    }\n",
       "\n",
       "    .dataframe thead th {\n",
       "        text-align: right;\n",
       "    }\n",
       "</style>\n",
       "<table border=\"1\" class=\"dataframe\">\n",
       "  <thead>\n",
       "    <tr style=\"text-align: right;\">\n",
       "      <th></th>\n",
       "      <th>White</th>\n",
       "      <th>Black/Hispanic</th>\n",
       "      <th>Expected Black/Hispanic</th>\n",
       "      <th>Relative</th>\n",
       "      <th>Odds</th>\n",
       "    </tr>\n",
       "  </thead>\n",
       "  <tbody>\n",
       "    <tr>\n",
       "      <th>Asked for consent to search person</th>\n",
       "      <td>7.0</td>\n",
       "      <td>2.0</td>\n",
       "      <td>5.692308</td>\n",
       "      <td>0.351351</td>\n",
       "      <td>0.072878</td>\n",
       "    </tr>\n",
       "    <tr>\n",
       "      <th>Asked for consent to search property</th>\n",
       "      <td>2.0</td>\n",
       "      <td>1.0</td>\n",
       "      <td>1.626374</td>\n",
       "      <td>0.614865</td>\n",
       "      <td>0.019788</td>\n",
       "    </tr>\n",
       "    <tr>\n",
       "      <th>Curbside detention</th>\n",
       "      <td>1.0</td>\n",
       "      <td>7.0</td>\n",
       "      <td>0.813187</td>\n",
       "      <td>8.608108</td>\n",
       "      <td>0.524013</td>\n",
       "    </tr>\n",
       "    <tr>\n",
       "      <th>Firearm pointed at person</th>\n",
       "      <td>0.0</td>\n",
       "      <td>1.0</td>\n",
       "      <td>0.000000</td>\n",
       "      <td>inf</td>\n",
       "      <td>0.018100</td>\n",
       "    </tr>\n",
       "    <tr>\n",
       "      <th>Handcuffed or flex cuffed</th>\n",
       "      <td>1.0</td>\n",
       "      <td>7.0</td>\n",
       "      <td>0.813187</td>\n",
       "      <td>8.608108</td>\n",
       "      <td>0.524013</td>\n",
       "    </tr>\n",
       "    <tr>\n",
       "      <th>None</th>\n",
       "      <td>255.0</td>\n",
       "      <td>194.0</td>\n",
       "      <td>207.362637</td>\n",
       "      <td>0.935559</td>\n",
       "      <td>0.882961</td>\n",
       "    </tr>\n",
       "    <tr>\n",
       "      <th>Person photographed</th>\n",
       "      <td>1.0</td>\n",
       "      <td>0.0</td>\n",
       "      <td>0.813187</td>\n",
       "      <td>0.000000</td>\n",
       "      <td>0.014719</td>\n",
       "    </tr>\n",
       "    <tr>\n",
       "      <th>Person removed from vehicle by order</th>\n",
       "      <td>2.0</td>\n",
       "      <td>4.0</td>\n",
       "      <td>1.626374</td>\n",
       "      <td>2.459459</td>\n",
       "      <td>0.043996</td>\n",
       "    </tr>\n",
       "    <tr>\n",
       "      <th>Person removed from vehicle by physical contact</th>\n",
       "      <td>0.0</td>\n",
       "      <td>1.0</td>\n",
       "      <td>0.000000</td>\n",
       "      <td>inf</td>\n",
       "      <td>0.018100</td>\n",
       "    </tr>\n",
       "    <tr>\n",
       "      <th>Property was seized</th>\n",
       "      <td>0.0</td>\n",
       "      <td>1.0</td>\n",
       "      <td>0.000000</td>\n",
       "      <td>inf</td>\n",
       "      <td>0.018100</td>\n",
       "    </tr>\n",
       "    <tr>\n",
       "      <th>Search of person was conducted</th>\n",
       "      <td>3.0</td>\n",
       "      <td>2.0</td>\n",
       "      <td>2.439560</td>\n",
       "      <td>0.819820</td>\n",
       "      <td>0.023945</td>\n",
       "    </tr>\n",
       "    <tr>\n",
       "      <th>Search of property was conducted</th>\n",
       "      <td>1.0</td>\n",
       "      <td>2.0</td>\n",
       "      <td>0.813187</td>\n",
       "      <td>2.459459</td>\n",
       "      <td>0.024354</td>\n",
       "    </tr>\n",
       "  </tbody>\n",
       "</table>\n",
       "</div>"
      ],
      "text/plain": [
       "                                                 White  Black/Hispanic  \\\n",
       "Asked for consent to search person                 7.0             2.0   \n",
       "Asked for consent to search property               2.0             1.0   \n",
       "Curbside detention                                 1.0             7.0   \n",
       "Firearm pointed at person                          0.0             1.0   \n",
       "Handcuffed or flex cuffed                          1.0             7.0   \n",
       "None                                             255.0           194.0   \n",
       "Person photographed                                1.0             0.0   \n",
       "Person removed from vehicle by order               2.0             4.0   \n",
       "Person removed from vehicle by physical contact    0.0             1.0   \n",
       "Property was seized                                0.0             1.0   \n",
       "Search of person was conducted                     3.0             2.0   \n",
       "Search of property was conducted                   1.0             2.0   \n",
       "\n",
       "                                                 Expected Black/Hispanic  \\\n",
       "Asked for consent to search person                              5.692308   \n",
       "Asked for consent to search property                            1.626374   \n",
       "Curbside detention                                              0.813187   \n",
       "Firearm pointed at person                                       0.000000   \n",
       "Handcuffed or flex cuffed                                       0.813187   \n",
       "None                                                          207.362637   \n",
       "Person photographed                                             0.813187   \n",
       "Person removed from vehicle by order                            1.626374   \n",
       "Person removed from vehicle by physical contact                 0.000000   \n",
       "Property was seized                                             0.000000   \n",
       "Search of person was conducted                                  2.439560   \n",
       "Search of property was conducted                                0.813187   \n",
       "\n",
       "                                                 Relative      Odds  \n",
       "Asked for consent to search person               0.351351  0.072878  \n",
       "Asked for consent to search property             0.614865  0.019788  \n",
       "Curbside detention                               8.608108  0.524013  \n",
       "Firearm pointed at person                             inf  0.018100  \n",
       "Handcuffed or flex cuffed                        8.608108  0.524013  \n",
       "None                                             0.935559  0.882961  \n",
       "Person photographed                              0.000000  0.014719  \n",
       "Person removed from vehicle by order             2.459459  0.043996  \n",
       "Person removed from vehicle by physical contact       inf  0.018100  \n",
       "Property was seized                                   inf  0.018100  \n",
       "Search of person was conducted                   0.819820  0.023945  \n",
       "Search of property was conducted                 2.459459  0.024354  "
      ]
     },
     "execution_count": 26,
     "metadata": {},
     "output_type": "execute_result"
    }
   ],
   "source": [
    "rat.generate_relative_df(whites, black_hispanic, \"White\", \"Black/Hispanic\")"
   ]
  },
  {
   "cell_type": "code",
   "execution_count": null,
   "id": "ca733dec",
   "metadata": {},
   "outputs": [],
   "source": []
  }
 ],
 "metadata": {
  "kernelspec": {
   "display_name": "Python 3 (ipykernel)",
   "language": "python",
   "name": "python3"
  },
  "language_info": {
   "codemirror_mode": {
    "name": "ipython",
    "version": 3
   },
   "file_extension": ".py",
   "mimetype": "text/x-python",
   "name": "python",
   "nbconvert_exporter": "python",
   "pygments_lexer": "ipython3",
   "version": "3.10.6"
  }
 },
 "nbformat": 4,
 "nbformat_minor": 5
}
