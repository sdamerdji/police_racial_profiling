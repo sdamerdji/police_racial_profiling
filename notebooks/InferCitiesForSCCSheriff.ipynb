{
 "cells": [
  {
   "cell_type": "code",
   "execution_count": 1,
   "id": "ad071751",
   "metadata": {},
   "outputs": [],
   "source": [
    "import pandas as pd\n",
    "import seaborn as sns\n",
    "import matplotlib.pyplot as plt\n",
    "from datetime import datetime\n",
    "import time as time\n",
    "import re\n",
    "from random import randint\n",
    "from geopy.exc import GeocoderTimedOut, GeocoderServiceError\n",
    "import logging"
   ]
  },
  {
   "cell_type": "code",
   "execution_count": 2,
   "id": "d96c005c",
   "metadata": {},
   "outputs": [],
   "source": [
    "import loaders.cityprotect as cp"
   ]
  },
  {
   "cell_type": "markdown",
   "id": "9eacbd6c",
   "metadata": {},
   "source": [
    "Concatenate and pandaize data downloaded from CityProtect.\n",
    "Given a folder, find all the files ending with \"Los_Altos_Police_Department_report.csv\", concatenate, and sort by date."
   ]
  },
  {
   "cell_type": "code",
   "execution_count": 3,
   "id": "96224854",
   "metadata": {},
   "outputs": [],
   "source": [
    "# import module\n",
    "from geopy.geocoders import Nominatim\n",
    "  \n",
    "# initialize Nominatim API \n",
    "user_agent = 'user_me_{}'.format(randint(10000,99999))\n",
    "geolocator = Nominatim(user_agent=user_agent)\n",
    " "
   ]
  },
  {
   "cell_type": "code",
   "execution_count": 4,
   "id": "45ffd1cc",
   "metadata": {},
   "outputs": [
    {
     "name": "stdout",
     "output_type": "stream",
     "text": [
      "Loading from 24 files.\n",
      "Data file ../data/raw_data/Santa_Clara_County_Office_of_the_Sheriff/Apr_Jun_2017_Santa_Clara_County_Office_of_the_Sheriff_report.csv is empty.\n",
      "Data file ../data/raw_data/Santa_Clara_County_Office_of_the_Sheriff/Jan_Mar_2017_Santa_Clara_County_Office_of_the_Sheriff_report.csv is empty.\n"
     ]
    }
   ],
   "source": [
    "dept = \"Santa Clara County Office of the Sheriff\"\n",
    "df = cp.cityprotect(\"../data/raw_data/{}\".format(dept.replace(\" \", \"_\")))"
   ]
  },
  {
   "cell_type": "code",
   "execution_count": 4,
   "id": "40909974",
   "metadata": {},
   "outputs": [
    {
     "ename": "NameError",
     "evalue": "name 'df' is not defined",
     "output_type": "error",
     "traceback": [
      "\u001b[0;31m---------------------------------------------------------------------------\u001b[0m",
      "\u001b[0;31mNameError\u001b[0m                                 Traceback (most recent call last)",
      "Input \u001b[0;32mIn [4]\u001b[0m, in \u001b[0;36m<cell line: 1>\u001b[0;34m()\u001b[0m\n\u001b[0;32m----> 1\u001b[0m \u001b[43mdf\u001b[49m[\u001b[38;5;124m\"\u001b[39m\u001b[38;5;124minferredCity\u001b[39m\u001b[38;5;124m\"\u001b[39m]\u001b[38;5;241m=\u001b[39m\u001b[38;5;124m\"\u001b[39m\u001b[38;5;124munknown\u001b[39m\u001b[38;5;124m\"\u001b[39m\n",
      "\u001b[0;31mNameError\u001b[0m: name 'df' is not defined"
     ]
    }
   ],
   "source": [
    "df[\"inferredCity\"]=\"unknown\""
   ]
  },
  {
   "cell_type": "code",
   "execution_count": 5,
   "id": "9468cb1d",
   "metadata": {},
   "outputs": [],
   "source": [
    "def geocode(geolocator, addr, sleep_sec):\n",
    "    try:\n",
    "        return geolocator.geocode(addr)\n",
    "    except GeocoderTimedOut:\n",
    "        logging.info('TIMED OUT: GeocoderTimedOut: Retrying...')\n",
    "        sleep(randint(1*100,sleep_sec*100)/100)\n",
    "        return reverse_geocode(geolocator, latlon, sleep_sec)\n",
    "    except GeocoderServiceError as e:\n",
    "        logging.info('CONNECTION REFUSED: GeocoderServiceError encountered.')\n",
    "        logging.error(e)\n",
    "        return None\n",
    "    except Exception as e:\n",
    "        logging.info('ERROR: Terminating due to exception {}'.format(e))\n",
    "        return None"
   ]
  },
  {
   "cell_type": "code",
   "execution_count": 6,
   "id": "ba3dfcf8",
   "metadata": {},
   "outputs": [],
   "source": [
    "df = pd.read_pickle(\"SCCSheriff.pkl\")"
   ]
  },
  {
   "cell_type": "code",
   "execution_count": 7,
   "id": "e4fb081a",
   "metadata": {
    "scrolled": true
   },
   "outputs": [
    {
     "name": "stdout",
     "output_type": "stream",
     "text": [
      "Failed to scan: nan\n",
      "Failed to scan: nan\n",
      "Failed to scan: nan\n",
      "Failed to scan: nan\n",
      "Failed to scan: nan\n",
      "Failed to scan: nan\n",
      "Failed to scan: nan\n",
      "Failed to scan: nan\n",
      "Failed to scan: nan\n",
      "Failed to scan: nan\n",
      "Failed to scan: nan\n",
      "Failed to scan: nan\n",
      "Failed to scan: nan\n",
      "Failed to scan: nan\n",
      "Failed to scan: nan\n",
      "Failed to scan: nan\n",
      "Failed to scan: nan\n",
      "Failed to scan: nan\n",
      "Failed to scan: nan\n",
      "Failed to scan: nan\n",
      "Failed to scan: nan\n",
      "Failed to scan: nan\n",
      "Failed to scan: nan\n",
      "Failed to scan: nan\n",
      "Failed to scan: nan\n",
      "Failed to scan: nan\n",
      "Failed to scan: nan\n",
      "Failed to scan: nan\n",
      "Failed to scan: nan\n",
      "Failed to scan: nan\n",
      "Failed to scan: nan\n",
      "Failed to scan: nan\n",
      "Failed to scan: nan\n",
      "Failed to scan: nan\n",
      "Failed to scan: nan\n",
      "Failed to scan: nan\n",
      "Failed to scan: nan\n",
      "Failed to scan: nan\n",
      "Failed to scan: nan\n",
      "Failed to scan: nan\n",
      "Failed to scan: nan\n",
      "Failed to scan: nan\n",
      "Failed to scan: nan\n",
      "Failed to scan: nan\n",
      "Failed to scan: nan\n",
      "Failed to scan: nan\n",
      "Failed to scan: nan\n",
      "Failed to scan: nan\n",
      "Failed to scan: nan\n",
      "Failed to scan: nan\n",
      "Failed to scan: nan\n",
      "Failed to scan: nan\n",
      "Failed to scan: nan\n",
      "Failed to scan: nan\n",
      "Failed to scan: nan\n",
      "Failed to scan: nan\n",
      "Failed to scan: nan\n",
      "Failed to scan: nan\n",
      "Failed to scan: nan\n",
      "Failed to scan: nan\n",
      "Failed to scan: nan\n",
      "Failed to scan: nan\n",
      "Failed to scan: nan\n",
      "Failed to scan: nan\n",
      "Failed to scan: nan\n",
      "Failed to scan: nan\n",
      "Failed to scan: nan\n",
      "Failed to scan: nan\n",
      "Failed to scan: nan\n",
      "Failed to scan: nan\n",
      "Failed to scan: nan\n",
      "Failed to scan: nan\n",
      "Failed to scan: nan\n",
      "Failed to scan: nan\n",
      "Failed to scan: nan\n",
      "Failed to scan: nan\n",
      "Failed to scan: nan\n",
      "Failed to scan: nan\n",
      "Failed to scan: nan\n",
      "Failed to scan: nan\n",
      "Failed to scan: nan\n",
      "Failed to scan: nan\n",
      "Failed to scan: nan\n",
      "Failed to scan: nan\n",
      "Failed to scan: nan\n",
      "Failed to scan: nan\n",
      "Failed to scan: nan\n",
      "Failed to scan: nan\n",
      "Failed to scan: nan\n",
      "Failed to scan: nan\n",
      "Failed to scan: nan\n",
      "Failed to scan: nan\n",
      "Failed to scan: nan\n",
      "Failed to scan: nan\n",
      "Failed to scan: nan\n",
      "Failed to scan: nan\n",
      "Failed to scan: nan\n",
      "Failed to scan: nan\n",
      "Failed to scan: nan\n",
      "Failed to scan: nan\n",
      "Failed to scan: nan\n",
      "Failed to scan: nan\n",
      "Failed to scan: nan\n",
      "Failed to scan: nan\n",
      "Failed to scan: nan\n",
      "Failed to scan: nan\n",
      "Failed to scan: nan\n",
      "Failed to scan: nan\n",
      "Failed to scan: nan\n",
      "Failed to scan: nan\n",
      "Failed to scan: nan\n",
      "Failed to scan: nan\n",
      "Failed to scan: nan\n",
      "Failed to scan: nan\n",
      "Failed to scan: nan\n",
      "Failed to scan: nan\n",
      "Failed to scan: nan\n",
      "Failed to scan: nan\n",
      "Failed to scan: nan\n",
      "Failed to scan: nan\n",
      "Failed to scan: nan\n",
      "Failed to scan: nan\n",
      "Failed to scan: nan\n",
      "Failed to scan: nan\n",
      "Failed to scan: nan\n",
      "Failed to scan: nan\n",
      "Failed to scan: nan\n",
      "Failed to scan: nan\n",
      "Failed to scan: nan\n",
      "Failed to scan: nan\n",
      "Failed to scan: nan\n",
      "Failed to scan: nan\n",
      "Failed to scan: nan\n",
      "Failed to scan: nan\n",
      "Failed to scan: nan\n",
      "Failed to scan: nan\n",
      "Failed to scan: nan\n",
      "Failed to scan: nan\n",
      "Failed to scan: nan\n",
      "Failed to scan: nan\n",
      "Failed to scan: nan\n",
      "Failed to scan: nan\n",
      "Failed to scan: nan\n",
      "Failed to scan: nan\n",
      "Failed to scan: nan\n",
      "Failed to scan: nan\n",
      "Failed to scan: nan\n",
      "Failed to scan: nan\n",
      "Failed to scan: nan\n",
      "Failed to scan: nan\n",
      "Failed to scan: nan\n",
      "Failed to scan: nan\n",
      "Failed to scan: nan\n",
      "Failed to scan: nan\n",
      "Failed to scan: nan\n",
      "Failed to scan: nan\n",
      "Failed to scan: nan\n",
      "Failed to scan: nan\n",
      "Failed to scan: nan\n",
      "Failed to scan: nan\n",
      "Failed to scan: nan\n",
      "Failed to scan: nan\n",
      "Failed to scan: nan\n",
      "Failed to scan: nan\n",
      "Failed to scan: nan\n",
      "Failed to scan: nan\n",
      "Failed to scan: nan\n",
      "Failed to scan: nan\n",
      "Failed to scan: nan\n",
      "Failed to scan: nan\n",
      "Failed to scan: nan\n",
      "Failed to scan: nan\n",
      "Failed to scan: nan\n",
      "Failed to scan: nan\n",
      "Failed to scan: nan\n",
      "Failed to scan: nan\n",
      "Failed to scan: nan\n",
      "Failed to scan: nan\n",
      "Failed to scan: nan\n",
      "Failed to scan: nan\n",
      "Failed to scan: nan\n",
      "Failed to scan: nan\n",
      "Failed to scan: nan\n",
      "Failed to scan: nan\n",
      "Failed to scan: nan\n",
      "Failed to scan: nan\n",
      "Failed to scan: nan\n",
      "Failed to scan: nan\n",
      "Failed to scan: nan\n",
      "Failed to scan: nan\n",
      "\n",
      "1 Saratoga-Sunnyvale Road, Blue Hills, Saratoga, Santa Clara County, California, 95014, United States: Saratoga, 95014\n",
      "\n",
      "2 20000, Puente Court, Saratoga, Santa Clara County, California, 95070, United States: Saratoga, 95070\n",
      "\n",
      "3 Guadalupe Freeway, San Jose, Santa Clara County, CAL Fire Northern Region, California, 95110, United States: San Jose, 95110\n",
      "\n",
      "4 Scott Street, Buena Vista, San Jose, Santa Clara County, CAL Fire Northern Region, California, 95126, United States: San Jose, 95126\n",
      "\n",
      "5 1, South Capitol Avenue, Alum Rock, San Jose, Santa Clara County, CAL Fire Northern Region, California, 95127, United States: San Jose, 95127\n",
      "NR: 6 \n",
      "7 8400, Monterey Road, Coyote, San Jose, Santa Clara County, California, 95037, United States: San Jose, 95037\n",
      "\n",
      "8 400, North White Road, Alum Rock, San Jose, Santa Clara County, CAL Fire Northern Region, California, 95127, United States: San Jose, 95127\n",
      "\n",
      "9 Fruitvale Avenue, Saratoga, Santa Clara County, California, 95070, United States: Saratoga, 95070\n",
      "\n",
      "10 18900, Greenbrook Court, Saratoga, Santa Clara County, California, 95070, United States: Saratoga, 95070\n"
     ]
    },
    {
     "name": "stderr",
     "output_type": "stream",
     "text": [
      "ERROR:root:HTTPSConnectionPool(host='nominatim.openstreetmap.org', port=443): Max retries exceeded with url: /search?q=FY+85%2C+SANTA+CLARA+COUNTY%2C+CA&format=json&limit=1 (Caused by ReadTimeoutError(\"HTTPSConnectionPool(host='nominatim.openstreetmap.org', port=443): Read timed out. (read timeout=1)\"))\n"
     ]
    },
    {
     "name": "stdout",
     "output_type": "stream",
     "text": [
      "NR: 11 "
     ]
    },
    {
     "name": "stderr",
     "output_type": "stream",
     "text": [
      "WARNING:urllib3.connectionpool:Retrying (Retry(total=1, connect=None, read=None, redirect=None, status=None)) after connection broken by 'ReadTimeoutError(\"HTTPSConnectionPool(host='nominatim.openstreetmap.org', port=443): Read timed out. (read timeout=1)\")': /search?q=FY+85%2C+SANTA+CLARA+COUNTY%2C+CA&format=json&limit=1\n"
     ]
    },
    {
     "name": "stdout",
     "output_type": "stream",
     "text": [
      "NR: 12 \n",
      "13 25000, Oneonta Drive, Los Altos Hills, Santa Clara County, California, 94022, United States: Los Altos Hills, 94022\n",
      "\n",
      "14 Bubb Road, Cupertino, Santa Clara County, CAL Fire Northern Region, California, 95014, United States: Cupertino, 95014\n",
      "\n",
      "15 9500, Burchell Road, Santa Clara County, CAL Fire Northern Region, California, 95020, United States: Burchell Road, 95020\n",
      "\n",
      "16 13200, Uvas Road, Santa Clara County, California, 95037, United States: Uvas Road, 95037\n",
      "\n",
      "17 12800, Stevens Court, Santa Clara County, California, 95046, United States: Stevens Court, 95046\n"
     ]
    },
    {
     "name": "stderr",
     "output_type": "stream",
     "text": [
      "WARNING:urllib3.connectionpool:Retrying (Retry(total=1, connect=None, read=None, redirect=None, status=None)) after connection broken by 'ReadTimeoutError(\"HTTPSConnectionPool(host='nominatim.openstreetmap.org', port=443): Read timed out. (read timeout=1)\")': /search?q=2700++FERGUSON+RD%2C+SANTA+CLARA+COUNTY%2C+CA&format=json&limit=1\n"
     ]
    },
    {
     "name": "stdout",
     "output_type": "stream",
     "text": [
      "\n",
      "18 2700, Ferguson Road, Santa Clara County, California, 95020, United States: Ferguson Road, 95020\n",
      "\n",
      "19 900, Thornton Way, San Jose, Santa Clara County, California, 95128, United States: San Jose, 95128\n",
      "\n",
      "20 Metcalf Road, San Jose, Santa Clara County, California, 95151, United States: San Jose, 95151\n"
     ]
    },
    {
     "name": "stderr",
     "output_type": "stream",
     "text": [
      "WARNING:urllib3.connectionpool:Retrying (Retry(total=1, connect=None, read=None, redirect=None, status=None)) after connection broken by 'ReadTimeoutError(\"HTTPSConnectionPool(host='nominatim.openstreetmap.org', port=443): Read timed out. (read timeout=1)\")': /search?q=200+++STEVENS+CREEK+BLVD%2C+SANTA+CLARA+COUNTY%2C+CA&format=json&limit=1\n"
     ]
    },
    {
     "name": "stdout",
     "output_type": "stream",
     "text": [
      "\n",
      "21 Stevens Creek Boulevard, Cupertino, Santa Clara County, CAL Fire Northern Region, California, 95014, United States: Cupertino, 95014\n",
      "\n",
      "22 19200, Bountiful Acres Way, Saratoga, Santa Clara County, California, 95070, United States: Saratoga, 95070\n",
      "\n",
      "23 Ridge Vista Avenue, San Jose, Santa Clara County, California, 93133, United States: San Jose, 93133\n",
      "\n",
      "24 11700, Magdalena Avenue, Los Altos Hills, Santa Clara County, California, 94024, United States: Los Altos Hills, 94024\n",
      "\n",
      "25 14900, Sobey Road, Saratoga, Santa Clara County, California, 95070, United States: Saratoga, 95070\n"
     ]
    },
    {
     "name": "stderr",
     "output_type": "stream",
     "text": [
      "WARNING:urllib3.connectionpool:Retrying (Retry(total=1, connect=None, read=None, redirect=None, status=None)) after connection broken by 'ReadTimeoutError(\"HTTPSConnectionPool(host='nominatim.openstreetmap.org', port=443): Read timed out. (read timeout=1)\")': /search?q=100+++HIGHLAND+AV%2C+SANTA+CLARA+COUNTY%2C+CA&format=json&limit=1\n"
     ]
    },
    {
     "name": "stdout",
     "output_type": "stream",
     "text": [
      "\n",
      "26 100, Highland Avenue, Los Gatos, Santa Clara County, California, 95030, United States: Los Gatos, 95030\n",
      "\n",
      "27 22100, Lindy Lane, Cupertino, Santa Clara County, California, 95014, United States: Cupertino, 95014\n",
      "\n",
      "28 Page Mill Road, Evergreen Park, Palo Alto, Santa Clara County, California, 94036, United States: Palo Alto, 94036\n"
     ]
    },
    {
     "name": "stderr",
     "output_type": "stream",
     "text": [
      "WARNING:urllib3.connectionpool:Retrying (Retry(total=1, connect=None, read=None, redirect=None, status=None)) after connection broken by 'ReadTimeoutError(\"HTTPSConnectionPool(host='nominatim.openstreetmap.org', port=443): Read timed out. (read timeout=1)\")': /search?q=STEVENS+CREEK+BLVD%2C+SANTA+CLARA+COUNTY%2C+CA&format=json&limit=1\n"
     ]
    },
    {
     "name": "stdout",
     "output_type": "stream",
     "text": [
      "\n",
      "29 Stevens Creek Boulevard, Cupertino, Santa Clara County, CAL Fire Northern Region, California, 95014, United States: Cupertino, 95014\n"
     ]
    },
    {
     "name": "stderr",
     "output_type": "stream",
     "text": [
      "WARNING:urllib3.connectionpool:Retrying (Retry(total=1, connect=None, read=None, redirect=None, status=None)) after connection broken by 'ReadTimeoutError(\"HTTPSConnectionPool(host='nominatim.openstreetmap.org', port=443): Read timed out. (read timeout=1)\")': /search?q=100+++N+WOLFE+RD%2C+SANTA+CLARA+COUNTY%2C+CA&format=json&limit=1\n"
     ]
    },
    {
     "name": "stdout",
     "output_type": "stream",
     "text": [
      "\n",
      "30 100, North Wolfe Road, Sunnyvale, Santa Clara County, California, 94086, United States: Sunnyvale, 94086\n",
      "\n",
      "31 26600, Purissima Road, Los Altos Hills, Santa Clara County, California, 94022, United States: Los Altos Hills, 94022\n"
     ]
    },
    {
     "name": "stderr",
     "output_type": "stream",
     "text": [
      "WARNING:urllib3.connectionpool:Retrying (Retry(total=1, connect=None, read=None, redirect=None, status=None)) after connection broken by 'ReadTimeoutError(\"HTTPSConnectionPool(host='nominatim.openstreetmap.org', port=443): Read timed out. (read timeout=1)\")': /search?q=12800++SARATOGA+SUNNYVALE+RD%2C+SANTA+CLARA+COUNTY%2C+CA&format=json&limit=1\n"
     ]
    },
    {
     "name": "stdout",
     "output_type": "stream",
     "text": [
      "\n",
      "32 Saratoga-Sunnyvale Road, Blue Hills, Saratoga, Santa Clara County, California, 95014, United States: Saratoga, 95014\n",
      "\n",
      "33 25000, Oneonta Drive, Los Altos Hills, Santa Clara County, California, 94022, United States: Los Altos Hills, 94022\n"
     ]
    },
    {
     "name": "stderr",
     "output_type": "stream",
     "text": [
      "WARNING:urllib3.connectionpool:Retrying (Retry(total=1, connect=None, read=None, redirect=None, status=None)) after connection broken by 'ReadTimeoutError(\"HTTPSConnectionPool(host='nominatim.openstreetmap.org', port=443): Read timed out. (read timeout=1)\")': /search?q=10200++IMPERIAL+AV%2C+SANTA+CLARA+COUNTY%2C+CA&format=json&limit=1\n"
     ]
    },
    {
     "name": "stdout",
     "output_type": "stream",
     "text": [
      "\n",
      "34 10200, Imperial Avenue, Monta Vista, Cupertino, Santa Clara County, California, 95014, United States: Cupertino, 95014\n",
      "\n",
      "35 300, Galvez Street, Stanford, Santa Clara County, California, 94305, United States: Stanford, 94305\n",
      "\n",
      "36 2300, Maywood Avenue, Buena Vista, San Jose, Santa Clara County, California, 95128, United States: San Jose, 95128\n"
     ]
    },
    {
     "name": "stderr",
     "output_type": "stream",
     "text": [
      "WARNING:urllib3.connectionpool:Retrying (Retry(total=1, connect=None, read=None, redirect=None, status=None)) after connection broken by 'ReadTimeoutError(\"HTTPSConnectionPool(host='nominatim.openstreetmap.org', port=443): Read timed out. (read timeout=1)\")': /search?q=N+BLANEY+AV%2C+SANTA+CLARA+COUNTY%2C+CA&format=json&limit=1\n"
     ]
    },
    {
     "name": "stdout",
     "output_type": "stream",
     "text": [
      "\n",
      "37 North Blaney Avenue, Cupertino, Santa Clara County, California, 95014, United States: Cupertino, 95014\n",
      "\n",
      "38 Burnett Avenue, Santa Clara, Santa Clara County, California, 95150, United States: Santa Clara, 95150\n"
     ]
    },
    {
     "name": "stderr",
     "output_type": "stream",
     "text": [
      "WARNING:urllib3.connectionpool:Retrying (Retry(total=1, connect=None, read=None, redirect=None, status=None)) after connection broken by 'ReadTimeoutError(\"HTTPSConnectionPool(host='nominatim.openstreetmap.org', port=443): Read timed out. (read timeout=1)\")': /search?q=13200++UVAS+RD%2C+SANTA+CLARA+COUNTY%2C+CA&format=json&limit=1\n"
     ]
    },
    {
     "name": "stdout",
     "output_type": "stream",
     "text": [
      "\n",
      "39 13200, Uvas Road, Santa Clara County, California, 95037, United States: Uvas Road, 95037\n",
      "\n",
      "40 2300, Maywood Avenue, Buena Vista, San Jose, Santa Clara County, California, 95128, United States: San Jose, 95128\n"
     ]
    },
    {
     "name": "stderr",
     "output_type": "stream",
     "text": [
      "WARNING:urllib3.connectionpool:Retrying (Retry(total=1, connect=None, read=None, redirect=None, status=None)) after connection broken by 'ReadTimeoutError(\"HTTPSConnectionPool(host='nominatim.openstreetmap.org', port=443): Read timed out. (read timeout=1)\")': /search?q=400++S+WILLARD+AV%2C+SANTA+CLARA+COUNTY%2C+CA&format=json&limit=1\n"
     ]
    },
    {
     "name": "stdout",
     "output_type": "stream",
     "text": [
      "\n",
      "41 400, South Willard Avenue, Buena Vista, San Jose, Santa Clara County, California, 95126, United States: San Jose, 95126\n",
      "\n",
      "42 10400, North De Anza Boulevard, Cupertino, Santa Clara County, California, 95014, United States: Cupertino, 95014\n",
      "\n",
      "43 10400, North De Anza Boulevard, Cupertino, Santa Clara County, California, 95014, United States: Cupertino, 95014\n"
     ]
    },
    {
     "name": "stderr",
     "output_type": "stream",
     "text": [
      "WARNING:urllib3.connectionpool:Retrying (Retry(total=1, connect=None, read=None, redirect=None, status=None)) after connection broken by 'ReadTimeoutError(\"HTTPSConnectionPool(host='nominatim.openstreetmap.org', port=443): Read timed out. (read timeout=1)\")': /search?q=200+++ALMADEN+RD%2C+SANTA+CLARA+COUNTY%2C+CA&format=json&limit=1\n"
     ]
    },
    {
     "name": "stdout",
     "output_type": "stream",
     "text": [
      "\n",
      "44 Almaden Road, Willow Glen, San Jose, Santa Clara County, CAL Fire Northern Region, California, 95125, United States: San Jose, 95125\n"
     ]
    },
    {
     "name": "stderr",
     "output_type": "stream",
     "text": [
      "WARNING:urllib3.connectionpool:Retrying (Retry(total=1, connect=None, read=None, redirect=None, status=None)) after connection broken by 'ReadTimeoutError(\"HTTPSConnectionPool(host='nominatim.openstreetmap.org', port=443): Read timed out. (read timeout=1)\")': /search?q=1+++N+2ND+ST%2C+SANTA+CLARA+COUNTY%2C+CA&format=json&limit=1\n"
     ]
    },
    {
     "name": "stdout",
     "output_type": "stream",
     "text": [
      "NR: 45 \n",
      "46 1, Monterey Road, Lonoke, Gilroy, Santa Clara County, California, 95020, United States: Gilroy, 95020\n",
      "\n",
      "47 500, West Edmundson Avenue, Morgan Hill, Santa Clara County, California, 95037, United States: Morgan Hill, 95037\n"
     ]
    },
    {
     "name": "stderr",
     "output_type": "stream",
     "text": [
      "WARNING:urllib3.connectionpool:Retrying (Retry(total=1, connect=None, read=None, redirect=None, status=None)) after connection broken by 'ReadTimeoutError(\"HTTPSConnectionPool(host='nominatim.openstreetmap.org', port=443): Read timed out. (read timeout=1)\")': /search?q=20800++STEVENS+CREEK+BLVD%2C+SANTA+CLARA+COUNTY%2C+CA&format=json&limit=1\n"
     ]
    },
    {
     "name": "stdout",
     "output_type": "stream",
     "text": [
      "\n",
      "48 20800, Stevens Creek Boulevard, The Crossroads, Cupertino, Santa Clara County, CAL Fire Northern Region, California, 95014, United States: Cupertino, 95014\n"
     ]
    },
    {
     "name": "stderr",
     "output_type": "stream",
     "text": [
      "WARNING:urllib3.connectionpool:Retrying (Retry(total=1, connect=None, read=None, redirect=None, status=None)) after connection broken by 'ReadTimeoutError(\"HTTPSConnectionPool(host='nominatim.openstreetmap.org', port=443): Read timed out. (read timeout=1)\")': /search?q=COLUMBUS+AV%2C+SANTA+CLARA+COUNTY%2C+CA&format=json&limit=1\n"
     ]
    },
    {
     "name": "stdout",
     "output_type": "stream",
     "text": [
      "\n",
      "49 Columbus Avenue, Cupertino, Santa Clara County, California, 95014, United States: Cupertino, 95014\n"
     ]
    },
    {
     "name": "stderr",
     "output_type": "stream",
     "text": [
      "WARNING:urllib3.connectionpool:Retrying (Retry(total=1, connect=None, read=None, redirect=None, status=None)) after connection broken by 'ReadTimeoutError(\"HTTPSConnectionPool(host='nominatim.openstreetmap.org', port=443): Read timed out. (read timeout=1)\")': /search?q=300++N+WHITE+RD%2C+SANTA+CLARA+COUNTY%2C+CA&format=json&limit=1\n"
     ]
    },
    {
     "name": "stdout",
     "output_type": "stream",
     "text": [
      "\n",
      "50 300, North White Road, Alum Rock, San Jose, Santa Clara County, CAL Fire Northern Region, California, 95127, United States: San Jose, 95127\n",
      "\n",
      "51 Sycamore Drive, Midtown, Palo Alto, Santa Clara County, California, 94303, United States: Palo Alto, 94303\n"
     ]
    },
    {
     "name": "stderr",
     "output_type": "stream",
     "text": [
      "WARNING:urllib3.connectionpool:Retrying (Retry(total=1, connect=None, read=None, redirect=None, status=None)) after connection broken by 'ReadTimeoutError(\"HTTPSConnectionPool(host='nominatim.openstreetmap.org', port=443): Read timed out. (read timeout=1)\")': /search?q=SOUTH+COUNTY+UNIT%2C+SANTA+CLARA+COUNTY%2C+CA&format=json&limit=1\n",
      "WARNING:urllib3.connectionpool:Retrying (Retry(total=0, connect=None, read=None, redirect=None, status=None)) after connection broken by 'ReadTimeoutError(\"HTTPSConnectionPool(host='nominatim.openstreetmap.org', port=443): Read timed out. (read timeout=1)\")': /search?q=SOUTH+COUNTY+UNIT%2C+SANTA+CLARA+COUNTY%2C+CA&format=json&limit=1\n",
      "ERROR:root:HTTPSConnectionPool(host='nominatim.openstreetmap.org', port=443): Max retries exceeded with url: /search?q=SOUTH+COUNTY+UNIT%2C+SANTA+CLARA+COUNTY%2C+CA&format=json&limit=1 (Caused by ReadTimeoutError(\"HTTPSConnectionPool(host='nominatim.openstreetmap.org', port=443): Read timed out. (read timeout=1)\"))\n"
     ]
    },
    {
     "name": "stdout",
     "output_type": "stream",
     "text": [
      "NR: 52 \n",
      "53 2500, Mount Pleasant Road, Santa Clara County, California, 95148, United States: Mount Pleasant Road, 95148\n",
      "\n",
      "54 Purissima Road, Los Altos Hills, Santa Clara County, California, 94022, United States: Los Altos Hills, 94022\n",
      "\n",
      "55 14600, Weeth Drive, Cambrian Park, San Jose, Santa Clara County, California, 95124, United States: San Jose, 95124\n"
     ]
    },
    {
     "name": "stderr",
     "output_type": "stream",
     "text": [
      "WARNING:urllib3.connectionpool:Retrying (Retry(total=1, connect=None, read=None, redirect=None, status=None)) after connection broken by 'ReadTimeoutError(\"HTTPSConnectionPool(host='nominatim.openstreetmap.org', port=443): Read timed out. (read timeout=1)\")': /search?q=17800++SERENE+DR%2C+SANTA+CLARA+COUNTY%2C+CA&format=json&limit=1\n"
     ]
    },
    {
     "name": "stdout",
     "output_type": "stream",
     "text": [
      "\n",
      "56 17800, Serene Drive, Morgan Hill, Santa Clara County, California, 95037, United States: Morgan Hill, 95037\n"
     ]
    },
    {
     "name": "stderr",
     "output_type": "stream",
     "text": [
      "WARNING:urllib3.connectionpool:Retrying (Retry(total=1, connect=None, read=None, redirect=None, status=None)) after connection broken by 'ReadTimeoutError(\"HTTPSConnectionPool(host='nominatim.openstreetmap.org', port=443): Read timed out. (read timeout=1)\")': /search?q=1++MOUNTAIN+VIEW+AV%2C+SANTA+CLARA+COUNTY%2C+CA&format=json&limit=1\n"
     ]
    },
    {
     "name": "stdout",
     "output_type": "stream",
     "text": [
      "\n",
      "57 1, Mountain View Avenue, Los Altos, Santa Clara County, CAL Fire Northern Region, California, 94024, United States: Los Altos, 94024\n",
      "\n",
      "58 3400, Old Monterey Road, Corporal, Santa Clara County, CAL Fire Northern Region, California, 95020, United States: Corporal, 95020\n"
     ]
    },
    {
     "name": "stderr",
     "output_type": "stream",
     "text": [
      "WARNING:urllib3.connectionpool:Retrying (Retry(total=1, connect=None, read=None, redirect=None, status=None)) after connection broken by 'ReadTimeoutError(\"HTTPSConnectionPool(host='nominatim.openstreetmap.org', port=443): Read timed out. (read timeout=1)\")': /search?q=1+++W+HEDDING+ST%2C+SANTA+CLARA+COUNTY%2C+CA&format=json&limit=1\n"
     ]
    },
    {
     "name": "stdout",
     "output_type": "stream",
     "text": [
      "\n",
      "59 1, West Hedding Street, Civic Center, Japantown, San Jose, Santa Clara County, CAL Fire Northern Region, California, 95110, United States: San Jose, 95110\n",
      "\n",
      "60 10600, Baxter Avenue, Creston, Los Altos, Santa Clara County, California, 94024, United States: Los Altos, 94024\n"
     ]
    },
    {
     "name": "stderr",
     "output_type": "stream",
     "text": [
      "WARNING:urllib3.connectionpool:Retrying (Retry(total=1, connect=None, read=None, redirect=None, status=None)) after connection broken by 'ReadTimeoutError(\"HTTPSConnectionPool(host='nominatim.openstreetmap.org', port=443): Read timed out. (read timeout=1)\")': /search?q=1+++S+WINCHESTER+BLVD%2C+SANTA+CLARA+COUNTY%2C+CA&format=json&limit=1\n",
      "WARNING:urllib3.connectionpool:Retrying (Retry(total=0, connect=None, read=None, redirect=None, status=None)) after connection broken by 'ReadTimeoutError(\"HTTPSConnectionPool(host='nominatim.openstreetmap.org', port=443): Read timed out. (read timeout=1)\")': /search?q=1+++S+WINCHESTER+BLVD%2C+SANTA+CLARA+COUNTY%2C+CA&format=json&limit=1\n"
     ]
    },
    {
     "name": "stdout",
     "output_type": "stream",
     "text": [
      "\n",
      "61 Winchester Boulevard, San Jose, Santa Clara County, California, 95128, United States: San Jose, 95128\n",
      "\n",
      "62 20300, Almaden Road, San Jose, Santa Clara County, California, 95120, United States: San Jose, 95120\n"
     ]
    },
    {
     "name": "stderr",
     "output_type": "stream",
     "text": [
      "WARNING:urllib3.connectionpool:Retrying (Retry(total=1, connect=None, read=None, redirect=None, status=None)) after connection broken by 'ReadTimeoutError(\"HTTPSConnectionPool(host='nominatim.openstreetmap.org', port=443): Read timed out. (read timeout=1)\")': /search?q=100+++PROSPECT+RD%2C+SANTA+CLARA+COUNTY%2C+CA&format=json&limit=1\n"
     ]
    },
    {
     "name": "stdout",
     "output_type": "stream",
     "text": [
      "\n",
      "63 Prospect Road, San Jose, Santa Clara County, California, 95070, United States: San Jose, 95070\n",
      "\n",
      "64 South De Anza Boulevard, San Jose, Santa Clara County, CAL Fire Northern Region, California, 95014, United States: San Jose, 95014\n",
      "\n",
      "65 Paseo Presada, Saratoga, Santa Clara County, California, 95070, United States: Saratoga, 95070\n"
     ]
    },
    {
     "name": "stderr",
     "output_type": "stream",
     "text": [
      "WARNING:urllib3.connectionpool:Retrying (Retry(total=1, connect=None, read=None, redirect=None, status=None)) after connection broken by 'ReadTimeoutError(\"HTTPSConnectionPool(host='nominatim.openstreetmap.org', port=443): Read timed out. (read timeout=1)\")': /search?q=1+++W+HEDDING+ST%2C+SANTA+CLARA+COUNTY%2C+CA&format=json&limit=1\n"
     ]
    },
    {
     "name": "stdout",
     "output_type": "stream",
     "text": [
      "\n",
      "66 1, West Hedding Street, Civic Center, Japantown, San Jose, Santa Clara County, CAL Fire Northern Region, California, 95110, United States: San Jose, 95110\n"
     ]
    },
    {
     "name": "stderr",
     "output_type": "stream",
     "text": [
      "WARNING:urllib3.connectionpool:Retrying (Retry(total=1, connect=None, read=None, redirect=None, status=None)) after connection broken by 'ReadTimeoutError(\"HTTPSConnectionPool(host='nominatim.openstreetmap.org', port=443): Read timed out. (read timeout=1)\")': /search?q=1+++THOMPSON+ST%2C+SANTA+CLARA+COUNTY%2C+CA&format=json&limit=1\n",
      "WARNING:urllib3.connectionpool:Retrying (Retry(total=0, connect=None, read=None, redirect=None, status=None)) after connection broken by 'ReadTimeoutError(\"HTTPSConnectionPool(host='nominatim.openstreetmap.org', port=443): Read timed out. (read timeout=1)\")': /search?q=1+++THOMPSON+ST%2C+SANTA+CLARA+COUNTY%2C+CA&format=json&limit=1\n"
     ]
    },
    {
     "name": "stdout",
     "output_type": "stream",
     "text": [
      "\n",
      "67 Thompson Street, Milpitas, Santa Clara County, California, 95035, United States: Milpitas, 95035\n",
      "\n",
      "68 13200, Peacock Court, Santa Clara County, California, 95014, United States: Peacock Court, 95014\n",
      "\n",
      "69 14500, Lauredo Way, San Martin, Santa Clara County, California, 95046, United States: San Martin, 95046\n",
      "\n",
      "70 Center Avenue, San Martin, Santa Clara County, California, 95046, United States: San Martin, 95046\n",
      "\n",
      "71 18300, Purdue Drive, Saratoga, Santa Clara County, California, 95070, United States: Saratoga, 95070\n",
      "\n",
      "72 20400, Pacifica Drive, Cupertino, Santa Clara County, California, 95014, United States: Cupertino, 95014\n"
     ]
    },
    {
     "name": "stderr",
     "output_type": "stream",
     "text": [
      "WARNING:urllib3.connectionpool:Retrying (Retry(total=1, connect=None, read=None, redirect=None, status=None)) after connection broken by 'ReadTimeoutError(\"HTTPSConnectionPool(host='nominatim.openstreetmap.org', port=443): Read timed out. (read timeout=1)\")': /search?q=100++W+MISSION+ST%2C+SANTA+CLARA+COUNTY%2C+CA&format=json&limit=1\n"
     ]
    },
    {
     "name": "stdout",
     "output_type": "stream",
     "text": [
      "\n",
      "73 100, West Mission Street, Civic Center, Japantown, San Jose, Santa Clara County, California, 95110, United States: San Jose, 95110\n",
      "\n",
      "74 North 2nd Street, Hensley Historic District, Japantown, San Jose, Santa Clara County, CAL Fire Northern Region, California, 95110, United States: San Jose, 95110\n",
      "\n",
      "75 200, Live Oak Avenue, San Jose, Santa Clara County, California, 95037, United States: San Jose, 95037\n"
     ]
    },
    {
     "name": "stderr",
     "output_type": "stream",
     "text": [
      "WARNING:urllib3.connectionpool:Retrying (Retry(total=1, connect=None, read=None, redirect=None, status=None)) after connection broken by 'ReadTimeoutError(\"HTTPSConnectionPool(host='nominatim.openstreetmap.org', port=443): Read timed out. (read timeout=1)\")': /search?q=1+++S+BASCOM+AV%2C+SANTA+CLARA+COUNTY%2C+CA&format=json&limit=1\n"
     ]
    },
    {
     "name": "stdout",
     "output_type": "stream",
     "text": [
      "\n",
      "76 South Bascom Avenue, Rose Garden, San Jose, Santa Clara County, California, 95128, United States: San Jose, 95128\n",
      "\n",
      "77 11400, Clayton Road, San Jose, Santa Clara County, California, 95127, United States: San Jose, 95127\n",
      "\n",
      "78 11400, Clayton Road, San Jose, Santa Clara County, California, 95127, United States: San Jose, 95127\n",
      "\n",
      "79 19200, Citrus Lane, Saratoga, Santa Clara County, California, 95070, United States: Saratoga, 95070\n",
      "\n",
      "80 Stirrup Way, Los Altos Hills, Santa Clara County, California, 94304, United States: Los Altos Hills, 94304\n"
     ]
    },
    {
     "name": "stderr",
     "output_type": "stream",
     "text": [
      "WARNING:urllib3.connectionpool:Retrying (Retry(total=1, connect=None, read=None, redirect=None, status=None)) after connection broken by 'ReadTimeoutError(\"HTTPSConnectionPool(host='nominatim.openstreetmap.org', port=443): Read timed out. (read timeout=1)\")': /search?q=1+++W+HEDDING+ST%2C+SANTA+CLARA+COUNTY%2C+CA&format=json&limit=1\n"
     ]
    },
    {
     "name": "stdout",
     "output_type": "stream",
     "text": [
      "\n",
      "81 1, West Hedding Street, Civic Center, Japantown, San Jose, Santa Clara County, CAL Fire Northern Region, California, 95110, United States: San Jose, 95110\n",
      "\n",
      "82 25800, West Fremont Road, Los Altos Hills, Santa Clara County, California, 94022, United States: Los Altos Hills, 94022\n"
     ]
    },
    {
     "name": "stderr",
     "output_type": "stream",
     "text": [
      "WARNING:urllib3.connectionpool:Retrying (Retry(total=1, connect=None, read=None, redirect=None, status=None)) after connection broken by 'ReadTimeoutError(\"HTTPSConnectionPool(host='nominatim.openstreetmap.org', port=443): Read timed out. (read timeout=1)\")': /search?q=25800++W+FREMONT+RD%2C+SANTA+CLARA+COUNTY%2C+CA&format=json&limit=1\n"
     ]
    },
    {
     "name": "stdout",
     "output_type": "stream",
     "text": [
      "\n",
      "83 25800, West Fremont Road, Los Altos Hills, Santa Clara County, California, 94022, United States: Los Altos Hills, 94022\n",
      "\n",
      "84 Dunne Street, San Felipe, Santa Clara County, CAL Fire Northern Region, California, United States: San Felipe, California\n",
      "\n",
      "85 300, Serrano Avenue, Alum Rock, Santa Clara County, California, 95127, United States: Alum Rock, 95127\n",
      "\n",
      "86 20300, Herriman Avenue, Saratoga, Santa Clara County, California, 95070, United States: Saratoga, 95070\n"
     ]
    },
    {
     "name": "stderr",
     "output_type": "stream",
     "text": [
      "WARNING:urllib3.connectionpool:Retrying (Retry(total=1, connect=None, read=None, redirect=None, status=None)) after connection broken by 'ReadTimeoutError(\"HTTPSConnectionPool(host='nominatim.openstreetmap.org', port=443): Read timed out. (read timeout=1)\")': /search?q=1000++HOLMES+AV%2C+SANTA+CLARA+COUNTY%2C+CA&format=json&limit=1\n"
     ]
    },
    {
     "name": "stdout",
     "output_type": "stream",
     "text": [
      "\n",
      "87 1000, Holmes Avenue, Campbell, Santa Clara County, California, 95008, United States: Campbell, 95008\n"
     ]
    },
    {
     "name": "stderr",
     "output_type": "stream",
     "text": [
      "WARNING:urllib3.connectionpool:Retrying (Retry(total=1, connect=None, read=None, redirect=None, status=None)) after connection broken by 'ReadTimeoutError(\"HTTPSConnectionPool(host='nominatim.openstreetmap.org', port=443): Read timed out. (read timeout=1)\")': /search?q=200++SAN+BRUNO+AV%2C+SANTA+CLARA+COUNTY%2C+CA&format=json&limit=1\n"
     ]
    },
    {
     "name": "stdout",
     "output_type": "stream",
     "text": [
      "\n",
      "88 200, San Bruno Avenue, Santa Clara County, California, 95037, United States: San Bruno Avenue, 95037\n",
      "\n",
      "89 20300, Herriman Avenue, Saratoga, Santa Clara County, California, 95070, United States: Saratoga, 95070\n"
     ]
    },
    {
     "name": "stderr",
     "output_type": "stream",
     "text": [
      "WARNING:urllib3.connectionpool:Retrying (Retry(total=1, connect=None, read=None, redirect=None, status=None)) after connection broken by 'ReadTimeoutError(\"HTTPSConnectionPool(host='nominatim.openstreetmap.org', port=443): Read timed out. (read timeout=1)\")': /search?q=20700++STEVENS+CREEK+BLVD%2C+SANTA+CLARA+COUNTY%2C+CA&format=json&limit=1\n"
     ]
    },
    {
     "name": "stdout",
     "output_type": "stream",
     "text": [
      "\n",
      "90 20700, Stevens Creek Boulevard, The Crossroads, Cupertino, Santa Clara County, CAL Fire Northern Region, California, 95014, United States: Cupertino, 95014\n",
      "\n",
      "91 Bohlman Road, Saratoga, Santa Clara County, California, 95070, United States: Saratoga, 95070\n"
     ]
    },
    {
     "name": "stderr",
     "output_type": "stream",
     "text": [
      "WARNING:urllib3.connectionpool:Retrying (Retry(total=1, connect=None, read=None, redirect=None, status=None)) after connection broken by 'ReadTimeoutError(\"HTTPSConnectionPool(host='nominatim.openstreetmap.org', port=443): Read timed out. (read timeout=1)\")': /search?q=8700++NEW+AV%2C+SANTA+CLARA+COUNTY%2C+CA&format=json&limit=1\n"
     ]
    },
    {
     "name": "stdout",
     "output_type": "stream",
     "text": [
      "\n",
      "92 8700, New Avenue, Santa Clara County, California, 95020, United States: New Avenue, 95020\n"
     ]
    },
    {
     "name": "stderr",
     "output_type": "stream",
     "text": [
      "WARNING:urllib3.connectionpool:Retrying (Retry(total=1, connect=None, read=None, redirect=None, status=None)) after connection broken by 'ReadTimeoutError(\"HTTPSConnectionPool(host='nominatim.openstreetmap.org', port=443): Read timed out. (read timeout=1)\")': /search?q=25300++LOMA+PRIETA+AV%2C+SANTA+CLARA+COUNTY%2C+CA&format=json&limit=1\n"
     ]
    },
    {
     "name": "stdout",
     "output_type": "stream",
     "text": [
      "SCC not found: ['25300', 'Loma Prieta Avenue', 'Highland', 'Santa Cruz County', 'CAL Fire Northern Region', 'California', '95033', 'United States']\n",
      "\n",
      "94 19300, Vendura Court, Saratoga, Santa Clara County, California, 95070, United States: Saratoga, 95070\n"
     ]
    },
    {
     "name": "stderr",
     "output_type": "stream",
     "text": [
      "WARNING:urllib3.connectionpool:Retrying (Retry(total=1, connect=None, read=None, redirect=None, status=None)) after connection broken by 'ReadTimeoutError(\"HTTPSConnectionPool(host='nominatim.openstreetmap.org', port=443): Read timed out. (read timeout=1)\")': /search?q=100+++TORRE+AV%2C+SANTA+CLARA+COUNTY%2C+CA&format=json&limit=1\n"
     ]
    },
    {
     "name": "stdout",
     "output_type": "stream",
     "text": [
      "\n",
      "95 Torre Avenue, Cupertino, Santa Clara County, CAL Fire Northern Region, California, 95014, United States: Cupertino, 95014\n"
     ]
    },
    {
     "name": "stderr",
     "output_type": "stream",
     "text": [
      "WARNING:urllib3.connectionpool:Retrying (Retry(total=1, connect=None, read=None, redirect=None, status=None)) after connection broken by 'ReadTimeoutError(\"HTTPSConnectionPool(host='nominatim.openstreetmap.org', port=443): Read timed out. (read timeout=1)\")': /search?q=100+++TORRE+AV%2C+SANTA+CLARA+COUNTY%2C+CA&format=json&limit=1\n"
     ]
    },
    {
     "name": "stdout",
     "output_type": "stream",
     "text": [
      "\n",
      "96 Torre Avenue, Cupertino, Santa Clara County, CAL Fire Northern Region, California, 95014, United States: Cupertino, 95014\n",
      "\n",
      "97 600, Fleming Avenue, San Jose, Santa Clara County, California, 95127, United States: San Jose, 95127\n",
      "\n",
      "98 East Mission Street, Civic Center, Japantown, San Jose, Santa Clara County, California, 95112, United States: San Jose, 95112\n",
      "\n",
      "99 20200, Northbrook Square, Cupertino, Santa Clara County, California, 95014, United States: Cupertino, 95014\n",
      "\n",
      "100 20300, Via Palamos, Portofino, Cupertino, Santa Clara County, California, 95014, United States: Cupertino, 95014\n",
      "\n",
      "101 9400, Marcella Avenue, Santa Clara County, California, 95020, United States: Marcella Avenue, 95020\n"
     ]
    },
    {
     "name": "stderr",
     "output_type": "stream",
     "text": [
      "WARNING:urllib3.connectionpool:Retrying (Retry(total=1, connect=None, read=None, redirect=None, status=None)) after connection broken by 'ReadTimeoutError(\"HTTPSConnectionPool(host='nominatim.openstreetmap.org', port=443): Read timed out. (read timeout=1)\")': /search?q=BOHLMAN+RD%2C+SANTA+CLARA+COUNTY%2C+CA&format=json&limit=1\n"
     ]
    },
    {
     "name": "stdout",
     "output_type": "stream",
     "text": [
      "\n",
      "102 Bohlman Road, Saratoga, Santa Clara County, California, 95070, United States: Saratoga, 95070\n",
      "\n",
      "103 Yorkshire Drive, Seven Springs, Cupertino, Santa Clara County, California, 95014, United States: Cupertino, 95014\n",
      "\n",
      "104 20300, Herriman Avenue, Saratoga, Santa Clara County, California, 95070, United States: Saratoga, 95070\n",
      "\n",
      "105 12500, Zappettini Court, Los Altos Hills, Santa Clara County, California, 94022, United States: Los Altos Hills, 94022\n",
      "\n",
      "106 Murphy Avenue, Wayne, San Jose, Santa Clara County, California, 95131, United States: San Jose, 95131\n"
     ]
    },
    {
     "name": "stderr",
     "output_type": "stream",
     "text": [
      "WARNING:urllib3.connectionpool:Retrying (Retry(total=1, connect=None, read=None, redirect=None, status=None)) after connection broken by 'ReadTimeoutError(\"HTTPSConnectionPool(host='nominatim.openstreetmap.org', port=443): Read timed out. (read timeout=1)\")': /search?q=10400++SAN+FELIPE+RD%2C+SANTA+CLARA+COUNTY%2C+CA&format=json&limit=1\n"
     ]
    },
    {
     "name": "stdout",
     "output_type": "stream",
     "text": [
      "\n",
      "107 10400, San Felipe Road, Cupertino, Santa Clara County, California, 95014, United States: Cupertino, 95014\n"
     ]
    },
    {
     "name": "stderr",
     "output_type": "stream",
     "text": [
      "WARNING:urllib3.connectionpool:Retrying (Retry(total=1, connect=None, read=None, redirect=None, status=None)) after connection broken by 'ReadTimeoutError(\"HTTPSConnectionPool(host='nominatim.openstreetmap.org', port=443): Read timed out. (read timeout=1)\")': /search?q=1400++CLUB+VIEW+TR%2C+SANTA+CLARA+COUNTY%2C+CA&format=json&limit=1\n",
      "WARNING:urllib3.connectionpool:Retrying (Retry(total=0, connect=None, read=None, redirect=None, status=None)) after connection broken by 'ReadTimeoutError(\"HTTPSConnectionPool(host='nominatim.openstreetmap.org', port=443): Read timed out. (read timeout=1)\")': /search?q=1400++CLUB+VIEW+TR%2C+SANTA+CLARA+COUNTY%2C+CA&format=json&limit=1\n",
      "ERROR:root:HTTPSConnectionPool(host='nominatim.openstreetmap.org', port=443): Max retries exceeded with url: /search?q=1400++CLUB+VIEW+TR%2C+SANTA+CLARA+COUNTY%2C+CA&format=json&limit=1 (Caused by ReadTimeoutError(\"HTTPSConnectionPool(host='nominatim.openstreetmap.org', port=443): Read timed out. (read timeout=1)\"))\n"
     ]
    },
    {
     "name": "stdout",
     "output_type": "stream",
     "text": [
      "NR: 108 \n",
      "109 3100, South Bascom Avenue, San Jose, Santa Clara County, California, 95124, United States: San Jose, 95124\n",
      "\n",
      "110 500, Bolsa Road, Carnadero, Santa Clara County, CAL Fire Northern Region, California, 95020, United States: Carnadero, 95020\n",
      "\n",
      "111 10100, Lockwood Drive, Cupertino, Santa Clara County, California, 95014, United States: Cupertino, 95014\n",
      "\n",
      "112 22700, Medina Lane, Cupertino, Santa Clara County, California, 95014, United States: Cupertino, 95014\n"
     ]
    },
    {
     "name": "stderr",
     "output_type": "stream",
     "text": [
      "WARNING:urllib3.connectionpool:Retrying (Retry(total=1, connect=None, read=None, redirect=None, status=None)) after connection broken by 'ReadTimeoutError(\"HTTPSConnectionPool(host='nominatim.openstreetmap.org', port=443): Read timed out. (read timeout=1)\")': /search?q=1+++LA+AVENIDA%2C+SANTA+CLARA+COUNTY%2C+CA&format=json&limit=1\n",
      "WARNING:urllib3.connectionpool:Retrying (Retry(total=0, connect=None, read=None, redirect=None, status=None)) after connection broken by 'ReadTimeoutError(\"HTTPSConnectionPool(host='nominatim.openstreetmap.org', port=443): Read timed out. (read timeout=1)\")': /search?q=1+++LA+AVENIDA%2C+SANTA+CLARA+COUNTY%2C+CA&format=json&limit=1\n",
      "ERROR:root:HTTPSConnectionPool(host='nominatim.openstreetmap.org', port=443): Max retries exceeded with url: /search?q=1+++LA+AVENIDA%2C+SANTA+CLARA+COUNTY%2C+CA&format=json&limit=1 (Caused by ReadTimeoutError(\"HTTPSConnectionPool(host='nominatim.openstreetmap.org', port=443): Read timed out. (read timeout=1)\"))\n"
     ]
    },
    {
     "name": "stdout",
     "output_type": "stream",
     "text": [
      "NR: 113 \n",
      "114 10600, Santa Lucia Road, Cupertino, Santa Clara County, California, 95014-3975, United States: Cupertino, 95014-3975\n",
      "\n",
      "115 Subway, 1, Curtner Avenue, San Jose, Santa Clara County, CAL Fire Northern Region, California, 95125, United States: San Jose, 95125\n",
      "\n",
      "116 20900, Fargo Drive, Cupertino, Santa Clara County, California, 95014, United States: Cupertino, 95014\n"
     ]
    },
    {
     "name": "stderr",
     "output_type": "stream",
     "text": [
      "WARNING:urllib3.connectionpool:Retrying (Retry(total=1, connect=None, read=None, redirect=None, status=None)) after connection broken by 'ReadTimeoutError(\"HTTPSConnectionPool(host='nominatim.openstreetmap.org', port=443): Read timed out. (read timeout=1)\")': /search?q=11600++MURPHY+AV%2C+SANTA+CLARA+COUNTY%2C+CA&format=json&limit=1\n"
     ]
    },
    {
     "name": "stdout",
     "output_type": "stream",
     "text": [
      "\n",
      "117 11600, Murphy Avenue, San Martin, Santa Clara County, California, 95046, United States: San Martin, 95046\n"
     ]
    },
    {
     "name": "stderr",
     "output_type": "stream",
     "text": [
      "WARNING:urllib3.connectionpool:Retrying (Retry(total=1, connect=None, read=None, redirect=None, status=None)) after connection broken by 'ReadTimeoutError(\"HTTPSConnectionPool(host='nominatim.openstreetmap.org', port=443): Read timed out. (read timeout=1)\")': /search?q=N+1ST+ST%2C+SANTA+CLARA+COUNTY%2C+CA&format=json&limit=1\n"
     ]
    },
    {
     "name": "stdout",
     "output_type": "stream",
     "text": [
      "\n",
      "118 North 1st Street, North San Jose, San Jose, Santa Clara County, CAL Fire Northern Region, California, 95031, United States: San Jose, 95031\n",
      "\n",
      "119 11600, Murphy Avenue, San Martin, Santa Clara County, California, 95046, United States: San Martin, 95046\n"
     ]
    },
    {
     "name": "stderr",
     "output_type": "stream",
     "text": [
      "WARNING:urllib3.connectionpool:Retrying (Retry(total=1, connect=None, read=None, redirect=None, status=None)) after connection broken by 'ReadTimeoutError(\"HTTPSConnectionPool(host='nominatim.openstreetmap.org', port=443): Read timed out. (read timeout=1)\")': /search?q=W+EL+CAMINO+REAL%2C+SANTA+CLARA+COUNTY%2C+CA&format=json&limit=1\n"
     ]
    },
    {
     "name": "stdout",
     "output_type": "stream",
     "text": [
      "\n",
      "120 West El Camino Real, Mountain View, Santa Clara County, CAL Fire Northern Region, California, 94039, United States: Mountain View, 94039\n",
      "\n",
      "121 700, East Santa Clara Street, Naglee Park, Luna Park, San Jose, Santa Clara County, California, 95112, United States: San Jose, 95112\n",
      "\n",
      "122 10300, South Tantau Avenue, Rancho Rinconada, Cupertino, Santa Clara County, California, 95014, United States: Cupertino, 95014\n"
     ]
    },
    {
     "name": "stderr",
     "output_type": "stream",
     "text": [
      "WARNING:urllib3.connectionpool:Retrying (Retry(total=1, connect=None, read=None, redirect=None, status=None)) after connection broken by 'ReadTimeoutError(\"HTTPSConnectionPool(host='nominatim.openstreetmap.org', port=443): Read timed out. (read timeout=1)\")': /search?q=21900++SAN+FERNANDO+AV%2C+SANTA+CLARA+COUNTY%2C+CA&format=json&limit=1\n"
     ]
    },
    {
     "name": "stdout",
     "output_type": "stream",
     "text": [
      "\n",
      "123 21900, San Fernando Avenue, Monta Vista, Cupertino, Santa Clara County, California, 95014, United States: Cupertino, 95014\n",
      "\n",
      "124 21900, San Fernando Avenue, Monta Vista, Cupertino, Santa Clara County, California, 95014, United States: Cupertino, 95014\n"
     ]
    },
    {
     "name": "stderr",
     "output_type": "stream",
     "text": [
      "WARNING:urllib3.connectionpool:Retrying (Retry(total=1, connect=None, read=None, redirect=None, status=None)) after connection broken by 'ReadTimeoutError(\"HTTPSConnectionPool(host='nominatim.openstreetmap.org', port=443): Read timed out. (read timeout=1)\")': /search?q=200++N+CLAREMONT+AV%2C+SANTA+CLARA+COUNTY%2C+CA&format=json&limit=1\n"
     ]
    },
    {
     "name": "stdout",
     "output_type": "stream",
     "text": [
      "\n",
      "125 200, North Claremont Avenue, Alum Rock, San Jose, Santa Clara County, California, 95127, United States: San Jose, 95127\n"
     ]
    },
    {
     "name": "stderr",
     "output_type": "stream",
     "text": [
      "WARNING:urllib3.connectionpool:Retrying (Retry(total=1, connect=None, read=None, redirect=None, status=None)) after connection broken by 'ReadTimeoutError(\"HTTPSConnectionPool(host='nominatim.openstreetmap.org', port=443): Read timed out. (read timeout=1)\")': /search?q=14200++WILD+PLUM+LN%2C+SANTA+CLARA+COUNTY%2C+CA&format=json&limit=1\n"
     ]
    },
    {
     "name": "stdout",
     "output_type": "stream",
     "text": [
      "\n",
      "126 14200, Wild Plum Lane, Los Altos Hills, Santa Clara County, California, 94022, United States: Los Altos Hills, 94022\n"
     ]
    },
    {
     "name": "stderr",
     "output_type": "stream",
     "text": [
      "WARNING:urllib3.connectionpool:Retrying (Retry(total=1, connect=None, read=None, redirect=None, status=None)) after connection broken by 'ReadTimeoutError(\"HTTPSConnectionPool(host='nominatim.openstreetmap.org', port=443): Read timed out. (read timeout=1)\")': /search?q=1+++S+ABEL+ST%2C+SANTA+CLARA+COUNTY%2C+CA&format=json&limit=1\n"
     ]
    },
    {
     "name": "stdout",
     "output_type": "stream",
     "text": [
      "\n",
      "127 1, South Abel Street, Milpitas, Santa Clara County, CAL Fire Northern Region, California, 95035, United States: Milpitas, 95035\n",
      "\n",
      "128 10200, Lucky Court, Santa Clara County, California, 95020, United States: Lucky Court, 95020\n"
     ]
    },
    {
     "name": "stderr",
     "output_type": "stream",
     "text": [
      "WARNING:urllib3.connectionpool:Retrying (Retry(total=1, connect=None, read=None, redirect=None, status=None)) after connection broken by 'ReadTimeoutError(\"HTTPSConnectionPool(host='nominatim.openstreetmap.org', port=443): Read timed out. (read timeout=1)\")': /search?q=1900++DAY+RD%2C+SANTA+CLARA+COUNTY%2C+CA&format=json&limit=1\n"
     ]
    },
    {
     "name": "stdout",
     "output_type": "stream",
     "text": [
      "\n",
      "129 1900, Day Road, Gilroy, Santa Clara County, California, 95020, United States: Gilroy, 95020\n"
     ]
    },
    {
     "name": "stderr",
     "output_type": "stream",
     "text": [
      "WARNING:urllib3.connectionpool:Retrying (Retry(total=1, connect=None, read=None, redirect=None, status=None)) after connection broken by 'ReadTimeoutError(\"HTTPSConnectionPool(host='nominatim.openstreetmap.org', port=443): Read timed out. (read timeout=1)\")': /search?q=20900++HOMESTEAD+RD%2C+SANTA+CLARA+COUNTY%2C+CA&format=json&limit=1\n"
     ]
    },
    {
     "name": "stdout",
     "output_type": "stream",
     "text": [
      "\n",
      "130 20900, East Homestead Road, Cupertino, Santa Clara County, California, 95014, United States: Cupertino, 95014\n"
     ]
    },
    {
     "name": "stderr",
     "output_type": "stream",
     "text": [
      "WARNING:urllib3.connectionpool:Retrying (Retry(total=1, connect=None, read=None, redirect=None, status=None)) after connection broken by 'ReadTimeoutError(\"HTTPSConnectionPool(host='nominatim.openstreetmap.org', port=443): Read timed out. (read timeout=1)\")': /search?q=300++N+WHITE+RD%2C+SANTA+CLARA+COUNTY%2C+CA&format=json&limit=1\n",
      "WARNING:urllib3.connectionpool:Retrying (Retry(total=0, connect=None, read=None, redirect=None, status=None)) after connection broken by 'ReadTimeoutError(\"HTTPSConnectionPool(host='nominatim.openstreetmap.org', port=443): Read timed out. (read timeout=1)\")': /search?q=300++N+WHITE+RD%2C+SANTA+CLARA+COUNTY%2C+CA&format=json&limit=1\n"
     ]
    },
    {
     "name": "stdout",
     "output_type": "stream",
     "text": [
      "\n",
      "131 300, North White Road, Alum Rock, San Jose, Santa Clara County, CAL Fire Northern Region, California, 95127, United States: San Jose, 95127\n",
      "\n",
      "132 Coyote Road, San Jose, Santa Clara County, California, 95138, United States: San Jose, 95138\n",
      "\n",
      "133 19300, Bainter Avenue, Saratoga, Santa Clara County, California, 95030, United States: Saratoga, 95030\n",
      "\n",
      "134 19300, Bainter Avenue, Saratoga, Santa Clara County, California, 95030, United States: Saratoga, 95030\n",
      "\n",
      "135 19400, Sherrys Way, Santa Clara County, California, 95033, United States: Sherrys Way, 95033\n"
     ]
    },
    {
     "name": "stderr",
     "output_type": "stream",
     "text": [
      "WARNING:urllib3.connectionpool:Retrying (Retry(total=1, connect=None, read=None, redirect=None, status=None)) after connection broken by 'ReadTimeoutError(\"HTTPSConnectionPool(host='nominatim.openstreetmap.org', port=443): Read timed out. (read timeout=1)\")': /search?q=4000++PEPPER+TREE+LN%2C+SANTA+CLARA+COUNTY%2C+CA&format=json&limit=1\n"
     ]
    },
    {
     "name": "stdout",
     "output_type": "stream",
     "text": [
      "\n",
      "136 4000, Pepper Tree Lane, San Jose, Santa Clara County, California, 95127, United States: San Jose, 95127\n",
      "\n",
      "137 2700, Carol Drive, Communications Hill, San Jose, Santa Clara County, California, 95136, United States: San Jose, 95136\n",
      "\n",
      "138 10300, Mary Avenue, Monta Vista, Cupertino, Santa Clara County, California, 95014, United States: Cupertino, 95014\n"
     ]
    },
    {
     "name": "stderr",
     "output_type": "stream",
     "text": [
      "WARNING:urllib3.connectionpool:Retrying (Retry(total=1, connect=None, read=None, redirect=None, status=None)) after connection broken by 'ReadTimeoutError(\"HTTPSConnectionPool(host='nominatim.openstreetmap.org', port=443): Read timed out. (read timeout=1)\")': /search?q=N+WOLFE+RD%2C+SANTA+CLARA+COUNTY%2C+CA&format=json&limit=1\n"
     ]
    },
    {
     "name": "stdout",
     "output_type": "stream",
     "text": [
      "\n",
      "139 North Wolfe Road, Sunnyvale, Santa Clara County, California, 95086, United States: Sunnyvale, 95086\n",
      "\n",
      "140 Skyway Drive, San Jose, Santa Clara County, California, 95111, United States: San Jose, 95111\n",
      "\n",
      "141 Columbet Avenue, San Martin, Santa Clara County, California, 95046, United States: San Martin, 95046\n",
      "\n",
      "142 800, Enborg Court, Santa Clara County, CAL Fire Northern Region, California, 95128, United States: Enborg Court, 95128\n"
     ]
    },
    {
     "name": "stderr",
     "output_type": "stream",
     "text": [
      "WARNING:urllib3.connectionpool:Retrying (Retry(total=1, connect=None, read=None, redirect=None, status=None)) after connection broken by 'ReadTimeoutError(\"HTTPSConnectionPool(host='nominatim.openstreetmap.org', port=443): Read timed out. (read timeout=1)\")': /search?q=N+STELLING+RD%2C+SANTA+CLARA+COUNTY%2C+CA&format=json&limit=1\n",
      "WARNING:urllib3.connectionpool:Retrying (Retry(total=0, connect=None, read=None, redirect=None, status=None)) after connection broken by 'ReadTimeoutError(\"HTTPSConnectionPool(host='nominatim.openstreetmap.org', port=443): Read timed out. (read timeout=1)\")': /search?q=N+STELLING+RD%2C+SANTA+CLARA+COUNTY%2C+CA&format=json&limit=1\n"
     ]
    },
    {
     "name": "stdout",
     "output_type": "stream",
     "text": [
      "\n",
      "143 North Stelling Road, Cupertino, Santa Clara County, California, 95014, United States: Cupertino, 95014\n"
     ]
    },
    {
     "name": "stderr",
     "output_type": "stream",
     "text": [
      "WARNING:urllib3.connectionpool:Retrying (Retry(total=1, connect=None, read=None, redirect=None, status=None)) after connection broken by 'ReadTimeoutError(\"HTTPSConnectionPool(host='nominatim.openstreetmap.org', port=443): Read timed out. (read timeout=1)\")': /search?q=100+++MT+HAMILTON+RD%2C+SANTA+CLARA+COUNTY%2C+CA&format=json&limit=1\n"
     ]
    },
    {
     "name": "stdout",
     "output_type": "stream",
     "text": [
      "\n",
      "144 Mount Hamilton Road, Santa Clara County, California, 95137, United States: Mount Hamilton Road, 95137\n",
      "\n",
      "145 Apple City Center 1, 20300, Stevens Creek Boulevard, Cupertino, Santa Clara County, CAL Fire Northern Region, California, 95014, United States: Cupertino, 95014\n",
      "\n",
      "146 Roop Road, Santa Clara County, California, 95020, United States: Roop Road, 95020\n"
     ]
    },
    {
     "name": "stderr",
     "output_type": "stream",
     "text": [
      "WARNING:urllib3.connectionpool:Retrying (Retry(total=1, connect=None, read=None, redirect=None, status=None)) after connection broken by 'ReadTimeoutError(\"HTTPSConnectionPool(host='nominatim.openstreetmap.org', port=443): Read timed out. (read timeout=1)\")': /search?q=42000++SUMMIT+RD%2C+SANTA+CLARA+COUNTY%2C+CA&format=json&limit=1\n"
     ]
    },
    {
     "name": "stdout",
     "output_type": "stream",
     "text": [
      "\n",
      "147 42000, Summit Road, Santa Clara County, CAL Fire Northern Region, California, 95076, United States: Summit Road, 95076\n",
      "\n",
      "148 19300, Vendura Court, Saratoga, Santa Clara County, California, 95070, United States: Saratoga, 95070\n"
     ]
    },
    {
     "name": "stderr",
     "output_type": "stream",
     "text": [
      "WARNING:urllib3.connectionpool:Retrying (Retry(total=1, connect=None, read=None, redirect=None, status=None)) after connection broken by 'ReadTimeoutError(\"HTTPSConnectionPool(host='nominatim.openstreetmap.org', port=443): Read timed out. (read timeout=1)\")': /search?q=TOLLGATE+RD%2C+SANTA+CLARA+COUNTY%2C+CA&format=json&limit=1\n",
      "WARNING:urllib3.connectionpool:Retrying (Retry(total=0, connect=None, read=None, redirect=None, status=None)) after connection broken by 'ReadTimeoutError(\"HTTPSConnectionPool(host='nominatim.openstreetmap.org', port=443): Read timed out. (read timeout=1)\")': /search?q=TOLLGATE+RD%2C+SANTA+CLARA+COUNTY%2C+CA&format=json&limit=1\n",
      "ERROR:root:HTTPSConnectionPool(host='nominatim.openstreetmap.org', port=443): Max retries exceeded with url: /search?q=TOLLGATE+RD%2C+SANTA+CLARA+COUNTY%2C+CA&format=json&limit=1 (Caused by ReadTimeoutError(\"HTTPSConnectionPool(host='nominatim.openstreetmap.org', port=443): Read timed out. (read timeout=1)\"))\n"
     ]
    },
    {
     "name": "stdout",
     "output_type": "stream",
     "text": [
      "NR: 149 "
     ]
    },
    {
     "name": "stderr",
     "output_type": "stream",
     "text": [
      "WARNING:urllib3.connectionpool:Retrying (Retry(total=1, connect=None, read=None, redirect=None, status=None)) after connection broken by 'ReadTimeoutError(\"HTTPSConnectionPool(host='nominatim.openstreetmap.org', port=443): Read timed out. (read timeout=1)\")': /search?q=1++ST%2C+SANTA+CLARA+COUNTY%2C+CA&format=json&limit=1\n",
      "WARNING:urllib3.connectionpool:Retrying (Retry(total=0, connect=None, read=None, redirect=None, status=None)) after connection broken by 'ReadTimeoutError(\"HTTPSConnectionPool(host='nominatim.openstreetmap.org', port=443): Read timed out. (read timeout=1)\")': /search?q=1++ST%2C+SANTA+CLARA+COUNTY%2C+CA&format=json&limit=1\n",
      "ERROR:root:HTTPSConnectionPool(host='nominatim.openstreetmap.org', port=443): Max retries exceeded with url: /search?q=1++ST%2C+SANTA+CLARA+COUNTY%2C+CA&format=json&limit=1 (Caused by ReadTimeoutError(\"HTTPSConnectionPool(host='nominatim.openstreetmap.org', port=443): Read timed out. (read timeout=1)\"))\n"
     ]
    },
    {
     "name": "stdout",
     "output_type": "stream",
     "text": [
      "NR: 150 \n",
      "151 Saratoga Avenue, Saratoga, Santa Clara County, California, 95070, United States: Saratoga, 95070\n"
     ]
    },
    {
     "name": "stderr",
     "output_type": "stream",
     "text": [
      "WARNING:urllib3.connectionpool:Retrying (Retry(total=1, connect=None, read=None, redirect=None, status=None)) after connection broken by 'ReadTimeoutError(\"HTTPSConnectionPool(host='nominatim.openstreetmap.org', port=443): Read timed out. (read timeout=1)\")': /search?q=100+++UNIVERSITY+AV%2C+SANTA+CLARA+COUNTY%2C+CA&format=json&limit=1\n"
     ]
    },
    {
     "name": "stdout",
     "output_type": "stream",
     "text": [
      "\n",
      "152 100, University Avenue, Palo Alto, Santa Clara County, California, 94301, United States: Palo Alto, 94301\n"
     ]
    },
    {
     "name": "stderr",
     "output_type": "stream",
     "text": [
      "WARNING:urllib3.connectionpool:Retrying (Retry(total=1, connect=None, read=None, redirect=None, status=None)) after connection broken by 'ReadTimeoutError(\"HTTPSConnectionPool(host='nominatim.openstreetmap.org', port=443): Read timed out. (read timeout=1)\")': /search?q=1+++W+HEDDING+ST%2C+SANTA+CLARA+COUNTY%2C+CA&format=json&limit=1\n"
     ]
    },
    {
     "name": "stdout",
     "output_type": "stream",
     "text": [
      "\n",
      "153 1, West Hedding Street, Civic Center, Japantown, San Jose, Santa Clara County, CAL Fire Northern Region, California, 95110, United States: San Jose, 95110\n",
      "\n",
      "154 Mount Umunhum Road, Peckham Ranch, Santa Clara County, CAL Fire Northern Region, California, 95120, United States: Peckham Ranch, 95120\n",
      "\n",
      "155 Vancouver Court, Alum Rock, Santa Clara County, California, 95127, United States: Alum Rock, 95127\n"
     ]
    },
    {
     "name": "stderr",
     "output_type": "stream",
     "text": [
      "WARNING:urllib3.connectionpool:Retrying (Retry(total=1, connect=None, read=None, redirect=None, status=None)) after connection broken by 'ReadTimeoutError(\"HTTPSConnectionPool(host='nominatim.openstreetmap.org', port=443): Read timed out. (read timeout=1)\")': /search?q=18700++MC+FARLAND+AV%2C+SANTA+CLARA+COUNTY%2C+CA&format=json&limit=1\n"
     ]
    },
    {
     "name": "stdout",
     "output_type": "stream",
     "text": [
      "NR: 156 \n",
      "157 Chester Avenue, Saratoga, Santa Clara County, California, 95070, United States: Saratoga, 95070\n",
      "\n",
      "158 12800, Uvas Road, Santa Clara County, California, 95037, United States: Uvas Road, 95037\n",
      "\n",
      "159 1, Eastridge Loop, Eastridge Center, San Jose, Santa Clara County, California, 95122, United States: San Jose, 95122\n"
     ]
    },
    {
     "name": "stderr",
     "output_type": "stream",
     "text": [
      "WARNING:urllib3.connectionpool:Retrying (Retry(total=1, connect=None, read=None, redirect=None, status=None)) after connection broken by 'ReadTimeoutError(\"HTTPSConnectionPool(host='nominatim.openstreetmap.org', port=443): Read timed out. (read timeout=1)\")': /search?q=EL+MONTE+RD%2C+SANTA+CLARA+COUNTY%2C+CA&format=json&limit=1\n"
     ]
    },
    {
     "name": "stdout",
     "output_type": "stream",
     "text": [
      "\n",
      "160 El Monte Road, Los Altos, Santa Clara County, California, 94022, United States: Los Altos, 94022\n"
     ]
    },
    {
     "name": "stderr",
     "output_type": "stream",
     "text": [
      "WARNING:urllib3.connectionpool:Retrying (Retry(total=1, connect=None, read=None, redirect=None, status=None)) after connection broken by 'ReadTimeoutError(\"HTTPSConnectionPool(host='nominatim.openstreetmap.org', port=443): Read timed out. (read timeout=1)\")': /search?q=1+++W+HEDDING+ST%2C+SANTA+CLARA+COUNTY%2C+CA&format=json&limit=1\n",
      "WARNING:urllib3.connectionpool:Retrying (Retry(total=0, connect=None, read=None, redirect=None, status=None)) after connection broken by 'ReadTimeoutError(\"HTTPSConnectionPool(host='nominatim.openstreetmap.org', port=443): Read timed out. (read timeout=1)\")': /search?q=1+++W+HEDDING+ST%2C+SANTA+CLARA+COUNTY%2C+CA&format=json&limit=1\n"
     ]
    },
    {
     "name": "stdout",
     "output_type": "stream",
     "text": [
      "\n",
      "161 1, West Hedding Street, Civic Center, Japantown, San Jose, Santa Clara County, CAL Fire Northern Region, California, 95110, United States: San Jose, 95110\n",
      "\n",
      "162 12800, Columbet Avenue, San Martin, Santa Clara County, California, 95046, United States: San Martin, 95046\n"
     ]
    },
    {
     "name": "stderr",
     "output_type": "stream",
     "text": [
      "WARNING:urllib3.connectionpool:Retrying (Retry(total=1, connect=None, read=None, redirect=None, status=None)) after connection broken by 'ReadTimeoutError(\"HTTPSConnectionPool(host='nominatim.openstreetmap.org', port=443): Read timed out. (read timeout=1)\")': /search?q=3600++MC+KEE+RD%2C+SANTA+CLARA+COUNTY%2C+CA&format=json&limit=1\n"
     ]
    },
    {
     "name": "stdout",
     "output_type": "stream",
     "text": [
      "NR: 163 "
     ]
    },
    {
     "name": "stderr",
     "output_type": "stream",
     "text": [
      "WARNING:urllib3.connectionpool:Retrying (Retry(total=1, connect=None, read=None, redirect=None, status=None)) after connection broken by 'ReadTimeoutError(\"HTTPSConnectionPool(host='nominatim.openstreetmap.org', port=443): Read timed out. (read timeout=1)\")': /search?q=1+++W+CAPITOL+EXPY%2C+SANTA+CLARA+COUNTY%2C+CA&format=json&limit=1\n"
     ]
    },
    {
     "name": "stdout",
     "output_type": "stream",
     "text": [
      "\n",
      "164 West Capitol Expressway, San Jose, Santa Clara County, CAL Fire Northern Region, California, 95136, United States: San Jose, 95136\n",
      "\n",
      "165 1, Eastridge Loop, Eastridge Center, San Jose, Santa Clara County, California, 95122, United States: San Jose, 95122\n"
     ]
    },
    {
     "name": "stderr",
     "output_type": "stream",
     "text": [
      "WARNING:urllib3.connectionpool:Retrying (Retry(total=1, connect=None, read=None, redirect=None, status=None)) after connection broken by 'ReadTimeoutError(\"HTTPSConnectionPool(host='nominatim.openstreetmap.org', port=443): Read timed out. (read timeout=1)\")': /search?q=24000++STEVENS+CREEK+BLVD%2C+SANTA+CLARA+COUNTY%2C+CA&format=json&limit=1\n"
     ]
    },
    {
     "name": "stdout",
     "output_type": "stream",
     "text": [
      "\n",
      "166 24000, Stevens Creek Boulevard, Cupertino, Santa Clara County, California, 95014, United States: Cupertino, 95014\n",
      "\n",
      "167 1800, Rucker Avenue, Santa Clara County, California, 95020, United States: Rucker Avenue, 95020\n",
      "\n",
      "168 Stevens Creek Boulevard, Cupertino, Santa Clara County, CAL Fire Northern Region, California, 95014, United States: Cupertino, 95014\n"
     ]
    },
    {
     "name": "stderr",
     "output_type": "stream",
     "text": [
      "WARNING:urllib3.connectionpool:Retrying (Retry(total=1, connect=None, read=None, redirect=None, status=None)) after connection broken by 'ReadTimeoutError(\"HTTPSConnectionPool(host='nominatim.openstreetmap.org', port=443): Read timed out. (read timeout=1)\")': /search?q=1+++N+1ST+ST%2C+SANTA+CLARA+COUNTY%2C+CA&format=json&limit=1\n",
      "WARNING:urllib3.connectionpool:Retrying (Retry(total=0, connect=None, read=None, redirect=None, status=None)) after connection broken by 'ReadTimeoutError(\"HTTPSConnectionPool(host='nominatim.openstreetmap.org', port=443): Read timed out. (read timeout=1)\")': /search?q=1+++N+1ST+ST%2C+SANTA+CLARA+COUNTY%2C+CA&format=json&limit=1\n",
      "ERROR:root:HTTPSConnectionPool(host='nominatim.openstreetmap.org', port=443): Max retries exceeded with url: /search?q=1+++N+1ST+ST%2C+SANTA+CLARA+COUNTY%2C+CA&format=json&limit=1 (Caused by ReadTimeoutError(\"HTTPSConnectionPool(host='nominatim.openstreetmap.org', port=443): Read timed out. (read timeout=1)\"))\n"
     ]
    },
    {
     "name": "stdout",
     "output_type": "stream",
     "text": [
      "NR: 169 \n",
      "170 North 1st Street, North San Jose, San Jose, Santa Clara County, CAL Fire Northern Region, California, 95031, United States: San Jose, 95031\n",
      "\n",
      "171 Stevens Creek Boulevard, Cupertino, Santa Clara County, CAL Fire Northern Region, California, 95014, United States: Cupertino, 95014\n"
     ]
    },
    {
     "name": "stderr",
     "output_type": "stream",
     "text": [
      "WARNING:urllib3.connectionpool:Retrying (Retry(total=1, connect=None, read=None, redirect=None, status=None)) after connection broken by 'ReadTimeoutError(\"HTTPSConnectionPool(host='nominatim.openstreetmap.org', port=443): Read timed out. (read timeout=1)\")': /search?q=1+++W+HEDDING+ST%2C+SANTA+CLARA+COUNTY%2C+CA&format=json&limit=1\n"
     ]
    },
    {
     "name": "stdout",
     "output_type": "stream",
     "text": [
      "\n",
      "172 1, West Hedding Street, Civic Center, Japantown, San Jose, Santa Clara County, CAL Fire Northern Region, California, 95110, United States: San Jose, 95110\n",
      "\n",
      "173 12400, Brookglen Drive, Saratoga, Santa Clara County, California, 95070, United States: Saratoga, 95070\n"
     ]
    },
    {
     "name": "stderr",
     "output_type": "stream",
     "text": [
      "WARNING:urllib3.connectionpool:Retrying (Retry(total=1, connect=None, read=None, redirect=None, status=None)) after connection broken by 'ReadTimeoutError(\"HTTPSConnectionPool(host='nominatim.openstreetmap.org', port=443): Read timed out. (read timeout=1)\")': /search?q=3600++MC+KEE+RD%2C+SANTA+CLARA+COUNTY%2C+CA&format=json&limit=1\n"
     ]
    },
    {
     "name": "stdout",
     "output_type": "stream",
     "text": [
      "NR: 174 NR: 175 NR: 176 \n",
      "177 Parkmoor Avenue, Buena Vista, San Jose, Santa Clara County, CAL Fire Northern Region, California, 95126, United States: San Jose, 95126\n",
      "\n",
      "178 Monterey Road, San Jose, Santa Clara County, CAL Fire Northern Region, California, 95111, United States: San Jose, 95111\n"
     ]
    },
    {
     "name": "stderr",
     "output_type": "stream",
     "text": [
      "WARNING:urllib3.connectionpool:Retrying (Retry(total=1, connect=None, read=None, redirect=None, status=None)) after connection broken by 'ReadTimeoutError(\"HTTPSConnectionPool(host='nominatim.openstreetmap.org', port=443): Read timed out. (read timeout=1)\")': /search?q=SKYVIEW+TR%2C+SANTA+CLARA+COUNTY%2C+CA&format=json&limit=1\n",
      "WARNING:urllib3.connectionpool:Retrying (Retry(total=0, connect=None, read=None, redirect=None, status=None)) after connection broken by 'ReadTimeoutError(\"HTTPSConnectionPool(host='nominatim.openstreetmap.org', port=443): Read timed out. (read timeout=1)\")': /search?q=SKYVIEW+TR%2C+SANTA+CLARA+COUNTY%2C+CA&format=json&limit=1\n"
     ]
    },
    {
     "name": "stdout",
     "output_type": "stream",
     "text": [
      "NR: 179 \n",
      "180 20400, Via Volante, Portofino, Cupertino, Santa Clara County, California, 95014, United States: Cupertino, 95014\n",
      "\n",
      "181 20400, Via Volante, Portofino, Cupertino, Santa Clara County, California, 95014, United States: Cupertino, 95014\n"
     ]
    },
    {
     "name": "stderr",
     "output_type": "stream",
     "text": [
      "WARNING:urllib3.connectionpool:Retrying (Retry(total=1, connect=None, read=None, redirect=None, status=None)) after connection broken by 'ReadTimeoutError(\"HTTPSConnectionPool(host='nominatim.openstreetmap.org', port=443): Read timed out. (read timeout=1)\")': /search?q=SHADYGROVE+CT%2C+SANTA+CLARA+COUNTY%2C+CA&format=json&limit=1\n"
     ]
    },
    {
     "name": "stdout",
     "output_type": "stream",
     "text": [
      "\n",
      "182 Shadygrove Court, Rancho Rinconada, Cupertino, Santa Clara County, California, 95014, United States: Cupertino, 95014\n",
      "\n",
      "183 14700, Montalvo Road, Saratoga, Santa Clara County, California, 95070, United States: Saratoga, 95070\n"
     ]
    },
    {
     "name": "stderr",
     "output_type": "stream",
     "text": [
      "WARNING:urllib3.connectionpool:Retrying (Retry(total=1, connect=None, read=None, redirect=None, status=None)) after connection broken by 'ReadTimeoutError(\"HTTPSConnectionPool(host='nominatim.openstreetmap.org', port=443): Read timed out. (read timeout=1)\")': /search?q=15300++SKYVIEW+DR%2C+SANTA+CLARA+COUNTY%2C+CA&format=json&limit=1\n"
     ]
    },
    {
     "name": "stdout",
     "output_type": "stream",
     "text": [
      "\n",
      "184 15300, Skyview Drive, San Jose, Santa Clara County, California, 95132, United States: San Jose, 95132\n",
      "\n",
      "185 25800, West Fremont Road, Los Altos Hills, Santa Clara County, California, 94022, United States: Los Altos Hills, 94022\n",
      "\n",
      "186 2700, Carol Drive, Communications Hill, San Jose, Santa Clara County, California, 95136, United States: San Jose, 95136\n",
      "\n",
      "187 Cupertino High School, 10100, Finch Avenue, Cupertino, Santa Clara County, California, 95014, United States: Cupertino, 95014\n",
      "\n",
      "188 5000, Santa Teresa Boulevard, Santa Clara County, California, 95020, United States: Santa Teresa Boulevard, 95020\n"
     ]
    },
    {
     "name": "stderr",
     "output_type": "stream",
     "text": [
      "WARNING:urllib3.connectionpool:Retrying (Retry(total=1, connect=None, read=None, redirect=None, status=None)) after connection broken by 'ReadTimeoutError(\"HTTPSConnectionPool(host='nominatim.openstreetmap.org', port=443): Read timed out. (read timeout=1)\")': /search?q=PROSPECT+RD%2C+SANTA+CLARA+COUNTY%2C+CA&format=json&limit=1\n"
     ]
    },
    {
     "name": "stdout",
     "output_type": "stream",
     "text": [
      "\n",
      "189 Prospect Road, San Jose, Santa Clara County, California, 95070, United States: San Jose, 95070\n",
      "\n",
      "190 1500, Arbor Avenue, Loyola, Santa Clara County, California, 94024, United States: Loyola, 94024\n",
      "\n",
      "191 Oakland Road, Luna Park, San Jose, Santa Clara County, CAL Fire Northern Region, California, 95131, United States: San Jose, 95131\n"
     ]
    },
    {
     "name": "stderr",
     "output_type": "stream",
     "text": [
      "WARNING:urllib3.connectionpool:Retrying (Retry(total=1, connect=None, read=None, redirect=None, status=None)) after connection broken by 'ReadTimeoutError(\"HTTPSConnectionPool(host='nominatim.openstreetmap.org', port=443): Read timed out. (read timeout=1)\")': /search?q=N+1ST+ST%2C+SANTA+CLARA+COUNTY%2C+CA&format=json&limit=1\n"
     ]
    },
    {
     "name": "stdout",
     "output_type": "stream",
     "text": [
      "\n",
      "192 North 1st Street, North San Jose, San Jose, Santa Clara County, CAL Fire Northern Region, California, 95031, United States: San Jose, 95031\n",
      "\n",
      "193 26900, Elena Road, Los Altos Hills, Santa Clara County, California, 94022, United States: Los Altos Hills, 94022\n",
      "\n",
      "194 700, Lodgewood Court, Woodside of Almaden, San Jose, Santa Clara County, California, 95120, United States: San Jose, 95120\n"
     ]
    },
    {
     "name": "stderr",
     "output_type": "stream",
     "text": [
      "WARNING:urllib3.connectionpool:Retrying (Retry(total=1, connect=None, read=None, redirect=None, status=None)) after connection broken by 'ReadTimeoutError(\"HTTPSConnectionPool(host='nominatim.openstreetmap.org', port=443): Read timed out. (read timeout=1)\")': /search?q=200++SAN+BRUNO+AV%2C+SANTA+CLARA+COUNTY%2C+CA&format=json&limit=1\n"
     ]
    },
    {
     "name": "stdout",
     "output_type": "stream",
     "text": [
      "\n",
      "195 200, San Bruno Avenue, Santa Clara County, California, 95037, United States: San Bruno Avenue, 95037\n",
      "\n",
      "196 13500, Burke Road, Los Altos Hills, Santa Clara County, California, 94022, United States: Los Altos Hills, 94022\n"
     ]
    },
    {
     "name": "stderr",
     "output_type": "stream",
     "text": [
      "WARNING:urllib3.connectionpool:Retrying (Retry(total=1, connect=None, read=None, redirect=None, status=None)) after connection broken by 'ReadTimeoutError(\"HTTPSConnectionPool(host='nominatim.openstreetmap.org', port=443): Read timed out. (read timeout=1)\")': /search?q=20700++PROSPECT+RD%2C+SANTA+CLARA+COUNTY%2C+CA&format=json&limit=1\n"
     ]
    },
    {
     "name": "stdout",
     "output_type": "stream",
     "text": [
      "\n",
      "197 20700, Prospect Road, Seven Springs, Cupertino, Santa Clara County, California, 95070, United States: Cupertino, 95070\n",
      "\n",
      "198 Monterey Road, San Jose, Santa Clara County, CAL Fire Northern Region, California, 95111, United States: San Jose, 95111\n",
      "\n",
      "199 North Capitol Avenue, San Jose, Santa Clara County, CAL Fire Northern Region, California, 95131, United States: San Jose, 95131\n",
      "\n",
      "200 2400, North 1st Street, North San Jose, San Jose, Santa Clara County, CAL Fire Northern Region, California, 95131, United States: San Jose, 95131\n",
      "\n",
      "201 24200, Hillview Road, Los Altos Hills, Santa Clara County, California, 94024, United States: Los Altos Hills, 94024\n"
     ]
    },
    {
     "name": "stderr",
     "output_type": "stream",
     "text": [
      "WARNING:urllib3.connectionpool:Retrying (Retry(total=1, connect=None, read=None, redirect=None, status=None)) after connection broken by 'ReadTimeoutError(\"HTTPSConnectionPool(host='nominatim.openstreetmap.org', port=443): Read timed out. (read timeout=1)\")': /search?q=1000++OLD+QUARRY+RD%2C+SANTA+CLARA+COUNTY%2C+CA&format=json&limit=1\n"
     ]
    },
    {
     "name": "stdout",
     "output_type": "stream",
     "text": [
      "\n",
      "202 Wedgewood Weddings, 1000, Old Quarry Road, Almaden Valley, San Jose, Santa Clara County, California, 95123, United States: San Jose, 95123\n"
     ]
    },
    {
     "name": "stderr",
     "output_type": "stream",
     "text": [
      "WARNING:urllib3.connectionpool:Retrying (Retry(total=1, connect=None, read=None, redirect=None, status=None)) after connection broken by 'ReadTimeoutError(\"HTTPSConnectionPool(host='nominatim.openstreetmap.org', port=443): Read timed out. (read timeout=1)\")': /search?q=20600++HOMESTEAD+RD%2C+SANTA+CLARA+COUNTY%2C+CA&format=json&limit=1\n"
     ]
    },
    {
     "name": "stdout",
     "output_type": "stream",
     "text": [
      "\n",
      "203 20600, East Homestead Road, Cupertino, Santa Clara County, California, 95014, United States: Cupertino, 95014\n",
      "\n",
      "204 Cottle Road, San Jose, Santa Clara County, CAL Fire Northern Region, California, 95119, United States: San Jose, 95119\n"
     ]
    },
    {
     "name": "stderr",
     "output_type": "stream",
     "text": [
      "WARNING:urllib3.connectionpool:Retrying (Retry(total=1, connect=None, read=None, redirect=None, status=None)) after connection broken by 'ReadTimeoutError(\"HTTPSConnectionPool(host='nominatim.openstreetmap.org', port=443): Read timed out. (read timeout=1)\")': /search?q=1+++W+HEDDING+ST%2C+SANTA+CLARA+COUNTY%2C+CA&format=json&limit=1\n"
     ]
    },
    {
     "name": "stdout",
     "output_type": "stream",
     "text": [
      "\n",
      "205 1, West Hedding Street, Civic Center, Japantown, San Jose, Santa Clara County, CAL Fire Northern Region, California, 95110, United States: San Jose, 95110\n",
      "\n",
      "206 Cupertino Library, 10800, Torre Avenue, Cupertino, Santa Clara County, California, 95014, United States: Cupertino, 95014\n"
     ]
    },
    {
     "name": "stderr",
     "output_type": "stream",
     "text": [
      "WARNING:urllib3.connectionpool:Retrying (Retry(total=1, connect=None, read=None, redirect=None, status=None)) after connection broken by 'ReadTimeoutError(\"HTTPSConnectionPool(host='nominatim.openstreetmap.org', port=443): Read timed out. (read timeout=1)\")': /search?q=10800++TORRE+AV%2C+SANTA+CLARA+COUNTY%2C+CA&format=json&limit=1\n"
     ]
    },
    {
     "name": "stdout",
     "output_type": "stream",
     "text": [
      "\n",
      "207 Cupertino Library, 10800, Torre Avenue, Cupertino, Santa Clara County, California, 95014, United States: Cupertino, 95014\n"
     ]
    },
    {
     "name": "stderr",
     "output_type": "stream",
     "text": [
      "WARNING:urllib3.connectionpool:Retrying (Retry(total=1, connect=None, read=None, redirect=None, status=None)) after connection broken by 'ReadTimeoutError(\"HTTPSConnectionPool(host='nominatim.openstreetmap.org', port=443): Read timed out. (read timeout=1)\")': /search?q=20600++HOMESTEAD+RD%2C+SANTA+CLARA+COUNTY%2C+CA&format=json&limit=1\n"
     ]
    },
    {
     "name": "stdout",
     "output_type": "stream",
     "text": [
      "\n",
      "208 20600, East Homestead Road, Cupertino, Santa Clara County, California, 95014, United States: Cupertino, 95014\n",
      "\n",
      "209 600, Curtner Avenue, San Jose, Santa Clara County, CAL Fire Northern Region, California, 95124, United States: San Jose, 95124\n"
     ]
    },
    {
     "name": "stderr",
     "output_type": "stream",
     "text": [
      "WARNING:urllib3.connectionpool:Retrying (Retry(total=1, connect=None, read=None, redirect=None, status=None)) after connection broken by 'ReadTimeoutError(\"HTTPSConnectionPool(host='nominatim.openstreetmap.org', port=443): Read timed out. (read timeout=1)\")': /search?q=20300++HERRIMAN+AV%2C+SANTA+CLARA+COUNTY%2C+CA&format=json&limit=1\n"
     ]
    },
    {
     "name": "stdout",
     "output_type": "stream",
     "text": [
      "\n",
      "210 20300, Herriman Avenue, Saratoga, Santa Clara County, California, 95070, United States: Saratoga, 95070\n"
     ]
    },
    {
     "name": "stderr",
     "output_type": "stream",
     "text": [
      "WARNING:urllib3.connectionpool:Retrying (Retry(total=1, connect=None, read=None, redirect=None, status=None)) after connection broken by 'ReadTimeoutError(\"HTTPSConnectionPool(host='nominatim.openstreetmap.org', port=443): Read timed out. (read timeout=1)\")': /search?q=N+MORRISON+AV%2C+SANTA+CLARA+COUNTY%2C+CA&format=json&limit=1\n"
     ]
    },
    {
     "name": "stdout",
     "output_type": "stream",
     "text": [
      "\n",
      "211 North Morrison Avenue, College Park, Buena Vista, San Jose, Santa Clara County, CAL Fire Northern Region, California, 95126, United States: San Jose, 95126\n"
     ]
    },
    {
     "name": "stderr",
     "output_type": "stream",
     "text": [
      "WARNING:urllib3.connectionpool:Retrying (Retry(total=1, connect=None, read=None, redirect=None, status=None)) after connection broken by 'ReadTimeoutError(\"HTTPSConnectionPool(host='nominatim.openstreetmap.org', port=443): Read timed out. (read timeout=1)\")': /search?q=11800++MONTEREY+HWY%2C+SANTA+CLARA+COUNTY%2C+CA&format=json&limit=1\n"
     ]
    },
    {
     "name": "stdout",
     "output_type": "stream",
     "text": [
      "\n",
      "212 11800, Monterey Road, San Martin, Santa Clara County, California, 95020, United States: San Martin, 95020\n",
      "\n",
      "213 10100, Beardon Drive, Cupertino, Santa Clara County, California, 95014, United States: Cupertino, 95014\n"
     ]
    },
    {
     "name": "stderr",
     "output_type": "stream",
     "text": [
      "WARNING:urllib3.connectionpool:Retrying (Retry(total=1, connect=None, read=None, redirect=None, status=None)) after connection broken by 'ReadTimeoutError(\"HTTPSConnectionPool(host='nominatim.openstreetmap.org', port=443): Read timed out. (read timeout=1)\")': /search?q=1+++S+ABEL+ST%2C+SANTA+CLARA+COUNTY%2C+CA&format=json&limit=1\n"
     ]
    },
    {
     "name": "stdout",
     "output_type": "stream",
     "text": [
      "\n",
      "214 1, South Abel Street, Milpitas, Santa Clara County, CAL Fire Northern Region, California, 95035, United States: Milpitas, 95035\n",
      "\n",
      "215 200, Delia Street, Alum Rock, San Jose, Santa Clara County, California, 95127, United States: San Jose, 95127\n"
     ]
    },
    {
     "name": "stderr",
     "output_type": "stream",
     "text": [
      "WARNING:urllib3.connectionpool:Retrying (Retry(total=1, connect=None, read=None, redirect=None, status=None)) after connection broken by 'ReadTimeoutError(\"HTTPSConnectionPool(host='nominatim.openstreetmap.org', port=443): Read timed out. (read timeout=1)\")': /search?q=1+++S+WINCHESTER+BLVD%2C+SANTA+CLARA+COUNTY%2C+CA&format=json&limit=1\n",
      "WARNING:urllib3.connectionpool:Retrying (Retry(total=0, connect=None, read=None, redirect=None, status=None)) after connection broken by 'ReadTimeoutError(\"HTTPSConnectionPool(host='nominatim.openstreetmap.org', port=443): Read timed out. (read timeout=1)\")': /search?q=1+++S+WINCHESTER+BLVD%2C+SANTA+CLARA+COUNTY%2C+CA&format=json&limit=1\n",
      "ERROR:root:HTTPSConnectionPool(host='nominatim.openstreetmap.org', port=443): Max retries exceeded with url: /search?q=1+++S+WINCHESTER+BLVD%2C+SANTA+CLARA+COUNTY%2C+CA&format=json&limit=1 (Caused by ReadTimeoutError(\"HTTPSConnectionPool(host='nominatim.openstreetmap.org', port=443): Read timed out. (read timeout=1)\"))\n"
     ]
    },
    {
     "name": "stdout",
     "output_type": "stream",
     "text": [
      "NR: 216 \n",
      "217 Cupertino High School, 10100, Finch Avenue, Cupertino, Santa Clara County, California, 95014, United States: Cupertino, 95014\n",
      "\n",
      "218 2200, Central Park Drive, Campbell, Santa Clara County, California, 95008, United States: Campbell, 95008\n",
      "\n",
      "219 22700, Medina Lane, Cupertino, Santa Clara County, California, 95014, United States: Cupertino, 95014\n"
     ]
    },
    {
     "name": "stderr",
     "output_type": "stream",
     "text": [
      "WARNING:urllib3.connectionpool:Retrying (Retry(total=1, connect=None, read=None, redirect=None, status=None)) after connection broken by 'ReadTimeoutError(\"HTTPSConnectionPool(host='nominatim.openstreetmap.org', port=443): Read timed out. (read timeout=1)\")': /search?q=19100++EAGLE+VIEW+DR%2C+SANTA+CLARA+COUNTY%2C+CA&format=json&limit=1\n"
     ]
    },
    {
     "name": "stdout",
     "output_type": "stream",
     "text": [
      "\n",
      "220 19100, Eagle View Drive, Coyote Estates, Morgan Hill, Santa Clara County, California, 95037, United States: Morgan Hill, 95037\n"
     ]
    },
    {
     "name": "stderr",
     "output_type": "stream",
     "text": [
      "WARNING:urllib3.connectionpool:Retrying (Retry(total=1, connect=None, read=None, redirect=None, status=None)) after connection broken by 'ReadTimeoutError(\"HTTPSConnectionPool(host='nominatim.openstreetmap.org', port=443): Read timed out. (read timeout=1)\")': /search?q=200+++HICKS+RD%2C+SANTA+CLARA+COUNTY%2C+CA&format=json&limit=1\n"
     ]
    },
    {
     "name": "stdout",
     "output_type": "stream",
     "text": [
      "\n",
      "221 Hicks Road, San Jose, Santa Clara County, California, 95120, United States: San Jose, 95120\n",
      "\n",
      "222 18600, Aspesi Drive, Saratoga, Santa Clara County, California, 95070, United States: Saratoga, 95070\n"
     ]
    },
    {
     "name": "stderr",
     "output_type": "stream",
     "text": [
      "WARNING:urllib3.connectionpool:Retrying (Retry(total=1, connect=None, read=None, redirect=None, status=None)) after connection broken by 'ReadTimeoutError(\"HTTPSConnectionPool(host='nominatim.openstreetmap.org', port=443): Read timed out. (read timeout=1)\")': /search?q=19100++EAGLE+VIEW+DR%2C+SANTA+CLARA+COUNTY%2C+CA&format=json&limit=1\n"
     ]
    },
    {
     "name": "stdout",
     "output_type": "stream",
     "text": [
      "\n",
      "223 19100, Eagle View Drive, Coyote Estates, Morgan Hill, Santa Clara County, California, 95037, United States: Morgan Hill, 95037\n",
      "\n",
      "224 24200, Hillview Road, Los Altos Hills, Santa Clara County, California, 94024, United States: Los Altos Hills, 94024\n",
      "\n",
      "225 19900, Wellington Court, Saratoga, Santa Clara County, California, 95070, United States: Saratoga, 95070\n"
     ]
    },
    {
     "name": "stderr",
     "output_type": "stream",
     "text": [
      "WARNING:urllib3.connectionpool:Retrying (Retry(total=1, connect=None, read=None, redirect=None, status=None)) after connection broken by 'ReadTimeoutError(\"HTTPSConnectionPool(host='nominatim.openstreetmap.org', port=443): Read timed out. (read timeout=1)\")': /search?q=1+++S+MILPITAS+BLVD%2C+SANTA+CLARA+COUNTY%2C+CA&format=json&limit=1\n"
     ]
    },
    {
     "name": "stdout",
     "output_type": "stream",
     "text": [
      "\n",
      "226 1, South Milpitas Boulevard, Milpitas, Santa Clara County, California, 95035, United States: Milpitas, 95035\n",
      "\n",
      "227 Marcella Avenue, Santa Clara County, California, 95020, United States: Marcella Avenue, 95020\n"
     ]
    },
    {
     "name": "stderr",
     "output_type": "stream",
     "text": [
      "WARNING:urllib3.connectionpool:Retrying (Retry(total=1, connect=None, read=None, redirect=None, status=None)) after connection broken by 'ReadTimeoutError(\"HTTPSConnectionPool(host='nominatim.openstreetmap.org', port=443): Read timed out. (read timeout=1)\")': /search?q=13500++SURREY+LN%2C+SANTA+CLARA+COUNTY%2C+CA&format=json&limit=1\n"
     ]
    },
    {
     "name": "stdout",
     "output_type": "stream",
     "text": [
      "\n",
      "228 13500, Surrey Lane, Saratoga, Santa Clara County, California, 95070, United States: Saratoga, 95070\n",
      "\n",
      "229 Stevens Creek Boulevard, Cupertino, Santa Clara County, CAL Fire Northern Region, California, 95014, United States: Cupertino, 95014\n",
      "\n",
      "230 West Calaveras Boulevard, Milpitas, Santa Clara County, California, 95035, United States: Milpitas, 95035\n",
      "\n",
      "231 1, Olmsted Road, Escondido Village, Stanford, Santa Clara County, California, 94305, United States: Stanford, 94305\n"
     ]
    },
    {
     "name": "stderr",
     "output_type": "stream",
     "text": [
      "WARNING:urllib3.connectionpool:Retrying (Retry(total=1, connect=None, read=None, redirect=None, status=None)) after connection broken by 'ReadTimeoutError(\"HTTPSConnectionPool(host='nominatim.openstreetmap.org', port=443): Read timed out. (read timeout=1)\")': /search?q=20700++STEVENS+CREEK+BLVD%2C+SANTA+CLARA+COUNTY%2C+CA&format=json&limit=1\n"
     ]
    },
    {
     "name": "stdout",
     "output_type": "stream",
     "text": [
      "\n",
      "232 20700, Stevens Creek Boulevard, The Crossroads, Cupertino, Santa Clara County, CAL Fire Northern Region, California, 95014, United States: Cupertino, 95014\n",
      "NR: 233 "
     ]
    },
    {
     "name": "stderr",
     "output_type": "stream",
     "text": [
      "WARNING:urllib3.connectionpool:Retrying (Retry(total=1, connect=None, read=None, redirect=None, status=None)) after connection broken by 'ReadTimeoutError(\"HTTPSConnectionPool(host='nominatim.openstreetmap.org', port=443): Read timed out. (read timeout=1)\")': /search?q=ROSE+AV%2C+SANTA+CLARA+COUNTY%2C+CA&format=json&limit=1\n"
     ]
    },
    {
     "name": "stdout",
     "output_type": "stream",
     "text": [
      "\n",
      "234 Rose Avenue, Alum Rock, San Jose, Santa Clara County, California, 95127, United States: San Jose, 95127\n",
      "\n",
      "235 Rogers Avenue, North San Jose, San Jose, Santa Clara County, California, 95031, United States: San Jose, 95031\n",
      "\n",
      "236 14100, Teerlink Way, Saratoga, Santa Clara County, California, 95070, United States: Saratoga, 95070\n"
     ]
    },
    {
     "name": "stderr",
     "output_type": "stream",
     "text": [
      "WARNING:urllib3.connectionpool:Retrying (Retry(total=1, connect=None, read=None, redirect=None, status=None)) after connection broken by 'ReadTimeoutError(\"HTTPSConnectionPool(host='nominatim.openstreetmap.org', port=443): Read timed out. (read timeout=1)\")': /search?q=1+++N+2ND+ST%2C+SANTA+CLARA+COUNTY%2C+CA&format=json&limit=1\n"
     ]
    },
    {
     "name": "stdout",
     "output_type": "stream",
     "text": [
      "NR: 237 \n",
      "238 19500, Pruneridge Avenue, Cupertino, Santa Clara County, California, 95014, United States: Cupertino, 95014\n",
      "\n",
      "239 De Rose Way, Gardner, Willow Glen, San Jose, Santa Clara County, California, 95128, United States: San Jose, 95128\n"
     ]
    },
    {
     "name": "stderr",
     "output_type": "stream",
     "text": [
      "WARNING:urllib3.connectionpool:Retrying (Retry(total=1, connect=None, read=None, redirect=None, status=None)) after connection broken by 'ReadTimeoutError(\"HTTPSConnectionPool(host='nominatim.openstreetmap.org', port=443): Read timed out. (read timeout=1)\")': /search?q=100++CARDINAL+LN%2C+SANTA+CLARA+COUNTY%2C+CA&format=json&limit=1\n"
     ]
    },
    {
     "name": "stdout",
     "output_type": "stream",
     "text": [
      "\n",
      "240 100, Cardinal Lane, Shannon, Los Gatos, Santa Clara County, California, 95032, United States: Los Gatos, 95032\n",
      "\n",
      "241 Kalana Avenue, San Jose, Santa Clara County, California, 95037, United States: San Jose, 95037\n"
     ]
    },
    {
     "name": "stderr",
     "output_type": "stream",
     "text": [
      "WARNING:urllib3.connectionpool:Retrying (Retry(total=1, connect=None, read=None, redirect=None, status=None)) after connection broken by 'ReadTimeoutError(\"HTTPSConnectionPool(host='nominatim.openstreetmap.org', port=443): Read timed out. (read timeout=1)\")': /search?q=10500++JOHNSON+AV%2C+SANTA+CLARA+COUNTY%2C+CA&format=json&limit=1\n"
     ]
    },
    {
     "name": "stdout",
     "output_type": "stream",
     "text": [
      "\n",
      "242 10500, Johnson Avenue, Rancho Rinconada, Cupertino, Santa Clara County, California, 95014, United States: Cupertino, 95014\n"
     ]
    },
    {
     "name": "stderr",
     "output_type": "stream",
     "text": [
      "WARNING:urllib3.connectionpool:Retrying (Retry(total=1, connect=None, read=None, redirect=None, status=None)) after connection broken by 'ReadTimeoutError(\"HTTPSConnectionPool(host='nominatim.openstreetmap.org', port=443): Read timed out. (read timeout=1)\")': /search?q=1+++YORKSHIRE+DR%2C+SANTA+CLARA+COUNTY%2C+CA&format=json&limit=1\n"
     ]
    },
    {
     "name": "stdout",
     "output_type": "stream",
     "text": [
      "\n",
      "243 Yorkshire Drive, Seven Springs, Cupertino, Santa Clara County, California, 95014, United States: Cupertino, 95014\n"
     ]
    },
    {
     "name": "stderr",
     "output_type": "stream",
     "text": [
      "WARNING:urllib3.connectionpool:Retrying (Retry(total=1, connect=None, read=None, redirect=None, status=None)) after connection broken by 'ReadTimeoutError(\"HTTPSConnectionPool(host='nominatim.openstreetmap.org', port=443): Read timed out. (read timeout=1)\")': /search?q=1++%2C+SANTA+CLARA+COUNTY%2C+CA&format=json&limit=1\n",
      "WARNING:urllib3.connectionpool:Retrying (Retry(total=0, connect=None, read=None, redirect=None, status=None)) after connection broken by 'ReadTimeoutError(\"HTTPSConnectionPool(host='nominatim.openstreetmap.org', port=443): Read timed out. (read timeout=1)\")': /search?q=1++%2C+SANTA+CLARA+COUNTY%2C+CA&format=json&limit=1\n"
     ]
    },
    {
     "name": "stdout",
     "output_type": "stream",
     "text": [
      "\n",
      "244 1, Alviso, San Jose, Santa Clara County, California, United States: San Jose, California\n",
      "\n",
      "245 17200, Holiday Drive, Morgan Hill, Santa Clara County, California, 95037, United States: Morgan Hill, 95037\n",
      "\n",
      "246 3400, Dominick Way, Alum Rock, San Jose, Santa Clara County, California, 95127, United States: San Jose, 95127\n"
     ]
    },
    {
     "name": "stderr",
     "output_type": "stream",
     "text": [
      "WARNING:urllib3.connectionpool:Retrying (Retry(total=1, connect=None, read=None, redirect=None, status=None)) after connection broken by 'ReadTimeoutError(\"HTTPSConnectionPool(host='nominatim.openstreetmap.org', port=443): Read timed out. (read timeout=1)\")': /search?q=21000++MICHAELS+DR%2C+SANTA+CLARA+COUNTY%2C+CA&format=json&limit=1\n"
     ]
    },
    {
     "name": "stdout",
     "output_type": "stream",
     "text": [
      "\n",
      "247 21000, Michaels Drive, Saratoga, Santa Clara County, California, 95070, United States: Saratoga, 95070\n",
      "\n",
      "248 20100, Kilbride Drive, Saratoga, Santa Clara County, California, 95070, United States: Saratoga, 95070\n",
      "\n",
      "249 Gerth Lane, Los Altos Hills, Santa Clara County, California, 94304, United States: Los Altos Hills, 94304\n"
     ]
    },
    {
     "name": "stderr",
     "output_type": "stream",
     "text": [
      "WARNING:urllib3.connectionpool:Retrying (Retry(total=1, connect=None, read=None, redirect=None, status=None)) after connection broken by 'ReadTimeoutError(\"HTTPSConnectionPool(host='nominatim.openstreetmap.org', port=443): Read timed out. (read timeout=1)\")': /search?q=22700++MC+KEAN+RD%2C+SANTA+CLARA+COUNTY%2C+CA&format=json&limit=1\n"
     ]
    },
    {
     "name": "stdout",
     "output_type": "stream",
     "text": [
      "NR: 250 \n",
      "251 Porter Lane, San Jose, Santa Clara County, California, 95127, United States: San Jose, 95127\n"
     ]
    },
    {
     "name": "stderr",
     "output_type": "stream",
     "text": [
      "WARNING:urllib3.connectionpool:Retrying (Retry(total=1, connect=None, read=None, redirect=None, status=None)) after connection broken by 'ReadTimeoutError(\"HTTPSConnectionPool(host='nominatim.openstreetmap.org', port=443): Read timed out. (read timeout=1)\")': /search?q=14600++BIG+BASIN+WAY%2C+SANTA+CLARA+COUNTY%2C+CA&format=json&limit=1\n"
     ]
    },
    {
     "name": "stdout",
     "output_type": "stream",
     "text": [
      "\n",
      "252 14600, Big Basin Way, Saratoga, Santa Clara County, California, 95070, United States: Saratoga, 95070\n",
      "\n",
      "253 Phar Lap Drive, Monta Vista, Cupertino, Santa Clara County, California, 94087, United States: Cupertino, 94087\n",
      "\n",
      "254 14000, Buckner Drive, Alum Rock, Santa Clara County, California, 95127, United States: Alum Rock, 95127\n"
     ]
    },
    {
     "name": "stderr",
     "output_type": "stream",
     "text": [
      "WARNING:urllib3.connectionpool:Retrying (Retry(total=1, connect=None, read=None, redirect=None, status=None)) after connection broken by 'ReadTimeoutError(\"HTTPSConnectionPool(host='nominatim.openstreetmap.org', port=443): Read timed out. (read timeout=1)\")': /search?q=42000++SUMMIT+RD%2C+SANTA+CLARA+COUNTY%2C+CA&format=json&limit=1\n"
     ]
    },
    {
     "name": "stdout",
     "output_type": "stream",
     "text": [
      "\n",
      "255 42000, Summit Road, Santa Clara County, CAL Fire Northern Region, California, 95076, United States: Summit Road, 95076\n",
      "\n",
      "256 1, Cochrane Road, Madrone, Morgan Hill, Santa Clara County, California, 95037, United States: Morgan Hill, 95037\n",
      "\n",
      "257 14600, Big Basin Way, Saratoga, Santa Clara County, California, 95070, United States: Saratoga, 95070\n"
     ]
    },
    {
     "name": "stderr",
     "output_type": "stream",
     "text": [
      "WARNING:urllib3.connectionpool:Retrying (Retry(total=1, connect=None, read=None, redirect=None, status=None)) after connection broken by 'ReadTimeoutError(\"HTTPSConnectionPool(host='nominatim.openstreetmap.org', port=443): Read timed out. (read timeout=1)\")': /search?q=200+++ALMADEN+RD%2C+SANTA+CLARA+COUNTY%2C+CA&format=json&limit=1\n"
     ]
    },
    {
     "name": "stdout",
     "output_type": "stream",
     "text": [
      "\n",
      "258 Almaden Road, Willow Glen, San Jose, Santa Clara County, CAL Fire Northern Region, California, 95125, United States: San Jose, 95125\n",
      "\n",
      "259 Miramonte Avenue, Mountain View, Santa Clara County, CAL Fire Northern Region, California, 94040, United States: Mountain View, 94040\n",
      "\n",
      "260 Hicks Road, San Jose, Santa Clara County, California, 95120, United States: San Jose, 95120\n"
     ]
    },
    {
     "name": "stderr",
     "output_type": "stream",
     "text": [
      "WARNING:urllib3.connectionpool:Retrying (Retry(total=1, connect=None, read=None, redirect=None, status=None)) after connection broken by 'ReadTimeoutError(\"HTTPSConnectionPool(host='nominatim.openstreetmap.org', port=443): Read timed out. (read timeout=1)\")': /search?q=5700++FRAZIER+LAKE+RD%2C+SANTA+CLARA+COUNTY%2C+CA&format=json&limit=1\n"
     ]
    },
    {
     "name": "stdout",
     "output_type": "stream",
     "text": [
      "\n",
      "261 5700, Frazier Lake Road, Old Gilroy, Santa Clara County, California, 95020, United States: Old Gilroy, 95020\n",
      "\n",
      "262 14500, Via de Marcos, Saratoga, Santa Clara County, California, 95070, United States: Saratoga, 95070\n"
     ]
    },
    {
     "name": "stderr",
     "output_type": "stream",
     "text": [
      "WARNING:urllib3.connectionpool:Retrying (Retry(total=1, connect=None, read=None, redirect=None, status=None)) after connection broken by 'ReadTimeoutError(\"HTTPSConnectionPool(host='nominatim.openstreetmap.org', port=443): Read timed out. (read timeout=1)\")': /search?q=100+++UNIVERSITY+AV%2C+SANTA+CLARA+COUNTY%2C+CA&format=json&limit=1\n"
     ]
    },
    {
     "name": "stdout",
     "output_type": "stream",
     "text": [
      "\n",
      "263 100, University Avenue, Palo Alto, Santa Clara County, California, 94301, United States: Palo Alto, 94301\n",
      "\n",
      "264 6500, Croy Road, Silver Oaks Ranch, Sveadal, Santa Clara County, CAL Fire Northern Region, California, 95037, United States: Sveadal, 95037\n",
      "\n",
      "265 300, Serrano Avenue, Alum Rock, Santa Clara County, California, 95127, United States: Alum Rock, 95127\n"
     ]
    },
    {
     "name": "stderr",
     "output_type": "stream",
     "text": [
      "WARNING:urllib3.connectionpool:Retrying (Retry(total=1, connect=None, read=None, redirect=None, status=None)) after connection broken by 'ReadTimeoutError(\"HTTPSConnectionPool(host='nominatim.openstreetmap.org', port=443): Read timed out. (read timeout=1)\")': /search?q=100+++N+WOLFE+RD%2C+SANTA+CLARA+COUNTY%2C+CA&format=json&limit=1\n"
     ]
    },
    {
     "name": "stdout",
     "output_type": "stream",
     "text": [
      "\n",
      "266 100, North Wolfe Road, Sunnyvale, Santa Clara County, California, 94086, United States: Sunnyvale, 94086\n",
      "\n",
      "267 18700, Bucknall Road, Saratoga, Santa Clara County, California, 95070, United States: Saratoga, 95070\n"
     ]
    },
    {
     "name": "stderr",
     "output_type": "stream",
     "text": [
      "WARNING:urllib3.connectionpool:Retrying (Retry(total=1, connect=None, read=None, redirect=None, status=None)) after connection broken by 'ReadTimeoutError(\"HTTPSConnectionPool(host='nominatim.openstreetmap.org', port=443): Read timed out. (read timeout=1)\")': /search?q=14600++VIA+DE+MARCOS%2C+SANTA+CLARA+COUNTY%2C+CA&format=json&limit=1\n"
     ]
    },
    {
     "name": "stdout",
     "output_type": "stream",
     "text": [
      "\n",
      "268 14600, Via de Marcos, Saratoga, Santa Clara County, California, 95070, United States: Saratoga, 95070\n"
     ]
    },
    {
     "name": "stderr",
     "output_type": "stream",
     "text": [
      "WARNING:urllib3.connectionpool:Retrying (Retry(total=1, connect=None, read=None, redirect=None, status=None)) after connection broken by 'ReadTimeoutError(\"HTTPSConnectionPool(host='nominatim.openstreetmap.org', port=443): Read timed out. (read timeout=1)\")': /search?q=1+++W+HEDDING+ST%2C+SANTA+CLARA+COUNTY%2C+CA&format=json&limit=1\n"
     ]
    },
    {
     "name": "stdout",
     "output_type": "stream",
     "text": [
      "\n",
      "269 1, West Hedding Street, Civic Center, Japantown, San Jose, Santa Clara County, CAL Fire Northern Region, California, 95110, United States: San Jose, 95110\n",
      "\n",
      "270 Cupertino High School, 10100, Finch Avenue, Cupertino, Santa Clara County, California, 95014, United States: Cupertino, 95014\n",
      "\n",
      "271 19300, Vendura Court, Saratoga, Santa Clara County, California, 95070, United States: Saratoga, 95070\n",
      "\n",
      "272 O'Keefe Lane, Los Altos Hills, Santa Clara County, California, 94022, United States: Los Altos Hills, 94022\n"
     ]
    },
    {
     "name": "stderr",
     "output_type": "stream",
     "text": [
      "WARNING:urllib3.connectionpool:Retrying (Retry(total=1, connect=None, read=None, redirect=None, status=None)) after connection broken by 'ReadTimeoutError(\"HTTPSConnectionPool(host='nominatim.openstreetmap.org', port=443): Read timed out. (read timeout=1)\")': /search?q=1+++W+HEDDING+ST%2C+SANTA+CLARA+COUNTY%2C+CA&format=json&limit=1\n"
     ]
    },
    {
     "name": "stdout",
     "output_type": "stream",
     "text": [
      "\n",
      "273 1, West Hedding Street, Civic Center, Japantown, San Jose, Santa Clara County, CAL Fire Northern Region, California, 95110, United States: San Jose, 95110\n",
      "\n",
      "274 Enborg Lane, Buena Vista, Santa Clara County, CAL Fire Northern Region, California, 95128, United States: Buena Vista, 95128\n",
      "\n",
      "275 20200, Merrick Drive, Saratoga, Santa Clara County, California, 95070, United States: Saratoga, 95070\n"
     ]
    },
    {
     "name": "stderr",
     "output_type": "stream",
     "text": [
      "WARNING:urllib3.connectionpool:Retrying (Retry(total=1, connect=None, read=None, redirect=None, status=None)) after connection broken by 'ReadTimeoutError(\"HTTPSConnectionPool(host='nominatim.openstreetmap.org', port=443): Read timed out. (read timeout=1)\")': /search?q=200+++W+FREMONT+RD%2C+SANTA+CLARA+COUNTY%2C+CA&format=json&limit=1\n"
     ]
    },
    {
     "name": "stdout",
     "output_type": "stream",
     "text": [
      "\n",
      "276 Fremont Road, Stanford, Santa Clara County, California, 94305, United States: Stanford, 94305\n",
      "\n",
      "277 22400, Carroll Oaks Way, San Jose, Santa Clara County, California, 95120, United States: San Jose, 95120\n",
      "\n",
      "278 Malech Road, Coyote, Santa Clara County, California, 95151, United States: Coyote, 95151\n",
      "\n",
      "279 28200, Radcliffe Lane, Los Altos Hills, Santa Clara County, California, 94022, United States: Los Altos Hills, 94022\n"
     ]
    },
    {
     "name": "stderr",
     "output_type": "stream",
     "text": [
      "WARNING:urllib3.connectionpool:Retrying (Retry(total=1, connect=None, read=None, redirect=None, status=None)) after connection broken by 'ReadTimeoutError(\"HTTPSConnectionPool(host='nominatim.openstreetmap.org', port=443): Read timed out. (read timeout=1)\")': /search?q=1++%2C+SANTA+CLARA+COUNTY%2C+CA&format=json&limit=1\n",
      "WARNING:urllib3.connectionpool:Retrying (Retry(total=0, connect=None, read=None, redirect=None, status=None)) after connection broken by 'ReadTimeoutError(\"HTTPSConnectionPool(host='nominatim.openstreetmap.org', port=443): Read timed out. (read timeout=1)\")': /search?q=1++%2C+SANTA+CLARA+COUNTY%2C+CA&format=json&limit=1\n",
      "ERROR:root:HTTPSConnectionPool(host='nominatim.openstreetmap.org', port=443): Max retries exceeded with url: /search?q=1++%2C+SANTA+CLARA+COUNTY%2C+CA&format=json&limit=1 (Caused by ReadTimeoutError(\"HTTPSConnectionPool(host='nominatim.openstreetmap.org', port=443): Read timed out. (read timeout=1)\"))\n"
     ]
    },
    {
     "name": "stdout",
     "output_type": "stream",
     "text": [
      "NR: 280 "
     ]
    },
    {
     "name": "stderr",
     "output_type": "stream",
     "text": [
      "WARNING:urllib3.connectionpool:Retrying (Retry(total=1, connect=None, read=None, redirect=None, status=None)) after connection broken by 'ReadTimeoutError(\"HTTPSConnectionPool(host='nominatim.openstreetmap.org', port=443): Read timed out. (read timeout=1)\")': /search?q=1+++S+WINCHESTER+BLVD%2C+SANTA+CLARA+COUNTY%2C+CA&format=json&limit=1\n"
     ]
    },
    {
     "name": "stdout",
     "output_type": "stream",
     "text": [
      "\n",
      "281 Winchester Boulevard, San Jose, Santa Clara County, California, 95128, United States: San Jose, 95128\n",
      "\n",
      "282 14600, Via de Marcos, Saratoga, Santa Clara County, California, 95070, United States: Saratoga, 95070\n"
     ]
    },
    {
     "name": "stderr",
     "output_type": "stream",
     "text": [
      "WARNING:urllib3.connectionpool:Retrying (Retry(total=1, connect=None, read=None, redirect=None, status=None)) after connection broken by 'ReadTimeoutError(\"HTTPSConnectionPool(host='nominatim.openstreetmap.org', port=443): Read timed out. (read timeout=1)\")': /search?q=19000++STEVENS+CREEK+BLVD%2C+SANTA+CLARA+COUNTY%2C+CA&format=json&limit=1\n"
     ]
    },
    {
     "name": "stdout",
     "output_type": "stream",
     "text": [
      "\n",
      "283 19000, Stevens Creek Boulevard, Cupertino, Santa Clara County, CAL Fire Northern Region, California, 95014, United States: Cupertino, 95014\n",
      "\n",
      "284 9300, Kern Avenue, Santa Clara County, California, 95020, United States: Kern Avenue, 95020\n"
     ]
    },
    {
     "name": "stderr",
     "output_type": "stream",
     "text": [
      "WARNING:urllib3.connectionpool:Retrying (Retry(total=1, connect=None, read=None, redirect=None, status=None)) after connection broken by 'ReadTimeoutError(\"HTTPSConnectionPool(host='nominatim.openstreetmap.org', port=443): Read timed out. (read timeout=1)\")': /search?q=200+++STEVENS+CREEK+BLVD%2C+SANTA+CLARA+COUNTY%2C+CA&format=json&limit=1\n"
     ]
    },
    {
     "name": "stdout",
     "output_type": "stream",
     "text": [
      "\n",
      "285 Stevens Creek Boulevard, Cupertino, Santa Clara County, CAL Fire Northern Region, California, 95014, United States: Cupertino, 95014\n"
     ]
    },
    {
     "name": "stderr",
     "output_type": "stream",
     "text": [
      "WARNING:urllib3.connectionpool:Retrying (Retry(total=1, connect=None, read=None, redirect=None, status=None)) after connection broken by 'ReadTimeoutError(\"HTTPSConnectionPool(host='nominatim.openstreetmap.org', port=443): Read timed out. (read timeout=1)\")': /search?q=SOUTH+COUNTY+UNIT%2C+SANTA+CLARA+COUNTY%2C+CA&format=json&limit=1\n",
      "WARNING:urllib3.connectionpool:Retrying (Retry(total=0, connect=None, read=None, redirect=None, status=None)) after connection broken by 'ReadTimeoutError(\"HTTPSConnectionPool(host='nominatim.openstreetmap.org', port=443): Read timed out. (read timeout=1)\")': /search?q=SOUTH+COUNTY+UNIT%2C+SANTA+CLARA+COUNTY%2C+CA&format=json&limit=1\n",
      "ERROR:root:HTTPSConnectionPool(host='nominatim.openstreetmap.org', port=443): Max retries exceeded with url: /search?q=SOUTH+COUNTY+UNIT%2C+SANTA+CLARA+COUNTY%2C+CA&format=json&limit=1 (Caused by ReadTimeoutError(\"HTTPSConnectionPool(host='nominatim.openstreetmap.org', port=443): Read timed out. (read timeout=1)\"))\n"
     ]
    },
    {
     "name": "stdout",
     "output_type": "stream",
     "text": [
      "NR: 286 \n",
      "287 1, South Abel Street, Milpitas, Santa Clara County, CAL Fire Northern Region, California, 95035, United States: Milpitas, 95035\n",
      "\n",
      "288 15100, Herring Avenue, Cambrian Park, San Jose, Santa Clara County, California, 95124, United States: San Jose, 95124\n"
     ]
    },
    {
     "name": "stderr",
     "output_type": "stream",
     "text": [
      "WARNING:urllib3.connectionpool:Retrying (Retry(total=1, connect=None, read=None, redirect=None, status=None)) after connection broken by 'ReadTimeoutError(\"HTTPSConnectionPool(host='nominatim.openstreetmap.org', port=443): Read timed out. (read timeout=1)\")': /search?q=1+++S+ABEL+ST%2C+SANTA+CLARA+COUNTY%2C+CA&format=json&limit=1\n"
     ]
    },
    {
     "name": "stdout",
     "output_type": "stream",
     "text": [
      "\n",
      "289 1, South Abel Street, Milpitas, Santa Clara County, CAL Fire Northern Region, California, 95035, United States: Milpitas, 95035\n",
      "\n",
      "290 5000, Santa Teresa Boulevard, Santa Clara County, California, 95020, United States: Santa Teresa Boulevard, 95020\n",
      "\n",
      "291 10100, Torre Avenue, Cupertino, Santa Clara County, California, 95014, United States: Cupertino, 95014\n"
     ]
    },
    {
     "name": "stderr",
     "output_type": "stream",
     "text": [
      "WARNING:urllib3.connectionpool:Retrying (Retry(total=1, connect=None, read=None, redirect=None, status=None)) after connection broken by 'ReadTimeoutError(\"HTTPSConnectionPool(host='nominatim.openstreetmap.org', port=443): Read timed out. (read timeout=1)\")': /search?q=ABORN+RD%2C+SANTA+CLARA+COUNTY%2C+CA&format=json&limit=1\n"
     ]
    },
    {
     "name": "stdout",
     "output_type": "stream",
     "text": [
      "\n",
      "292 Aborn Road, San Jose, Santa Clara County, CAL Fire Northern Region, California, 95135, United States: San Jose, 95135\n",
      "\n",
      "293 13900, Shadow Oaks Way, Saratoga, Santa Clara County, California, 95070, United States: Saratoga, 95070\n",
      "\n",
      "294 22500, Voss Avenue, Cupertino, Santa Clara County, California, 95014, United States: Cupertino, 95014\n",
      "\n",
      "295 400, Arleta Avenue, Rose Garden, San Jose, Santa Clara County, California, 95128, United States: San Jose, 95128\n"
     ]
    },
    {
     "name": "stderr",
     "output_type": "stream",
     "text": [
      "WARNING:urllib3.connectionpool:Retrying (Retry(total=1, connect=None, read=None, redirect=None, status=None)) after connection broken by 'ReadTimeoutError(\"HTTPSConnectionPool(host='nominatim.openstreetmap.org', port=443): Read timed out. (read timeout=1)\")': /search?q=13300++MONTEBELLO+RD%2C+SANTA+CLARA+COUNTY%2C+CA&format=json&limit=1\n"
     ]
    },
    {
     "name": "stdout",
     "output_type": "stream",
     "text": [
      "\n",
      "296 13300, Montebello Road, Santa Clara County, California, 95014, United States: Montebello Road, 95014\n"
     ]
    },
    {
     "name": "stderr",
     "output_type": "stream",
     "text": [
      "WARNING:urllib3.connectionpool:Retrying (Retry(total=1, connect=None, read=None, redirect=None, status=None)) after connection broken by 'ReadTimeoutError(\"HTTPSConnectionPool(host='nominatim.openstreetmap.org', port=443): Read timed out. (read timeout=1)\")': /search?q=7000++FURLONG+AV%2C+SANTA+CLARA+COUNTY%2C+CA&format=json&limit=1\n"
     ]
    },
    {
     "name": "stdout",
     "output_type": "stream",
     "text": [
      "\n",
      "297 7000, Furlong Avenue, Old Gilroy, Santa Clara County, California, 95020, United States: Old Gilroy, 95020\n"
     ]
    },
    {
     "name": "stderr",
     "output_type": "stream",
     "text": [
      "WARNING:urllib3.connectionpool:Retrying (Retry(total=1, connect=None, read=None, redirect=None, status=None)) after connection broken by 'ReadTimeoutError(\"HTTPSConnectionPool(host='nominatim.openstreetmap.org', port=443): Read timed out. (read timeout=1)\")': /search?q=12600++SARATOGA+CREEK+DR%2C+SANTA+CLARA+COUNTY%2C+CA&format=json&limit=1\n"
     ]
    },
    {
     "name": "stdout",
     "output_type": "stream",
     "text": [
      "\n",
      "298 12600, Saratoga Creek Drive, Saratoga, Santa Clara County, California, 95070, United States: Saratoga, 95070\n",
      "\n",
      "299 10100, Beardon Drive, Cupertino, Santa Clara County, California, 95014, United States: Cupertino, 95014\n"
     ]
    },
    {
     "name": "stderr",
     "output_type": "stream",
     "text": [
      "WARNING:urllib3.connectionpool:Retrying (Retry(total=1, connect=None, read=None, redirect=None, status=None)) after connection broken by 'ReadTimeoutError(\"HTTPSConnectionPool(host='nominatim.openstreetmap.org', port=443): Read timed out. (read timeout=1)\")': /search?q=10200++ANTHONY+PL%2C+SANTA+CLARA+COUNTY%2C+CA&format=json&limit=1\n"
     ]
    },
    {
     "name": "stdout",
     "output_type": "stream",
     "text": [
      "\n",
      "300 10200, Anthony Place, Cupertino, Santa Clara County, California, 95014, United States: Cupertino, 95014\n"
     ]
    },
    {
     "name": "stderr",
     "output_type": "stream",
     "text": [
      "WARNING:urllib3.connectionpool:Retrying (Retry(total=1, connect=None, read=None, redirect=None, status=None)) after connection broken by 'ReadTimeoutError(\"HTTPSConnectionPool(host='nominatim.openstreetmap.org', port=443): Read timed out. (read timeout=1)\")': /search?q=E+SAN+MARTIN+AV%2C+SANTA+CLARA+COUNTY%2C+CA&format=json&limit=1\n"
     ]
    },
    {
     "name": "stdout",
     "output_type": "stream",
     "text": [
      "\n",
      "301 East San Martin Avenue, San Martin, Santa Clara County, California, 95046, United States: San Martin, 95046\n",
      "\n",
      "302 2400, Enborg Lane, Buena Vista, San Jose, Santa Clara County, California, 95128, United States: San Jose, 95128\n"
     ]
    },
    {
     "name": "stderr",
     "output_type": "stream",
     "text": [
      "WARNING:urllib3.connectionpool:Retrying (Retry(total=1, connect=None, read=None, redirect=None, status=None)) after connection broken by 'ReadTimeoutError(\"HTTPSConnectionPool(host='nominatim.openstreetmap.org', port=443): Read timed out. (read timeout=1)\")': /search?q=PIERCE+RD%2C+SANTA+CLARA+COUNTY%2C+CA&format=json&limit=1\n"
     ]
    },
    {
     "name": "stdout",
     "output_type": "stream",
     "text": [
      "\n",
      "303 Pierce Road, Blue Hills, Saratoga, Santa Clara County, California, 95070, United States: Saratoga, 95070\n",
      "\n",
      "304 Pierce Road, Blue Hills, Saratoga, Santa Clara County, California, 95070, United States: Saratoga, 95070\n",
      "\n",
      "305 20300, Herriman Avenue, Saratoga, Santa Clara County, California, 95070, United States: Saratoga, 95070\n"
     ]
    },
    {
     "name": "stderr",
     "output_type": "stream",
     "text": [
      "WARNING:urllib3.connectionpool:Retrying (Retry(total=1, connect=None, read=None, redirect=None, status=None)) after connection broken by 'ReadTimeoutError(\"HTTPSConnectionPool(host='nominatim.openstreetmap.org', port=443): Read timed out. (read timeout=1)\")': /search?q=200++SAN+BRUNO+AV%2C+SANTA+CLARA+COUNTY%2C+CA&format=json&limit=1\n"
     ]
    },
    {
     "name": "stdout",
     "output_type": "stream",
     "text": [
      "\n",
      "306 200, San Bruno Avenue, Santa Clara County, California, 95037, United States: San Bruno Avenue, 95037\n"
     ]
    },
    {
     "name": "stderr",
     "output_type": "stream",
     "text": [
      "WARNING:urllib3.connectionpool:Retrying (Retry(total=1, connect=None, read=None, redirect=None, status=None)) after connection broken by 'ReadTimeoutError(\"HTTPSConnectionPool(host='nominatim.openstreetmap.org', port=443): Read timed out. (read timeout=1)\")': /search?q=100+++UNIVERSITY+AV%2C+SANTA+CLARA+COUNTY%2C+CA&format=json&limit=1\n"
     ]
    },
    {
     "name": "stdout",
     "output_type": "stream",
     "text": [
      "\n",
      "307 100, University Avenue, Palo Alto, Santa Clara County, California, 94301, United States: Palo Alto, 94301\n",
      "\n",
      "308 West Santa Clara Street, Downtown Historic District, San Jose, Santa Clara County, CAL Fire Northern Region, California, 95110, United States: San Jose, 95110\n",
      "\n",
      "309 20900, Fargo Drive, Cupertino, Santa Clara County, California, 95014, United States: Cupertino, 95014\n"
     ]
    },
    {
     "name": "stderr",
     "output_type": "stream",
     "text": [
      "WARNING:urllib3.connectionpool:Retrying (Retry(total=1, connect=None, read=None, redirect=None, status=None)) after connection broken by 'ReadTimeoutError(\"HTTPSConnectionPool(host='nominatim.openstreetmap.org', port=443): Read timed out. (read timeout=1)\")': /search?q=600++POWDER+HORN+CT%2C+SANTA+CLARA+COUNTY%2C+CA&format=json&limit=1\n"
     ]
    },
    {
     "name": "stdout",
     "output_type": "stream",
     "text": [
      "\n",
      "310 600, Powder Horn Court, Santa Clara County, California, 95046, United States: Powder Horn Court, 95046\n"
     ]
    },
    {
     "name": "stderr",
     "output_type": "stream",
     "text": [
      "WARNING:urllib3.connectionpool:Retrying (Retry(total=1, connect=None, read=None, redirect=None, status=None)) after connection broken by 'ReadTimeoutError(\"HTTPSConnectionPool(host='nominatim.openstreetmap.org', port=443): Read timed out. (read timeout=1)\")': /search?q=1+++N+1ST+ST%2C+SANTA+CLARA+COUNTY%2C+CA&format=json&limit=1\n",
      "WARNING:urllib3.connectionpool:Retrying (Retry(total=0, connect=None, read=None, redirect=None, status=None)) after connection broken by 'ReadTimeoutError(\"HTTPSConnectionPool(host='nominatim.openstreetmap.org', port=443): Read timed out. (read timeout=1)\")': /search?q=1+++N+1ST+ST%2C+SANTA+CLARA+COUNTY%2C+CA&format=json&limit=1\n"
     ]
    },
    {
     "name": "stdout",
     "output_type": "stream",
     "text": [
      "\n",
      "311 1, North 1st Street, Saint James Square Historic District, Japantown, San Jose, Santa Clara County, CAL Fire Northern Region, California, 95113, United States: San Jose, 95113\n",
      "\n",
      "312 14400, Big Basin Way, Saratoga, Santa Clara County, California, 95070, United States: Saratoga, 95070\n",
      "\n",
      "313 2400, Los Coches Avenue, Rose Garden, San Jose, Santa Clara County, California, 95128, United States: San Jose, 95128\n"
     ]
    },
    {
     "name": "stderr",
     "output_type": "stream",
     "text": [
      "WARNING:urllib3.connectionpool:Retrying (Retry(total=1, connect=None, read=None, redirect=None, status=None)) after connection broken by 'ReadTimeoutError(\"HTTPSConnectionPool(host='nominatim.openstreetmap.org', port=443): Read timed out. (read timeout=1)\")': /search?q=HWY+9%2C+SANTA+CLARA+COUNTY%2C+CA&format=json&limit=1\n",
      "WARNING:urllib3.connectionpool:Retrying (Retry(total=0, connect=None, read=None, redirect=None, status=None)) after connection broken by 'ReadTimeoutError(\"HTTPSConnectionPool(host='nominatim.openstreetmap.org', port=443): Read timed out. (read timeout=1)\")': /search?q=HWY+9%2C+SANTA+CLARA+COUNTY%2C+CA&format=json&limit=1\n"
     ]
    },
    {
     "name": "stdout",
     "output_type": "stream",
     "text": [
      "NR: 314 \n",
      "315 12000, Brookglen Drive, Saratoga, Santa Clara County, California, 95070, United States: Saratoga, 95070\n",
      "\n",
      "316 13900, Quito Road, Saratoga, Santa Clara County, California, 95070, United States: Saratoga, 95070\n"
     ]
    },
    {
     "name": "stderr",
     "output_type": "stream",
     "text": [
      "WARNING:urllib3.connectionpool:Retrying (Retry(total=1, connect=None, read=None, redirect=None, status=None)) after connection broken by 'ReadTimeoutError(\"HTTPSConnectionPool(host='nominatim.openstreetmap.org', port=443): Read timed out. (read timeout=1)\")': /search?q=HWY+9%2C+SANTA+CLARA+COUNTY%2C+CA&format=json&limit=1\n",
      "WARNING:urllib3.connectionpool:Retrying (Retry(total=0, connect=None, read=None, redirect=None, status=None)) after connection broken by 'ReadTimeoutError(\"HTTPSConnectionPool(host='nominatim.openstreetmap.org', port=443): Read timed out. (read timeout=1)\")': /search?q=HWY+9%2C+SANTA+CLARA+COUNTY%2C+CA&format=json&limit=1\n",
      "ERROR:root:HTTPSConnectionPool(host='nominatim.openstreetmap.org', port=443): Max retries exceeded with url: /search?q=HWY+9%2C+SANTA+CLARA+COUNTY%2C+CA&format=json&limit=1 (Caused by ReadTimeoutError(\"HTTPSConnectionPool(host='nominatim.openstreetmap.org', port=443): Read timed out. (read timeout=1)\"))\n"
     ]
    },
    {
     "name": "stdout",
     "output_type": "stream",
     "text": [
      "NR: 317 \n",
      "318 10400, North Stelling Road, Cupertino, Santa Clara County, California, 95014, United States: Cupertino, 95014\n",
      "\n",
      "319 20800, East Homestead Road, Cupertino, Santa Clara County, California, 95014, United States: Cupertino, 95014\n",
      "\n",
      "320 14100, Story Road, Alum Rock, San Jose, Santa Clara County, CAL Fire Northern Region, California, 95127, United States: San Jose, 95127\n",
      "\n",
      "321 Saratoga Avenue, Saratoga, Santa Clara County, California, 95070, United States: Saratoga, 95070\n"
     ]
    },
    {
     "name": "stderr",
     "output_type": "stream",
     "text": [
      "WARNING:urllib3.connectionpool:Retrying (Retry(total=1, connect=None, read=None, redirect=None, status=None)) after connection broken by 'ReadTimeoutError(\"HTTPSConnectionPool(host='nominatim.openstreetmap.org', port=443): Read timed out. (read timeout=1)\")': /search?q=1++%2C+SANTA+CLARA+COUNTY%2C+CA&format=json&limit=1\n",
      "WARNING:urllib3.connectionpool:Retrying (Retry(total=0, connect=None, read=None, redirect=None, status=None)) after connection broken by 'ReadTimeoutError(\"HTTPSConnectionPool(host='nominatim.openstreetmap.org', port=443): Read timed out. (read timeout=1)\")': /search?q=1++%2C+SANTA+CLARA+COUNTY%2C+CA&format=json&limit=1\n"
     ]
    },
    {
     "name": "stdout",
     "output_type": "stream",
     "text": [
      "\n",
      "322 1, Alviso, San Jose, Santa Clara County, California, United States: San Jose, California\n",
      "\n",
      "323 100, California Avenue, San Martin, Santa Clara County, California, 95046, United States: San Martin, 95046\n"
     ]
    },
    {
     "name": "stderr",
     "output_type": "stream",
     "text": [
      "WARNING:urllib3.connectionpool:Retrying (Retry(total=1, connect=None, read=None, redirect=None, status=None)) after connection broken by 'ReadTimeoutError(\"HTTPSConnectionPool(host='nominatim.openstreetmap.org', port=443): Read timed out. (read timeout=1)\")': /search?q=1+++SANTA+TERESA+BLVD%2C+SANTA+CLARA+COUNTY%2C+CA&format=json&limit=1\n",
      "WARNING:urllib3.connectionpool:Retrying (Retry(total=0, connect=None, read=None, redirect=None, status=None)) after connection broken by 'ReadTimeoutError(\"HTTPSConnectionPool(host='nominatim.openstreetmap.org', port=443): Read timed out. (read timeout=1)\")': /search?q=1+++SANTA+TERESA+BLVD%2C+SANTA+CLARA+COUNTY%2C+CA&format=json&limit=1\n"
     ]
    },
    {
     "name": "stdout",
     "output_type": "stream",
     "text": [
      "\n",
      "324 Santa Teresa Boulevard, Avenida Espana, San Jose, Santa Clara County, CAL Fire Northern Region, California, 95139, United States: San Jose, 95139\n",
      "\n",
      "325 Fruitvale Avenue, Saratoga, Santa Clara County, California, 95070, United States: Saratoga, 95070\n"
     ]
    },
    {
     "name": "stderr",
     "output_type": "stream",
     "text": [
      "WARNING:urllib3.connectionpool:Retrying (Retry(total=1, connect=None, read=None, redirect=None, status=None)) after connection broken by 'ReadTimeoutError(\"HTTPSConnectionPool(host='nominatim.openstreetmap.org', port=443): Read timed out. (read timeout=1)\")': /search?q=6000++WILLOWGROVE+LN%2C+SANTA+CLARA+COUNTY%2C+CA&format=json&limit=1\n"
     ]
    },
    {
     "name": "stdout",
     "output_type": "stream",
     "text": [
      "\n",
      "326 6000, Willowgrove Lane, Rancho Rinconada, Cupertino, Santa Clara County, California, 95014, United States: Cupertino, 95014\n"
     ]
    },
    {
     "name": "stderr",
     "output_type": "stream",
     "text": [
      "WARNING:urllib3.connectionpool:Retrying (Retry(total=1, connect=None, read=None, redirect=None, status=None)) after connection broken by 'ReadTimeoutError(\"HTTPSConnectionPool(host='nominatim.openstreetmap.org', port=443): Read timed out. (read timeout=1)\")': /search?q=500++BRADLEY+AV%2C+SANTA+CLARA+COUNTY%2C+CA&format=json&limit=1\n"
     ]
    },
    {
     "name": "stdout",
     "output_type": "stream",
     "text": [
      "\n",
      "327 500, Bradley Avenue, Rose Garden, San Jose, Santa Clara County, California, 95128, United States: San Jose, 95128\n"
     ]
    },
    {
     "name": "stderr",
     "output_type": "stream",
     "text": [
      "WARNING:urllib3.connectionpool:Retrying (Retry(total=1, connect=None, read=None, redirect=None, status=None)) after connection broken by 'ReadTimeoutError(\"HTTPSConnectionPool(host='nominatim.openstreetmap.org', port=443): Read timed out. (read timeout=1)\")': /search?q=500++BRADLEY+AV%2C+SANTA+CLARA+COUNTY%2C+CA&format=json&limit=1\n"
     ]
    },
    {
     "name": "stdout",
     "output_type": "stream",
     "text": [
      "\n",
      "328 500, Bradley Avenue, Rose Garden, San Jose, Santa Clara County, California, 95128, United States: San Jose, 95128\n",
      "\n",
      "329 15400, Quito Road, Saratoga, Santa Clara County, California, 95070, United States: Saratoga, 95070\n",
      "\n",
      "330 La Paloma Road, Los Altos Hills, Santa Clara County, CAL Fire Northern Region, California, 94022, United States: Los Altos Hills, 94022\n"
     ]
    },
    {
     "name": "stderr",
     "output_type": "stream",
     "text": [
      "WARNING:urllib3.connectionpool:Retrying (Retry(total=1, connect=None, read=None, redirect=None, status=None)) after connection broken by 'ReadTimeoutError(\"HTTPSConnectionPool(host='nominatim.openstreetmap.org', port=443): Read timed out. (read timeout=1)\")': /search?q=100+++HIGHLAND+AV%2C+SANTA+CLARA+COUNTY%2C+CA&format=json&limit=1\n"
     ]
    },
    {
     "name": "stdout",
     "output_type": "stream",
     "text": [
      "\n",
      "331 100, Highland Avenue, Los Gatos, Santa Clara County, California, 95030, United States: Los Gatos, 95030\n"
     ]
    },
    {
     "name": "stderr",
     "output_type": "stream",
     "text": [
      "WARNING:urllib3.connectionpool:Retrying (Retry(total=1, connect=None, read=None, redirect=None, status=None)) after connection broken by 'ReadTimeoutError(\"HTTPSConnectionPool(host='nominatim.openstreetmap.org', port=443): Read timed out. (read timeout=1)\")': /search?q=1+++SANTA+TERESA+BLVD%2C+SANTA+CLARA+COUNTY%2C+CA&format=json&limit=1\n"
     ]
    },
    {
     "name": "stdout",
     "output_type": "stream",
     "text": [
      "\n",
      "332 Santa Teresa Boulevard, Avenida Espana, San Jose, Santa Clara County, CAL Fire Northern Region, California, 95139, United States: San Jose, 95139\n",
      "\n",
      "333 West Younger Avenue, Civic Center, Japantown, San Jose, Santa Clara County, California, 95110, United States: San Jose, 95110\n",
      "\n",
      "334 200, Eastside Drive, Alum Rock, San Jose, Santa Clara County, California, 95127, United States: San Jose, 95127\n"
     ]
    },
    {
     "name": "stderr",
     "output_type": "stream",
     "text": [
      "WARNING:urllib3.connectionpool:Retrying (Retry(total=1, connect=None, read=None, redirect=None, status=None)) after connection broken by 'ReadTimeoutError(\"HTTPSConnectionPool(host='nominatim.openstreetmap.org', port=443): Read timed out. (read timeout=1)\")': /search?q=1+++HELLYER+AV%2C+SANTA+CLARA+COUNTY%2C+CA&format=json&limit=1\n"
     ]
    },
    {
     "name": "stdout",
     "output_type": "stream",
     "text": [
      "\n",
      "335 Hellyer Avenue, San Jose, Santa Clara County, CAL Fire Northern Region, California, 95138, United States: San Jose, 95138\n",
      "\n",
      "336 Hellyer Avenue, San Jose, Santa Clara County, CAL Fire Northern Region, California, 95138, United States: San Jose, 95138\n",
      "\n",
      "337 19300, Pinnacle Court, Saratoga, Santa Clara County, California, 95070, United States: Saratoga, 95070\n",
      "\n",
      "338 Cold Harbor Avenue, Rancho Rinconada, Cupertino, Santa Clara County, California, 95014, United States: Cupertino, 95014\n"
     ]
    },
    {
     "name": "stderr",
     "output_type": "stream",
     "text": [
      "WARNING:urllib3.connectionpool:Retrying (Retry(total=1, connect=None, read=None, redirect=None, status=None)) after connection broken by 'ReadTimeoutError(\"HTTPSConnectionPool(host='nominatim.openstreetmap.org', port=443): Read timed out. (read timeout=1)\")': /search?q=100+++FRUITVALE+AV%2C+SANTA+CLARA+COUNTY%2C+CA&format=json&limit=1\n"
     ]
    },
    {
     "name": "stdout",
     "output_type": "stream",
     "text": [
      "\n",
      "339 Fruitvale Avenue, Saratoga, Santa Clara County, California, 95070, United States: Saratoga, 95070\n",
      "\n",
      "340 Stevens Creek Boulevard, Cupertino, Santa Clara County, CAL Fire Northern Region, California, 95014, United States: Cupertino, 95014\n",
      "\n",
      "341 19900, Angus Court, Saratoga, Santa Clara County, California, 95070, United States: Saratoga, 95070\n",
      "\n",
      "342 14400, Columbet Avenue, San Martin, Santa Clara County, California, 95046, United States: San Martin, 95046\n"
     ]
    },
    {
     "name": "stderr",
     "output_type": "stream",
     "text": [
      "WARNING:urllib3.connectionpool:Retrying (Retry(total=1, connect=None, read=None, redirect=None, status=None)) after connection broken by 'ReadTimeoutError(\"HTTPSConnectionPool(host='nominatim.openstreetmap.org', port=443): Read timed out. (read timeout=1)\")': /search?q=12800++LA+CRESTA+DR%2C+SANTA+CLARA+COUNTY%2C+CA&format=json&limit=1\n"
     ]
    },
    {
     "name": "stdout",
     "output_type": "stream",
     "text": [
      "\n",
      "343 12800, La Cresta Drive, Los Altos Hills, Santa Clara County, California, 94022, United States: Los Altos Hills, 94022\n"
     ]
    },
    {
     "name": "stderr",
     "output_type": "stream",
     "text": [
      "WARNING:urllib3.connectionpool:Retrying (Retry(total=1, connect=None, read=None, redirect=None, status=None)) after connection broken by 'ReadTimeoutError(\"HTTPSConnectionPool(host='nominatim.openstreetmap.org', port=443): Read timed out. (read timeout=1)\")': /search?q=1+++S+BASCOM+AV%2C+SANTA+CLARA+COUNTY%2C+CA&format=json&limit=1\n",
      "WARNING:urllib3.connectionpool:Retrying (Retry(total=0, connect=None, read=None, redirect=None, status=None)) after connection broken by 'ReadTimeoutError(\"HTTPSConnectionPool(host='nominatim.openstreetmap.org', port=443): Read timed out. (read timeout=1)\")': /search?q=1+++S+BASCOM+AV%2C+SANTA+CLARA+COUNTY%2C+CA&format=json&limit=1\n"
     ]
    },
    {
     "name": "stdout",
     "output_type": "stream",
     "text": [
      "\n",
      "344 South Bascom Avenue, Rose Garden, San Jose, Santa Clara County, California, 95128, United States: San Jose, 95128\n",
      "\n",
      "345 1, West Hedding Street, Civic Center, Japantown, San Jose, Santa Clara County, CAL Fire Northern Region, California, 95110, United States: San Jose, 95110\n",
      "\n",
      "346 14100, Jerilyn Drive, Alum Rock, San Jose, Santa Clara County, California, 95127, United States: San Jose, 95127\n"
     ]
    },
    {
     "name": "stderr",
     "output_type": "stream",
     "text": [
      "WARNING:urllib3.connectionpool:Retrying (Retry(total=1, connect=None, read=None, redirect=None, status=None)) after connection broken by 'ReadTimeoutError(\"HTTPSConnectionPool(host='nominatim.openstreetmap.org', port=443): Read timed out. (read timeout=1)\")': /search?q=20700++STEVENS+CREEK+BLVD%2C+SANTA+CLARA+COUNTY%2C+CA&format=json&limit=1\n"
     ]
    },
    {
     "name": "stdout",
     "output_type": "stream",
     "text": [
      "\n",
      "347 20700, Stevens Creek Boulevard, The Crossroads, Cupertino, Santa Clara County, CAL Fire Northern Region, California, 95014, United States: Cupertino, 95014\n",
      "\n",
      "348 North Foothill Boulevard, Cupertino, Santa Clara County, California, 94087, United States: Cupertino, 94087\n"
     ]
    },
    {
     "name": "stderr",
     "output_type": "stream",
     "text": [
      "WARNING:urllib3.connectionpool:Retrying (Retry(total=1, connect=None, read=None, redirect=None, status=None)) after connection broken by 'ReadTimeoutError(\"HTTPSConnectionPool(host='nominatim.openstreetmap.org', port=443): Read timed out. (read timeout=1)\")': /search?q=14200++SYCAMORE+AV%2C+SANTA+CLARA+COUNTY%2C+CA&format=json&limit=1\n"
     ]
    },
    {
     "name": "stdout",
     "output_type": "stream",
     "text": [
      "\n",
      "349 14200, Sycamore Avenue, San Martin, Santa Clara County, California, 95046, United States: San Martin, 95046\n",
      "\n",
      "350 El Camino Real, Santa Clara, Santa Clara County, CAL Fire Northern Region, California, 95050, United States: Santa Clara, 95050\n",
      "\n",
      "351 21500, Almaden Road, New Almaden, Santa Clara County, California, 95120, United States: New Almaden, 95120\n"
     ]
    },
    {
     "name": "stderr",
     "output_type": "stream",
     "text": [
      "WARNING:urllib3.connectionpool:Retrying (Retry(total=1, connect=None, read=None, redirect=None, status=None)) after connection broken by 'ReadTimeoutError(\"HTTPSConnectionPool(host='nominatim.openstreetmap.org', port=443): Read timed out. (read timeout=1)\")': /search?q=1++%26+SANDERS%2C+SANTA+CLARA+COUNTY%2C+CA&format=json&limit=1\n",
      "WARNING:urllib3.connectionpool:Retrying (Retry(total=0, connect=None, read=None, redirect=None, status=None)) after connection broken by 'ReadTimeoutError(\"HTTPSConnectionPool(host='nominatim.openstreetmap.org', port=443): Read timed out. (read timeout=1)\")': /search?q=1++%26+SANDERS%2C+SANTA+CLARA+COUNTY%2C+CA&format=json&limit=1\n"
     ]
    },
    {
     "name": "stdout",
     "output_type": "stream",
     "text": [
      "\n",
      "352 Sanders Avenue, Little Portugal, San Jose, Santa Clara County, California, 95116, United States: San Jose, 95116\n",
      "\n",
      "353 1, South Abel Street, Milpitas, Santa Clara County, CAL Fire Northern Region, California, 95035, United States: Milpitas, 95035\n",
      "\n",
      "354 Arbeleche Lane, Saratoga, Santa Clara County, California, 95070, United States: Saratoga, 95070\n",
      "\n",
      "355 Shannon Road, Shannon, Los Gatos, Santa Clara County, California, 95030, United States: Los Gatos, 95030\n"
     ]
    },
    {
     "name": "stderr",
     "output_type": "stream",
     "text": [
      "WARNING:urllib3.connectionpool:Retrying (Retry(total=1, connect=None, read=None, redirect=None, status=None)) after connection broken by 'ReadTimeoutError(\"HTTPSConnectionPool(host='nominatim.openstreetmap.org', port=443): Read timed out. (read timeout=1)\")': /search?q=15300++SKYVIEW+DR%2C+SANTA+CLARA+COUNTY%2C+CA&format=json&limit=1\n"
     ]
    },
    {
     "name": "stdout",
     "output_type": "stream",
     "text": [
      "\n",
      "356 15300, Skyview Drive, San Jose, Santa Clara County, California, 95132, United States: San Jose, 95132\n",
      "\n",
      "357 200, Laumer Avenue, Alum Rock, San Jose, Santa Clara County, California, 95127, United States: San Jose, 95127\n"
     ]
    },
    {
     "name": "stderr",
     "output_type": "stream",
     "text": [
      "WARNING:urllib3.connectionpool:Retrying (Retry(total=1, connect=None, read=None, redirect=None, status=None)) after connection broken by 'ReadTimeoutError(\"HTTPSConnectionPool(host='nominatim.openstreetmap.org', port=443): Read timed out. (read timeout=1)\")': /search?q=21900++WOODBURY+DR%2C+SANTA+CLARA+COUNTY%2C+CA&format=json&limit=1\n"
     ]
    },
    {
     "name": "stdout",
     "output_type": "stream",
     "text": [
      "\n",
      "358 21900, Woodbury Drive, Monta Vista, Cupertino, Santa Clara County, California, 94087, United States: Cupertino, 94087\n",
      "\n",
      "359 300, Valley View Avenue, East Foothills, Santa Clara County, California, 95127, United States: East Foothills, 95127\n"
     ]
    },
    {
     "name": "stderr",
     "output_type": "stream",
     "text": [
      "WARNING:urllib3.connectionpool:Retrying (Retry(total=1, connect=None, read=None, redirect=None, status=None)) after connection broken by 'ReadTimeoutError(\"HTTPSConnectionPool(host='nominatim.openstreetmap.org', port=443): Read timed out. (read timeout=1)\")': /search?q=2700++FERGUSON+RD%2C+SANTA+CLARA+COUNTY%2C+CA&format=json&limit=1\n"
     ]
    },
    {
     "name": "stdout",
     "output_type": "stream",
     "text": [
      "\n",
      "360 2700, Ferguson Road, Santa Clara County, California, 95020, United States: Ferguson Road, 95020\n",
      "\n",
      "361 1600, East San Antonio Street, Little Portugal, San Jose, Santa Clara County, CAL Fire Northern Region, California, 95116, United States: San Jose, 95116\n",
      "\n",
      "362 Bollinger Road, San Jose, Santa Clara County, CAL Fire Northern Region, California, 95129, United States: San Jose, 95129\n",
      "\n",
      "363 14500, Foothill Avenue, San Martin, Santa Clara County, California, 95046, United States: San Martin, 95046\n"
     ]
    },
    {
     "name": "stderr",
     "output_type": "stream",
     "text": [
      "WARNING:urllib3.connectionpool:Retrying (Retry(total=1, connect=None, read=None, redirect=None, status=None)) after connection broken by 'ReadTimeoutError(\"HTTPSConnectionPool(host='nominatim.openstreetmap.org', port=443): Read timed out. (read timeout=1)\")': /search?q=STEVENS+CREEK+BLVD%2C+SANTA+CLARA+COUNTY%2C+CA&format=json&limit=1\n"
     ]
    },
    {
     "name": "stdout",
     "output_type": "stream",
     "text": [
      "\n",
      "364 Stevens Creek Boulevard, Cupertino, Santa Clara County, CAL Fire Northern Region, California, 95014, United States: Cupertino, 95014\n",
      "\n",
      "365 15900, Bohlman Road, Saratoga, Santa Clara County, California, 95070, United States: Saratoga, 95070\n"
     ]
    },
    {
     "name": "stderr",
     "output_type": "stream",
     "text": [
      "WARNING:urllib3.connectionpool:Retrying (Retry(total=1, connect=None, read=None, redirect=None, status=None)) after connection broken by 'ReadTimeoutError(\"HTTPSConnectionPool(host='nominatim.openstreetmap.org', port=443): Read timed out. (read timeout=1)\")': /search?q=20300++VIA+SAN+MARINO%2C+SANTA+CLARA+COUNTY%2C+CA&format=json&limit=1\n"
     ]
    },
    {
     "name": "stdout",
     "output_type": "stream",
     "text": [
      "\n",
      "366 Via San Marino, Portofino, Cupertino, Santa Clara County, California, 95014, United States: Cupertino, 95014\n",
      "\n",
      "367 20200, La Paloma Avenue, Saratoga, Santa Clara County, California, 95070, United States: Saratoga, 95070\n",
      "\n",
      "368 Stevens Creek Boulevard, Cupertino, Santa Clara County, CAL Fire Northern Region, California, 95014, United States: Cupertino, 95014\n"
     ]
    },
    {
     "name": "stderr",
     "output_type": "stream",
     "text": [
      "WARNING:urllib3.connectionpool:Retrying (Retry(total=1, connect=None, read=None, redirect=None, status=None)) after connection broken by 'ReadTimeoutError(\"HTTPSConnectionPool(host='nominatim.openstreetmap.org', port=443): Read timed out. (read timeout=1)\")': /search?q=1++%2C+SANTA+CLARA+COUNTY%2C+CA&format=json&limit=1\n",
      "WARNING:urllib3.connectionpool:Retrying (Retry(total=0, connect=None, read=None, redirect=None, status=None)) after connection broken by 'ReadTimeoutError(\"HTTPSConnectionPool(host='nominatim.openstreetmap.org', port=443): Read timed out. (read timeout=1)\")': /search?q=1++%2C+SANTA+CLARA+COUNTY%2C+CA&format=json&limit=1\n",
      "ERROR:root:HTTPSConnectionPool(host='nominatim.openstreetmap.org', port=443): Max retries exceeded with url: /search?q=1++%2C+SANTA+CLARA+COUNTY%2C+CA&format=json&limit=1 (Caused by ReadTimeoutError(\"HTTPSConnectionPool(host='nominatim.openstreetmap.org', port=443): Read timed out. (read timeout=1)\"))\n"
     ]
    },
    {
     "name": "stdout",
     "output_type": "stream",
     "text": [
      "NR: 369 \n",
      "370 Zanker Road, North San Jose, San Jose, Santa Clara County, CAL Fire Northern Region, California, 95134, United States: San Jose, 95134\n",
      "\n",
      "371 21900, San Fernando Avenue, Monta Vista, Cupertino, Santa Clara County, California, 95014, United States: Cupertino, 95014\n",
      "\n",
      "372 Renova Drive, San Jose, Santa Clara County, California, 95128, United States: San Jose, 95128\n"
     ]
    },
    {
     "name": "stderr",
     "output_type": "stream",
     "text": [
      "WARNING:urllib3.connectionpool:Retrying (Retry(total=1, connect=None, read=None, redirect=None, status=None)) after connection broken by 'ReadTimeoutError(\"HTTPSConnectionPool(host='nominatim.openstreetmap.org', port=443): Read timed out. (read timeout=1)\")': /search?q=21900++SAN+FERNANDO+AV%2C+SANTA+CLARA+COUNTY%2C+CA&format=json&limit=1\n"
     ]
    },
    {
     "name": "stdout",
     "output_type": "stream",
     "text": [
      "\n",
      "373 21900, San Fernando Avenue, Monta Vista, Cupertino, Santa Clara County, California, 95014, United States: Cupertino, 95014\n"
     ]
    },
    {
     "name": "stderr",
     "output_type": "stream",
     "text": [
      "WARNING:urllib3.connectionpool:Retrying (Retry(total=1, connect=None, read=None, redirect=None, status=None)) after connection broken by 'ReadTimeoutError(\"HTTPSConnectionPool(host='nominatim.openstreetmap.org', port=443): Read timed out. (read timeout=1)\")': /search?q=PROSPECT+RD%2C+SANTA+CLARA+COUNTY%2C+CA&format=json&limit=1\n"
     ]
    },
    {
     "name": "stdout",
     "output_type": "stream",
     "text": [
      "\n",
      "374 Prospect Road, San Jose, Santa Clara County, California, 95070, United States: San Jose, 95070\n",
      "\n",
      "375 21900, San Fernando Avenue, Monta Vista, Cupertino, Santa Clara County, California, 95014, United States: Cupertino, 95014\n",
      "\n",
      "376 Marcella Avenue, Santa Clara County, California, 95020, United States: Marcella Avenue, 95020\n"
     ]
    },
    {
     "name": "stderr",
     "output_type": "stream",
     "text": [
      "WARNING:urllib3.connectionpool:Retrying (Retry(total=1, connect=None, read=None, redirect=None, status=None)) after connection broken by 'ReadTimeoutError(\"HTTPSConnectionPool(host='nominatim.openstreetmap.org', port=443): Read timed out. (read timeout=1)\")': /search?q=2700++CAROL+DR%2C+SANTA+CLARA+COUNTY%2C+CA&format=json&limit=1\n"
     ]
    },
    {
     "name": "stdout",
     "output_type": "stream",
     "text": [
      "\n",
      "377 2700, Carol Drive, Communications Hill, San Jose, Santa Clara County, California, 95136, United States: San Jose, 95136\n"
     ]
    },
    {
     "name": "stderr",
     "output_type": "stream",
     "text": [
      "WARNING:urllib3.connectionpool:Retrying (Retry(total=1, connect=None, read=None, redirect=None, status=None)) after connection broken by 'ReadTimeoutError(\"HTTPSConnectionPool(host='nominatim.openstreetmap.org', port=443): Read timed out. (read timeout=1)\")': /search?q=1+++S+DE+ANZA+BLVD%2C+SANTA+CLARA+COUNTY%2C+CA&format=json&limit=1\n"
     ]
    },
    {
     "name": "stdout",
     "output_type": "stream",
     "text": [
      "\n",
      "378 South De Anza Boulevard, San Jose, Santa Clara County, CAL Fire Northern Region, California, 95014, United States: San Jose, 95014\n",
      "\n",
      "379 19200, Harleigh Drive, Saratoga, Santa Clara County, California, 95070, United States: Saratoga, 95070\n"
     ]
    },
    {
     "name": "stderr",
     "output_type": "stream",
     "text": [
      "WARNING:urllib3.connectionpool:Retrying (Retry(total=1, connect=None, read=None, redirect=None, status=None)) after connection broken by 'ReadTimeoutError(\"HTTPSConnectionPool(host='nominatim.openstreetmap.org', port=443): Read timed out. (read timeout=1)\")': /search?q=1+++S+CAPITOL+AV%2C+SANTA+CLARA+COUNTY%2C+CA&format=json&limit=1\n"
     ]
    },
    {
     "name": "stdout",
     "output_type": "stream",
     "text": [
      "\n",
      "380 1, South Capitol Avenue, Alum Rock, San Jose, Santa Clara County, CAL Fire Northern Region, California, 95127, United States: San Jose, 95127\n",
      "\n",
      "381 10300, Sterling Boulevard, Rancho Rinconada, Cupertino, Santa Clara County, California, 95129, United States: Cupertino, 95129\n"
     ]
    },
    {
     "name": "stderr",
     "output_type": "stream",
     "text": [
      "WARNING:urllib3.connectionpool:Retrying (Retry(total=1, connect=None, read=None, redirect=None, status=None)) after connection broken by 'ReadTimeoutError(\"HTTPSConnectionPool(host='nominatim.openstreetmap.org', port=443): Read timed out. (read timeout=1)\")': /search?q=1+++W+HEDDING+ST%2C+SANTA+CLARA+COUNTY%2C+CA&format=json&limit=1\n"
     ]
    },
    {
     "name": "stdout",
     "output_type": "stream",
     "text": [
      "\n",
      "382 1, West Hedding Street, Civic Center, Japantown, San Jose, Santa Clara County, CAL Fire Northern Region, California, 95110, United States: San Jose, 95110\n",
      "\n",
      "383 15800, Simoni Drive, East Foothills, San Jose, Santa Clara County, California, 95127, United States: San Jose, 95127\n",
      "\n",
      "384 14700, Montalvo Road, Saratoga, Santa Clara County, California, 95070, United States: Saratoga, 95070\n"
     ]
    },
    {
     "name": "stderr",
     "output_type": "stream",
     "text": [
      "WARNING:urllib3.connectionpool:Retrying (Retry(total=1, connect=None, read=None, redirect=None, status=None)) after connection broken by 'ReadTimeoutError(\"HTTPSConnectionPool(host='nominatim.openstreetmap.org', port=443): Read timed out. (read timeout=1)\")': /search?q=1+++S+ABEL+ST%2C+SANTA+CLARA+COUNTY%2C+CA&format=json&limit=1\n",
      "WARNING:urllib3.connectionpool:Retrying (Retry(total=0, connect=None, read=None, redirect=None, status=None)) after connection broken by 'ReadTimeoutError(\"HTTPSConnectionPool(host='nominatim.openstreetmap.org', port=443): Read timed out. (read timeout=1)\")': /search?q=1+++S+ABEL+ST%2C+SANTA+CLARA+COUNTY%2C+CA&format=json&limit=1\n"
     ]
    },
    {
     "name": "stdout",
     "output_type": "stream",
     "text": [
      "\n",
      "385 1, South Abel Street, Milpitas, Santa Clara County, CAL Fire Northern Region, California, 95035, United States: Milpitas, 95035\n",
      "\n",
      "386 Purissima Road, Los Altos Hills, Santa Clara County, California, 94022, United States: Los Altos Hills, 94022\n"
     ]
    },
    {
     "name": "stderr",
     "output_type": "stream",
     "text": [
      "WARNING:urllib3.connectionpool:Retrying (Retry(total=1, connect=None, read=None, redirect=None, status=None)) after connection broken by 'ReadTimeoutError(\"HTTPSConnectionPool(host='nominatim.openstreetmap.org', port=443): Read timed out. (read timeout=1)\")': /search?q=W+SAN+CARLOS+ST%2C+SANTA+CLARA+COUNTY%2C+CA&format=json&limit=1\n"
     ]
    },
    {
     "name": "stdout",
     "output_type": "stream",
     "text": [
      "\n",
      "387 West San Carlos Street, SoFA, San Jose, Santa Clara County, CAL Fire Northern Region, California, 95113, United States: San Jose, 95113\n"
     ]
    },
    {
     "name": "stderr",
     "output_type": "stream",
     "text": [
      "WARNING:urllib3.connectionpool:Retrying (Retry(total=1, connect=None, read=None, redirect=None, status=None)) after connection broken by 'ReadTimeoutError(\"HTTPSConnectionPool(host='nominatim.openstreetmap.org', port=443): Read timed out. (read timeout=1)\")': /search?q=1++CLEVELAND+AV%2C+SANTA+CLARA+COUNTY%2C+CA&format=json&limit=1\n"
     ]
    },
    {
     "name": "stdout",
     "output_type": "stream",
     "text": [
      "\n",
      "388 1, Cleveland Avenue, Rose Garden, San Jose, Santa Clara County, California, 95128, United States: San Jose, 95128\n",
      "NR: 389 \n",
      "390 14500, Arnerich Road, Los Gatos, Santa Clara County, California, 95032, United States: Los Gatos, 95032\n"
     ]
    },
    {
     "name": "stderr",
     "output_type": "stream",
     "text": [
      "WARNING:urllib3.connectionpool:Retrying (Retry(total=1, connect=None, read=None, redirect=None, status=None)) after connection broken by 'ReadTimeoutError(\"HTTPSConnectionPool(host='nominatim.openstreetmap.org', port=443): Read timed out. (read timeout=1)\")': /search?q=SARATOGA+SUNNYVALE+RD%2C+SANTA+CLARA+COUNTY%2C+CA&format=json&limit=1\n"
     ]
    },
    {
     "name": "stdout",
     "output_type": "stream",
     "text": [
      "\n",
      "391 Saratoga-Sunnyvale Road, Blue Hills, Saratoga, Santa Clara County, California, 95014, United States: Saratoga, 95014\n",
      "\n",
      "392 Berryessa Road, Berryessa, San Jose, Santa Clara County, CAL Fire Northern Region, California, 93133, United States: San Jose, 93133\n"
     ]
    },
    {
     "name": "stderr",
     "output_type": "stream",
     "text": [
      "WARNING:urllib3.connectionpool:Retrying (Retry(total=1, connect=None, read=None, redirect=None, status=None)) after connection broken by 'ReadTimeoutError(\"HTTPSConnectionPool(host='nominatim.openstreetmap.org', port=443): Read timed out. (read timeout=1)\")': /search?q=20400++STEVENS+CREEK+BLVD%2C+SANTA+CLARA+COUNTY%2C+CA&format=json&limit=1\n"
     ]
    },
    {
     "name": "stdout",
     "output_type": "stream",
     "text": [
      "\n",
      "393 20400, Stevens Creek Boulevard, Cupertino, Santa Clara County, CAL Fire Northern Region, California, 95014, United States: Cupertino, 95014\n",
      "\n",
      "394 2700, Carol Drive, Communications Hill, San Jose, Santa Clara County, California, 95136, United States: San Jose, 95136\n"
     ]
    },
    {
     "name": "stderr",
     "output_type": "stream",
     "text": [
      "WARNING:urllib3.connectionpool:Retrying (Retry(total=1, connect=None, read=None, redirect=None, status=None)) after connection broken by 'ReadTimeoutError(\"HTTPSConnectionPool(host='nominatim.openstreetmap.org', port=443): Read timed out. (read timeout=1)\")': /search?q=1++%2C+SANTA+CLARA+COUNTY%2C+CA&format=json&limit=1\n",
      "WARNING:urllib3.connectionpool:Retrying (Retry(total=0, connect=None, read=None, redirect=None, status=None)) after connection broken by 'NewConnectionError('<urllib3.connection.HTTPSConnection object at 0x7f1090489bd0>: Failed to establish a new connection: [Errno 101] Network is unreachable')': /search?q=1++%2C+SANTA+CLARA+COUNTY%2C+CA&format=json&limit=1\n",
      "ERROR:root:HTTPSConnectionPool(host='nominatim.openstreetmap.org', port=443): Max retries exceeded with url: /search?q=1++%2C+SANTA+CLARA+COUNTY%2C+CA&format=json&limit=1 (Caused by ReadTimeoutError(\"HTTPSConnectionPool(host='nominatim.openstreetmap.org', port=443): Read timed out. (read timeout=1)\"))\n"
     ]
    },
    {
     "name": "stdout",
     "output_type": "stream",
     "text": [
      "NR: 395 \n",
      "396 1, South Abel Street, Milpitas, Santa Clara County, CAL Fire Northern Region, California, 95035, United States: Milpitas, 95035\n"
     ]
    },
    {
     "name": "stderr",
     "output_type": "stream",
     "text": [
      "WARNING:urllib3.connectionpool:Retrying (Retry(total=1, connect=None, read=None, redirect=None, status=None)) after connection broken by 'ReadTimeoutError(\"HTTPSConnectionPool(host='nominatim.openstreetmap.org', port=443): Read timed out. (read timeout=1)\")': /search?q=400++N+WHITE+RD%2C+SANTA+CLARA+COUNTY%2C+CA&format=json&limit=1\n"
     ]
    },
    {
     "name": "stdout",
     "output_type": "stream",
     "text": [
      "\n",
      "397 400, North White Road, Alum Rock, San Jose, Santa Clara County, CAL Fire Northern Region, California, 95127, United States: San Jose, 95127\n"
     ]
    },
    {
     "name": "stderr",
     "output_type": "stream",
     "text": [
      "WARNING:urllib3.connectionpool:Retrying (Retry(total=1, connect=None, read=None, redirect=None, status=None)) after connection broken by 'ReadTimeoutError(\"HTTPSConnectionPool(host='nominatim.openstreetmap.org', port=443): Read timed out. (read timeout=1)\")': /search?q=1+++W+HEDDING+ST%2C+SANTA+CLARA+COUNTY%2C+CA&format=json&limit=1\n"
     ]
    },
    {
     "name": "stdout",
     "output_type": "stream",
     "text": [
      "\n",
      "398 1, West Hedding Street, Civic Center, Japantown, San Jose, Santa Clara County, CAL Fire Northern Region, California, 95110, United States: San Jose, 95110\n",
      "\n",
      "399 Homestead Road, Santa Clara, Santa Clara County, CAL Fire Northern Region, California, 95150, United States: Santa Clara, 95150\n",
      "\n",
      "400 Colony Avenue, San Martin, Santa Clara County, California, 95046, United States: San Martin, 95046\n"
     ]
    },
    {
     "name": "stderr",
     "output_type": "stream",
     "text": [
      "WARNING:urllib3.connectionpool:Retrying (Retry(total=1, connect=None, read=None, redirect=None, status=None)) after connection broken by 'ReadTimeoutError(\"HTTPSConnectionPool(host='nominatim.openstreetmap.org', port=443): Read timed out. (read timeout=1)\")': /search?q=DEL+MAR+AV%2C+SANTA+CLARA+COUNTY%2C+CA&format=json&limit=1\n"
     ]
    },
    {
     "name": "stdout",
     "output_type": "stream",
     "text": [
      "\n",
      "401 Del Mar Avenue, Buena Vista, San Jose, Santa Clara County, California, 95128, United States: San Jose, 95128\n",
      "\n",
      "402 10700, Hubbard Way, East Foothills, Santa Clara County, California, 95127, United States: East Foothills, 95127\n"
     ]
    },
    {
     "name": "stderr",
     "output_type": "stream",
     "text": [
      "WARNING:urllib3.connectionpool:Retrying (Retry(total=1, connect=None, read=None, redirect=None, status=None)) after connection broken by 'ReadTimeoutError(\"HTTPSConnectionPool(host='nominatim.openstreetmap.org', port=443): Read timed out. (read timeout=1)\")': /search?q=12100++SARATOGA+SUNNYVALE+RD%2C+SANTA+CLARA+COUNTY%2C+CA&format=json&limit=1\n"
     ]
    },
    {
     "name": "stdout",
     "output_type": "stream",
     "text": [
      "\n",
      "403 Saratoga-Sunnyvale Road, Blue Hills, Saratoga, Santa Clara County, California, 95014, United States: Saratoga, 95014\n",
      "\n",
      "404 19600, Via Grande Drive, Saratoga, Santa Clara County, California, 95070, United States: Saratoga, 95070\n",
      "\n",
      "405 19300, Vendura Court, Saratoga, Santa Clara County, California, 95070, United States: Saratoga, 95070\n",
      "\n",
      "406 18800, Ten Acres Road, Saratoga, Santa Clara County, California, 95070, United States: Saratoga, 95070\n"
     ]
    },
    {
     "name": "stderr",
     "output_type": "stream",
     "text": [
      "WARNING:urllib3.connectionpool:Retrying (Retry(total=1, connect=None, read=None, redirect=None, status=None)) after connection broken by 'ReadTimeoutError(\"HTTPSConnectionPool(host='nominatim.openstreetmap.org', port=443): Read timed out. (read timeout=1)\")': /search?q=1+++S+WINCHESTER+BLVD%2C+SANTA+CLARA+COUNTY%2C+CA&format=json&limit=1\n",
      "WARNING:urllib3.connectionpool:Retrying (Retry(total=0, connect=None, read=None, redirect=None, status=None)) after connection broken by 'ReadTimeoutError(\"HTTPSConnectionPool(host='nominatim.openstreetmap.org', port=443): Read timed out. (read timeout=1)\")': /search?q=1+++S+WINCHESTER+BLVD%2C+SANTA+CLARA+COUNTY%2C+CA&format=json&limit=1\n",
      "ERROR:root:HTTPSConnectionPool(host='nominatim.openstreetmap.org', port=443): Max retries exceeded with url: /search?q=1+++S+WINCHESTER+BLVD%2C+SANTA+CLARA+COUNTY%2C+CA&format=json&limit=1 (Caused by ReadTimeoutError(\"HTTPSConnectionPool(host='nominatim.openstreetmap.org', port=443): Read timed out. (read timeout=1)\"))\n"
     ]
    },
    {
     "name": "stdout",
     "output_type": "stream",
     "text": [
      "NR: 407 \n",
      "408 300, South Bascom Avenue, Rose Garden, San Jose, Santa Clara County, California, 95128, United States: San Jose, 95128\n",
      "\n",
      "409 19300, Vendura Court, Saratoga, Santa Clara County, California, 95070, United States: Saratoga, 95070\n"
     ]
    },
    {
     "name": "stderr",
     "output_type": "stream",
     "text": [
      "WARNING:urllib3.connectionpool:Retrying (Retry(total=1, connect=None, read=None, redirect=None, status=None)) after connection broken by 'ReadTimeoutError(\"HTTPSConnectionPool(host='nominatim.openstreetmap.org', port=443): Read timed out. (read timeout=1)\")': /search?q=14200++SHADY+OAK+CT%2C+SANTA+CLARA+COUNTY%2C+CA&format=json&limit=1\n"
     ]
    },
    {
     "name": "stdout",
     "output_type": "stream",
     "text": [
      "NR: 410 \n",
      "411 200, San Bruno Avenue, Santa Clara County, California, 95037, United States: San Bruno Avenue, 95037\n"
     ]
    },
    {
     "name": "stderr",
     "output_type": "stream",
     "text": [
      "WARNING:urllib3.connectionpool:Retrying (Retry(total=1, connect=None, read=None, redirect=None, status=None)) after connection broken by 'ReadTimeoutError(\"HTTPSConnectionPool(host='nominatim.openstreetmap.org', port=443): Read timed out. (read timeout=1)\")': /search?q=10600++N+DE+ANZA+BLVD%2C+SANTA+CLARA+COUNTY%2C+CA&format=json&limit=1\n"
     ]
    },
    {
     "name": "stdout",
     "output_type": "stream",
     "text": [
      "\n",
      "412 10600, North De Anza Boulevard, Cupertino, Santa Clara County, California, 95014, United States: Cupertino, 95014\n",
      "\n",
      "413 Tasman Drive, Sunnyvale, Santa Clara County, California, 94089, United States: Sunnyvale, 94089\n"
     ]
    },
    {
     "name": "stderr",
     "output_type": "stream",
     "text": [
      "WARNING:urllib3.connectionpool:Retrying (Retry(total=1, connect=None, read=None, redirect=None, status=None)) after connection broken by 'ReadTimeoutError(\"HTTPSConnectionPool(host='nominatim.openstreetmap.org', port=443): Read timed out. (read timeout=1)\")': /search?q=1+++S+ABEL+ST%2C+SANTA+CLARA+COUNTY%2C+CA&format=json&limit=1\n"
     ]
    },
    {
     "name": "stdout",
     "output_type": "stream",
     "text": [
      "\n",
      "414 1, South Abel Street, Milpitas, Santa Clara County, CAL Fire Northern Region, California, 95035, United States: Milpitas, 95035\n",
      "\n",
      "415 13800, Ravenwood Drive, Saratoga, Santa Clara County, California, 95070, United States: Saratoga, 95070\n",
      "\n",
      "416 Cold Harbor Avenue, Rancho Rinconada, Cupertino, Santa Clara County, California, 95014, United States: Cupertino, 95014\n"
     ]
    },
    {
     "name": "stderr",
     "output_type": "stream",
     "text": [
      "WARNING:urllib3.connectionpool:Retrying (Retry(total=1, connect=None, read=None, redirect=None, status=None)) after connection broken by 'ReadTimeoutError(\"HTTPSConnectionPool(host='nominatim.openstreetmap.org', port=443): Read timed out. (read timeout=1)\")': /search?q=MONTEREY+HWY%2C+SANTA+CLARA+COUNTY%2C+CA&format=json&limit=1\n"
     ]
    },
    {
     "name": "stdout",
     "output_type": "stream",
     "text": [
      "\n",
      "417 Monterey Road, San Jose, Santa Clara County, CAL Fire Northern Region, California, 95111, United States: San Jose, 95111\n"
     ]
    },
    {
     "name": "stderr",
     "output_type": "stream",
     "text": [
      "WARNING:urllib3.connectionpool:Retrying (Retry(total=1, connect=None, read=None, redirect=None, status=None)) after connection broken by 'ReadTimeoutError(\"HTTPSConnectionPool(host='nominatim.openstreetmap.org', port=443): Read timed out. (read timeout=1)\")': /search?q=200+++SUISUN+DR%2C+SANTA+CLARA+COUNTY%2C+CA&format=json&limit=1\n"
     ]
    },
    {
     "name": "stdout",
     "output_type": "stream",
     "text": [
      "\n",
      "418 Suisun Drive, Rancho Rinconada, Cupertino, Santa Clara County, California, 95014, United States: Cupertino, 95014\n"
     ]
    },
    {
     "name": "stderr",
     "output_type": "stream",
     "text": [
      "WARNING:urllib3.connectionpool:Retrying (Retry(total=1, connect=None, read=None, redirect=None, status=None)) after connection broken by 'ReadTimeoutError(\"HTTPSConnectionPool(host='nominatim.openstreetmap.org', port=443): Read timed out. (read timeout=1)\")': /search?q=BEAT+UNIT%2C+SANTA+CLARA+COUNTY%2C+CA&format=json&limit=1\n",
      "WARNING:urllib3.connectionpool:Retrying (Retry(total=0, connect=None, read=None, redirect=None, status=None)) after connection broken by 'ReadTimeoutError(\"HTTPSConnectionPool(host='nominatim.openstreetmap.org', port=443): Read timed out. (read timeout=1)\")': /search?q=BEAT+UNIT%2C+SANTA+CLARA+COUNTY%2C+CA&format=json&limit=1\n",
      "ERROR:root:HTTPSConnectionPool(host='nominatim.openstreetmap.org', port=443): Max retries exceeded with url: /search?q=BEAT+UNIT%2C+SANTA+CLARA+COUNTY%2C+CA&format=json&limit=1 (Caused by ReadTimeoutError(\"HTTPSConnectionPool(host='nominatim.openstreetmap.org', port=443): Read timed out. (read timeout=1)\"))\n"
     ]
    },
    {
     "name": "stdout",
     "output_type": "stream",
     "text": [
      "NR: 419 \n",
      "420 1, West Alma Avenue, San Jose, Santa Clara County, California, 95110, United States: San Jose, 95110\n",
      "\n",
      "421 1, Boston Avenue, Rose Garden, San Jose, Santa Clara County, California, 95128, United States: San Jose, 95128\n"
     ]
    },
    {
     "name": "stderr",
     "output_type": "stream",
     "text": [
      "WARNING:urllib3.connectionpool:Retrying (Retry(total=1, connect=None, read=None, redirect=None, status=None)) after connection broken by 'ReadTimeoutError(\"HTTPSConnectionPool(host='nominatim.openstreetmap.org', port=443): Read timed out. (read timeout=1)\")': /search?q=1+++S+DE+ANZA+BLVD%2C+SANTA+CLARA+COUNTY%2C+CA&format=json&limit=1\n",
      "WARNING:urllib3.connectionpool:Retrying (Retry(total=0, connect=None, read=None, redirect=None, status=None)) after connection broken by 'ReadTimeoutError(\"HTTPSConnectionPool(host='nominatim.openstreetmap.org', port=443): Read timed out. (read timeout=1)\")': /search?q=1+++S+DE+ANZA+BLVD%2C+SANTA+CLARA+COUNTY%2C+CA&format=json&limit=1\n"
     ]
    },
    {
     "name": "stdout",
     "output_type": "stream",
     "text": [
      "\n",
      "422 South De Anza Boulevard, San Jose, Santa Clara County, CAL Fire Northern Region, California, 95014, United States: San Jose, 95014\n",
      "\n",
      "423 400, North White Road, Alum Rock, San Jose, Santa Clara County, CAL Fire Northern Region, California, 95127, United States: San Jose, 95127\n",
      "\n",
      "424 400, South Bascom Avenue, Rose Garden, San Jose, Santa Clara County, California, 95128, United States: San Jose, 95128\n"
     ]
    },
    {
     "name": "stderr",
     "output_type": "stream",
     "text": [
      "WARNING:urllib3.connectionpool:Retrying (Retry(total=1, connect=None, read=None, redirect=None, status=None)) after connection broken by 'ReadTimeoutError(\"HTTPSConnectionPool(host='nominatim.openstreetmap.org', port=443): Read timed out. (read timeout=1)\")': /search?q=100+++W+YOUNGER+AV%2C+SANTA+CLARA+COUNTY%2C+CA&format=json&limit=1\n"
     ]
    },
    {
     "name": "stdout",
     "output_type": "stream",
     "text": [
      "\n",
      "425 West Younger Avenue, Civic Center, Japantown, San Jose, Santa Clara County, California, 95110, United States: San Jose, 95110\n",
      "\n",
      "426 1400, Cristo Rey Drive, Cupertino, Santa Clara County, California, 94024, United States: Cupertino, 94024\n"
     ]
    },
    {
     "name": "stderr",
     "output_type": "stream",
     "text": [
      "WARNING:urllib3.connectionpool:Retrying (Retry(total=1, connect=None, read=None, redirect=None, status=None)) after connection broken by 'ReadTimeoutError(\"HTTPSConnectionPool(host='nominatim.openstreetmap.org', port=443): Read timed out. (read timeout=1)\")': /search?q=2700++FERGUSON+RD%2C+SANTA+CLARA+COUNTY%2C+CA&format=json&limit=1\n"
     ]
    },
    {
     "name": "stdout",
     "output_type": "stream",
     "text": [
      "\n",
      "427 2700, Ferguson Road, Santa Clara County, California, 95020, United States: Ferguson Road, 95020\n",
      "\n",
      "428 400, North White Road, Alum Rock, San Jose, Santa Clara County, CAL Fire Northern Region, California, 95127, United States: San Jose, 95127\n"
     ]
    },
    {
     "name": "stderr",
     "output_type": "stream",
     "text": [
      "WARNING:urllib3.connectionpool:Retrying (Retry(total=1, connect=None, read=None, redirect=None, status=None)) after connection broken by 'ReadTimeoutError(\"HTTPSConnectionPool(host='nominatim.openstreetmap.org', port=443): Read timed out. (read timeout=1)\")': /search?q=20000++MARIGNY+PL%2C+SANTA+CLARA+COUNTY%2C+CA&format=json&limit=1\n",
      "WARNING:urllib3.connectionpool:Retrying (Retry(total=0, connect=None, read=None, redirect=None, status=None)) after connection broken by 'ReadTimeoutError(\"HTTPSConnectionPool(host='nominatim.openstreetmap.org', port=443): Read timed out. (read timeout=1)\")': /search?q=20000++MARIGNY+PL%2C+SANTA+CLARA+COUNTY%2C+CA&format=json&limit=1\n",
      "ERROR:root:HTTPSConnectionPool(host='nominatim.openstreetmap.org', port=443): Max retries exceeded with url: /search?q=20000++MARIGNY+PL%2C+SANTA+CLARA+COUNTY%2C+CA&format=json&limit=1 (Caused by ReadTimeoutError(\"HTTPSConnectionPool(host='nominatim.openstreetmap.org', port=443): Read timed out. (read timeout=1)\"))\n"
     ]
    },
    {
     "name": "stdout",
     "output_type": "stream",
     "text": [
      "NR: 429 \n",
      "430 1, Monterey Road, Lonoke, Gilroy, Santa Clara County, California, 95020, United States: Gilroy, 95020\n",
      "\n",
      "431 100, East Tasman Drive, North San Jose, San Jose, Santa Clara County, CAL Fire Northern Region, California, 95134, United States: San Jose, 95134\n"
     ]
    },
    {
     "name": "stderr",
     "output_type": "stream",
     "text": [
      "WARNING:urllib3.connectionpool:Retrying (Retry(total=1, connect=None, read=None, redirect=None, status=None)) after connection broken by 'ReadTimeoutError(\"HTTPSConnectionPool(host='nominatim.openstreetmap.org', port=443): Read timed out. (read timeout=1)\")': /search?q=10100++VISTA+DR%2C+SANTA+CLARA+COUNTY%2C+CA&format=json&limit=1\n",
      "WARNING:urllib3.connectionpool:Retrying (Retry(total=0, connect=None, read=None, redirect=None, status=None)) after connection broken by 'ReadTimeoutError(\"HTTPSConnectionPool(host='nominatim.openstreetmap.org', port=443): Read timed out. (read timeout=1)\")': /search?q=10100++VISTA+DR%2C+SANTA+CLARA+COUNTY%2C+CA&format=json&limit=1\n",
      "ERROR:root:HTTPSConnectionPool(host='nominatim.openstreetmap.org', port=443): Max retries exceeded with url: /search?q=10100++VISTA+DR%2C+SANTA+CLARA+COUNTY%2C+CA&format=json&limit=1 (Caused by ReadTimeoutError(\"HTTPSConnectionPool(host='nominatim.openstreetmap.org', port=443): Read timed out. (read timeout=1)\"))\n"
     ]
    },
    {
     "name": "stdout",
     "output_type": "stream",
     "text": [
      "NR: 432 \n",
      "433 1, West Hedding Street, Civic Center, Japantown, San Jose, Santa Clara County, CAL Fire Northern Region, California, 95110, United States: San Jose, 95110\n",
      "\n",
      "434 11400, Clayton Road, San Jose, Santa Clara County, California, 95127, United States: San Jose, 95127\n",
      "\n",
      "435 Mount Hamilton Road, Santa Clara County, California, 95137, United States: Mount Hamilton Road, 95137\n"
     ]
    },
    {
     "name": "stderr",
     "output_type": "stream",
     "text": [
      "WARNING:urllib3.connectionpool:Retrying (Retry(total=1, connect=None, read=None, redirect=None, status=None)) after connection broken by 'ReadTimeoutError(\"HTTPSConnectionPool(host='nominatim.openstreetmap.org', port=443): Read timed out. (read timeout=1)\")': /search?q=1++W+HEDDING+ST%2C+SANTA+CLARA+COUNTY%2C+CA&format=json&limit=1\n"
     ]
    },
    {
     "name": "stdout",
     "output_type": "stream",
     "text": [
      "\n",
      "436 1, West Hedding Street, Civic Center, Japantown, San Jose, Santa Clara County, CAL Fire Northern Region, California, 95110, United States: San Jose, 95110\n",
      "\n",
      "437 800, Enborg Court, Santa Clara County, CAL Fire Northern Region, California, 95128, United States: Enborg Court, 95128\n"
     ]
    },
    {
     "name": "stderr",
     "output_type": "stream",
     "text": [
      "WARNING:urllib3.connectionpool:Retrying (Retry(total=1, connect=None, read=None, redirect=None, status=None)) after connection broken by 'ReadTimeoutError(\"HTTPSConnectionPool(host='nominatim.openstreetmap.org', port=443): Read timed out. (read timeout=1)\")': /search?q=14700++GYPSY+HILL+RD%2C+SANTA+CLARA+COUNTY%2C+CA&format=json&limit=1\n"
     ]
    },
    {
     "name": "stdout",
     "output_type": "stream",
     "text": [
      "\n",
      "438 14700, Gypsy Hill Road, Saratoga, Santa Clara County, California, 95070, United States: Saratoga, 95070\n"
     ]
    },
    {
     "name": "stderr",
     "output_type": "stream",
     "text": [
      "WARNING:urllib3.connectionpool:Retrying (Retry(total=1, connect=None, read=None, redirect=None, status=None)) after connection broken by 'ReadTimeoutError(\"HTTPSConnectionPool(host='nominatim.openstreetmap.org', port=443): Read timed out. (read timeout=1)\")': /search?q=14700++GYPSY+HILL+RD%2C+SANTA+CLARA+COUNTY%2C+CA&format=json&limit=1\n"
     ]
    },
    {
     "name": "stdout",
     "output_type": "stream",
     "text": [
      "\n",
      "439 14700, Gypsy Hill Road, Saratoga, Santa Clara County, California, 95070, United States: Saratoga, 95070\n",
      "\n",
      "440 10400, Serra Street, Cupertino, Santa Clara County, California, 95014, United States: Cupertino, 95014\n",
      "\n",
      "441 Montauk Drive, Saratoga, Santa Clara County, California, 95070, United States: Saratoga, 95070\n"
     ]
    },
    {
     "name": "stderr",
     "output_type": "stream",
     "text": [
      "WARNING:urllib3.connectionpool:Retrying (Retry(total=1, connect=None, read=None, redirect=None, status=None)) after connection broken by 'ReadTimeoutError(\"HTTPSConnectionPool(host='nominatim.openstreetmap.org', port=443): Read timed out. (read timeout=1)\")': /search?q=1+++TASMAN+DR%2C+SANTA+CLARA+COUNTY%2C+CA&format=json&limit=1\n"
     ]
    },
    {
     "name": "stdout",
     "output_type": "stream",
     "text": [
      "\n",
      "442 Tasman Drive, Sunnyvale, Santa Clara County, California, 94089, United States: Sunnyvale, 94089\n",
      "\n",
      "443 Miguelita Road, East Foothills, Santa Clara County, California, 95127, United States: East Foothills, 95127\n"
     ]
    },
    {
     "name": "stderr",
     "output_type": "stream",
     "text": [
      "WARNING:urllib3.connectionpool:Retrying (Retry(total=1, connect=None, read=None, redirect=None, status=None)) after connection broken by 'ReadTimeoutError(\"HTTPSConnectionPool(host='nominatim.openstreetmap.org', port=443): Read timed out. (read timeout=1)\")': /search?q=1+++5TH+AV%2C+SANTA+CLARA+COUNTY%2C+CA&format=json&limit=1\n"
     ]
    },
    {
     "name": "stdout",
     "output_type": "stream",
     "text": [
      "\n",
      "444 5th Avenue, Sunnyvale, Santa Clara County, California, 94035, United States: Sunnyvale, 94035\n",
      "\n",
      "445 Tully Road, San Jose, Santa Clara County, CAL Fire Northern Region, California, 95148, United States: San Jose, 95148\n",
      "\n",
      "446 Big Basin Way, Saratoga, Santa Clara County, California, 95070, United States: Saratoga, 95070\n"
     ]
    },
    {
     "name": "stderr",
     "output_type": "stream",
     "text": [
      "WARNING:urllib3.connectionpool:Retrying (Retry(total=1, connect=None, read=None, redirect=None, status=None)) after connection broken by 'ReadTimeoutError(\"HTTPSConnectionPool(host='nominatim.openstreetmap.org', port=443): Read timed out. (read timeout=1)\")': /search?q=S+2ND+ST%2C+SANTA+CLARA+COUNTY%2C+CA&format=json&limit=1\n"
     ]
    },
    {
     "name": "stdout",
     "output_type": "stream",
     "text": [
      "\n",
      "447 South 2nd Street, SoFA, San Jose, Santa Clara County, CAL Fire Northern Region, California, 95113, United States: San Jose, 95113\n",
      "\n",
      "448 Tasman Drive, Sunnyvale, Santa Clara County, California, 94089, United States: Sunnyvale, 94089\n"
     ]
    },
    {
     "name": "stderr",
     "output_type": "stream",
     "text": [
      "WARNING:urllib3.connectionpool:Retrying (Retry(total=1, connect=None, read=None, redirect=None, status=None)) after connection broken by 'ReadTimeoutError(\"HTTPSConnectionPool(host='nominatim.openstreetmap.org', port=443): Read timed out. (read timeout=1)\")': /search?q=1+++S+ABEL+ST%2C+SANTA+CLARA+COUNTY%2C+CA&format=json&limit=1\n"
     ]
    },
    {
     "name": "stdout",
     "output_type": "stream",
     "text": [
      "\n",
      "449 1, South Abel Street, Milpitas, Santa Clara County, CAL Fire Northern Region, California, 95035, United States: Milpitas, 95035\n"
     ]
    },
    {
     "name": "stderr",
     "output_type": "stream",
     "text": [
      "WARNING:urllib3.connectionpool:Retrying (Retry(total=1, connect=None, read=None, redirect=None, status=None)) after connection broken by 'ReadTimeoutError(\"HTTPSConnectionPool(host='nominatim.openstreetmap.org', port=443): Read timed out. (read timeout=1)\")': /search?q=14200++JUNIPER+LN%2C+SANTA+CLARA+COUNTY%2C+CA&format=json&limit=1\n"
     ]
    },
    {
     "name": "stdout",
     "output_type": "stream",
     "text": [
      "\n",
      "450 14200, Juniper Lane, Saratoga, Santa Clara County, California, 95070, United States: Saratoga, 95070\n",
      "\n",
      "451 13600, Howen Drive, Saratoga, Santa Clara County, California, 95070, United States: Saratoga, 95070\n"
     ]
    },
    {
     "name": "stderr",
     "output_type": "stream",
     "text": [
      "WARNING:urllib3.connectionpool:Retrying (Retry(total=1, connect=None, read=None, redirect=None, status=None)) after connection broken by 'ReadTimeoutError(\"HTTPSConnectionPool(host='nominatim.openstreetmap.org', port=443): Read timed out. (read timeout=1)\")': /search?q=10200++COLD+HARBOR+AV%2C+SANTA+CLARA+COUNTY%2C+CA&format=json&limit=1\n"
     ]
    },
    {
     "name": "stdout",
     "output_type": "stream",
     "text": [
      "\n",
      "452 10200, Cold Harbor Avenue, Rancho Rinconada, Cupertino, Santa Clara County, California, 95014, United States: Cupertino, 95014\n"
     ]
    },
    {
     "name": "stderr",
     "output_type": "stream",
     "text": [
      "WARNING:urllib3.connectionpool:Retrying (Retry(total=1, connect=None, read=None, redirect=None, status=None)) after connection broken by 'ReadTimeoutError(\"HTTPSConnectionPool(host='nominatim.openstreetmap.org', port=443): Read timed out. (read timeout=1)\")': /search?q=1+++TASMAN+DR%2C+SANTA+CLARA+COUNTY%2C+CA&format=json&limit=1\n"
     ]
    },
    {
     "name": "stdout",
     "output_type": "stream",
     "text": [
      "\n",
      "453 Tasman Drive, Sunnyvale, Santa Clara County, California, 94089, United States: Sunnyvale, 94089\n"
     ]
    },
    {
     "name": "stderr",
     "output_type": "stream",
     "text": [
      "WARNING:urllib3.connectionpool:Retrying (Retry(total=1, connect=None, read=None, redirect=None, status=None)) after connection broken by 'ReadTimeoutError(\"HTTPSConnectionPool(host='nominatim.openstreetmap.org', port=443): Read timed out. (read timeout=1)\")': /search?q=1+++S+ABEL+ST%2C+SANTA+CLARA+COUNTY%2C+CA&format=json&limit=1\n"
     ]
    },
    {
     "name": "stdout",
     "output_type": "stream",
     "text": [
      "\n",
      "454 1, South Abel Street, Milpitas, Santa Clara County, CAL Fire Northern Region, California, 95035, United States: Milpitas, 95035\n",
      "\n",
      "455 1, West Hedding Street, Civic Center, Japantown, San Jose, Santa Clara County, CAL Fire Northern Region, California, 95110, United States: San Jose, 95110\n",
      "\n",
      "456 19300, Monte Vista Drive, Saratoga, Santa Clara County, California, 95070, United States: Saratoga, 95070\n",
      "\n",
      "457 10700, Peninsular Avenue, Cupertino, Santa Clara County, California, 95014, United States: Cupertino, 95014\n"
     ]
    },
    {
     "name": "stderr",
     "output_type": "stream",
     "text": [
      "WARNING:urllib3.connectionpool:Retrying (Retry(total=1, connect=None, read=None, redirect=None, status=None)) after connection broken by 'ReadTimeoutError(\"HTTPSConnectionPool(host='nominatim.openstreetmap.org', port=443): Read timed out. (read timeout=1)\")': /search?q=FY+280%2C+SANTA+CLARA+COUNTY%2C+CA&format=json&limit=1\n"
     ]
    },
    {
     "name": "stdout",
     "output_type": "stream",
     "text": [
      "NR: 458 \n",
      "459 La Mar Drive, Rancho Rinconada, Cupertino, Santa Clara County, California, 95014, United States: Cupertino, 95014\n"
     ]
    },
    {
     "name": "stderr",
     "output_type": "stream",
     "text": [
      "WARNING:urllib3.connectionpool:Retrying (Retry(total=1, connect=None, read=None, redirect=None, status=None)) after connection broken by 'ReadTimeoutError(\"HTTPSConnectionPool(host='nominatim.openstreetmap.org', port=443): Read timed out. (read timeout=1)\")': /search?q=1+++W+HEDDING+ST%2C+SANTA+CLARA+COUNTY%2C+CA&format=json&limit=1\n"
     ]
    },
    {
     "name": "stdout",
     "output_type": "stream",
     "text": [
      "\n",
      "460 1, West Hedding Street, Civic Center, Japantown, San Jose, Santa Clara County, CAL Fire Northern Region, California, 95110, United States: San Jose, 95110\n",
      "\n",
      "461 1, Manning Avenue, Alum Rock, San Jose, Santa Clara County, California, 95127, United States: San Jose, 95127\n",
      "\n",
      "462 26800, Ortega Drive, Los Altos Hills, Santa Clara County, California, 94022, United States: Los Altos Hills, 94022\n"
     ]
    },
    {
     "name": "stderr",
     "output_type": "stream",
     "text": [
      "WARNING:urllib3.connectionpool:Retrying (Retry(total=1, connect=None, read=None, redirect=None, status=None)) after connection broken by 'ReadTimeoutError(\"HTTPSConnectionPool(host='nominatim.openstreetmap.org', port=443): Read timed out. (read timeout=1)\")': /search?q=FOOTHILL+EXPY%2C+SANTA+CLARA+COUNTY%2C+CA&format=json&limit=1\n"
     ]
    },
    {
     "name": "stdout",
     "output_type": "stream",
     "text": [
      "\n",
      "463 Foothill Expressway, Palo Alto, Santa Clara County, California, 94022, United States: Palo Alto, 94022\n"
     ]
    },
    {
     "name": "stderr",
     "output_type": "stream",
     "text": [
      "WARNING:urllib3.connectionpool:Retrying (Retry(total=1, connect=None, read=None, redirect=None, status=None)) after connection broken by 'ReadTimeoutError(\"HTTPSConnectionPool(host='nominatim.openstreetmap.org', port=443): Read timed out. (read timeout=1)\")': /search?q=10200++MEADOW+LN%2C+SANTA+CLARA+COUNTY%2C+CA&format=json&limit=1\n"
     ]
    },
    {
     "name": "stdout",
     "output_type": "stream",
     "text": [
      "\n",
      "464 10200, Meadow Lane, Alum Rock, San Jose, Santa Clara County, California, 95127, United States: San Jose, 95127\n",
      "\n",
      "465 Coyote Hill Road, Palo Alto, Santa Clara County, California, 94304, United States: Palo Alto, 94304\n",
      "\n",
      "466 27800, Fawn Creek Court, Los Altos Hills, Santa Clara County, California, 94022, United States: Los Altos Hills, 94022\n",
      "\n",
      "467 Kruse Drive, North San Jose, San Jose, Santa Clara County, California, 95031, United States: San Jose, 95031\n"
     ]
    },
    {
     "name": "stderr",
     "output_type": "stream",
     "text": [
      "WARNING:urllib3.connectionpool:Retrying (Retry(total=1, connect=None, read=None, redirect=None, status=None)) after connection broken by 'ReadTimeoutError(\"HTTPSConnectionPool(host='nominatim.openstreetmap.org', port=443): Read timed out. (read timeout=1)\")': /search?q=100+++W+YOUNGER+AV%2C+SANTA+CLARA+COUNTY%2C+CA&format=json&limit=1\n"
     ]
    },
    {
     "name": "stdout",
     "output_type": "stream",
     "text": [
      "\n",
      "468 West Younger Avenue, Civic Center, Japantown, San Jose, Santa Clara County, California, 95110, United States: San Jose, 95110\n",
      "\n",
      "469 10700, Peninsular Avenue, Cupertino, Santa Clara County, California, 95014, United States: Cupertino, 95014\n"
     ]
    },
    {
     "name": "stderr",
     "output_type": "stream",
     "text": [
      "WARNING:urllib3.connectionpool:Retrying (Retry(total=1, connect=None, read=None, redirect=None, status=None)) after connection broken by 'ReadTimeoutError(\"HTTPSConnectionPool(host='nominatim.openstreetmap.org', port=443): Read timed out. (read timeout=1)\")': /search?q=10900++N+STELLING+RD%2C+SANTA+CLARA+COUNTY%2C+CA&format=json&limit=1\n"
     ]
    },
    {
     "name": "stdout",
     "output_type": "stream",
     "text": [
      "\n",
      "470 North Stelling Road, Cupertino, Santa Clara County, California, 95014, United States: Cupertino, 95014\n",
      "\n",
      "471 1500, East San Martin Avenue, San Martin, Santa Clara County, California, 95046, United States: San Martin, 95046\n",
      "\n",
      "472 19300, Vendura Court, Saratoga, Santa Clara County, California, 95070, United States: Saratoga, 95070\n"
     ]
    },
    {
     "name": "stderr",
     "output_type": "stream",
     "text": [
      "WARNING:urllib3.connectionpool:Retrying (Retry(total=1, connect=None, read=None, redirect=None, status=None)) after connection broken by 'ReadTimeoutError(\"HTTPSConnectionPool(host='nominatim.openstreetmap.org', port=443): Read timed out. (read timeout=1)\")': /search?q=SCOTT+ST%2C+SANTA+CLARA+COUNTY%2C+CA&format=json&limit=1\n"
     ]
    },
    {
     "name": "stdout",
     "output_type": "stream",
     "text": [
      "\n",
      "473 Scott Street, Buena Vista, San Jose, Santa Clara County, CAL Fire Northern Region, California, 95126, United States: San Jose, 95126\n",
      "\n",
      "474 19500, Pruneridge Avenue, Cupertino, Santa Clara County, California, 95014, United States: Cupertino, 95014\n"
     ]
    },
    {
     "name": "stderr",
     "output_type": "stream",
     "text": [
      "WARNING:urllib3.connectionpool:Retrying (Retry(total=1, connect=None, read=None, redirect=None, status=None)) after connection broken by 'ReadTimeoutError(\"HTTPSConnectionPool(host='nominatim.openstreetmap.org', port=443): Read timed out. (read timeout=1)\")': /search?q=1++%2C+SANTA+CLARA+COUNTY%2C+CA&format=json&limit=1\n",
      "WARNING:urllib3.connectionpool:Retrying (Retry(total=0, connect=None, read=None, redirect=None, status=None)) after connection broken by 'ReadTimeoutError(\"HTTPSConnectionPool(host='nominatim.openstreetmap.org', port=443): Read timed out. (read timeout=1)\")': /search?q=1++%2C+SANTA+CLARA+COUNTY%2C+CA&format=json&limit=1\n",
      "ERROR:root:HTTPSConnectionPool(host='nominatim.openstreetmap.org', port=443): Max retries exceeded with url: /search?q=1++%2C+SANTA+CLARA+COUNTY%2C+CA&format=json&limit=1 (Caused by ReadTimeoutError(\"HTTPSConnectionPool(host='nominatim.openstreetmap.org', port=443): Read timed out. (read timeout=1)\"))\n"
     ]
    },
    {
     "name": "stdout",
     "output_type": "stream",
     "text": [
      "NR: 475 \n",
      "476 10500, Johnson Avenue, Rancho Rinconada, Cupertino, Santa Clara County, California, 95014, United States: Cupertino, 95014\n",
      "\n",
      "477 Mission College, 3000, Mission College Boulevard, Santa Clara, Santa Clara County, California, 95054, United States: Santa Clara, 95054\n",
      "\n",
      "478 South De Anza Boulevard, San Jose, Santa Clara County, CAL Fire Northern Region, California, 95014, United States: San Jose, 95014\n"
     ]
    },
    {
     "name": "stderr",
     "output_type": "stream",
     "text": [
      "WARNING:urllib3.connectionpool:Retrying (Retry(total=1, connect=None, read=None, redirect=None, status=None)) after connection broken by 'ReadTimeoutError(\"HTTPSConnectionPool(host='nominatim.openstreetmap.org', port=443): Read timed out. (read timeout=1)\")': /search?q=100+++HIGHLAND+AV%2C+SANTA+CLARA+COUNTY%2C+CA&format=json&limit=1\n"
     ]
    },
    {
     "name": "stdout",
     "output_type": "stream",
     "text": [
      "\n",
      "479 100, Highland Avenue, Los Gatos, Santa Clara County, California, 95030, United States: Los Gatos, 95030\n",
      "\n",
      "480 19300, Vendura Court, Saratoga, Santa Clara County, California, 95070, United States: Saratoga, 95070\n"
     ]
    },
    {
     "name": "stderr",
     "output_type": "stream",
     "text": [
      "WARNING:urllib3.connectionpool:Retrying (Retry(total=1, connect=None, read=None, redirect=None, status=None)) after connection broken by 'ReadTimeoutError(\"HTTPSConnectionPool(host='nominatim.openstreetmap.org', port=443): Read timed out. (read timeout=1)\")': /search?q=14600++FIELDSTONE+DR%2C+SANTA+CLARA+COUNTY%2C+CA&format=json&limit=1\n",
      "WARNING:urllib3.connectionpool:Retrying (Retry(total=0, connect=None, read=None, redirect=None, status=None)) after connection broken by 'NewConnectionError('<urllib3.connection.HTTPSConnection object at 0x7f1090360c40>: Failed to establish a new connection: [Errno 101] Network is unreachable')': /search?q=14600++FIELDSTONE+DR%2C+SANTA+CLARA+COUNTY%2C+CA&format=json&limit=1\n"
     ]
    },
    {
     "name": "stdout",
     "output_type": "stream",
     "text": [
      "\n",
      "481 14600, Fieldstone Drive, Saratoga, Santa Clara County, California, 95070, United States: Saratoga, 95070\n"
     ]
    },
    {
     "name": "stderr",
     "output_type": "stream",
     "text": [
      "WARNING:urllib3.connectionpool:Retrying (Retry(total=1, connect=None, read=None, redirect=None, status=None)) after connection broken by 'ReadTimeoutError(\"HTTPSConnectionPool(host='nominatim.openstreetmap.org', port=443): Read timed out. (read timeout=1)\")': /search?q=STEVENS+CREEK+BLVD%2C+SANTA+CLARA+COUNTY%2C+CA&format=json&limit=1\n"
     ]
    },
    {
     "name": "stdout",
     "output_type": "stream",
     "text": [
      "\n",
      "482 Stevens Creek Boulevard, Cupertino, Santa Clara County, CAL Fire Northern Region, California, 95014, United States: Cupertino, 95014\n",
      "\n",
      "483 24200, Hillview Road, Los Altos Hills, Santa Clara County, California, 94024, United States: Los Altos Hills, 94024\n",
      "\n",
      "484 19100, Brookhaven Drive, Saratoga, Santa Clara County, California, 95070, United States: Saratoga, 95070\n",
      "\n",
      "485 18800, Bellgrove Circle, Saratoga, Santa Clara County, California, 95070, United States: Saratoga, 95070\n"
     ]
    },
    {
     "name": "stderr",
     "output_type": "stream",
     "text": [
      "WARNING:urllib3.connectionpool:Retrying (Retry(total=1, connect=None, read=None, redirect=None, status=None)) after connection broken by 'ReadTimeoutError(\"HTTPSConnectionPool(host='nominatim.openstreetmap.org', port=443): Read timed out. (read timeout=1)\")': /search?q=400++LELAND+AV%2C+SANTA+CLARA+COUNTY%2C+CA&format=json&limit=1\n",
      "WARNING:urllib3.connectionpool:Retrying (Retry(total=0, connect=None, read=None, redirect=None, status=None)) after connection broken by 'ReadTimeoutError(\"HTTPSConnectionPool(host='nominatim.openstreetmap.org', port=443): Read timed out. (read timeout=1)\")': /search?q=400++LELAND+AV%2C+SANTA+CLARA+COUNTY%2C+CA&format=json&limit=1\n",
      "ERROR:root:HTTPSConnectionPool(host='nominatim.openstreetmap.org', port=443): Max retries exceeded with url: /search?q=400++LELAND+AV%2C+SANTA+CLARA+COUNTY%2C+CA&format=json&limit=1 (Caused by NewConnectionError('<urllib3.connection.HTTPSConnection object at 0x7f10905a2b60>: Failed to establish a new connection: [Errno 101] Network is unreachable'))\n"
     ]
    },
    {
     "name": "stdout",
     "output_type": "stream",
     "text": [
      "NR: 486 \n",
      "487 10100, Torre Avenue, Cupertino, Santa Clara County, California, 95014, United States: Cupertino, 95014\n",
      "\n",
      "488 14100, Foothill Avenue, San Martin, Santa Clara County, California, 95046, United States: San Martin, 95046\n"
     ]
    },
    {
     "name": "stderr",
     "output_type": "stream",
     "text": [
      "WARNING:urllib3.connectionpool:Retrying (Retry(total=1, connect=None, read=None, redirect=None, status=None)) after connection broken by 'ReadTimeoutError(\"HTTPSConnectionPool(host='nominatim.openstreetmap.org', port=443): Read timed out. (read timeout=1)\")': /search?q=1800++W+SAN+CARLOS+ST%2C+SANTA+CLARA+COUNTY%2C+CA&format=json&limit=1\n"
     ]
    },
    {
     "name": "stdout",
     "output_type": "stream",
     "text": [
      "\n",
      "489 1800, West San Carlos Street, Buena Vista, San Jose, Santa Clara County, California, 95128, United States: San Jose, 95128\n",
      "\n",
      "490 1, Manning Avenue, Alum Rock, San Jose, Santa Clara County, California, 95127, United States: San Jose, 95127\n"
     ]
    },
    {
     "name": "stderr",
     "output_type": "stream",
     "text": [
      "WARNING:urllib3.connectionpool:Retrying (Retry(total=1, connect=None, read=None, redirect=None, status=None)) after connection broken by 'ReadTimeoutError(\"HTTPSConnectionPool(host='nominatim.openstreetmap.org', port=443): Read timed out. (read timeout=1)\")': /search?q=19200++STEVENS+CREEK+BLVD%2C+SANTA+CLARA+COUNTY%2C+CA&format=json&limit=1\n"
     ]
    },
    {
     "name": "stdout",
     "output_type": "stream",
     "text": [
      "\n",
      "491 19200, Stevens Creek Boulevard, Cupertino, Santa Clara County, CAL Fire Northern Region, California, 95014, United States: Cupertino, 95014\n",
      "\n",
      "492 Cupertino City Hall, 10300, Torre Avenue, Cupertino, Santa Clara County, California, 95014, United States: Cupertino, 95014\n",
      "\n",
      "493 Cupertino City Hall, 10300, Torre Avenue, Cupertino, Santa Clara County, California, 95014, United States: Cupertino, 95014\n"
     ]
    },
    {
     "name": "stderr",
     "output_type": "stream",
     "text": [
      "WARNING:urllib3.connectionpool:Retrying (Retry(total=1, connect=None, read=None, redirect=None, status=None)) after connection broken by 'ReadTimeoutError(\"HTTPSConnectionPool(host='nominatim.openstreetmap.org', port=443): Read timed out. (read timeout=1)\")': /search?q=20200++EDINBURGH+DR%2C+SANTA+CLARA+COUNTY%2C+CA&format=json&limit=1\n"
     ]
    },
    {
     "name": "stdout",
     "output_type": "stream",
     "text": [
      "\n",
      "494 20200, Edinburgh Drive, Saratoga, Santa Clara County, California, 95070, United States: Saratoga, 95070\n",
      "\n",
      "495 Cupertino City Hall, 10300, Torre Avenue, Cupertino, Santa Clara County, California, 95014, United States: Cupertino, 95014\n"
     ]
    },
    {
     "name": "stderr",
     "output_type": "stream",
     "text": [
      "WARNING:urllib3.connectionpool:Retrying (Retry(total=1, connect=None, read=None, redirect=None, status=None)) after connection broken by 'ReadTimeoutError(\"HTTPSConnectionPool(host='nominatim.openstreetmap.org', port=443): Read timed out. (read timeout=1)\")': /search?q=10300++TORRE+AV%2C+SANTA+CLARA+COUNTY%2C+CA&format=json&limit=1\n"
     ]
    },
    {
     "name": "stdout",
     "output_type": "stream",
     "text": [
      "\n",
      "496 Cupertino City Hall, 10300, Torre Avenue, Cupertino, Santa Clara County, California, 95014, United States: Cupertino, 95014\n"
     ]
    },
    {
     "name": "stderr",
     "output_type": "stream",
     "text": [
      "WARNING:urllib3.connectionpool:Retrying (Retry(total=1, connect=None, read=None, redirect=None, status=None)) after connection broken by 'ReadTimeoutError(\"HTTPSConnectionPool(host='nominatim.openstreetmap.org', port=443): Read timed out. (read timeout=1)\")': /search?q=W+CAPITOL+EXPY%2C+SANTA+CLARA+COUNTY%2C+CA&format=json&limit=1\n"
     ]
    },
    {
     "name": "stdout",
     "output_type": "stream",
     "text": [
      "\n",
      "497 West Capitol Expressway, San Jose, Santa Clara County, CAL Fire Northern Region, California, 95136, United States: San Jose, 95136\n",
      "\n",
      "498 Manning Avenue, Alum Rock, San Jose, Santa Clara County, California, 95127, United States: San Jose, 95127\n",
      "\n",
      "499 10400, Glenview Avenue, Rancho Rinconada, Cupertino, Santa Clara County, California, 95014, United States: Cupertino, 95014\n"
     ]
    },
    {
     "name": "stderr",
     "output_type": "stream",
     "text": [
      "WARNING:urllib3.connectionpool:Retrying (Retry(total=1, connect=None, read=None, redirect=None, status=None)) after connection broken by 'ReadTimeoutError(\"HTTPSConnectionPool(host='nominatim.openstreetmap.org', port=443): Read timed out. (read timeout=1)\")': /search?q=1+++S+ABEL+ST%2C+SANTA+CLARA+COUNTY%2C+CA&format=json&limit=1\n"
     ]
    },
    {
     "name": "stdout",
     "output_type": "stream",
     "text": [
      "\n",
      "500 1, South Abel Street, Milpitas, Santa Clara County, CAL Fire Northern Region, California, 95035, United States: Milpitas, 95035\n"
     ]
    },
    {
     "name": "stderr",
     "output_type": "stream",
     "text": [
      "WARNING:urllib3.connectionpool:Retrying (Retry(total=1, connect=None, read=None, redirect=None, status=None)) after connection broken by 'ReadTimeoutError(\"HTTPSConnectionPool(host='nominatim.openstreetmap.org', port=443): Read timed out. (read timeout=1)\")': /search?q=1+++S+7TH+ST%2C+SANTA+CLARA+COUNTY%2C+CA&format=json&limit=1\n"
     ]
    },
    {
     "name": "stdout",
     "output_type": "stream",
     "text": [
      "NR: 501 "
     ]
    },
    {
     "name": "stderr",
     "output_type": "stream",
     "text": [
      "WARNING:urllib3.connectionpool:Retrying (Retry(total=1, connect=None, read=None, redirect=None, status=None)) after connection broken by 'ReadTimeoutError(\"HTTPSConnectionPool(host='nominatim.openstreetmap.org', port=443): Read timed out. (read timeout=1)\")': /search?q=1+++N+1ST+ST%2C+SANTA+CLARA+COUNTY%2C+CA&format=json&limit=1\n"
     ]
    },
    {
     "name": "stdout",
     "output_type": "stream",
     "text": [
      "\n",
      "502 1, North 1st Street, Saint James Square Historic District, Japantown, San Jose, Santa Clara County, CAL Fire Northern Region, California, 95113, United States: San Jose, 95113\n",
      "\n",
      "503 1, South Abel Street, Milpitas, Santa Clara County, CAL Fire Northern Region, California, 95035, United States: Milpitas, 95035\n",
      "\n",
      "504 18900, Arata Way, Rancho Rinconada, Cupertino, Santa Clara County, California, 95014, United States: Cupertino, 95014\n"
     ]
    },
    {
     "name": "stderr",
     "output_type": "stream",
     "text": [
      "WARNING:urllib3.connectionpool:Retrying (Retry(total=1, connect=None, read=None, redirect=None, status=None)) after connection broken by 'ReadTimeoutError(\"HTTPSConnectionPool(host='nominatim.openstreetmap.org', port=443): Read timed out. (read timeout=1)\")': /search?q=1+++S+ABEL+ST%2C+SANTA+CLARA+COUNTY%2C+CA&format=json&limit=1\n"
     ]
    },
    {
     "name": "stdout",
     "output_type": "stream",
     "text": [
      "\n",
      "505 1, South Abel Street, Milpitas, Santa Clara County, CAL Fire Northern Region, California, 95035, United States: Milpitas, 95035\n"
     ]
    },
    {
     "name": "stderr",
     "output_type": "stream",
     "text": [
      "WARNING:urllib3.connectionpool:Retrying (Retry(total=1, connect=None, read=None, redirect=None, status=None)) after connection broken by 'ReadTimeoutError(\"HTTPSConnectionPool(host='nominatim.openstreetmap.org', port=443): Read timed out. (read timeout=1)\")': /search?q=100+++STEVENS+CREEK+BLVD%2C+SANTA+CLARA+COUNTY%2C+CA&format=json&limit=1\n"
     ]
    },
    {
     "name": "stdout",
     "output_type": "stream",
     "text": [
      "\n",
      "506 Stevens Creek Boulevard, Cupertino, Santa Clara County, CAL Fire Northern Region, California, 95014, United States: Cupertino, 95014\n",
      "\n",
      "507 2300, Rockwood Ranch Road, Santa Clara County, California, 95037, United States: Rockwood Ranch Road, 95037\n"
     ]
    },
    {
     "name": "stderr",
     "output_type": "stream",
     "text": [
      "WARNING:urllib3.connectionpool:Retrying (Retry(total=1, connect=None, read=None, redirect=None, status=None)) after connection broken by 'ReadTimeoutError(\"HTTPSConnectionPool(host='nominatim.openstreetmap.org', port=443): Read timed out. (read timeout=1)\")': /search?q=1+++S+ABEL+ST%2C+SANTA+CLARA+COUNTY%2C+CA&format=json&limit=1\n"
     ]
    },
    {
     "name": "stdout",
     "output_type": "stream",
     "text": [
      "\n",
      "508 1, South Abel Street, Milpitas, Santa Clara County, CAL Fire Northern Region, California, 95035, United States: Milpitas, 95035\n"
     ]
    },
    {
     "name": "stderr",
     "output_type": "stream",
     "text": [
      "WARNING:urllib3.connectionpool:Retrying (Retry(total=1, connect=None, read=None, redirect=None, status=None)) after connection broken by 'ReadTimeoutError(\"HTTPSConnectionPool(host='nominatim.openstreetmap.org', port=443): Read timed out. (read timeout=1)\")': /search?q=1+++CASTRO+ST%2C+SANTA+CLARA+COUNTY%2C+CA&format=json&limit=1\n",
      "WARNING:urllib3.connectionpool:Retrying (Retry(total=0, connect=None, read=None, redirect=None, status=None)) after connection broken by 'ReadTimeoutError(\"HTTPSConnectionPool(host='nominatim.openstreetmap.org', port=443): Read timed out. (read timeout=1)\")': /search?q=1+++CASTRO+ST%2C+SANTA+CLARA+COUNTY%2C+CA&format=json&limit=1\n",
      "ERROR:root:HTTPSConnectionPool(host='nominatim.openstreetmap.org', port=443): Max retries exceeded with url: /search?q=1+++CASTRO+ST%2C+SANTA+CLARA+COUNTY%2C+CA&format=json&limit=1 (Caused by ReadTimeoutError(\"HTTPSConnectionPool(host='nominatim.openstreetmap.org', port=443): Read timed out. (read timeout=1)\"))\n"
     ]
    },
    {
     "name": "stdout",
     "output_type": "stream",
     "text": [
      "NR: 509 \n",
      "510 Laswell Avenue, Rose Garden, San Jose, Santa Clara County, California, 95128, United States: San Jose, 95128\n"
     ]
    },
    {
     "name": "stderr",
     "output_type": "stream",
     "text": [
      "WARNING:urllib3.connectionpool:Retrying (Retry(total=1, connect=None, read=None, redirect=None, status=None)) after connection broken by 'ReadTimeoutError(\"HTTPSConnectionPool(host='nominatim.openstreetmap.org', port=443): Read timed out. (read timeout=1)\")': /search?q=1+++CURTNER+AV%2C+SANTA+CLARA+COUNTY%2C+CA&format=json&limit=1\n"
     ]
    },
    {
     "name": "stdout",
     "output_type": "stream",
     "text": [
      "\n",
      "511 Subway, 1, Curtner Avenue, San Jose, Santa Clara County, CAL Fire Northern Region, California, 95125, United States: San Jose, 95125\n"
     ]
    },
    {
     "name": "stderr",
     "output_type": "stream",
     "text": [
      "WARNING:urllib3.connectionpool:Retrying (Retry(total=1, connect=None, read=None, redirect=None, status=None)) after connection broken by 'ReadTimeoutError(\"HTTPSConnectionPool(host='nominatim.openstreetmap.org', port=443): Read timed out. (read timeout=1)\")': /search?q=1+++S+7TH+ST%2C+SANTA+CLARA+COUNTY%2C+CA&format=json&limit=1\n"
     ]
    },
    {
     "name": "stdout",
     "output_type": "stream",
     "text": [
      "NR: 512 "
     ]
    },
    {
     "name": "stderr",
     "output_type": "stream",
     "text": [
      "WARNING:urllib3.connectionpool:Retrying (Retry(total=1, connect=None, read=None, redirect=None, status=None)) after connection broken by 'ReadTimeoutError(\"HTTPSConnectionPool(host='nominatim.openstreetmap.org', port=443): Read timed out. (read timeout=1)\")': /search?q=1+++W+TASMAN+DR%2C+SANTA+CLARA+COUNTY%2C+CA&format=json&limit=1\n"
     ]
    },
    {
     "name": "stdout",
     "output_type": "stream",
     "text": [
      "\n",
      "513 1, West Tasman Drive, North San Jose, San Jose, Santa Clara County, CAL Fire Northern Region, California, 95134, United States: San Jose, 95134\n",
      "\n",
      "514 7600, Hollanderry Place, Seven Springs, Cupertino, Santa Clara County, California, 95014, United States: Cupertino, 95014\n"
     ]
    },
    {
     "name": "stderr",
     "output_type": "stream",
     "text": [
      "WARNING:urllib3.connectionpool:Retrying (Retry(total=1, connect=None, read=None, redirect=None, status=None)) after connection broken by 'ReadTimeoutError(\"HTTPSConnectionPool(host='nominatim.openstreetmap.org', port=443): Read timed out. (read timeout=1)\")': /search?q=HECKER+PASS+HWY%2C+SANTA+CLARA+COUNTY%2C+CA&format=json&limit=1\n"
     ]
    },
    {
     "name": "stdout",
     "output_type": "stream",
     "text": [
      "\n",
      "515 Hecker Pass Highway, Santa Clara County, California, United States: Hecker Pass Highway, California\n"
     ]
    },
    {
     "name": "stderr",
     "output_type": "stream",
     "text": [
      "WARNING:urllib3.connectionpool:Retrying (Retry(total=1, connect=None, read=None, redirect=None, status=None)) after connection broken by 'ReadTimeoutError(\"HTTPSConnectionPool(host='nominatim.openstreetmap.org', port=443): Read timed out. (read timeout=1)\")': /search?q=1+++S+STELLING+RD%2C+SANTA+CLARA+COUNTY%2C+CA&format=json&limit=1\n"
     ]
    },
    {
     "name": "stdout",
     "output_type": "stream",
     "text": [
      "\n",
      "516 South Stelling Road, Cupertino, Santa Clara County, California, 95014, United States: Cupertino, 95014\n",
      "\n",
      "517 Dana Avenue, Buena Vista, San Jose, Santa Clara County, CAL Fire Northern Region, California, 95126, United States: San Jose, 95126\n",
      "\n",
      "518 1, West Hedding Street, Civic Center, Japantown, San Jose, Santa Clara County, CAL Fire Northern Region, California, 95110, United States: San Jose, 95110\n",
      "\n",
      "519 Olive Avenue, Rose Garden, San Jose, Santa Clara County, California, 95128, United States: San Jose, 95128\n",
      "\n",
      "520 South Bascom Avenue, San Jose, Santa Clara County, California, 95032, United States: San Jose, 95032\n"
     ]
    },
    {
     "name": "stderr",
     "output_type": "stream",
     "text": [
      "WARNING:urllib3.connectionpool:Retrying (Retry(total=1, connect=None, read=None, redirect=None, status=None)) after connection broken by 'ReadTimeoutError(\"HTTPSConnectionPool(host='nominatim.openstreetmap.org', port=443): Read timed out. (read timeout=1)\")': /search?q=STEVENS+CREEK+BLVD%2C+SANTA+CLARA+COUNTY%2C+CA&format=json&limit=1\n"
     ]
    },
    {
     "name": "stdout",
     "output_type": "stream",
     "text": [
      "\n",
      "521 Stevens Creek Boulevard, Cupertino, Santa Clara County, CAL Fire Northern Region, California, 95014, United States: Cupertino, 95014\n"
     ]
    },
    {
     "name": "stderr",
     "output_type": "stream",
     "text": [
      "WARNING:urllib3.connectionpool:Retrying (Retry(total=1, connect=None, read=None, redirect=None, status=None)) after connection broken by 'ReadTimeoutError(\"HTTPSConnectionPool(host='nominatim.openstreetmap.org', port=443): Read timed out. (read timeout=1)\")': /search?q=OLIVE+AV%2C+SANTA+CLARA+COUNTY%2C+CA&format=json&limit=1\n"
     ]
    },
    {
     "name": "stdout",
     "output_type": "stream",
     "text": [
      "\n",
      "522 Olive Avenue, Rose Garden, San Jose, Santa Clara County, California, 95128, United States: San Jose, 95128\n"
     ]
    },
    {
     "name": "stderr",
     "output_type": "stream",
     "text": [
      "WARNING:urllib3.connectionpool:Retrying (Retry(total=1, connect=None, read=None, redirect=None, status=None)) after connection broken by 'ReadTimeoutError(\"HTTPSConnectionPool(host='nominatim.openstreetmap.org', port=443): Read timed out. (read timeout=1)\")': /search?q=13400++MONTEREY+HWY%2C+SANTA+CLARA+COUNTY%2C+CA&format=json&limit=1\n"
     ]
    },
    {
     "name": "stdout",
     "output_type": "stream",
     "text": [
      "\n",
      "523 Monterey Road, San Jose, Santa Clara County, CAL Fire Northern Region, California, 95111, United States: San Jose, 95111\n",
      "\n",
      "524 South De Anza Boulevard, San Jose, Santa Clara County, CAL Fire Northern Region, California, 95014, United States: San Jose, 95014\n"
     ]
    },
    {
     "name": "stderr",
     "output_type": "stream",
     "text": [
      "WARNING:urllib3.connectionpool:Retrying (Retry(total=1, connect=None, read=None, redirect=None, status=None)) after connection broken by 'ReadTimeoutError(\"HTTPSConnectionPool(host='nominatim.openstreetmap.org', port=443): Read timed out. (read timeout=1)\")': /search?q=HWY+9%2C+SANTA+CLARA+COUNTY%2C+CA&format=json&limit=1\n",
      "WARNING:urllib3.connectionpool:Retrying (Retry(total=0, connect=None, read=None, redirect=None, status=None)) after connection broken by 'ReadTimeoutError(\"HTTPSConnectionPool(host='nominatim.openstreetmap.org', port=443): Read timed out. (read timeout=1)\")': /search?q=HWY+9%2C+SANTA+CLARA+COUNTY%2C+CA&format=json&limit=1\n",
      "ERROR:root:HTTPSConnectionPool(host='nominatim.openstreetmap.org', port=443): Max retries exceeded with url: /search?q=HWY+9%2C+SANTA+CLARA+COUNTY%2C+CA&format=json&limit=1 (Caused by ReadTimeoutError(\"HTTPSConnectionPool(host='nominatim.openstreetmap.org', port=443): Read timed out. (read timeout=1)\"))\n"
     ]
    },
    {
     "name": "stdout",
     "output_type": "stream",
     "text": [
      "NR: 525 \n",
      "526 200, San Bruno Avenue, Santa Clara County, California, 95037, United States: San Bruno Avenue, 95037\n"
     ]
    },
    {
     "name": "stderr",
     "output_type": "stream",
     "text": [
      "WARNING:urllib3.connectionpool:Retrying (Retry(total=1, connect=None, read=None, redirect=None, status=None)) after connection broken by 'ReadTimeoutError(\"HTTPSConnectionPool(host='nominatim.openstreetmap.org', port=443): Read timed out. (read timeout=1)\")': /search?q=FY+101%2C+SANTA+CLARA+COUNTY%2C+CA&format=json&limit=1\n"
     ]
    },
    {
     "name": "stdout",
     "output_type": "stream",
     "text": [
      "NR: 527 \n",
      "528 20100, Almaden Road, San Jose, Santa Clara County, California, 95120, United States: San Jose, 95120\n",
      "\n",
      "529 Tennant Avenue, San Jose, Santa Clara County, California, 95119, United States: San Jose, 95119\n"
     ]
    },
    {
     "name": "stderr",
     "output_type": "stream",
     "text": [
      "WARNING:urllib3.connectionpool:Retrying (Retry(total=1, connect=None, read=None, redirect=None, status=None)) after connection broken by 'ReadTimeoutError(\"HTTPSConnectionPool(host='nominatim.openstreetmap.org', port=443): Read timed out. (read timeout=1)\")': /search?q=MONTEREY+HWY%2C+SANTA+CLARA+COUNTY%2C+CA&format=json&limit=1\n",
      "WARNING:urllib3.connectionpool:Retrying (Retry(total=0, connect=None, read=None, redirect=None, status=None)) after connection broken by 'ReadTimeoutError(\"HTTPSConnectionPool(host='nominatim.openstreetmap.org', port=443): Read timed out. (read timeout=1)\")': /search?q=MONTEREY+HWY%2C+SANTA+CLARA+COUNTY%2C+CA&format=json&limit=1\n"
     ]
    },
    {
     "name": "stdout",
     "output_type": "stream",
     "text": [
      "\n",
      "530 Monterey Road, San Jose, Santa Clara County, CAL Fire Northern Region, California, 95111, United States: San Jose, 95111\n",
      "\n",
      "531 East Main Avenue, Santa Clara County, California, 95037, United States: East Main Avenue, 95037\n"
     ]
    },
    {
     "name": "stderr",
     "output_type": "stream",
     "text": [
      "WARNING:urllib3.connectionpool:Retrying (Retry(total=1, connect=None, read=None, redirect=None, status=None)) after connection broken by 'ReadTimeoutError(\"HTTPSConnectionPool(host='nominatim.openstreetmap.org', port=443): Read timed out. (read timeout=1)\")': /search?q=1+++S+DE+ANZA+BLVD%2C+SANTA+CLARA+COUNTY%2C+CA&format=json&limit=1\n"
     ]
    },
    {
     "name": "stdout",
     "output_type": "stream",
     "text": [
      "\n",
      "532 South De Anza Boulevard, San Jose, Santa Clara County, CAL Fire Northern Region, California, 95014, United States: San Jose, 95014\n",
      "\n",
      "533 Blauer Drive, Argonaut Place Shopping Center, Saratoga, Santa Clara County, California, 95070, United States: Saratoga, 95070\n"
     ]
    },
    {
     "name": "stderr",
     "output_type": "stream",
     "text": [
      "WARNING:urllib3.connectionpool:Retrying (Retry(total=1, connect=None, read=None, redirect=None, status=None)) after connection broken by 'ReadTimeoutError(\"HTTPSConnectionPool(host='nominatim.openstreetmap.org', port=443): Read timed out. (read timeout=1)\")': /search?q=2400++S+BASCOM+AV%2C+SANTA+CLARA+COUNTY%2C+CA&format=json&limit=1\n"
     ]
    },
    {
     "name": "stdout",
     "output_type": "stream",
     "text": [
      "\n",
      "534 2400, South Bascom Avenue, San Jose, Santa Clara County, California, 95008, United States: San Jose, 95008\n",
      "\n",
      "535 5300, Alum Rock Avenue, East Foothills, San Jose, Santa Clara County, California, 95127, United States: San Jose, 95127\n",
      "\n",
      "536 Suisun Drive, Rancho Rinconada, Cupertino, Santa Clara County, California, 95014, United States: Cupertino, 95014\n"
     ]
    },
    {
     "name": "stderr",
     "output_type": "stream",
     "text": [
      "WARNING:urllib3.connectionpool:Retrying (Retry(total=1, connect=None, read=None, redirect=None, status=None)) after connection broken by 'ReadTimeoutError(\"HTTPSConnectionPool(host='nominatim.openstreetmap.org', port=443): Read timed out. (read timeout=1)\")': /search?q=1+++W+TASMAN+DR%2C+SANTA+CLARA+COUNTY%2C+CA&format=json&limit=1\n"
     ]
    },
    {
     "name": "stdout",
     "output_type": "stream",
     "text": [
      "\n",
      "537 1, West Tasman Drive, North San Jose, San Jose, Santa Clara County, CAL Fire Northern Region, California, 95134, United States: San Jose, 95134\n",
      "\n",
      "538 15700, Hill Road, Santa Clara County, California, 95037, United States: Hill Road, 95037\n",
      "\n",
      "539 12600, Indio Court, Saratoga, Santa Clara County, California, 95070, United States: Saratoga, 95070\n",
      "\n",
      "540 Charmeran Avenue, Cambrian Park, San Jose, Santa Clara County, California, 95124, United States: San Jose, 95124\n"
     ]
    },
    {
     "name": "stderr",
     "output_type": "stream",
     "text": [
      "WARNING:urllib3.connectionpool:Retrying (Retry(total=1, connect=None, read=None, redirect=None, status=None)) after connection broken by 'ReadTimeoutError(\"HTTPSConnectionPool(host='nominatim.openstreetmap.org', port=443): Read timed out. (read timeout=1)\")': /search?q=EDUCATIONAL+PARK+DR%2C+SANTA+CLARA+COUNTY%2C+CA&format=json&limit=1\n"
     ]
    },
    {
     "name": "stdout",
     "output_type": "stream",
     "text": [
      "\n",
      "541 Educational Park Drive, San Jose, Santa Clara County, California, 95133, United States: San Jose, 95133\n"
     ]
    },
    {
     "name": "stderr",
     "output_type": "stream",
     "text": [
      "WARNING:urllib3.connectionpool:Retrying (Retry(total=1, connect=None, read=None, redirect=None, status=None)) after connection broken by 'ReadTimeoutError(\"HTTPSConnectionPool(host='nominatim.openstreetmap.org', port=443): Read timed out. (read timeout=1)\")': /search?q=OAK+GLEN+AV%2C+SANTA+CLARA+COUNTY%2C+CA&format=json&limit=1\n"
     ]
    },
    {
     "name": "stdout",
     "output_type": "stream",
     "text": [
      "\n",
      "542 Oak Glen Avenue, Santa Clara County, California, 95038, United States: Oak Glen Avenue, 95038\n",
      "\n",
      "543 Oak Glen Avenue, Santa Clara County, California, 95038, United States: Oak Glen Avenue, 95038\n",
      "\n",
      "544 24200, Hillview Road, Los Altos Hills, Santa Clara County, California, 94024, United States: Los Altos Hills, 94024\n"
     ]
    },
    {
     "name": "stderr",
     "output_type": "stream",
     "text": [
      "WARNING:urllib3.connectionpool:Retrying (Retry(total=1, connect=None, read=None, redirect=None, status=None)) after connection broken by 'ReadTimeoutError(\"HTTPSConnectionPool(host='nominatim.openstreetmap.org', port=443): Read timed out. (read timeout=1)\")': /search?q=1+++CASTRO+ST%2C+SANTA+CLARA+COUNTY%2C+CA&format=json&limit=1\n",
      "WARNING:urllib3.connectionpool:Retrying (Retry(total=0, connect=None, read=None, redirect=None, status=None)) after connection broken by 'ReadTimeoutError(\"HTTPSConnectionPool(host='nominatim.openstreetmap.org', port=443): Read timed out. (read timeout=1)\")': /search?q=1+++CASTRO+ST%2C+SANTA+CLARA+COUNTY%2C+CA&format=json&limit=1\n",
      "ERROR:root:HTTPSConnectionPool(host='nominatim.openstreetmap.org', port=443): Max retries exceeded with url: /search?q=1+++CASTRO+ST%2C+SANTA+CLARA+COUNTY%2C+CA&format=json&limit=1 (Caused by ReadTimeoutError(\"HTTPSConnectionPool(host='nominatim.openstreetmap.org', port=443): Read timed out. (read timeout=1)\"))\n"
     ]
    },
    {
     "name": "stdout",
     "output_type": "stream",
     "text": [
      "NR: 545 \n",
      "546 15100, Shannon Road, Los Gatos, Santa Clara County, California, 95032, United States: Los Gatos, 95032\n"
     ]
    },
    {
     "name": "stderr",
     "output_type": "stream",
     "text": [
      "WARNING:urllib3.connectionpool:Retrying (Retry(total=1, connect=None, read=None, redirect=None, status=None)) after connection broken by 'ReadTimeoutError(\"HTTPSConnectionPool(host='nominatim.openstreetmap.org', port=443): Read timed out. (read timeout=1)\")': /search?q=N+1ST+ST%2C+SANTA+CLARA+COUNTY%2C+CA&format=json&limit=1\n"
     ]
    },
    {
     "name": "stdout",
     "output_type": "stream",
     "text": [
      "\n",
      "547 North 1st Street, North San Jose, San Jose, Santa Clara County, CAL Fire Northern Region, California, 95031, United States: San Jose, 95031\n",
      "\n",
      "548 400, South Bascom Avenue, Rose Garden, San Jose, Santa Clara County, California, 95128, United States: San Jose, 95128\n",
      "\n",
      "549 South Bascom Avenue, Rose Garden, San Jose, Santa Clara County, California, 95128, United States: San Jose, 95128\n",
      "\n",
      "550 1, West Hedding Street, Civic Center, Japantown, San Jose, Santa Clara County, CAL Fire Northern Region, California, 95110, United States: San Jose, 95110\n",
      "\n",
      "551 Hellyer Avenue, San Jose, Santa Clara County, CAL Fire Northern Region, California, 95138, United States: San Jose, 95138\n",
      "\n",
      "552 Fisher Avenue, Shannon, Los Gatos, Santa Clara County, California, 95030, United States: Los Gatos, 95030\n"
     ]
    },
    {
     "name": "stderr",
     "output_type": "stream",
     "text": [
      "WARNING:urllib3.connectionpool:Retrying (Retry(total=1, connect=None, read=None, redirect=None, status=None)) after connection broken by 'ReadTimeoutError(\"HTTPSConnectionPool(host='nominatim.openstreetmap.org', port=443): Read timed out. (read timeout=1)\")': /search?q=22600++STEVENS+CREEK+BLVD%2C+SANTA+CLARA+COUNTY%2C+CA&format=json&limit=1\n"
     ]
    },
    {
     "name": "stdout",
     "output_type": "stream",
     "text": [
      "\n",
      "553 22600, Stevens Creek Boulevard, Cupertino, Santa Clara County, California, 95014, United States: Cupertino, 95014\n",
      "\n",
      "554 Afton Avenue, Saratoga, Santa Clara County, California, 95070, United States: Saratoga, 95070\n"
     ]
    },
    {
     "name": "stderr",
     "output_type": "stream",
     "text": [
      "WARNING:urllib3.connectionpool:Retrying (Retry(total=1, connect=None, read=None, redirect=None, status=None)) after connection broken by 'ReadTimeoutError(\"HTTPSConnectionPool(host='nominatim.openstreetmap.org', port=443): Read timed out. (read timeout=1)\")': /search?q=1+++S+WINCHESTER+BLVD%2C+SANTA+CLARA+COUNTY%2C+CA&format=json&limit=1\n",
      "WARNING:urllib3.connectionpool:Retrying (Retry(total=0, connect=None, read=None, redirect=None, status=None)) after connection broken by 'ReadTimeoutError(\"HTTPSConnectionPool(host='nominatim.openstreetmap.org', port=443): Read timed out. (read timeout=1)\")': /search?q=1+++S+WINCHESTER+BLVD%2C+SANTA+CLARA+COUNTY%2C+CA&format=json&limit=1\n"
     ]
    },
    {
     "name": "stdout",
     "output_type": "stream",
     "text": [
      "\n",
      "555 Winchester Boulevard, San Jose, Santa Clara County, California, 95128, United States: San Jose, 95128\n",
      "\n",
      "556 Great Mall Drive, Great Mall, Milpitas, Santa Clara County, California, 95035, United States: Milpitas, 95035\n"
     ]
    },
    {
     "name": "stderr",
     "output_type": "stream",
     "text": [
      "WARNING:urllib3.connectionpool:Retrying (Retry(total=1, connect=None, read=None, redirect=None, status=None)) after connection broken by 'ReadTimeoutError(\"HTTPSConnectionPool(host='nominatim.openstreetmap.org', port=443): Read timed out. (read timeout=1)\")': /search?q=1++%2C+SANTA+CLARA+COUNTY%2C+CA&format=json&limit=1\n",
      "WARNING:urllib3.connectionpool:Retrying (Retry(total=0, connect=None, read=None, redirect=None, status=None)) after connection broken by 'ReadTimeoutError(\"HTTPSConnectionPool(host='nominatim.openstreetmap.org', port=443): Read timed out. (read timeout=1)\")': /search?q=1++%2C+SANTA+CLARA+COUNTY%2C+CA&format=json&limit=1\n",
      "ERROR:root:HTTPSConnectionPool(host='nominatim.openstreetmap.org', port=443): Max retries exceeded with url: /search?q=1++%2C+SANTA+CLARA+COUNTY%2C+CA&format=json&limit=1 (Caused by ReadTimeoutError(\"HTTPSConnectionPool(host='nominatim.openstreetmap.org', port=443): Read timed out. (read timeout=1)\"))\n"
     ]
    },
    {
     "name": "stdout",
     "output_type": "stream",
     "text": [
      "NR: 557 \n",
      "558 1, West Hedding Street, Civic Center, Japantown, San Jose, Santa Clara County, CAL Fire Northern Region, California, 95110, United States: San Jose, 95110\n",
      "\n",
      "559 19900, Viewridge Drive, Saratoga, Santa Clara County, California, 95070, United States: Saratoga, 95070\n"
     ]
    },
    {
     "name": "stderr",
     "output_type": "stream",
     "text": [
      "WARNING:urllib3.connectionpool:Retrying (Retry(total=1, connect=None, read=None, redirect=None, status=None)) after connection broken by 'ReadTimeoutError(\"HTTPSConnectionPool(host='nominatim.openstreetmap.org', port=443): Read timed out. (read timeout=1)\")': /search?q=1++%2C+SANTA+CLARA+COUNTY%2C+CA&format=json&limit=1\n",
      "WARNING:urllib3.connectionpool:Retrying (Retry(total=0, connect=None, read=None, redirect=None, status=None)) after connection broken by 'ReadTimeoutError(\"HTTPSConnectionPool(host='nominatim.openstreetmap.org', port=443): Read timed out. (read timeout=1)\")': /search?q=1++%2C+SANTA+CLARA+COUNTY%2C+CA&format=json&limit=1\n",
      "ERROR:root:HTTPSConnectionPool(host='nominatim.openstreetmap.org', port=443): Max retries exceeded with url: /search?q=1++%2C+SANTA+CLARA+COUNTY%2C+CA&format=json&limit=1 (Caused by ReadTimeoutError(\"HTTPSConnectionPool(host='nominatim.openstreetmap.org', port=443): Read timed out. (read timeout=1)\"))\n"
     ]
    },
    {
     "name": "stdout",
     "output_type": "stream",
     "text": [
      "NR: 560 \n",
      "561 Mabury Road, Berryessa, San Jose, Santa Clara County, CAL Fire Northern Region, California, 93133, United States: San Jose, 93133\n"
     ]
    },
    {
     "name": "stderr",
     "output_type": "stream",
     "text": [
      "WARNING:urllib3.connectionpool:Retrying (Retry(total=1, connect=None, read=None, redirect=None, status=None)) after connection broken by 'ReadTimeoutError(\"HTTPSConnectionPool(host='nominatim.openstreetmap.org', port=443): Read timed out. (read timeout=1)\")': /search?q=S+2ND+ST%2C+SANTA+CLARA+COUNTY%2C+CA&format=json&limit=1\n"
     ]
    },
    {
     "name": "stdout",
     "output_type": "stream",
     "text": [
      "\n",
      "562 South 2nd Street, SoFA, San Jose, Santa Clara County, CAL Fire Northern Region, California, 95113, United States: San Jose, 95113\n"
     ]
    },
    {
     "name": "stderr",
     "output_type": "stream",
     "text": [
      "WARNING:urllib3.connectionpool:Retrying (Retry(total=1, connect=None, read=None, redirect=None, status=None)) after connection broken by 'ReadTimeoutError(\"HTTPSConnectionPool(host='nominatim.openstreetmap.org', port=443): Read timed out. (read timeout=1)\")': /search?q=1+++W+HEDDING+ST%2C+SANTA+CLARA+COUNTY%2C+CA&format=json&limit=1\n"
     ]
    },
    {
     "name": "stdout",
     "output_type": "stream",
     "text": [
      "\n",
      "563 1, West Hedding Street, Civic Center, Japantown, San Jose, Santa Clara County, CAL Fire Northern Region, California, 95110, United States: San Jose, 95110\n",
      "\n",
      "564 4200, Chaboya Road, San Jose, Santa Clara County, California, 95148, United States: San Jose, 95148\n"
     ]
    },
    {
     "name": "stderr",
     "output_type": "stream",
     "text": [
      "WARNING:urllib3.connectionpool:Retrying (Retry(total=1, connect=None, read=None, redirect=None, status=None)) after connection broken by 'ReadTimeoutError(\"HTTPSConnectionPool(host='nominatim.openstreetmap.org', port=443): Read timed out. (read timeout=1)\")': /search?q=20100++PEACHTREE+LN%2C+SANTA+CLARA+COUNTY%2C+CA&format=json&limit=1\n"
     ]
    },
    {
     "name": "stdout",
     "output_type": "stream",
     "text": [
      "\n",
      "565 Peachtree Lane, San Jose, Santa Clara County, California, 95050, United States: San Jose, 95050\n"
     ]
    },
    {
     "name": "stderr",
     "output_type": "stream",
     "text": [
      "WARNING:urllib3.connectionpool:Retrying (Retry(total=1, connect=None, read=None, redirect=None, status=None)) after connection broken by 'ReadTimeoutError(\"HTTPSConnectionPool(host='nominatim.openstreetmap.org', port=443): Read timed out. (read timeout=1)\")': /search?q=1+++S+BASCOM+AV%2C+SANTA+CLARA+COUNTY%2C+CA&format=json&limit=1\n"
     ]
    },
    {
     "name": "stdout",
     "output_type": "stream",
     "text": [
      "\n",
      "566 South Bascom Avenue, Rose Garden, San Jose, Santa Clara County, California, 95128, United States: San Jose, 95128\n",
      "\n",
      "567 Clove Drive, San Jose, Santa Clara County, California, 95128, United States: San Jose, 95128\n",
      "\n",
      "568 Randy Lane, Cupertino, Santa Clara County, California, 95014, United States: Cupertino, 95014\n",
      "\n",
      "569 Randy Lane, Cupertino, Santa Clara County, California, 95014, United States: Cupertino, 95014\n"
     ]
    },
    {
     "name": "stderr",
     "output_type": "stream",
     "text": [
      "WARNING:urllib3.connectionpool:Retrying (Retry(total=1, connect=None, read=None, redirect=None, status=None)) after connection broken by 'ReadTimeoutError(\"HTTPSConnectionPool(host='nominatim.openstreetmap.org', port=443): Read timed out. (read timeout=1)\")': /search?q=23200++CONGRESS+SPRINGS+RD%2C+SANTA+CLARA+COUNTY%2C+CA&format=json&limit=1\n"
     ]
    },
    {
     "name": "stdout",
     "output_type": "stream",
     "text": [
      "\n",
      "570 Congress Springs Road, Santa Clara County, California, United States: Congress Springs Road, California\n",
      "\n",
      "571 Bush Street, Mountain View, Santa Clara County, CAL Fire Northern Region, California, 94041, United States: Mountain View, 94041\n"
     ]
    },
    {
     "name": "stderr",
     "output_type": "stream",
     "text": [
      "WARNING:urllib3.connectionpool:Retrying (Retry(total=1, connect=None, read=None, redirect=None, status=None)) after connection broken by 'ReadTimeoutError(\"HTTPSConnectionPool(host='nominatim.openstreetmap.org', port=443): Read timed out. (read timeout=1)\")': /search?q=FY+85%2C+SANTA+CLARA+COUNTY%2C+CA&format=json&limit=1\n",
      "WARNING:urllib3.connectionpool:Retrying (Retry(total=0, connect=None, read=None, redirect=None, status=None)) after connection broken by 'ReadTimeoutError(\"HTTPSConnectionPool(host='nominatim.openstreetmap.org', port=443): Read timed out. (read timeout=1)\")': /search?q=FY+85%2C+SANTA+CLARA+COUNTY%2C+CA&format=json&limit=1\n",
      "ERROR:root:HTTPSConnectionPool(host='nominatim.openstreetmap.org', port=443): Max retries exceeded with url: /search?q=FY+85%2C+SANTA+CLARA+COUNTY%2C+CA&format=json&limit=1 (Caused by ReadTimeoutError(\"HTTPSConnectionPool(host='nominatim.openstreetmap.org', port=443): Read timed out. (read timeout=1)\"))\n"
     ]
    },
    {
     "name": "stdout",
     "output_type": "stream",
     "text": [
      "NR: 572 \n",
      "573 Gifford Avenue, Little Italy, San Jose, Santa Clara County, California, 95110, United States: San Jose, 95110\n"
     ]
    },
    {
     "name": "stderr",
     "output_type": "stream",
     "text": [
      "WARNING:urllib3.connectionpool:Retrying (Retry(total=1, connect=None, read=None, redirect=None, status=None)) after connection broken by 'ReadTimeoutError(\"HTTPSConnectionPool(host='nominatim.openstreetmap.org', port=443): Read timed out. (read timeout=1)\")': /search?q=14800++MC+VAY+AV%2C+SANTA+CLARA+COUNTY%2C+CA&format=json&limit=1\n"
     ]
    },
    {
     "name": "stdout",
     "output_type": "stream",
     "text": [
      "\n",
      "574 14800, Mc Vay Avenue, East Foothills, Santa Clara County, California, 95127, United States: East Foothills, 95127\n"
     ]
    },
    {
     "name": "stderr",
     "output_type": "stream",
     "text": [
      "WARNING:urllib3.connectionpool:Retrying (Retry(total=1, connect=None, read=None, redirect=None, status=None)) after connection broken by 'ReadTimeoutError(\"HTTPSConnectionPool(host='nominatim.openstreetmap.org', port=443): Read timed out. (read timeout=1)\")': /search?q=FY+880%2C+SANTA+CLARA+COUNTY%2C+CA&format=json&limit=1\n"
     ]
    },
    {
     "name": "stdout",
     "output_type": "stream",
     "text": [
      "NR: 575 "
     ]
    },
    {
     "name": "stderr",
     "output_type": "stream",
     "text": [
      "WARNING:urllib3.connectionpool:Retrying (Retry(total=1, connect=None, read=None, redirect=None, status=None)) after connection broken by 'ReadTimeoutError(\"HTTPSConnectionPool(host='nominatim.openstreetmap.org', port=443): Read timed out. (read timeout=1)\")': /search?q=1+++CAROL+DR%2C+SANTA+CLARA+COUNTY%2C+CA&format=json&limit=1\n"
     ]
    },
    {
     "name": "stdout",
     "output_type": "stream",
     "text": [
      "\n",
      "576 Carol Drive, San Jose, Santa Clara County, California, 95125, United States: San Jose, 95125\n",
      "\n",
      "577 16200, Paradise Valley Lane, Santa Clara County, California, 95037, United States: Paradise Valley Lane, 95037\n"
     ]
    },
    {
     "name": "stderr",
     "output_type": "stream",
     "text": [
      "WARNING:urllib3.connectionpool:Retrying (Retry(total=1, connect=None, read=None, redirect=None, status=None)) after connection broken by 'ReadTimeoutError(\"HTTPSConnectionPool(host='nominatim.openstreetmap.org', port=443): Read timed out. (read timeout=1)\")': /search?q=600++NIDO+DR%2C+SANTA+CLARA+COUNTY%2C+CA&format=json&limit=1\n"
     ]
    },
    {
     "name": "stdout",
     "output_type": "stream",
     "text": [
      "\n",
      "578 600, Nido Drive, Campbell, Santa Clara County, California, 95008, United States: Campbell, 95008\n"
     ]
    },
    {
     "name": "stderr",
     "output_type": "stream",
     "text": [
      "WARNING:urllib3.connectionpool:Retrying (Retry(total=1, connect=None, read=None, redirect=None, status=None)) after connection broken by 'ReadTimeoutError(\"HTTPSConnectionPool(host='nominatim.openstreetmap.org', port=443): Read timed out. (read timeout=1)\")': /search?q=100+++MT+HAMILTON+RD%2C+SANTA+CLARA+COUNTY%2C+CA&format=json&limit=1\n"
     ]
    },
    {
     "name": "stdout",
     "output_type": "stream",
     "text": [
      "\n",
      "579 Mount Hamilton Road, Santa Clara County, California, 95137, United States: Mount Hamilton Road, 95137\n",
      "\n",
      "580 19100, Bainter Avenue, Saratoga, Santa Clara County, California, 95030, United States: Saratoga, 95030\n",
      "\n",
      "581 900, Lundy Lane, Loyola, Santa Clara County, California, 94024, United States: Loyola, 94024\n"
     ]
    },
    {
     "name": "stderr",
     "output_type": "stream",
     "text": [
      "WARNING:urllib3.connectionpool:Retrying (Retry(total=1, connect=None, read=None, redirect=None, status=None)) after connection broken by 'ReadTimeoutError(\"HTTPSConnectionPool(host='nominatim.openstreetmap.org', port=443): Read timed out. (read timeout=1)\")': /search?q=19800++VALLCO+PKWY%2C+SANTA+CLARA+COUNTY%2C+CA&format=json&limit=1\n"
     ]
    },
    {
     "name": "stdout",
     "output_type": "stream",
     "text": [
      "\n",
      "582 Vitality Bowls, 19800, Vallco Parkway, Cupertino, Santa Clara County, California, 95014, United States: Cupertino, 95014\n"
     ]
    },
    {
     "name": "stderr",
     "output_type": "stream",
     "text": [
      "WARNING:urllib3.connectionpool:Retrying (Retry(total=1, connect=None, read=None, redirect=None, status=None)) after connection broken by 'ReadTimeoutError(\"HTTPSConnectionPool(host='nominatim.openstreetmap.org', port=443): Read timed out. (read timeout=1)\")': /search?q=DIXON+RD%2C+SANTA+CLARA+COUNTY%2C+CA&format=json&limit=1\n"
     ]
    },
    {
     "name": "stdout",
     "output_type": "stream",
     "text": [
      "\n",
      "583 Dixon Road, Milpitas, Santa Clara County, CAL Fire Northern Region, California, 95035, United States: Milpitas, 95035\n",
      "\n",
      "584 Saratoga Avenue, Saratoga, Santa Clara County, California, 95070, United States: Saratoga, 95070\n"
     ]
    },
    {
     "name": "stderr",
     "output_type": "stream",
     "text": [
      "WARNING:urllib3.connectionpool:Retrying (Retry(total=1, connect=None, read=None, redirect=None, status=None)) after connection broken by 'ReadTimeoutError(\"HTTPSConnectionPool(host='nominatim.openstreetmap.org', port=443): Read timed out. (read timeout=1)\")': /search?q=FY+101%2C+SANTA+CLARA+COUNTY%2C+CA&format=json&limit=1\n"
     ]
    },
    {
     "name": "stdout",
     "output_type": "stream",
     "text": [
      "NR: 585 \n",
      "586 Saratoga Avenue, Saratoga, Santa Clara County, California, 95070, United States: Saratoga, 95070\n"
     ]
    },
    {
     "name": "stderr",
     "output_type": "stream",
     "text": [
      "WARNING:urllib3.connectionpool:Retrying (Retry(total=1, connect=None, read=None, redirect=None, status=None)) after connection broken by 'ReadTimeoutError(\"HTTPSConnectionPool(host='nominatim.openstreetmap.org', port=443): Read timed out. (read timeout=1)\")': /search?q=19100++BAINTER+AV%2C+SANTA+CLARA+COUNTY%2C+CA&format=json&limit=1\n"
     ]
    },
    {
     "name": "stdout",
     "output_type": "stream",
     "text": [
      "\n",
      "587 19100, Bainter Avenue, Saratoga, Santa Clara County, California, 95030, United States: Saratoga, 95030\n"
     ]
    },
    {
     "name": "stderr",
     "output_type": "stream",
     "text": [
      "WARNING:urllib3.connectionpool:Retrying (Retry(total=1, connect=None, read=None, redirect=None, status=None)) after connection broken by 'ReadTimeoutError(\"HTTPSConnectionPool(host='nominatim.openstreetmap.org', port=443): Read timed out. (read timeout=1)\")': /search?q=PAGE+MILL+RD%2C+SANTA+CLARA+COUNTY%2C+CA&format=json&limit=1\n"
     ]
    },
    {
     "name": "stdout",
     "output_type": "stream",
     "text": [
      "\n",
      "588 Page Mill Road, Palo Alto, Santa Clara County, CAL Fire Northern Region, California, 94028, United States: Palo Alto, 94028\n",
      "\n",
      "589 1, Cecil Avenue, Rose Garden, San Jose, Santa Clara County, California, 95128, United States: San Jose, 95128\n"
     ]
    },
    {
     "name": "stderr",
     "output_type": "stream",
     "text": [
      "WARNING:urllib3.connectionpool:Retrying (Retry(total=1, connect=None, read=None, redirect=None, status=None)) after connection broken by 'ReadTimeoutError(\"HTTPSConnectionPool(host='nominatim.openstreetmap.org', port=443): Read timed out. (read timeout=1)\")': /search?q=1+++S+ABEL+ST%2C+SANTA+CLARA+COUNTY%2C+CA&format=json&limit=1\n"
     ]
    },
    {
     "name": "stdout",
     "output_type": "stream",
     "text": [
      "\n",
      "590 1, South Abel Street, Milpitas, Santa Clara County, CAL Fire Northern Region, California, 95035, United States: Milpitas, 95035\n",
      "\n",
      "591 Big Basin Way, Saratoga, Santa Clara County, California, 95070, United States: Saratoga, 95070\n",
      "\n",
      "592 Old Ironsides Drive, Santa Clara, Santa Clara County, CAL Fire Northern Region, California, 95054, United States: Santa Clara, 95054\n"
     ]
    },
    {
     "name": "stderr",
     "output_type": "stream",
     "text": [
      "WARNING:urllib3.connectionpool:Retrying (Retry(total=1, connect=None, read=None, redirect=None, status=None)) after connection broken by 'ReadTimeoutError(\"HTTPSConnectionPool(host='nominatim.openstreetmap.org', port=443): Read timed out. (read timeout=1)\")': /search?q=10100++PARK+CIRCLE+WEST%2C+SANTA+CLARA+COUNTY%2C+CA&format=json&limit=1\n"
     ]
    },
    {
     "name": "stdout",
     "output_type": "stream",
     "text": [
      "\n",
      "593 Park Circle West, Cupertino, Santa Clara County, California, 95014, United States: Cupertino, 95014\n"
     ]
    },
    {
     "name": "stderr",
     "output_type": "stream",
     "text": [
      "WARNING:urllib3.connectionpool:Retrying (Retry(total=1, connect=None, read=None, redirect=None, status=None)) after connection broken by 'ReadTimeoutError(\"HTTPSConnectionPool(host='nominatim.openstreetmap.org', port=443): Read timed out. (read timeout=1)\")': /search?q=10400++S+DE+ANZA+BLVD%2C+SANTA+CLARA+COUNTY%2C+CA&format=json&limit=1\n"
     ]
    },
    {
     "name": "stdout",
     "output_type": "stream",
     "text": [
      "\n",
      "594 South De Anza Boulevard, San Jose, Santa Clara County, CAL Fire Northern Region, California, 95014, United States: San Jose, 95014\n",
      "\n",
      "595 East Santa Clara Street, Saint James Square Historic District, Japantown, San Jose, Santa Clara County, CAL Fire Northern Region, California, 95113, United States: San Jose, 95113\n"
     ]
    },
    {
     "name": "stderr",
     "output_type": "stream",
     "text": [
      "WARNING:urllib3.connectionpool:Retrying (Retry(total=1, connect=None, read=None, redirect=None, status=None)) after connection broken by 'ReadTimeoutError(\"HTTPSConnectionPool(host='nominatim.openstreetmap.org', port=443): Read timed out. (read timeout=1)\")': /search?q=5300++FAIRWAY+DR%2C+SANTA+CLARA+COUNTY%2C+CA&format=json&limit=1\n"
     ]
    },
    {
     "name": "stdout",
     "output_type": "stream",
     "text": [
      "\n",
      "596 5300, Fairway Drive, East Foothills, Santa Clara County, California, 95127, United States: East Foothills, 95127\n"
     ]
    },
    {
     "name": "stderr",
     "output_type": "stream",
     "text": [
      "WARNING:urllib3.connectionpool:Retrying (Retry(total=1, connect=None, read=None, redirect=None, status=None)) after connection broken by 'ReadTimeoutError(\"HTTPSConnectionPool(host='nominatim.openstreetmap.org', port=443): Read timed out. (read timeout=1)\")': /search?q=1+++THOMPSON+ST%2C+SANTA+CLARA+COUNTY%2C+CA&format=json&limit=1\n",
      "WARNING:urllib3.connectionpool:Retrying (Retry(total=0, connect=None, read=None, redirect=None, status=None)) after connection broken by 'ReadTimeoutError(\"HTTPSConnectionPool(host='nominatim.openstreetmap.org', port=443): Read timed out. (read timeout=1)\")': /search?q=1+++THOMPSON+ST%2C+SANTA+CLARA+COUNTY%2C+CA&format=json&limit=1\n"
     ]
    },
    {
     "name": "stdout",
     "output_type": "stream",
     "text": [
      "\n",
      "597 Thompson Street, Milpitas, Santa Clara County, California, 95035, United States: Milpitas, 95035\n",
      "\n",
      "598 100, North Wolfe Road, Sunnyvale, Santa Clara County, California, 94086, United States: Sunnyvale, 94086\n"
     ]
    },
    {
     "name": "stderr",
     "output_type": "stream",
     "text": [
      "WARNING:urllib3.connectionpool:Retrying (Retry(total=1, connect=None, read=None, redirect=None, status=None)) after connection broken by 'ReadTimeoutError(\"HTTPSConnectionPool(host='nominatim.openstreetmap.org', port=443): Read timed out. (read timeout=1)\")': /search?q=BLOOMFIELD+AV%2C+SANTA+CLARA+COUNTY%2C+CA&format=json&limit=1\n"
     ]
    },
    {
     "name": "stdout",
     "output_type": "stream",
     "text": [
      "\n",
      "599 Bloomfield Avenue, Miller, Santa Clara County, CAL Fire Northern Region, California, United States: Miller, California\n",
      "NR: 600 \n",
      "601 19800, Portal Plaza, Rancho Rinconada, Cupertino, Santa Clara County, California, 95014, United States: Cupertino, 95014\n"
     ]
    },
    {
     "name": "stderr",
     "output_type": "stream",
     "text": [
      "WARNING:urllib3.connectionpool:Retrying (Retry(total=1, connect=None, read=None, redirect=None, status=None)) after connection broken by 'ReadTimeoutError(\"HTTPSConnectionPool(host='nominatim.openstreetmap.org', port=443): Read timed out. (read timeout=1)\")': /search?q=MUIRFIELD+CT%2C+SANTA+CLARA+COUNTY%2C+CA&format=json&limit=1\n"
     ]
    },
    {
     "name": "stdout",
     "output_type": "stream",
     "text": [
      "\n",
      "602 Muirfield Court, Alum Rock, San Jose, Santa Clara County, California, 95116, United States: San Jose, 95116\n"
     ]
    },
    {
     "name": "stderr",
     "output_type": "stream",
     "text": [
      "WARNING:urllib3.connectionpool:Retrying (Retry(total=1, connect=None, read=None, redirect=None, status=None)) after connection broken by 'ReadTimeoutError(\"HTTPSConnectionPool(host='nominatim.openstreetmap.org', port=443): Read timed out. (read timeout=1)\")': /search?q=1+++MONTAGUE+EXPY%2C+SANTA+CLARA+COUNTY%2C+CA&format=json&limit=1\n"
     ]
    },
    {
     "name": "stdout",
     "output_type": "stream",
     "text": [
      "\n",
      "603 Montague Expressway, Santa Clara, Santa Clara County, CAL Fire Northern Region, California, 94136, United States: Santa Clara, 94136\n",
      "\n",
      "604 400, Jane Stanford Way, Rains Houses, Stanford, Santa Clara County, California, 94305, United States: Stanford, 94305\n",
      "\n",
      "605 400, Jane Stanford Way, Rains Houses, Stanford, Santa Clara County, California, 94305, United States: Stanford, 94305\n"
     ]
    },
    {
     "name": "stderr",
     "output_type": "stream",
     "text": [
      "WARNING:urllib3.connectionpool:Retrying (Retry(total=1, connect=None, read=None, redirect=None, status=None)) after connection broken by 'ReadTimeoutError(\"HTTPSConnectionPool(host='nominatim.openstreetmap.org', port=443): Read timed out. (read timeout=1)\")': /search?q=200++AUTUMN+LN%2C+SANTA+CLARA+COUNTY%2C+CA&format=json&limit=1\n"
     ]
    },
    {
     "name": "stdout",
     "output_type": "stream",
     "text": [
      "\n",
      "606 200, Autumn Lane, Morgan Hill, Santa Clara County, California, 95037, United States: Morgan Hill, 95037\n",
      "\n",
      "607 18300, Lakeview Court, Santa Clara County, California, 95033, United States: Lakeview Court, 95033\n"
     ]
    },
    {
     "name": "stderr",
     "output_type": "stream",
     "text": [
      "WARNING:urllib3.connectionpool:Retrying (Retry(total=1, connect=None, read=None, redirect=None, status=None)) after connection broken by 'ReadTimeoutError(\"HTTPSConnectionPool(host='nominatim.openstreetmap.org', port=443): Read timed out. (read timeout=1)\")': /search?q=100+++LYNDE+AV%2C+SANTA+CLARA+COUNTY%2C+CA&format=json&limit=1\n"
     ]
    },
    {
     "name": "stdout",
     "output_type": "stream",
     "text": [
      "\n",
      "608 Lynde Avenue, Saratoga, Santa Clara County, California, 95070, United States: Saratoga, 95070\n"
     ]
    },
    {
     "name": "stderr",
     "output_type": "stream",
     "text": [
      "WARNING:urllib3.connectionpool:Retrying (Retry(total=1, connect=None, read=None, redirect=None, status=None)) after connection broken by 'ReadTimeoutError(\"HTTPSConnectionPool(host='nominatim.openstreetmap.org', port=443): Read timed out. (read timeout=1)\")': /search?q=11100++N+WOLFE+RD%2C+SANTA+CLARA+COUNTY%2C+CA&format=json&limit=1\n"
     ]
    },
    {
     "name": "stdout",
     "output_type": "stream",
     "text": [
      "\n",
      "609 North Wolfe Road, Sunnyvale, Santa Clara County, California, 95086, United States: Sunnyvale, 95086\n"
     ]
    },
    {
     "name": "stderr",
     "output_type": "stream",
     "text": [
      "WARNING:urllib3.connectionpool:Retrying (Retry(total=1, connect=None, read=None, redirect=None, status=None)) after connection broken by 'ReadTimeoutError(\"HTTPSConnectionPool(host='nominatim.openstreetmap.org', port=443): Read timed out. (read timeout=1)\")': /search?q=SPRING+ST%2C+SANTA+CLARA+COUNTY%2C+CA&format=json&limit=1\n"
     ]
    },
    {
     "name": "stdout",
     "output_type": "stream",
     "text": [
      "\n",
      "610 Spring Street, Little Italy, Japantown, San Jose, Santa Clara County, CAL Fire Northern Region, California, 95110, United States: San Jose, 95110\n",
      "\n",
      "611 1, South Abel Street, Milpitas, Santa Clara County, CAL Fire Northern Region, California, 95035, United States: Milpitas, 95035\n",
      "\n",
      "612 14800, Mc Vay Avenue, East Foothills, Santa Clara County, California, 95127, United States: East Foothills, 95127\n",
      "\n",
      "613 900, Arizona Circle, Gilroy, Santa Clara County, California, 95020, United States: Gilroy, 95020\n",
      "\n",
      "614 900, Arizona Circle, Gilroy, Santa Clara County, California, 95020, United States: Gilroy, 95020\n"
     ]
    },
    {
     "name": "stderr",
     "output_type": "stream",
     "text": [
      "WARNING:urllib3.connectionpool:Retrying (Retry(total=1, connect=None, read=None, redirect=None, status=None)) after connection broken by 'ReadTimeoutError(\"HTTPSConnectionPool(host='nominatim.openstreetmap.org', port=443): Read timed out. (read timeout=1)\")': /search?q=400++N+WHITE+RD%2C+SANTA+CLARA+COUNTY%2C+CA&format=json&limit=1\n"
     ]
    },
    {
     "name": "stdout",
     "output_type": "stream",
     "text": [
      "\n",
      "615 400, North White Road, Alum Rock, San Jose, Santa Clara County, CAL Fire Northern Region, California, 95127, United States: San Jose, 95127\n",
      "\n",
      "616 Carol Drive, San Jose, Santa Clara County, California, 95125, United States: San Jose, 95125\n"
     ]
    },
    {
     "name": "stderr",
     "output_type": "stream",
     "text": [
      "WARNING:urllib3.connectionpool:Retrying (Retry(total=1, connect=None, read=None, redirect=None, status=None)) after connection broken by 'ReadTimeoutError(\"HTTPSConnectionPool(host='nominatim.openstreetmap.org', port=443): Read timed out. (read timeout=1)\")': /search?q=1++S+12TH+ST%2C+SANTA+CLARA+COUNTY%2C+CA&format=json&limit=1\n",
      "WARNING:urllib3.connectionpool:Retrying (Retry(total=0, connect=None, read=None, redirect=None, status=None)) after connection broken by 'ReadTimeoutError(\"HTTPSConnectionPool(host='nominatim.openstreetmap.org', port=443): Read timed out. (read timeout=1)\")': /search?q=1++S+12TH+ST%2C+SANTA+CLARA+COUNTY%2C+CA&format=json&limit=1\n"
     ]
    },
    {
     "name": "stdout",
     "output_type": "stream",
     "text": [
      "\n",
      "617 1, South 12th Street, Naglee Park, Japantown, San Jose, Santa Clara County, California, 95112, United States: San Jose, 95112\n",
      "\n",
      "618 14700, East Hills Drive, Alum Rock, San Jose, Santa Clara County, California, 95127, United States: San Jose, 95127\n"
     ]
    },
    {
     "name": "stderr",
     "output_type": "stream",
     "text": [
      "WARNING:urllib3.connectionpool:Retrying (Retry(total=1, connect=None, read=None, redirect=None, status=None)) after connection broken by 'ReadTimeoutError(\"HTTPSConnectionPool(host='nominatim.openstreetmap.org', port=443): Read timed out. (read timeout=1)\")': /search?q=22300++PALM+AV%2C+SANTA+CLARA+COUNTY%2C+CA&format=json&limit=1\n"
     ]
    },
    {
     "name": "stdout",
     "output_type": "stream",
     "text": [
      "\n",
      "619 22300, Palm Avenue, Monta Vista, Cupertino, Santa Clara County, California, 95014, United States: Cupertino, 95014\n",
      "\n",
      "620 19600, Stevens Creek Boulevard, Cupertino, Santa Clara County, CAL Fire Northern Region, California, 95014, United States: Cupertino, 95014\n"
     ]
    },
    {
     "name": "stderr",
     "output_type": "stream",
     "text": [
      "WARNING:urllib3.connectionpool:Retrying (Retry(total=1, connect=None, read=None, redirect=None, status=None)) after connection broken by 'ReadTimeoutError(\"HTTPSConnectionPool(host='nominatim.openstreetmap.org', port=443): Read timed out. (read timeout=1)\")': /search?q=200++AUTUMN+LN%2C+SANTA+CLARA+COUNTY%2C+CA&format=json&limit=1\n"
     ]
    },
    {
     "name": "stdout",
     "output_type": "stream",
     "text": [
      "\n",
      "621 200, Autumn Lane, Morgan Hill, Santa Clara County, California, 95037, United States: Morgan Hill, 95037\n",
      "\n",
      "622 19600, Stevens Creek Boulevard, Cupertino, Santa Clara County, CAL Fire Northern Region, California, 95014, United States: Cupertino, 95014\n",
      "\n",
      "623 14300, Old Wood Road, Saratoga, Santa Clara County, California, 95070, United States: Saratoga, 95070\n"
     ]
    },
    {
     "name": "stderr",
     "output_type": "stream",
     "text": [
      "WARNING:urllib3.connectionpool:Retrying (Retry(total=1, connect=None, read=None, redirect=None, status=None)) after connection broken by 'ReadTimeoutError(\"HTTPSConnectionPool(host='nominatim.openstreetmap.org', port=443): Read timed out. (read timeout=1)\")': /search?q=CLEVELAND+AV%2C+SANTA+CLARA+COUNTY%2C+CA&format=json&limit=1\n"
     ]
    },
    {
     "name": "stdout",
     "output_type": "stream",
     "text": [
      "\n",
      "624 Cleveland Avenue, Rose Garden, San Jose, Santa Clara County, California, 95128, United States: San Jose, 95128\n",
      "\n",
      "625 1600, More Avenue, Campbell, Santa Clara County, California, 95032, United States: Campbell, 95032\n"
     ]
    },
    {
     "name": "stderr",
     "output_type": "stream",
     "text": [
      "WARNING:urllib3.connectionpool:Retrying (Retry(total=1, connect=None, read=None, redirect=None, status=None)) after connection broken by 'ReadTimeoutError(\"HTTPSConnectionPool(host='nominatim.openstreetmap.org', port=443): Read timed out. (read timeout=1)\")': /search?q=12800++EL+MONTE+RD%2C+SANTA+CLARA+COUNTY%2C+CA&format=json&limit=1\n"
     ]
    },
    {
     "name": "stdout",
     "output_type": "stream",
     "text": [
      "\n",
      "626 12800, El Monte Road, Los Altos Hills, Santa Clara County, California, 94022, United States: Los Altos Hills, 94022\n",
      "\n",
      "627 200, Bernal Road, San Jose, Santa Clara County, CAL Fire Northern Region, California, 95119, United States: San Jose, 95119\n",
      "\n",
      "628 500, Miramonte Avenue, Monterey Mushrooms, San Jose, Santa Clara County, California, 95037, United States: San Jose, 95037\n"
     ]
    },
    {
     "name": "stderr",
     "output_type": "stream",
     "text": [
      "WARNING:urllib3.connectionpool:Retrying (Retry(total=1, connect=None, read=None, redirect=None, status=None)) after connection broken by 'ReadTimeoutError(\"HTTPSConnectionPool(host='nominatim.openstreetmap.org', port=443): Read timed out. (read timeout=1)\")': /search?q=200++SAN+BRUNO+AV%2C+SANTA+CLARA+COUNTY%2C+CA&format=json&limit=1\n"
     ]
    },
    {
     "name": "stdout",
     "output_type": "stream",
     "text": [
      "\n",
      "629 200, San Bruno Avenue, Santa Clara County, California, 95037, United States: San Bruno Avenue, 95037\n"
     ]
    },
    {
     "name": "stderr",
     "output_type": "stream",
     "text": [
      "WARNING:urllib3.connectionpool:Retrying (Retry(total=1, connect=None, read=None, redirect=None, status=None)) after connection broken by 'ReadTimeoutError(\"HTTPSConnectionPool(host='nominatim.openstreetmap.org', port=443): Read timed out. (read timeout=1)\")': /search?q=200+++STEVENS+CREEK+BLVD%2C+SANTA+CLARA+COUNTY%2C+CA&format=json&limit=1\n"
     ]
    },
    {
     "name": "stdout",
     "output_type": "stream",
     "text": [
      "\n",
      "630 Stevens Creek Boulevard, Cupertino, Santa Clara County, CAL Fire Northern Region, California, 95014, United States: Cupertino, 95014\n",
      "\n",
      "631 21500, Almaden Road, New Almaden, Santa Clara County, California, 95120, United States: New Almaden, 95120\n",
      "\n",
      "632 10700, Gascoigne Drive, Rancho Rinconada, Cupertino, Santa Clara County, California, 95014, United States: Cupertino, 95014\n"
     ]
    },
    {
     "name": "stderr",
     "output_type": "stream",
     "text": [
      "WARNING:urllib3.connectionpool:Retrying (Retry(total=1, connect=None, read=None, redirect=None, status=None)) after connection broken by 'ReadTimeoutError(\"HTTPSConnectionPool(host='nominatim.openstreetmap.org', port=443): Read timed out. (read timeout=1)\")': /search?q=1+++S+CAPITOL+AV%2C+SANTA+CLARA+COUNTY%2C+CA&format=json&limit=1\n"
     ]
    },
    {
     "name": "stdout",
     "output_type": "stream",
     "text": [
      "\n",
      "633 1, South Capitol Avenue, Alum Rock, San Jose, Santa Clara County, CAL Fire Northern Region, California, 95127, United States: San Jose, 95127\n",
      "\n",
      "634 Stevens Creek Boulevard, Cupertino, Santa Clara County, CAL Fire Northern Region, California, 95014, United States: Cupertino, 95014\n",
      "\n",
      "635 East Santa Clara Street, Saint James Square Historic District, Japantown, San Jose, Santa Clara County, CAL Fire Northern Region, California, 95113, United States: San Jose, 95113\n"
     ]
    },
    {
     "name": "stderr",
     "output_type": "stream",
     "text": [
      "WARNING:urllib3.connectionpool:Retrying (Retry(total=1, connect=None, read=None, redirect=None, status=None)) after connection broken by 'ReadTimeoutError(\"HTTPSConnectionPool(host='nominatim.openstreetmap.org', port=443): Read timed out. (read timeout=1)\")': /search?q=HAMILTON+AV%2C+SANTA+CLARA+COUNTY%2C+CA&format=json&limit=1\n"
     ]
    },
    {
     "name": "stdout",
     "output_type": "stream",
     "text": [
      "\n",
      "636 Hamilton Avenue, Dry Creek, Willow Glen, San Jose, Santa Clara County, CAL Fire Northern Region, California, 95128, United States: San Jose, 95128\n",
      "\n",
      "637 Kenneth Street, Santa Clara, Santa Clara County, California, 95054, United States: Santa Clara, 95054\n",
      "\n",
      "638 10700, Peninsular Avenue, Cupertino, Santa Clara County, California, 95014, United States: Cupertino, 95014\n"
     ]
    },
    {
     "name": "stderr",
     "output_type": "stream",
     "text": [
      "WARNING:urllib3.connectionpool:Retrying (Retry(total=1, connect=None, read=None, redirect=None, status=None)) after connection broken by 'ReadTimeoutError(\"HTTPSConnectionPool(host='nominatim.openstreetmap.org', port=443): Read timed out. (read timeout=1)\")': /search?q=26600++ASCENSION+DR%2C+SANTA+CLARA+COUNTY%2C+CA&format=json&limit=1\n"
     ]
    },
    {
     "name": "stdout",
     "output_type": "stream",
     "text": [
      "\n",
      "639 26600, Ascension Drive, Los Altos Hills, Santa Clara County, California, 94022, United States: Los Altos Hills, 94022\n",
      "\n",
      "640 13400, Old Oak Way, Saratoga, Santa Clara County, California, 95070, United States: Saratoga, 95070\n"
     ]
    },
    {
     "name": "stderr",
     "output_type": "stream",
     "text": [
      "WARNING:urllib3.connectionpool:Retrying (Retry(total=1, connect=None, read=None, redirect=None, status=None)) after connection broken by 'ReadTimeoutError(\"HTTPSConnectionPool(host='nominatim.openstreetmap.org', port=443): Read timed out. (read timeout=1)\")': /search?q=EL+CAMINO+REAL%2C+SANTA+CLARA+COUNTY%2C+CA&format=json&limit=1\n"
     ]
    },
    {
     "name": "stdout",
     "output_type": "stream",
     "text": [
      "\n",
      "641 El Camino Real, Santa Clara, Santa Clara County, CAL Fire Northern Region, California, 95050, United States: Santa Clara, 95050\n",
      "\n",
      "642 14600, Center Avenue, San Martin, Santa Clara County, California, 95046, United States: San Martin, 95046\n",
      "\n",
      "643 1, Cottle Road, San Jose, Santa Clara County, CAL Fire Northern Region, California, 95123, United States: San Jose, 95123\n",
      "\n",
      "644 Mount Umunhum Road, Peckham Ranch, Santa Clara County, CAL Fire Northern Region, California, 95120, United States: Peckham Ranch, 95120\n"
     ]
    },
    {
     "name": "stderr",
     "output_type": "stream",
     "text": [
      "WARNING:urllib3.connectionpool:Retrying (Retry(total=1, connect=None, read=None, redirect=None, status=None)) after connection broken by 'ReadTimeoutError(\"HTTPSConnectionPool(host='nominatim.openstreetmap.org', port=443): Read timed out. (read timeout=1)\")': /search?q=1+++CAROL+DR%2C+SANTA+CLARA+COUNTY%2C+CA&format=json&limit=1\n"
     ]
    },
    {
     "name": "stdout",
     "output_type": "stream",
     "text": [
      "\n",
      "645 Carol Drive, San Jose, Santa Clara County, California, 95125, United States: San Jose, 95125\n",
      "\n",
      "646 20800, Stevens Creek Boulevard, The Crossroads, Cupertino, Santa Clara County, CAL Fire Northern Region, California, 95014, United States: Cupertino, 95014\n"
     ]
    },
    {
     "name": "stderr",
     "output_type": "stream",
     "text": [
      "WARNING:urllib3.connectionpool:Retrying (Retry(total=1, connect=None, read=None, redirect=None, status=None)) after connection broken by 'ReadTimeoutError(\"HTTPSConnectionPool(host='nominatim.openstreetmap.org', port=443): Read timed out. (read timeout=1)\")': /search?q=1+++W+HEDDING+ST%2C+SANTA+CLARA+COUNTY%2C+CA&format=json&limit=1\n"
     ]
    },
    {
     "name": "stdout",
     "output_type": "stream",
     "text": [
      "\n",
      "647 1, West Hedding Street, Civic Center, Japantown, San Jose, Santa Clara County, CAL Fire Northern Region, California, 95110, United States: San Jose, 95110\n"
     ]
    },
    {
     "name": "stderr",
     "output_type": "stream",
     "text": [
      "WARNING:urllib3.connectionpool:Retrying (Retry(total=1, connect=None, read=None, redirect=None, status=None)) after connection broken by 'ReadTimeoutError(\"HTTPSConnectionPool(host='nominatim.openstreetmap.org', port=443): Read timed out. (read timeout=1)\")': /search?q=1+++S+ABEL+ST%2C+SANTA+CLARA+COUNTY%2C+CA&format=json&limit=1\n"
     ]
    },
    {
     "name": "stdout",
     "output_type": "stream",
     "text": [
      "\n",
      "648 1, South Abel Street, Milpitas, Santa Clara County, CAL Fire Northern Region, California, 95035, United States: Milpitas, 95035\n"
     ]
    },
    {
     "name": "stderr",
     "output_type": "stream",
     "text": [
      "WARNING:urllib3.connectionpool:Retrying (Retry(total=1, connect=None, read=None, redirect=None, status=None)) after connection broken by 'ReadTimeoutError(\"HTTPSConnectionPool(host='nominatim.openstreetmap.org', port=443): Read timed out. (read timeout=1)\")': /search?q=100+++EL+MONTE+RD%2C+SANTA+CLARA+COUNTY%2C+CA&format=json&limit=1\n"
     ]
    },
    {
     "name": "stdout",
     "output_type": "stream",
     "text": [
      "\n",
      "649 El Monte Road, Los Altos, Santa Clara County, California, 94022, United States: Los Altos, 94022\n",
      "\n",
      "650 Senter Road, San Jose, Santa Clara County, CAL Fire Northern Region, California, 95111, United States: San Jose, 95111\n",
      "\n",
      "651 15400, Quito Road, Saratoga, Santa Clara County, California, 95070, United States: Saratoga, 95070\n"
     ]
    },
    {
     "name": "stderr",
     "output_type": "stream",
     "text": [
      "WARNING:urllib3.connectionpool:Retrying (Retry(total=1, connect=None, read=None, redirect=None, status=None)) after connection broken by 'ReadTimeoutError(\"HTTPSConnectionPool(host='nominatim.openstreetmap.org', port=443): Read timed out. (read timeout=1)\")': /search?q=18500++PROSPECT+RD%2C+SANTA+CLARA+COUNTY%2C+CA&format=json&limit=1\n",
      "WARNING:urllib3.connectionpool:Retrying (Retry(total=0, connect=None, read=None, redirect=None, status=None)) after connection broken by 'ReadTimeoutError(\"HTTPSConnectionPool(host='nominatim.openstreetmap.org', port=443): Read timed out. (read timeout=1)\")': /search?q=18500++PROSPECT+RD%2C+SANTA+CLARA+COUNTY%2C+CA&format=json&limit=1\n"
     ]
    },
    {
     "name": "stdout",
     "output_type": "stream",
     "text": [
      "\n",
      "652 Prospect Road, San Jose, Santa Clara County, California, 95070, United States: San Jose, 95070\n",
      "\n",
      "653 Fruitdale Avenue, Fruitdale, Buena Vista, San Jose, Santa Clara County, CAL Fire Northern Region, California, 95126, United States: San Jose, 95126\n"
     ]
    },
    {
     "name": "stderr",
     "output_type": "stream",
     "text": [
      "WARNING:urllib3.connectionpool:Retrying (Retry(total=1, connect=None, read=None, redirect=None, status=None)) after connection broken by 'ReadTimeoutError(\"HTTPSConnectionPool(host='nominatim.openstreetmap.org', port=443): Read timed out. (read timeout=1)\")': /search?q=1++%2C+SANTA+CLARA+COUNTY%2C+CA&format=json&limit=1\n"
     ]
    },
    {
     "name": "stdout",
     "output_type": "stream",
     "text": [
      "\n",
      "654 1, Alviso, San Jose, Santa Clara County, California, United States: San Jose, California\n",
      "NR: 655 \n",
      "656 Enborg Court, Santa Clara County, CAL Fire Northern Region, California, 95128, United States: Enborg Court, 95128\n"
     ]
    },
    {
     "name": "stderr",
     "output_type": "stream",
     "text": [
      "WARNING:urllib3.connectionpool:Retrying (Retry(total=1, connect=None, read=None, redirect=None, status=None)) after connection broken by 'ReadTimeoutError(\"HTTPSConnectionPool(host='nominatim.openstreetmap.org', port=443): Read timed out. (read timeout=1)\")': /search?q=400++SALMAR+AV%2C+SANTA+CLARA+COUNTY%2C+CA&format=json&limit=1\n"
     ]
    },
    {
     "name": "stdout",
     "output_type": "stream",
     "text": [
      "\n",
      "657 Salmar Avenue, Campbell, Santa Clara County, California, 95008, United States: Campbell, 95008\n"
     ]
    },
    {
     "name": "stderr",
     "output_type": "stream",
     "text": [
      "WARNING:urllib3.connectionpool:Retrying (Retry(total=1, connect=None, read=None, redirect=None, status=None)) after connection broken by 'ReadTimeoutError(\"HTTPSConnectionPool(host='nominatim.openstreetmap.org', port=443): Read timed out. (read timeout=1)\")': /search?q=300++CREST+DR%2C+SANTA+CLARA+COUNTY%2C+CA&format=json&limit=1\n"
     ]
    },
    {
     "name": "stdout",
     "output_type": "stream",
     "text": [
      "\n",
      "658 300, Crest Drive, East Foothills, San Jose, Santa Clara County, California, 95127, United States: San Jose, 95127\n",
      "\n",
      "659 Regal Court, Santa Clara County, California, 95127, United States: Regal Court, 95127\n",
      "\n",
      "660 9700, Monterey Road, San Jose, Santa Clara County, California, 95037, United States: San Jose, 95037\n",
      "\n",
      "661 16500, Oleander Avenue, Shannon, Santa Clara County, California, 95032, United States: Shannon, 95032\n",
      "\n",
      "662 1500, Camden Village Circle, Camden Village, San Jose, Santa Clara County, California, 95124, United States: San Jose, 95124\n"
     ]
    },
    {
     "name": "stderr",
     "output_type": "stream",
     "text": [
      "WARNING:urllib3.connectionpool:Retrying (Retry(total=1, connect=None, read=None, redirect=None, status=None)) after connection broken by 'ReadTimeoutError(\"HTTPSConnectionPool(host='nominatim.openstreetmap.org', port=443): Read timed out. (read timeout=1)\")': /search?q=1+++MISSION+COLLEGE+BLVD%2C+SANTA+CLARA+COUNTY%2C+CA&format=json&limit=1\n"
     ]
    },
    {
     "name": "stdout",
     "output_type": "stream",
     "text": [
      "\n",
      "663 Mission College Boulevard, Santa Clara, Santa Clara County, California, 95054, United States: Santa Clara, 95054\n",
      "\n",
      "664 JPMorgan Chase Bank, NA, 12200, Saratoga-Sunnyvale Road, Blue Hills, Saratoga, Santa Clara County, California, 95070, United States: Saratoga, 95070\n"
     ]
    },
    {
     "name": "stderr",
     "output_type": "stream",
     "text": [
      "WARNING:urllib3.connectionpool:Retrying (Retry(total=1, connect=None, read=None, redirect=None, status=None)) after connection broken by 'ReadTimeoutError(\"HTTPSConnectionPool(host='nominatim.openstreetmap.org', port=443): Read timed out. (read timeout=1)\")': /search?q=MC+KEE+RD%2C+SANTA+CLARA+COUNTY%2C+CA&format=json&limit=1\n"
     ]
    },
    {
     "name": "stdout",
     "output_type": "stream",
     "text": [
      "NR: 665 \n",
      "666 South De Anza Boulevard, San Jose, Santa Clara County, CAL Fire Northern Region, California, 95014, United States: San Jose, 95014\n",
      "\n",
      "667 500, Miramonte Avenue, Monterey Mushrooms, San Jose, Santa Clara County, California, 95037, United States: San Jose, 95037\n"
     ]
    },
    {
     "name": "stderr",
     "output_type": "stream",
     "text": [
      "WARNING:urllib3.connectionpool:Retrying (Retry(total=1, connect=None, read=None, redirect=None, status=None)) after connection broken by 'ReadTimeoutError(\"HTTPSConnectionPool(host='nominatim.openstreetmap.org', port=443): Read timed out. (read timeout=1)\")': /search?q=1++%2C+SANTA+CLARA+COUNTY%2C+CA&format=json&limit=1\n",
      "WARNING:urllib3.connectionpool:Retrying (Retry(total=0, connect=None, read=None, redirect=None, status=None)) after connection broken by 'ReadTimeoutError(\"HTTPSConnectionPool(host='nominatim.openstreetmap.org', port=443): Read timed out. (read timeout=1)\")': /search?q=1++%2C+SANTA+CLARA+COUNTY%2C+CA&format=json&limit=1\n",
      "ERROR:root:HTTPSConnectionPool(host='nominatim.openstreetmap.org', port=443): Max retries exceeded with url: /search?q=1++%2C+SANTA+CLARA+COUNTY%2C+CA&format=json&limit=1 (Caused by ReadTimeoutError(\"HTTPSConnectionPool(host='nominatim.openstreetmap.org', port=443): Read timed out. (read timeout=1)\"))\n"
     ]
    },
    {
     "name": "stdout",
     "output_type": "stream",
     "text": [
      "NR: 668 \n",
      "669 1900, Hayes Lane, Santa Clara County, California, 95046, United States: Hayes Lane, 95046\n"
     ]
    },
    {
     "name": "stderr",
     "output_type": "stream",
     "text": [
      "WARNING:urllib3.connectionpool:Retrying (Retry(total=1, connect=None, read=None, redirect=None, status=None)) after connection broken by 'ReadTimeoutError(\"HTTPSConnectionPool(host='nominatim.openstreetmap.org', port=443): Read timed out. (read timeout=1)\")': /search?q=100+++SARATOGA+AV%2C+SANTA+CLARA+COUNTY%2C+CA&format=json&limit=1\n"
     ]
    },
    {
     "name": "stdout",
     "output_type": "stream",
     "text": [
      "\n",
      "670 Jaseng Center for Integrative Medicine, 100, Saratoga Avenue, Santa Clara, Santa Clara County, CAL Fire Northern Region, California, 95051, United States: Santa Clara, 95051\n"
     ]
    },
    {
     "name": "stderr",
     "output_type": "stream",
     "text": [
      "WARNING:urllib3.connectionpool:Retrying (Retry(total=1, connect=None, read=None, redirect=None, status=None)) after connection broken by 'ReadTimeoutError(\"HTTPSConnectionPool(host='nominatim.openstreetmap.org', port=443): Read timed out. (read timeout=1)\")': /search?q=1++%2C+SANTA+CLARA+COUNTY%2C+CA&format=json&limit=1\n",
      "WARNING:urllib3.connectionpool:Retrying (Retry(total=0, connect=None, read=None, redirect=None, status=None)) after connection broken by 'ReadTimeoutError(\"HTTPSConnectionPool(host='nominatim.openstreetmap.org', port=443): Read timed out. (read timeout=1)\")': /search?q=1++%2C+SANTA+CLARA+COUNTY%2C+CA&format=json&limit=1\n",
      "ERROR:root:HTTPSConnectionPool(host='nominatim.openstreetmap.org', port=443): Max retries exceeded with url: /search?q=1++%2C+SANTA+CLARA+COUNTY%2C+CA&format=json&limit=1 (Caused by ReadTimeoutError(\"HTTPSConnectionPool(host='nominatim.openstreetmap.org', port=443): Read timed out. (read timeout=1)\"))\n"
     ]
    },
    {
     "name": "stdout",
     "output_type": "stream",
     "text": [
      "NR: 671 \n",
      "672 12600, La Cresta Court, Los Altos Hills, Santa Clara County, California, 94022, United States: Los Altos Hills, 94022\n"
     ]
    },
    {
     "name": "stderr",
     "output_type": "stream",
     "text": [
      "WARNING:urllib3.connectionpool:Retrying (Retry(total=1, connect=None, read=None, redirect=None, status=None)) after connection broken by 'ReadTimeoutError(\"HTTPSConnectionPool(host='nominatim.openstreetmap.org', port=443): Read timed out. (read timeout=1)\")': /search?q=FY+101%2C+SANTA+CLARA+COUNTY%2C+CA&format=json&limit=1\n"
     ]
    },
    {
     "name": "stdout",
     "output_type": "stream",
     "text": [
      "NR: 673 "
     ]
    },
    {
     "name": "stderr",
     "output_type": "stream",
     "text": [
      "WARNING:urllib3.connectionpool:Retrying (Retry(total=1, connect=None, read=None, redirect=None, status=None)) after connection broken by 'ReadTimeoutError(\"HTTPSConnectionPool(host='nominatim.openstreetmap.org', port=443): Read timed out. (read timeout=1)\")': /search?q=1++%26+SAELEE%2C+SANTA+CLARA+COUNTY%2C+CA&format=json&limit=1\n",
      "WARNING:urllib3.connectionpool:Retrying (Retry(total=0, connect=None, read=None, redirect=None, status=None)) after connection broken by 'ReadTimeoutError(\"HTTPSConnectionPool(host='nominatim.openstreetmap.org', port=443): Read timed out. (read timeout=1)\")': /search?q=1++%26+SAELEE%2C+SANTA+CLARA+COUNTY%2C+CA&format=json&limit=1\n"
     ]
    },
    {
     "name": "stdout",
     "output_type": "stream",
     "text": [
      "NR: 674 \n",
      "675 2000, Bloomfield Avenue, Santa Clara County, California, 95020, United States: Bloomfield Avenue, 95020\n",
      "\n",
      "676 1600, Las Plumas Avenue, Little Portugal, San Jose, Santa Clara County, California, 95133, United States: San Jose, 95133\n",
      "\n",
      "677 Miramonte Avenue, Mountain View, Santa Clara County, CAL Fire Northern Region, California, 94040, United States: Mountain View, 94040\n"
     ]
    },
    {
     "name": "stderr",
     "output_type": "stream",
     "text": [
      "WARNING:urllib3.connectionpool:Retrying (Retry(total=1, connect=None, read=None, redirect=None, status=None)) after connection broken by 'ReadTimeoutError(\"HTTPSConnectionPool(host='nominatim.openstreetmap.org', port=443): Read timed out. (read timeout=1)\")': /search?q=23200++MORA+HEIGHTS+WAY%2C+SANTA+CLARA+COUNTY%2C+CA&format=json&limit=1\n"
     ]
    },
    {
     "name": "stdout",
     "output_type": "stream",
     "text": [
      "\n",
      "678 Mora Heights Way, Loyola, Santa Clara County, California, 94024, United States: Loyola, 94024\n"
     ]
    },
    {
     "name": "stderr",
     "output_type": "stream",
     "text": [
      "WARNING:urllib3.connectionpool:Retrying (Retry(total=1, connect=None, read=None, redirect=None, status=None)) after connection broken by 'ReadTimeoutError(\"HTTPSConnectionPool(host='nominatim.openstreetmap.org', port=443): Read timed out. (read timeout=1)\")': /search?q=100+++LLAGAS+AV%2C+SANTA+CLARA+COUNTY%2C+CA&format=json&limit=1\n"
     ]
    },
    {
     "name": "stdout",
     "output_type": "stream",
     "text": [
      "\n",
      "679 Llagas Avenue, San Martin, Santa Clara County, California, 95046, United States: San Martin, 95046\n",
      "\n",
      "680 500, Miramonte Avenue, Monterey Mushrooms, San Jose, Santa Clara County, California, 95037, United States: San Jose, 95037\n"
     ]
    },
    {
     "name": "stderr",
     "output_type": "stream",
     "text": [
      "WARNING:urllib3.connectionpool:Retrying (Retry(total=1, connect=None, read=None, redirect=None, status=None)) after connection broken by 'ReadTimeoutError(\"HTTPSConnectionPool(host='nominatim.openstreetmap.org', port=443): Read timed out. (read timeout=1)\")': /search?q=19200++DONNA+CT%2C+SANTA+CLARA+COUNTY%2C+CA&format=json&limit=1\n"
     ]
    },
    {
     "name": "stdout",
     "output_type": "stream",
     "text": [
      "\n",
      "681 19200, Donna Court, Santa Clara County, California, 95037, United States: Donna Court, 95037\n"
     ]
    },
    {
     "name": "stderr",
     "output_type": "stream",
     "text": [
      "WARNING:urllib3.connectionpool:Retrying (Retry(total=1, connect=None, read=None, redirect=None, status=None)) after connection broken by 'ReadTimeoutError(\"HTTPSConnectionPool(host='nominatim.openstreetmap.org', port=443): Read timed out. (read timeout=1)\")': /search?q=ALUM+ROCK+AV%2C+SANTA+CLARA+COUNTY%2C+CA&format=json&limit=1\n"
     ]
    },
    {
     "name": "stdout",
     "output_type": "stream",
     "text": [
      "\n",
      "682 Alum Rock Avenue, Alum Rock, San Jose, Santa Clara County, California, 95127, United States: San Jose, 95127\n"
     ]
    },
    {
     "name": "stderr",
     "output_type": "stream",
     "text": [
      "WARNING:urllib3.connectionpool:Retrying (Retry(total=1, connect=None, read=None, redirect=None, status=None)) after connection broken by 'ReadTimeoutError(\"HTTPSConnectionPool(host='nominatim.openstreetmap.org', port=443): Read timed out. (read timeout=1)\")': /search?q=10300++ORANGE+AV%2C+SANTA+CLARA+COUNTY%2C+CA&format=json&limit=1\n"
     ]
    },
    {
     "name": "stdout",
     "output_type": "stream",
     "text": [
      "\n",
      "683 10300, Orange Avenue, Monta Vista, Cupertino, Santa Clara County, California, 95014, United States: Cupertino, 95014\n"
     ]
    },
    {
     "name": "stderr",
     "output_type": "stream",
     "text": [
      "WARNING:urllib3.connectionpool:Retrying (Retry(total=1, connect=None, read=None, redirect=None, status=None)) after connection broken by 'ReadTimeoutError(\"HTTPSConnectionPool(host='nominatim.openstreetmap.org', port=443): Read timed out. (read timeout=1)\")': /search?q=1+++W+HEDDING+ST%2C+SANTA+CLARA+COUNTY%2C+CA&format=json&limit=1\n"
     ]
    },
    {
     "name": "stdout",
     "output_type": "stream",
     "text": [
      "\n",
      "684 1, West Hedding Street, Civic Center, Japantown, San Jose, Santa Clara County, CAL Fire Northern Region, California, 95110, United States: San Jose, 95110\n",
      "\n",
      "685 24100, Big Basin Way, Santa Clara County, California, 95070, United States: Big Basin Way, 95070\n",
      "\n",
      "686 14800, Mc Vay Avenue, East Foothills, Santa Clara County, California, 95127, United States: East Foothills, 95127\n"
     ]
    },
    {
     "name": "stderr",
     "output_type": "stream",
     "text": [
      "WARNING:urllib3.connectionpool:Retrying (Retry(total=1, connect=None, read=None, redirect=None, status=None)) after connection broken by 'ReadTimeoutError(\"HTTPSConnectionPool(host='nominatim.openstreetmap.org', port=443): Read timed out. (read timeout=1)\")': /search?q=1+++MISSION+COLLEGE+BLVD%2C+SANTA+CLARA+COUNTY%2C+CA&format=json&limit=1\n"
     ]
    },
    {
     "name": "stdout",
     "output_type": "stream",
     "text": [
      "\n",
      "687 Mission College Boulevard, Santa Clara, Santa Clara County, California, 95054, United States: Santa Clara, 95054\n",
      "\n",
      "688 Westlynn Way, San Jose, Santa Clara County, California, 95014, United States: San Jose, 95014\n"
     ]
    },
    {
     "name": "stderr",
     "output_type": "stream",
     "text": [
      "WARNING:urllib3.connectionpool:Retrying (Retry(total=1, connect=None, read=None, redirect=None, status=None)) after connection broken by 'ReadTimeoutError(\"HTTPSConnectionPool(host='nominatim.openstreetmap.org', port=443): Read timed out. (read timeout=1)\")': /search?q=5400++ST+CATHERINE+CT%2C+SANTA+CLARA+COUNTY%2C+CA&format=json&limit=1\n"
     ]
    },
    {
     "name": "stdout",
     "output_type": "stream",
     "text": [
      "\n",
      "689 5400, Saint Catherine Court, East Foothills, Santa Clara County, California, 95127, United States: East Foothills, 95127\n"
     ]
    },
    {
     "name": "stderr",
     "output_type": "stream",
     "text": [
      "WARNING:urllib3.connectionpool:Retrying (Retry(total=1, connect=None, read=None, redirect=None, status=None)) after connection broken by 'ReadTimeoutError(\"HTTPSConnectionPool(host='nominatim.openstreetmap.org', port=443): Read timed out. (read timeout=1)\")': /search?q=1+++W+ALMA+AV%2C+SANTA+CLARA+COUNTY%2C+CA&format=json&limit=1\n"
     ]
    },
    {
     "name": "stdout",
     "output_type": "stream",
     "text": [
      "\n",
      "690 1, West Alma Avenue, San Jose, Santa Clara County, California, 95110, United States: San Jose, 95110\n",
      "\n",
      "691 20700, Stevens Creek Boulevard, The Crossroads, Cupertino, Santa Clara County, CAL Fire Northern Region, California, 95014, United States: Cupertino, 95014\n"
     ]
    },
    {
     "name": "stderr",
     "output_type": "stream",
     "text": [
      "WARNING:urllib3.connectionpool:Retrying (Retry(total=1, connect=None, read=None, redirect=None, status=None)) after connection broken by 'ReadTimeoutError(\"HTTPSConnectionPool(host='nominatim.openstreetmap.org', port=443): Read timed out. (read timeout=1)\")': /search?q=1++%26+PANG%2C+SANTA+CLARA+COUNTY%2C+CA&format=json&limit=1\n",
      "WARNING:urllib3.connectionpool:Retrying (Retry(total=0, connect=None, read=None, redirect=None, status=None)) after connection broken by 'ReadTimeoutError(\"HTTPSConnectionPool(host='nominatim.openstreetmap.org', port=443): Read timed out. (read timeout=1)\")': /search?q=1++%26+PANG%2C+SANTA+CLARA+COUNTY%2C+CA&format=json&limit=1\n",
      "ERROR:root:HTTPSConnectionPool(host='nominatim.openstreetmap.org', port=443): Max retries exceeded with url: /search?q=1++%26+PANG%2C+SANTA+CLARA+COUNTY%2C+CA&format=json&limit=1 (Caused by ReadTimeoutError(\"HTTPSConnectionPool(host='nominatim.openstreetmap.org', port=443): Read timed out. (read timeout=1)\"))\n"
     ]
    },
    {
     "name": "stdout",
     "output_type": "stream",
     "text": [
      "NR: 692 \n",
      "693 1, Eastridge Loop, Eastridge Center, San Jose, Santa Clara County, California, 95122, United States: San Jose, 95122\n"
     ]
    },
    {
     "name": "stderr",
     "output_type": "stream",
     "text": [
      "WARNING:urllib3.connectionpool:Retrying (Retry(total=1, connect=None, read=None, redirect=None, status=None)) after connection broken by 'ReadTimeoutError(\"HTTPSConnectionPool(host='nominatim.openstreetmap.org', port=443): Read timed out. (read timeout=1)\")': /search?q=S+DE+ANZA+BLVD%2C+SANTA+CLARA+COUNTY%2C+CA&format=json&limit=1\n"
     ]
    },
    {
     "name": "stdout",
     "output_type": "stream",
     "text": [
      "\n",
      "694 South De Anza Boulevard, San Jose, Santa Clara County, CAL Fire Northern Region, California, 95014, United States: San Jose, 95014\n",
      "\n",
      "695 Black Mountain Road, Los Altos Hills, Santa Clara County, California, 94028, United States: Los Altos Hills, 94028\n"
     ]
    },
    {
     "name": "stderr",
     "output_type": "stream",
     "text": [
      "WARNING:urllib3.connectionpool:Retrying (Retry(total=1, connect=None, read=None, redirect=None, status=None)) after connection broken by 'ReadTimeoutError(\"HTTPSConnectionPool(host='nominatim.openstreetmap.org', port=443): Read timed out. (read timeout=1)\")': /search?q=1+++S+DE+ANZA+BLVD%2C+SANTA+CLARA+COUNTY%2C+CA&format=json&limit=1\n"
     ]
    },
    {
     "name": "stdout",
     "output_type": "stream",
     "text": [
      "\n",
      "696 South De Anza Boulevard, San Jose, Santa Clara County, CAL Fire Northern Region, California, 95014, United States: San Jose, 95014\n",
      "\n",
      "697 20700, Stevens Creek Boulevard, The Crossroads, Cupertino, Santa Clara County, CAL Fire Northern Region, California, 95014, United States: Cupertino, 95014\n",
      "NR: 698 "
     ]
    },
    {
     "name": "stderr",
     "output_type": "stream",
     "text": [
      "WARNING:urllib3.connectionpool:Retrying (Retry(total=1, connect=None, read=None, redirect=None, status=None)) after connection broken by 'ReadTimeoutError(\"HTTPSConnectionPool(host='nominatim.openstreetmap.org', port=443): Read timed out. (read timeout=1)\")': /search?q=23200++MC+KEAN+RD%2C+SANTA+CLARA+COUNTY%2C+CA&format=json&limit=1\n"
     ]
    },
    {
     "name": "stdout",
     "output_type": "stream",
     "text": [
      "NR: 699 "
     ]
    },
    {
     "name": "stderr",
     "output_type": "stream",
     "text": [
      "WARNING:urllib3.connectionpool:Retrying (Retry(total=1, connect=None, read=None, redirect=None, status=None)) after connection broken by 'ReadTimeoutError(\"HTTPSConnectionPool(host='nominatim.openstreetmap.org', port=443): Read timed out. (read timeout=1)\")': /search?q=HWY+17%2C+SANTA+CLARA+COUNTY%2C+CA&format=json&limit=1\n",
      "WARNING:urllib3.connectionpool:Retrying (Retry(total=0, connect=None, read=None, redirect=None, status=None)) after connection broken by 'ReadTimeoutError(\"HTTPSConnectionPool(host='nominatim.openstreetmap.org', port=443): Read timed out. (read timeout=1)\")': /search?q=HWY+17%2C+SANTA+CLARA+COUNTY%2C+CA&format=json&limit=1\n",
      "ERROR:root:HTTPSConnectionPool(host='nominatim.openstreetmap.org', port=443): Max retries exceeded with url: /search?q=HWY+17%2C+SANTA+CLARA+COUNTY%2C+CA&format=json&limit=1 (Caused by ReadTimeoutError(\"HTTPSConnectionPool(host='nominatim.openstreetmap.org', port=443): Read timed out. (read timeout=1)\"))\n"
     ]
    },
    {
     "name": "stdout",
     "output_type": "stream",
     "text": [
      "NR: 700 \n",
      "701 900, Arizona Circle, Gilroy, Santa Clara County, California, 95020, United States: Gilroy, 95020\n",
      "\n",
      "702 Topeka Avenue, Rose Garden, San Jose, Santa Clara County, California, 95128, United States: San Jose, 95128\n"
     ]
    },
    {
     "name": "stderr",
     "output_type": "stream",
     "text": [
      "WARNING:urllib3.connectionpool:Retrying (Retry(total=1, connect=None, read=None, redirect=None, status=None)) after connection broken by 'ReadTimeoutError(\"HTTPSConnectionPool(host='nominatim.openstreetmap.org', port=443): Read timed out. (read timeout=1)\")': /search?q=1+++ARIZONA+CIR%2C+SANTA+CLARA+COUNTY%2C+CA&format=json&limit=1\n"
     ]
    },
    {
     "name": "stdout",
     "output_type": "stream",
     "text": [
      "\n",
      "703 Arizona Circle, Gilroy, Santa Clara County, California, 95020, United States: Gilroy, 95020\n",
      "\n",
      "704 Oregon Expressway, Midtown, Palo Alto, Santa Clara County, California, 94036, United States: Palo Alto, 94036\n"
     ]
    },
    {
     "name": "stderr",
     "output_type": "stream",
     "text": [
      "WARNING:urllib3.connectionpool:Retrying (Retry(total=1, connect=None, read=None, redirect=None, status=None)) after connection broken by 'ReadTimeoutError(\"HTTPSConnectionPool(host='nominatim.openstreetmap.org', port=443): Read timed out. (read timeout=1)\")': /search?q=1+++S+WINCHESTER+BLVD%2C+SANTA+CLARA+COUNTY%2C+CA&format=json&limit=1\n",
      "WARNING:urllib3.connectionpool:Retrying (Retry(total=0, connect=None, read=None, redirect=None, status=None)) after connection broken by 'ReadTimeoutError(\"HTTPSConnectionPool(host='nominatim.openstreetmap.org', port=443): Read timed out. (read timeout=1)\")': /search?q=1+++S+WINCHESTER+BLVD%2C+SANTA+CLARA+COUNTY%2C+CA&format=json&limit=1\n"
     ]
    },
    {
     "name": "stdout",
     "output_type": "stream",
     "text": [
      "\n",
      "705 Winchester Boulevard, San Jose, Santa Clara County, California, 95128, United States: San Jose, 95128\n",
      "\n",
      "706 7500, Heatherwood Drive, Cupertino, Santa Clara County, California, 95014, United States: Cupertino, 95014\n"
     ]
    },
    {
     "name": "stderr",
     "output_type": "stream",
     "text": [
      "WARNING:urllib3.connectionpool:Retrying (Retry(total=1, connect=None, read=None, redirect=None, status=None)) after connection broken by 'ReadTimeoutError(\"HTTPSConnectionPool(host='nominatim.openstreetmap.org', port=443): Read timed out. (read timeout=1)\")': /search?q=1+++E+CAPITOL+AV%2C+SANTA+CLARA+COUNTY%2C+CA&format=json&limit=1\n"
     ]
    },
    {
     "name": "stdout",
     "output_type": "stream",
     "text": [
      "\n",
      "707 East Capitol Avenue, Milpitas, Santa Clara County, CAL Fire Northern Region, California, 95131, United States: Milpitas, 95131\n"
     ]
    },
    {
     "name": "stderr",
     "output_type": "stream",
     "text": [
      "WARNING:urllib3.connectionpool:Retrying (Retry(total=1, connect=None, read=None, redirect=None, status=None)) after connection broken by 'ReadTimeoutError(\"HTTPSConnectionPool(host='nominatim.openstreetmap.org', port=443): Read timed out. (read timeout=1)\")': /search?q=1++%26+2352%2C+SANTA+CLARA+COUNTY%2C+CA&format=json&limit=1\n",
      "WARNING:urllib3.connectionpool:Retrying (Retry(total=0, connect=None, read=None, redirect=None, status=None)) after connection broken by 'ReadTimeoutError(\"HTTPSConnectionPool(host='nominatim.openstreetmap.org', port=443): Read timed out. (read timeout=1)\")': /search?q=1++%26+2352%2C+SANTA+CLARA+COUNTY%2C+CA&format=json&limit=1\n",
      "ERROR:root:HTTPSConnectionPool(host='nominatim.openstreetmap.org', port=443): Max retries exceeded with url: /search?q=1++%26+2352%2C+SANTA+CLARA+COUNTY%2C+CA&format=json&limit=1 (Caused by ReadTimeoutError(\"HTTPSConnectionPool(host='nominatim.openstreetmap.org', port=443): Read timed out. (read timeout=1)\"))\n"
     ]
    },
    {
     "name": "stdout",
     "output_type": "stream",
     "text": [
      "NR: 708 \n",
      "709 1800, West San Carlos Street, Buena Vista, San Jose, Santa Clara County, California, 95128, United States: San Jose, 95128\n"
     ]
    },
    {
     "name": "stderr",
     "output_type": "stream",
     "text": [
      "WARNING:urllib3.connectionpool:Retrying (Retry(total=1, connect=None, read=None, redirect=None, status=None)) after connection broken by 'ReadTimeoutError(\"HTTPSConnectionPool(host='nominatim.openstreetmap.org', port=443): Read timed out. (read timeout=1)\")': /search?q=11100++CANON+VISTA%2C+SANTA+CLARA+COUNTY%2C+CA&format=json&limit=1\n",
      "WARNING:urllib3.connectionpool:Retrying (Retry(total=0, connect=None, read=None, redirect=None, status=None)) after connection broken by 'ReadTimeoutError(\"HTTPSConnectionPool(host='nominatim.openstreetmap.org', port=443): Read timed out. (read timeout=1)\")': /search?q=11100++CANON+VISTA%2C+SANTA+CLARA+COUNTY%2C+CA&format=json&limit=1\n",
      "ERROR:root:HTTPSConnectionPool(host='nominatim.openstreetmap.org', port=443): Max retries exceeded with url: /search?q=11100++CANON+VISTA%2C+SANTA+CLARA+COUNTY%2C+CA&format=json&limit=1 (Caused by ReadTimeoutError(\"HTTPSConnectionPool(host='nominatim.openstreetmap.org', port=443): Read timed out. (read timeout=1)\"))\n"
     ]
    },
    {
     "name": "stdout",
     "output_type": "stream",
     "text": [
      "NR: 710 \n",
      "711 14200, Sycamore Drive, Santa Clara County, California, 95037, United States: Sycamore Drive, 95037\n"
     ]
    },
    {
     "name": "stderr",
     "output_type": "stream",
     "text": [
      "WARNING:urllib3.connectionpool:Retrying (Retry(total=1, connect=None, read=None, redirect=None, status=None)) after connection broken by 'ReadTimeoutError(\"HTTPSConnectionPool(host='nominatim.openstreetmap.org', port=443): Read timed out. (read timeout=1)\")': /search?q=1++%2C+SANTA+CLARA+COUNTY%2C+CA&format=json&limit=1\n",
      "WARNING:urllib3.connectionpool:Retrying (Retry(total=0, connect=None, read=None, redirect=None, status=None)) after connection broken by 'ReadTimeoutError(\"HTTPSConnectionPool(host='nominatim.openstreetmap.org', port=443): Read timed out. (read timeout=1)\")': /search?q=1++%2C+SANTA+CLARA+COUNTY%2C+CA&format=json&limit=1\n",
      "ERROR:root:HTTPSConnectionPool(host='nominatim.openstreetmap.org', port=443): Max retries exceeded with url: /search?q=1++%2C+SANTA+CLARA+COUNTY%2C+CA&format=json&limit=1 (Caused by ReadTimeoutError(\"HTTPSConnectionPool(host='nominatim.openstreetmap.org', port=443): Read timed out. (read timeout=1)\"))\n"
     ]
    },
    {
     "name": "stdout",
     "output_type": "stream",
     "text": [
      "NR: 712 \n",
      "713 Café Paradise, 2400, Monterey Road, San Jose, Santa Clara County, CAL Fire Northern Region, California, 95111, United States: San Jose, 95111\n",
      "\n",
      "714 Santa Teresa Boulevard, Avenida Espana, San Jose, Santa Clara County, CAL Fire Northern Region, California, 95139, United States: San Jose, 95139\n",
      "\n",
      "715 2600, Pacheco Pass Highway, Old Gilroy, Santa Clara County, California, 95020, United States: Old Gilroy, 95020\n",
      "\n",
      "716 2600, Pacheco Pass Highway, Old Gilroy, Santa Clara County, California, 95020, United States: Old Gilroy, 95020\n",
      "\n",
      "717 25300, La Loma Drive, Los Altos Hills, Santa Clara County, California, 94022, United States: Los Altos Hills, 94022\n"
     ]
    },
    {
     "name": "stderr",
     "output_type": "stream",
     "text": [
      "WARNING:urllib3.connectionpool:Retrying (Retry(total=1, connect=None, read=None, redirect=None, status=None)) after connection broken by 'ReadTimeoutError(\"HTTPSConnectionPool(host='nominatim.openstreetmap.org', port=443): Read timed out. (read timeout=1)\")': /search?q=100+++BUTTERFIELD+BLVD%2C+SANTA+CLARA+COUNTY%2C+CA&format=json&limit=1\n"
     ]
    },
    {
     "name": "stdout",
     "output_type": "stream",
     "text": [
      "\n",
      "718 Butterfield Boulevard, Morgan Hill, Santa Clara County, CAL Fire Northern Region, California, 95037, United States: Morgan Hill, 95037\n"
     ]
    },
    {
     "name": "stderr",
     "output_type": "stream",
     "text": [
      "WARNING:urllib3.connectionpool:Retrying (Retry(total=1, connect=None, read=None, redirect=None, status=None)) after connection broken by 'ReadTimeoutError(\"HTTPSConnectionPool(host='nominatim.openstreetmap.org', port=443): Read timed out. (read timeout=1)\")': /search?q=1+++N+WHITE+RD%2C+SANTA+CLARA+COUNTY%2C+CA&format=json&limit=1\n"
     ]
    },
    {
     "name": "stdout",
     "output_type": "stream",
     "text": [
      "NR: 719 \n",
      "720 Prospect Road, San Jose, Santa Clara County, California, 95070, United States: San Jose, 95070\n",
      "NR: 721 "
     ]
    },
    {
     "name": "stderr",
     "output_type": "stream",
     "text": [
      "WARNING:urllib3.connectionpool:Retrying (Retry(total=1, connect=None, read=None, redirect=None, status=None)) after connection broken by 'ReadTimeoutError(\"HTTPSConnectionPool(host='nominatim.openstreetmap.org', port=443): Read timed out. (read timeout=1)\")': /search?q=2200++CECIL+AV%2C+SANTA+CLARA+COUNTY%2C+CA&format=json&limit=1\n"
     ]
    },
    {
     "name": "stdout",
     "output_type": "stream",
     "text": [
      "\n",
      "722 Cecil Avenue, Rose Garden, San Jose, Santa Clara County, California, 95128, United States: San Jose, 95128\n",
      "\n",
      "723 Cecil Avenue, Rose Garden, San Jose, Santa Clara County, California, 95128, United States: San Jose, 95128\n",
      "\n",
      "724 200, Eastside Drive, Alum Rock, San Jose, Santa Clara County, California, 95127, United States: San Jose, 95127\n"
     ]
    },
    {
     "name": "stderr",
     "output_type": "stream",
     "text": [
      "WARNING:urllib3.connectionpool:Retrying (Retry(total=1, connect=None, read=None, redirect=None, status=None)) after connection broken by 'ReadTimeoutError(\"HTTPSConnectionPool(host='nominatim.openstreetmap.org', port=443): Read timed out. (read timeout=1)\")': /search?q=1+++W+HEDDING+ST%2C+SANTA+CLARA+COUNTY%2C+CA&format=json&limit=1\n"
     ]
    },
    {
     "name": "stdout",
     "output_type": "stream",
     "text": [
      "\n",
      "725 1, West Hedding Street, Civic Center, Japantown, San Jose, Santa Clara County, CAL Fire Northern Region, California, 95110, United States: San Jose, 95110\n",
      "\n",
      "726 18700, Cox Avenue, Saratoga, Santa Clara County, California, 95070, United States: Saratoga, 95070\n"
     ]
    },
    {
     "name": "stderr",
     "output_type": "stream",
     "text": [
      "WARNING:urllib3.connectionpool:Retrying (Retry(total=1, connect=None, read=None, redirect=None, status=None)) after connection broken by 'ReadTimeoutError(\"HTTPSConnectionPool(host='nominatim.openstreetmap.org', port=443): Read timed out. (read timeout=1)\")': /search?q=14800++OLIVE+AV%2C+SANTA+CLARA+COUNTY%2C+CA&format=json&limit=1\n"
     ]
    },
    {
     "name": "stdout",
     "output_type": "stream",
     "text": [
      "\n",
      "727 14800, Olive Avenue, Morgan Hill, Santa Clara County, California, 95037, United States: Morgan Hill, 95037\n",
      "\n",
      "728 Saratoga Avenue, Saratoga, Santa Clara County, California, 95070, United States: Saratoga, 95070\n",
      "\n",
      "729 Stevens Creek Boulevard, Cupertino, Santa Clara County, CAL Fire Northern Region, California, 95014, United States: Cupertino, 95014\n",
      "\n",
      "730 2400, Maywood Avenue, Buena Vista, San Jose, Santa Clara County, California, 95128, United States: San Jose, 95128\n",
      "\n",
      "731 10600, Hale Avenue, Santa Clara County, California, 95037, United States: Hale Avenue, 95037\n"
     ]
    },
    {
     "name": "stderr",
     "output_type": "stream",
     "text": [
      "WARNING:urllib3.connectionpool:Retrying (Retry(total=1, connect=None, read=None, redirect=None, status=None)) after connection broken by 'ReadTimeoutError(\"HTTPSConnectionPool(host='nominatim.openstreetmap.org', port=443): Read timed out. (read timeout=1)\")': /search?q=1+++ZANKER+RD%2C+SANTA+CLARA+COUNTY%2C+CA&format=json&limit=1\n"
     ]
    },
    {
     "name": "stdout",
     "output_type": "stream",
     "text": [
      "\n",
      "732 Zanker Road, North San Jose, San Jose, Santa Clara County, CAL Fire Northern Region, California, 95134, United States: San Jose, 95134\n",
      "\n",
      "733 21600, Stevens Creek Boulevard, Monta Vista, Cupertino, Santa Clara County, CAL Fire Northern Region, California, 95014, United States: Cupertino, 95014\n",
      "\n",
      "734 West San Carlos Street, SoFA, San Jose, Santa Clara County, CAL Fire Northern Region, California, 95113, United States: San Jose, 95113\n",
      "\n",
      "735 Vallco Parkway, Cupertino, Santa Clara County, California, 95014, United States: Cupertino, 95014\n"
     ]
    },
    {
     "name": "stderr",
     "output_type": "stream",
     "text": [
      "WARNING:urllib3.connectionpool:Retrying (Retry(total=1, connect=None, read=None, redirect=None, status=None)) after connection broken by 'ReadTimeoutError(\"HTTPSConnectionPool(host='nominatim.openstreetmap.org', port=443): Read timed out. (read timeout=1)\")': /search?q=14400++DE+BELL+RD%2C+SANTA+CLARA+COUNTY%2C+CA&format=json&limit=1\n"
     ]
    },
    {
     "name": "stdout",
     "output_type": "stream",
     "text": [
      "\n",
      "736 14400, De Bell Road, Los Altos Hills, Santa Clara County, California, 94022, United States: Los Altos Hills, 94022\n"
     ]
    },
    {
     "name": "stderr",
     "output_type": "stream",
     "text": [
      "WARNING:urllib3.connectionpool:Retrying (Retry(total=1, connect=None, read=None, redirect=None, status=None)) after connection broken by 'ReadTimeoutError(\"HTTPSConnectionPool(host='nominatim.openstreetmap.org', port=443): Read timed out. (read timeout=1)\")': /search?q=800++SUMMIT+RD%2C+SANTA+CLARA+COUNTY%2C+CA&format=json&limit=1\n"
     ]
    },
    {
     "name": "stdout",
     "output_type": "stream",
     "text": [
      "\n",
      "737 800, Summit Road, Santa Clara County, California, 95076, United States: Summit Road, 95076\n"
     ]
    },
    {
     "name": "stderr",
     "output_type": "stream",
     "text": [
      "WARNING:urllib3.connectionpool:Retrying (Retry(total=1, connect=None, read=None, redirect=None, status=None)) after connection broken by 'ReadTimeoutError(\"HTTPSConnectionPool(host='nominatim.openstreetmap.org', port=443): Read timed out. (read timeout=1)\")': /search?q=1+++S+CAPITOL+AV%2C+SANTA+CLARA+COUNTY%2C+CA&format=json&limit=1\n"
     ]
    },
    {
     "name": "stdout",
     "output_type": "stream",
     "text": [
      "\n",
      "738 1, South Capitol Avenue, Alum Rock, San Jose, Santa Clara County, CAL Fire Northern Region, California, 95127, United States: San Jose, 95127\n",
      "\n",
      "739 Carol Drive, San Jose, Santa Clara County, California, 95125, United States: San Jose, 95125\n",
      "\n",
      "740 1, Eastridge Loop, Eastridge Center, San Jose, Santa Clara County, California, 95122, United States: San Jose, 95122\n"
     ]
    },
    {
     "name": "stderr",
     "output_type": "stream",
     "text": [
      "WARNING:urllib3.connectionpool:Retrying (Retry(total=1, connect=None, read=None, redirect=None, status=None)) after connection broken by 'ReadTimeoutError(\"HTTPSConnectionPool(host='nominatim.openstreetmap.org', port=443): Read timed out. (read timeout=1)\")': /search?q=11100++PAGE+MILL+RD%2C+SANTA+CLARA+COUNTY%2C+CA&format=json&limit=1\n"
     ]
    },
    {
     "name": "stdout",
     "output_type": "stream",
     "text": [
      "\n",
      "741 11100, Page Mill Road, Santa Clara County, CAL Fire Northern Region, California, 94022, United States: Page Mill Road, 94022\n"
     ]
    },
    {
     "name": "stderr",
     "output_type": "stream",
     "text": [
      "WARNING:urllib3.connectionpool:Retrying (Retry(total=1, connect=None, read=None, redirect=None, status=None)) after connection broken by 'ReadTimeoutError(\"HTTPSConnectionPool(host='nominatim.openstreetmap.org', port=443): Read timed out. (read timeout=1)\")': /search?q=1+++N+1ST+ST%2C+SANTA+CLARA+COUNTY%2C+CA&format=json&limit=1\n",
      "WARNING:urllib3.connectionpool:Retrying (Retry(total=0, connect=None, read=None, redirect=None, status=None)) after connection broken by 'ReadTimeoutError(\"HTTPSConnectionPool(host='nominatim.openstreetmap.org', port=443): Read timed out. (read timeout=1)\")': /search?q=1+++N+1ST+ST%2C+SANTA+CLARA+COUNTY%2C+CA&format=json&limit=1\n",
      "ERROR:root:HTTPSConnectionPool(host='nominatim.openstreetmap.org', port=443): Max retries exceeded with url: /search?q=1+++N+1ST+ST%2C+SANTA+CLARA+COUNTY%2C+CA&format=json&limit=1 (Caused by NewConnectionError('<urllib3.connection.HTTPSConnection object at 0x7f10905a1b70>: Failed to establish a new connection: [Errno 101] Network is unreachable'))\n"
     ]
    },
    {
     "name": "stdout",
     "output_type": "stream",
     "text": [
      "NR: 742 \n",
      "743 Page Mill Road, Palo Alto, Santa Clara County, CAL Fire Northern Region, California, 94028, United States: Palo Alto, 94028\n"
     ]
    },
    {
     "name": "stderr",
     "output_type": "stream",
     "text": [
      "WARNING:urllib3.connectionpool:Retrying (Retry(total=1, connect=None, read=None, redirect=None, status=None)) after connection broken by 'ReadTimeoutError(\"HTTPSConnectionPool(host='nominatim.openstreetmap.org', port=443): Read timed out. (read timeout=1)\")': /search?q=20400++STEVENS+CREEK+BLVD%2C+SANTA+CLARA+COUNTY%2C+CA&format=json&limit=1\n"
     ]
    },
    {
     "name": "stdout",
     "output_type": "stream",
     "text": [
      "\n",
      "744 20400, Stevens Creek Boulevard, Cupertino, Santa Clara County, CAL Fire Northern Region, California, 95014, United States: Cupertino, 95014\n",
      "\n",
      "745 14100, Story Road, Alum Rock, San Jose, Santa Clara County, CAL Fire Northern Region, California, 95127, United States: San Jose, 95127\n"
     ]
    },
    {
     "name": "stderr",
     "output_type": "stream",
     "text": [
      "WARNING:urllib3.connectionpool:Retrying (Retry(total=1, connect=None, read=None, redirect=None, status=None)) after connection broken by 'ReadTimeoutError(\"HTTPSConnectionPool(host='nominatim.openstreetmap.org', port=443): Read timed out. (read timeout=1)\")': /search?q=8100++MONTEREY+HWY%2C+SANTA+CLARA+COUNTY%2C+CA&format=json&limit=1\n"
     ]
    },
    {
     "name": "stdout",
     "output_type": "stream",
     "text": [
      "\n",
      "746 Monterey Road, San Jose, Santa Clara County, CAL Fire Northern Region, California, 95111, United States: San Jose, 95111\n"
     ]
    },
    {
     "name": "stderr",
     "output_type": "stream",
     "text": [
      "WARNING:urllib3.connectionpool:Retrying (Retry(total=1, connect=None, read=None, redirect=None, status=None)) after connection broken by 'ReadTimeoutError(\"HTTPSConnectionPool(host='nominatim.openstreetmap.org', port=443): Read timed out. (read timeout=1)\")': /search?q=UVAS+RD%2C+SANTA+CLARA+COUNTY%2C+CA&format=json&limit=1\n"
     ]
    },
    {
     "name": "stdout",
     "output_type": "stream",
     "text": [
      "\n",
      "747 Uvas Road, Santa Clara County, California, United States: Uvas Road, California\n"
     ]
    },
    {
     "name": "stderr",
     "output_type": "stream",
     "text": [
      "WARNING:urllib3.connectionpool:Retrying (Retry(total=1, connect=None, read=None, redirect=None, status=None)) after connection broken by 'ReadTimeoutError(\"HTTPSConnectionPool(host='nominatim.openstreetmap.org', port=443): Read timed out. (read timeout=1)\")': /search?q=14000++LUCIAN+AV%2C+SANTA+CLARA+COUNTY%2C+CA&format=json&limit=1\n"
     ]
    },
    {
     "name": "stdout",
     "output_type": "stream",
     "text": [
      "\n",
      "748 14000, Lucian Avenue, Alum Rock, San Jose, Santa Clara County, California, 95127, United States: San Jose, 95127\n"
     ]
    },
    {
     "name": "stderr",
     "output_type": "stream",
     "text": [
      "WARNING:urllib3.connectionpool:Retrying (Retry(total=1, connect=None, read=None, redirect=None, status=None)) after connection broken by 'ReadTimeoutError(\"HTTPSConnectionPool(host='nominatim.openstreetmap.org', port=443): Read timed out. (read timeout=1)\")': /search?q=FY+87%2C+SANTA+CLARA+COUNTY%2C+CA&format=json&limit=1\n",
      "WARNING:urllib3.connectionpool:Retrying (Retry(total=0, connect=None, read=None, redirect=None, status=None)) after connection broken by 'ReadTimeoutError(\"HTTPSConnectionPool(host='nominatim.openstreetmap.org', port=443): Read timed out. (read timeout=1)\")': /search?q=FY+87%2C+SANTA+CLARA+COUNTY%2C+CA&format=json&limit=1\n",
      "ERROR:root:HTTPSConnectionPool(host='nominatim.openstreetmap.org', port=443): Max retries exceeded with url: /search?q=FY+87%2C+SANTA+CLARA+COUNTY%2C+CA&format=json&limit=1 (Caused by ReadTimeoutError(\"HTTPSConnectionPool(host='nominatim.openstreetmap.org', port=443): Read timed out. (read timeout=1)\"))\n"
     ]
    },
    {
     "name": "stdout",
     "output_type": "stream",
     "text": [
      "NR: 749 "
     ]
    },
    {
     "name": "stderr",
     "output_type": "stream",
     "text": [
      "WARNING:urllib3.connectionpool:Retrying (Retry(total=1, connect=None, read=None, redirect=None, status=None)) after connection broken by 'ReadTimeoutError(\"HTTPSConnectionPool(host='nominatim.openstreetmap.org', port=443): Read timed out. (read timeout=1)\")': /search?q=FY+87%2C+SANTA+CLARA+COUNTY%2C+CA&format=json&limit=1\n",
      "WARNING:urllib3.connectionpool:Retrying (Retry(total=0, connect=None, read=None, redirect=None, status=None)) after connection broken by 'ReadTimeoutError(\"HTTPSConnectionPool(host='nominatim.openstreetmap.org', port=443): Read timed out. (read timeout=1)\")': /search?q=FY+87%2C+SANTA+CLARA+COUNTY%2C+CA&format=json&limit=1\n"
     ]
    },
    {
     "name": "stdout",
     "output_type": "stream",
     "text": [
      "NR: 750 \n",
      "751 San Bruno Avenue, San Jose, Santa Clara County, California, 95037, United States: San Jose, 95037\n"
     ]
    },
    {
     "name": "stderr",
     "output_type": "stream",
     "text": [
      "WARNING:urllib3.connectionpool:Retrying (Retry(total=1, connect=None, read=None, redirect=None, status=None)) after connection broken by 'ReadTimeoutError(\"HTTPSConnectionPool(host='nominatim.openstreetmap.org', port=443): Read timed out. (read timeout=1)\")': /search?q=1800++SENTER+RD%2C+SANTA+CLARA+COUNTY%2C+CA&format=json&limit=1\n"
     ]
    },
    {
     "name": "stdout",
     "output_type": "stream",
     "text": [
      "\n",
      "752 1800, Senter Road, San Jose, Santa Clara County, CAL Fire Northern Region, California, 95112, United States: San Jose, 95112\n"
     ]
    },
    {
     "name": "stderr",
     "output_type": "stream",
     "text": [
      "WARNING:urllib3.connectionpool:Retrying (Retry(total=1, connect=None, read=None, redirect=None, status=None)) after connection broken by 'ReadTimeoutError(\"HTTPSConnectionPool(host='nominatim.openstreetmap.org', port=443): Read timed out. (read timeout=1)\")': /search?q=200+++STEVENS+CREEK+BLVD%2C+SANTA+CLARA+COUNTY%2C+CA&format=json&limit=1\n"
     ]
    },
    {
     "name": "stdout",
     "output_type": "stream",
     "text": [
      "\n",
      "753 Stevens Creek Boulevard, Cupertino, Santa Clara County, CAL Fire Northern Region, California, 95014, United States: Cupertino, 95014\n",
      "\n",
      "754 300, Arleta Avenue, Rose Garden, San Jose, Santa Clara County, California, 95128, United States: San Jose, 95128\n",
      "\n",
      "755 10200, Sterling Boulevard, Rancho Rinconada, Cupertino, Santa Clara County, California, 95129, United States: Cupertino, 95129\n",
      "\n",
      "756 14300, Lutheria Way, Saratoga, Santa Clara County, California, 95070, United States: Saratoga, 95070\n"
     ]
    },
    {
     "name": "stderr",
     "output_type": "stream",
     "text": [
      "WARNING:urllib3.connectionpool:Retrying (Retry(total=1, connect=None, read=None, redirect=None, status=None)) after connection broken by 'ReadTimeoutError(\"HTTPSConnectionPool(host='nominatim.openstreetmap.org', port=443): Read timed out. (read timeout=1)\")': /search?q=THE+ALAMEDA%2C+SANTA+CLARA+COUNTY%2C+CA&format=json&limit=1\n"
     ]
    },
    {
     "name": "stdout",
     "output_type": "stream",
     "text": [
      "\n",
      "757 The Alameda, Little Italy, Buena Vista, San Jose, Santa Clara County, CAL Fire Northern Region, California, 95110, United States: San Jose, 95110\n"
     ]
    },
    {
     "name": "stderr",
     "output_type": "stream",
     "text": [
      "WARNING:urllib3.connectionpool:Retrying (Retry(total=1, connect=None, read=None, redirect=None, status=None)) after connection broken by 'ReadTimeoutError(\"HTTPSConnectionPool(host='nominatim.openstreetmap.org', port=443): Read timed out. (read timeout=1)\")': /search?q=LINCOLN+AV%2C+SANTA+CLARA+COUNTY%2C+CA&format=json&limit=1\n"
     ]
    },
    {
     "name": "stdout",
     "output_type": "stream",
     "text": [
      "\n",
      "758 Lincoln Avenue, Crescent Park, Palo Alto, Santa Clara County, California, 94301, United States: Palo Alto, 94301\n",
      "\n",
      "759 Hyland Avenue, Alum Rock, San Jose, Santa Clara County, California, 95127, United States: San Jose, 95127\n",
      "\n",
      "760 Saich Way, Cupertino, Santa Clara County, California, 95014, United States: Cupertino, 95014\n"
     ]
    },
    {
     "name": "stderr",
     "output_type": "stream",
     "text": [
      "WARNING:urllib3.connectionpool:Retrying (Retry(total=1, connect=None, read=None, redirect=None, status=None)) after connection broken by 'ReadTimeoutError(\"HTTPSConnectionPool(host='nominatim.openstreetmap.org', port=443): Read timed out. (read timeout=1)\")': /search?q=400++S+BASCOM+AV%2C+SANTA+CLARA+COUNTY%2C+CA&format=json&limit=1\n"
     ]
    },
    {
     "name": "stdout",
     "output_type": "stream",
     "text": [
      "\n",
      "761 400, South Bascom Avenue, Rose Garden, San Jose, Santa Clara County, California, 95128, United States: San Jose, 95128\n",
      "\n",
      "762 1, Marian Lane, Alum Rock, San Jose, Santa Clara County, California, 95127, United States: San Jose, 95127\n",
      "\n",
      "763 Bonny Drive, Cupertino, Santa Clara County, California, 95014, United States: Cupertino, 95014\n"
     ]
    },
    {
     "name": "stderr",
     "output_type": "stream",
     "text": [
      "WARNING:urllib3.connectionpool:Retrying (Retry(total=1, connect=None, read=None, redirect=None, status=None)) after connection broken by 'ReadTimeoutError(\"HTTPSConnectionPool(host='nominatim.openstreetmap.org', port=443): Read timed out. (read timeout=1)\")': /search?q=1+++ENBORG+CT%2C+SANTA+CLARA+COUNTY%2C+CA&format=json&limit=1\n"
     ]
    },
    {
     "name": "stdout",
     "output_type": "stream",
     "text": [
      "\n",
      "764 Enborg Court, Santa Clara County, CAL Fire Northern Region, California, 95128, United States: Enborg Court, 95128\n",
      "\n",
      "765 18900, Greenbrook Court, Saratoga, Santa Clara County, California, 95070, United States: Saratoga, 95070\n",
      "\n",
      "766 1, Cottle Road, San Jose, Santa Clara County, CAL Fire Northern Region, California, 95123, United States: San Jose, 95123\n",
      "\n",
      "767 Edgemont Drive, East Foothills, Santa Clara County, California, 95127, United States: East Foothills, 95127\n",
      "\n",
      "768 Santa Clara County, CAL Fire Northern Region, California, United States: United States, California\n"
     ]
    },
    {
     "name": "stderr",
     "output_type": "stream",
     "text": [
      "WARNING:urllib3.connectionpool:Retrying (Retry(total=1, connect=None, read=None, redirect=None, status=None)) after connection broken by 'ReadTimeoutError(\"HTTPSConnectionPool(host='nominatim.openstreetmap.org', port=443): Read timed out. (read timeout=1)\")': /search?q=10200++SANTA+CLARA+AV%2C+SANTA+CLARA+COUNTY%2C+CA&format=json&limit=1\n"
     ]
    },
    {
     "name": "stdout",
     "output_type": "stream",
     "text": [
      "\n",
      "769 10200, Santa Clara Avenue, Monta Vista, Cupertino, Santa Clara County, California, 95014, United States: Cupertino, 95014\n",
      "\n",
      "770 13200, Uvas Road, Santa Clara County, California, 95037, United States: Uvas Road, 95037\n",
      "\n",
      "771 600, Hawthorne Avenue, Los Altos, Santa Clara County, CAL Fire Northern Region, California, 94022, United States: Los Altos, 94022\n",
      "\n",
      "772 Fruitvale Avenue, Saratoga, Santa Clara County, California, 95070, United States: Saratoga, 95070\n",
      "\n",
      "773 North Foothill Boulevard, Cupertino, Santa Clara County, California, 94087, United States: Cupertino, 94087\n"
     ]
    },
    {
     "name": "stderr",
     "output_type": "stream",
     "text": [
      "WARNING:urllib3.connectionpool:Retrying (Retry(total=1, connect=None, read=None, redirect=None, status=None)) after connection broken by 'ReadTimeoutError(\"HTTPSConnectionPool(host='nominatim.openstreetmap.org', port=443): Read timed out. (read timeout=1)\")': /search?q=1++%2C+SANTA+CLARA+COUNTY%2C+CA&format=json&limit=1\n"
     ]
    },
    {
     "name": "stdout",
     "output_type": "stream",
     "text": [
      "\n",
      "774 1, Alviso, San Jose, Santa Clara County, California, United States: San Jose, California\n",
      "\n",
      "775 20000, Wheaton Drive, Cupertino, Santa Clara County, California, 95014, United States: Cupertino, 95014\n",
      "\n",
      "776 Majestic Oak Way, Cupertino, Santa Clara County, California, 94024, United States: Cupertino, 94024\n",
      "\n",
      "777 West Younger Avenue, Civic Center, Japantown, San Jose, Santa Clara County, California, 95110, United States: San Jose, 95110\n",
      "\n",
      "778 19000, Brookhaven Drive, Saratoga, Santa Clara County, California, 95070, United States: Saratoga, 95070\n",
      "\n",
      "779 Alum Rock Avenue, Alum Rock, San Jose, Santa Clara County, California, 95127, United States: San Jose, 95127\n",
      "\n",
      "780 Monterey Road, San Jose, Santa Clara County, CAL Fire Northern Region, California, 95111, United States: San Jose, 95111\n",
      "\n",
      "781 1, West Hedding Street, Civic Center, Japantown, San Jose, Santa Clara County, CAL Fire Northern Region, California, 95110, United States: San Jose, 95110\n",
      "\n",
      "782 Ann Arbor Avenue, Cupertino, Santa Clara County, California, 95014, United States: Cupertino, 95014\n",
      "\n",
      "783 Horace Cureton Elementary School, 3720, East Hills Drive, Alum Rock, San Jose, Santa Clara County, California, 95127, United States: San Jose, 95127\n",
      "\n",
      "784 1, Decker Way, Alum Rock, Santa Clara County, California, 95127, United States: Alum Rock, 95127\n",
      "\n",
      "785 West Younger Avenue, Civic Center, Japantown, San Jose, Santa Clara County, California, 95110, United States: San Jose, 95110\n",
      "\n",
      "786 Carol Lane, Blue Hills, Saratoga, Santa Clara County, California, 95070, United States: Saratoga, 95070\n",
      "\n",
      "787 10600, South De Anza Boulevard, Cupertino, Santa Clara County, CAL Fire Northern Region, California, 95129, United States: Cupertino, 95129\n",
      "\n",
      "788 Piazza Lane, Santa Clara County, California, 95046, United States: Piazza Lane, 95046\n",
      "\n",
      "789 100, Laumer Avenue, Alum Rock, San Jose, Santa Clara County, California, 95127, United States: San Jose, 95127\n",
      "\n",
      "790 1300, Ridgeley Drive, Campbell, Santa Clara County, California, 95008, United States: Campbell, 95008\n",
      "\n",
      "791 12300, Page Mill Road, Los Altos Hills, Santa Clara County, California, 94022, United States: Los Altos Hills, 94022\n",
      "\n",
      "792 1900, West San Carlos Street, Buena Vista, San Jose, Santa Clara County, California, 95128, United States: San Jose, 95128\n",
      "\n",
      "793 Hellyer Avenue, San Jose, Santa Clara County, CAL Fire Northern Region, California, 95138, United States: San Jose, 95138\n",
      "\n",
      "794 Voss Avenue, Cupertino, Santa Clara County, California, 95014, United States: Cupertino, 95014\n",
      "NR: 795 NR: 796 NR: 797 \n",
      "798 Montague Expressway, Santa Clara, Santa Clara County, CAL Fire Northern Region, California, 94136, United States: Santa Clara, 94136\n",
      "\n",
      "799 500, San Benito Avenue, Creekside Village, Los Gatos, Santa Clara County, California, 95030, United States: Los Gatos, 95030\n",
      "\n",
      "800 10500, Merriman Road, Cupertino, Santa Clara County, California, 95014, United States: Cupertino, 95014\n",
      "\n",
      "801 14800, Olive Avenue, Morgan Hill, Santa Clara County, California, 95037, United States: Morgan Hill, 95037\n",
      "\n",
      "802 22100, Schillingsburg Avenue, Santa Clara County, California, 95120, United States: Schillingsburg Avenue, 95120\n",
      "\n",
      "803 22100, Schillingsburg Avenue, Santa Clara County, California, 95120, United States: Schillingsburg Avenue, 95120\n",
      "\n",
      "804 Sanborn Road, Santa Clara County, CAL Fire Northern Region, California, United States: Sanborn Road, California\n",
      "\n",
      "805 1, West Hedding Street, Civic Center, Japantown, San Jose, Santa Clara County, CAL Fire Northern Region, California, 95110, United States: San Jose, 95110\n",
      "\n",
      "806 600, Louise Court, Campbell, Santa Clara County, California, 95008, United States: Campbell, 95008\n",
      "\n",
      "807 20600, East Homestead Road, Cupertino, Santa Clara County, California, 95014, United States: Cupertino, 95014\n",
      "\n",
      "808 South De Anza Boulevard, San Jose, Santa Clara County, CAL Fire Northern Region, California, 95014, United States: San Jose, 95014\n",
      "\n",
      "809 West Younger Avenue, Civic Center, Japantown, San Jose, Santa Clara County, California, 95110, United States: San Jose, 95110\n",
      "\n",
      "810 1, Comstock Circle, Escondido Village, Stanford, Santa Clara County, California, 94305, United States: Stanford, 94305\n",
      "\n",
      "811 18800, Blythswood Drive, Austin, Santa Clara County, California, 95030, United States: Austin, 95030\n"
     ]
    },
    {
     "name": "stderr",
     "output_type": "stream",
     "text": [
      "WARNING:urllib3.connectionpool:Retrying (Retry(total=1, connect=None, read=None, redirect=None, status=None)) after connection broken by 'ReadTimeoutError(\"HTTPSConnectionPool(host='nominatim.openstreetmap.org', port=443): Read timed out. (read timeout=1)\")': /search?q=21300++DIAMOND+OAKS+CT%2C+SANTA+CLARA+COUNTY%2C+CA&format=json&limit=1\n"
     ]
    },
    {
     "name": "stdout",
     "output_type": "stream",
     "text": [
      "\n",
      "812 21300, Diamond Oaks Court, Saratoga, Santa Clara County, California, 95070, United States: Saratoga, 95070\n",
      "\n",
      "813 200, Vista Avenue, San Jose, Santa Clara County, California, 95127, United States: San Jose, 95127\n",
      "\n",
      "814 Midas, 2200, Stevens Creek Boulevard, Rose Garden, San Jose, Santa Clara County, California, 95128, United States: San Jose, 95128\n",
      "\n",
      "815 Bonner Court, Santa Clara County, California, 95038, United States: Bonner Court, 95038\n",
      "\n",
      "816 4100, Felter Road, Santa Clara County, California, 95035, United States: Felter Road, 95035\n",
      "NR: 817 \n",
      "818 Metcalf Road, San Jose, Santa Clara County, California, 95151, United States: San Jose, 95151\n",
      "\n",
      "819 Palm Drive, Stanford, Santa Clara County, California, 94305, United States: Stanford, 94305\n",
      "\n",
      "820 1300, Lions Peak Lane, Santa Clara County, California, 95046, United States: Lions Peak Lane, 95046\n",
      "\n",
      "821 7600, Newcastle Drive, Seven Springs, Cupertino, Santa Clara County, California, 95014, United States: Cupertino, 95014\n",
      "\n",
      "822 20800, Valley Green Drive, The Villages at Cupertino, Cupertino, Santa Clara County, California, 95014, United States: Cupertino, 95014\n",
      "\n",
      "823 4100, Felter Road, Santa Clara County, California, 95035, United States: Felter Road, 95035\n",
      "\n",
      "824 Enborg Court, Santa Clara County, CAL Fire Northern Region, California, 95128, United States: Enborg Court, 95128\n",
      "\n",
      "825 Chynoweth Avenue, San Jose, Santa Clara County, CAL Fire Northern Region, California, 95136, United States: San Jose, 95136\n",
      "\n",
      "826 North Fair Oaks Avenue, Sunnyvale, Santa Clara County, California, 94085, United States: Sunnyvale, 94085\n",
      "\n",
      "827 20800, Pamela Way, Saratoga, Santa Clara County, California, 95070, United States: Saratoga, 95070\n",
      "\n",
      "828 900, Arizona Circle, Gilroy, Santa Clara County, California, 95020, United States: Gilroy, 95020\n",
      "\n",
      "829 10600, North De Anza Boulevard, Cupertino, Santa Clara County, California, 95014, United States: Cupertino, 95014\n",
      "\n",
      "830 13100, Via Ranchero Drive, Saratoga, Santa Clara County, California, 95070, United States: Saratoga, 95070\n",
      "\n",
      "831 300, Bradley Avenue, Rose Garden, San Jose, Santa Clara County, California, 95128, United States: San Jose, 95128\n",
      "\n",
      "832 East El Camino Real, Mountain View, Santa Clara County, CAL Fire Northern Region, California, 94040, United States: Mountain View, 94040\n",
      "NR: 833 NR: 834 \n",
      "835 14500, Chester Avenue, Saratoga, Santa Clara County, California, 95070, United States: Saratoga, 95070\n"
     ]
    },
    {
     "name": "stderr",
     "output_type": "stream",
     "text": [
      "WARNING:urllib3.connectionpool:Retrying (Retry(total=1, connect=None, read=None, redirect=None, status=None)) after connection broken by 'ReadTimeoutError(\"HTTPSConnectionPool(host='nominatim.openstreetmap.org', port=443): Read timed out. (read timeout=1)\")': /search?q=1+++LA+AVENIDA%2C+SANTA+CLARA+COUNTY%2C+CA&format=json&limit=1\n"
     ]
    },
    {
     "name": "stdout",
     "output_type": "stream",
     "text": [
      "\n",
      "836 La Avenida Street, Mountain View, Santa Clara County, CAL Fire Northern Region, California, 94043, United States: Mountain View, 94043\n",
      "\n",
      "837 Santa Teresa Boulevard, Avenida Espana, San Jose, Santa Clara County, CAL Fire Northern Region, California, 95139, United States: San Jose, 95139\n",
      "\n",
      "838 10900, New Avenue, San Martin, Santa Clara County, California, 95020, United States: San Martin, 95020\n",
      "\n",
      "839 1, Eastridge Loop, Eastridge Center, San Jose, Santa Clara County, California, 95122, United States: San Jose, 95122\n",
      "\n",
      "840 1, Hillsdale Avenue, Communications Hill, San Jose, Santa Clara County, CAL Fire Northern Region, California, 95136, United States: San Jose, 95136\n",
      "\n",
      "841 18800, Newsom Avenue, Rancho Rinconada, Cupertino, Santa Clara County, California, 95129, United States: Cupertino, 95129\n",
      "\n",
      "842 18500, Devon Avenue, Saratoga, Santa Clara County, California, 95070, United States: Saratoga, 95070\n",
      "\n",
      "843 12300, Hilltop Drive, Los Altos Hills, Santa Clara County, California, 94024, United States: Los Altos Hills, 94024\n",
      "\n",
      "844 1, West San Fernando Street, Downtown Historic District, San Jose, Santa Clara County, CAL Fire Northern Region, California, 95113, United States: San Jose, 95113\n",
      "\n",
      "845 13100, Avila Court, Los Altos Hills, Santa Clara County, California, 94022, United States: Los Altos Hills, 94022\n",
      "\n",
      "846 7300, Rollingdell Drive, Cupertino, Santa Clara County, California, 95014, United States: Cupertino, 95014\n",
      "NR: 847 \n",
      "848 Renova Drive, San Jose, Santa Clara County, California, 95128, United States: San Jose, 95128\n",
      "\n",
      "849 Carol Drive, San Jose, Santa Clara County, California, 95125, United States: San Jose, 95125\n",
      "\n",
      "850 19500, Stevens Creek Boulevard, Cupertino, Santa Clara County, CAL Fire Northern Region, California, 95014, United States: Cupertino, 95014\n",
      "\n",
      "851 South Bascom Avenue, Rose Garden, San Jose, Santa Clara County, California, 95128, United States: San Jose, 95128\n",
      "\n",
      "852 2700, Carol Drive, Communications Hill, San Jose, Santa Clara County, California, 95136, United States: San Jose, 95136\n",
      "\n",
      "853 1, Topeka Avenue, Rose Garden, San Jose, Santa Clara County, California, 95128, United States: San Jose, 95128\n",
      "\n",
      "854 500, Irving Avenue, Buena Vista, San Jose, Santa Clara County, California, 95128, United States: San Jose, 95128\n",
      "\n",
      "855 13000, Regan Lane, Blue Hills, Saratoga, Santa Clara County, California, 95070, United States: Saratoga, 95070\n",
      "\n",
      "856 Peachtree Lane, San Jose, Santa Clara County, California, 95050, United States: San Jose, 95050\n",
      "\n",
      "857 6100, Pacheco Pass Highway, San Felipe, Santa Clara County, California, 95020, United States: San Felipe, 95020\n",
      "\n",
      "858 100, East Tasman Drive, North San Jose, San Jose, Santa Clara County, CAL Fire Northern Region, California, 95134, United States: San Jose, 95134\n",
      "\n",
      "859 100, Topeka Avenue, Rose Garden, San Jose, Santa Clara County, California, 95128, United States: San Jose, 95128\n",
      "\n",
      "860 100, Valley View Avenue, East Foothills, Santa Clara County, California, 95127, United States: East Foothills, 95127\n",
      "\n",
      "861 Stevens Creek Boulevard, Cupertino, Santa Clara County, CAL Fire Northern Region, California, 95014, United States: Cupertino, 95014\n",
      "\n",
      "862 100, Superior Drive, Campbell, Santa Clara County, California, 95008, United States: Campbell, 95008\n",
      "\n",
      "863 South Bascom Avenue, San Jose, Santa Clara County, California, 95032, United States: San Jose, 95032\n",
      "\n",
      "864 South Bascom Avenue, Rose Garden, San Jose, Santa Clara County, California, 95128, United States: San Jose, 95128\n",
      "\n",
      "865 Lena Avenue, Rucker, Santa Clara County, California, 95046, United States: Rucker, 95046\n",
      "\n",
      "866 Prospect High School, 18900, Prospect Road, Saratoga, Santa Clara County, California, 95070, United States: Saratoga, 95070\n",
      "\n",
      "867 Pine Hollow Circle, San Jose, Santa Clara County, California, 95133, United States: San Jose, 95133\n",
      "\n",
      "868 Abundant Life Assembly of God Church, 10100, North Stelling Road, Cupertino, Santa Clara County, California, 95014, United States: Cupertino, 95014\n",
      "\n",
      "869 13200, Via Arriba Drive, Saratoga, Santa Clara County, California, 95070, United States: Saratoga, 95070\n",
      "\n",
      "870 300, Arleta Avenue, Rose Garden, San Jose, Santa Clara County, California, 95128, United States: San Jose, 95128\n",
      "\n",
      "871 1, West Alma Avenue, San Jose, Santa Clara County, California, 95110, United States: San Jose, 95110\n",
      "\n",
      "872 North Stelling Road, Cupertino, Santa Clara County, California, 95014, United States: Cupertino, 95014\n",
      "\n",
      "873 North Stelling Road, Cupertino, Santa Clara County, California, 95014, United States: Cupertino, 95014\n",
      "\n",
      "874 12300, Saraglen Drive, Saratoga, Santa Clara County, California, 95070, United States: Saratoga, 95070\n",
      "\n",
      "875 Manila Drive, San Jose, Santa Clara County, CAL Fire Northern Region, California, 95119, United States: San Jose, 95119\n",
      "\n",
      "876 24800, Olive Tree Lane, Los Altos Hills, Santa Clara County, California, 94024, United States: Los Altos Hills, 94024\n",
      "\n",
      "877 Turlock Avenue, Santa Clara County, California, 95046, United States: Turlock Avenue, 95046\n",
      "\n",
      "878 11100, Linda Vista Drive, Cupertino, Santa Clara County, California, 95014, United States: Cupertino, 95014\n",
      "\n",
      "879 Enborg Court, Santa Clara County, CAL Fire Northern Region, California, 95128, United States: Enborg Court, 95128\n",
      "\n",
      "880 12300, Brookglen Drive, Saratoga, Santa Clara County, California, 95070, United States: Saratoga, 95070\n",
      "\n",
      "881 19000, Brook Lane, Saratoga, Santa Clara County, California, 95070, United States: Saratoga, 95070\n",
      "\n",
      "882 Santa Teresa Boulevard, Santa Teresa, San Jose, Santa Clara County, CAL Fire Northern Region, California, 95139, United States: San Jose, 95139\n",
      "\n",
      "883 1, North 1st Street, Saint James Square Historic District, Japantown, San Jose, Santa Clara County, CAL Fire Northern Region, California, 95113, United States: San Jose, 95113\n",
      "\n",
      "884 700, Terrace Drive, Loyola, Santa Clara County, California, 94024, United States: Loyola, 94024\n",
      "\n",
      "885 27700, Lupine Road, Los Altos Hills, Santa Clara County, California, 94022, United States: Los Altos Hills, 94022\n",
      "\n",
      "886 Sarahills Drive, Saratoga, Santa Clara County, California, 95070, United States: Saratoga, 95070\n",
      "\n",
      "887 800, Ridder Park Drive, Wayne, San Jose, Santa Clara County, CAL Fire Northern Region, California, 95131, United States: San Jose, 95131\n",
      "\n",
      "888 12300, Page Mill Road, Los Altos Hills, Santa Clara County, California, 94022, United States: Los Altos Hills, 94022\n",
      "\n",
      "889 Laurel Grove Lane, Buena Vista, San Jose, Santa Clara County, California, 95126, United States: San Jose, 95126\n",
      "\n",
      "890 900, Terrace Drive, Loyola, Santa Clara County, California, 94024, United States: Loyola, 94024\n",
      "\n",
      "891 15900, Sunnyside Avenue, Morgan Hill, Santa Clara County, California, 95037, United States: Morgan Hill, 95037\n",
      "\n",
      "892 800, Ridder Park Drive, Wayne, San Jose, Santa Clara County, CAL Fire Northern Region, California, 95131, United States: San Jose, 95131\n",
      "\n",
      "893 Prospect Road, San Jose, Santa Clara County, California, 95070, United States: San Jose, 95070\n",
      "\n",
      "894 10000, Monterey Road, San Jose, Santa Clara County, California, 95037, United States: San Jose, 95037\n",
      "\n",
      "895 1, Alviso, San Jose, Santa Clara County, California, United States: San Jose, California\n",
      "\n",
      "896 18700, Afton Avenue, Saratoga, Santa Clara County, California, 95070, United States: Saratoga, 95070\n",
      "\n",
      "897 1, Cleveland Avenue, Rose Garden, San Jose, Santa Clara County, California, 95128, United States: San Jose, 95128\n",
      "\n",
      "898 Snell Avenue, San Jose, Santa Clara County, CAL Fire Northern Region, California, 95123, United States: San Jose, 95123\n",
      "\n",
      "899 Arleta Avenue, Buena Vista, San Jose, Santa Clara County, California, 95128, United States: San Jose, 95128\n",
      "\n",
      "900 15900, Sunnyside Avenue, Morgan Hill, Santa Clara County, California, 95037, United States: Morgan Hill, 95037\n",
      "\n",
      "901 900, West Edmundson Avenue, Morgan Hill, Santa Clara County, California, 95037, United States: Morgan Hill, 95037\n",
      "\n",
      "902 100, Surmont Court, Los Gatos, Santa Clara County, California, 95032, United States: Los Gatos, 95032\n",
      "\n",
      "903 100, South 11th Street, Naglee Park, Japantown, San Jose, Santa Clara County, CAL Fire Northern Region, California, 95112, United States: San Jose, 95112\n",
      "\n",
      "904 South Blaney Avenue, San Jose, Santa Clara County, California, 95014, United States: San Jose, 95014\n",
      "\n",
      "905 North 1st Street, North San Jose, San Jose, Santa Clara County, CAL Fire Northern Region, California, 95031, United States: San Jose, 95031\n"
     ]
    },
    {
     "name": "stdout",
     "output_type": "stream",
     "text": [
      "\n",
      "906 Green Acres Court, Santa Clara County, California, 95037, United States: Green Acres Court, 95037\n",
      "\n",
      "907 Homestead Road, Santa Clara, Santa Clara County, CAL Fire Northern Region, California, 95150, United States: Santa Clara, 95150\n",
      "\n",
      "908 1, Alviso, San Jose, Santa Clara County, California, United States: San Jose, California\n",
      "\n",
      "909 Magdalena Avenue, Los Altos, Santa Clara County, California, 94024, United States: Los Altos, 94024\n",
      "\n",
      "910 14000, Seven Acres Lane, Los Altos Hills, Santa Clara County, California, 94022, United States: Los Altos Hills, 94022\n",
      "\n",
      "911 400, Richmond Avenue, Buena Vista, San Jose, Santa Clara County, California, 95128, United States: San Jose, 95128\n",
      "\n",
      "912 Auzerais Avenue, Buena Vista, San Jose, Santa Clara County, California, 95126, United States: San Jose, 95126\n",
      "\n",
      "913 400, North White Road, Alum Rock, San Jose, Santa Clara County, CAL Fire Northern Region, California, 95127, United States: San Jose, 95127\n",
      "\n",
      "914 17300, Valley Oak Drive, Monte Sereno, Santa Clara County, California, 95030, United States: Monte Sereno, 95030\n",
      "\n",
      "915 Subway, 1, Curtner Avenue, San Jose, Santa Clara County, CAL Fire Northern Region, California, 95125, United States: San Jose, 95125\n",
      "\n",
      "916 1200, Half Road, Morgan Hill, Santa Clara County, California, 95037, United States: Morgan Hill, 95037\n",
      "\n",
      "917 20700, Verde Vista Lane, Saratoga, Santa Clara County, California, 95070, United States: Saratoga, 95070\n",
      "\n",
      "918 13500, Howen Drive, Saratoga, Santa Clara County, California, 95070, United States: Saratoga, 95070\n",
      "\n",
      "919 1100, Derbyshire Drive, Seven Springs, Cupertino, Santa Clara County, California, 95014, United States: Cupertino, 95014\n",
      "NR: 920 \n",
      "921 14800, Olive Avenue, Morgan Hill, Santa Clara County, California, 95037, United States: Morgan Hill, 95037\n",
      "\n",
      "922 18700, Cabernet Drive, Saratoga, Santa Clara County, California, 95070, United States: Saratoga, 95070\n",
      "\n",
      "923 900, North San Pedro Street, Civic Center, Japantown, San Jose, Santa Clara County, California, 95110, United States: San Jose, 95110\n",
      "\n",
      "924 Center Avenue, San Martin, Santa Clara County, California, 95046, United States: San Martin, 95046\n",
      "\n",
      "925 2100, Scott Street, Buena Vista, San Jose, Santa Clara County, CAL Fire Northern Region, California, 95128, United States: San Jose, 95128\n",
      "\n",
      "926 Mariposa Lodge, 9500, Malech Road, Coyote, San Jose, Santa Clara County, California, 95138, United States: San Jose, 95138\n",
      "\n",
      "927 20300, La Paloma Avenue, Saratoga, Santa Clara County, California, 95070, United States: Saratoga, 95070\n",
      "\n",
      "928 12700, Arroyo de Arguello, Blue Hills, Saratoga, Santa Clara County, California, 95070, United States: Saratoga, 95070\n",
      "\n",
      "929 13300, Glen Brae Drive, Saratoga, Santa Clara County, California, 95070, United States: Saratoga, 95070\n",
      "NR: 930 \n",
      "931 Oak Place, Gilroy, Santa Clara County, CAL Fire Northern Region, California, United States: Gilroy, California\n",
      "\n",
      "932 14800, Mc Vay Avenue, East Foothills, Santa Clara County, California, 95127, United States: East Foothills, 95127\n",
      "\n",
      "933 1, South Milpitas Boulevard, Milpitas, Santa Clara County, California, 95035, United States: Milpitas, 95035\n",
      "\n",
      "934 15100, Stratford Drive, Cambrian Park, San Jose, Santa Clara County, California, 95124, United States: San Jose, 95124\n",
      "\n",
      "935 1, West Hedding Street, Civic Center, Japantown, San Jose, Santa Clara County, CAL Fire Northern Region, California, 95110, United States: San Jose, 95110\n",
      "\n",
      "936 200, North Cragmont Avenue, Alum Rock, Santa Clara County, California, 95127, United States: Alum Rock, 95127\n",
      "\n",
      "937 10200, Imperial Avenue, Monta Vista, Cupertino, Santa Clara County, California, 95014, United States: Cupertino, 95014\n",
      "\n",
      "938 2300, Harris Way, San Jose, Santa Clara County, California, 95131, United States: San Jose, 95131\n",
      "\n",
      "939 Cleveland Avenue, Rose Garden, San Jose, Santa Clara County, California, 95128, United States: San Jose, 95128\n",
      "\n",
      "940 14800, Olive Avenue, Morgan Hill, Santa Clara County, California, 95037, United States: Morgan Hill, 95037\n",
      "\n",
      "941 1, Alviso, San Jose, Santa Clara County, California, United States: San Jose, California\n",
      "\n",
      "942 Pickford Avenue, Alum Rock, Santa Clara County, California, 95127, United States: Alum Rock, 95127\n",
      "\n",
      "943 Mockingbird Hill Lane, San Jose, Santa Clara County, CAL Fire Northern Region, California, 95120, United States: San Jose, 95120\n"
     ]
    },
    {
     "name": "stderr",
     "output_type": "stream",
     "text": [
      "WARNING:urllib3.connectionpool:Retrying (Retry(total=1, connect=None, read=None, redirect=None, status=None)) after connection broken by 'ReadTimeoutError(\"HTTPSConnectionPool(host='nominatim.openstreetmap.org', port=443): Read timed out. (read timeout=1)\")': /search?q=1++OR+8G10%2C+SANTA+CLARA+COUNTY%2C+CA&format=json&limit=1\n",
      "WARNING:urllib3.connectionpool:Retrying (Retry(total=0, connect=None, read=None, redirect=None, status=None)) after connection broken by 'ReadTimeoutError(\"HTTPSConnectionPool(host='nominatim.openstreetmap.org', port=443): Read timed out. (read timeout=1)\")': /search?q=1++OR+8G10%2C+SANTA+CLARA+COUNTY%2C+CA&format=json&limit=1\n",
      "ERROR:root:HTTPSConnectionPool(host='nominatim.openstreetmap.org', port=443): Max retries exceeded with url: /search?q=1++OR+8G10%2C+SANTA+CLARA+COUNTY%2C+CA&format=json&limit=1 (Caused by ReadTimeoutError(\"HTTPSConnectionPool(host='nominatim.openstreetmap.org', port=443): Read timed out. (read timeout=1)\"))\n"
     ]
    },
    {
     "name": "stdout",
     "output_type": "stream",
     "text": [
      "NR: 944 \n",
      "945 4000, Rose Avenue, Alum Rock, San Jose, Santa Clara County, California, 95127, United States: San Jose, 95127\n",
      "\n",
      "946 100, University Avenue, Palo Alto, Santa Clara County, California, 94301, United States: Palo Alto, 94301\n",
      "\n",
      "947 4000, Rose Avenue, Alum Rock, San Jose, Santa Clara County, California, 95127, United States: San Jose, 95127\n",
      "\n",
      "948 300, Cureton Place, Alum Rock, San Jose, Santa Clara County, California, 95127, United States: San Jose, 95127\n",
      "NR: 949 NR: 950 \n",
      "951 North 1st Street, North San Jose, San Jose, Santa Clara County, CAL Fire Northern Region, California, 95031, United States: San Jose, 95031\n",
      "NR: 952 \n",
      "953 100, University Avenue, Palo Alto, Santa Clara County, California, 94301, United States: Palo Alto, 94301\n",
      "\n",
      "954 20700, Prospect Road, Seven Springs, Cupertino, Santa Clara County, California, 95070, United States: Cupertino, 95070\n",
      "\n",
      "955 Hellyer Avenue, San Jose, Santa Clara County, CAL Fire Northern Region, California, 95138, United States: San Jose, 95138\n",
      "\n",
      "956 North 11th Street, Luna Park, San Jose, Santa Clara County, California, 95112, United States: San Jose, 95112\n",
      "\n",
      "957 Dixon Road, Milpitas, Santa Clara County, CAL Fire Northern Region, California, 95035, United States: Milpitas, 95035\n",
      "\n",
      "958 27800, Fawn Creek Court, Los Altos Hills, Santa Clara County, California, 94022, United States: Los Altos Hills, 94022\n",
      "\n",
      "959 20900, Stevens Creek Boulevard, Cupertino, Santa Clara County, CAL Fire Northern Region, California, 95014, United States: Cupertino, 95014\n",
      "\n",
      "960 Pole Line Road, Santa Clara County, California, 95004, United States: Pole Line Road, 95004\n",
      "\n",
      "961 14800, Olive Avenue, Morgan Hill, Santa Clara County, California, 95037, United States: Morgan Hill, 95037\n",
      "\n",
      "962 1, South Capitol Avenue, Alum Rock, San Jose, Santa Clara County, CAL Fire Northern Region, California, 95127, United States: San Jose, 95127\n",
      "\n",
      "963 Uvas Road, Santa Clara County, California, United States: Uvas Road, California\n",
      "\n",
      "964 Mission College Boulevard, Santa Clara, Santa Clara County, California, 95054, United States: Santa Clara, 95054\n",
      "\n",
      "965 15900, Escobar Avenue, Los Gatos, Santa Clara County, California, 95032, United States: Los Gatos, 95032\n",
      "\n",
      "966 Cochrane Road, Morgan Hill, Santa Clara County, California, 95037, United States: Morgan Hill, 95037\n",
      "\n",
      "967 Randy Lane, Cupertino, Santa Clara County, California, 95014, United States: Cupertino, 95014\n",
      "\n",
      "968 Summit Road, Redwood Estates, Santa Clara County, CAL Fire Northern Region, California, 95033, United States: Redwood Estates, 95033\n",
      "\n",
      "969 1, South Capitol Avenue, Alum Rock, San Jose, Santa Clara County, CAL Fire Northern Region, California, 95127, United States: San Jose, 95127\n",
      "\n",
      "970 18800, Cabernet Drive, Saratoga, Santa Clara County, California, 95070, United States: Saratoga, 95070\n",
      "\n",
      "971 300, Laswell Avenue, Rose Garden, San Jose, Santa Clara County, California, 95128, United States: San Jose, 95128\n",
      "\n",
      "972 24800, Olive Tree Lane, Los Altos Hills, Santa Clara County, California, 94024, United States: Los Altos Hills, 94024\n",
      "\n",
      "973 22500, Voss Avenue, Cupertino, Santa Clara County, California, 95014, United States: Cupertino, 95014\n",
      "\n",
      "974 Moody Road, Los Altos Hills, Santa Clara County, California, 94022, United States: Los Altos Hills, 94022\n",
      "\n",
      "975 15800, San Benito Way, Monte Sereno, Santa Clara County, California, 95030, United States: Monte Sereno, 95030\n",
      "\n",
      "976 1, North 1st Street, Saint James Square Historic District, Japantown, San Jose, Santa Clara County, CAL Fire Northern Region, California, 95113, United States: San Jose, 95113\n",
      "\n",
      "977 15800, San Benito Way, Monte Sereno, Santa Clara County, California, 95030, United States: Monte Sereno, 95030\n",
      "\n",
      "978 Bollinger Road, San Jose, Santa Clara County, CAL Fire Northern Region, California, 95129, United States: San Jose, 95129\n",
      "\n",
      "979 10300, Alpine Drive, Cupertino, Santa Clara County, California, 95014, United States: Cupertino, 95014\n",
      "\n",
      "980 Oak Place, Gilroy, Santa Clara County, CAL Fire Northern Region, California, United States: Gilroy, California\n",
      "\n",
      "981 14800, Olive Avenue, Morgan Hill, Santa Clara County, California, 95037, United States: Morgan Hill, 95037\n",
      "\n",
      "982 Llagas Road, Morgan Hill, Santa Clara County, CAL Fire Northern Region, California, 95037, United States: Morgan Hill, 95037\n",
      "\n",
      "983 19200, Stevens Creek Boulevard, Cupertino, Santa Clara County, CAL Fire Northern Region, California, 95014, United States: Cupertino, 95014\n",
      "\n",
      "984 1, West Hedding Street, Civic Center, Japantown, San Jose, Santa Clara County, CAL Fire Northern Region, California, 95110, United States: San Jose, 95110\n",
      "\n",
      "985 21300, Madrone Drive, Chemeketa Park, Redwood Estates, Santa Clara County, California, 95033, United States: Redwood Estates, 95033\n",
      "\n",
      "986 Brush Road, Redwood Estates, Santa Clara County, CAL Fire Northern Region, California, United States: Redwood Estates, California\n",
      "\n",
      "987 Snell Avenue, San Jose, Santa Clara County, CAL Fire Northern Region, California, 95123, United States: San Jose, 95123\n",
      "\n",
      "988 Saratoga-Sunnyvale Road, Blue Hills, Saratoga, Santa Clara County, California, 95014, United States: Saratoga, 95014\n",
      "\n",
      "989 1, West Hedding Street, Civic Center, Japantown, San Jose, Santa Clara County, CAL Fire Northern Region, California, 95110, United States: San Jose, 95110\n",
      "NR: 990 NR: 991 \n",
      "992 Gardenside Circle, Seven Springs, Cupertino, Santa Clara County, California, 95014, United States: Cupertino, 95014\n",
      "NR: 993 \n",
      "994 14800, Olive Avenue, Morgan Hill, Santa Clara County, California, 95037, United States: Morgan Hill, 95037\n",
      "\n",
      "995 100, Ogier Avenue, Santa Clara County, California, 95037, United States: Ogier Avenue, 95037\n",
      "\n",
      "996 10500, Madera Drive, Cupertino, Santa Clara County, California, 94087, United States: Cupertino, 94087\n",
      "\n",
      "997 700, Rucker Avenue, Santa Clara County, California, 95020, United States: Rucker Avenue, 95020\n",
      "\n",
      "998 100, University Avenue, Palo Alto, Santa Clara County, California, 94301, United States: Palo Alto, 94301\n",
      "\n",
      "999 10900, North De Anza Boulevard, Cupertino, Santa Clara County, California, 95014, United States: Cupertino, 95014\n",
      "\n",
      "1000 Metcalf Road, San Jose, Santa Clara County, California, 95151, United States: San Jose, 95151\n",
      "Saving...\n",
      "\n",
      "1001 Frazier Lake Road, Old Gilroy, Santa Clara County, California, United States: Old Gilroy, California\n",
      "\n",
      "1002 14800, Olive Avenue, Morgan Hill, Santa Clara County, California, 95037, United States: Morgan Hill, 95037\n",
      "\n",
      "1003 Hope Street, Mountain View, Santa Clara County, CAL Fire Northern Region, California, 94041, United States: Mountain View, 94041\n",
      "\n",
      "1004 600, Lomita Court, Stanford, Santa Clara County, California, 94305, United States: Stanford, 94305\n",
      "\n",
      "1005 Alum Rock Avenue, Alum Rock, San Jose, Santa Clara County, California, 95127, United States: San Jose, 95127\n",
      "\n",
      "1006 20600, Scofield Drive, Cupertino, Santa Clara County, California, 95014, United States: Cupertino, 95014\n",
      "\n",
      "1007 Chynoweth Avenue, San Jose, Santa Clara County, CAL Fire Northern Region, California, 95136, United States: San Jose, 95136\n",
      "\n",
      "1008 1, Union Avenue, Campbell, Santa Clara County, CAL Fire Northern Region, California, 95008, United States: Campbell, 95008\n",
      "\n",
      "1009 2700, Carol Drive, Communications Hill, San Jose, Santa Clara County, California, 95136, United States: San Jose, 95136\n",
      "\n",
      "1010 13600, Manteca Way, Saratoga, Santa Clara County, California, 95070, United States: Saratoga, 95070\n",
      "\n",
      "1011 Saratoga Avenue, Saratoga, Santa Clara County, California, 95070, United States: Saratoga, 95070\n",
      "\n",
      "1012 Thompson Road, Santa Clara County, California, United States: Thompson Road, California\n",
      "\n",
      "1013 New Avenue, Santa Clara County, California, United States: New Avenue, California\n",
      "\n",
      "1014 1, Alviso, San Jose, Santa Clara County, California, United States: San Jose, California\n",
      "NR: 1015 \n",
      "1016 10200, Silveira Lane, Santa Clara County, California, 95127, United States: Silveira Lane, 95127\n",
      "\n",
      "1017 New Avenue, Santa Clara County, California, United States: New Avenue, California\n"
     ]
    },
    {
     "name": "stderr",
     "output_type": "stream",
     "text": [
      "WARNING:urllib3.connectionpool:Retrying (Retry(total=1, connect=None, read=None, redirect=None, status=None)) after connection broken by 'ReadTimeoutError(\"HTTPSConnectionPool(host='nominatim.openstreetmap.org', port=443): Read timed out. (read timeout=1)\")': /search?q=MANUELLA+RD%2C+SANTA+CLARA+COUNTY%2C+CA&format=json&limit=1\n"
     ]
    },
    {
     "name": "stdout",
     "output_type": "stream",
     "text": [
      "\n",
      "1018 Rancho Manuella Lane, Los Altos Hills, Santa Clara County, California, 94022, United States: Los Altos Hills, 94022\n",
      "\n",
      "1019 17200, Holiday Drive, Morgan Hill, Santa Clara County, California, 95037, United States: Morgan Hill, 95037\n",
      "\n",
      "1020 11500, Crestridge Drive, Los Altos Hills, Santa Clara County, California, 94024, United States: Los Altos Hills, 94024\n",
      "\n",
      "1021 1, South Abel Street, Milpitas, Santa Clara County, CAL Fire Northern Region, California, 95035, United States: Milpitas, 95035\n",
      "\n",
      "1022 1, South Abel Street, Milpitas, Santa Clara County, CAL Fire Northern Region, California, 95035, United States: Milpitas, 95035\n",
      "\n",
      "1023 14800, Olive Avenue, Morgan Hill, Santa Clara County, California, 95037, United States: Morgan Hill, 95037\n",
      "\n",
      "1024 South De Anza Boulevard, San Jose, Santa Clara County, CAL Fire Northern Region, California, 95014, United States: San Jose, 95014\n",
      "\n",
      "1025 Endodontic Associates Saratoga, 19100, Cox Avenue, Saratoga, Santa Clara County, California, 95070, United States: Saratoga, 95070\n",
      "\n",
      "1026 1900, West San Carlos Street, Buena Vista, San Jose, Santa Clara County, California, 95128, United States: San Jose, 95128\n",
      "\n",
      "1027 1900, West San Carlos Street, Buena Vista, San Jose, Santa Clara County, California, 95128, United States: San Jose, 95128\n",
      "\n",
      "1028 Butterfield Boulevard, Morgan Hill, Santa Clara County, CAL Fire Northern Region, California, 95037, United States: Morgan Hill, 95037\n",
      "\n",
      "1029 Endodontic Associates Saratoga, 19100, Cox Avenue, Saratoga, Santa Clara County, California, 95070, United States: Saratoga, 95070\n",
      "\n",
      "1030 1, North Bascom Avenue, Rose Garden, San Jose, Santa Clara County, California, 95128, United States: San Jose, 95128\n",
      "\n",
      "1031 200, Garden Hill Drive, Los Gatos, Santa Clara County, CAL Fire Northern Region, California, 95032, United States: Los Gatos, 95032\n",
      "\n",
      "1032 1, Alviso, San Jose, Santa Clara County, California, United States: San Jose, California\n",
      "\n",
      "1033 14800, Olive Avenue, Morgan Hill, Santa Clara County, California, 95037, United States: Morgan Hill, 95037\n",
      "NR: 1034 NR: 1035 NR: 1036 \n",
      "1037 20500, Rodrigues Avenue, Cupertino, Santa Clara County, California, 95014, United States: Cupertino, 95014\n",
      "\n",
      "1038 7400, Stanford Place, Cupertino, Santa Clara County, California, 95014, United States: Cupertino, 95014\n",
      "NR: 1039 \n",
      "1040 10700, Peninsular Avenue, Cupertino, Santa Clara County, California, 95014, United States: Cupertino, 95014\n"
     ]
    },
    {
     "name": "stderr",
     "output_type": "stream",
     "text": [
      "WARNING:urllib3.connectionpool:Retrying (Retry(total=1, connect=None, read=None, redirect=None, status=None)) after connection broken by 'ReadTimeoutError(\"HTTPSConnectionPool(host='nominatim.openstreetmap.org', port=443): Read timed out. (read timeout=1)\")': /search?q=1++%2C+SANTA+CLARA+COUNTY%2C+CA&format=json&limit=1\n"
     ]
    },
    {
     "name": "stdout",
     "output_type": "stream",
     "text": [
      "\n",
      "1041 1, Alviso, San Jose, Santa Clara County, California, United States: San Jose, California\n",
      "\n",
      "1042 1, Eastridge Loop, Eastridge Center, San Jose, Santa Clara County, California, 95122, United States: San Jose, 95122\n",
      "\n",
      "1043 South Bascom Avenue, Rose Garden, San Jose, Santa Clara County, California, 95128, United States: San Jose, 95128\n",
      "\n",
      "1044 Linda Vista Drive, Cupertino, Santa Clara County, California, 95014, United States: Cupertino, 95014\n",
      "\n",
      "1045 10300, New Avenue, Santa Clara County, California, 95020, United States: New Avenue, 95020\n",
      "\n",
      "1046 Klein Road, San Jose, Santa Clara County, California, 95148, United States: San Jose, 95148\n",
      "\n",
      "1047 Klein Road, San Jose, Santa Clara County, California, 95148, United States: San Jose, 95148\n",
      "\n",
      "1048 200, Wren Way, Campbell, Santa Clara County, California, 95008, United States: Campbell, 95008\n",
      "\n",
      "1049 19300, Bainter Avenue, Saratoga, Santa Clara County, California, 95030, United States: Saratoga, 95030\n",
      "\n",
      "1050 Southwest Expressway, Gardner, San Jose, Santa Clara County, CAL Fire Northern Region, California, 95128, United States: San Jose, 95128\n",
      "\n",
      "1051 14600, Weeth Drive, Cambrian Park, San Jose, Santa Clara County, California, 95124, United States: San Jose, 95124\n",
      "NR: 1052 \n",
      "1053 19500, Vallco Parkway, Cupertino, Santa Clara County, California, 95014, United States: Cupertino, 95014\n",
      "\n",
      "1054 1, West Hedding Street, Civic Center, Japantown, San Jose, Santa Clara County, CAL Fire Northern Region, California, 95110, United States: San Jose, 95110\n",
      "\n",
      "1055 Marcella Avenue, Santa Clara County, California, 95020, United States: Marcella Avenue, 95020\n",
      "\n",
      "1056 Malcom Avenue, Saratoga, Santa Clara County, California, 95070, United States: Saratoga, 95070\n",
      "\n",
      "1057 Santa Teresa Boulevard, Avenida Espana, San Jose, Santa Clara County, CAL Fire Northern Region, California, 95139, United States: San Jose, 95139\n",
      "\n",
      "1058 1, South Abel Street, Milpitas, Santa Clara County, CAL Fire Northern Region, California, 95035, United States: Milpitas, 95035\n",
      "\n",
      "1059 1, Christopher Avenue, Campbell, Santa Clara County, California, 95008, United States: Campbell, 95008\n",
      "\n",
      "1060 Tasman Drive, Sunnyvale, Santa Clara County, California, 94089, United States: Sunnyvale, 94089\n",
      "\n",
      "1061 1600, South De Anza Boulevard, San Jose, Santa Clara County, CAL Fire Northern Region, California, 95129, United States: San Jose, 95129\n",
      "\n",
      "1062 8500, El Matador Drive, Santa Clara County, California, 95020, United States: El Matador Drive, 95020\n",
      "\n",
      "1063 13800, Sycamore Avenue, San Martin, Santa Clara County, California, 95046, United States: San Martin, 95046\n",
      "\n",
      "1064 18600, Ravenwood Drive, Saratoga, Santa Clara County, California, 95070, United States: Saratoga, 95070\n",
      "\n",
      "1065 Stevens Creek Boulevard, Cupertino, Santa Clara County, CAL Fire Northern Region, California, 95014, United States: Cupertino, 95014\n",
      "\n",
      "1066 Prospect Road, San Jose, Santa Clara County, California, 95070, United States: San Jose, 95070\n",
      "\n",
      "1067 1, South Abel Street, Milpitas, Santa Clara County, CAL Fire Northern Region, California, 95035, United States: Milpitas, 95035\n",
      "\n",
      "1068 Fallenleaf Lane, San Jose, Santa Clara County, California, 95014, United States: San Jose, 95014\n",
      "\n",
      "1069 16800, Chirco Court, Los Gatos, Santa Clara County, California, 95032, United States: Los Gatos, 95032\n",
      "\n",
      "1070 13100, Uvas Road, Santa Clara County, California, 95037, United States: Uvas Road, 95037\n",
      "\n",
      "1071 9400, Marcella Avenue, Santa Clara County, California, 95020, United States: Marcella Avenue, 95020\n",
      "\n",
      "1072 9400, Marcella Avenue, Santa Clara County, California, 95020, United States: Marcella Avenue, 95020\n",
      "\n",
      "1073 1, West Younger Avenue, Civic Center, Japantown, San Jose, Santa Clara County, California, 95110, United States: San Jose, 95110\n",
      "\n",
      "1074 200, Nob Hill Way, Los Gatos, Santa Clara County, CAL Fire Northern Region, California, 95032, United States: Los Gatos, 95032\n",
      "\n",
      "1075 26100, Maurer Lane, Los Altos Hills, Santa Clara County, CAL Fire Northern Region, California, 94022, United States: Los Altos Hills, 94022\n",
      "\n",
      "1076 12900, Saratoga-Sunnyvale Road, Blue Hills, Saratoga, Santa Clara County, California, 95070, United States: Saratoga, 95070\n",
      "\n",
      "1077 Blauer Drive, Argonaut Place Shopping Center, Saratoga, Santa Clara County, California, 95070, United States: Saratoga, 95070\n",
      "\n",
      "1078 South De Anza Boulevard, San Jose, Santa Clara County, CAL Fire Northern Region, California, 95014, United States: San Jose, 95014\n",
      "\n",
      "1079 13600, Manteca Way, Saratoga, Santa Clara County, California, 95070, United States: Saratoga, 95070\n",
      "NR: 1080 \n",
      "1081 11200, Redondo Court, Cupertino, Santa Clara County, California, 95014, United States: Cupertino, 95014\n",
      "\n",
      "1082 6200, Santa Teresa Boulevard, San Jose, Santa Clara County, CAL Fire Northern Region, California, 95119, United States: San Jose, 95119\n",
      "\n",
      "1083 Almaden Road, Willow Glen, San Jose, Santa Clara County, CAL Fire Northern Region, California, 95125, United States: San Jose, 95125\n",
      "\n",
      "1084 Doyle Road, San Jose, Santa Clara County, CAL Fire Northern Region, California, 95129, United States: San Jose, 95129\n",
      "\n",
      "1085 Lawrence Expressway, Lawrence, Santa Clara, Santa Clara County, CAL Fire Northern Region, California, 95086, United States: Santa Clara, 95086\n",
      "\n",
      "1086 Vitality Bowls, 19800, Vallco Parkway, Cupertino, Santa Clara County, California, 95014, United States: Cupertino, 95014\n",
      "\n",
      "1087 4000, Pacheco Pass Highway, Silva T.S. Ranch, Santa Clara County, California, 95020, United States: Silva T.S. Ranch, 95020\n",
      "\n",
      "1088 10200, Johnson Avenue, Rancho Rinconada, Cupertino, Santa Clara County, California, 95129, United States: Cupertino, 95129\n",
      "\n",
      "1089 20700, Prospect Road, Seven Springs, Cupertino, Santa Clara County, California, 95070, United States: Cupertino, 95070\n",
      "\n",
      "1090 1, South Abel Street, Milpitas, Santa Clara County, CAL Fire Northern Region, California, 95035, United States: Milpitas, 95035\n",
      "\n",
      "1091 1, West Hedding Street, Civic Center, Japantown, San Jose, Santa Clara County, CAL Fire Northern Region, California, 95110, United States: San Jose, 95110\n",
      "\n",
      "1092 South De Anza Boulevard, San Jose, Santa Clara County, CAL Fire Northern Region, California, 95014, United States: San Jose, 95014\n",
      "\n",
      "1093 Regan Lane, Blue Hills, Saratoga, Santa Clara County, California, 95070, United States: Saratoga, 95070\n",
      "NR: 1094 \n",
      "1095 Country Club Drive, Milpitas, Santa Clara County, CAL Fire Northern Region, California, 95035, United States: Milpitas, 95035\n",
      "\n",
      "1096 1, Alviso, San Jose, Santa Clara County, California, United States: San Jose, California\n",
      "\n",
      "1097 1, South Abel Street, Milpitas, Santa Clara County, CAL Fire Northern Region, California, 95035, United States: Milpitas, 95035\n",
      "\n",
      "1098 1, South Milpitas Boulevard, Milpitas, Santa Clara County, California, 95035, United States: Milpitas, 95035\n",
      "\n",
      "1099 Monterey Road, San Jose, Santa Clara County, CAL Fire Northern Region, California, 95111, United States: San Jose, 95111\n",
      "\n",
      "1100 Monterey Road, San Jose, Santa Clara County, CAL Fire Northern Region, California, 95111, United States: San Jose, 95111\n",
      "\n",
      "1101 Bailey Avenue, San Jose, Santa Clara County, California, 95013, United States: San Jose, 95013\n",
      "\n",
      "1102 1, West Mission Street, Civic Center, Japantown, San Jose, Santa Clara County, California, 95110, United States: San Jose, 95110\n",
      "\n",
      "1103 1, West Hedding Street, Civic Center, Japantown, San Jose, Santa Clara County, CAL Fire Northern Region, California, 95110, United States: San Jose, 95110\n",
      "NR: 1104 NR: 1105 \n",
      "1106 20800, Garden Gate Drive, Cupertino, Santa Clara County, California, 95014, United States: Cupertino, 95014\n",
      "\n",
      "1107 15300, Pepper Lane, Saratoga, Santa Clara County, California, 95070, United States: Saratoga, 95070\n",
      "\n",
      "1108 20800, Valley Green Drive, The Villages at Cupertino, Cupertino, Santa Clara County, California, 95014, United States: Cupertino, 95014\n",
      "\n",
      "1109 11900, Ellery Street, San Jose, Santa Clara County, California, 95127, United States: San Jose, 95127\n",
      "NR: 1110 \n",
      "1111 1, Bernal Road, San Jose, Santa Clara County, CAL Fire Northern Region, California, 95119, United States: San Jose, 95119\n",
      "\n",
      "1112 1, West Alma Avenue, San Jose, Santa Clara County, California, 95110, United States: San Jose, 95110\n",
      "\n",
      "1113 10200, Miller Avenue, Rancho Rinconada, Cupertino, Santa Clara County, California, 95014, United States: Cupertino, 95014\n"
     ]
    },
    {
     "name": "stdout",
     "output_type": "stream",
     "text": [
      "\n",
      "1114 Laswell Avenue, Rose Garden, San Jose, Santa Clara County, California, 95128, United States: San Jose, 95128\n",
      "\n",
      "1115 200, Quinnhill Avenue, Loyola, Los Altos, Santa Clara County, California, 94024, United States: Los Altos, 94024\n",
      "\n",
      "1116 Saratoga-Sunnyvale Road, Blue Hills, Saratoga, Santa Clara County, California, 95014, United States: Saratoga, 95014\n",
      "\n",
      "1117 Santa Clara County, CAL Fire Northern Region, California, United States: United States, California\n",
      "NR: 1118 \n",
      "1119 10300, Mann Drive, Monta Vista, Cupertino, Santa Clara County, California, 95014, United States: Cupertino, 95014\n",
      "\n",
      "1120 13400, Country Way, Los Altos Hills, Santa Clara County, California, 94022, United States: Los Altos Hills, 94022\n",
      "\n",
      "1121 10100, Carmen Road, Monta Vista, Cupertino, Santa Clara County, California, 95014, United States: Cupertino, 95014\n",
      "\n",
      "1122 21100, Haymeadow Drive, Saratoga, Santa Clara County, California, 95070, United States: Saratoga, 95070\n",
      "\n",
      "1123 15800, Mina Way, Saratoga, Santa Clara County, California, 95070, United States: Saratoga, 95070\n",
      "NR: 1124 \n",
      "1125 20900, Canyon View Drive, Saratoga, Santa Clara County, California, 95070, United States: Saratoga, 95070\n",
      "\n",
      "1126 Carol Drive, San Jose, Santa Clara County, California, 95125, United States: San Jose, 95125\n",
      "\n",
      "1127 20500, Reid Lane, Saratoga, Santa Clara County, California, 95070, United States: Saratoga, 95070\n",
      "\n",
      "1128 19400, Stevens Creek Boulevard, Cupertino, Santa Clara County, CAL Fire Northern Region, California, 95014, United States: Cupertino, 95014\n",
      "\n",
      "1129 22200, Hammond Way, Cupertino, Santa Clara County, California, 95014, United States: Cupertino, 95014\n",
      "\n",
      "1130 18900, Harleigh Drive, Saratoga, Santa Clara County, California, 95070, United States: Saratoga, 95070\n",
      "\n",
      "1131 11000, Eastbrook Avenue, Loyola, Santa Clara County, California, 94024, United States: Loyola, 94024\n",
      "\n",
      "1132 2700, Carol Drive, Communications Hill, San Jose, Santa Clara County, California, 95136, United States: San Jose, 95136\n",
      "\n",
      "1133 12200, Tepa Way, Los Altos Hills, Santa Clara County, California, 94022, United States: Los Altos Hills, 94022\n",
      "NR: 1134 \n",
      "1135 15800, Mina Way, Saratoga, Santa Clara County, California, 95070, United States: Saratoga, 95070\n",
      "\n",
      "1136 10300, Joyce Court, Alum Rock, San Jose, Santa Clara County, California, 95127, United States: San Jose, 95127\n",
      "\n",
      "1137 1, Kirk Avenue, Alum Rock, San Jose, Santa Clara County, California, 95127, United States: San Jose, 95127\n",
      "\n",
      "1138 24900, Oneonta Drive, Los Altos Hills, Santa Clara County, California, 94022, United States: Los Altos Hills, 94022\n",
      "\n",
      "1139 12200, Tepa Way, Los Altos Hills, Santa Clara County, California, 94022, United States: Los Altos Hills, 94022\n",
      "\n",
      "1140 20500, Reid Lane, Saratoga, Santa Clara County, California, 95070, United States: Saratoga, 95070\n",
      "\n",
      "1141 2700, Carol Drive, Communications Hill, San Jose, Santa Clara County, California, 95136, United States: San Jose, 95136\n",
      "\n",
      "1142 Miraloma Way, Los Altos Hills, Santa Clara County, California, 94024, United States: Los Altos Hills, 94024\n",
      "\n",
      "1143 10100, Oakleaf Place, Monta Vista, Cupertino, Santa Clara County, California, 95014, United States: Cupertino, 95014\n",
      "\n",
      "1144 12200, Tepa Way, Los Altos Hills, Santa Clara County, California, 94022, United States: Los Altos Hills, 94022\n",
      "NR: 1145 \n",
      "1146 Altamont Road, Los Altos Hills, Santa Clara County, California, 94022, United States: Los Altos Hills, 94022\n",
      "\n",
      "1147 400, South Bascom Avenue, Rose Garden, San Jose, Santa Clara County, California, 95128, United States: San Jose, 95128\n",
      "\n",
      "1148 Phở Hà Nội San Jose, 10100, South De Anza Boulevard, Cupertino, Santa Clara County, CAL Fire Northern Region, California, 95014, United States: Cupertino, 95014\n",
      "\n",
      "1149 12200, Tepa Way, Los Altos Hills, Santa Clara County, California, 94022, United States: Los Altos Hills, 94022\n",
      "\n",
      "1150 400, Laswell Avenue, Rose Garden, San Jose, Santa Clara County, California, 95128, United States: San Jose, 95128\n",
      "NR: 1151 \n",
      "1152 West Taylor Street, College Park, Japantown, San Jose, Santa Clara County, California, 95110, United States: San Jose, 95110\n",
      "\n",
      "1153 Silver Creek Road, San Jose, Santa Clara County, CAL Fire Northern Region, California, 95121, United States: San Jose, 95121\n",
      "NR: 1154 \n",
      "1155 Santa Teresa Boulevard, Avenida Espana, San Jose, Santa Clara County, CAL Fire Northern Region, California, 95139, United States: San Jose, 95139\n",
      "\n",
      "1156 24100, Big Basin Way, Santa Clara County, California, 95070, United States: Big Basin Way, 95070\n",
      "\n",
      "1157 26700, Palo Hills Drive, Los Altos Hills, Santa Clara County, California, 94022, United States: Los Altos Hills, 94022\n",
      "\n",
      "1158 26700, Palo Hills Drive, Los Altos Hills, Santa Clara County, California, 94022, United States: Los Altos Hills, 94022\n"
     ]
    },
    {
     "name": "stderr",
     "output_type": "stream",
     "text": [
      "WARNING:urllib3.connectionpool:Retrying (Retry(total=1, connect=None, read=None, redirect=None, status=None)) after connection broken by 'ReadTimeoutError(\"HTTPSConnectionPool(host='nominatim.openstreetmap.org', port=443): Read timed out. (read timeout=1)\")': /search?q=MAGDALENA+RD%2C+SANTA+CLARA+COUNTY%2C+CA&format=json&limit=1\n"
     ]
    },
    {
     "name": "stdout",
     "output_type": "stream",
     "text": [
      "NR: 1159 NR: 1160 NR: 1161 \n",
      "1162 1500, Hillview Drive, Loyola, Santa Clara County, California, 94024, United States: Loyola, 94024\n",
      "\n",
      "1163 8700, Leavesley Road, Santa Clara County, California, 95020, United States: Leavesley Road, 95020\n",
      "\n",
      "1164 Canon, 3300, North 1st Street, North San Jose, San Jose, Santa Clara County, CAL Fire Northern Region, California, 95134, United States: San Jose, 95134\n",
      "\n",
      "1165 South Bascom Avenue, Rose Garden, San Jose, Santa Clara County, California, 95128, United States: San Jose, 95128\n",
      "\n",
      "1166 North 2nd Street, Hensley Historic District, Japantown, San Jose, Santa Clara County, CAL Fire Northern Region, California, 95110, United States: San Jose, 95110\n",
      "\n",
      "1167 11600, Winding Way, Lexington Hills, Redwood Estates, Santa Clara County, California, 95033, United States: Redwood Estates, 95033\n",
      "\n",
      "1168 200, Panama Street, Stanford, Santa Clara County, CAL Fire Northern Region, California, 94305, United States: Stanford, 94305\n",
      "\n",
      "1169 1, Alviso, San Jose, Santa Clara County, California, United States: San Jose, California\n",
      "\n",
      "1170 13100, Stewart Court, Saratoga, Santa Clara County, California, 95070, United States: Saratoga, 95070\n",
      "\n",
      "1171 9500, Meg Court, Santa Clara County, California, 95020, United States: Meg Court, 95020\n"
     ]
    },
    {
     "name": "stderr",
     "output_type": "stream",
     "text": [
      "WARNING:urllib3.connectionpool:Retrying (Retry(total=1, connect=None, read=None, redirect=None, status=None)) after connection broken by 'ReadTimeoutError(\"HTTPSConnectionPool(host='nominatim.openstreetmap.org', port=443): Read timed out. (read timeout=1)\")': /search?q=1++%2C+SANTA+CLARA+COUNTY%2C+CA&format=json&limit=1\n"
     ]
    },
    {
     "name": "stdout",
     "output_type": "stream",
     "text": [
      "\n",
      "1172 1, Alviso, San Jose, Santa Clara County, California, United States: San Jose, California\n",
      "\n",
      "1173 20700, Canyon View Drive, Saratoga, Santa Clara County, California, 95070, United States: Saratoga, 95070\n",
      "\n",
      "1174 1, Paquita Espana Court, Santa Clara County, California, 95037, United States: Paquita Espana Court, 95037\n",
      "\n",
      "1175 10900, Via Sorrento, Portofino, Cupertino, Santa Clara County, California, 95014, United States: Cupertino, 95014\n",
      "\n",
      "1176 200, Delia Street, Alum Rock, San Jose, Santa Clara County, California, 95127, United States: San Jose, 95127\n",
      "\n",
      "1177 20800, Garden Gate Drive, Cupertino, Santa Clara County, California, 95014, United States: Cupertino, 95014\n",
      "\n",
      "1178 5300, Sierra Road, Santa Clara County, CAL Fire Northern Region, California, 95132, United States: Sierra Road, 95132\n",
      "\n",
      "1179 1, Alviso, San Jose, Santa Clara County, California, United States: San Jose, California\n",
      "\n",
      "1180 10800, Northpoint Way, Cupertino, Santa Clara County, California, 95014, United States: Cupertino, 95014\n",
      "NR: 1181 \n",
      "1182 16800, Skyline Boulevard, Santa Clara County, CAL Fire Northern Region, California, 95033, United States: Skyline Boulevard, 95033\n",
      "\n",
      "1183 Hogan Drive, Santa Clara, Santa Clara County, California, 95054, United States: Santa Clara, 95054\n",
      "\n",
      "1184 400, Richmond Avenue, Buena Vista, San Jose, Santa Clara County, California, 95128, United States: San Jose, 95128\n",
      "\n",
      "1185 1, West Hedding Street, Civic Center, Japantown, San Jose, Santa Clara County, CAL Fire Northern Region, California, 95110, United States: San Jose, 95110\n",
      "\n",
      "1186 Saratoga-Sunnyvale Road, Blue Hills, Saratoga, Santa Clara County, California, 95014, United States: Saratoga, 95014\n",
      "\n",
      "1187 Charmeran Avenue, Cambrian Park, San Jose, Santa Clara County, California, 95124, United States: San Jose, 95124\n",
      "\n",
      "1188 1800, West San Carlos Street, Buena Vista, San Jose, Santa Clara County, California, 95128, United States: San Jose, 95128\n",
      "\n",
      "1189 22200, Hammond Way, Cupertino, Santa Clara County, California, 95014, United States: Cupertino, 95014\n",
      "\n",
      "1190 Alum Rock Avenue, Alum Rock, San Jose, Santa Clara County, California, 95127, United States: San Jose, 95127\n",
      "\n",
      "1191 Stevens Creek Boulevard, Cupertino, Santa Clara County, CAL Fire Northern Region, California, 95014, United States: Cupertino, 95014\n",
      "\n",
      "1192 24900, La Loma Court, Los Altos Hills, Santa Clara County, California, 94022, United States: Los Altos Hills, 94022\n",
      "\n",
      "1193 20800, Alves Drive, Cupertino, Santa Clara County, California, 95014, United States: Cupertino, 95014\n",
      "\n",
      "1194 Mammini Court, San Martin, Santa Clara County, California, 95046, United States: San Martin, 95046\n",
      "NR: 1195 \n",
      "1196 13700, Wildflower Lane, Los Altos Hills, Santa Clara County, California, 94022, United States: Los Altos Hills, 94022\n",
      "\n",
      "1197 1, South Milpitas Boulevard, Milpitas, Santa Clara County, California, 95035, United States: Milpitas, 95035\n",
      "\n",
      "1198 18700, San Palo Court, Saratoga, Santa Clara County, California, 95070, United States: Saratoga, 95070\n",
      "\n",
      "1199 1, Serra Street, Rains Houses, Stanford, Santa Clara County, California, 94305, United States: Stanford, 94305\n",
      "\n",
      "1200 100, Rockway Drive, Alum Rock, Santa Clara County, California, 95127, United States: Alum Rock, 95127\n",
      "\n",
      "1201 North Capitol Avenue, San Jose, Santa Clara County, CAL Fire Northern Region, California, 95131, United States: San Jose, 95131\n",
      "\n",
      "1202 South Bascom Avenue, San Jose, Santa Clara County, California, 95032, United States: San Jose, 95032\n",
      "\n",
      "1203 Abundant Life Assembly of God Church, 10100, North Stelling Road, Cupertino, Santa Clara County, California, 95014, United States: Cupertino, 95014\n",
      "\n",
      "1204 Abundant Life Assembly of God Church, 10100, North Stelling Road, Cupertino, Santa Clara County, California, 95014, United States: Cupertino, 95014\n"
     ]
    },
    {
     "name": "stderr",
     "output_type": "stream",
     "text": [
      "WARNING:urllib3.connectionpool:Retrying (Retry(total=1, connect=None, read=None, redirect=None, status=None)) after connection broken by 'ReadTimeoutError(\"HTTPSConnectionPool(host='nominatim.openstreetmap.org', port=443): Read timed out. (read timeout=1)\")': /search?q=2000++MONTEREY+HWY%2C+SANTA+CLARA+COUNTY%2C+CA&format=json&limit=1\n"
     ]
    },
    {
     "name": "stdout",
     "output_type": "stream",
     "text": [
      "\n",
      "1205 2000, Monterey Road, San Jose, Santa Clara County, CAL Fire Northern Region, California, 95112, United States: San Jose, 95112\n",
      "\n",
      "1206 Story Road, Little Portugal, San Jose, Santa Clara County, CAL Fire Northern Region, California, 95122, United States: San Jose, 95122\n"
     ]
    },
    {
     "name": "stderr",
     "output_type": "stream",
     "text": [
      "WARNING:urllib3.connectionpool:Retrying (Retry(total=1, connect=None, read=None, redirect=None, status=None)) after connection broken by 'ReadTimeoutError(\"HTTPSConnectionPool(host='nominatim.openstreetmap.org', port=443): Read timed out. (read timeout=1)\")': /search?q=1++%26+TIKAY%2C+SANTA+CLARA+COUNTY%2C+CA&format=json&limit=1\n"
     ]
    },
    {
     "name": "stdout",
     "output_type": "stream",
     "text": [
      "NR: 1207 \n",
      "1208 18800, Allendale Avenue, Saratoga, Santa Clara County, California, 95070, United States: Saratoga, 95070\n",
      "\n",
      "1209 1, Chester Avenue, San Martin, Santa Clara County, California, 95046, United States: San Martin, 95046\n",
      "\n",
      "1210 2000, Monterey Road, San Jose, Santa Clara County, CAL Fire Northern Region, California, 95112, United States: San Jose, 95112\n"
     ]
    },
    {
     "name": "stderr",
     "output_type": "stream",
     "text": [
      "WARNING:urllib3.connectionpool:Retrying (Retry(total=1, connect=None, read=None, redirect=None, status=None)) after connection broken by 'ReadTimeoutError(\"HTTPSConnectionPool(host='nominatim.openstreetmap.org', port=443): Read timed out. (read timeout=1)\")': /search?q=HWY+17%2C+SANTA+CLARA+COUNTY%2C+CA&format=json&limit=1\n",
      "WARNING:urllib3.connectionpool:Retrying (Retry(total=0, connect=None, read=None, redirect=None, status=None)) after connection broken by 'ReadTimeoutError(\"HTTPSConnectionPool(host='nominatim.openstreetmap.org', port=443): Read timed out. (read timeout=1)\")': /search?q=HWY+17%2C+SANTA+CLARA+COUNTY%2C+CA&format=json&limit=1\n",
      "ERROR:root:HTTPSConnectionPool(host='nominatim.openstreetmap.org', port=443): Max retries exceeded with url: /search?q=HWY+17%2C+SANTA+CLARA+COUNTY%2C+CA&format=json&limit=1 (Caused by ReadTimeoutError(\"HTTPSConnectionPool(host='nominatim.openstreetmap.org', port=443): Read timed out. (read timeout=1)\"))\n"
     ]
    },
    {
     "name": "stdout",
     "output_type": "stream",
     "text": [
      "NR: 1211 \n",
      "1212 20400, Franklin Avenue, Saratoga, Santa Clara County, California, 95070, United States: Saratoga, 95070\n",
      "\n",
      "1213 Palm Drive, Stanford, Santa Clara County, California, 94305, United States: Stanford, 94305\n",
      "\n",
      "1214 21100, Sullivan Way, Saratoga, Santa Clara County, California, 95070, United States: Saratoga, 95070\n",
      "\n",
      "1215 Forsum Road, California Maison, San Jose, Santa Clara County, California, 95139, United States: San Jose, 95139\n",
      "\n",
      "1216 20500, Lomita Avenue, Saratoga, Santa Clara County, California, 95070, United States: Saratoga, 95070\n",
      "\n",
      "1217 13700, Howen Drive, Saratoga, Santa Clara County, California, 95070, United States: Saratoga, 95070\n",
      "\n",
      "1218 25000, Tepa Way, Los Altos Hills, Santa Clara County, California, 94022, United States: Los Altos Hills, 94022\n",
      "\n",
      "1219 Trieste Court, San Jose, Santa Clara County, California, 95122, United States: San Jose, 95122\n",
      "\n",
      "1220 Telecare, 800, North 1st Street, Civic Center, Japantown, San Jose, Santa Clara County, CAL Fire Northern Region, California, 95112, United States: San Jose, 95112\n",
      "\n",
      "1221 400, Vaughn Avenue, Rose Garden, San Jose, Santa Clara County, California, 95128, United States: San Jose, 95128\n"
     ]
    },
    {
     "name": "stderr",
     "output_type": "stream",
     "text": [
      "WARNING:urllib3.connectionpool:Retrying (Retry(total=1, connect=None, read=None, redirect=None, status=None)) after connection broken by 'ReadTimeoutError(\"HTTPSConnectionPool(host='nominatim.openstreetmap.org', port=443): Read timed out. (read timeout=1)\")': /search?q=1++%2C+SANTA+CLARA+COUNTY%2C+CA&format=json&limit=1\n"
     ]
    },
    {
     "name": "stdout",
     "output_type": "stream",
     "text": [
      "\n",
      "1222 1, Alviso, San Jose, Santa Clara County, California, United States: San Jose, California\n",
      "\n",
      "1223 9500, Monterey Road, San Jose, Santa Clara County, California, 95037, United States: San Jose, 95037\n",
      "\n",
      "1224 9500, Monterey Road, San Jose, Santa Clara County, California, 95037, United States: San Jose, 95037\n",
      "\n",
      "1225 1, Blossom Hill Road, San Jose, Santa Clara County, CAL Fire Northern Region, California, 95123, United States: San Jose, 95123\n",
      "NR: 1226 \n",
      "1227 14400, Bercaw Lane, Cambrian Park, San Jose, Santa Clara County, California, 95124, United States: San Jose, 95124\n",
      "\n",
      "1228 22400, Summit Road, Villa Del Monte, Summit, Santa Clara County, CAL Fire Northern Region, California, 95033, United States: Summit, 95033\n",
      "\n",
      "1229 East El Camino Real, Mountain View, Santa Clara County, CAL Fire Northern Region, California, 94040, United States: Mountain View, 94040\n",
      "\n",
      "1230 Phở Hà Nội San Jose, 10100, South De Anza Boulevard, Cupertino, Santa Clara County, CAL Fire Northern Region, California, 95014, United States: Cupertino, 95014\n",
      "\n",
      "1231 1, West Virginia Street, Washington, San Jose, Santa Clara County, California, 95110, United States: San Jose, 95110\n",
      "\n",
      "1232 100, University Avenue, Palo Alto, Santa Clara County, California, 94301, United States: Palo Alto, 94301\n",
      "NR: 1233 \n",
      "1234 10300, Kenny Lane, San Jose, Santa Clara County, California, 95127, United States: San Jose, 95127\n",
      "\n",
      "1235 Foothill Avenue, Morgan Hill, Santa Clara County, California, 95046, United States: Morgan Hill, 95046\n",
      "\n",
      "1236 10300, Kenny Lane, San Jose, Santa Clara County, California, 95127, United States: San Jose, 95127\n",
      "\n",
      "1237 Santa Teresa Boulevard, Santa Teresa, San Jose, Santa Clara County, CAL Fire Northern Region, California, 95139, United States: San Jose, 95139\n",
      "\n",
      "1238 14800, Olive Avenue, Morgan Hill, Santa Clara County, California, 95037, United States: Morgan Hill, 95037\n",
      "\n",
      "1239 Saratoga-Sunnyvale Road, Blue Hills, Saratoga, Santa Clara County, California, 95014, United States: Saratoga, 95014\n",
      "\n",
      "1240 14300, Bercaw Lane, Cambrian Park, San Jose, Santa Clara County, California, 95124, United States: San Jose, 95124\n",
      "\n",
      "1241 14300, Bercaw Lane, Cambrian Park, San Jose, Santa Clara County, California, 95124, United States: San Jose, 95124\n",
      "\n",
      "1242 Calvert Drive, San Jose, Santa Clara County, California, 95129, United States: San Jose, 95129\n",
      "\n",
      "1243 10800, Ridgeview Avenue, East Foothills, Santa Clara County, California, 95127, United States: East Foothills, 95127\n",
      "\n",
      "1244 800, Toyon Avenue, San Jose, Santa Clara County, California, 95127, United States: San Jose, 95127\n",
      "\n",
      "1245 10800, Ridgeview Avenue, East Foothills, Santa Clara County, California, 95127, United States: East Foothills, 95127\n",
      "\n",
      "1246 Saratoga Avenue, Saratoga, Santa Clara County, California, 95070, United States: Saratoga, 95070\n",
      "\n",
      "1247 Tasman Drive, Sunnyvale, Santa Clara County, California, 94089, United States: Sunnyvale, 94089\n",
      "\n",
      "1248 2200, Elliott Street, Buena Vista, San Jose, Santa Clara County, California, 95128, United States: San Jose, 95128\n",
      "\n",
      "1249 24900, La Loma Court, Los Altos Hills, Santa Clara County, California, 94022, United States: Los Altos Hills, 94022\n",
      "\n",
      "1250 1100, North 5th Street, Civic Center, Japantown, San Jose, Santa Clara County, CAL Fire Northern Region, California, 95112, United States: San Jose, 95112\n",
      "\n",
      "1251 17200, Holiday Drive, Morgan Hill, Santa Clara County, California, 95037, United States: Morgan Hill, 95037\n",
      "\n",
      "1252 1, South Abel Street, Milpitas, Santa Clara County, CAL Fire Northern Region, California, 95035, United States: Milpitas, 95035\n",
      "\n",
      "1253 14800, Olive Avenue, Morgan Hill, Santa Clara County, California, 95037, United States: Morgan Hill, 95037\n",
      "\n",
      "1254 Santa Clara County, CAL Fire Northern Region, California, United States: United States, California\n",
      "\n",
      "1255 Santa Clara County, CAL Fire Northern Region, California, United States: United States, California\n",
      "\n",
      "1256 Santa Clara County, CAL Fire Northern Region, California, United States: United States, California\n",
      "\n",
      "1257 Santa Clara County, CAL Fire Northern Region, California, United States: United States, California\n",
      "\n",
      "1258 10500, La Roda Drive, Rancho Rinconada, Cupertino, Santa Clara County, California, 95014, United States: Cupertino, 95014\n",
      "\n",
      "1259 Santa Clara County, CAL Fire Northern Region, California, United States: United States, California\n",
      "NR: 1260 \n",
      "1261 14800, Olive Avenue, Morgan Hill, Santa Clara County, California, 95037, United States: Morgan Hill, 95037\n",
      "\n",
      "1262 2700, Junction Avenue, North San Jose, San Jose, Santa Clara County, California, 95134, United States: San Jose, 95134\n",
      "\n",
      "1263 20700, Stevens Creek Boulevard, The Crossroads, Cupertino, Santa Clara County, CAL Fire Northern Region, California, 95014, United States: Cupertino, 95014\n",
      "\n",
      "1264 14500, Camden Avenue, Cambrian Park, San Jose, Santa Clara County, California, 95124, United States: San Jose, 95124\n",
      "\n",
      "1265 10700, Peninsular Avenue, Cupertino, Santa Clara County, California, 95014, United States: Cupertino, 95014\n",
      "\n",
      "1266 18700, Afton Avenue, Saratoga, Santa Clara County, California, 95070, United States: Saratoga, 95070\n",
      "\n",
      "1267 Day Road, Gilroy, Santa Clara County, California, 95020, United States: Gilroy, 95020\n",
      "\n",
      "1268 100, North 1st Street, Saint James Square Historic District, Japantown, San Jose, Santa Clara County, CAL Fire Northern Region, California, 95112, United States: San Jose, 95112\n",
      "\n",
      "1269 Daylight Way, San Jose, Santa Clara County, California, 95136, United States: San Jose, 95136\n",
      "\n",
      "1270 11200, Stauffer Lane, Seven Springs, Cupertino, Santa Clara County, California, 95014, United States: Cupertino, 95014\n",
      "\n",
      "1271 Daylight Way, San Jose, Santa Clara County, California, 95136, United States: San Jose, 95136\n",
      "\n",
      "1272 Meridian Avenue, San Jose, Santa Clara County, California, 95118, United States: San Jose, 95118\n",
      "\n",
      "1273 John Kirk Court, Campbell, Santa Clara County, California, 95130, United States: Campbell, 95130\n",
      "\n",
      "1274 10600, Randy Lane, Cupertino, Santa Clara County, California, 95014, United States: Cupertino, 95014\n",
      "\n",
      "1275 12100, Columbet Avenue, San Martin, Santa Clara County, California, 95046, United States: San Martin, 95046\n",
      "\n",
      "1276 13300, Depot Street, San Martin, Santa Clara County, California, 95046, United States: San Martin, 95046\n",
      "\n",
      "1277 Quimby Road, San Jose, Santa Clara County, California, 95148, United States: San Jose, 95148\n",
      "\n",
      "1278 100, Stonybrook Road, Los Gatos, Santa Clara County, California, 95032, United States: Los Gatos, 95032\n",
      "\n",
      "1279 300, Arleta Avenue, Rose Garden, San Jose, Santa Clara County, California, 95128, United States: San Jose, 95128\n",
      "\n",
      "1280 Quimby Road, San Jose, Santa Clara County, California, 95148, United States: San Jose, 95148\n",
      "\n",
      "1281 2000, Monterey Road, San Jose, Santa Clara County, CAL Fire Northern Region, California, 95112, United States: San Jose, 95112\n",
      "\n",
      "1282 2000, North 1st Street, North San Jose, San Jose, Santa Clara County, CAL Fire Northern Region, California, 95131, United States: San Jose, 95131\n",
      "\n",
      "1283 2700, Carol Drive, Communications Hill, San Jose, Santa Clara County, California, 95136, United States: San Jose, 95136\n",
      "\n",
      "1284 2000, North 1st Street, North San Jose, San Jose, Santa Clara County, CAL Fire Northern Region, California, 95131, United States: San Jose, 95131\n",
      "NR: 1285 \n",
      "1286 1, South Abel Street, Milpitas, Santa Clara County, CAL Fire Northern Region, California, 95035, United States: Milpitas, 95035\n",
      "\n",
      "1287 1, West Hedding Street, Civic Center, Japantown, San Jose, Santa Clara County, CAL Fire Northern Region, California, 95110, United States: San Jose, 95110\n",
      "\n",
      "1288 Metcalf Road, San Jose, Santa Clara County, California, 95151, United States: San Jose, 95151\n",
      "\n",
      "1289 North Foothill Boulevard, Cupertino, Santa Clara County, California, 94087, United States: Cupertino, 94087\n",
      "\n",
      "1290 13000, Alta Tierra Road, Los Altos Hills, Santa Clara County, California, 94022, United States: Los Altos Hills, 94022\n",
      "\n",
      "1291 800, Summit Road, Santa Clara County, California, 95076, United States: Summit Road, 95076\n",
      "\n",
      "1292 Santa Teresa Boulevard, Avenida Espana, San Jose, Santa Clara County, CAL Fire Northern Region, California, 95139, United States: San Jose, 95139\n",
      "\n",
      "1293 North 1st Street, North San Jose, San Jose, Santa Clara County, CAL Fire Northern Region, California, 95031, United States: San Jose, 95031\n"
     ]
    },
    {
     "name": "stdout",
     "output_type": "stream",
     "text": [
      "\n",
      "1294 Tasman Drive, Sunnyvale, Santa Clara County, California, 94089, United States: Sunnyvale, 94089\n",
      "\n",
      "1295 1, West Hedding Street, Civic Center, Japantown, San Jose, Santa Clara County, CAL Fire Northern Region, California, 95110, United States: San Jose, 95110\n",
      "\n",
      "1296 2700, Carol Drive, Communications Hill, San Jose, Santa Clara County, California, 95136, United States: San Jose, 95136\n",
      "\n",
      "1297 200, Delia Street, Alum Rock, San Jose, Santa Clara County, California, 95127, United States: San Jose, 95127\n",
      "\n",
      "1298 10600, Hale Avenue, Santa Clara County, California, 95037, United States: Hale Avenue, 95037\n",
      "\n",
      "1299 600, West Capitol Expressway, San Jose, Santa Clara County, CAL Fire Northern Region, California, 95136, United States: San Jose, 95136\n",
      "\n",
      "1300 2700, Ferguson Road, Santa Clara County, California, 95020, United States: Ferguson Road, 95020\n",
      "\n",
      "1301 Scully Avenue, Saratoga, Santa Clara County, California, 95070, United States: Saratoga, 95070\n",
      "\n",
      "1302 21300, Vai Avenue, Cupertino, Santa Clara County, California, 95014, United States: Cupertino, 95014\n",
      "\n",
      "1303 15600, Cherry Blossom Lane, Shannon, Los Gatos, Santa Clara County, California, 95032, United States: Los Gatos, 95032\n",
      "\n",
      "1304 15600, Cherry Blossom Lane, Shannon, Los Gatos, Santa Clara County, California, 95032, United States: Los Gatos, 95032\n",
      "\n",
      "1305 South Bascom Avenue, Rose Garden, San Jose, Santa Clara County, California, 95128, United States: San Jose, 95128\n",
      "\n",
      "1306 Old Santa Cruz Highway, Holy City, Redwood Estates, Santa Clara County, CAL Fire Northern Region, California, 95033, United States: Redwood Estates, 95033\n",
      "\n",
      "1307 19200, Harleigh Drive, Saratoga, Santa Clara County, California, 95070, United States: Saratoga, 95070\n",
      "\n",
      "1308 Hogan Drive, Santa Clara, Santa Clara County, California, 95054, United States: Santa Clara, 95054\n",
      "\n",
      "1309 North 1st Street, North San Jose, San Jose, Santa Clara County, CAL Fire Northern Region, California, 95031, United States: San Jose, 95031\n",
      "\n",
      "1310 Fleming Avenue, San Jose, Santa Clara County, California, 95127, United States: San Jose, 95127\n",
      "\n",
      "1311 Day Road, Gilroy, Santa Clara County, California, 95020, United States: Gilroy, 95020\n",
      "\n",
      "1312 Snell Avenue, San Jose, Santa Clara County, CAL Fire Northern Region, California, 95123, United States: San Jose, 95123\n",
      "\n",
      "1313 Lincoln Avenue, Crescent Park, Palo Alto, Santa Clara County, California, 94301, United States: Palo Alto, 94301\n",
      "\n",
      "1314 500, Raymond Avenue, Buena Vista, San Jose, Santa Clara County, California, 95128, United States: San Jose, 95128\n",
      "\n",
      "1315 800, Candlewood Drive, Rancho Rinconada, Cupertino, Santa Clara County, California, 95014, United States: Cupertino, 95014\n",
      "\n",
      "1316 400, South Bascom Avenue, Rose Garden, San Jose, Santa Clara County, California, 95128, United States: San Jose, 95128\n",
      "NR: 1317 \n",
      "1318 800, Candlewood Drive, Rancho Rinconada, Cupertino, Santa Clara County, California, 95014, United States: Cupertino, 95014\n",
      "\n",
      "1319 14000, Shadow Oaks Way, Saratoga, Santa Clara County, California, 95070, United States: Saratoga, 95070\n",
      "\n",
      "1320 Saratoga-Sunnyvale Road, Blue Hills, Saratoga, Santa Clara County, California, 95014, United States: Saratoga, 95014\n",
      "\n",
      "1321 Bohlman Road, Saratoga, Santa Clara County, California, 95070, United States: Saratoga, 95070\n",
      "\n",
      "1322 West Younger Avenue, Civic Center, Japantown, San Jose, Santa Clara County, California, 95110, United States: San Jose, 95110\n",
      "\n",
      "1323 Enborg Court, Santa Clara County, CAL Fire Northern Region, California, 95128, United States: Enborg Court, 95128\n",
      "\n",
      "1324 Enborg Court, Santa Clara County, CAL Fire Northern Region, California, 95128, United States: Enborg Court, 95128\n",
      "\n",
      "1325 800, Pollard Road, Santina Community, Vasona Junction, Los Gatos, Santa Clara County, California, 95032, United States: Los Gatos, 95032\n",
      "\n",
      "1326 800, Pollard Road, Santina Community, Vasona Junction, Los Gatos, Santa Clara County, California, 95032, United States: Los Gatos, 95032\n",
      "\n",
      "1327 14300, Quito Road, Saratoga, Santa Clara County, California, 95070, United States: Saratoga, 95070\n",
      "\n",
      "1328 14300, Quito Road, Saratoga, Santa Clara County, California, 95070, United States: Saratoga, 95070\n",
      "\n",
      "1329 800, Toyon Avenue, San Jose, Santa Clara County, California, 95127, United States: San Jose, 95127\n",
      "\n",
      "1330 Enborg Court, Santa Clara County, CAL Fire Northern Region, California, 95128, United States: Enborg Court, 95128\n",
      "\n",
      "1331 1, West Younger Avenue, Civic Center, Japantown, San Jose, Santa Clara County, California, 95110, United States: San Jose, 95110\n",
      "\n",
      "1332 10100, Torre Avenue, Cupertino, Santa Clara County, California, 95014, United States: Cupertino, 95014\n",
      "\n",
      "1333 Murillo Avenue, San Jose, Santa Clara County, CAL Fire Northern Region, California, 95148, United States: San Jose, 95148\n",
      "\n",
      "1334 Senter Road, San Jose, Santa Clara County, CAL Fire Northern Region, California, 95111, United States: San Jose, 95111\n",
      "\n",
      "1335 800, Pollard Road, Santina Community, Vasona Junction, Los Gatos, Santa Clara County, California, 95032, United States: Los Gatos, 95032\n",
      "\n",
      "1336 Basile Avenue, Buena Vista, San Jose, Santa Clara County, California, 95128, United States: San Jose, 95128\n",
      "NR: 1337 \n",
      "1338 1, West San Fernando Street, Downtown Historic District, San Jose, Santa Clara County, CAL Fire Northern Region, California, 95113, United States: San Jose, 95113\n",
      "\n",
      "1339 Enborg Court, Santa Clara County, CAL Fire Northern Region, California, 95128, United States: Enborg Court, 95128\n",
      "\n",
      "1340 20400, Williams Avenue, Saratoga, Santa Clara County, California, 95070, United States: Saratoga, 95070\n",
      "\n",
      "1341 South De Anza Boulevard, San Jose, Santa Clara County, CAL Fire Northern Region, California, 95014, United States: San Jose, 95014\n",
      "\n",
      "1342 100, University Avenue, Palo Alto, Santa Clara County, California, 94301, United States: Palo Alto, 94301\n",
      "\n",
      "1343 Irving Avenue, Buena Vista, San Jose, Santa Clara County, California, 95128, United States: San Jose, 95128\n",
      "NR: 1344 \n",
      "1345 1800, West San Carlos Street, Buena Vista, San Jose, Santa Clara County, California, 95128, United States: San Jose, 95128\n",
      "\n",
      "1346 4000, Gion Avenue, Alum Rock, San Jose, Santa Clara County, California, 95127, United States: San Jose, 95127\n",
      "\n",
      "1347 1800, West San Carlos Street, Buena Vista, San Jose, Santa Clara County, California, 95128, United States: San Jose, 95128\n",
      "\n",
      "1348 Lick Avenue, San Jose, Santa Clara County, California, 95125, United States: San Jose, 95125\n",
      "\n",
      "1349 10000, Foothill Avenue, Santa Clara County, California, 95020, United States: Foothill Avenue, 95020\n",
      "\n",
      "1350 West San Carlos Street, SoFA, San Jose, Santa Clara County, CAL Fire Northern Region, California, 95113, United States: San Jose, 95113\n",
      "\n",
      "1351 1, South Abel Street, Milpitas, Santa Clara County, CAL Fire Northern Region, California, 95035, United States: Milpitas, 95035\n",
      "\n",
      "1352 1, South Abel Street, Milpitas, Santa Clara County, CAL Fire Northern Region, California, 95035, United States: Milpitas, 95035\n",
      "\n",
      "1353 14500, Weeth Drive, Cambrian Park, San Jose, Santa Clara County, California, 95124, United States: San Jose, 95124\n",
      "\n",
      "1354 400, North White Road, Alum Rock, San Jose, Santa Clara County, CAL Fire Northern Region, California, 95127, United States: San Jose, 95127\n",
      "\n",
      "1355 19200, Harleigh Drive, Saratoga, Santa Clara County, California, 95070, United States: Saratoga, 95070\n"
     ]
    },
    {
     "name": "stderr",
     "output_type": "stream",
     "text": [
      "WARNING:urllib3.connectionpool:Retrying (Retry(total=1, connect=None, read=None, redirect=None, status=None)) after connection broken by 'ReadTimeoutError(\"HTTPSConnectionPool(host='nominatim.openstreetmap.org', port=443): Read timed out. (read timeout=1)\")': /search?q=1+++CASTRO+ST%2C+SANTA+CLARA+COUNTY%2C+CA&format=json&limit=1\n"
     ]
    },
    {
     "name": "stdout",
     "output_type": "stream",
     "text": [
      "\n",
      "1356 Castro Street, Mountain View, Santa Clara County, CAL Fire Northern Region, California, 94041, United States: Mountain View, 94041\n",
      "\n",
      "1357 100, University Avenue, Palo Alto, Santa Clara County, California, 94301, United States: Palo Alto, 94301\n",
      "\n",
      "1358 14800, Olive Avenue, Morgan Hill, Santa Clara County, California, 95037, United States: Morgan Hill, 95037\n",
      "\n",
      "1359 South De Anza Boulevard, San Jose, Santa Clara County, CAL Fire Northern Region, California, 95014, United States: San Jose, 95014\n",
      "\n",
      "1360 San José City College, 600, South Bascom Avenue, Buena Vista, San Jose, Santa Clara County, California, 95128, United States: San Jose, 95128\n",
      "\n",
      "1361 1, West Hedding Street, Civic Center, Japantown, San Jose, Santa Clara County, CAL Fire Northern Region, California, 95110, United States: San Jose, 95110\n",
      "\n",
      "1362 Snell Avenue, San Jose, Santa Clara County, CAL Fire Northern Region, California, 95123, United States: San Jose, 95123\n",
      "\n",
      "1363 21600, Edward Way, Cupertino, Santa Clara County, California, 95014, United States: Cupertino, 95014\n",
      "\n",
      "1364 Saratoga-Sunnyvale Road, Blue Hills, Saratoga, Santa Clara County, California, 95014, United States: Saratoga, 95014\n",
      "NR: 1365 NR: 1366 \n",
      "1367 North Stelling Road, Cupertino, Santa Clara County, California, 95014, United States: Cupertino, 95014\n",
      "\n",
      "1368 Meridian Avenue, San Jose, Santa Clara County, California, 95118, United States: San Jose, 95118\n",
      "NR: 1369 \n",
      "1370 Saratoga Avenue, Saratoga, Santa Clara County, California, 95070, United States: Saratoga, 95070\n",
      "\n",
      "1371 Saratoga Avenue, Saratoga, Santa Clara County, California, 95070, United States: Saratoga, 95070\n",
      "\n",
      "1372 17200, Holiday Drive, Morgan Hill, Santa Clara County, California, 95037, United States: Morgan Hill, 95037\n",
      "\n",
      "1373 South 2nd Street, SoFA, San Jose, Santa Clara County, CAL Fire Northern Region, California, 95113, United States: San Jose, 95113\n",
      "\n",
      "1374 South Blaney Avenue, San Jose, Santa Clara County, California, 95014, United States: San Jose, 95014\n",
      "\n",
      "1375 Foothill Expressway, Palo Alto, Santa Clara County, California, 94022, United States: Palo Alto, 94022\n",
      "\n",
      "1376 South Blaney Avenue, San Jose, Santa Clara County, California, 95014, United States: San Jose, 95014\n",
      "\n",
      "1377 20300, Pacifica Drive, Cupertino, Santa Clara County, California, 95014, United States: Cupertino, 95014\n",
      "\n",
      "1378 Stevens Creek Boulevard, Cupertino, Santa Clara County, CAL Fire Northern Region, California, 95014, United States: Cupertino, 95014\n",
      "\n",
      "1379 21800, Hermosa Avenue, Monta Vista, Cupertino, Santa Clara County, California, 95014, United States: Cupertino, 95014\n",
      "NR: 1380 \n",
      "1381 Stevens Creek Boulevard, Cupertino, Santa Clara County, CAL Fire Northern Region, California, 95014, United States: Cupertino, 95014\n",
      "\n",
      "1382 1, Eastridge Loop, Eastridge Center, San Jose, Santa Clara County, California, 95122, United States: San Jose, 95122\n",
      "\n",
      "1383 Gay Avenue, Alum Rock, San Jose, Santa Clara County, California, 95127, United States: San Jose, 95127\n",
      "\n",
      "1384 Snell Avenue, San Jose, Santa Clara County, CAL Fire Northern Region, California, 95123, United States: San Jose, 95123\n",
      "NR: 1385 \n",
      "1386 1, West San Fernando Street, Downtown Historic District, San Jose, Santa Clara County, CAL Fire Northern Region, California, 95113, United States: San Jose, 95113\n",
      "\n",
      "1387 200, San Bruno Avenue, Santa Clara County, California, 95037, United States: San Bruno Avenue, 95037\n",
      "\n",
      "1388 300, South Bascom Avenue, Rose Garden, San Jose, Santa Clara County, California, 95128, United States: San Jose, 95128\n",
      "\n",
      "1389 Palm Drive, Stanford, Santa Clara County, California, 94301, United States: Stanford, 94301\n",
      "\n",
      "1390 22500, Voss Avenue, Cupertino, Santa Clara County, California, 95014, United States: Cupertino, 95014\n",
      "\n",
      "1391 Old Creek Road, Santa Clara County, California, United States: Old Creek Road, California\n",
      "\n",
      "1392 Cupertino High School, 10100, Finch Avenue, Cupertino, Santa Clara County, California, 95014, United States: Cupertino, 95014\n",
      "\n",
      "1393 300, Metcalf Road, San Jose, Santa Clara County, California, 95138, United States: San Jose, 95138\n",
      "\n",
      "1394 Chrisland Avenue, Alum Rock, Santa Clara County, California, 95127, United States: Alum Rock, 95127\n",
      "\n",
      "1395 1, West Alma Avenue, San Jose, Santa Clara County, California, 95110, United States: San Jose, 95110\n",
      "\n",
      "1396 1, Cahill Street, Little Italy, Buena Vista, San Jose, Santa Clara County, CAL Fire Northern Region, California, 95110, United States: San Jose, 95110\n",
      "\n",
      "1397 10300, Mary Avenue, Monta Vista, Cupertino, Santa Clara County, California, 95014, United States: Cupertino, 95014\n",
      "\n",
      "1398 9400, Kern Avenue, Santa Clara County, California, 95020, United States: Kern Avenue, 95020\n",
      "\n",
      "1399 1, West Hedding Street, Civic Center, Japantown, San Jose, Santa Clara County, CAL Fire Northern Region, California, 95110, United States: San Jose, 95110\n",
      "\n",
      "1400 Day Road, Gilroy, Santa Clara County, California, 95020, United States: Gilroy, 95020\n",
      "\n",
      "1401 13500, Llagas Avenue, San Martin, Santa Clara County, California, 95046, United States: San Martin, 95046\n",
      "\n",
      "1402 13500, Llagas Avenue, San Martin, Santa Clara County, California, 95046, United States: San Martin, 95046\n",
      "\n",
      "1403 Ashley Court, San Jose, Santa Clara County, California, 95135, United States: San Jose, 95135\n",
      "\n",
      "1404 20000, Mendelsohn Lane, Saratoga, Santa Clara County, California, 95070, United States: Saratoga, 95070\n",
      "\n",
      "1405 20700, Stevens Creek Boulevard, The Crossroads, Cupertino, Santa Clara County, CAL Fire Northern Region, California, 95014, United States: Cupertino, 95014\n",
      "\n",
      "1406 10100, Meadow Lane, Alum Rock, San Jose, Santa Clara County, California, 95127, United States: San Jose, 95127\n",
      "\n",
      "1407 Santa Teresa Boulevard, Avenida Espana, San Jose, Santa Clara County, CAL Fire Northern Region, California, 95139, United States: San Jose, 95139\n",
      "\n",
      "1408 Woz Way, SoFA, San Jose, Santa Clara County, CAL Fire Northern Region, California, 95110, United States: San Jose, 95110\n",
      "\n",
      "1409 Watsonville Road, Morgan Hill, Santa Clara County, CAL Fire Northern Region, California, 95038, United States: Morgan Hill, 95038\n",
      "\n",
      "1410 1700, Pope Court, Campbell, Santa Clara County, California, 95008, United States: Campbell, 95008\n",
      "\n",
      "1411 100, Hilow Court, Shannon, Los Gatos, Santa Clara County, California, 95032, United States: Los Gatos, 95032\n"
     ]
    },
    {
     "name": "stderr",
     "output_type": "stream",
     "text": [
      "WARNING:urllib3.connectionpool:Retrying (Retry(total=1, connect=None, read=None, redirect=None, status=None)) after connection broken by 'ReadTimeoutError(\"HTTPSConnectionPool(host='nominatim.openstreetmap.org', port=443): Read timed out. (read timeout=1)\")': /search?q=1++%2C+SANTA+CLARA+COUNTY%2C+CA&format=json&limit=1\n"
     ]
    },
    {
     "name": "stdout",
     "output_type": "stream",
     "text": [
      "\n",
      "1412 1, Alviso, San Jose, Santa Clara County, California, United States: San Jose, California\n",
      "\n",
      "1413 Sycamore Avenue, Morgan Hill, Santa Clara County, CAL Fire Northern Region, California, 95037, United States: Morgan Hill, 95037\n",
      "\n",
      "1414 Mellon Drive, Saratoga, Santa Clara County, California, 95070, United States: Saratoga, 95070\n",
      "\n",
      "1415 Oak Glen Avenue, Santa Clara County, California, 95038, United States: Oak Glen Avenue, 95038\n",
      "\n",
      "1416 100, Millar Avenue, Alum Rock, San Jose, Santa Clara County, California, 95127, United States: San Jose, 95127\n",
      "\n",
      "1417 1800, Diana Avenue, Morgan Hill, Santa Clara County, California, 95037, United States: Morgan Hill, 95037\n",
      "\n",
      "1418 Oak Glen Avenue, Santa Clara County, California, 95038, United States: Oak Glen Avenue, 95038\n",
      "\n",
      "1419 1, Eastridge Loop, Eastridge Center, San Jose, Santa Clara County, California, 95122, United States: San Jose, 95122\n",
      "\n",
      "1420 North Stelling Road, Cupertino, Santa Clara County, California, 95014, United States: Cupertino, 95014\n",
      "\n",
      "1421 Stevens Creek Boulevard, Cupertino, Santa Clara County, CAL Fire Northern Region, California, 95014, United States: Cupertino, 95014\n",
      "\n",
      "1422 2800, Paseo Robles Avenue, Santa Clara County, California, 95046, United States: Paseo Robles Avenue, 95046\n",
      "\n",
      "1423 1, Rennie Avenue, East Foothills, Santa Clara County, California, 95127, United States: East Foothills, 95127\n",
      "\n",
      "1424 10500, Phil Place, Rancho Rinconada, Cupertino, Santa Clara County, California, 95014, United States: Cupertino, 95014\n",
      "\n",
      "1425 7600, Normandy Way, Seven Springs, Cupertino, Santa Clara County, CAL Fire Northern Region, California, 95014, United States: Cupertino, 95014\n",
      "\n",
      "1426 10500, Phil Place, Rancho Rinconada, Cupertino, Santa Clara County, California, 95014, United States: Cupertino, 95014\n",
      "\n",
      "1427 North Stelling Road, Cupertino, Santa Clara County, California, 95014, United States: Cupertino, 95014\n",
      "\n",
      "1428 42000, Summit Road, Santa Clara County, CAL Fire Northern Region, California, 95076, United States: Summit Road, 95076\n",
      "\n",
      "1429 Burnett Avenue, Santa Clara, Santa Clara County, California, 95150, United States: Santa Clara, 95150\n",
      "\n",
      "1430 South 1st Street, Spartan Keyes, San Jose, Santa Clara County, CAL Fire Northern Region, California, 95192, United States: San Jose, 95192\n",
      "\n",
      "1431 Saratoga Avenue, Saratoga, Santa Clara County, California, 95070, United States: Saratoga, 95070\n",
      "\n",
      "1432 Hager Court, San Martin, Santa Clara County, California, 95046, United States: San Martin, 95046\n",
      "\n",
      "1433 19400, Stevens Creek Boulevard, Cupertino, Santa Clara County, CAL Fire Northern Region, California, 95014, United States: Cupertino, 95014\n",
      "\n",
      "1434 18900, Fernbrook Court, Saratoga, Santa Clara County, California, 95070, United States: Saratoga, 95070\n",
      "\n",
      "1435 20700, Trinity Avenue, Saratoga, Santa Clara County, California, 95070, United States: Saratoga, 95070\n",
      "\n",
      "1436 20700, Trinity Avenue, Saratoga, Santa Clara County, California, 95070, United States: Saratoga, 95070\n",
      "\n",
      "1437 200, Victor Avenue, Campbell, Santa Clara County, California, 95008, United States: Campbell, 95008\n",
      "\n",
      "1438 5900, Felter Road, Santa Clara County, California, 95132, United States: Felter Road, 95132\n",
      "\n",
      "1439 22000, Rolling Hills Road, Saratoga, Santa Clara County, California, 95070, United States: Saratoga, 95070\n",
      "\n",
      "1440 1200, Dell Avenue, Campbell, Santa Clara County, California, 95008, United States: Campbell, 95008\n",
      "\n",
      "1441 West Younger Avenue, Civic Center, Japantown, San Jose, Santa Clara County, California, 95110, United States: San Jose, 95110\n",
      "\n",
      "1442 West Capitol Expressway, San Jose, Santa Clara County, CAL Fire Northern Region, California, 95136, United States: San Jose, 95136\n",
      "\n",
      "1443 400, Carlton Avenue, Los Gatos, Santa Clara County, CAL Fire Northern Region, California, 95032, United States: Los Gatos, 95032\n",
      "\n",
      "1444 26600, Purissima Road, Los Altos Hills, Santa Clara County, California, 94022, United States: Los Altos Hills, 94022\n",
      "NR: 1445 \n",
      "1446 9400, Kern Avenue, Santa Clara County, California, 95020, United States: Kern Avenue, 95020\n",
      "NR: 1447 \n",
      "1448 16400, Matilija Drive, Austin, Monte Sereno, Santa Clara County, California, 95030, United States: Monte Sereno, 95030\n",
      "\n",
      "1449 400, Laswell Avenue, Rose Garden, San Jose, Santa Clara County, California, 95128, United States: San Jose, 95128\n"
     ]
    },
    {
     "name": "stderr",
     "output_type": "stream",
     "text": [
      "WARNING:urllib3.connectionpool:Retrying (Retry(total=1, connect=None, read=None, redirect=None, status=None)) after connection broken by 'ReadTimeoutError(\"HTTPSConnectionPool(host='nominatim.openstreetmap.org', port=443): Read timed out. (read timeout=1)\")': /search?q=1++%26+LEE%2C+SANTA+CLARA+COUNTY%2C+CA&format=json&limit=1\n"
     ]
    },
    {
     "name": "stdout",
     "output_type": "stream",
     "text": [
      "\n",
      "1450 Carrie Lee Way, Robertsville, San Jose, Santa Clara County, California, 95118, United States: San Jose, 95118\n",
      "NR: 1451 \n",
      "1452 700, East Santa Clara Street, Naglee Park, Luna Park, San Jose, Santa Clara County, California, 95112, United States: San Jose, 95112\n",
      "\n",
      "1453 Advent Group Ministries - Summit Ranch, 1200, West Edmundson Avenue, Morgan Hill, Santa Clara County, California, 95037, United States: Morgan Hill, 95037\n",
      "\n",
      "1454 Santa Teresa Boulevard, Santa Teresa, San Jose, Santa Clara County, CAL Fire Northern Region, California, 95139, United States: San Jose, 95139\n",
      "\n",
      "1455 1, South Abel Street, Milpitas, Santa Clara County, CAL Fire Northern Region, California, 95035, United States: Milpitas, 95035\n",
      "\n",
      "1456 Berryessa Road, Berryessa, San Jose, Santa Clara County, CAL Fire Northern Region, California, 93133, United States: San Jose, 93133\n",
      "\n",
      "1457 Page Mill Road, Palo Alto, Santa Clara County, CAL Fire Northern Region, California, 94028, United States: Palo Alto, 94028\n",
      "\n",
      "1458 1, West Hedding Street, Civic Center, Japantown, San Jose, Santa Clara County, CAL Fire Northern Region, California, 95110, United States: San Jose, 95110\n",
      "\n",
      "1459 1, Eastridge Loop, Eastridge Center, San Jose, Santa Clara County, California, 95122, United States: San Jose, 95122\n",
      "\n",
      "1460 27900, Black Mountain Road, Los Altos Hills, Santa Clara County, California, 94022, United States: Los Altos Hills, 94022\n",
      "\n",
      "1461 3500, East Hills Drive, Alum Rock, San Jose, Santa Clara County, California, 95127, United States: San Jose, 95127\n",
      "\n",
      "1462 Mary Avenue, Cupertino, Santa Clara County, California, 94087, United States: Cupertino, 94087\n",
      "\n",
      "1463 1, West Hedding Street, Civic Center, Japantown, San Jose, Santa Clara County, CAL Fire Northern Region, California, 95110, United States: San Jose, 95110\n",
      "\n",
      "1464 11400, Clayton Road, San Jose, Santa Clara County, California, 95127, United States: San Jose, 95127\n",
      "\n",
      "1465 Bubb Road, Monta Vista, Cupertino, Santa Clara County, California, 95014, United States: Cupertino, 95014\n",
      "\n",
      "1466 700, Candlestick Way, Alum Rock, San Jose, Santa Clara County, California, 95127, United States: San Jose, 95127\n",
      "\n",
      "1467 17100, Copper Hill Drive, Morgan Hill, Santa Clara County, California, 95037, United States: Morgan Hill, 95037\n",
      "NR: 1468 \n",
      "1469 1, Alviso, San Jose, Santa Clara County, California, United States: San Jose, California\n",
      "\n",
      "1470 Bubb Road, Monta Vista, Cupertino, Santa Clara County, California, 95014, United States: Cupertino, 95014\n",
      "\n",
      "1471 16500, Condit Road, Morgan Hill, Santa Clara County, California, 95037, United States: Morgan Hill, 95037\n",
      "\n",
      "1472 1, South Abel Street, Milpitas, Santa Clara County, CAL Fire Northern Region, California, 95035, United States: Milpitas, 95035\n",
      "\n",
      "1473 20600, East Homestead Road, Cupertino, Santa Clara County, California, 95014, United States: Cupertino, 95014\n",
      "\n",
      "1474 Vallco Parkway, Cupertino, Santa Clara County, California, 95014, United States: Cupertino, 95014\n",
      "\n",
      "1475 1, North 1st Street, Saint James Square Historic District, Japantown, San Jose, Santa Clara County, CAL Fire Northern Region, California, 95113, United States: San Jose, 95113\n",
      "\n",
      "1476 1, South Capitol Avenue, Alum Rock, San Jose, Santa Clara County, CAL Fire Northern Region, California, 95127, United States: San Jose, 95127\n",
      "\n",
      "1477 13400, La Cresta Drive, Los Altos Hills, Santa Clara County, California, 94022, United States: Los Altos Hills, 94022\n",
      "\n",
      "1478 17200, Holiday Drive, Morgan Hill, Santa Clara County, California, 95037, United States: Morgan Hill, 95037\n",
      "\n",
      "1479 13100, Via Arriba Court, Saratoga, Santa Clara County, California, 95070, United States: Saratoga, 95070\n",
      "\n",
      "1480 Arleta Avenue, Buena Vista, San Jose, Santa Clara County, California, 95128, United States: San Jose, 95128\n",
      "\n",
      "1481 8700, New Avenue, Santa Clara County, California, 95020, United States: New Avenue, 95020\n",
      "\n",
      "1482 The Markham Apartments, Cupertino, Santa Clara County, California, 95014, United States: Cupertino, 95014\n",
      "\n",
      "1483 1, South Capitol Avenue, Alum Rock, San Jose, Santa Clara County, CAL Fire Northern Region, California, 95127, United States: San Jose, 95127\n",
      "\n",
      "1484 South De Anza Boulevard, San Jose, Santa Clara County, CAL Fire Northern Region, California, 95014, United States: San Jose, 95014\n",
      "\n",
      "1485 26300, Calle del Sol, Los Altos Hills, Santa Clara County, California, 94022, United States: Los Altos Hills, 94022\n",
      "\n",
      "1486 1, South Abel Street, Milpitas, Santa Clara County, CAL Fire Northern Region, California, 95035, United States: Milpitas, 95035\n",
      "\n",
      "1487 14800, Olive Avenue, Morgan Hill, Santa Clara County, California, 95037, United States: Morgan Hill, 95037\n",
      "\n",
      "1488 Cupertino City Hall, 10300, Torre Avenue, Cupertino, Santa Clara County, California, 95014, United States: Cupertino, 95014\n",
      "NR: 1489 \n",
      "1490 1, North 1st Street, Saint James Square Historic District, Japantown, San Jose, Santa Clara County, CAL Fire Northern Region, California, 95113, United States: San Jose, 95113\n",
      "NR: 1491 \n",
      "1492 200, San Bruno Avenue, Santa Clara County, California, 95037, United States: San Bruno Avenue, 95037\n",
      "\n",
      "1493 13500, Monterey Road, San Martin, Santa Clara County, California, 95046, United States: San Martin, 95046\n",
      "\n",
      "1494 13600, Foothill Avenue, San Martin, Santa Clara County, California, 95046, United States: San Martin, 95046\n",
      "\n",
      "1495 12100, Kristy Lane, Saratoga, Santa Clara County, California, 95070, United States: Saratoga, 95070\n",
      "\n",
      "1496 Castro Street, Mountain View, Santa Clara County, CAL Fire Northern Region, California, 94039, United States: Mountain View, 94039\n",
      "\n",
      "1497 1, South Abel Street, Milpitas, Santa Clara County, CAL Fire Northern Region, California, 95035, United States: Milpitas, 95035\n",
      "\n",
      "1498 Serra Street, Stanford, Santa Clara County, California, 94036, United States: Stanford, 94036\n",
      "NR: 1499 NR: 1500 \n",
      "1501 19500, Chardonnay Court, Saratoga, Santa Clara County, California, 95070, United States: Saratoga, 95070\n",
      "\n",
      "1502 26300, Calle del Sol, Los Altos Hills, Santa Clara County, California, 94022, United States: Los Altos Hills, 94022\n",
      "\n",
      "1503 1, Cleveland Avenue, Rose Garden, San Jose, Santa Clara County, California, 95128, United States: San Jose, 95128\n",
      "\n",
      "1504 100, South 2nd Street, Downtown Historic District, San Jose, Santa Clara County, CAL Fire Northern Region, California, 95113, United States: San Jose, 95113\n",
      "\n",
      "1505 10100, Oakleaf Place, Monta Vista, Cupertino, Santa Clara County, California, 95014, United States: Cupertino, 95014\n",
      "\n",
      "1506 12200, Stonebrook Drive, Los Altos Hills, Santa Clara County, California, 94022, United States: Los Altos Hills, 94022\n",
      "\n",
      "1507 Metcalf Road, San Jose, Santa Clara County, California, 95151, United States: San Jose, 95151\n",
      "NR: 1508 \n",
      "1509 West El Camino Real, Mountain View, Santa Clara County, CAL Fire Northern Region, California, 94039, United States: Mountain View, 94039\n",
      "\n",
      "1510 200, Burnett Avenue, Madrone, Morgan Hill, Santa Clara County, California, 95037, United States: Morgan Hill, 95037\n",
      "\n",
      "1511 Stevens Creek Boulevard, Cupertino, Santa Clara County, CAL Fire Northern Region, California, 95014, United States: Cupertino, 95014\n",
      "\n",
      "1512 Race Street, West San Carlos Street, Buena Vista, San Jose, Santa Clara County, CAL Fire Northern Region, California, 95126, United States: San Jose, 95126\n",
      "\n",
      "1513 1, West Hedding Street, Civic Center, Japantown, San Jose, Santa Clara County, CAL Fire Northern Region, California, 95110, United States: San Jose, 95110\n",
      "\n",
      "1514 South De Anza Boulevard, San Jose, Santa Clara County, CAL Fire Northern Region, California, 95014, United States: San Jose, 95014\n",
      "\n",
      "1515 Keyes Street, Spartan Keyes, San Jose, Santa Clara County, CAL Fire Northern Region, California, 95192, United States: San Jose, 95192\n",
      "\n",
      "1516 Keyes Street, Spartan Keyes, San Jose, Santa Clara County, CAL Fire Northern Region, California, 95192, United States: San Jose, 95192\n",
      "\n",
      "1517 Keyes Street, Spartan Keyes, San Jose, Santa Clara County, CAL Fire Northern Region, California, 95192, United States: San Jose, 95192\n",
      "\n",
      "1518 3200, Butterfly Lane, Santa Clara County, California, 95037, United States: Butterfly Lane, 95037\n"
     ]
    },
    {
     "name": "stderr",
     "output_type": "stream",
     "text": [
      "WARNING:urllib3.connectionpool:Retrying (Retry(total=1, connect=None, read=None, redirect=None, status=None)) after connection broken by 'ReadTimeoutError(\"HTTPSConnectionPool(host='nominatim.openstreetmap.org', port=443): Read timed out. (read timeout=1)\")': /search?q=1++%2C+SANTA+CLARA+COUNTY%2C+CA&format=json&limit=1\n"
     ]
    },
    {
     "name": "stdout",
     "output_type": "stream",
     "text": [
      "\n",
      "1519 1, Alviso, San Jose, Santa Clara County, California, United States: San Jose, California\n",
      "\n",
      "1520 1, West San Fernando Street, Downtown Historic District, San Jose, Santa Clara County, CAL Fire Northern Region, California, 95113, United States: San Jose, 95113\n",
      "\n",
      "1521 1, North 1st Street, Saint James Square Historic District, Japantown, San Jose, Santa Clara County, CAL Fire Northern Region, California, 95113, United States: San Jose, 95113\n",
      "\n",
      "1522 5400, Club Drive, East Foothills, Santa Clara County, California, 95127, United States: East Foothills, 95127\n",
      "\n",
      "1523 19900, Wellington Court, Saratoga, Santa Clara County, California, 95070, United States: Saratoga, 95070\n",
      "\n",
      "1524 West Younger Avenue, Civic Center, Japantown, San Jose, Santa Clara County, California, 95110, United States: San Jose, 95110\n",
      "\n",
      "1525 18800, Barnhart Avenue, Rancho Rinconada, Cupertino, Santa Clara County, California, 95014, United States: Cupertino, 95014\n",
      "\n",
      "1526 Malech Road, Coyote, Santa Clara County, California, 95151, United States: Coyote, 95151\n"
     ]
    },
    {
     "name": "stderr",
     "output_type": "stream",
     "text": [
      "WARNING:urllib3.connectionpool:Retrying (Retry(total=1, connect=None, read=None, redirect=None, status=None)) after connection broken by 'ReadTimeoutError(\"HTTPSConnectionPool(host='nominatim.openstreetmap.org', port=443): Read timed out. (read timeout=1)\")': /search?q=14600++REEVES+CT%2C+SANTA+CLARA+COUNTY%2C+CA&format=json&limit=1\n"
     ]
    },
    {
     "name": "stdout",
     "output_type": "stream",
     "text": [
      "\n",
      "1527 14600, Reeves Court, Alum Rock, Santa Clara County, California, 95127, United States: Alum Rock, 95127\n",
      "\n",
      "1528 Vallco Parkway, Cupertino, Santa Clara County, California, 95014, United States: Cupertino, 95014\n",
      "\n",
      "1529 19900, Wellington Court, Saratoga, Santa Clara County, California, 95070, United States: Saratoga, 95070\n",
      "\n",
      "1530 1, Gordon Avenue, Alum Rock, San Jose, Santa Clara County, California, 95127, United States: San Jose, 95127\n",
      "\n",
      "1531 JPMorgan Chase Bank, NA, 12200, Saratoga-Sunnyvale Road, Blue Hills, Saratoga, Santa Clara County, California, 95070, United States: Saratoga, 95070\n",
      "\n",
      "1532 Lopez Way, Mataro (10.9 Acres), Gilroy, Santa Clara County, California, 95020, United States: Gilroy, 95020\n",
      "\n",
      "1533 Scott Street, Buena Vista, San Jose, Santa Clara County, CAL Fire Northern Region, California, 95126, United States: San Jose, 95126\n",
      "\n",
      "1534 1400, Topar Avenue, Loyola, Santa Clara County, California, 94024, United States: Loyola, 94024\n",
      "\n",
      "1535 Monterey Road, San Jose, Santa Clara County, CAL Fire Northern Region, California, 95111, United States: San Jose, 95111\n",
      "\n",
      "1536 Quito Road, San Jose, Santa Clara County, CAL Fire Northern Region, California, 95070, United States: San Jose, 95070\n",
      "\n",
      "1537 Quito Road, San Jose, Santa Clara County, CAL Fire Northern Region, California, 95070, United States: San Jose, 95070\n",
      "\n",
      "1538 North Stelling Road, Cupertino, Santa Clara County, California, 95014, United States: Cupertino, 95014\n",
      "\n",
      "1539 10200, Earlander Street, Alum Rock, Santa Clara County, California, 95127, United States: Alum Rock, 95127\n",
      "\n",
      "1540 18600, Blythswood Drive, Austin, Santa Clara County, California, 95030, United States: Austin, 95030\n",
      "\n",
      "1541 500, Century Drive, Campbell, Santa Clara County, California, 95008, United States: Campbell, 95008\n",
      "\n",
      "1542 South De Anza Boulevard, San Jose, Santa Clara County, CAL Fire Northern Region, California, 95014, United States: San Jose, 95014\n",
      "\n",
      "1543 16100, Alum Rock Avenue, San Jose, Santa Clara County, California, 95127, United States: San Jose, 95127\n",
      "\n",
      "1544 West Younger Avenue, Civic Center, Japantown, San Jose, Santa Clara County, California, 95110, United States: San Jose, 95110\n",
      "\n",
      "1545 22500, Voss Avenue, Cupertino, Santa Clara County, California, 95014, United States: Cupertino, 95014\n",
      "\n",
      "1546 10100, South Blaney Avenue, Rancho Rinconada, Cupertino, Santa Clara County, California, 95014, United States: Cupertino, 95014\n",
      "\n",
      "1547 Stevens Creek Boulevard, Cupertino, Santa Clara County, CAL Fire Northern Region, California, 95014, United States: Cupertino, 95014\n",
      "\n",
      "1548 10200, Scenic Boulevard, Monta Vista, Cupertino, Santa Clara County, California, 95014, United States: Cupertino, 95014\n",
      "\n",
      "1549 13200, Lincoln Avenue, San Martin, Santa Clara County, California, 95046, United States: San Martin, 95046\n",
      "\n",
      "1550 200, Victor Avenue, Campbell, Santa Clara County, California, 95008, United States: Campbell, 95008\n",
      "\n",
      "1551 10700, Coyote Reservoir Road, Santa Clara County, California, 95020, United States: Coyote Reservoir Road, 95020\n",
      "\n",
      "1552 100, Highland Avenue, Los Gatos, Santa Clara County, California, 95030, United States: Los Gatos, 95030\n",
      "\n",
      "1553 Parkmoor Avenue, Buena Vista, San Jose, Santa Clara County, CAL Fire Northern Region, California, 95126, United States: San Jose, 95126\n"
     ]
    },
    {
     "name": "stderr",
     "output_type": "stream",
     "text": [
      "WARNING:urllib3.connectionpool:Retrying (Retry(total=1, connect=None, read=None, redirect=None, status=None)) after connection broken by 'ReadTimeoutError(\"HTTPSConnectionPool(host='nominatim.openstreetmap.org', port=443): Read timed out. (read timeout=1)\")': /search?q=MAGDALENA+RD%2C+SANTA+CLARA+COUNTY%2C+CA&format=json&limit=1\n"
     ]
    },
    {
     "name": "stdout",
     "output_type": "stream",
     "text": [
      "NR: 1554 "
     ]
    },
    {
     "name": "stderr",
     "output_type": "stream",
     "text": [
      "WARNING:urllib3.connectionpool:Retrying (Retry(total=1, connect=None, read=None, redirect=None, status=None)) after connection broken by 'ReadTimeoutError(\"HTTPSConnectionPool(host='nominatim.openstreetmap.org', port=443): Read timed out. (read timeout=1)\")': /search?q=1++%26+2334%2C+SANTA+CLARA+COUNTY%2C+CA&format=json&limit=1\n",
      "WARNING:urllib3.connectionpool:Retrying (Retry(total=0, connect=None, read=None, redirect=None, status=None)) after connection broken by 'ReadTimeoutError(\"HTTPSConnectionPool(host='nominatim.openstreetmap.org', port=443): Read timed out. (read timeout=1)\")': /search?q=1++%26+2334%2C+SANTA+CLARA+COUNTY%2C+CA&format=json&limit=1\n",
      "ERROR:root:HTTPSConnectionPool(host='nominatim.openstreetmap.org', port=443): Max retries exceeded with url: /search?q=1++%26+2334%2C+SANTA+CLARA+COUNTY%2C+CA&format=json&limit=1 (Caused by ReadTimeoutError(\"HTTPSConnectionPool(host='nominatim.openstreetmap.org', port=443): Read timed out. (read timeout=1)\"))\n"
     ]
    },
    {
     "name": "stdout",
     "output_type": "stream",
     "text": [
      "NR: 1555 \n",
      "1556 Allendale Avenue, Saratoga, Santa Clara County, California, 95070, United States: Saratoga, 95070\n",
      "\n",
      "1557 Allendale Avenue, Saratoga, Santa Clara County, California, 95070, United States: Saratoga, 95070\n",
      "\n",
      "1558 Via de la Vista, Santa Clara County, California, 95137, United States: Via de la Vista, 95137\n",
      "\n",
      "1559 North Capitol Avenue, San Jose, Santa Clara County, CAL Fire Northern Region, California, 95131, United States: San Jose, 95131\n",
      "\n",
      "1560 South De Anza Boulevard, San Jose, Santa Clara County, CAL Fire Northern Region, California, 95014, United States: San Jose, 95014\n",
      "\n",
      "1561 Day Road, Gilroy, Santa Clara County, California, 95020, United States: Gilroy, 95020\n",
      "\n",
      "1562 19900, Baroni Court, Saratoga, Santa Clara County, California, 95070, United States: Saratoga, 95070\n",
      "\n",
      "1563 20600, Shelly Drive, Cupertino, Santa Clara County, California, 95014, United States: Cupertino, 95014\n",
      "\n",
      "1564 18400, Montpere Way, Saratoga, Santa Clara County, California, 95070, United States: Saratoga, 95070\n",
      "\n",
      "1565 No Name Uno, Gilroy, Santa Clara County, California, 95020, United States: Gilroy, 95020\n",
      "\n",
      "1566 1, South Capitol Avenue, Alum Rock, San Jose, Santa Clara County, CAL Fire Northern Region, California, 95127, United States: San Jose, 95127\n",
      "\n",
      "1567 7500, Erin Way, Cupertino, Santa Clara County, California, 95014, United States: Cupertino, 95014\n",
      "\n",
      "1568 Arizona Circle, Gilroy, Santa Clara County, California, 95020, United States: Gilroy, 95020\n",
      "\n",
      "1569 Cafe, 10600, North Tantau Avenue, Cupertino, Santa Clara County, CAL Fire Northern Region, California, 95014, United States: Cupertino, 95014\n",
      "\n",
      "1570 Cafe, 10600, North Tantau Avenue, Cupertino, Santa Clara County, CAL Fire Northern Region, California, 95014, United States: Cupertino, 95014\n",
      "\n",
      "1571 100, Highland Avenue, Los Gatos, Santa Clara County, California, 95030, United States: Los Gatos, 95030\n",
      "\n",
      "1572 10300, Calvert Drive, Rancho Rinconada, Cupertino, Santa Clara County, California, 95129, United States: Cupertino, 95129\n",
      "\n",
      "1573 100, West Mission Street, Civic Center, Japantown, San Jose, Santa Clara County, California, 95110, United States: San Jose, 95110\n",
      "NR: 1574 \n",
      "1575 13500, Ronnie Way, Saratoga, Santa Clara County, California, 95070, United States: Saratoga, 95070\n",
      "\n",
      "1576 1, South Abel Street, Milpitas, Santa Clara County, CAL Fire Northern Region, California, 95035, United States: Milpitas, 95035\n",
      "\n",
      "1577 20900, Fargo Drive, Cupertino, Santa Clara County, California, 95014, United States: Cupertino, 95014\n",
      "\n",
      "1578 19900, Twilight Court, Cupertino, Santa Clara County, California, 95014, United States: Cupertino, 95014\n",
      "\n",
      "1579 7400, Stanford Place, Cupertino, Santa Clara County, California, 95014, United States: Cupertino, 95014\n",
      "\n",
      "1580 12100, Terrence Avenue, Saratoga, Santa Clara County, California, 95070, United States: Saratoga, 95070\n",
      "\n",
      "1581 1, South Abel Street, Milpitas, Santa Clara County, CAL Fire Northern Region, California, 95035, United States: Milpitas, 95035\n",
      "\n",
      "1582 10600, North Stelling Road, Cupertino, Santa Clara County, California, 95014, United States: Cupertino, 95014\n",
      "\n",
      "1583 21100, Patriot Way, Cupertino, Santa Clara County, California, 95014, United States: Cupertino, 95014\n",
      "\n",
      "1584 Ginger Lane, Santa Clara County, CAL Fire Northern Region, California, 95128, United States: Ginger Lane, 95128\n",
      "\n",
      "1585 1, Stewart Avenue, Alum Rock, San Jose, Santa Clara County, California, 95127, United States: San Jose, 95127\n",
      "\n",
      "1586 800, Welburn Avenue, Gilroy, Santa Clara County, California, 95020, United States: Gilroy, 95020\n",
      "\n",
      "1587 10600, North Stelling Road, Cupertino, Santa Clara County, California, 95014, United States: Cupertino, 95014\n",
      "\n",
      "1588 20900, Fargo Drive, Cupertino, Santa Clara County, California, 95014, United States: Cupertino, 95014\n",
      "\n",
      "1589 20900, Fargo Drive, Cupertino, Santa Clara County, California, 95014, United States: Cupertino, 95014\n",
      "\n",
      "1590 200, South Claremont Avenue, Alum Rock, San Jose, Santa Clara County, California, 95127, United States: San Jose, 95127\n",
      "\n",
      "1591 3200, East Hills Drive, Alum Rock, San Jose, Santa Clara County, California, 95127, United States: San Jose, 95127\n",
      "\n",
      "1592 West Santa Clara Street, Downtown Historic District, San Jose, Santa Clara County, CAL Fire Northern Region, California, 95110, United States: San Jose, 95110\n",
      "\n",
      "1593 100, Millar Avenue, Alum Rock, San Jose, Santa Clara County, California, 95127, United States: San Jose, 95127\n",
      "\n",
      "1594 North 1st Street, North San Jose, San Jose, Santa Clara County, CAL Fire Northern Region, California, 95031, United States: San Jose, 95031\n",
      "\n",
      "1595 11400, Clayton Road, San Jose, Santa Clara County, California, 95127, United States: San Jose, 95127\n",
      "\n",
      "1596 Kentwood Avenue, De Anza/85 Shopping Center, Seven Springs, Cupertino, Santa Clara County, California, 95014, United States: Cupertino, 95014\n",
      "\n",
      "1597 13900, Quito Road, Saratoga, Santa Clara County, California, 95070, United States: Saratoga, 95070\n",
      "\n",
      "1598 11400, Clayton Road, San Jose, Santa Clara County, California, 95127, United States: San Jose, 95127\n",
      "NR: 1599 \n",
      "1600 4400, Monterey Road, Edenvale, San Jose, Santa Clara County, CAL Fire Northern Region, California, 95111, United States: San Jose, 95111\n",
      "NR: 1601 \n",
      "1602 14400, De Bell Road, Los Altos Hills, Santa Clara County, California, 94022, United States: Los Altos Hills, 94022\n",
      "\n",
      "1603 14400, De Bell Road, Los Altos Hills, Santa Clara County, California, 94022, United States: Los Altos Hills, 94022\n",
      "NR: 1604 \n",
      "1605 Montague Expressway, Santa Clara, Santa Clara County, CAL Fire Northern Region, California, 94136, United States: Santa Clara, 94136\n",
      "\n",
      "1606 1, Railway Avenue, Campbell, Santa Clara County, California, 95008, United States: Campbell, 95008\n",
      "NR: 1607 \n",
      "1608 Monterey Frontage Road, Gilroy, Santa Clara County, CAL Fire Northern Region, California, 95020, United States: Gilroy, 95020\n",
      "\n",
      "1609 Pearl Avenue, Capitol Expressway Auto Mall, San Jose, Santa Clara County, CAL Fire Northern Region, California, 95136, United States: San Jose, 95136\n",
      "\n",
      "1610 Martinwood Way, Rancho Rinconada, Cupertino, Santa Clara County, California, 95014, United States: Cupertino, 95014\n",
      "\n",
      "1611 25800, Altamont Road, Los Altos Hills, Santa Clara County, California, 94022, United States: Los Altos Hills, 94022\n",
      "\n",
      "1612 Abundant Life Assembly of God Church, 10100, North Stelling Road, Cupertino, Santa Clara County, California, 95014, United States: Cupertino, 95014\n",
      "\n",
      "1613 Page Mill Road, Palo Alto, Santa Clara County, CAL Fire Northern Region, California, 94028, United States: Palo Alto, 94028\n",
      "\n",
      "1614 Page Mill Road, Palo Alto, Santa Clara County, CAL Fire Northern Region, California, 94028, United States: Palo Alto, 94028\n",
      "\n",
      "1615 Abundant Life Assembly of God Church, 10100, North Stelling Road, Cupertino, Santa Clara County, California, 95014, United States: Cupertino, 95014\n",
      "NR: 1616 \n",
      "1617 20900, Hidden View Lane, Saratoga, Santa Clara County, California, 95070, United States: Saratoga, 95070\n"
     ]
    },
    {
     "name": "stderr",
     "output_type": "stream",
     "text": [
      "WARNING:urllib3.connectionpool:Retrying (Retry(total=1, connect=None, read=None, redirect=None, status=None)) after connection broken by 'ReadTimeoutError(\"HTTPSConnectionPool(host='nominatim.openstreetmap.org', port=443): Read timed out. (read timeout=1)\")': /search?q=HWY+9%2C+SANTA+CLARA+COUNTY%2C+CA&format=json&limit=1\n"
     ]
    },
    {
     "name": "stdout",
     "output_type": "stream",
     "text": [
      "NR: 1618 \n",
      "1619 Naglee Avenue, Rose Garden, San Jose, Santa Clara County, CAL Fire Northern Region, California, 95128, United States: San Jose, 95128\n",
      "\n",
      "1620 24200, Summerhill Avenue, Los Altos Hills, Santa Clara County, California, 94024, United States: Los Altos Hills, 94024\n"
     ]
    },
    {
     "name": "stderr",
     "output_type": "stream",
     "text": [
      "WARNING:urllib3.connectionpool:Retrying (Retry(total=1, connect=None, read=None, redirect=None, status=None)) after connection broken by 'ReadTimeoutError(\"HTTPSConnectionPool(host='nominatim.openstreetmap.org', port=443): Read timed out. (read timeout=1)\")': /search?q=1++%2C+SANTA+CLARA+COUNTY%2C+CA&format=json&limit=1\n"
     ]
    },
    {
     "name": "stdout",
     "output_type": "stream",
     "text": [
      "\n",
      "1621 1, Alviso, San Jose, Santa Clara County, California, United States: San Jose, California\n",
      "\n",
      "1622 Keyes Street, Spartan Keyes, San Jose, Santa Clara County, CAL Fire Northern Region, California, 95192, United States: San Jose, 95192\n"
     ]
    },
    {
     "name": "stderr",
     "output_type": "stream",
     "text": [
      "WARNING:urllib3.connectionpool:Retrying (Retry(total=1, connect=None, read=None, redirect=None, status=None)) after connection broken by 'ReadTimeoutError(\"HTTPSConnectionPool(host='nominatim.openstreetmap.org', port=443): Read timed out. (read timeout=1)\")': /search?q=HWY+17%2C+SANTA+CLARA+COUNTY%2C+CA&format=json&limit=1\n",
      "WARNING:urllib3.connectionpool:Retrying (Retry(total=0, connect=None, read=None, redirect=None, status=None)) after connection broken by 'ReadTimeoutError(\"HTTPSConnectionPool(host='nominatim.openstreetmap.org', port=443): Read timed out. (read timeout=1)\")': /search?q=HWY+17%2C+SANTA+CLARA+COUNTY%2C+CA&format=json&limit=1\n",
      "ERROR:root:HTTPSConnectionPool(host='nominatim.openstreetmap.org', port=443): Max retries exceeded with url: /search?q=HWY+17%2C+SANTA+CLARA+COUNTY%2C+CA&format=json&limit=1 (Caused by ReadTimeoutError(\"HTTPSConnectionPool(host='nominatim.openstreetmap.org', port=443): Read timed out. (read timeout=1)\"))\n"
     ]
    },
    {
     "name": "stdout",
     "output_type": "stream",
     "text": [
      "NR: 1623 \n",
      "1624 1600, Sheffield Avenue, Willow Glen, Campbell, Santa Clara County, California, 95125, United States: Campbell, 95125\n",
      "\n",
      "1625 19300, Via Real Drive, Saratoga, Santa Clara County, California, 95070, United States: Saratoga, 95070\n",
      "\n",
      "1626 300, Manila Drive, San Jose, Santa Clara County, CAL Fire Northern Region, California, 95119, United States: San Jose, 95119\n",
      "\n",
      "1627 20800, Garden Gate Drive, Cupertino, Santa Clara County, California, 95014, United States: Cupertino, 95014\n",
      "\n",
      "1628 Cafe, 10600, North Tantau Avenue, Cupertino, Santa Clara County, CAL Fire Northern Region, California, 95014, United States: Cupertino, 95014\n",
      "\n",
      "1629 23600, Camino Hermoso Drive, Los Altos Hills, Santa Clara County, California, 94024, United States: Los Altos Hills, 94024\n",
      "\n",
      "1630 Aguilar Court, Milpitas, Santa Clara County, California, 95035, United States: Milpitas, 95035\n",
      "\n",
      "1631 18600, Aspesi Drive, Saratoga, Santa Clara County, California, 95070, United States: Saratoga, 95070\n"
     ]
    },
    {
     "name": "stderr",
     "output_type": "stream",
     "text": [
      "WARNING:urllib3.connectionpool:Retrying (Retry(total=1, connect=None, read=None, redirect=None, status=None)) after connection broken by 'ReadTimeoutError(\"HTTPSConnectionPool(host='nominatim.openstreetmap.org', port=443): Read timed out. (read timeout=1)\")': /search?q=HWY+17%2C+SANTA+CLARA+COUNTY%2C+CA&format=json&limit=1\n",
      "WARNING:urllib3.connectionpool:Retrying (Retry(total=0, connect=None, read=None, redirect=None, status=None)) after connection broken by 'ReadTimeoutError(\"HTTPSConnectionPool(host='nominatim.openstreetmap.org', port=443): Read timed out. (read timeout=1)\")': /search?q=HWY+17%2C+SANTA+CLARA+COUNTY%2C+CA&format=json&limit=1\n",
      "ERROR:root:HTTPSConnectionPool(host='nominatim.openstreetmap.org', port=443): Max retries exceeded with url: /search?q=HWY+17%2C+SANTA+CLARA+COUNTY%2C+CA&format=json&limit=1 (Caused by ReadTimeoutError(\"HTTPSConnectionPool(host='nominatim.openstreetmap.org', port=443): Read timed out. (read timeout=1)\"))\n"
     ]
    },
    {
     "name": "stdout",
     "output_type": "stream",
     "text": [
      "NR: 1632 \n",
      "1633 Stevens Creek Boulevard, Cupertino, Santa Clara County, CAL Fire Northern Region, California, 95014, United States: Cupertino, 95014\n",
      "\n",
      "1634 Santa Teresa Boulevard, Santa Teresa, San Jose, Santa Clara County, CAL Fire Northern Region, California, 95139, United States: San Jose, 95139\n",
      "\n",
      "1635 JPMorgan Chase Bank, NA, 12200, Saratoga-Sunnyvale Road, Blue Hills, Saratoga, Santa Clara County, California, 95070, United States: Saratoga, 95070\n",
      "\n",
      "1636 16000, Matilija Drive, Austin, Monte Sereno, Santa Clara County, California, 95030, United States: Monte Sereno, 95030\n",
      "\n",
      "1637 7400, Heatherwood Drive, Cupertino, Santa Clara County, California, 95014, United States: Cupertino, 95014\n",
      "\n",
      "1638 West Younger Avenue, Civic Center, Japantown, San Jose, Santa Clara County, California, 95110, United States: San Jose, 95110\n",
      "\n",
      "1639 300, Almendra Avenue, Creekside Village, Los Gatos, Santa Clara County, California, 95030, United States: Los Gatos, 95030\n",
      "NR: 1640 \n",
      "1641 5200, Hecker Pass Highway, Santa Clara County, California, 95020, United States: Hecker Pass Highway, 95020\n",
      "\n",
      "1642 5600, Santa Teresa Boulevard, Alamitos, San Jose, Santa Clara County, CAL Fire Northern Region, California, 95123, United States: San Jose, 95123\n",
      "\n",
      "1643 Via Monte Drive, Saratoga, Santa Clara County, CAL Fire Northern Region, California, 95070, United States: Saratoga, 95070\n",
      "\n",
      "1644 Prospect Road, San Jose, Santa Clara County, California, 95070, United States: San Jose, 95070\n",
      "NR: 1645 NR: 1646 \n",
      "1647 Santa Teresa Boulevard, Santa Teresa, San Jose, Santa Clara County, CAL Fire Northern Region, California, 95139, United States: San Jose, 95139\n",
      "NR: 1648 \n",
      "1649 North De Anza Boulevard, Cupertino, Santa Clara County, California, 95014, United States: Cupertino, 95014\n",
      "\n",
      "1650 Snell Avenue, San Jose, Santa Clara County, CAL Fire Northern Region, California, 95123, United States: San Jose, 95123\n",
      "NR: 1651 \n",
      "1652 Hecker Pass Highway, Santa Clara County, California, United States: Hecker Pass Highway, California\n",
      "\n",
      "1653 19000, Austin Way, Saratoga, Santa Clara County, California, 95070, United States: Saratoga, 95070\n",
      "NR: 1654 \n",
      "1655 Ashdale Drive, Alum Rock, Santa Clara County, California, 95127, United States: Alum Rock, 95127\n",
      "\n",
      "1656 Magdalena Avenue, Los Altos, Santa Clara County, California, 94024, United States: Los Altos, 94024\n",
      "NR: 1657 \n",
      "1658 North Wolfe Road, Sunnyvale, Santa Clara County, California, 95086, United States: Sunnyvale, 95086\n",
      "\n",
      "1659 12800, Columbet Avenue, San Martin, Santa Clara County, California, 95046, United States: San Martin, 95046\n",
      "\n",
      "1660 El Camino Real, Santa Clara, Santa Clara County, CAL Fire Northern Region, California, 95050, United States: Santa Clara, 95050\n",
      "\n",
      "1661 Mount Hamilton Road, Santa Clara County, California, 95137, United States: Mount Hamilton Road, 95137\n",
      "\n",
      "1662 Stevens Creek Boulevard, Cupertino, Santa Clara County, CAL Fire Northern Region, California, 95014, United States: Cupertino, 95014\n",
      "\n",
      "1663 El Camino Real, Santa Clara, Santa Clara County, CAL Fire Northern Region, California, 95050, United States: Santa Clara, 95050\n",
      "\n",
      "1664 Great Mall Parkway, Milpitas, Santa Clara County, CAL Fire Northern Region, California, 95035, United States: Milpitas, 95035\n",
      "\n",
      "1665 12500, Arroyo de Arguello, Blue Hills, Saratoga, Santa Clara County, California, 95070, United States: Saratoga, 95070\n",
      "\n",
      "1666 1, West Younger Avenue, Civic Center, Japantown, San Jose, Santa Clara County, California, 95110, United States: San Jose, 95110\n",
      "\n",
      "1667 Bear Creek Road, Santa Clara County, CAL Fire Northern Region, California, 95030, United States: Bear Creek Road, 95030\n",
      "\n",
      "1668 13800, River Ranch Circle, Saratoga, Santa Clara County, California, 95070, United States: Saratoga, 95070\n",
      "\n",
      "1669 Sierra Vista Open Space Preserve, San Jose, Santa Clara County, California, United States: San Jose, California\n",
      "\n",
      "1670 14300, Liddicoat Circle, Los Altos Hills, Santa Clara County, California, 94022, United States: Los Altos Hills, 94022\n"
     ]
    },
    {
     "name": "stderr",
     "output_type": "stream",
     "text": [
      "WARNING:urllib3.connectionpool:Retrying (Retry(total=1, connect=None, read=None, redirect=None, status=None)) after connection broken by 'ReadTimeoutError(\"HTTPSConnectionPool(host='nominatim.openstreetmap.org', port=443): Read timed out. (read timeout=1)\")': /search?q=HWY+17%2C+SANTA+CLARA+COUNTY%2C+CA&format=json&limit=1\n",
      "WARNING:urllib3.connectionpool:Retrying (Retry(total=0, connect=None, read=None, redirect=None, status=None)) after connection broken by 'ReadTimeoutError(\"HTTPSConnectionPool(host='nominatim.openstreetmap.org', port=443): Read timed out. (read timeout=1)\")': /search?q=HWY+17%2C+SANTA+CLARA+COUNTY%2C+CA&format=json&limit=1\n",
      "ERROR:root:HTTPSConnectionPool(host='nominatim.openstreetmap.org', port=443): Max retries exceeded with url: /search?q=HWY+17%2C+SANTA+CLARA+COUNTY%2C+CA&format=json&limit=1 (Caused by ReadTimeoutError(\"HTTPSConnectionPool(host='nominatim.openstreetmap.org', port=443): Read timed out. (read timeout=1)\"))\n"
     ]
    },
    {
     "name": "stdout",
     "output_type": "stream",
     "text": [
      "NR: 1671 "
     ]
    },
    {
     "name": "stderr",
     "output_type": "stream",
     "text": [
      "WARNING:urllib3.connectionpool:Retrying (Retry(total=1, connect=None, read=None, redirect=None, status=None)) after connection broken by 'ReadTimeoutError(\"HTTPSConnectionPool(host='nominatim.openstreetmap.org', port=443): Read timed out. (read timeout=1)\")': /search?q=HWY+17%2C+SANTA+CLARA+COUNTY%2C+CA&format=json&limit=1\n",
      "WARNING:urllib3.connectionpool:Retrying (Retry(total=0, connect=None, read=None, redirect=None, status=None)) after connection broken by 'ReadTimeoutError(\"HTTPSConnectionPool(host='nominatim.openstreetmap.org', port=443): Read timed out. (read timeout=1)\")': /search?q=HWY+17%2C+SANTA+CLARA+COUNTY%2C+CA&format=json&limit=1\n",
      "ERROR:root:HTTPSConnectionPool(host='nominatim.openstreetmap.org', port=443): Max retries exceeded with url: /search?q=HWY+17%2C+SANTA+CLARA+COUNTY%2C+CA&format=json&limit=1 (Caused by ReadTimeoutError(\"HTTPSConnectionPool(host='nominatim.openstreetmap.org', port=443): Read timed out. (read timeout=1)\"))\n"
     ]
    },
    {
     "name": "stdout",
     "output_type": "stream",
     "text": [
      "NR: 1672 \n",
      "1673 16100, Loretta Lane, Campbell, Santa Clara County, California, 95032, United States: Campbell, 95032\n",
      "\n",
      "1674 14000, Loma Rio Drive, Saratoga, Santa Clara County, California, 95070, United States: Saratoga, 95070\n"
     ]
    }
   ],
   "source": [
    "counter = 0\n",
    "for index, row in df[df[\"inferredCity\"] == \"unknown\"].iterrows():\n",
    "    if row[\"inferredCity\"] == \"unknown\":\n",
    "        try:\n",
    "            place = re.sub(\"BLOCK\", \"\", row[\"blocksizedAddress\"].upper()) + \", SANTA CLARA COUNTY, CA\"\n",
    "        except:\n",
    "            print(\"Failed to scan: {}\".format(row[\"blocksizedAddress\"]))\n",
    "            continue\n",
    "        location = geocode(geolocator, place, 1)   \n",
    "            \n",
    "        counter = counter + 1\n",
    "        if location != None:\n",
    "            display_name = [s.strip() for s in location.raw[\"display_name\"].split(\",\")]                         \n",
    "            try:\n",
    "                county_idx = display_name.index(\"Santa Clara County\")\n",
    "            except ValueError:\n",
    "                print(\"SCC not found: {}\".format(display_name))\n",
    "                df.at[index, \"inferredCity\"] = \"not_found\"\n",
    "                continue\n",
    "            df.at[index, \"inferredCity\"] = display_name[county_idx-1]   \n",
    "            df.at[index, \"postalCode\"] = display_name[-2]                            \n",
    "            print(\"\\n{} {}: {}, {}\".format(counter, location.raw[\"display_name\"], df.at[index,\"inferredCity\"], df.at[index, \"postalCode\"]))\n",
    "        else:\n",
    "            df.at[index, \"inferredCity\"] = \"no resolution\"\n",
    "            print(\"NR: {} \".format(counter), end=\"\")\n",
    "        if counter/1000 == round(counter/1000):\n",
    "            print(\"Saving...\")\n",
    "            df.to_pickle(\"SCCSheriff.pkl\")\n",
    "    else:\n",
    "        print(\".\", end=\"\")\n"
   ]
  },
  {
   "cell_type": "code",
   "execution_count": 8,
   "id": "99397818",
   "metadata": {},
   "outputs": [],
   "source": [
    "df.to_pickle(\"SCCSheriff.pkl\")"
   ]
  },
  {
   "cell_type": "code",
   "execution_count": 9,
   "id": "23946922",
   "metadata": {},
   "outputs": [
    {
     "data": {
      "text/plain": [
       "San Jose                                              120930\n",
       "Cupertino                                              51517\n",
       "Saratoga                                               30051\n",
       "no resolution                                          20402\n",
       "Santa Clara                                             9395\n",
       "                                                       ...  \n",
       "Arroyo Hondo Road                                          1\n",
       "Upper Uvas Creek Open Space Preserve (closed area)         1\n",
       "Shannons Drive                                             1\n",
       "Sunlit Oaks Court                                          1\n",
       "Silveira Lane                                              1\n",
       "Name: inferredCity, Length: 574, dtype: int64"
      ]
     },
     "execution_count": 9,
     "metadata": {},
     "output_type": "execute_result"
    }
   ],
   "source": [
    "df[\"inferredCity\"].value_counts()"
   ]
  },
  {
   "cell_type": "code",
   "execution_count": 10,
   "id": "03d357de",
   "metadata": {},
   "outputs": [
    {
     "ename": "KeyError",
     "evalue": "False",
     "output_type": "error",
     "traceback": [
      "\u001b[0;31m---------------------------------------------------------------------------\u001b[0m",
      "\u001b[0;31mKeyError\u001b[0m                                  Traceback (most recent call last)",
      "File \u001b[0;32m~/.local/lib/python3.10/site-packages/pandas/core/indexes/base.py:3621\u001b[0m, in \u001b[0;36mIndex.get_loc\u001b[0;34m(self, key, method, tolerance)\u001b[0m\n\u001b[1;32m   3620\u001b[0m \u001b[38;5;28;01mtry\u001b[39;00m:\n\u001b[0;32m-> 3621\u001b[0m     \u001b[38;5;28;01mreturn\u001b[39;00m \u001b[38;5;28;43mself\u001b[39;49m\u001b[38;5;241;43m.\u001b[39;49m\u001b[43m_engine\u001b[49m\u001b[38;5;241;43m.\u001b[39;49m\u001b[43mget_loc\u001b[49m\u001b[43m(\u001b[49m\u001b[43mcasted_key\u001b[49m\u001b[43m)\u001b[49m\n\u001b[1;32m   3622\u001b[0m \u001b[38;5;28;01mexcept\u001b[39;00m \u001b[38;5;167;01mKeyError\u001b[39;00m \u001b[38;5;28;01mas\u001b[39;00m err:\n",
      "File \u001b[0;32m~/.local/lib/python3.10/site-packages/pandas/_libs/index.pyx:136\u001b[0m, in \u001b[0;36mpandas._libs.index.IndexEngine.get_loc\u001b[0;34m()\u001b[0m\n",
      "File \u001b[0;32m~/.local/lib/python3.10/site-packages/pandas/_libs/index.pyx:163\u001b[0m, in \u001b[0;36mpandas._libs.index.IndexEngine.get_loc\u001b[0;34m()\u001b[0m\n",
      "File \u001b[0;32mpandas/_libs/hashtable_class_helper.pxi:5198\u001b[0m, in \u001b[0;36mpandas._libs.hashtable.PyObjectHashTable.get_item\u001b[0;34m()\u001b[0m\n",
      "File \u001b[0;32mpandas/_libs/hashtable_class_helper.pxi:5206\u001b[0m, in \u001b[0;36mpandas._libs.hashtable.PyObjectHashTable.get_item\u001b[0;34m()\u001b[0m\n",
      "\u001b[0;31mKeyError\u001b[0m: False",
      "\nThe above exception was the direct cause of the following exception:\n",
      "\u001b[0;31mKeyError\u001b[0m                                  Traceback (most recent call last)",
      "Input \u001b[0;32mIn [10]\u001b[0m, in \u001b[0;36m<cell line: 1>\u001b[0;34m()\u001b[0m\n\u001b[0;32m----> 1\u001b[0m df[\u001b[43mdf\u001b[49m\u001b[43m[\u001b[49m\u001b[38;5;124;43m\"\u001b[39;49m\u001b[38;5;124;43minferredCity\u001b[39;49m\u001b[38;5;124;43m\"\u001b[39;49m\u001b[43m \u001b[49m\u001b[38;5;241;43m==\u001b[39;49m\u001b[43m \u001b[49m\u001b[38;5;124;43m\"\u001b[39;49m\u001b[38;5;124;43munknown\u001b[39;49m\u001b[38;5;124;43m\"\u001b[39;49m\u001b[43m]\u001b[49m]\n",
      "File \u001b[0;32m~/.local/lib/python3.10/site-packages/pandas/core/frame.py:3505\u001b[0m, in \u001b[0;36mDataFrame.__getitem__\u001b[0;34m(self, key)\u001b[0m\n\u001b[1;32m   3503\u001b[0m \u001b[38;5;28;01mif\u001b[39;00m \u001b[38;5;28mself\u001b[39m\u001b[38;5;241m.\u001b[39mcolumns\u001b[38;5;241m.\u001b[39mnlevels \u001b[38;5;241m>\u001b[39m \u001b[38;5;241m1\u001b[39m:\n\u001b[1;32m   3504\u001b[0m     \u001b[38;5;28;01mreturn\u001b[39;00m \u001b[38;5;28mself\u001b[39m\u001b[38;5;241m.\u001b[39m_getitem_multilevel(key)\n\u001b[0;32m-> 3505\u001b[0m indexer \u001b[38;5;241m=\u001b[39m \u001b[38;5;28;43mself\u001b[39;49m\u001b[38;5;241;43m.\u001b[39;49m\u001b[43mcolumns\u001b[49m\u001b[38;5;241;43m.\u001b[39;49m\u001b[43mget_loc\u001b[49m\u001b[43m(\u001b[49m\u001b[43mkey\u001b[49m\u001b[43m)\u001b[49m\n\u001b[1;32m   3506\u001b[0m \u001b[38;5;28;01mif\u001b[39;00m is_integer(indexer):\n\u001b[1;32m   3507\u001b[0m     indexer \u001b[38;5;241m=\u001b[39m [indexer]\n",
      "File \u001b[0;32m~/.local/lib/python3.10/site-packages/pandas/core/indexes/base.py:3623\u001b[0m, in \u001b[0;36mIndex.get_loc\u001b[0;34m(self, key, method, tolerance)\u001b[0m\n\u001b[1;32m   3621\u001b[0m     \u001b[38;5;28;01mreturn\u001b[39;00m \u001b[38;5;28mself\u001b[39m\u001b[38;5;241m.\u001b[39m_engine\u001b[38;5;241m.\u001b[39mget_loc(casted_key)\n\u001b[1;32m   3622\u001b[0m \u001b[38;5;28;01mexcept\u001b[39;00m \u001b[38;5;167;01mKeyError\u001b[39;00m \u001b[38;5;28;01mas\u001b[39;00m err:\n\u001b[0;32m-> 3623\u001b[0m     \u001b[38;5;28;01mraise\u001b[39;00m \u001b[38;5;167;01mKeyError\u001b[39;00m(key) \u001b[38;5;28;01mfrom\u001b[39;00m \u001b[38;5;21;01merr\u001b[39;00m\n\u001b[1;32m   3624\u001b[0m \u001b[38;5;28;01mexcept\u001b[39;00m \u001b[38;5;167;01mTypeError\u001b[39;00m:\n\u001b[1;32m   3625\u001b[0m     \u001b[38;5;66;03m# If we have a listlike key, _check_indexing_error will raise\u001b[39;00m\n\u001b[1;32m   3626\u001b[0m     \u001b[38;5;66;03m#  InvalidIndexError. Otherwise we fall through and re-raise\u001b[39;00m\n\u001b[1;32m   3627\u001b[0m     \u001b[38;5;66;03m#  the TypeError.\u001b[39;00m\n\u001b[1;32m   3628\u001b[0m     \u001b[38;5;28mself\u001b[39m\u001b[38;5;241m.\u001b[39m_check_indexing_error(key)\n",
      "\u001b[0;31mKeyError\u001b[0m: False"
     ]
    }
   ],
   "source": [
    "df[df[\"inferredCity\" == \"unknown\"]]"
   ]
  },
  {
   "cell_type": "markdown",
   "id": "a31fa4ff",
   "metadata": {},
   "source": [
    "        try: \n",
    "            location = geolocator.geocode(place)\n",
    "        except GeocoderTimedOut as e:\n",
    "            print(\"Location error: {}\".format(e))\n",
    "            naptime = 3+randint(100)\n",
    "            print(\"Sleeping {} seconds.\".format(naptime))\n",
    "            time.sleep(naptime)\n",
    "            user_agent = 'user_me_{}'.format(randint(10000,99999))\n",
    "            geolocator = Nominatim(user_agent=user_agent)\n",
    "            location = geolocator.geocode(place)\n"
   ]
  }
 ],
 "metadata": {
  "kernelspec": {
   "display_name": "Python 3 (ipykernel)",
   "language": "python",
   "name": "python3"
  },
  "language_info": {
   "codemirror_mode": {
    "name": "ipython",
    "version": 3
   },
   "file_extension": ".py",
   "mimetype": "text/x-python",
   "name": "python",
   "nbconvert_exporter": "python",
   "pygments_lexer": "ipython3",
   "version": "3.10.6"
  }
 },
 "nbformat": 4,
 "nbformat_minor": 5
}
