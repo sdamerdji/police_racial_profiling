{
 "cells": [
  {
   "cell_type": "code",
   "execution_count": 1,
   "id": "e6d31b3f-c355-4baa-925f-e69c0ae49a74",
   "metadata": {},
   "outputs": [],
   "source": [
    "from plotting.plot_utils import PlotParams"
   ]
  },
  {
   "cell_type": "code",
   "execution_count": 2,
   "id": "c0f52114-7a1a-46c5-a13a-9be49ae2775f",
   "metadata": {},
   "outputs": [],
   "source": [
    "from plotting.lare_matplot import basic_plot"
   ]
  },
  {
   "cell_type": "code",
   "execution_count": 3,
   "id": "0fae6b6a-f145-4a91-91f0-09372b0ac97a",
   "metadata": {},
   "outputs": [],
   "source": [
    "import pandas as pd"
   ]
  },
  {
   "cell_type": "code",
   "execution_count": 4,
   "id": "cd29afc9-82c3-49d3-a4a8-430cf9a9617b",
   "metadata": {},
   "outputs": [],
   "source": [
    "import numpy as np"
   ]
  },
  {
   "cell_type": "code",
   "execution_count": 5,
   "id": "9504e73f-0116-4cf7-bf63-d50f079d4142",
   "metadata": {},
   "outputs": [],
   "source": [
    "xdata = [x for x in range(10)]"
   ]
  },
  {
   "cell_type": "code",
   "execution_count": 6,
   "id": "b0196aac-a6a0-433a-b0f7-0c4b455d18b3",
   "metadata": {},
   "outputs": [],
   "source": [
    "ydata = [x**2 for x in xdata]"
   ]
  },
  {
   "cell_type": "code",
   "execution_count": 7,
   "id": "ba992e68-fac2-414f-a07a-ba8b4885321f",
   "metadata": {},
   "outputs": [],
   "source": [
    "params = PlotParams()"
   ]
  },
  {
   "cell_type": "code",
   "execution_count": 8,
   "id": "509d72fb-89a0-471a-9fae-9d3c85dee907",
   "metadata": {},
   "outputs": [],
   "source": [
    "params.xax = xdata"
   ]
  },
  {
   "cell_type": "code",
   "execution_count": 9,
   "id": "743946a8-7fba-44c1-b791-63ea4c523699",
   "metadata": {},
   "outputs": [],
   "source": [
    "params.yax = ydata"
   ]
  },
  {
   "cell_type": "code",
   "execution_count": 10,
   "id": "f62721da-5e03-4740-a6e1-09da211253bf",
   "metadata": {},
   "outputs": [],
   "source": [
    "params.title = \"First try\""
   ]
  },
  {
   "cell_type": "code",
   "execution_count": 11,
   "id": "472303db-7dac-4db5-9d4d-ffcc033f1e1d",
   "metadata": {},
   "outputs": [
    {
     "data": {
      "image/png": "[encoded data removed]",
      "text/plain": [
       "<Figure size 432x288 with 1 Axes>"
      ]
     },
     "metadata": {
      "needs_background": "light"
     },
     "output_type": "display_data"
    }
   ],
   "source": [
    "basic_plot(params)"
   ]
  },
  {
   "cell_type": "code",
   "execution_count": 12,
   "id": "acfafdbe-798c-4560-8359-78a362717e63",
   "metadata": {},
   "outputs": [],
   "source": [
    "data = pd.read_csv(\"test_df_2.csv\")\n",
    "data[\"date_time\"] = pd.to_datetime(data[\"date_time\"], format=\"%m/%d/%Y %H:%M\")"
   ]
  },
  {
   "cell_type": "code",
   "execution_count": 13,
   "id": "50d201ff-9744-4cab-bd5e-bfd6fc4f5961",
   "metadata": {},
   "outputs": [],
   "source": [
    "from integrity.compliance import all_required_exist"
   ]
  },
  {
   "cell_type": "code",
   "execution_count": 14,
   "id": "f70ef7fd-0de1-4644-b358-944efad0a3f0",
   "metadata": {},
   "outputs": [
    {
     "data": {
      "text/plain": [
       "(False,\n",
       " {'property_seized'},\n",
       " {'Gender Nonconforming',\n",
       "  'Person Search Consent Given',\n",
       "  'Property Search Consent Given',\n",
       "  'Unnamed: 0'})"
      ]
     },
     "execution_count": 14,
     "metadata": {},
     "output_type": "execute_result"
    }
   ],
   "source": [
    "all_required_exist(data)"
   ]
  },
  {
   "cell_type": "code",
   "execution_count": 15,
   "id": "5aca70d0-4fa3-4942-bf04-057d5f5222fc",
   "metadata": {},
   "outputs": [],
   "source": [
    "from integrity.compliance import *"
   ]
  },
  {
   "cell_type": "code",
   "execution_count": 16,
   "id": "1239dbd7-981a-49d5-a7d8-d781e8b0dbe9",
   "metadata": {},
   "outputs": [
    {
     "name": "stdout",
     "output_type": "stream",
     "text": [
      "All required fields exist: \u001b[31m\u001b[1mFAIL\u001b[0m\n",
      "   Missing fields: {'property_seized'}\n",
      "   Extra fields:   {'Gender Nonconforming', 'Unnamed: 0', 'Person Search Consent Given', 'Property Search Consent Given'}\n",
      "All stops unique: \u001b[32m\u001b[1mPASS\u001b[0m\n"
     ]
    }
   ],
   "source": [
    "verbose_checks(data)"
   ]
  },
  {
   "cell_type": "code",
   "execution_count": 17,
   "id": "0b27073f-ed50-4062-b20a-2ea59620cdd7",
   "metadata": {},
   "outputs": [],
   "source": [
    "    uniqs = set(data[\"stop_id\"].unique())\n",
    "    dups = set(data[\"stop_id\"]).difference(uniqs)\n"
   ]
  },
  {
   "cell_type": "code",
   "execution_count": 18,
   "id": "92ea60f7-cb3d-4f3a-8b35-c008288ad0ba",
   "metadata": {},
   "outputs": [
    {
     "data": {
      "text/plain": [
       "1425"
      ]
     },
     "execution_count": 18,
     "metadata": {},
     "output_type": "execute_result"
    }
   ],
   "source": [
    "len(uniqs)"
   ]
  },
  {
   "cell_type": "code",
   "execution_count": 19,
   "id": "4e3f86a6-0294-4127-8f23-c8a925efe3df",
   "metadata": {},
   "outputs": [
    {
     "data": {
      "text/plain": [
       "0"
      ]
     },
     "execution_count": 19,
     "metadata": {},
     "output_type": "execute_result"
    }
   ],
   "source": [
    "len(dups)"
   ]
  },
  {
   "cell_type": "code",
   "execution_count": 20,
   "id": "38708049-7ee5-4326-a76e-bc4da4e81f53",
   "metadata": {},
   "outputs": [],
   "source": [
    "from integrity.temporal import weekday_trends"
   ]
  },
  {
   "cell_type": "code",
   "execution_count": 21,
   "id": "41ee787d-7771-43fd-91bd-1230d30923fb",
   "metadata": {},
   "outputs": [],
   "source": [
    "success, plotparams, _ = weekday_trends(data.drop_duplicates(subset = \"stop_id\"))"
   ]
  },
  {
   "cell_type": "code",
   "execution_count": 22,
   "id": "83243ea3-bbc1-4ee7-b38a-8d44f9a07d18",
   "metadata": {},
   "outputs": [
    {
     "data": {
      "image/png": "[encoded data removed]",
      "text/plain": [
       "<Figure size 432x288 with 1 Axes>"
      ]
     },
     "metadata": {
      "needs_background": "light"
     },
     "output_type": "display_data"
    }
   ],
   "source": [
    "basic_plot(plotparams)"
   ]
  },
  {
   "cell_type": "code",
   "execution_count": 23,
   "id": "5afbd366-9162-4d1d-9d3d-e93d70a83e23",
   "metadata": {},
   "outputs": [],
   "source": [
    "interval = pd.Interval(pd.Timestamp('2020-01-01 00:00:00'), pd.Timestamp('2021-01-01 00:00:00'), closed='left')"
   ]
  },
  {
   "cell_type": "code",
   "execution_count": 24,
   "id": "bb17fd45-63d0-4610-b4d4-e4f1b71c01c3",
   "metadata": {},
   "outputs": [
    {
     "data": {
      "text/plain": [
       "Interval('2020-01-01', '2021-01-01', closed='left')"
      ]
     },
     "execution_count": 24,
     "metadata": {},
     "output_type": "execute_result"
    }
   ],
   "source": [
    "interval"
   ]
  },
  {
   "cell_type": "code",
   "execution_count": 25,
   "id": "582b817f-0c06-4ebb-9e61-cc2077446d53",
   "metadata": {},
   "outputs": [],
   "source": [
    "int2 = pd.Timestamp('2020-01-01 00:00:00') - pd.Timestamp('2021-01-01 00:00:00')"
   ]
  },
  {
   "cell_type": "code",
   "execution_count": 26,
   "id": "95246567-06e1-4b3b-ac2c-4dbbf8ef7ac6",
   "metadata": {},
   "outputs": [
    {
     "data": {
      "text/plain": [
       "Timedelta('-366 days +00:00:00')"
      ]
     },
     "execution_count": 26,
     "metadata": {},
     "output_type": "execute_result"
    }
   ],
   "source": [
    "int2"
   ]
  },
  {
   "cell_type": "code",
   "execution_count": 27,
   "id": "df8bea9b-8bbc-4b5d-afc7-0142acba21d4",
   "metadata": {},
   "outputs": [],
   "source": [
    "int3 = pd.Timedelta('30 days')"
   ]
  },
  {
   "cell_type": "code",
   "execution_count": 28,
   "id": "f942b5c3-38fa-4892-8756-7909936f8226",
   "metadata": {},
   "outputs": [
    {
     "data": {
      "text/plain": [
       "Timedelta('30 days 00:00:00')"
      ]
     },
     "execution_count": 28,
     "metadata": {},
     "output_type": "execute_result"
    }
   ],
   "source": [
    "int3"
   ]
  },
  {
   "cell_type": "code",
   "execution_count": 29,
   "id": "0f1de7f9-039d-4299-b0b0-bb0c198636d8",
   "metadata": {},
   "outputs": [
    {
     "data": {
      "text/plain": [
       "True"
      ]
     },
     "execution_count": 29,
     "metadata": {},
     "output_type": "execute_result"
    }
   ],
   "source": [
    "-int2 > int3"
   ]
  },
  {
   "cell_type": "code",
   "execution_count": 30,
   "id": "cc4f30ad-7e73-4702-a657-8e121cd7a449",
   "metadata": {},
   "outputs": [
    {
     "data": {
      "text/plain": [
       "Timestamp('2021-02-01 10:40:00')"
      ]
     },
     "execution_count": 30,
     "metadata": {},
     "output_type": "execute_result"
    }
   ],
   "source": [
    "min(data[\"date_time\"])"
   ]
  },
  {
   "cell_type": "code",
   "execution_count": 31,
   "id": "6396759f-2d16-4536-8b7f-69903ee4c6f9",
   "metadata": {},
   "outputs": [],
   "source": [
    "gaps = data[\"date_time\"].diff()"
   ]
  },
  {
   "cell_type": "code",
   "execution_count": 32,
   "id": "f7307ece-6884-4b86-88f9-77900521085b",
   "metadata": {},
   "outputs": [
    {
     "data": {
      "text/plain": [
       "pandas.core.series.Series"
      ]
     },
     "execution_count": 32,
     "metadata": {},
     "output_type": "execute_result"
    }
   ],
   "source": [
    "type(gaps)"
   ]
  },
  {
   "cell_type": "code",
   "execution_count": 33,
   "id": "3ada2046-9177-4cfa-aeb1-61f4851ef5c6",
   "metadata": {},
   "outputs": [
    {
     "data": {
      "text/plain": [
       "pandas._libs.tslibs.timedeltas.Timedelta"
      ]
     },
     "execution_count": 33,
     "metadata": {},
     "output_type": "execute_result"
    }
   ],
   "source": [
    "type(max(gaps.dropna()))"
   ]
  },
  {
   "cell_type": "code",
   "execution_count": 34,
   "id": "5a7ead61-aeef-422a-804c-aa8ce66b14ce",
   "metadata": {},
   "outputs": [],
   "source": [
    "maxgap_idx = gaps[gaps == max(gaps.dropna())].index"
   ]
  },
  {
   "cell_type": "code",
   "execution_count": 35,
   "id": "e631330d-8028-4ab3-b730-89f9a96ee62d",
   "metadata": {},
   "outputs": [
    {
     "data": {
      "text/plain": [
       "Int64Index([16109], dtype='int64')"
      ]
     },
     "execution_count": 35,
     "metadata": {},
     "output_type": "execute_result"
    }
   ],
   "source": [
    "maxgap_idx"
   ]
  },
  {
   "cell_type": "code",
   "execution_count": 36,
   "id": "2ad3be62-3c20-403d-ad8a-f2968fdb513e",
   "metadata": {},
   "outputs": [
    {
     "data": {
      "text/html": [
       "<div>\n",
       "<style scoped>\n",
       "    .dataframe tbody tr th:only-of-type {\n",
       "        vertical-align: middle;\n",
       "    }\n",
       "\n",
       "    .dataframe tbody tr th {\n",
       "        vertical-align: top;\n",
       "    }\n",
       "\n",
       "    .dataframe thead th {\n",
       "        text-align: right;\n",
       "    }\n",
       "</style>\n",
       "<table border=\"1\" class=\"dataframe\">\n",
       "  <thead>\n",
       "    <tr style=\"text-align: right;\">\n",
       "      <th></th>\n",
       "      <th>Unnamed: 0</th>\n",
       "      <th>stop_id</th>\n",
       "      <th>date_time</th>\n",
       "      <th>duration</th>\n",
       "      <th>call_for_service</th>\n",
       "      <th>location</th>\n",
       "      <th>actions_taken</th>\n",
       "      <th>Person Search Consent Given</th>\n",
       "      <th>Property Search Consent Given</th>\n",
       "      <th>basis_for_search</th>\n",
       "      <th>reason_for_stop</th>\n",
       "      <th>result</th>\n",
       "      <th>limited_english</th>\n",
       "      <th>age</th>\n",
       "      <th>gender</th>\n",
       "      <th>Gender Nonconforming</th>\n",
       "      <th>lgbt</th>\n",
       "      <th>race</th>\n",
       "      <th>disabilities</th>\n",
       "      <th>evidence_found</th>\n",
       "    </tr>\n",
       "  </thead>\n",
       "  <tbody>\n",
       "    <tr>\n",
       "      <th>16109</th>\n",
       "      <td>16109</td>\n",
       "      <td>2266</td>\n",
       "      <td>2021-07-26 05:26:00</td>\n",
       "      <td>45</td>\n",
       "      <td>No</td>\n",
       "      <td>N San Antonio Rd</td>\n",
       "      <td>Person removed from vehicle by order</td>\n",
       "      <td>No</td>\n",
       "      <td>No</td>\n",
       "      <td>No Search</td>\n",
       "      <td>Traffic Violation</td>\n",
       "      <td>Contacted parent/legal guardian or other perso...</td>\n",
       "      <td>No</td>\n",
       "      <td>16</td>\n",
       "      <td>Male</td>\n",
       "      <td>No</td>\n",
       "      <td>No</td>\n",
       "      <td>Hispanic/Latino/a</td>\n",
       "      <td>None</td>\n",
       "      <td>None</td>\n",
       "    </tr>\n",
       "  </tbody>\n",
       "</table>\n",
       "</div>"
      ],
      "text/plain": [
       "       Unnamed: 0  stop_id           date_time  duration call_for_service  \\\n",
       "16109       16109     2266 2021-07-26 05:26:00        45               No   \n",
       "\n",
       "               location                         actions_taken  \\\n",
       "16109  N San Antonio Rd  Person removed from vehicle by order   \n",
       "\n",
       "      Person Search Consent Given Property Search Consent Given  \\\n",
       "16109                          No                            No   \n",
       "\n",
       "      basis_for_search    reason_for_stop  \\\n",
       "16109        No Search  Traffic Violation   \n",
       "\n",
       "                                                  result limited_english  age  \\\n",
       "16109  Contacted parent/legal guardian or other perso...              No   16   \n",
       "\n",
       "      gender Gender Nonconforming lgbt               race disabilities  \\\n",
       "16109   Male                   No   No  Hispanic/Latino/a         None   \n",
       "\n",
       "      evidence_found  \n",
       "16109           None  "
      ]
     },
     "execution_count": 36,
     "metadata": {},
     "output_type": "execute_result"
    }
   ],
   "source": [
    "data.loc[maxgap_idx]"
   ]
  },
  {
   "cell_type": "code",
   "execution_count": 37,
   "id": "faac406c-68cd-4af7-a2fc-0e66a509345a",
   "metadata": {},
   "outputs": [],
   "source": [
    "long_gaps = gaps[gaps > pd.Timedelta('24 hours')]"
   ]
  },
  {
   "cell_type": "code",
   "execution_count": 38,
   "id": "99f0c161-7f13-4d60-a53e-9ca6118b5e0b",
   "metadata": {},
   "outputs": [
    {
     "data": {
      "text/plain": [
       "3200    1 days 12:44:00\n",
       "4015    1 days 02:09:00\n",
       "4183    1 days 01:23:00\n",
       "4185    1 days 05:51:00\n",
       "5830    1 days 01:24:00\n",
       "13724   1 days 00:39:00\n",
       "13918   1 days 11:25:00\n",
       "14408   1 days 00:47:00\n",
       "15306   1 days 00:02:00\n",
       "15371   1 days 02:32:00\n",
       "15423   1 days 10:42:00\n",
       "15492   1 days 02:03:00\n",
       "15549   1 days 00:38:00\n",
       "15560   1 days 16:19:00\n",
       "15656   1 days 20:19:00\n",
       "16055   1 days 10:06:00\n",
       "16109   2 days 13:57:00\n",
       "Name: date_time, dtype: timedelta64[ns]"
      ]
     },
     "execution_count": 38,
     "metadata": {},
     "output_type": "execute_result"
    }
   ],
   "source": [
    "long_gaps"
   ]
  },
  {
   "cell_type": "code",
   "execution_count": 39,
   "id": "3d43a326-a0ab-4ca7-8b45-a3feaffc530a",
   "metadata": {},
   "outputs": [
    {
     "data": {
      "text/plain": [
       "17"
      ]
     },
     "execution_count": 39,
     "metadata": {},
     "output_type": "execute_result"
    }
   ],
   "source": [
    "len(long_gaps)"
   ]
  },
  {
   "cell_type": "code",
   "execution_count": 40,
   "id": "cce159c6-08ca-4aad-8721-aa1a516e5609",
   "metadata": {},
   "outputs": [
    {
     "data": {
      "text/plain": [
       "16177"
      ]
     },
     "execution_count": 40,
     "metadata": {},
     "output_type": "execute_result"
    }
   ],
   "source": [
    "len(data)"
   ]
  },
  {
   "cell_type": "code",
   "execution_count": 41,
   "id": "ac24544a-9d04-4d76-b336-e52f02342a01",
   "metadata": {},
   "outputs": [
    {
     "data": {
      "text/plain": [
       "pandas._libs.tslibs.timedeltas.Timedelta"
      ]
     },
     "execution_count": 41,
     "metadata": {},
     "output_type": "execute_result"
    }
   ],
   "source": [
    "type(long_gaps[3200])\n"
   ]
  },
  {
   "cell_type": "code",
   "execution_count": 42,
   "id": "d6dbc6a3-be7e-4c37-b88b-c1ebbd59f071",
   "metadata": {},
   "outputs": [
    {
     "name": "stdout",
     "output_type": "stream",
     "text": [
      "1 days 12:44:00:  2021-02-27 19:43:00 to 2021-03-01 08:27:00\n",
      "1 days 02:09:00:  2021-03-03 04:04:00 to 2021-03-04 06:13:00\n",
      "1 days 01:23:00:  2021-03-12 12:58:00 to 2021-03-13 14:21:00\n",
      "1 days 05:51:00:  2021-03-14 03:43:00 to 2021-03-15 09:34:00\n",
      "1 days 01:24:00:  2021-04-03 04:25:00 to 2021-04-04 05:49:00\n",
      "1 days 00:39:00:  2021-04-20 09:25:00 to 2021-04-21 10:04:00\n",
      "1 days 11:25:00:  2021-05-07 22:26:00 to 2021-05-09 09:51:00\n",
      "1 days 00:47:00:  2021-05-28 14:34:00 to 2021-05-29 15:21:00\n",
      "1 days 00:02:00:  2021-06-04 20:19:00 to 2021-06-05 20:21:00\n",
      "1 days 02:32:00:  2021-06-13 08:33:00 to 2021-06-14 11:05:00\n",
      "1 days 10:42:00:  2021-06-17 08:01:00 to 2021-06-18 18:43:00\n",
      "1 days 02:03:00:  2021-06-24 20:38:00 to 2021-06-25 22:41:00\n",
      "1 days 00:38:00:  2021-07-02 19:28:00 to 2021-07-03 20:06:00\n",
      "1 days 16:19:00:  2021-07-05 01:07:00 to 2021-07-06 17:26:00\n",
      "1 days 20:19:00:  2021-07-10 23:45:00 to 2021-07-12 20:04:00\n",
      "1 days 10:06:00:  2021-07-19 00:48:00 to 2021-07-20 10:54:00\n",
      "2 days 13:57:00:  2021-07-23 15:29:00 to 2021-07-26 05:26:00\n"
     ]
    }
   ],
   "source": [
    "for idx in long_gaps.index:\n",
    "    print(\"{}:  {} to {}\".format(long_gaps[idx], data.loc[idx-1].date_time, data.loc[idx].date_time))\n",
    "    #print(data.loc[idx])"
   ]
  },
  {
   "cell_type": "code",
   "execution_count": 43,
   "id": "be0367e5-8d40-4068-8e3c-b307fd67b9d6",
   "metadata": {},
   "outputs": [
    {
     "data": {
      "text/plain": [
       "Timestamp('2021-02-27 19:43:00')"
      ]
     },
     "execution_count": 43,
     "metadata": {},
     "output_type": "execute_result"
    }
   ],
   "source": [
    "data.loc[3199].date_time"
   ]
  },
  {
   "cell_type": "code",
   "execution_count": 44,
   "id": "a107b26e-39a6-451e-82f7-7da276b4abc9",
   "metadata": {},
   "outputs": [],
   "source": [
    "import integrity.temporal as tp"
   ]
  },
  {
   "cell_type": "code",
   "execution_count": 45,
   "id": "26c0d5a7-ffeb-49bb-8fa5-675741f64c23",
   "metadata": {},
   "outputs": [
    {
     "name": "stdout",
     "output_type": "stream",
     "text": [
      "Sufficient time duration: \u001b[32m\u001b[1mPASS\u001b[0m\n",
      "First stop: 2021-02-01 10:40:00\n",
      "Last stop:  2021-07-31 23:36:00\n",
      "Duration of data set: 180 days 12:56:00\n",
      "Check for unexpected data gaps: \u001b[31m\u001b[1mFAIL\u001b[0m\n",
      "Index:   Duration:\n",
      "3200:  1 days 12:44:00,   2021-02-27 19:43:00 to 2021-03-01 08:27:00\n",
      "4015:  1 days 02:09:00,   2021-03-03 04:04:00 to 2021-03-04 06:13:00\n",
      "4183:  1 days 01:23:00,   2021-03-12 12:58:00 to 2021-03-13 14:21:00\n",
      "4185:  1 days 05:51:00,   2021-03-14 03:43:00 to 2021-03-15 09:34:00\n",
      "5830:  1 days 01:24:00,   2021-04-03 04:25:00 to 2021-04-04 05:49:00\n",
      "13724:  1 days 00:39:00,   2021-04-20 09:25:00 to 2021-04-21 10:04:00\n",
      "13918:  1 days 11:25:00,   2021-05-07 22:26:00 to 2021-05-09 09:51:00\n",
      "14408:  1 days 00:47:00,   2021-05-28 14:34:00 to 2021-05-29 15:21:00\n",
      "15306:  1 days 00:02:00,   2021-06-04 20:19:00 to 2021-06-05 20:21:00\n",
      "15371:  1 days 02:32:00,   2021-06-13 08:33:00 to 2021-06-14 11:05:00\n",
      "15423:  1 days 10:42:00,   2021-06-17 08:01:00 to 2021-06-18 18:43:00\n",
      "15492:  1 days 02:03:00,   2021-06-24 20:38:00 to 2021-06-25 22:41:00\n",
      "15549:  1 days 00:38:00,   2021-07-02 19:28:00 to 2021-07-03 20:06:00\n",
      "15560:  1 days 16:19:00,   2021-07-05 01:07:00 to 2021-07-06 17:26:00\n",
      "15656:  1 days 20:19:00,   2021-07-10 23:45:00 to 2021-07-12 20:04:00\n",
      "16055:  1 days 10:06:00,   2021-07-19 00:48:00 to 2021-07-20 10:54:00\n",
      "16109:  2 days 13:57:00,   2021-07-23 15:29:00 to 2021-07-26 05:26:00\n",
      "\n"
     ]
    },
    {
     "ename": "NameError",
     "evalue": "name 'counts' is not defined",
     "output_type": "error",
     "traceback": [
      "\u001b[0;31m---------------------------------------------------------------------------\u001b[0m",
      "\u001b[0;31mNameError\u001b[0m                                 Traceback (most recent call last)",
      "\u001b[0;32m<ipython-input-45-3cfc2aece91e>\u001b[0m in \u001b[0;36m<module>\u001b[0;34m\u001b[0m\n\u001b[0;32m----> 1\u001b[0;31m \u001b[0mtp\u001b[0m\u001b[0;34m.\u001b[0m\u001b[0mverbose_checks\u001b[0m\u001b[0;34m(\u001b[0m\u001b[0mdata\u001b[0m\u001b[0;34m)\u001b[0m\u001b[0;34m\u001b[0m\u001b[0;34m\u001b[0m\u001b[0m\n\u001b[0m",
      "\u001b[0;32m/media/sf_share/personal/lare/police_racial_profiling/code/integrity/temporal.py\u001b[0m in \u001b[0;36mverbose_checks\u001b[0;34m(df)\u001b[0m\n\u001b[1;32m     41\u001b[0m         \u001b[0mprint\u001b[0m\u001b[0;34m(\u001b[0m\u001b[0;34m)\u001b[0m\u001b[0;34m\u001b[0m\u001b[0;34m\u001b[0m\u001b[0m\n\u001b[1;32m     42\u001b[0m \u001b[0;34m\u001b[0m\u001b[0m\n\u001b[0;32m---> 43\u001b[0;31m     \u001b[0mcheck\u001b[0m\u001b[0;34m,\u001b[0m \u001b[0mpparam\u001b[0m\u001b[0;34m,\u001b[0m \u001b[0mbad_days\u001b[0m \u001b[0;34m=\u001b[0m \u001b[0mstops_by_day\u001b[0m\u001b[0;34m(\u001b[0m\u001b[0mdf\u001b[0m\u001b[0;34m)\u001b[0m\u001b[0;34m\u001b[0m\u001b[0;34m\u001b[0m\u001b[0m\n\u001b[0m\u001b[1;32m     44\u001b[0m     \u001b[0mprint\u001b[0m\u001b[0;34m(\u001b[0m\u001b[0;34m\"Check for excessive stop days: {}\"\u001b[0m\u001b[0;34m.\u001b[0m\u001b[0mformat\u001b[0m\u001b[0;34m(\u001b[0m\u001b[0mpretty_bool\u001b[0m\u001b[0;34m(\u001b[0m\u001b[0mcheck\u001b[0m\u001b[0;34m)\u001b[0m\u001b[0;34m)\u001b[0m\u001b[0;34m)\u001b[0m\u001b[0;34m\u001b[0m\u001b[0;34m\u001b[0m\u001b[0m\n\u001b[1;32m     45\u001b[0m     \u001b[0;32mif\u001b[0m \u001b[0;32mnot\u001b[0m \u001b[0mcheck\u001b[0m\u001b[0;34m:\u001b[0m\u001b[0;34m\u001b[0m\u001b[0;34m\u001b[0m\u001b[0m\n",
      "\u001b[0;32m/media/sf_share/personal/lare/police_racial_profiling/code/integrity/temporal.py\u001b[0m in \u001b[0;36mstops_by_day\u001b[0;34m(df, threshold)\u001b[0m\n\u001b[1;32m    175\u001b[0m     \u001b[0mstops\u001b[0m \u001b[0;34m=\u001b[0m \u001b[0mdf\u001b[0m\u001b[0;34m[\u001b[0m\u001b[0;34m\"date_time\"\u001b[0m\u001b[0;34m]\u001b[0m\u001b[0;34m.\u001b[0m\u001b[0mdt\u001b[0m\u001b[0;34m.\u001b[0m\u001b[0mfloor\u001b[0m\u001b[0;34m(\u001b[0m\u001b[0;34m\"d\"\u001b[0m\u001b[0;34m)\u001b[0m\u001b[0;34m.\u001b[0m\u001b[0mvalue_counts\u001b[0m\u001b[0;34m(\u001b[0m\u001b[0;34m)\u001b[0m\u001b[0;34m\u001b[0m\u001b[0;34m\u001b[0m\u001b[0m\n\u001b[1;32m    176\u001b[0m     \u001b[0mday_counts\u001b[0m \u001b[0;34m=\u001b[0m \u001b[0mcount_time_elements\u001b[0m\u001b[0;34m(\u001b[0m\u001b[0mmin\u001b[0m\u001b[0;34m(\u001b[0m\u001b[0mdf\u001b[0m\u001b[0;34m[\u001b[0m\u001b[0;34m\"date_time\"\u001b[0m\u001b[0;34m]\u001b[0m\u001b[0;34m)\u001b[0m\u001b[0;34m,\u001b[0m \u001b[0mmax\u001b[0m\u001b[0;34m(\u001b[0m\u001b[0mdf\u001b[0m\u001b[0;34m[\u001b[0m\u001b[0;34m\"date_time\"\u001b[0m\u001b[0;34m]\u001b[0m\u001b[0;34m)\u001b[0m\u001b[0;34m,\u001b[0m \u001b[0;34m\"day\"\u001b[0m\u001b[0;34m)\u001b[0m\u001b[0;34m\u001b[0m\u001b[0;34m\u001b[0m\u001b[0m\n\u001b[0;32m--> 177\u001b[0;31m     \u001b[0mavg\u001b[0m \u001b[0;34m=\u001b[0m \u001b[0mnp\u001b[0m\u001b[0;34m.\u001b[0m\u001b[0mmean\u001b[0m\u001b[0;34m(\u001b[0m\u001b[0mcounts\u001b[0m\u001b[0;34m)\u001b[0m\u001b[0;34m\u001b[0m\u001b[0;34m\u001b[0m\u001b[0m\n\u001b[0m\u001b[1;32m    178\u001b[0m     \u001b[0mzscores\u001b[0m \u001b[0;34m=\u001b[0m \u001b[0;34m(\u001b[0m\u001b[0mcounts\u001b[0m \u001b[0;34m-\u001b[0m \u001b[0mavg\u001b[0m\u001b[0;34m)\u001b[0m \u001b[0;34m/\u001b[0m \u001b[0mnp\u001b[0m\u001b[0;34m.\u001b[0m\u001b[0msqrt\u001b[0m\u001b[0;34m(\u001b[0m\u001b[0mavg\u001b[0m\u001b[0;34m)\u001b[0m\u001b[0;34m\u001b[0m\u001b[0;34m\u001b[0m\u001b[0m\n\u001b[1;32m    179\u001b[0m     \u001b[0;32mif\u001b[0m \u001b[0many\u001b[0m\u001b[0;34m(\u001b[0m\u001b[0mnp\u001b[0m\u001b[0;34m.\u001b[0m\u001b[0mabs\u001b[0m\u001b[0;34m(\u001b[0m\u001b[0mzscores\u001b[0m\u001b[0;34m)\u001b[0m \u001b[0;34m>\u001b[0m \u001b[0mthreshold\u001b[0m\u001b[0;34m)\u001b[0m\u001b[0;34m:\u001b[0m\u001b[0;34m\u001b[0m\u001b[0;34m\u001b[0m\u001b[0m\n",
      "\u001b[0;31mNameError\u001b[0m: name 'counts' is not defined"
     ]
    }
   ],
   "source": [
    "tp.verbose_checks(data)"
   ]
  },
  {
   "cell_type": "code",
   "execution_count": null,
   "id": "496bcf00-6139-45c1-8873-ab0d9b894a84",
   "metadata": {},
   "outputs": [],
   "source": [
    "data[\"date_time\"].round(\"d\").value_counts()"
   ]
  },
  {
   "cell_type": "code",
   "execution_count": 46,
   "id": "a0830347-d3e7-48cf-89bf-3227e60fb35c",
   "metadata": {},
   "outputs": [],
   "source": [
    "data_unique = data.drop_duplicates(subset=\"stop_id\")"
   ]
  },
  {
   "cell_type": "code",
   "execution_count": null,
   "id": "7982a7ce-58c8-4666-acde-d1c4c44cf8b2",
   "metadata": {},
   "outputs": [],
   "source": [
    "len(data_unique)"
   ]
  },
  {
   "cell_type": "code",
   "execution_count": null,
   "id": "ebb59838-e31c-423e-85e4-4312e10649a7",
   "metadata": {},
   "outputs": [],
   "source": [
    "counts = data_unique[\"date_time\"].dt.floor(\"d\").value_counts()"
   ]
  },
  {
   "cell_type": "code",
   "execution_count": null,
   "id": "6d832825-a53b-4dc9-8b6e-9df68c7c7991",
   "metadata": {},
   "outputs": [],
   "source": [
    "data_unique[\"date_time\"].apply(lambda x: x.month_name()).value_counts()"
   ]
  },
  {
   "cell_type": "code",
   "execution_count": null,
   "id": "6c231ed2-448b-4089-a183-41042accc8ae",
   "metadata": {},
   "outputs": [],
   "source": [
    "len(data_unique[\"date_time\"].round(\"d\").value_counts().values)"
   ]
  },
  {
   "cell_type": "code",
   "execution_count": null,
   "id": "40c59c02-c8f2-4b61-80e6-cbd45fdf5f85",
   "metadata": {},
   "outputs": [],
   "source": [
    "data_unique[\"date_time\"].loc[0].floor(\"d\")"
   ]
  },
  {
   "cell_type": "code",
   "execution_count": null,
   "id": "03472940-0ef6-4348-9c03-8d4b5bbc3c2a",
   "metadata": {},
   "outputs": [],
   "source": [
    "july28 = data[data[\"date_time\"].dt.floor(\"d\") == pd.Timestamp(\"2021-07-28\")]"
   ]
  },
  {
   "cell_type": "code",
   "execution_count": null,
   "id": "e485399a-0673-4991-abf7-e8a43c4114ac",
   "metadata": {},
   "outputs": [],
   "source": [
    "july28"
   ]
  },
  {
   "cell_type": "code",
   "execution_count": null,
   "id": "bf8f9599-9bf0-4e36-bfb9-a34085487772",
   "metadata": {},
   "outputs": [],
   "source": []
  },
  {
   "cell_type": "code",
   "execution_count": null,
   "id": "e5f213c1-dc8d-4dbc-8bc9-da4c83f93bd5",
   "metadata": {},
   "outputs": [],
   "source": [
    "suc, pparam, bad_days = tp.stops_by_day(data_unique)"
   ]
  },
  {
   "cell_type": "code",
   "execution_count": null,
   "id": "1884c152-7982-497b-8f21-7d31674fe447",
   "metadata": {
    "tags": []
   },
   "outputs": [],
   "source": [
    "basic_plot(pparam)"
   ]
  },
  {
   "cell_type": "code",
   "execution_count": null,
   "id": "9e67840f-4a0b-4552-901a-4d32f0a51144",
   "metadata": {
    "tags": []
   },
   "outputs": [],
   "source": [
    "bad_days"
   ]
  },
  {
   "cell_type": "code",
   "execution_count": null,
   "id": "ae90e8ea-ef2c-4305-9aa1-ea950b5b2679",
   "metadata": {},
   "outputs": [],
   "source": [
    "tp.verbose_checks(data_unique)"
   ]
  },
  {
   "cell_type": "code",
   "execution_count": null,
   "id": "c57b61b6-4c91-4b33-b72f-5bf966628bab",
   "metadata": {},
   "outputs": [],
   "source": [
    "bob=pd.date_range(\"2022-01-01\", \"2022-01-10\", freq=\"H\")"
   ]
  },
  {
   "cell_type": "code",
   "execution_count": null,
   "id": "9477fb17",
   "metadata": {},
   "outputs": [],
   "source": [
    "len(bob)"
   ]
  },
  {
   "cell_type": "code",
   "execution_count": null,
   "id": "8b0072c2",
   "metadata": {},
   "outputs": [],
   "source": [
    "start_date = pd.Timestamp(\"2022-01-01\")"
   ]
  },
  {
   "cell_type": "code",
   "execution_count": null,
   "id": "62a1867b",
   "metadata": {},
   "outputs": [],
   "source": [
    "end_date = pd.Timestamp(\"2022-06-30 23:59:59\")"
   ]
  },
  {
   "cell_type": "code",
   "execution_count": null,
   "id": "179f608b",
   "metadata": {},
   "outputs": [],
   "source": [
    "res = pd.Series([x.day for x in pd.date_range(start_date, end_date, freq='D')]).value_counts()"
   ]
  },
  {
   "cell_type": "code",
   "execution_count": null,
   "id": "27dbbaa9",
   "metadata": {},
   "outputs": [],
   "source": [
    "res[29]"
   ]
  },
  {
   "cell_type": "code",
   "execution_count": null,
   "id": "4305f0a7",
   "metadata": {},
   "outputs": [],
   "source": [
    "freq_dict = {\"day\": [\"D\", 31],\n",
    "             \"hour\": [\"H\", 24],\n",
    "             \"month\": [\"M\", 12],\n",
    "             \"second\": [\"S\", 60],\n",
    "             \"minute\": [\"min\", 60]}"
   ]
  },
  {
   "cell_type": "code",
   "execution_count": null,
   "id": "8049a4fc",
   "metadata": {},
   "outputs": [],
   "source": [
    "def count_time_elements(start_time, end_time, freq):\n",
    "    drange = pd.date_range(start_time, end_time, freq=freq_dict[freq][0])\n",
    "    if len(drange) < 10000:\n",
    "        res = pd.Series([getattr(x, freq) for x in drange]).value_counts()\n",
    "    else:\n",
    "        print(\"Too long. {}\".format(len(drange)))\n",
    "        tdelta = len(drange)\n",
    "        print(\"{}/{} = {}\".format(tdelta, freq_dict[freq][1], tdelta/freq_dict[freq][1]))\n",
    "        res = pd.Series([tdelta/freq_dict[freq][1] for x in range(freq_dict[freq][1])], \n",
    "                       index=[x for x in range(freq_dict[freq][1])])\n",
    "    return res"
   ]
  },
  {
   "cell_type": "code",
   "execution_count": null,
   "id": "acb43f0c",
   "metadata": {},
   "outputs": [],
   "source": [
    "day_counts = count_time_elements(start_date, end_date, \"day\")"
   ]
  },
  {
   "cell_type": "code",
   "execution_count": null,
   "id": "05bca0da",
   "metadata": {},
   "outputs": [],
   "source": [
    "stops = data_unique[\"date_time\"].apply(lambda x: x.day).value_counts()"
   ]
  },
  {
   "cell_type": "code",
   "execution_count": null,
   "id": "21e972ae",
   "metadata": {},
   "outputs": [],
   "source": [
    "stops/day_counts"
   ]
  },
  {
   "cell_type": "code",
   "execution_count": null,
   "id": "03e02000",
   "metadata": {},
   "outputs": [],
   "source": [
    "stops"
   ]
  },
  {
   "cell_type": "code",
   "execution_count": null,
   "id": "6898d9c1",
   "metadata": {},
   "outputs": [],
   "source": [
    "hour_counts = count_time_elements(start_date, end_date, \"hour\")"
   ]
  },
  {
   "cell_type": "code",
   "execution_count": null,
   "id": "bcc47a20",
   "metadata": {},
   "outputs": [],
   "source": [
    "stops = data_unique[\"date_time\"].apply(lambda x: x.hour).value_counts()"
   ]
  },
  {
   "cell_type": "code",
   "execution_count": null,
   "id": "0e89faec",
   "metadata": {},
   "outputs": [],
   "source": [
    "stops/hour_counts"
   ]
  },
  {
   "cell_type": "code",
   "execution_count": null,
   "id": "e758fad4",
   "metadata": {},
   "outputs": [],
   "source": [
    "stops.sort_index().index.to_list()"
   ]
  },
  {
   "cell_type": "code",
   "execution_count": 47,
   "id": "f54d2073",
   "metadata": {},
   "outputs": [],
   "source": [
    "success, plotparams, bad_hours = tp.hourly_trends(data_unique)"
   ]
  },
  {
   "cell_type": "code",
   "execution_count": 48,
   "id": "5870dd88",
   "metadata": {},
   "outputs": [
    {
     "data": {
      "image/png": "[encoded data removed]",
      "text/plain": [
       "<Figure size 432x288 with 1 Axes>"
      ]
     },
     "metadata": {
      "needs_background": "light"
     },
     "output_type": "display_data"
    }
   ],
   "source": [
    "basic_plot(plotparams)"
   ]
  },
  {
   "cell_type": "code",
   "execution_count": 49,
   "id": "965b5f07",
   "metadata": {},
   "outputs": [
    {
     "data": {
      "text/plain": [
       "True"
      ]
     },
     "execution_count": 49,
     "metadata": {},
     "output_type": "execute_result"
    }
   ],
   "source": [
    "success"
   ]
  },
  {
   "cell_type": "code",
   "execution_count": 50,
   "id": "553ae4b2",
   "metadata": {},
   "outputs": [],
   "source": [
    "success, plotparams, bad_days = tp.day_of_month_trends(data_unique)"
   ]
  },
  {
   "cell_type": "code",
   "execution_count": 51,
   "id": "e6d83c13",
   "metadata": {},
   "outputs": [
    {
     "data": {
      "image/png": "[encoded data removed]",
      "text/plain": [
       "<Figure size 432x288 with 1 Axes>"
      ]
     },
     "metadata": {
      "needs_background": "light"
     },
     "output_type": "display_data"
    }
   ],
   "source": [
    "basic_plot(plotparams)"
   ]
  },
  {
   "cell_type": "code",
   "execution_count": 53,
   "id": "7a221890",
   "metadata": {},
   "outputs": [
    {
     "data": {
      "text/plain": [
       "True"
      ]
     },
     "execution_count": 53,
     "metadata": {},
     "output_type": "execute_result"
    }
   ],
   "source": [
    "success"
   ]
  },
  {
   "cell_type": "code",
   "execution_count": null,
   "id": "60220836",
   "metadata": {},
   "outputs": [],
   "source": [
    "stops"
   ]
  },
  {
   "cell_type": "code",
   "execution_count": 90,
   "id": "b5260a51",
   "metadata": {},
   "outputs": [
    {
     "data": {
      "text/plain": [
       "5      329\n",
       "8      245\n",
       "10     238\n",
       "3       79\n",
       "7       64\n",
       "4       60\n",
       "15      58\n",
       "12      57\n",
       "9       54\n",
       "2       43\n",
       "6       40\n",
       "11      21\n",
       "20      19\n",
       "13      12\n",
       "25      11\n",
       "30      10\n",
       "1       10\n",
       "14       9\n",
       "16       8\n",
       "45       7\n",
       "18       6\n",
       "60       6\n",
       "35       6\n",
       "40       4\n",
       "17       3\n",
       "180      2\n",
       "50       2\n",
       "26       2\n",
       "32       2\n",
       "24       2\n",
       "37       1\n",
       "70       1\n",
       "189      1\n",
       "19       1\n",
       "140      1\n",
       "134      1\n",
       "120      1\n",
       "90       1\n",
       "67       1\n",
       "38       1\n",
       "65       1\n",
       "22       1\n",
       "56       1\n",
       "28       1\n",
       "41       1\n",
       "380      1\n",
       "Name: duration, dtype: int64"
      ]
     },
     "execution_count": 90,
     "metadata": {},
     "output_type": "execute_result"
    }
   ],
   "source": [
    "(data_unique[\"duration\"].value_counts())"
   ]
  },
  {
   "cell_type": "code",
   "execution_count": 108,
   "id": "13869ad9",
   "metadata": {},
   "outputs": [
    {
     "data": {
      "text/plain": [
       "Index(['White', 'Hispanic/Latino/a', 'Asian', 'Middle Eastern or South Asian',\n",
       "       'Black/African American', 'Pacific Islander', 'Native American'],\n",
       "      dtype='object')"
      ]
     },
     "execution_count": 108,
     "metadata": {},
     "output_type": "execute_result"
    }
   ],
   "source": [
    "data_unique[\"race\"].value_counts().keys()"
   ]
  },
  {
   "cell_type": "code",
   "execution_count": 109,
   "id": "c0811a4e",
   "metadata": {},
   "outputs": [
    {
     "data": {
      "text/plain": [
       "array([593, 330, 241, 177,  56,  23,   5])"
      ]
     },
     "execution_count": 109,
     "metadata": {},
     "output_type": "execute_result"
    }
   ],
   "source": [
    "(data_unique[\"race\"].value_counts().values/np.gcd.reduce(data_unique[\"race\"].value_counts().values)).astype(int)"
   ]
  },
  {
   "cell_type": "code",
   "execution_count": 93,
   "id": "8e7a8a4b",
   "metadata": {},
   "outputs": [
    {
     "data": {
      "text/plain": [
       "array([329, 245, 238,  79,  64,  60,  58,  57,  54,  43,  40,  21,  19,\n",
       "        12,  11,  10,  10,   9,   8,   7,   6,   6,   6,   4,   3,   2,\n",
       "         2,   2,   2,   2,   1,   1,   1,   1,   1,   1,   1,   1,   1,\n",
       "         1,   1,   1,   1,   1,   1,   1])"
      ]
     },
     "execution_count": 93,
     "metadata": {},
     "output_type": "execute_result"
    }
   ],
   "source": [
    "data_unique[\"duration\"].value_counts().values"
   ]
  },
  {
   "cell_type": "code",
   "execution_count": 71,
   "id": "ec957143",
   "metadata": {},
   "outputs": [
    {
     "data": {
      "text/plain": [
       "467.0"
      ]
     },
     "execution_count": 71,
     "metadata": {},
     "output_type": "execute_result"
    }
   ],
   "source": [
    "1401/3"
   ]
  },
  {
   "cell_type": "code",
   "execution_count": 72,
   "id": "b42b301d",
   "metadata": {},
   "outputs": [],
   "source": [
    "import math as math"
   ]
  },
  {
   "cell_type": "code",
   "execution_count": 74,
   "id": "4c684a5f",
   "metadata": {},
   "outputs": [
    {
     "data": {
      "text/plain": [
       "3"
      ]
     },
     "execution_count": 74,
     "metadata": {},
     "output_type": "execute_result"
    }
   ],
   "source": [
    "math.gcd(1401, 24)"
   ]
  },
  {
   "cell_type": "code",
   "execution_count": 79,
   "id": "fc2c3937",
   "metadata": {},
   "outputs": [
    {
     "data": {
      "text/plain": [
       "3"
      ]
     },
     "execution_count": 79,
     "metadata": {},
     "output_type": "execute_result"
    }
   ],
   "source": [
    "np.gcd.reduce([1401, 24])"
   ]
  },
  {
   "cell_type": "code",
   "execution_count": null,
   "id": "a2486d9e",
   "metadata": {},
   "outputs": [],
   "source": []
  }
 ],
 "metadata": {
  "kernelspec": {
   "display_name": "Python 3 (ipykernel)",
   "language": "python",
   "name": "python3"
  },
  "language_info": {
   "codemirror_mode": {
    "name": "ipython",
    "version": 3
   },
   "file_extension": ".py",
   "mimetype": "text/x-python",
   "name": "python",
   "nbconvert_exporter": "python",
   "pygments_lexer": "ipython3",
   "version": "3.10.4"
  }
 },
 "nbformat": 4,
 "nbformat_minor": 5
}
