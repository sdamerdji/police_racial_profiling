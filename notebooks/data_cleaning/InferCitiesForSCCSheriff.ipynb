{
 "cells": [
  {
   "cell_type": "code",
   "execution_count": 1,
   "id": "f1a45ad0",
   "metadata": {},
   "outputs": [],
   "source": [
    "%load_ext autoreload\n",
    "%autoreload 2"
   ]
  },
  {
   "cell_type": "code",
   "execution_count": 2,
   "id": "ad071751",
   "metadata": {},
   "outputs": [],
   "source": [
    "import pandas as pd\n",
    "import seaborn as sns\n",
    "import matplotlib.pyplot as plt\n",
    "from datetime import datetime\n",
    "import time as time\n",
    "import re\n",
    "from random import randint\n",
    "from geopy.exc import GeocoderTimedOut, GeocoderServiceError\n",
    "import logging"
   ]
  },
  {
   "cell_type": "code",
   "execution_count": 3,
   "id": "bfc63ef6",
   "metadata": {},
   "outputs": [],
   "source": [
    "import os"
   ]
  },
  {
   "cell_type": "code",
   "execution_count": 4,
   "id": "d96c005c",
   "metadata": {},
   "outputs": [],
   "source": [
    "import sys\n",
    "sys.path.append(\"../../code\")\n",
    "#sys.path.append(\"../../loaders\")\n",
    "import loaders.cityprotect as cp"
   ]
  },
  {
   "cell_type": "markdown",
   "id": "9eacbd6c",
   "metadata": {},
   "source": [
    "Concatenate and pandaize data downloaded from CityProtect.\n",
    "Given a folder, find all the files ending with \"Los_Altos_Police_Department_report.csv\", concatenate, and sort by date."
   ]
  },
  {
   "cell_type": "code",
   "execution_count": 5,
   "id": "9468cb1d",
   "metadata": {},
   "outputs": [],
   "source": [
    "def geocode(geolocator, addr, sleep_sec):\n",
    "    try:\n",
    "        return geolocator.geocode(addr)\n",
    "    except GeocoderTimedOut:\n",
    "        logging.info('TIMED OUT: GeocoderTimedOut: Retrying...')\n",
    "        time.sleep(randint(1*100,sleep_sec*100)/100)\n",
    "        return geolocator.reverse_geocode(geolocator, latlon, sleep_sec)\n",
    "    except GeocoderServiceError as e:\n",
    "        logging.info('CONNECTION REFUSED: GeocoderServiceError encountered.')\n",
    "        logging.error(e)\n",
    "        return None\n",
    "    except Exception as e:\n",
    "        logging.info('ERROR: Terminating due to exception {}'.format(e))\n",
    "        return None"
   ]
  },
  {
   "cell_type": "code",
   "execution_count": 16,
   "id": "7eea2f31",
   "metadata": {},
   "outputs": [],
   "source": [
    "import certifi\n",
    "import ssl\n",
    "import geopy.geocoders\n",
    "from geopy.geocoders import Nominatim\n",
    "from geopy.geocoders import Photon\n",
    "ctx = ssl.create_default_context(cafile=certifi.where())\n",
    "geopy.geocoders.options.default_ssl_context = ctx\n",
    "user_agent = 'user_me_{}'.format(randint(10000,99999))\n",
    "geolocator = Photon(user_agent=user_agent, scheme='http')\n",
    "\n"
   ]
  },
  {
   "cell_type": "code",
   "execution_count": 17,
   "id": "98138d4f",
   "metadata": {},
   "outputs": [
    {
     "name": "stdout",
     "output_type": "stream",
     "text": [
      "Pilier Nord Caisse, Quai Jacques Chirac, 75007, Quai Jacques Chirac, Paris, Île-de-France, France\n",
      "{'geometry': {'coordinates': [2.2943973500000054, 48.8587893], 'type': 'Point'}, 'type': 'Feature', 'properties': {'osm_id': 335101035, 'extent': [2.2943659, 48.8588097, 2.2944288, 48.8587689], 'country': 'France', 'city': 'Paris', 'countrycode': 'FR', 'postcode': '75007', 'locality': 'Quartier du Gros-Caillou', 'type': 'house', 'osm_type': 'W', 'osm_key': 'shop', 'street': 'Quai Jacques Chirac', 'district': 'Paris', 'osm_value': 'ticket', 'name': 'Pilier Nord Caisse', 'state': 'Île-de-France'}}\n"
     ]
    }
   ],
   "source": [
    "location = geolocator.reverse(\"48.8588443, 2.2943506\")\n",
    "\n",
    "print(location.address)\n",
    "print (location.raw)"
   ]
  },
  {
   "cell_type": "code",
   "execution_count": 42,
   "id": "67c8c86b",
   "metadata": {},
   "outputs": [],
   "source": [
    "bob = geolocator.geocode(\"1728 Selig Ln, Los Altos, CA\")"
   ]
  },
  {
   "cell_type": "code",
   "execution_count": 54,
   "id": "865442a8",
   "metadata": {},
   "outputs": [
    {
     "name": "stdout",
     "output_type": "stream",
     "text": [
      "Los Altos\n"
     ]
    }
   ],
   "source": [
    "print(bob.raw[\"properties\"][\"city\"])"
   ]
  },
  {
   "cell_type": "code",
   "execution_count": 55,
   "id": "87aa4223",
   "metadata": {},
   "outputs": [
    {
     "data": {
      "text/plain": [
       "'Selig Lane, 94807, Los Altos, California, United States'"
      ]
     },
     "execution_count": 55,
     "metadata": {},
     "output_type": "execute_result"
    }
   ],
   "source": [
    "bob.address"
   ]
  },
  {
   "cell_type": "code",
   "execution_count": null,
   "id": "0981a924",
   "metadata": {},
   "outputs": [],
   "source": []
  },
  {
   "cell_type": "code",
   "execution_count": 7,
   "id": "ba3dfcf8",
   "metadata": {},
   "outputs": [],
   "source": [
    "previous_df = pd.read_pickle(\"../../data/clean_data/SCCSheriff_2017_2022_inferredCity.pkl\")"
   ]
  },
  {
   "cell_type": "code",
   "execution_count": 8,
   "id": "897197c5",
   "metadata": {},
   "outputs": [
    {
     "data": {
      "text/plain": [
       "Timestamp('2022-12-31 23:58:48')"
      ]
     },
     "execution_count": 8,
     "metadata": {},
     "output_type": "execute_result"
    }
   ],
   "source": [
    "previous_df[\"date\"].max()"
   ]
  },
  {
   "cell_type": "code",
   "execution_count": 9,
   "id": "45ffd1cc",
   "metadata": {},
   "outputs": [
    {
     "name": "stdout",
     "output_type": "stream",
     "text": [
      "Starting: 2022-12-31 23:58:48\n",
      "Ending:   2023-10-13 14:25:07.097616\n",
      "Loading from 26 files.\n",
      "Data file ../../data/raw_data/Santa_Clara_County_Office_of_the_Sheriff\\Apr_Jun_2017_Santa_Clara_County_Office_of_the_Sheriff_report.csv is empty.\n",
      "Data file ../../data/raw_data/Santa_Clara_County_Office_of_the_Sheriff\\Jan_Mar_2017_Santa_Clara_County_Office_of_the_Sheriff_report.csv is empty.\n"
     ]
    }
   ],
   "source": [
    "dept = \"Santa Clara County Office of the Sheriff\"\n",
    "df = cp.cityprotect(\"../../data/raw_data/{}\".format(dept.replace(\" \", \"_\")),\n",
    "                                 start_date = previous_df[\"date\"].max(),\n",
    "                                  end_date = datetime.now() )"
   ]
  },
  {
   "cell_type": "code",
   "execution_count": 19,
   "id": "81c36100",
   "metadata": {},
   "outputs": [
    {
     "data": {
      "text/plain": [
       "Timestamp('2022-12-31 23:58:48')"
      ]
     },
     "execution_count": 19,
     "metadata": {},
     "output_type": "execute_result"
    }
   ],
   "source": [
    "df[\"date\"].min()"
   ]
  },
  {
   "cell_type": "code",
   "execution_count": 20,
   "id": "40909974",
   "metadata": {},
   "outputs": [],
   "source": [
    "df[\"inferredCity\"]=\"unknown\""
   ]
  },
  {
   "cell_type": "code",
   "execution_count": 37,
   "id": "148899a1",
   "metadata": {},
   "outputs": [],
   "source": [
    "row = df.iloc[125]"
   ]
  },
  {
   "cell_type": "code",
   "execution_count": 38,
   "id": "9dc562b8",
   "metadata": {},
   "outputs": [
    {
     "data": {
      "text/plain": [
       "ccn                                                          S230010338\n",
       "date                                                2023-01-02 04:52:30\n",
       "updateDate                                          2023-01-02 17:39:29\n",
       "city                                                 SANTA CLARA COUNTY\n",
       "state                                                                CA\n",
       "postalCode                                                            .\n",
       "blocksizedAddress                                             BERRY WAY\n",
       "incidentType                                                DISTURBANCE\n",
       "parentIncidentType                                      Quality of Life\n",
       "narrative             Call Type: 415    <br>Description: DISTURBANCE...\n",
       "inferredCity                                                    unknown\n",
       "Name: 174833, dtype: object"
      ]
     },
     "execution_count": 38,
     "metadata": {},
     "output_type": "execute_result"
    }
   ],
   "source": [
    "row"
   ]
  },
  {
   "cell_type": "code",
   "execution_count": 39,
   "id": "36ac3051",
   "metadata": {},
   "outputs": [],
   "source": [
    "place = re.sub(\"BLOCK\", \"\", row[\"blocksizedAddress\"].upper()) + \", SANTA CLARA COUNTY, CA\""
   ]
  },
  {
   "cell_type": "code",
   "execution_count": 40,
   "id": "29376b3f",
   "metadata": {},
   "outputs": [],
   "source": [
    "location = geocode(geolocator, place, 1)"
   ]
  },
  {
   "cell_type": "code",
   "execution_count": 41,
   "id": "a1c48fda",
   "metadata": {},
   "outputs": [
    {
     "data": {
      "text/plain": [
       "Location(Berry Way, 95051, Santa Clara, California, United States, (37.3606331, -121.9951343, 0.0))"
      ]
     },
     "execution_count": 41,
     "metadata": {},
     "output_type": "execute_result"
    }
   ],
   "source": [
    "location"
   ]
  },
  {
   "cell_type": "code",
   "execution_count": 56,
   "id": "e4fb081a",
   "metadata": {
    "scrolled": true
   },
   "outputs": [
    {
     "name": "stdout",
     "output_type": "stream",
     "text": [
      "ccn                                                          S223650282\n",
      "date                                                2022-12-31 23:58:48\n",
      "updateDate                                          2023-01-01 09:05:07\n",
      "city                                                 SANTA CLARA COUNTY\n",
      "state                                                                CA\n",
      "postalCode                                                            .\n",
      "blocksizedAddress                               14000 Block LOMA RIO DR\n",
      "incidentType                                       PHONE UR OFFICE, OR:\n",
      "parentIncidentType                                                Other\n",
      "narrative             Call Type: 1021   <br>Description: PHONE UR OF...\n",
      "inferredCity                                                    unknown\n",
      "Name: 324514, dtype: object\n",
      "NR: 1 ccn                                                          L223650085\n",
      "date                                                2023-01-01 00:15:09\n",
      "updateDate                                          2023-01-01 09:05:06\n",
      "city                                                 SANTA CLARA COUNTY\n",
      "state                                                                CA\n",
      "postalCode                                                            .\n",
      "blocksizedAddress                                    ALUM ROCK FALLS RD\n",
      "incidentType                                     SERVICE OR AID REQUEST\n",
      "parentIncidentType                                                Other\n",
      "narrative             Call Type: SVC    <br>Description: SERVICE OR ...\n",
      "inferredCity                                                    unknown\n",
      "Name: 324515, dtype: object\n",
      "NR: 2 ccn                                                          L223650088\n",
      "date                                                2023-01-01 00:36:17\n",
      "updateDate                                          2023-01-01 09:05:08\n",
      "city                                                 SANTA CLARA COUNTY\n",
      "state                                                                CA\n",
      "postalCode                                                            .\n",
      "blocksizedAddress                                             BONINO LN\n",
      "incidentType                                     SERVICE OR AID REQUEST\n",
      "parentIncidentType                                                Other\n",
      "narrative             Call Type: SVC    <br>Description: SERVICE OR ...\n",
      "inferredCity                                                    unknown\n",
      "Name: 324516, dtype: object\n",
      "NR: 3 ccn                                                          L223650094\n",
      "date                                                2023-01-01 00:43:22\n",
      "updateDate                                          2023-01-01 09:05:06\n",
      "city                                                 SANTA CLARA COUNTY\n",
      "state                                                                CA\n",
      "postalCode                                                            .\n",
      "blocksizedAddress                                                 HWY 9\n",
      "incidentType                                     SERVICE OR AID REQUEST\n",
      "parentIncidentType                                                Other\n",
      "narrative             Call Type: SVC    <br>Description: SERVICE OR ...\n",
      "inferredCity                                                    unknown\n",
      "Name: 324517, dtype: object\n",
      "NR: 4 ccn                                                          L223650095\n",
      "date                                                2023-01-01 00:45:05\n",
      "updateDate                                          2023-01-01 09:05:07\n",
      "city                                                 SANTA CLARA COUNTY\n",
      "state                                                                CA\n",
      "postalCode                                                            .\n",
      "blocksizedAddress                             14300 Block LIDDICOAT CIR\n",
      "incidentType                                     SERVICE OR AID REQUEST\n",
      "parentIncidentType                                                Other\n",
      "narrative             Call Type: SVC    <br>Description: SERVICE OR ...\n",
      "inferredCity                                                    unknown\n",
      "Name: 324518, dtype: object\n",
      "NR: 5 ccn                                                          S223650309\n",
      "date                                                2023-01-01 00:58:48\n",
      "updateDate                                          2023-01-01 09:05:06\n",
      "city                                                 SANTA CLARA COUNTY\n",
      "state                                                                CA\n",
      "postalCode                                                            .\n",
      "blocksizedAddress                                          POLE LINE RD\n",
      "incidentType                                             TRAFFIC HAZARD\n",
      "parentIncidentType                                              Traffic\n",
      "narrative             Call Type: 1125   <br>Description: TRAFFIC HAZ...\n",
      "inferredCity                                                    unknown\n",
      "Name: 324519, dtype: object\n",
      "NR: 6 ccn                                                          S230010002\n",
      "date                                                2023-01-01 07:03:42\n",
      "updateDate                                          2023-01-01 17:51:40\n",
      "city                                                 SANTA CLARA COUNTY\n",
      "state                                                                CA\n",
      "postalCode                                                            .\n",
      "blocksizedAddress                                                OAK ST\n",
      "incidentType                                         SUSPICIOUS VEHICLE\n",
      "parentIncidentType                                                Other\n",
      "narrative             Call Type: 1154   <br>Description: SUSPICIOUS ...\n",
      "inferredCity                                                    unknown\n",
      "Name: 174903, dtype: object\n"
     ]
    },
    {
     "ename": "KeyboardInterrupt",
     "evalue": "",
     "output_type": "error",
     "traceback": [
      "\u001b[1;31m---------------------------------------------------------------------------\u001b[0m",
      "\u001b[1;31mKeyboardInterrupt\u001b[0m                         Traceback (most recent call last)",
      "\u001b[1;32mc:\\Users\\brian\\Desktop\\share\\personal\\lare\\police_racial_profiling\\notebooks\\data_cleaning\\InferCitiesForSCCSheriff.ipynb Cell 23\u001b[0m line \u001b[0;36m1\n\u001b[0;32m      <a href='vscode-notebook-cell:/c%3A/Users/brian/Desktop/share/personal/lare/police_racial_profiling/notebooks/data_cleaning/InferCitiesForSCCSheriff.ipynb#X13sZmlsZQ%3D%3D?line=7'>8</a>\u001b[0m     \u001b[39mprint\u001b[39m(\u001b[39m\"\u001b[39m\u001b[39mFailed to scan: \u001b[39m\u001b[39m{}\u001b[39;00m\u001b[39m\"\u001b[39m\u001b[39m.\u001b[39mformat(row[\u001b[39m\"\u001b[39m\u001b[39mblocksizedAddress\u001b[39m\u001b[39m\"\u001b[39m]))\n\u001b[0;32m      <a href='vscode-notebook-cell:/c%3A/Users/brian/Desktop/share/personal/lare/police_racial_profiling/notebooks/data_cleaning/InferCitiesForSCCSheriff.ipynb#X13sZmlsZQ%3D%3D?line=8'>9</a>\u001b[0m     \u001b[39mcontinue\u001b[39;00m\n\u001b[1;32m---> <a href='vscode-notebook-cell:/c%3A/Users/brian/Desktop/share/personal/lare/police_racial_profiling/notebooks/data_cleaning/InferCitiesForSCCSheriff.ipynb#X13sZmlsZQ%3D%3D?line=9'>10</a>\u001b[0m location \u001b[39m=\u001b[39m geocode(geolocator, place, \u001b[39m1\u001b[39;49m)   \n\u001b[0;32m     <a href='vscode-notebook-cell:/c%3A/Users/brian/Desktop/share/personal/lare/police_racial_profiling/notebooks/data_cleaning/InferCitiesForSCCSheriff.ipynb#X13sZmlsZQ%3D%3D?line=11'>12</a>\u001b[0m counter \u001b[39m=\u001b[39m counter \u001b[39m+\u001b[39m \u001b[39m1\u001b[39m\n\u001b[0;32m     <a href='vscode-notebook-cell:/c%3A/Users/brian/Desktop/share/personal/lare/police_racial_profiling/notebooks/data_cleaning/InferCitiesForSCCSheriff.ipynb#X13sZmlsZQ%3D%3D?line=12'>13</a>\u001b[0m \u001b[39mif\u001b[39;00m location \u001b[39m!=\u001b[39m \u001b[39mNone\u001b[39;00m:\n",
      "\u001b[1;32mc:\\Users\\brian\\Desktop\\share\\personal\\lare\\police_racial_profiling\\notebooks\\data_cleaning\\InferCitiesForSCCSheriff.ipynb Cell 23\u001b[0m line \u001b[0;36m3\n\u001b[0;32m      <a href='vscode-notebook-cell:/c%3A/Users/brian/Desktop/share/personal/lare/police_racial_profiling/notebooks/data_cleaning/InferCitiesForSCCSheriff.ipynb#X13sZmlsZQ%3D%3D?line=0'>1</a>\u001b[0m \u001b[39mdef\u001b[39;00m \u001b[39mgeocode\u001b[39m(geolocator, addr, sleep_sec):\n\u001b[0;32m      <a href='vscode-notebook-cell:/c%3A/Users/brian/Desktop/share/personal/lare/police_racial_profiling/notebooks/data_cleaning/InferCitiesForSCCSheriff.ipynb#X13sZmlsZQ%3D%3D?line=1'>2</a>\u001b[0m     \u001b[39mtry\u001b[39;00m:\n\u001b[1;32m----> <a href='vscode-notebook-cell:/c%3A/Users/brian/Desktop/share/personal/lare/police_racial_profiling/notebooks/data_cleaning/InferCitiesForSCCSheriff.ipynb#X13sZmlsZQ%3D%3D?line=2'>3</a>\u001b[0m         \u001b[39mreturn\u001b[39;00m geolocator\u001b[39m.\u001b[39;49mgeocode(addr)\n\u001b[0;32m      <a href='vscode-notebook-cell:/c%3A/Users/brian/Desktop/share/personal/lare/police_racial_profiling/notebooks/data_cleaning/InferCitiesForSCCSheriff.ipynb#X13sZmlsZQ%3D%3D?line=3'>4</a>\u001b[0m     \u001b[39mexcept\u001b[39;00m GeocoderTimedOut:\n\u001b[0;32m      <a href='vscode-notebook-cell:/c%3A/Users/brian/Desktop/share/personal/lare/police_racial_profiling/notebooks/data_cleaning/InferCitiesForSCCSheriff.ipynb#X13sZmlsZQ%3D%3D?line=4'>5</a>\u001b[0m         logging\u001b[39m.\u001b[39minfo(\u001b[39m'\u001b[39m\u001b[39mTIMED OUT: GeocoderTimedOut: Retrying...\u001b[39m\u001b[39m'\u001b[39m)\n",
      "File \u001b[1;32mc:\\Users\\brian\\AppData\\Local\\Programs\\Python\\Python310\\lib\\site-packages\\geopy\\geocoders\\photon.py:166\u001b[0m, in \u001b[0;36mPhoton.geocode\u001b[1;34m(self, query, exactly_one, timeout, location_bias, language, limit, osm_tag, bbox)\u001b[0m\n\u001b[0;32m    164\u001b[0m logger\u001b[39m.\u001b[39mdebug(\u001b[39m\"\u001b[39m\u001b[39m%s\u001b[39;00m\u001b[39m.geocode: \u001b[39m\u001b[39m%s\u001b[39;00m\u001b[39m\"\u001b[39m, \u001b[39mself\u001b[39m\u001b[39m.\u001b[39m\u001b[39m__class__\u001b[39m\u001b[39m.\u001b[39m\u001b[39m__name__\u001b[39m, url)\n\u001b[0;32m    165\u001b[0m callback \u001b[39m=\u001b[39m partial(\u001b[39mself\u001b[39m\u001b[39m.\u001b[39m_parse_json, exactly_one\u001b[39m=\u001b[39mexactly_one)\n\u001b[1;32m--> 166\u001b[0m \u001b[39mreturn\u001b[39;00m \u001b[39mself\u001b[39;49m\u001b[39m.\u001b[39;49m_call_geocoder(url, callback, timeout\u001b[39m=\u001b[39;49mtimeout)\n",
      "File \u001b[1;32mc:\\Users\\brian\\AppData\\Local\\Programs\\Python\\Python310\\lib\\site-packages\\geopy\\geocoders\\base.py:368\u001b[0m, in \u001b[0;36mGeocoder._call_geocoder\u001b[1;34m(self, url, callback, timeout, is_json, headers)\u001b[0m\n\u001b[0;32m    366\u001b[0m \u001b[39mtry\u001b[39;00m:\n\u001b[0;32m    367\u001b[0m     \u001b[39mif\u001b[39;00m is_json:\n\u001b[1;32m--> 368\u001b[0m         result \u001b[39m=\u001b[39m \u001b[39mself\u001b[39;49m\u001b[39m.\u001b[39;49madapter\u001b[39m.\u001b[39;49mget_json(url, timeout\u001b[39m=\u001b[39;49mtimeout, headers\u001b[39m=\u001b[39;49mreq_headers)\n\u001b[0;32m    369\u001b[0m     \u001b[39melse\u001b[39;00m:\n\u001b[0;32m    370\u001b[0m         result \u001b[39m=\u001b[39m \u001b[39mself\u001b[39m\u001b[39m.\u001b[39madapter\u001b[39m.\u001b[39mget_text(url, timeout\u001b[39m=\u001b[39mtimeout, headers\u001b[39m=\u001b[39mreq_headers)\n",
      "File \u001b[1;32mc:\\Users\\brian\\AppData\\Local\\Programs\\Python\\Python310\\lib\\site-packages\\geopy\\adapters.py:287\u001b[0m, in \u001b[0;36mURLLibAdapter.get_json\u001b[1;34m(self, url, timeout, headers)\u001b[0m\n\u001b[0;32m    286\u001b[0m \u001b[39mdef\u001b[39;00m \u001b[39mget_json\u001b[39m(\u001b[39mself\u001b[39m, url, \u001b[39m*\u001b[39m, timeout, headers):\n\u001b[1;32m--> 287\u001b[0m     text \u001b[39m=\u001b[39m \u001b[39mself\u001b[39;49m\u001b[39m.\u001b[39;49mget_text(url, timeout\u001b[39m=\u001b[39;49mtimeout, headers\u001b[39m=\u001b[39;49mheaders)\n\u001b[0;32m    288\u001b[0m     \u001b[39mtry\u001b[39;00m:\n\u001b[0;32m    289\u001b[0m         \u001b[39mreturn\u001b[39;00m json\u001b[39m.\u001b[39mloads(text)\n",
      "File \u001b[1;32mc:\\Users\\brian\\AppData\\Local\\Programs\\Python\\Python310\\lib\\site-packages\\geopy\\adapters.py:326\u001b[0m, in \u001b[0;36mURLLibAdapter.get_text\u001b[1;34m(self, url, timeout, headers)\u001b[0m\n\u001b[0;32m    324\u001b[0m     \u001b[39mraise\u001b[39;00m GeocoderServiceError(message)\n\u001b[0;32m    325\u001b[0m \u001b[39melse\u001b[39;00m:\n\u001b[1;32m--> 326\u001b[0m     text \u001b[39m=\u001b[39m \u001b[39mself\u001b[39;49m\u001b[39m.\u001b[39;49m_decode_page(page)\n\u001b[0;32m    327\u001b[0m     status_code \u001b[39m=\u001b[39m page\u001b[39m.\u001b[39mgetcode()\n\u001b[0;32m    328\u001b[0m     \u001b[39mif\u001b[39;00m status_code \u001b[39m>\u001b[39m\u001b[39m=\u001b[39m \u001b[39m400\u001b[39m:\n",
      "File \u001b[1;32mc:\\Users\\brian\\AppData\\Local\\Programs\\Python\\Python310\\lib\\site-packages\\geopy\\adapters.py:354\u001b[0m, in \u001b[0;36mURLLibAdapter._decode_page\u001b[1;34m(self, page)\u001b[0m\n\u001b[0;32m    352\u001b[0m encoding \u001b[39m=\u001b[39m page\u001b[39m.\u001b[39mheaders\u001b[39m.\u001b[39mget_content_charset() \u001b[39mor\u001b[39;00m \u001b[39m\"\u001b[39m\u001b[39mutf-8\u001b[39m\u001b[39m\"\u001b[39m\n\u001b[0;32m    353\u001b[0m \u001b[39mtry\u001b[39;00m:\n\u001b[1;32m--> 354\u001b[0m     body_bytes \u001b[39m=\u001b[39m page\u001b[39m.\u001b[39;49mread()\n\u001b[0;32m    355\u001b[0m \u001b[39mexcept\u001b[39;00m \u001b[39mException\u001b[39;00m:\n\u001b[0;32m    356\u001b[0m     \u001b[39mraise\u001b[39;00m GeocoderServiceError(\u001b[39m\"\u001b[39m\u001b[39mUnable to read the response\u001b[39m\u001b[39m\"\u001b[39m)\n",
      "File \u001b[1;32mc:\\Users\\brian\\AppData\\Local\\Programs\\Python\\Python310\\lib\\http\\client.py:458\u001b[0m, in \u001b[0;36mHTTPResponse.read\u001b[1;34m(self, amt)\u001b[0m\n\u001b[0;32m    455\u001b[0m     \u001b[39mreturn\u001b[39;00m \u001b[39mb\u001b[39m\u001b[39m\"\u001b[39m\u001b[39m\"\u001b[39m\n\u001b[0;32m    457\u001b[0m \u001b[39mif\u001b[39;00m \u001b[39mself\u001b[39m\u001b[39m.\u001b[39mchunked:\n\u001b[1;32m--> 458\u001b[0m     \u001b[39mreturn\u001b[39;00m \u001b[39mself\u001b[39;49m\u001b[39m.\u001b[39;49m_read_chunked(amt)\n\u001b[0;32m    460\u001b[0m \u001b[39mif\u001b[39;00m amt \u001b[39mis\u001b[39;00m \u001b[39mnot\u001b[39;00m \u001b[39mNone\u001b[39;00m:\n\u001b[0;32m    461\u001b[0m     \u001b[39mif\u001b[39;00m \u001b[39mself\u001b[39m\u001b[39m.\u001b[39mlength \u001b[39mis\u001b[39;00m \u001b[39mnot\u001b[39;00m \u001b[39mNone\u001b[39;00m \u001b[39mand\u001b[39;00m amt \u001b[39m>\u001b[39m \u001b[39mself\u001b[39m\u001b[39m.\u001b[39mlength:\n\u001b[0;32m    462\u001b[0m         \u001b[39m# clip the read to the \"end of response\"\u001b[39;00m\n",
      "File \u001b[1;32mc:\\Users\\brian\\AppData\\Local\\Programs\\Python\\Python310\\lib\\http\\client.py:581\u001b[0m, in \u001b[0;36mHTTPResponse._read_chunked\u001b[1;34m(self, amt)\u001b[0m\n\u001b[0;32m    579\u001b[0m \u001b[39mtry\u001b[39;00m:\n\u001b[0;32m    580\u001b[0m     \u001b[39mwhile\u001b[39;00m \u001b[39mTrue\u001b[39;00m:\n\u001b[1;32m--> 581\u001b[0m         chunk_left \u001b[39m=\u001b[39m \u001b[39mself\u001b[39;49m\u001b[39m.\u001b[39;49m_get_chunk_left()\n\u001b[0;32m    582\u001b[0m         \u001b[39mif\u001b[39;00m chunk_left \u001b[39mis\u001b[39;00m \u001b[39mNone\u001b[39;00m:\n\u001b[0;32m    583\u001b[0m             \u001b[39mbreak\u001b[39;00m\n",
      "File \u001b[1;32mc:\\Users\\brian\\AppData\\Local\\Programs\\Python\\Python310\\lib\\http\\client.py:571\u001b[0m, in \u001b[0;36mHTTPResponse._get_chunk_left\u001b[1;34m(self)\u001b[0m\n\u001b[0;32m    569\u001b[0m     \u001b[39mself\u001b[39m\u001b[39m.\u001b[39m_read_and_discard_trailer()\n\u001b[0;32m    570\u001b[0m     \u001b[39m# we read everything; close the \"file\"\u001b[39;00m\n\u001b[1;32m--> 571\u001b[0m     \u001b[39mself\u001b[39;49m\u001b[39m.\u001b[39;49m_close_conn()\n\u001b[0;32m    572\u001b[0m     chunk_left \u001b[39m=\u001b[39m \u001b[39mNone\u001b[39;00m\n\u001b[0;32m    573\u001b[0m \u001b[39mself\u001b[39m\u001b[39m.\u001b[39mchunk_left \u001b[39m=\u001b[39m chunk_left\n",
      "File \u001b[1;32mc:\\Users\\brian\\AppData\\Local\\Programs\\Python\\Python310\\lib\\http\\client.py:414\u001b[0m, in \u001b[0;36mHTTPResponse._close_conn\u001b[1;34m(self)\u001b[0m\n\u001b[0;32m    412\u001b[0m fp \u001b[39m=\u001b[39m \u001b[39mself\u001b[39m\u001b[39m.\u001b[39mfp\n\u001b[0;32m    413\u001b[0m \u001b[39mself\u001b[39m\u001b[39m.\u001b[39mfp \u001b[39m=\u001b[39m \u001b[39mNone\u001b[39;00m\n\u001b[1;32m--> 414\u001b[0m fp\u001b[39m.\u001b[39;49mclose()\n",
      "File \u001b[1;32mc:\\Users\\brian\\AppData\\Local\\Programs\\Python\\Python310\\lib\\socket.py:775\u001b[0m, in \u001b[0;36mSocketIO.close\u001b[1;34m(self)\u001b[0m\n\u001b[0;32m    773\u001b[0m     \u001b[39mreturn\u001b[39;00m\n\u001b[0;32m    774\u001b[0m io\u001b[39m.\u001b[39mRawIOBase\u001b[39m.\u001b[39mclose(\u001b[39mself\u001b[39m)\n\u001b[1;32m--> 775\u001b[0m \u001b[39mself\u001b[39;49m\u001b[39m.\u001b[39;49m_sock\u001b[39m.\u001b[39;49m_decref_socketios()\n\u001b[0;32m    776\u001b[0m \u001b[39mself\u001b[39m\u001b[39m.\u001b[39m_sock \u001b[39m=\u001b[39m \u001b[39mNone\u001b[39;00m\n",
      "File \u001b[1;32mc:\\Users\\brian\\AppData\\Local\\Programs\\Python\\Python310\\lib\\socket.py:492\u001b[0m, in \u001b[0;36msocket._decref_socketios\u001b[1;34m(self)\u001b[0m\n\u001b[0;32m    490\u001b[0m     \u001b[39mself\u001b[39m\u001b[39m.\u001b[39m_io_refs \u001b[39m-\u001b[39m\u001b[39m=\u001b[39m \u001b[39m1\u001b[39m\n\u001b[0;32m    491\u001b[0m \u001b[39mif\u001b[39;00m \u001b[39mself\u001b[39m\u001b[39m.\u001b[39m_closed:\n\u001b[1;32m--> 492\u001b[0m     \u001b[39mself\u001b[39;49m\u001b[39m.\u001b[39;49mclose()\n",
      "File \u001b[1;32mc:\\Users\\brian\\AppData\\Local\\Programs\\Python\\Python310\\lib\\socket.py:502\u001b[0m, in \u001b[0;36msocket.close\u001b[1;34m(self)\u001b[0m\n\u001b[0;32m    500\u001b[0m \u001b[39mself\u001b[39m\u001b[39m.\u001b[39m_closed \u001b[39m=\u001b[39m \u001b[39mTrue\u001b[39;00m\n\u001b[0;32m    501\u001b[0m \u001b[39mif\u001b[39;00m \u001b[39mself\u001b[39m\u001b[39m.\u001b[39m_io_refs \u001b[39m<\u001b[39m\u001b[39m=\u001b[39m \u001b[39m0\u001b[39m:\n\u001b[1;32m--> 502\u001b[0m     \u001b[39mself\u001b[39;49m\u001b[39m.\u001b[39;49m_real_close()\n",
      "File \u001b[1;32mc:\\Users\\brian\\AppData\\Local\\Programs\\Python\\Python310\\lib\\ssl.py:1332\u001b[0m, in \u001b[0;36mSSLSocket._real_close\u001b[1;34m(self)\u001b[0m\n\u001b[0;32m   1330\u001b[0m \u001b[39mdef\u001b[39;00m \u001b[39m_real_close\u001b[39m(\u001b[39mself\u001b[39m):\n\u001b[0;32m   1331\u001b[0m     \u001b[39mself\u001b[39m\u001b[39m.\u001b[39m_sslobj \u001b[39m=\u001b[39m \u001b[39mNone\u001b[39;00m\n\u001b[1;32m-> 1332\u001b[0m     \u001b[39msuper\u001b[39;49m()\u001b[39m.\u001b[39;49m_real_close()\n",
      "File \u001b[1;32mc:\\Users\\brian\\AppData\\Local\\Programs\\Python\\Python310\\lib\\socket.py:496\u001b[0m, in \u001b[0;36msocket._real_close\u001b[1;34m(self, _ss)\u001b[0m\n\u001b[0;32m    494\u001b[0m \u001b[39mdef\u001b[39;00m \u001b[39m_real_close\u001b[39m(\u001b[39mself\u001b[39m, _ss\u001b[39m=\u001b[39m_socket\u001b[39m.\u001b[39msocket):\n\u001b[0;32m    495\u001b[0m     \u001b[39m# This function should not reference any globals. See issue #808164.\u001b[39;00m\n\u001b[1;32m--> 496\u001b[0m     _ss\u001b[39m.\u001b[39;49mclose(\u001b[39mself\u001b[39;49m)\n",
      "\u001b[1;31mKeyboardInterrupt\u001b[0m: "
     ]
    }
   ],
   "source": [
    "counter = 0\n",
    "for index, row in df[df[\"inferredCity\"] == \"unknown\"].iterrows():\n",
    "    if row[\"inferredCity\"] == \"unknown\":\n",
    "        print(row)\n",
    "        try:\n",
    "            place = re.sub(\"BLOCK\", \"\", row[\"blocksizedAddress\"].upper()) + \", SANTA CLARA COUNTY, CA\"\n",
    "        except:\n",
    "            print(\"Failed to scan: {}\".format(row[\"blocksizedAddress\"]))\n",
    "            continue\n",
    "        location = geocode(geolocator, place, 1)   \n",
    "            \n",
    "        counter = counter + 1\n",
    "        if location != None:\n",
    "            if type(location) == str:\n",
    "                display_name = [s.strip() for s in location.raw[\"display_name\"].split(\",\")]                         \n",
    "                try:\n",
    "                    county_idx = display_name.index(\"Santa Clara County\")\n",
    "                except ValueError:\n",
    "                    print(\"SCC not found: {}\".format(display_name))\n",
    "                    df.at[index, \"inferredCity\"] = \"not_found\"\n",
    "                    continue\n",
    "                df.at[index, \"inferredCity\"] = display_name[county_idx-1]   \n",
    "                df.at[index, \"postalCode\"] = display_name[-2]                            \n",
    "                print(\"\\n{} {}: {}, {}\".format(counter, location.raw[\"display_name\"], df.at[index,\"inferredCity\"], df.at[index, \"postalCode\"]))\n",
    "            else:\n",
    "                df.at[index, \"inferredCity\"] = \"no resolution\"\n",
    "                print(\"NR: {} \".format(counter), end=\"\")\n",
    "        elif type(location) == geopy.location.Location:\n",
    "            df.at[index, \"inferredCity\"] = location.raw[\"properties\"][\"city\"]\n",
    "            df.at[index, \"postalCode\"] = location.raw[\"properties\"][\"postcode\"]\n",
    "            print(\"\\n{}: {}, {}\".format(counter, df.at[index,\"inferredCity\"], df.at[index, \"postalCode\"]))\n",
    "        if counter/1000 == round(counter/1000):\n",
    "            print(\"Saving...\")\n",
    "            df.to_pickle(\"SCCSheriff.pkl\")\n",
    "    else:\n",
    "        print(\".\", end=\"\")\n"
   ]
  },
  {
   "cell_type": "code",
   "execution_count": null,
   "id": "99397818",
   "metadata": {},
   "outputs": [],
   "source": [
    "df.to_pickle(\"SCCSheriff.pkl\")"
   ]
  },
  {
   "cell_type": "code",
   "execution_count": null,
   "id": "23946922",
   "metadata": {},
   "outputs": [],
   "source": [
    "df[\"inferredCity\"].value_counts()"
   ]
  },
  {
   "cell_type": "code",
   "execution_count": null,
   "id": "03d357de",
   "metadata": {},
   "outputs": [],
   "source": [
    "df[df[\"inferredCity\" == \"unknown\"]]"
   ]
  },
  {
   "cell_type": "markdown",
   "id": "a31fa4ff",
   "metadata": {},
   "source": [
    "        try: \n",
    "            location = geolocator.geocode(place)\n",
    "        except GeocoderTimedOut as e:\n",
    "            print(\"Location error: {}\".format(e))\n",
    "            naptime = 3+randint(100)\n",
    "            print(\"Sleeping {} seconds.\".format(naptime))\n",
    "            time.sleep(naptime)\n",
    "            user_agent = 'user_me_{}'.format(randint(10000,99999))\n",
    "            geolocator = Nominatim(user_agent=user_agent)\n",
    "            location = geolocator.geocode(place)\n"
   ]
  }
 ],
 "metadata": {
  "kernelspec": {
   "display_name": "Python 3 (ipykernel)",
   "language": "python",
   "name": "python3"
  },
  "language_info": {
   "codemirror_mode": {
    "name": "ipython",
    "version": 3
   },
   "file_extension": ".py",
   "mimetype": "text/x-python",
   "name": "python",
   "nbconvert_exporter": "python",
   "pygments_lexer": "ipython3",
   "version": "3.10.0"
  }
 },
 "nbformat": 4,
 "nbformat_minor": 5
}
