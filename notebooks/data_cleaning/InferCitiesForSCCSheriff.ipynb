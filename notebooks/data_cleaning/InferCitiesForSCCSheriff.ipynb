{
 "cells": [
  {
   "cell_type": "code",
   "execution_count": 1,
   "id": "ad071751",
   "metadata": {},
   "outputs": [],
   "source": [
    "import pandas as pd\n",
    "import seaborn as sns\n",
    "import matplotlib.pyplot as plt\n",
    "from datetime import datetime\n",
    "import time as time\n",
    "import re\n",
    "from random import randint\n",
    "from geopy.exc import GeocoderTimedOut, GeocoderServiceError\n",
    "import logging"
   ]
  },
  {
   "cell_type": "code",
   "execution_count": 2,
   "id": "d96c005c",
   "metadata": {},
   "outputs": [],
   "source": [
    "import sys\n",
    "sys.path.append(\"../code\")\n",
    "import loaders.cityprotect as cp"
   ]
  },
  {
   "cell_type": "markdown",
   "id": "9eacbd6c",
   "metadata": {},
   "source": [
    "Concatenate and pandaize data downloaded from CityProtect.\n",
    "Given a folder, find all the files ending with \"Los_Altos_Police_Department_report.csv\", concatenate, and sort by date."
   ]
  },
  {
   "cell_type": "code",
   "execution_count": 3,
   "id": "9468cb1d",
   "metadata": {},
   "outputs": [],
   "source": [
    "def geocode(geolocator, addr, sleep_sec):\n",
    "    try:\n",
    "        return geolocator.geocode(addr)\n",
    "    except GeocoderTimedOut:\n",
    "        logging.info('TIMED OUT: GeocoderTimedOut: Retrying...')\n",
    "        time.sleep(randint(1*100,sleep_sec*100)/100)\n",
    "        return geolocator.reverse_geocode(geolocator, latlon, sleep_sec)\n",
    "    except GeocoderServiceError as e:\n",
    "        logging.info('CONNECTION REFUSED: GeocoderServiceError encountered.')\n",
    "        logging.error(e)\n",
    "        return None\n",
    "    except Exception as e:\n",
    "        logging.info('ERROR: Terminating due to exception {}'.format(e))\n",
    "        return None"
   ]
  },
  {
   "cell_type": "code",
   "execution_count": 4,
   "id": "96224854",
   "metadata": {},
   "outputs": [],
   "source": [
    "# import module\n",
    "from geopy.geocoders import Nominatim\n",
    "  \n",
    "# initialize Nominatim API \n",
    "user_agent = 'user_me_{}'.format(randint(10000,99999))\n",
    "geolocator = Nominatim(user_agent=user_agent)\n",
    " "
   ]
  },
  {
   "cell_type": "code",
   "execution_count": 5,
   "id": "67c8c86b",
   "metadata": {},
   "outputs": [
    {
     "ename": "GeocoderServiceError",
     "evalue": "[SSL: CERTIFICATE_VERIFY_FAILED] certificate verify failed: certificate has expired (_ssl.c:997)",
     "output_type": "error",
     "traceback": [
      "\u001b[1;31m---------------------------------------------------------------------------\u001b[0m",
      "\u001b[1;31mSSLCertVerificationError\u001b[0m                  Traceback (most recent call last)",
      "File \u001b[1;32mc:\\Users\\brian\\AppData\\Local\\Programs\\Python\\Python310\\lib\\urllib\\request.py:1348\u001b[0m, in \u001b[0;36mAbstractHTTPHandler.do_open\u001b[1;34m(self, http_class, req, **http_conn_args)\u001b[0m\n\u001b[0;32m   1347\u001b[0m \u001b[39mtry\u001b[39;00m:\n\u001b[1;32m-> 1348\u001b[0m     h\u001b[39m.\u001b[39;49mrequest(req\u001b[39m.\u001b[39;49mget_method(), req\u001b[39m.\u001b[39;49mselector, req\u001b[39m.\u001b[39;49mdata, headers,\n\u001b[0;32m   1349\u001b[0m               encode_chunked\u001b[39m=\u001b[39;49mreq\u001b[39m.\u001b[39;49mhas_header(\u001b[39m'\u001b[39;49m\u001b[39mTransfer-encoding\u001b[39;49m\u001b[39m'\u001b[39;49m))\n\u001b[0;32m   1350\u001b[0m \u001b[39mexcept\u001b[39;00m \u001b[39mOSError\u001b[39;00m \u001b[39mas\u001b[39;00m err: \u001b[39m# timeout error\u001b[39;00m\n",
      "File \u001b[1;32mc:\\Users\\brian\\AppData\\Local\\Programs\\Python\\Python310\\lib\\http\\client.py:1276\u001b[0m, in \u001b[0;36mHTTPConnection.request\u001b[1;34m(self, method, url, body, headers, encode_chunked)\u001b[0m\n\u001b[0;32m   1275\u001b[0m \u001b[39m\u001b[39m\u001b[39m\"\"\"Send a complete request to the server.\"\"\"\u001b[39;00m\n\u001b[1;32m-> 1276\u001b[0m \u001b[39mself\u001b[39;49m\u001b[39m.\u001b[39;49m_send_request(method, url, body, headers, encode_chunked)\n",
      "File \u001b[1;32mc:\\Users\\brian\\AppData\\Local\\Programs\\Python\\Python310\\lib\\http\\client.py:1322\u001b[0m, in \u001b[0;36mHTTPConnection._send_request\u001b[1;34m(self, method, url, body, headers, encode_chunked)\u001b[0m\n\u001b[0;32m   1321\u001b[0m     body \u001b[39m=\u001b[39m _encode(body, \u001b[39m'\u001b[39m\u001b[39mbody\u001b[39m\u001b[39m'\u001b[39m)\n\u001b[1;32m-> 1322\u001b[0m \u001b[39mself\u001b[39;49m\u001b[39m.\u001b[39;49mendheaders(body, encode_chunked\u001b[39m=\u001b[39;49mencode_chunked)\n",
      "File \u001b[1;32mc:\\Users\\brian\\AppData\\Local\\Programs\\Python\\Python310\\lib\\http\\client.py:1271\u001b[0m, in \u001b[0;36mHTTPConnection.endheaders\u001b[1;34m(self, message_body, encode_chunked)\u001b[0m\n\u001b[0;32m   1270\u001b[0m     \u001b[39mraise\u001b[39;00m CannotSendHeader()\n\u001b[1;32m-> 1271\u001b[0m \u001b[39mself\u001b[39;49m\u001b[39m.\u001b[39;49m_send_output(message_body, encode_chunked\u001b[39m=\u001b[39;49mencode_chunked)\n",
      "File \u001b[1;32mc:\\Users\\brian\\AppData\\Local\\Programs\\Python\\Python310\\lib\\http\\client.py:1031\u001b[0m, in \u001b[0;36mHTTPConnection._send_output\u001b[1;34m(self, message_body, encode_chunked)\u001b[0m\n\u001b[0;32m   1030\u001b[0m \u001b[39mdel\u001b[39;00m \u001b[39mself\u001b[39m\u001b[39m.\u001b[39m_buffer[:]\n\u001b[1;32m-> 1031\u001b[0m \u001b[39mself\u001b[39;49m\u001b[39m.\u001b[39;49msend(msg)\n\u001b[0;32m   1033\u001b[0m \u001b[39mif\u001b[39;00m message_body \u001b[39mis\u001b[39;00m \u001b[39mnot\u001b[39;00m \u001b[39mNone\u001b[39;00m:\n\u001b[0;32m   1034\u001b[0m \n\u001b[0;32m   1035\u001b[0m     \u001b[39m# create a consistent interface to message_body\u001b[39;00m\n",
      "File \u001b[1;32mc:\\Users\\brian\\AppData\\Local\\Programs\\Python\\Python310\\lib\\http\\client.py:969\u001b[0m, in \u001b[0;36mHTTPConnection.send\u001b[1;34m(self, data)\u001b[0m\n\u001b[0;32m    968\u001b[0m \u001b[39mif\u001b[39;00m \u001b[39mself\u001b[39m\u001b[39m.\u001b[39mauto_open:\n\u001b[1;32m--> 969\u001b[0m     \u001b[39mself\u001b[39;49m\u001b[39m.\u001b[39;49mconnect()\n\u001b[0;32m    970\u001b[0m \u001b[39melse\u001b[39;00m:\n",
      "File \u001b[1;32mc:\\Users\\brian\\AppData\\Local\\Programs\\Python\\Python310\\lib\\http\\client.py:1448\u001b[0m, in \u001b[0;36mHTTPSConnection.connect\u001b[1;34m(self)\u001b[0m\n\u001b[0;32m   1446\u001b[0m     server_hostname \u001b[39m=\u001b[39m \u001b[39mself\u001b[39m\u001b[39m.\u001b[39mhost\n\u001b[1;32m-> 1448\u001b[0m \u001b[39mself\u001b[39m\u001b[39m.\u001b[39msock \u001b[39m=\u001b[39m \u001b[39mself\u001b[39;49m\u001b[39m.\u001b[39;49m_context\u001b[39m.\u001b[39;49mwrap_socket(\u001b[39mself\u001b[39;49m\u001b[39m.\u001b[39;49msock,\n\u001b[0;32m   1449\u001b[0m                                       server_hostname\u001b[39m=\u001b[39;49mserver_hostname)\n",
      "File \u001b[1;32mc:\\Users\\brian\\AppData\\Local\\Programs\\Python\\Python310\\lib\\ssl.py:512\u001b[0m, in \u001b[0;36mSSLContext.wrap_socket\u001b[1;34m(self, sock, server_side, do_handshake_on_connect, suppress_ragged_eofs, server_hostname, session)\u001b[0m\n\u001b[0;32m    506\u001b[0m \u001b[39mdef\u001b[39;00m \u001b[39mwrap_socket\u001b[39m(\u001b[39mself\u001b[39m, sock, server_side\u001b[39m=\u001b[39m\u001b[39mFalse\u001b[39;00m,\n\u001b[0;32m    507\u001b[0m                 do_handshake_on_connect\u001b[39m=\u001b[39m\u001b[39mTrue\u001b[39;00m,\n\u001b[0;32m    508\u001b[0m                 suppress_ragged_eofs\u001b[39m=\u001b[39m\u001b[39mTrue\u001b[39;00m,\n\u001b[0;32m    509\u001b[0m                 server_hostname\u001b[39m=\u001b[39m\u001b[39mNone\u001b[39;00m, session\u001b[39m=\u001b[39m\u001b[39mNone\u001b[39;00m):\n\u001b[0;32m    510\u001b[0m     \u001b[39m# SSLSocket class handles server_hostname encoding before it calls\u001b[39;00m\n\u001b[0;32m    511\u001b[0m     \u001b[39m# ctx._wrap_socket()\u001b[39;00m\n\u001b[1;32m--> 512\u001b[0m     \u001b[39mreturn\u001b[39;00m \u001b[39mself\u001b[39;49m\u001b[39m.\u001b[39;49msslsocket_class\u001b[39m.\u001b[39;49m_create(\n\u001b[0;32m    513\u001b[0m         sock\u001b[39m=\u001b[39;49msock,\n\u001b[0;32m    514\u001b[0m         server_side\u001b[39m=\u001b[39;49mserver_side,\n\u001b[0;32m    515\u001b[0m         do_handshake_on_connect\u001b[39m=\u001b[39;49mdo_handshake_on_connect,\n\u001b[0;32m    516\u001b[0m         suppress_ragged_eofs\u001b[39m=\u001b[39;49msuppress_ragged_eofs,\n\u001b[0;32m    517\u001b[0m         server_hostname\u001b[39m=\u001b[39;49mserver_hostname,\n\u001b[0;32m    518\u001b[0m         context\u001b[39m=\u001b[39;49m\u001b[39mself\u001b[39;49m,\n\u001b[0;32m    519\u001b[0m         session\u001b[39m=\u001b[39;49msession\n\u001b[0;32m    520\u001b[0m     )\n",
      "File \u001b[1;32mc:\\Users\\brian\\AppData\\Local\\Programs\\Python\\Python310\\lib\\ssl.py:1070\u001b[0m, in \u001b[0;36mSSLSocket._create\u001b[1;34m(cls, sock, server_side, do_handshake_on_connect, suppress_ragged_eofs, server_hostname, context, session)\u001b[0m\n\u001b[0;32m   1069\u001b[0m             \u001b[39mraise\u001b[39;00m \u001b[39mValueError\u001b[39;00m(\u001b[39m\"\u001b[39m\u001b[39mdo_handshake_on_connect should not be specified for non-blocking sockets\u001b[39m\u001b[39m\"\u001b[39m)\n\u001b[1;32m-> 1070\u001b[0m         \u001b[39mself\u001b[39;49m\u001b[39m.\u001b[39;49mdo_handshake()\n\u001b[0;32m   1071\u001b[0m \u001b[39mexcept\u001b[39;00m (\u001b[39mOSError\u001b[39;00m, \u001b[39mValueError\u001b[39;00m):\n",
      "File \u001b[1;32mc:\\Users\\brian\\AppData\\Local\\Programs\\Python\\Python310\\lib\\ssl.py:1341\u001b[0m, in \u001b[0;36mSSLSocket.do_handshake\u001b[1;34m(self, block)\u001b[0m\n\u001b[0;32m   1340\u001b[0m         \u001b[39mself\u001b[39m\u001b[39m.\u001b[39msettimeout(\u001b[39mNone\u001b[39;00m)\n\u001b[1;32m-> 1341\u001b[0m     \u001b[39mself\u001b[39;49m\u001b[39m.\u001b[39;49m_sslobj\u001b[39m.\u001b[39;49mdo_handshake()\n\u001b[0;32m   1342\u001b[0m \u001b[39mfinally\u001b[39;00m:\n",
      "\u001b[1;31mSSLCertVerificationError\u001b[0m: [SSL: CERTIFICATE_VERIFY_FAILED] certificate verify failed: certificate has expired (_ssl.c:997)",
      "\nDuring handling of the above exception, another exception occurred:\n",
      "\u001b[1;31mURLError\u001b[0m                                  Traceback (most recent call last)",
      "File \u001b[1;32mc:\\Users\\brian\\AppData\\Local\\Programs\\Python\\Python310\\lib\\site-packages\\geopy\\adapters.py:298\u001b[0m, in \u001b[0;36mURLLibAdapter.get_text\u001b[1;34m(self, url, timeout, headers)\u001b[0m\n\u001b[0;32m    297\u001b[0m \u001b[39mtry\u001b[39;00m:\n\u001b[1;32m--> 298\u001b[0m     page \u001b[39m=\u001b[39m \u001b[39mself\u001b[39;49m\u001b[39m.\u001b[39;49murlopen(req, timeout\u001b[39m=\u001b[39;49mtimeout)\n\u001b[0;32m    299\u001b[0m \u001b[39mexcept\u001b[39;00m \u001b[39mException\u001b[39;00m \u001b[39mas\u001b[39;00m error:\n",
      "File \u001b[1;32mc:\\Users\\brian\\AppData\\Local\\Programs\\Python\\Python310\\lib\\urllib\\request.py:519\u001b[0m, in \u001b[0;36mOpenerDirector.open\u001b[1;34m(self, fullurl, data, timeout)\u001b[0m\n\u001b[0;32m    518\u001b[0m sys\u001b[39m.\u001b[39maudit(\u001b[39m'\u001b[39m\u001b[39murllib.Request\u001b[39m\u001b[39m'\u001b[39m, req\u001b[39m.\u001b[39mfull_url, req\u001b[39m.\u001b[39mdata, req\u001b[39m.\u001b[39mheaders, req\u001b[39m.\u001b[39mget_method())\n\u001b[1;32m--> 519\u001b[0m response \u001b[39m=\u001b[39m \u001b[39mself\u001b[39;49m\u001b[39m.\u001b[39;49m_open(req, data)\n\u001b[0;32m    521\u001b[0m \u001b[39m# post-process response\u001b[39;00m\n",
      "File \u001b[1;32mc:\\Users\\brian\\AppData\\Local\\Programs\\Python\\Python310\\lib\\urllib\\request.py:536\u001b[0m, in \u001b[0;36mOpenerDirector._open\u001b[1;34m(self, req, data)\u001b[0m\n\u001b[0;32m    535\u001b[0m protocol \u001b[39m=\u001b[39m req\u001b[39m.\u001b[39mtype\n\u001b[1;32m--> 536\u001b[0m result \u001b[39m=\u001b[39m \u001b[39mself\u001b[39;49m\u001b[39m.\u001b[39;49m_call_chain(\u001b[39mself\u001b[39;49m\u001b[39m.\u001b[39;49mhandle_open, protocol, protocol \u001b[39m+\u001b[39;49m\n\u001b[0;32m    537\u001b[0m                           \u001b[39m'\u001b[39;49m\u001b[39m_open\u001b[39;49m\u001b[39m'\u001b[39;49m, req)\n\u001b[0;32m    538\u001b[0m \u001b[39mif\u001b[39;00m result:\n",
      "File \u001b[1;32mc:\\Users\\brian\\AppData\\Local\\Programs\\Python\\Python310\\lib\\urllib\\request.py:496\u001b[0m, in \u001b[0;36mOpenerDirector._call_chain\u001b[1;34m(self, chain, kind, meth_name, *args)\u001b[0m\n\u001b[0;32m    495\u001b[0m func \u001b[39m=\u001b[39m \u001b[39mgetattr\u001b[39m(handler, meth_name)\n\u001b[1;32m--> 496\u001b[0m result \u001b[39m=\u001b[39m func(\u001b[39m*\u001b[39;49margs)\n\u001b[0;32m    497\u001b[0m \u001b[39mif\u001b[39;00m result \u001b[39mis\u001b[39;00m \u001b[39mnot\u001b[39;00m \u001b[39mNone\u001b[39;00m:\n",
      "File \u001b[1;32mc:\\Users\\brian\\AppData\\Local\\Programs\\Python\\Python310\\lib\\urllib\\request.py:1391\u001b[0m, in \u001b[0;36mHTTPSHandler.https_open\u001b[1;34m(self, req)\u001b[0m\n\u001b[0;32m   1390\u001b[0m \u001b[39mdef\u001b[39;00m \u001b[39mhttps_open\u001b[39m(\u001b[39mself\u001b[39m, req):\n\u001b[1;32m-> 1391\u001b[0m     \u001b[39mreturn\u001b[39;00m \u001b[39mself\u001b[39;49m\u001b[39m.\u001b[39;49mdo_open(http\u001b[39m.\u001b[39;49mclient\u001b[39m.\u001b[39;49mHTTPSConnection, req,\n\u001b[0;32m   1392\u001b[0m         context\u001b[39m=\u001b[39;49m\u001b[39mself\u001b[39;49m\u001b[39m.\u001b[39;49m_context, check_hostname\u001b[39m=\u001b[39;49m\u001b[39mself\u001b[39;49m\u001b[39m.\u001b[39;49m_check_hostname)\n",
      "File \u001b[1;32mc:\\Users\\brian\\AppData\\Local\\Programs\\Python\\Python310\\lib\\urllib\\request.py:1351\u001b[0m, in \u001b[0;36mAbstractHTTPHandler.do_open\u001b[1;34m(self, http_class, req, **http_conn_args)\u001b[0m\n\u001b[0;32m   1350\u001b[0m \u001b[39mexcept\u001b[39;00m \u001b[39mOSError\u001b[39;00m \u001b[39mas\u001b[39;00m err: \u001b[39m# timeout error\u001b[39;00m\n\u001b[1;32m-> 1351\u001b[0m     \u001b[39mraise\u001b[39;00m URLError(err)\n\u001b[0;32m   1352\u001b[0m r \u001b[39m=\u001b[39m h\u001b[39m.\u001b[39mgetresponse()\n",
      "\u001b[1;31mURLError\u001b[0m: <urlopen error [SSL: CERTIFICATE_VERIFY_FAILED] certificate verify failed: certificate has expired (_ssl.c:997)>",
      "\nDuring handling of the above exception, another exception occurred:\n",
      "\u001b[1;31mGeocoderServiceError\u001b[0m                      Traceback (most recent call last)",
      "Cell \u001b[1;32mIn[5], line 1\u001b[0m\n\u001b[1;32m----> 1\u001b[0m geolocator\u001b[39m.\u001b[39;49mgeocode(\u001b[39m\"\u001b[39;49m\u001b[39m1728 Selig Ln, Los Altos, CA\u001b[39;49m\u001b[39m\"\u001b[39;49m)\n",
      "File \u001b[1;32mc:\\Users\\brian\\AppData\\Local\\Programs\\Python\\Python310\\lib\\site-packages\\geopy\\geocoders\\nominatim.py:297\u001b[0m, in \u001b[0;36mNominatim.geocode\u001b[1;34m(self, query, exactly_one, timeout, limit, addressdetails, language, geometry, extratags, country_codes, viewbox, bounded, featuretype, namedetails)\u001b[0m\n\u001b[0;32m    295\u001b[0m logger\u001b[39m.\u001b[39mdebug(\u001b[39m\"\u001b[39m\u001b[39m%s\u001b[39;00m\u001b[39m.geocode: \u001b[39m\u001b[39m%s\u001b[39;00m\u001b[39m\"\u001b[39m, \u001b[39mself\u001b[39m\u001b[39m.\u001b[39m\u001b[39m__class__\u001b[39m\u001b[39m.\u001b[39m\u001b[39m__name__\u001b[39m, url)\n\u001b[0;32m    296\u001b[0m callback \u001b[39m=\u001b[39m partial(\u001b[39mself\u001b[39m\u001b[39m.\u001b[39m_parse_json, exactly_one\u001b[39m=\u001b[39mexactly_one)\n\u001b[1;32m--> 297\u001b[0m \u001b[39mreturn\u001b[39;00m \u001b[39mself\u001b[39;49m\u001b[39m.\u001b[39;49m_call_geocoder(url, callback, timeout\u001b[39m=\u001b[39;49mtimeout)\n",
      "File \u001b[1;32mc:\\Users\\brian\\AppData\\Local\\Programs\\Python\\Python310\\lib\\site-packages\\geopy\\geocoders\\base.py:368\u001b[0m, in \u001b[0;36mGeocoder._call_geocoder\u001b[1;34m(self, url, callback, timeout, is_json, headers)\u001b[0m\n\u001b[0;32m    366\u001b[0m \u001b[39mtry\u001b[39;00m:\n\u001b[0;32m    367\u001b[0m     \u001b[39mif\u001b[39;00m is_json:\n\u001b[1;32m--> 368\u001b[0m         result \u001b[39m=\u001b[39m \u001b[39mself\u001b[39;49m\u001b[39m.\u001b[39;49madapter\u001b[39m.\u001b[39;49mget_json(url, timeout\u001b[39m=\u001b[39;49mtimeout, headers\u001b[39m=\u001b[39;49mreq_headers)\n\u001b[0;32m    369\u001b[0m     \u001b[39melse\u001b[39;00m:\n\u001b[0;32m    370\u001b[0m         result \u001b[39m=\u001b[39m \u001b[39mself\u001b[39m\u001b[39m.\u001b[39madapter\u001b[39m.\u001b[39mget_text(url, timeout\u001b[39m=\u001b[39mtimeout, headers\u001b[39m=\u001b[39mreq_headers)\n",
      "File \u001b[1;32mc:\\Users\\brian\\AppData\\Local\\Programs\\Python\\Python310\\lib\\site-packages\\geopy\\adapters.py:287\u001b[0m, in \u001b[0;36mURLLibAdapter.get_json\u001b[1;34m(self, url, timeout, headers)\u001b[0m\n\u001b[0;32m    286\u001b[0m \u001b[39mdef\u001b[39;00m \u001b[39mget_json\u001b[39m(\u001b[39mself\u001b[39m, url, \u001b[39m*\u001b[39m, timeout, headers):\n\u001b[1;32m--> 287\u001b[0m     text \u001b[39m=\u001b[39m \u001b[39mself\u001b[39;49m\u001b[39m.\u001b[39;49mget_text(url, timeout\u001b[39m=\u001b[39;49mtimeout, headers\u001b[39m=\u001b[39;49mheaders)\n\u001b[0;32m    288\u001b[0m     \u001b[39mtry\u001b[39;00m:\n\u001b[0;32m    289\u001b[0m         \u001b[39mreturn\u001b[39;00m json\u001b[39m.\u001b[39mloads(text)\n",
      "File \u001b[1;32mc:\\Users\\brian\\AppData\\Local\\Programs\\Python\\Python310\\lib\\site-packages\\geopy\\adapters.py:324\u001b[0m, in \u001b[0;36mURLLibAdapter.get_text\u001b[1;34m(self, url, timeout, headers)\u001b[0m\n\u001b[0;32m    322\u001b[0m         \u001b[39mif\u001b[39;00m \u001b[39m\"\u001b[39m\u001b[39mtimed out\u001b[39m\u001b[39m\"\u001b[39m \u001b[39min\u001b[39;00m message:\n\u001b[0;32m    323\u001b[0m             \u001b[39mraise\u001b[39;00m GeocoderTimedOut(\u001b[39m\"\u001b[39m\u001b[39mService timed out\u001b[39m\u001b[39m\"\u001b[39m)\n\u001b[1;32m--> 324\u001b[0m     \u001b[39mraise\u001b[39;00m GeocoderServiceError(message)\n\u001b[0;32m    325\u001b[0m \u001b[39melse\u001b[39;00m:\n\u001b[0;32m    326\u001b[0m     text \u001b[39m=\u001b[39m \u001b[39mself\u001b[39m\u001b[39m.\u001b[39m_decode_page(page)\n",
      "\u001b[1;31mGeocoderServiceError\u001b[0m: [SSL: CERTIFICATE_VERIFY_FAILED] certificate verify failed: certificate has expired (_ssl.c:997)"
     ]
    }
   ],
   "source": [
    "geolocator.geocode(\"1728 Selig Ln, Los Altos, CA\")"
   ]
  },
  {
   "cell_type": "code",
   "execution_count": 5,
   "id": "ba3dfcf8",
   "metadata": {},
   "outputs": [],
   "source": [
    "previous_df = pd.read_pickle(\"../data/clean_data/SCCSheriff_2017_2022_inferredCity.pkl\")"
   ]
  },
  {
   "cell_type": "code",
   "execution_count": 6,
   "id": "45ffd1cc",
   "metadata": {},
   "outputs": [
    {
     "name": "stdout",
     "output_type": "stream",
     "text": [
      "Loading from 26 files.\n",
      "Data file ../data/raw_data/Santa_Clara_County_Office_of_the_Sheriff\\Apr_Jun_2017_Santa_Clara_County_Office_of_the_Sheriff_report.csv is empty.\n",
      "Data file ../data/raw_data/Santa_Clara_County_Office_of_the_Sheriff\\Jan_Mar_2017_Santa_Clara_County_Office_of_the_Sheriff_report.csv is empty.\n"
     ]
    }
   ],
   "source": [
    "dept = \"Santa Clara County Office of the Sheriff\"\n",
    "df = cp.cityprotect(\"../data/raw_data/{}\".format(dept.replace(\" \", \"_\")),\n",
    "                                 start_date = previous_df[\"date\"].max(),\n",
    "                                  end_date = datetime.now() )"
   ]
  },
  {
   "cell_type": "code",
   "execution_count": 7,
   "id": "81c36100",
   "metadata": {},
   "outputs": [
    {
     "data": {
      "text/plain": [
       "324514   2022-12-31 23:58:48\n",
       "324515   2023-01-01 00:15:09\n",
       "324516   2023-01-01 00:36:17\n",
       "324517   2023-01-01 00:43:22\n",
       "324518   2023-01-01 00:45:05\n",
       "                 ...        \n",
       "73254    2023-07-01 06:02:52\n",
       "73255    2023-07-01 06:07:10\n",
       "73256    2023-07-01 06:17:40\n",
       "73244    2023-07-01 06:42:53\n",
       "73257    2023-07-01 06:48:01\n",
       "Name: date, Length: 22118, dtype: datetime64[ns]"
      ]
     },
     "execution_count": 7,
     "metadata": {},
     "output_type": "execute_result"
    }
   ],
   "source": [
    "df[\"date\"]"
   ]
  },
  {
   "cell_type": "code",
   "execution_count": 8,
   "id": "40909974",
   "metadata": {},
   "outputs": [],
   "source": [
    "df[\"inferredCity\"]=\"unknown\""
   ]
  },
  {
   "cell_type": "code",
   "execution_count": 9,
   "id": "e4fb081a",
   "metadata": {
    "scrolled": true
   },
   "outputs": [
    {
     "name": "stderr",
     "output_type": "stream",
     "text": [
      "ERROR:root:[SSL: CERTIFICATE_VERIFY_FAILED] certificate verify failed: certificate has expired (_ssl.c:997)\n"
     ]
    },
    {
     "name": "stdout",
     "output_type": "stream",
     "text": [
      "ccn                                                          S223650282\n",
      "date                                                2022-12-31 23:58:48\n",
      "updateDate                                          2023-01-01 09:05:07\n",
      "city                                                 SANTA CLARA COUNTY\n",
      "state                                                                CA\n",
      "postalCode                                                            .\n",
      "blocksizedAddress                               14000 Block LOMA RIO DR\n",
      "incidentType                                       PHONE UR OFFICE, OR:\n",
      "parentIncidentType                                                Other\n",
      "narrative             Call Type: 1021   <br>Description: PHONE UR OF...\n",
      "inferredCity                                                    unknown\n",
      "Name: 324514, dtype: object\n",
      "NR: 1 ccn                                                          L223650085\n",
      "date                                                2023-01-01 00:15:09\n",
      "updateDate                                          2023-01-01 09:05:06\n",
      "city                                                 SANTA CLARA COUNTY\n",
      "state                                                                CA\n",
      "postalCode                                                            .\n",
      "blocksizedAddress                                    ALUM ROCK FALLS RD\n",
      "incidentType                                     SERVICE OR AID REQUEST\n",
      "parentIncidentType                                                Other\n",
      "narrative             Call Type: SVC    <br>Description: SERVICE OR ...\n",
      "inferredCity                                                    unknown\n",
      "Name: 324515, dtype: object\n"
     ]
    },
    {
     "name": "stderr",
     "output_type": "stream",
     "text": [
      "ERROR:root:[SSL: CERTIFICATE_VERIFY_FAILED] certificate verify failed: certificate has expired (_ssl.c:997)\n",
      "ERROR:root:[SSL: CERTIFICATE_VERIFY_FAILED] certificate verify failed: certificate has expired (_ssl.c:997)\n"
     ]
    },
    {
     "name": "stdout",
     "output_type": "stream",
     "text": [
      "NR: 2 ccn                                                          L223650088\n",
      "date                                                2023-01-01 00:36:17\n",
      "updateDate                                          2023-01-01 09:05:08\n",
      "city                                                 SANTA CLARA COUNTY\n",
      "state                                                                CA\n",
      "postalCode                                                            .\n",
      "blocksizedAddress                                             BONINO LN\n",
      "incidentType                                     SERVICE OR AID REQUEST\n",
      "parentIncidentType                                                Other\n",
      "narrative             Call Type: SVC    <br>Description: SERVICE OR ...\n",
      "inferredCity                                                    unknown\n",
      "Name: 324516, dtype: object\n",
      "NR: 3 ccn                                                          L223650094\n",
      "date                                                2023-01-01 00:43:22\n",
      "updateDate                                          2023-01-01 09:05:06\n",
      "city                                                 SANTA CLARA COUNTY\n",
      "state                                                                CA\n",
      "postalCode                                                            .\n",
      "blocksizedAddress                                                 HWY 9\n",
      "incidentType                                     SERVICE OR AID REQUEST\n",
      "parentIncidentType                                                Other\n",
      "narrative             Call Type: SVC    <br>Description: SERVICE OR ...\n",
      "inferredCity                                                    unknown\n",
      "Name: 324517, dtype: object\n"
     ]
    },
    {
     "name": "stderr",
     "output_type": "stream",
     "text": [
      "ERROR:root:[SSL: CERTIFICATE_VERIFY_FAILED] certificate verify failed: certificate has expired (_ssl.c:997)\n",
      "ERROR:root:[SSL: CERTIFICATE_VERIFY_FAILED] certificate verify failed: certificate has expired (_ssl.c:997)\n"
     ]
    },
    {
     "name": "stdout",
     "output_type": "stream",
     "text": [
      "NR: 4 ccn                                                          L223650095\n",
      "date                                                2023-01-01 00:45:05\n",
      "updateDate                                          2023-01-01 09:05:07\n",
      "city                                                 SANTA CLARA COUNTY\n",
      "state                                                                CA\n",
      "postalCode                                                            .\n",
      "blocksizedAddress                             14300 Block LIDDICOAT CIR\n",
      "incidentType                                     SERVICE OR AID REQUEST\n",
      "parentIncidentType                                                Other\n",
      "narrative             Call Type: SVC    <br>Description: SERVICE OR ...\n",
      "inferredCity                                                    unknown\n",
      "Name: 324518, dtype: object\n",
      "NR: 5 ccn                                                          S223650309\n",
      "date                                                2023-01-01 00:58:48\n",
      "updateDate                                          2023-01-01 09:05:06\n",
      "city                                                 SANTA CLARA COUNTY\n",
      "state                                                                CA\n",
      "postalCode                                                            .\n",
      "blocksizedAddress                                          POLE LINE RD\n",
      "incidentType                                             TRAFFIC HAZARD\n",
      "parentIncidentType                                              Traffic\n",
      "narrative             Call Type: 1125   <br>Description: TRAFFIC HAZ...\n",
      "inferredCity                                                    unknown\n",
      "Name: 324519, dtype: object\n"
     ]
    },
    {
     "name": "stderr",
     "output_type": "stream",
     "text": [
      "ERROR:root:[SSL: CERTIFICATE_VERIFY_FAILED] certificate verify failed: certificate has expired (_ssl.c:997)\n",
      "ERROR:root:[SSL: CERTIFICATE_VERIFY_FAILED] certificate verify failed: certificate has expired (_ssl.c:997)\n",
      "ERROR:root:[SSL: CERTIFICATE_VERIFY_FAILED] certificate verify failed: certificate has expired (_ssl.c:997)\n"
     ]
    },
    {
     "name": "stdout",
     "output_type": "stream",
     "text": [
      "NR: 6 ccn                                                          S230010002\n",
      "date                                                2023-01-01 07:03:42\n",
      "updateDate                                          2023-01-01 17:51:40\n",
      "city                                                 SANTA CLARA COUNTY\n",
      "state                                                                CA\n",
      "postalCode                                                            .\n",
      "blocksizedAddress                                                OAK ST\n",
      "incidentType                                         SUSPICIOUS VEHICLE\n",
      "parentIncidentType                                                Other\n",
      "narrative             Call Type: 1154   <br>Description: SUSPICIOUS ...\n",
      "inferredCity                                                    unknown\n",
      "Name: 174903, dtype: object\n",
      "NR: 7 ccn                                                          S230010003\n",
      "date                                                2023-01-01 07:04:29\n",
      "updateDate                                          2023-01-02 17:39:20\n",
      "city                                                 SANTA CLARA COUNTY\n",
      "state                                                                CA\n",
      "postalCode                                                            .\n",
      "blocksizedAddress                                17200 Block HOLIDAY DR\n",
      "incidentType                          OBSCENE OR HARRASSING PHONE CALLS\n",
      "parentIncidentType                                                Other\n",
      "narrative             Call Type: 653M   <br>Description: OBSCENE OR ...\n",
      "inferredCity                                                    unknown\n",
      "Name: 174795, dtype: object\n"
     ]
    },
    {
     "name": "stderr",
     "output_type": "stream",
     "text": [
      "ERROR:root:[SSL: CERTIFICATE_VERIFY_FAILED] certificate verify failed: certificate has expired (_ssl.c:997)\n",
      "ERROR:root:[SSL: CERTIFICATE_VERIFY_FAILED] certificate verify failed: certificate has expired (_ssl.c:997)\n"
     ]
    },
    {
     "name": "stdout",
     "output_type": "stream",
     "text": [
      "NR: 8 ccn                                                          S230010004\n",
      "date                                                2023-01-01 07:06:11\n",
      "updateDate                                          2023-01-01 17:51:41\n",
      "city                                                 SANTA CLARA COUNTY\n",
      "state                                                                CA\n",
      "postalCode                                                            .\n",
      "blocksizedAddress                                1 Block BLOCK OGIER AV\n",
      "incidentType                            SUSPICIOUS PERSON WITH A WEAPON\n",
      "parentIncidentType                                                Other\n",
      "narrative             Call Type: 1066W  <br>Description: SUSPICIOUS ...\n",
      "inferredCity                                                    unknown\n",
      "Name: 174904, dtype: object\n",
      "NR: 9 ccn                                                          S230010006\n",
      "date                                                2023-01-01 07:07:25\n",
      "updateDate                                          2023-01-01 17:51:41\n",
      "city                                                 SANTA CLARA COUNTY\n",
      "state                                                                CA\n",
      "postalCode                                                            .\n",
      "blocksizedAddress                                              LINDA AV\n",
      "incidentType                                                DISTURBANCE\n",
      "parentIncidentType                                      Quality of Life\n",
      "narrative             Call Type: 415    <br>Description: DISTURBANCE...\n",
      "inferredCity                                                    unknown\n",
      "Name: 174905, dtype: object\n"
     ]
    },
    {
     "name": "stderr",
     "output_type": "stream",
     "text": [
      "ERROR:root:[SSL: CERTIFICATE_VERIFY_FAILED] certificate verify failed: certificate has expired (_ssl.c:997)\n"
     ]
    },
    {
     "name": "stdout",
     "output_type": "stream",
     "text": [
      "NR: 10 ccn                                                          S230010008\n",
      "date                                                2023-01-01 07:11:07\n",
      "updateDate                                          2023-01-01 17:51:40\n",
      "city                                                 SANTA CLARA COUNTY\n",
      "state                                                                CA\n",
      "postalCode                                                            .\n",
      "blocksizedAddress                              10000 Block MONTEREY HWY\n",
      "incidentType                                             ALARM, AUDIBLE\n",
      "parentIncidentType                                                Other\n",
      "narrative             Call Type: 1033A  <br>Description: ALARM, AUDI...\n",
      "inferredCity                                                    unknown\n",
      "Name: 174906, dtype: object\n",
      "NR: 11 ccn                                                          S230010011\n",
      "date                                                2023-01-01 07:13:19\n",
      "updateDate                                          2023-01-01 17:51:40\n",
      "city                                                 SANTA CLARA COUNTY\n",
      "state                                                                CA\n",
      "postalCode                                                            .\n",
      "blocksizedAddress                            20800 Block GARDEN GATE DR\n",
      "incidentType                                             ALARM, AUDIBLE\n",
      "parentIncidentType                                                Other\n",
      "narrative             Call Type: 1033A  <br>Description: ALARM, AUDI...\n",
      "inferredCity                                                    unknown\n",
      "Name: 174907, dtype: object\n"
     ]
    },
    {
     "name": "stderr",
     "output_type": "stream",
     "text": [
      "ERROR:root:[SSL: CERTIFICATE_VERIFY_FAILED] certificate verify failed: certificate has expired (_ssl.c:997)\n",
      "ERROR:root:[SSL: CERTIFICATE_VERIFY_FAILED] certificate verify failed: certificate has expired (_ssl.c:997)\n"
     ]
    },
    {
     "name": "stdout",
     "output_type": "stream",
     "text": [
      "NR: 12 ccn                                                          S230010014\n",
      "date                                                2023-01-01 07:18:35\n",
      "updateDate                                          2023-01-01 17:51:41\n",
      "city                                                 SANTA CLARA COUNTY\n",
      "state                                                                CA\n",
      "postalCode                                                            .\n",
      "blocksizedAddress                                             TRAVIS CT\n",
      "incidentType                                                DISTURBANCE\n",
      "parentIncidentType                                      Quality of Life\n",
      "narrative             Call Type: 415    <br>Description: DISTURBANCE...\n",
      "inferredCity                                                    unknown\n",
      "Name: 174908, dtype: object\n",
      "NR: 13 ccn                                                          S230010015\n",
      "date                                                2023-01-01 07:20:14\n",
      "updateDate                                          2023-01-01 17:51:40\n",
      "city                                                 SANTA CLARA COUNTY\n",
      "state                                                                CA\n",
      "postalCode                                                            .\n",
      "blocksizedAddress                                   19000 Block UVAS RD\n",
      "incidentType                                        FIREARMS DISCHARGED\n",
      "parentIncidentType                                                Other\n",
      "narrative             Call Type: 1057   <br>Description: FIREARMS DI...\n",
      "inferredCity                                                    unknown\n",
      "Name: 174909, dtype: object\n"
     ]
    },
    {
     "name": "stderr",
     "output_type": "stream",
     "text": [
      "ERROR:root:[SSL: CERTIFICATE_VERIFY_FAILED] certificate verify failed: certificate has expired (_ssl.c:997)\n",
      "ERROR:root:[SSL: CERTIFICATE_VERIFY_FAILED] certificate verify failed: certificate has expired (_ssl.c:997)\n"
     ]
    },
    {
     "name": "stdout",
     "output_type": "stream",
     "text": [
      "NR: 14 ccn                                                          S230010018\n",
      "date                                                2023-01-01 07:33:59\n",
      "updateDate                                          2023-01-01 17:51:40\n",
      "city                                                 SANTA CLARA COUNTY\n",
      "state                                                                CA\n",
      "postalCode                                                            .\n",
      "blocksizedAddress                                        WATSONVILLE RD\n",
      "incidentType                                        FIREARMS DISCHARGED\n",
      "parentIncidentType                                                Other\n",
      "narrative             Call Type: 1057   <br>Description: FIREARMS DI...\n",
      "inferredCity                                                    unknown\n",
      "Name: 174910, dtype: object\n",
      "NR: 15 ccn                                                          S230010020\n",
      "date                                                2023-01-01 07:36:58\n",
      "updateDate                                          2023-01-01 17:51:40\n",
      "city                                                 SANTA CLARA COUNTY\n",
      "state                                                                CA\n",
      "postalCode                                                            .\n",
      "blocksizedAddress                                14900 Block FREEMAN AV\n",
      "incidentType                                                DISTURBANCE\n",
      "parentIncidentType                                      Quality of Life\n",
      "narrative             Call Type: 415    <br>Description: DISTURBANCE...\n",
      "inferredCity                                                    unknown\n",
      "Name: 174911, dtype: object\n"
     ]
    },
    {
     "name": "stderr",
     "output_type": "stream",
     "text": [
      "ERROR:root:[SSL: CERTIFICATE_VERIFY_FAILED] certificate verify failed: certificate has expired (_ssl.c:997)\n",
      "ERROR:root:[SSL: CERTIFICATE_VERIFY_FAILED] certificate verify failed: certificate has expired (_ssl.c:997)\n"
     ]
    },
    {
     "name": "stdout",
     "output_type": "stream",
     "text": [
      "NR: 16 ccn                                                          L230010003\n",
      "date                                                2023-01-01 08:02:04\n",
      "updateDate                                          2023-01-01 17:51:40\n",
      "city                                                 SANTA CLARA COUNTY\n",
      "state                                                                CA\n",
      "postalCode                                                            .\n",
      "blocksizedAddress                                  3500 Block MADRID DR\n",
      "incidentType                                     SERVICE OR AID REQUEST\n",
      "parentIncidentType                                                Other\n",
      "narrative             Call Type: SVC    <br>Description: SERVICE OR ...\n",
      "inferredCity                                                    unknown\n",
      "Name: 174912, dtype: object\n",
      "NR: 17 ccn                                                          S230010022\n",
      "date                                                2023-01-01 08:06:04\n",
      "updateDate                                          2023-01-01 17:51:40\n",
      "city                                                 SANTA CLARA COUNTY\n",
      "state                                                                CA\n",
      "postalCode                                                            .\n",
      "blocksizedAddress                                             RUCKER AV\n",
      "incidentType                                                DISTURBANCE\n",
      "parentIncidentType                                      Quality of Life\n",
      "narrative             Call Type: 415    <br>Description: DISTURBANCE...\n",
      "inferredCity                                                    unknown\n",
      "Name: 174913, dtype: object\n"
     ]
    },
    {
     "name": "stderr",
     "output_type": "stream",
     "text": [
      "ERROR:root:[SSL: CERTIFICATE_VERIFY_FAILED] certificate verify failed: certificate has expired (_ssl.c:997)\n",
      "ERROR:root:[SSL: CERTIFICATE_VERIFY_FAILED] certificate verify failed: certificate has expired (_ssl.c:997)\n"
     ]
    },
    {
     "name": "stdout",
     "output_type": "stream",
     "text": [
      "NR: 18 ccn                                                          S230010024\n",
      "date                                                2023-01-01 08:07:36\n",
      "updateDate                                          2023-01-01 17:51:41\n",
      "city                                                 SANTA CLARA COUNTY\n",
      "state                                                                CA\n",
      "postalCode                                                            .\n",
      "blocksizedAddress                                15000 Block FREEMAN AV\n",
      "incidentType                                                DISTURBANCE\n",
      "parentIncidentType                                      Quality of Life\n",
      "narrative             Call Type: 415    <br>Description: DISTURBANCE...\n",
      "inferredCity                                                    unknown\n",
      "Name: 174914, dtype: object\n",
      "NR: 19 ccn                                                          S230010025\n",
      "date                                                2023-01-01 08:08:40\n",
      "updateDate                                          2023-01-01 17:51:40\n",
      "city                                                 SANTA CLARA COUNTY\n",
      "state                                                                CA\n",
      "postalCode                                                            .\n",
      "blocksizedAddress                               12500 Block WOODSIDE DR\n",
      "incidentType                                             ALARM, AUDIBLE\n",
      "parentIncidentType                                                Other\n",
      "narrative             Call Type: 1033A  <br>Description: ALARM, AUDI...\n",
      "inferredCity                                                    unknown\n",
      "Name: 174915, dtype: object\n"
     ]
    },
    {
     "name": "stderr",
     "output_type": "stream",
     "text": [
      "ERROR:root:[SSL: CERTIFICATE_VERIFY_FAILED] certificate verify failed: certificate has expired (_ssl.c:997)\n"
     ]
    },
    {
     "name": "stdout",
     "output_type": "stream",
     "text": [
      "NR: 20 ccn                                                          S230010027\n",
      "date                                                2023-01-01 08:11:47\n",
      "updateDate                                          2023-01-01 17:51:40\n",
      "city                                                 SANTA CLARA COUNTY\n",
      "state                                                                CA\n",
      "postalCode                                                            .\n",
      "blocksizedAddress                               10600 Block W LOYOLA DR\n",
      "incidentType                                             ALARM, AUDIBLE\n",
      "parentIncidentType                                                Other\n",
      "narrative             Call Type: 1033A  <br>Description: ALARM, AUDI...\n",
      "inferredCity                                                    unknown\n",
      "Name: 174916, dtype: object\n"
     ]
    },
    {
     "ename": "NameError",
     "evalue": "name 'sleep' is not defined",
     "output_type": "error",
     "traceback": [
      "\u001b[1;31m---------------------------------------------------------------------------\u001b[0m",
      "\u001b[1;31mTimeoutError\u001b[0m                              Traceback (most recent call last)",
      "File \u001b[1;32mc:\\Users\\brian\\AppData\\Local\\Programs\\Python\\Python310\\lib\\urllib\\request.py:1348\u001b[0m, in \u001b[0;36mAbstractHTTPHandler.do_open\u001b[1;34m(self, http_class, req, **http_conn_args)\u001b[0m\n\u001b[0;32m   1347\u001b[0m \u001b[39mtry\u001b[39;00m:\n\u001b[1;32m-> 1348\u001b[0m     h\u001b[39m.\u001b[39;49mrequest(req\u001b[39m.\u001b[39;49mget_method(), req\u001b[39m.\u001b[39;49mselector, req\u001b[39m.\u001b[39;49mdata, headers,\n\u001b[0;32m   1349\u001b[0m               encode_chunked\u001b[39m=\u001b[39;49mreq\u001b[39m.\u001b[39;49mhas_header(\u001b[39m'\u001b[39;49m\u001b[39mTransfer-encoding\u001b[39;49m\u001b[39m'\u001b[39;49m))\n\u001b[0;32m   1350\u001b[0m \u001b[39mexcept\u001b[39;00m \u001b[39mOSError\u001b[39;00m \u001b[39mas\u001b[39;00m err: \u001b[39m# timeout error\u001b[39;00m\n",
      "File \u001b[1;32mc:\\Users\\brian\\AppData\\Local\\Programs\\Python\\Python310\\lib\\http\\client.py:1276\u001b[0m, in \u001b[0;36mHTTPConnection.request\u001b[1;34m(self, method, url, body, headers, encode_chunked)\u001b[0m\n\u001b[0;32m   1275\u001b[0m \u001b[39m\u001b[39m\u001b[39m\"\"\"Send a complete request to the server.\"\"\"\u001b[39;00m\n\u001b[1;32m-> 1276\u001b[0m \u001b[39mself\u001b[39;49m\u001b[39m.\u001b[39;49m_send_request(method, url, body, headers, encode_chunked)\n",
      "File \u001b[1;32mc:\\Users\\brian\\AppData\\Local\\Programs\\Python\\Python310\\lib\\http\\client.py:1322\u001b[0m, in \u001b[0;36mHTTPConnection._send_request\u001b[1;34m(self, method, url, body, headers, encode_chunked)\u001b[0m\n\u001b[0;32m   1321\u001b[0m     body \u001b[39m=\u001b[39m _encode(body, \u001b[39m'\u001b[39m\u001b[39mbody\u001b[39m\u001b[39m'\u001b[39m)\n\u001b[1;32m-> 1322\u001b[0m \u001b[39mself\u001b[39;49m\u001b[39m.\u001b[39;49mendheaders(body, encode_chunked\u001b[39m=\u001b[39;49mencode_chunked)\n",
      "File \u001b[1;32mc:\\Users\\brian\\AppData\\Local\\Programs\\Python\\Python310\\lib\\http\\client.py:1271\u001b[0m, in \u001b[0;36mHTTPConnection.endheaders\u001b[1;34m(self, message_body, encode_chunked)\u001b[0m\n\u001b[0;32m   1270\u001b[0m     \u001b[39mraise\u001b[39;00m CannotSendHeader()\n\u001b[1;32m-> 1271\u001b[0m \u001b[39mself\u001b[39;49m\u001b[39m.\u001b[39;49m_send_output(message_body, encode_chunked\u001b[39m=\u001b[39;49mencode_chunked)\n",
      "File \u001b[1;32mc:\\Users\\brian\\AppData\\Local\\Programs\\Python\\Python310\\lib\\http\\client.py:1031\u001b[0m, in \u001b[0;36mHTTPConnection._send_output\u001b[1;34m(self, message_body, encode_chunked)\u001b[0m\n\u001b[0;32m   1030\u001b[0m \u001b[39mdel\u001b[39;00m \u001b[39mself\u001b[39m\u001b[39m.\u001b[39m_buffer[:]\n\u001b[1;32m-> 1031\u001b[0m \u001b[39mself\u001b[39;49m\u001b[39m.\u001b[39;49msend(msg)\n\u001b[0;32m   1033\u001b[0m \u001b[39mif\u001b[39;00m message_body \u001b[39mis\u001b[39;00m \u001b[39mnot\u001b[39;00m \u001b[39mNone\u001b[39;00m:\n\u001b[0;32m   1034\u001b[0m \n\u001b[0;32m   1035\u001b[0m     \u001b[39m# create a consistent interface to message_body\u001b[39;00m\n",
      "File \u001b[1;32mc:\\Users\\brian\\AppData\\Local\\Programs\\Python\\Python310\\lib\\http\\client.py:969\u001b[0m, in \u001b[0;36mHTTPConnection.send\u001b[1;34m(self, data)\u001b[0m\n\u001b[0;32m    968\u001b[0m \u001b[39mif\u001b[39;00m \u001b[39mself\u001b[39m\u001b[39m.\u001b[39mauto_open:\n\u001b[1;32m--> 969\u001b[0m     \u001b[39mself\u001b[39;49m\u001b[39m.\u001b[39;49mconnect()\n\u001b[0;32m    970\u001b[0m \u001b[39melse\u001b[39;00m:\n",
      "File \u001b[1;32mc:\\Users\\brian\\AppData\\Local\\Programs\\Python\\Python310\\lib\\http\\client.py:1441\u001b[0m, in \u001b[0;36mHTTPSConnection.connect\u001b[1;34m(self)\u001b[0m\n\u001b[0;32m   1439\u001b[0m \u001b[39m\"\u001b[39m\u001b[39mConnect to a host on a given (SSL) port.\u001b[39m\u001b[39m\"\u001b[39m\n\u001b[1;32m-> 1441\u001b[0m \u001b[39msuper\u001b[39;49m()\u001b[39m.\u001b[39;49mconnect()\n\u001b[0;32m   1443\u001b[0m \u001b[39mif\u001b[39;00m \u001b[39mself\u001b[39m\u001b[39m.\u001b[39m_tunnel_host:\n",
      "File \u001b[1;32mc:\\Users\\brian\\AppData\\Local\\Programs\\Python\\Python310\\lib\\http\\client.py:940\u001b[0m, in \u001b[0;36mHTTPConnection.connect\u001b[1;34m(self)\u001b[0m\n\u001b[0;32m    939\u001b[0m sys\u001b[39m.\u001b[39maudit(\u001b[39m\"\u001b[39m\u001b[39mhttp.client.connect\u001b[39m\u001b[39m\"\u001b[39m, \u001b[39mself\u001b[39m, \u001b[39mself\u001b[39m\u001b[39m.\u001b[39mhost, \u001b[39mself\u001b[39m\u001b[39m.\u001b[39mport)\n\u001b[1;32m--> 940\u001b[0m \u001b[39mself\u001b[39m\u001b[39m.\u001b[39msock \u001b[39m=\u001b[39m \u001b[39mself\u001b[39;49m\u001b[39m.\u001b[39;49m_create_connection(\n\u001b[0;32m    941\u001b[0m     (\u001b[39mself\u001b[39;49m\u001b[39m.\u001b[39;49mhost,\u001b[39mself\u001b[39;49m\u001b[39m.\u001b[39;49mport), \u001b[39mself\u001b[39;49m\u001b[39m.\u001b[39;49mtimeout, \u001b[39mself\u001b[39;49m\u001b[39m.\u001b[39;49msource_address)\n\u001b[0;32m    942\u001b[0m \u001b[39mself\u001b[39m\u001b[39m.\u001b[39msock\u001b[39m.\u001b[39msetsockopt(socket\u001b[39m.\u001b[39mIPPROTO_TCP, socket\u001b[39m.\u001b[39mTCP_NODELAY, \u001b[39m1\u001b[39m)\n",
      "File \u001b[1;32mc:\\Users\\brian\\AppData\\Local\\Programs\\Python\\Python310\\lib\\socket.py:845\u001b[0m, in \u001b[0;36mcreate_connection\u001b[1;34m(address, timeout, source_address)\u001b[0m\n\u001b[0;32m    844\u001b[0m \u001b[39mtry\u001b[39;00m:\n\u001b[1;32m--> 845\u001b[0m     \u001b[39mraise\u001b[39;00m err\n\u001b[0;32m    846\u001b[0m \u001b[39mfinally\u001b[39;00m:\n\u001b[0;32m    847\u001b[0m     \u001b[39m# Break explicitly a reference cycle\u001b[39;00m\n",
      "File \u001b[1;32mc:\\Users\\brian\\AppData\\Local\\Programs\\Python\\Python310\\lib\\socket.py:833\u001b[0m, in \u001b[0;36mcreate_connection\u001b[1;34m(address, timeout, source_address)\u001b[0m\n\u001b[0;32m    832\u001b[0m     sock\u001b[39m.\u001b[39mbind(source_address)\n\u001b[1;32m--> 833\u001b[0m sock\u001b[39m.\u001b[39;49mconnect(sa)\n\u001b[0;32m    834\u001b[0m \u001b[39m# Break explicitly a reference cycle\u001b[39;00m\n",
      "\u001b[1;31mTimeoutError\u001b[0m: timed out",
      "\nDuring handling of the above exception, another exception occurred:\n",
      "\u001b[1;31mURLError\u001b[0m                                  Traceback (most recent call last)",
      "File \u001b[1;32mc:\\Users\\brian\\AppData\\Local\\Programs\\Python\\Python310\\lib\\site-packages\\geopy\\adapters.py:298\u001b[0m, in \u001b[0;36mURLLibAdapter.get_text\u001b[1;34m(self, url, timeout, headers)\u001b[0m\n\u001b[0;32m    297\u001b[0m \u001b[39mtry\u001b[39;00m:\n\u001b[1;32m--> 298\u001b[0m     page \u001b[39m=\u001b[39m \u001b[39mself\u001b[39;49m\u001b[39m.\u001b[39;49murlopen(req, timeout\u001b[39m=\u001b[39;49mtimeout)\n\u001b[0;32m    299\u001b[0m \u001b[39mexcept\u001b[39;00m \u001b[39mException\u001b[39;00m \u001b[39mas\u001b[39;00m error:\n",
      "File \u001b[1;32mc:\\Users\\brian\\AppData\\Local\\Programs\\Python\\Python310\\lib\\urllib\\request.py:519\u001b[0m, in \u001b[0;36mOpenerDirector.open\u001b[1;34m(self, fullurl, data, timeout)\u001b[0m\n\u001b[0;32m    518\u001b[0m sys\u001b[39m.\u001b[39maudit(\u001b[39m'\u001b[39m\u001b[39murllib.Request\u001b[39m\u001b[39m'\u001b[39m, req\u001b[39m.\u001b[39mfull_url, req\u001b[39m.\u001b[39mdata, req\u001b[39m.\u001b[39mheaders, req\u001b[39m.\u001b[39mget_method())\n\u001b[1;32m--> 519\u001b[0m response \u001b[39m=\u001b[39m \u001b[39mself\u001b[39;49m\u001b[39m.\u001b[39;49m_open(req, data)\n\u001b[0;32m    521\u001b[0m \u001b[39m# post-process response\u001b[39;00m\n",
      "File \u001b[1;32mc:\\Users\\brian\\AppData\\Local\\Programs\\Python\\Python310\\lib\\urllib\\request.py:536\u001b[0m, in \u001b[0;36mOpenerDirector._open\u001b[1;34m(self, req, data)\u001b[0m\n\u001b[0;32m    535\u001b[0m protocol \u001b[39m=\u001b[39m req\u001b[39m.\u001b[39mtype\n\u001b[1;32m--> 536\u001b[0m result \u001b[39m=\u001b[39m \u001b[39mself\u001b[39;49m\u001b[39m.\u001b[39;49m_call_chain(\u001b[39mself\u001b[39;49m\u001b[39m.\u001b[39;49mhandle_open, protocol, protocol \u001b[39m+\u001b[39;49m\n\u001b[0;32m    537\u001b[0m                           \u001b[39m'\u001b[39;49m\u001b[39m_open\u001b[39;49m\u001b[39m'\u001b[39;49m, req)\n\u001b[0;32m    538\u001b[0m \u001b[39mif\u001b[39;00m result:\n",
      "File \u001b[1;32mc:\\Users\\brian\\AppData\\Local\\Programs\\Python\\Python310\\lib\\urllib\\request.py:496\u001b[0m, in \u001b[0;36mOpenerDirector._call_chain\u001b[1;34m(self, chain, kind, meth_name, *args)\u001b[0m\n\u001b[0;32m    495\u001b[0m func \u001b[39m=\u001b[39m \u001b[39mgetattr\u001b[39m(handler, meth_name)\n\u001b[1;32m--> 496\u001b[0m result \u001b[39m=\u001b[39m func(\u001b[39m*\u001b[39;49margs)\n\u001b[0;32m    497\u001b[0m \u001b[39mif\u001b[39;00m result \u001b[39mis\u001b[39;00m \u001b[39mnot\u001b[39;00m \u001b[39mNone\u001b[39;00m:\n",
      "File \u001b[1;32mc:\\Users\\brian\\AppData\\Local\\Programs\\Python\\Python310\\lib\\urllib\\request.py:1391\u001b[0m, in \u001b[0;36mHTTPSHandler.https_open\u001b[1;34m(self, req)\u001b[0m\n\u001b[0;32m   1390\u001b[0m \u001b[39mdef\u001b[39;00m \u001b[39mhttps_open\u001b[39m(\u001b[39mself\u001b[39m, req):\n\u001b[1;32m-> 1391\u001b[0m     \u001b[39mreturn\u001b[39;00m \u001b[39mself\u001b[39;49m\u001b[39m.\u001b[39;49mdo_open(http\u001b[39m.\u001b[39;49mclient\u001b[39m.\u001b[39;49mHTTPSConnection, req,\n\u001b[0;32m   1392\u001b[0m         context\u001b[39m=\u001b[39;49m\u001b[39mself\u001b[39;49m\u001b[39m.\u001b[39;49m_context, check_hostname\u001b[39m=\u001b[39;49m\u001b[39mself\u001b[39;49m\u001b[39m.\u001b[39;49m_check_hostname)\n",
      "File \u001b[1;32mc:\\Users\\brian\\AppData\\Local\\Programs\\Python\\Python310\\lib\\urllib\\request.py:1351\u001b[0m, in \u001b[0;36mAbstractHTTPHandler.do_open\u001b[1;34m(self, http_class, req, **http_conn_args)\u001b[0m\n\u001b[0;32m   1350\u001b[0m \u001b[39mexcept\u001b[39;00m \u001b[39mOSError\u001b[39;00m \u001b[39mas\u001b[39;00m err: \u001b[39m# timeout error\u001b[39;00m\n\u001b[1;32m-> 1351\u001b[0m     \u001b[39mraise\u001b[39;00m URLError(err)\n\u001b[0;32m   1352\u001b[0m r \u001b[39m=\u001b[39m h\u001b[39m.\u001b[39mgetresponse()\n",
      "\u001b[1;31mURLError\u001b[0m: <urlopen error timed out>",
      "\nDuring handling of the above exception, another exception occurred:\n",
      "\u001b[1;31mGeocoderTimedOut\u001b[0m                          Traceback (most recent call last)",
      "Cell \u001b[1;32mIn[3], line 3\u001b[0m, in \u001b[0;36mgeocode\u001b[1;34m(geolocator, addr, sleep_sec)\u001b[0m\n\u001b[0;32m      2\u001b[0m \u001b[39mtry\u001b[39;00m:\n\u001b[1;32m----> 3\u001b[0m     \u001b[39mreturn\u001b[39;00m geolocator\u001b[39m.\u001b[39;49mgeocode(addr)\n\u001b[0;32m      4\u001b[0m \u001b[39mexcept\u001b[39;00m GeocoderTimedOut:\n",
      "File \u001b[1;32mc:\\Users\\brian\\AppData\\Local\\Programs\\Python\\Python310\\lib\\site-packages\\geopy\\geocoders\\nominatim.py:297\u001b[0m, in \u001b[0;36mNominatim.geocode\u001b[1;34m(self, query, exactly_one, timeout, limit, addressdetails, language, geometry, extratags, country_codes, viewbox, bounded, featuretype, namedetails)\u001b[0m\n\u001b[0;32m    296\u001b[0m callback \u001b[39m=\u001b[39m partial(\u001b[39mself\u001b[39m\u001b[39m.\u001b[39m_parse_json, exactly_one\u001b[39m=\u001b[39mexactly_one)\n\u001b[1;32m--> 297\u001b[0m \u001b[39mreturn\u001b[39;00m \u001b[39mself\u001b[39;49m\u001b[39m.\u001b[39;49m_call_geocoder(url, callback, timeout\u001b[39m=\u001b[39;49mtimeout)\n",
      "File \u001b[1;32mc:\\Users\\brian\\AppData\\Local\\Programs\\Python\\Python310\\lib\\site-packages\\geopy\\geocoders\\base.py:368\u001b[0m, in \u001b[0;36mGeocoder._call_geocoder\u001b[1;34m(self, url, callback, timeout, is_json, headers)\u001b[0m\n\u001b[0;32m    367\u001b[0m \u001b[39mif\u001b[39;00m is_json:\n\u001b[1;32m--> 368\u001b[0m     result \u001b[39m=\u001b[39m \u001b[39mself\u001b[39;49m\u001b[39m.\u001b[39;49madapter\u001b[39m.\u001b[39;49mget_json(url, timeout\u001b[39m=\u001b[39;49mtimeout, headers\u001b[39m=\u001b[39;49mreq_headers)\n\u001b[0;32m    369\u001b[0m \u001b[39melse\u001b[39;00m:\n",
      "File \u001b[1;32mc:\\Users\\brian\\AppData\\Local\\Programs\\Python\\Python310\\lib\\site-packages\\geopy\\adapters.py:287\u001b[0m, in \u001b[0;36mURLLibAdapter.get_json\u001b[1;34m(self, url, timeout, headers)\u001b[0m\n\u001b[0;32m    286\u001b[0m \u001b[39mdef\u001b[39;00m \u001b[39mget_json\u001b[39m(\u001b[39mself\u001b[39m, url, \u001b[39m*\u001b[39m, timeout, headers):\n\u001b[1;32m--> 287\u001b[0m     text \u001b[39m=\u001b[39m \u001b[39mself\u001b[39;49m\u001b[39m.\u001b[39;49mget_text(url, timeout\u001b[39m=\u001b[39;49mtimeout, headers\u001b[39m=\u001b[39;49mheaders)\n\u001b[0;32m    288\u001b[0m     \u001b[39mtry\u001b[39;00m:\n",
      "File \u001b[1;32mc:\\Users\\brian\\AppData\\Local\\Programs\\Python\\Python310\\lib\\site-packages\\geopy\\adapters.py:316\u001b[0m, in \u001b[0;36mURLLibAdapter.get_text\u001b[1;34m(self, url, timeout, headers)\u001b[0m\n\u001b[0;32m    315\u001b[0m \u001b[39mif\u001b[39;00m \u001b[39m\"\u001b[39m\u001b[39mtimed out\u001b[39m\u001b[39m\"\u001b[39m \u001b[39min\u001b[39;00m message:\n\u001b[1;32m--> 316\u001b[0m     \u001b[39mraise\u001b[39;00m GeocoderTimedOut(\u001b[39m\"\u001b[39m\u001b[39mService timed out\u001b[39m\u001b[39m\"\u001b[39m)\n\u001b[0;32m    317\u001b[0m \u001b[39melif\u001b[39;00m \u001b[39m\"\u001b[39m\u001b[39munreachable\u001b[39m\u001b[39m\"\u001b[39m \u001b[39min\u001b[39;00m message:\n",
      "\u001b[1;31mGeocoderTimedOut\u001b[0m: Service timed out",
      "\nDuring handling of the above exception, another exception occurred:\n",
      "\u001b[1;31mNameError\u001b[0m                                 Traceback (most recent call last)",
      "Cell \u001b[1;32mIn[9], line 10\u001b[0m\n\u001b[0;32m      8\u001b[0m     \u001b[39mprint\u001b[39m(\u001b[39m\"\u001b[39m\u001b[39mFailed to scan: \u001b[39m\u001b[39m{}\u001b[39;00m\u001b[39m\"\u001b[39m\u001b[39m.\u001b[39mformat(row[\u001b[39m\"\u001b[39m\u001b[39mblocksizedAddress\u001b[39m\u001b[39m\"\u001b[39m]))\n\u001b[0;32m      9\u001b[0m     \u001b[39mcontinue\u001b[39;00m\n\u001b[1;32m---> 10\u001b[0m location \u001b[39m=\u001b[39m geocode(geolocator, place, \u001b[39m1\u001b[39;49m)   \n\u001b[0;32m     12\u001b[0m counter \u001b[39m=\u001b[39m counter \u001b[39m+\u001b[39m \u001b[39m1\u001b[39m\n\u001b[0;32m     13\u001b[0m \u001b[39mif\u001b[39;00m location \u001b[39m!=\u001b[39m \u001b[39mNone\u001b[39;00m:\n",
      "Cell \u001b[1;32mIn[3], line 6\u001b[0m, in \u001b[0;36mgeocode\u001b[1;34m(geolocator, addr, sleep_sec)\u001b[0m\n\u001b[0;32m      4\u001b[0m \u001b[39mexcept\u001b[39;00m GeocoderTimedOut:\n\u001b[0;32m      5\u001b[0m     logging\u001b[39m.\u001b[39minfo(\u001b[39m'\u001b[39m\u001b[39mTIMED OUT: GeocoderTimedOut: Retrying...\u001b[39m\u001b[39m'\u001b[39m)\n\u001b[1;32m----> 6\u001b[0m     sleep(randint(\u001b[39m1\u001b[39m\u001b[39m*\u001b[39m\u001b[39m100\u001b[39m,sleep_sec\u001b[39m*\u001b[39m\u001b[39m100\u001b[39m)\u001b[39m/\u001b[39m\u001b[39m100\u001b[39m)\n\u001b[0;32m      7\u001b[0m     \u001b[39mreturn\u001b[39;00m reverse_geocode(geolocator, latlon, sleep_sec)\n\u001b[0;32m      8\u001b[0m \u001b[39mexcept\u001b[39;00m GeocoderServiceError \u001b[39mas\u001b[39;00m e:\n",
      "\u001b[1;31mNameError\u001b[0m: name 'sleep' is not defined"
     ]
    }
   ],
   "source": [
    "counter = 0\n",
    "for index, row in df[df[\"inferredCity\"] == \"unknown\"].iterrows():\n",
    "    if row[\"inferredCity\"] == \"unknown\":\n",
    "        print(row)\n",
    "        try:\n",
    "            place = re.sub(\"BLOCK\", \"\", row[\"blocksizedAddress\"].upper()) + \", SANTA CLARA COUNTY, CA\"\n",
    "        except:\n",
    "            print(\"Failed to scan: {}\".format(row[\"blocksizedAddress\"]))\n",
    "            continue\n",
    "        location = geocode(geolocator, place, 1)   \n",
    "            \n",
    "        counter = counter + 1\n",
    "        if location != None:\n",
    "            display_name = [s.strip() for s in location.raw[\"display_name\"].split(\",\")]                         \n",
    "            try:\n",
    "                county_idx = display_name.index(\"Santa Clara County\")\n",
    "            except ValueError:\n",
    "                print(\"SCC not found: {}\".format(display_name))\n",
    "                df.at[index, \"inferredCity\"] = \"not_found\"\n",
    "                continue\n",
    "            df.at[index, \"inferredCity\"] = display_name[county_idx-1]   \n",
    "            df.at[index, \"postalCode\"] = display_name[-2]                            \n",
    "            print(\"\\n{} {}: {}, {}\".format(counter, location.raw[\"display_name\"], df.at[index,\"inferredCity\"], df.at[index, \"postalCode\"]))\n",
    "        else:\n",
    "            df.at[index, \"inferredCity\"] = \"no resolution\"\n",
    "            print(\"NR: {} \".format(counter), end=\"\")\n",
    "        if counter/1000 == round(counter/1000):\n",
    "            print(\"Saving...\")\n",
    "            df.to_pickle(\"SCCSheriff.pkl\")\n",
    "    else:\n",
    "        print(\".\", end=\"\")\n"
   ]
  },
  {
   "cell_type": "code",
   "execution_count": null,
   "id": "99397818",
   "metadata": {},
   "outputs": [],
   "source": [
    "df.to_pickle(\"SCCSheriff.pkl\")"
   ]
  },
  {
   "cell_type": "code",
   "execution_count": null,
   "id": "23946922",
   "metadata": {},
   "outputs": [],
   "source": [
    "df[\"inferredCity\"].value_counts()"
   ]
  },
  {
   "cell_type": "code",
   "execution_count": null,
   "id": "03d357de",
   "metadata": {},
   "outputs": [],
   "source": [
    "df[df[\"inferredCity\" == \"unknown\"]]"
   ]
  },
  {
   "cell_type": "markdown",
   "id": "a31fa4ff",
   "metadata": {},
   "source": [
    "        try: \n",
    "            location = geolocator.geocode(place)\n",
    "        except GeocoderTimedOut as e:\n",
    "            print(\"Location error: {}\".format(e))\n",
    "            naptime = 3+randint(100)\n",
    "            print(\"Sleeping {} seconds.\".format(naptime))\n",
    "            time.sleep(naptime)\n",
    "            user_agent = 'user_me_{}'.format(randint(10000,99999))\n",
    "            geolocator = Nominatim(user_agent=user_agent)\n",
    "            location = geolocator.geocode(place)\n"
   ]
  }
 ],
 "metadata": {
  "kernelspec": {
   "display_name": "Python 3 (ipykernel)",
   "language": "python",
   "name": "python3"
  },
  "language_info": {
   "codemirror_mode": {
    "name": "ipython",
    "version": 3
   },
   "file_extension": ".py",
   "mimetype": "text/x-python",
   "name": "python",
   "nbconvert_exporter": "python",
   "pygments_lexer": "ipython3",
   "version": "3.10.0"
  }
 },
 "nbformat": 4,
 "nbformat_minor": 5
}
