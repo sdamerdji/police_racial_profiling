{
 "cells": [
  {
   "cell_type": "code",
   "execution_count": 1,
   "metadata": {},
   "outputs": [],
   "source": [
    "%load_ext autoreload\n",
    "%autoreload 2"
   ]
  },
  {
   "cell_type": "code",
   "execution_count": 2,
   "metadata": {},
   "outputs": [],
   "source": [
    "import sys\n",
    "import pandas as pd\n",
    "import numpy as np\n",
    "from datetime import datetime\n",
    "from geopy.geocoders import Nominatim\n",
    "from geopy.geocoders import GoogleV3\n",
    "import pickle"
   ]
  },
  {
   "cell_type": "code",
   "execution_count": 3,
   "metadata": {},
   "outputs": [],
   "source": [
    "import certifi\n",
    "import ssl\n",
    "import geopy.geocoders\n",
    "ctx = ssl.create_default_context(cafile=certifi.where())\n",
    "geopy.geocoders.options.default_ssl_context = ctx"
   ]
  },
  {
   "cell_type": "code",
   "execution_count": 4,
   "metadata": {},
   "outputs": [],
   "source": [
    "sys.path.append(\"../../code\")\n",
    "sys.path.append(\"../../analysis\")\n",
    "import loaders.cityprotect as cp"
   ]
  },
  {
   "cell_type": "code",
   "execution_count": 5,
   "metadata": {},
   "outputs": [],
   "source": [
    "with open(\"google_geocode_api_key.pkl\", \"rb\") as f:  # you'll need your own api key\n",
    "    api_key = pickle.load(f)"
   ]
  },
  {
   "cell_type": "code",
   "execution_count": 6,
   "metadata": {},
   "outputs": [],
   "source": [
    "nom = Nominatim(user_agent=\"policedata\", scheme='http')\n",
    "goog = GoogleV3(api_key=api_key)"
   ]
  },
  {
   "cell_type": "code",
   "execution_count": 7,
   "metadata": {},
   "outputs": [],
   "source": [
    "previous_df = pd.read_pickle(\"../../data/clean_data/SCCSheriff_2017_2022_inferredCity.pkl\")"
   ]
  },
  {
   "cell_type": "code",
   "execution_count": 8,
   "metadata": {},
   "outputs": [
    {
     "name": "stdout",
     "output_type": "stream",
     "text": [
      "Starting: 2022-12-31 23:58:48\n",
      "Ending:   2023-10-16 20:45:09.084724\n",
      "Loading from 27 files.\n",
      "Data file ../../data/raw_data/Santa_Clara_County_Office_of_the_Sheriff\\Apr_Jun_2017_Santa_Clara_County_Office_of_the_Sheriff_report.csv is empty.\n",
      "Data file ../../data/raw_data/Santa_Clara_County_Office_of_the_Sheriff\\Jan_Mar_2017_Santa_Clara_County_Office_of_the_Sheriff_report.csv is empty.\n"
     ]
    }
   ],
   "source": [
    "dept = \"Santa Clara County Office of the Sheriff\"\n",
    "df = cp.cityprotect(\"../../data/raw_data/{}\".format(dept.replace(\" \", \"_\")),\n",
    "                                 start_date = previous_df[\"date\"].max(),\n",
    "                                  end_date = datetime.now() )"
   ]
  },
  {
   "cell_type": "code",
   "execution_count": 9,
   "metadata": {},
   "outputs": [
    {
     "data": {
      "text/plain": [
       "32065"
      ]
     },
     "execution_count": 9,
     "metadata": {},
     "output_type": "execute_result"
    }
   ],
   "source": [
    "len(df)"
   ]
  },
  {
   "cell_type": "code",
   "execution_count": 10,
   "metadata": {},
   "outputs": [
    {
     "data": {
      "text/plain": [
       "7020"
      ]
     },
     "execution_count": 10,
     "metadata": {},
     "output_type": "execute_result"
    }
   ],
   "source": [
    "len(df[\"blocksizedAddress\"].unique())"
   ]
  },
  {
   "cell_type": "code",
   "execution_count": null,
   "metadata": {},
   "outputs": [],
   "source": [
    "df = cp.infer_cities(df, nom, goog)"
   ]
  },
  {
   "cell_type": "code",
   "execution_count": 51,
   "metadata": {},
   "outputs": [
    {
     "data": {
      "text/plain": [
       "inferredCity\n",
       "San Jose           11496\n",
       "Cupertino           4710\n",
       "unknown             3584\n",
       "Saratoga            3007\n",
       "Los Altos Hills     1316\n",
       "Santa Clara         1138\n",
       "Gilroy              1067\n",
       "Milpitas             927\n",
       "Morgan Hill          888\n",
       "Los Gatos            834\n",
       "San Martin           781\n",
       "Stanford             622\n",
       "Sunnyvale            392\n",
       "Los Altos            361\n",
       "Campbell             185\n",
       "Mountain View        175\n",
       "Palo Alto            167\n",
       "blank                141\n",
       "Willow Glen          122\n",
       "Redwood Estates       77\n",
       "Monte Sereno          56\n",
       "Coyote                19\n",
       "Name: count, dtype: int64"
      ]
     },
     "execution_count": 51,
     "metadata": {},
     "output_type": "execute_result"
    }
   ],
   "source": [
    "df[\"inferredCity\"].value_counts()"
   ]
  },
  {
   "cell_type": "code",
   "execution_count": 28,
   "metadata": {},
   "outputs": [
    {
     "data": {
      "text/html": [
       "<div>\n",
       "<style scoped>\n",
       "    .dataframe tbody tr th:only-of-type {\n",
       "        vertical-align: middle;\n",
       "    }\n",
       "\n",
       "    .dataframe tbody tr th {\n",
       "        vertical-align: top;\n",
       "    }\n",
       "\n",
       "    .dataframe thead th {\n",
       "        text-align: right;\n",
       "    }\n",
       "</style>\n",
       "<table border=\"1\" class=\"dataframe\">\n",
       "  <thead>\n",
       "    <tr style=\"text-align: right;\">\n",
       "      <th></th>\n",
       "      <th>ccn</th>\n",
       "      <th>date</th>\n",
       "      <th>updateDate</th>\n",
       "      <th>city</th>\n",
       "      <th>state</th>\n",
       "      <th>postalCode</th>\n",
       "      <th>blocksizedAddress</th>\n",
       "      <th>incidentType</th>\n",
       "      <th>parentIncidentType</th>\n",
       "      <th>narrative</th>\n",
       "      <th>inferredCity</th>\n",
       "      <th>postcode</th>\n",
       "    </tr>\n",
       "  </thead>\n",
       "  <tbody>\n",
       "    <tr>\n",
       "      <th>334462</th>\n",
       "      <td>L223650085</td>\n",
       "      <td>2023-01-01 00:15:09</td>\n",
       "      <td>2023-01-01 09:05:06</td>\n",
       "      <td>SANTA CLARA COUNTY</td>\n",
       "      <td>CA</td>\n",
       "      <td>.</td>\n",
       "      <td>ALUM ROCK FALLS RD</td>\n",
       "      <td>SERVICE OR AID REQUEST</td>\n",
       "      <td>Other</td>\n",
       "      <td>Call Type: SVC    &lt;br&gt;Description: SERVICE OR ...</td>\n",
       "      <td>unknown</td>\n",
       "      <td>NaN</td>\n",
       "    </tr>\n",
       "    <tr>\n",
       "      <th>334466</th>\n",
       "      <td>S223650309</td>\n",
       "      <td>2023-01-01 00:58:48</td>\n",
       "      <td>2023-01-01 09:05:06</td>\n",
       "      <td>SANTA CLARA COUNTY</td>\n",
       "      <td>CA</td>\n",
       "      <td>.</td>\n",
       "      <td>POLE LINE RD</td>\n",
       "      <td>TRAFFIC HAZARD</td>\n",
       "      <td>Traffic</td>\n",
       "      <td>Call Type: 1125   &lt;br&gt;Description: TRAFFIC HAZ...</td>\n",
       "      <td>unknown</td>\n",
       "      <td>NaN</td>\n",
       "    </tr>\n",
       "    <tr>\n",
       "      <th>174903</th>\n",
       "      <td>S230010002</td>\n",
       "      <td>2023-01-01 07:03:42</td>\n",
       "      <td>2023-01-01 17:51:40</td>\n",
       "      <td>SANTA CLARA COUNTY</td>\n",
       "      <td>CA</td>\n",
       "      <td>.</td>\n",
       "      <td>OAK ST</td>\n",
       "      <td>SUSPICIOUS VEHICLE</td>\n",
       "      <td>Other</td>\n",
       "      <td>Call Type: 1154   &lt;br&gt;Description: SUSPICIOUS ...</td>\n",
       "      <td>unknown</td>\n",
       "      <td>NaN</td>\n",
       "    </tr>\n",
       "    <tr>\n",
       "      <th>174908</th>\n",
       "      <td>S230010014</td>\n",
       "      <td>2023-01-01 07:18:35</td>\n",
       "      <td>2023-01-01 17:51:41</td>\n",
       "      <td>SANTA CLARA COUNTY</td>\n",
       "      <td>CA</td>\n",
       "      <td>.</td>\n",
       "      <td>TRAVIS CT</td>\n",
       "      <td>DISTURBANCE</td>\n",
       "      <td>Quality of Life</td>\n",
       "      <td>Call Type: 415    &lt;br&gt;Description: DISTURBANCE...</td>\n",
       "      <td>unknown</td>\n",
       "      <td>NaN</td>\n",
       "    </tr>\n",
       "    <tr>\n",
       "      <th>174910</th>\n",
       "      <td>S230010018</td>\n",
       "      <td>2023-01-01 07:33:59</td>\n",
       "      <td>2023-01-01 17:51:40</td>\n",
       "      <td>SANTA CLARA COUNTY</td>\n",
       "      <td>CA</td>\n",
       "      <td>.</td>\n",
       "      <td>WATSONVILLE RD</td>\n",
       "      <td>FIREARMS DISCHARGED</td>\n",
       "      <td>Other</td>\n",
       "      <td>Call Type: 1057   &lt;br&gt;Description: FIREARMS DI...</td>\n",
       "      <td>unknown</td>\n",
       "      <td>NaN</td>\n",
       "    </tr>\n",
       "    <tr>\n",
       "      <th>...</th>\n",
       "      <td>...</td>\n",
       "      <td>...</td>\n",
       "      <td>...</td>\n",
       "      <td>...</td>\n",
       "      <td>...</td>\n",
       "      <td>...</td>\n",
       "      <td>...</td>\n",
       "      <td>...</td>\n",
       "      <td>...</td>\n",
       "      <td>...</td>\n",
       "      <td>...</td>\n",
       "      <td>...</td>\n",
       "    </tr>\n",
       "    <tr>\n",
       "      <th>250423</th>\n",
       "      <td>S232710084</td>\n",
       "      <td>2023-09-28 15:13:31</td>\n",
       "      <td>2023-09-29 04:42:13</td>\n",
       "      <td>SANTA CLARA COUNTY</td>\n",
       "      <td>CA</td>\n",
       "      <td>.</td>\n",
       "      <td>BIG BASIN WAY</td>\n",
       "      <td>UNKNOWN CIRCUMSTANCES</td>\n",
       "      <td>Other</td>\n",
       "      <td>Call Type: UNKCIR &lt;br&gt;Description: UNKNOWN CIR...</td>\n",
       "      <td>unknown</td>\n",
       "      <td>NaN</td>\n",
       "    </tr>\n",
       "    <tr>\n",
       "      <th>250427</th>\n",
       "      <td>S232710116</td>\n",
       "      <td>2023-09-28 16:38:32</td>\n",
       "      <td>2023-09-29 04:42:14</td>\n",
       "      <td>SANTA CLARA COUNTY</td>\n",
       "      <td>CA</td>\n",
       "      <td>.</td>\n",
       "      <td>17600 Block COMANCHE TL</td>\n",
       "      <td>PHONE UR OFFICE, OR:</td>\n",
       "      <td>Other</td>\n",
       "      <td>Call Type: 1021   &lt;br&gt;Description: PHONE UR OF...</td>\n",
       "      <td>unknown</td>\n",
       "      <td>NaN</td>\n",
       "    </tr>\n",
       "    <tr>\n",
       "      <th>250382</th>\n",
       "      <td>S232720060</td>\n",
       "      <td>2023-09-29 14:29:27</td>\n",
       "      <td>2023-09-30 04:41:28</td>\n",
       "      <td>SANTA CLARA COUNTY</td>\n",
       "      <td>CA</td>\n",
       "      <td>.</td>\n",
       "      <td>PROSPECT RD</td>\n",
       "      <td>VEHICLE ACCIDENT, PROPERTY DAMAGE</td>\n",
       "      <td>Traffic</td>\n",
       "      <td>Call Type: 1182   &lt;br&gt;Description: VEHICLE ACC...</td>\n",
       "      <td>unknown</td>\n",
       "      <td>NaN</td>\n",
       "    </tr>\n",
       "    <tr>\n",
       "      <th>250349</th>\n",
       "      <td>S232730058</td>\n",
       "      <td>2023-09-30 14:49:33</td>\n",
       "      <td>2023-10-01 05:00:10</td>\n",
       "      <td>SANTA CLARA COUNTY</td>\n",
       "      <td>CA</td>\n",
       "      <td>.</td>\n",
       "      <td>ENBORG LN</td>\n",
       "      <td>SUSPICIOUS CIRCUMSTANCES</td>\n",
       "      <td>Other</td>\n",
       "      <td>Call Type: SUSCIR &lt;br&gt;Description: SUSPICIOUS ...</td>\n",
       "      <td>unknown</td>\n",
       "      <td>NaN</td>\n",
       "    </tr>\n",
       "    <tr>\n",
       "      <th>250334</th>\n",
       "      <td>S232730179</td>\n",
       "      <td>2023-09-30 22:33:16</td>\n",
       "      <td>2023-10-01 12:59:37</td>\n",
       "      <td>SANTA CLARA COUNTY</td>\n",
       "      <td>CA</td>\n",
       "      <td>.</td>\n",
       "      <td>CLEVELAND AV</td>\n",
       "      <td>SUSPICIOUS VEHICLE</td>\n",
       "      <td>Other</td>\n",
       "      <td>Call Type: 1154   &lt;br&gt;Description: SUSPICIOUS ...</td>\n",
       "      <td>unknown</td>\n",
       "      <td>NaN</td>\n",
       "    </tr>\n",
       "  </tbody>\n",
       "</table>\n",
       "<p>4029 rows × 12 columns</p>\n",
       "</div>"
      ],
      "text/plain": [
       "               ccn                date          updateDate  \\\n",
       "334462  L223650085 2023-01-01 00:15:09 2023-01-01 09:05:06   \n",
       "334466  S223650309 2023-01-01 00:58:48 2023-01-01 09:05:06   \n",
       "174903  S230010002 2023-01-01 07:03:42 2023-01-01 17:51:40   \n",
       "174908  S230010014 2023-01-01 07:18:35 2023-01-01 17:51:41   \n",
       "174910  S230010018 2023-01-01 07:33:59 2023-01-01 17:51:40   \n",
       "...            ...                 ...                 ...   \n",
       "250423  S232710084 2023-09-28 15:13:31 2023-09-29 04:42:13   \n",
       "250427  S232710116 2023-09-28 16:38:32 2023-09-29 04:42:14   \n",
       "250382  S232720060 2023-09-29 14:29:27 2023-09-30 04:41:28   \n",
       "250349  S232730058 2023-09-30 14:49:33 2023-10-01 05:00:10   \n",
       "250334  S232730179 2023-09-30 22:33:16 2023-10-01 12:59:37   \n",
       "\n",
       "                      city state postalCode        blocksizedAddress  \\\n",
       "334462  SANTA CLARA COUNTY    CA          .       ALUM ROCK FALLS RD   \n",
       "334466  SANTA CLARA COUNTY    CA          .             POLE LINE RD   \n",
       "174903  SANTA CLARA COUNTY    CA          .                   OAK ST   \n",
       "174908  SANTA CLARA COUNTY    CA          .                TRAVIS CT   \n",
       "174910  SANTA CLARA COUNTY    CA          .           WATSONVILLE RD   \n",
       "...                    ...   ...        ...                      ...   \n",
       "250423  SANTA CLARA COUNTY    CA          .            BIG BASIN WAY   \n",
       "250427  SANTA CLARA COUNTY    CA          .  17600 Block COMANCHE TL   \n",
       "250382  SANTA CLARA COUNTY    CA          .              PROSPECT RD   \n",
       "250349  SANTA CLARA COUNTY    CA          .                ENBORG LN   \n",
       "250334  SANTA CLARA COUNTY    CA          .             CLEVELAND AV   \n",
       "\n",
       "                             incidentType parentIncidentType  \\\n",
       "334462             SERVICE OR AID REQUEST              Other   \n",
       "334466                     TRAFFIC HAZARD            Traffic   \n",
       "174903                 SUSPICIOUS VEHICLE              Other   \n",
       "174908                        DISTURBANCE    Quality of Life   \n",
       "174910                FIREARMS DISCHARGED              Other   \n",
       "...                                   ...                ...   \n",
       "250423              UNKNOWN CIRCUMSTANCES              Other   \n",
       "250427               PHONE UR OFFICE, OR:              Other   \n",
       "250382  VEHICLE ACCIDENT, PROPERTY DAMAGE            Traffic   \n",
       "250349           SUSPICIOUS CIRCUMSTANCES              Other   \n",
       "250334                 SUSPICIOUS VEHICLE              Other   \n",
       "\n",
       "                                                narrative inferredCity  \\\n",
       "334462  Call Type: SVC    <br>Description: SERVICE OR ...      unknown   \n",
       "334466  Call Type: 1125   <br>Description: TRAFFIC HAZ...      unknown   \n",
       "174903  Call Type: 1154   <br>Description: SUSPICIOUS ...      unknown   \n",
       "174908  Call Type: 415    <br>Description: DISTURBANCE...      unknown   \n",
       "174910  Call Type: 1057   <br>Description: FIREARMS DI...      unknown   \n",
       "...                                                   ...          ...   \n",
       "250423  Call Type: UNKCIR <br>Description: UNKNOWN CIR...      unknown   \n",
       "250427  Call Type: 1021   <br>Description: PHONE UR OF...      unknown   \n",
       "250382  Call Type: 1182   <br>Description: VEHICLE ACC...      unknown   \n",
       "250349  Call Type: SUSCIR <br>Description: SUSPICIOUS ...      unknown   \n",
       "250334  Call Type: 1154   <br>Description: SUSPICIOUS ...      unknown   \n",
       "\n",
       "       postcode  \n",
       "334462      NaN  \n",
       "334466      NaN  \n",
       "174903      NaN  \n",
       "174908      NaN  \n",
       "174910      NaN  \n",
       "...         ...  \n",
       "250423      NaN  \n",
       "250427      NaN  \n",
       "250382      NaN  \n",
       "250349      NaN  \n",
       "250334      NaN  \n",
       "\n",
       "[4029 rows x 12 columns]"
      ]
     },
     "execution_count": 28,
     "metadata": {},
     "output_type": "execute_result"
    }
   ],
   "source": [
    "df[df[\"inferredCity\"]==\"unknown\"]"
   ]
  }
 ],
 "metadata": {
  "kernelspec": {
   "display_name": "Python 3",
   "language": "python",
   "name": "python3"
  },
  "language_info": {
   "codemirror_mode": {
    "name": "ipython",
    "version": 3
   },
   "file_extension": ".py",
   "mimetype": "text/x-python",
   "name": "python",
   "nbconvert_exporter": "python",
   "pygments_lexer": "ipython3",
   "version": "3.10.0"
  }
 },
 "nbformat": 4,
 "nbformat_minor": 2
}
