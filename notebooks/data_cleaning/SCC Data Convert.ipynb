{
 "cells": [
  {
   "cell_type": "code",
   "execution_count": 1,
   "id": "39a99a89",
   "metadata": {},
   "outputs": [],
   "source": [
    "import pandas as pd"
   ]
  },
  {
   "cell_type": "code",
   "execution_count": 2,
   "id": "d91655c3",
   "metadata": {},
   "outputs": [],
   "source": [
    "import pickle as pickle"
   ]
  },
  {
   "cell_type": "code",
   "execution_count": 3,
   "id": "c621da13",
   "metadata": {},
   "outputs": [],
   "source": [
    "df=pd.read_pickle(\"../data/clean_data/SCCSheriff_2017_2022_inferredCity.pkl\")"
   ]
  },
  {
   "cell_type": "code",
   "execution_count": 4,
   "id": "c2fd9393",
   "metadata": {},
   "outputs": [],
   "source": [
    "df.to_csv(\"../data/clean_data/SCCSheriff_2017_2022_inferredCity.csv\")"
   ]
  },
  {
   "cell_type": "code",
   "execution_count": null,
   "id": "64fb61e7",
   "metadata": {},
   "outputs": [],
   "source": []
  }
 ],
 "metadata": {
  "kernelspec": {
   "display_name": "Python 3 (ipykernel)",
   "language": "python",
   "name": "python3"
  },
  "language_info": {
   "codemirror_mode": {
    "name": "ipython",
    "version": 3
   },
   "file_extension": ".py",
   "mimetype": "text/x-python",
   "name": "python",
   "nbconvert_exporter": "python",
   "pygments_lexer": "ipython3",
   "version": "3.10.6"
  }
 },
 "nbformat": 4,
 "nbformat_minor": 5
}
