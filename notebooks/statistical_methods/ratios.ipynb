{
 "cells": [
  {
   "cell_type": "code",
   "execution_count": 1,
   "id": "1f1c6ed6",
   "metadata": {},
   "outputs": [],
   "source": [
    "import pandas as pd\n",
    "import numpy as np"
   ]
  },
  {
   "cell_type": "code",
   "execution_count": 2,
   "id": "e65b724a",
   "metadata": {},
   "outputs": [],
   "source": [
    "import matplotlib.pyplot as plt"
   ]
  },
  {
   "cell_type": "code",
   "execution_count": 3,
   "id": "10537808",
   "metadata": {},
   "outputs": [],
   "source": [
    "df = pd.read_csv(\"test_df_2.csv\")\n",
    "# index value is in this temp csv\n",
    "df.drop(df.columns[0], axis=1, inplace=True)"
   ]
  },
  {
   "cell_type": "code",
   "execution_count": 4,
   "id": "3c5b980c",
   "metadata": {},
   "outputs": [],
   "source": [
    "df_uniq = df.drop_duplicates(\"stop_id\")"
   ]
  },
  {
   "cell_type": "code",
   "execution_count": 5,
   "id": "305b806f",
   "metadata": {},
   "outputs": [],
   "source": [
    "white = df_uniq['result'][df_uniq['race'] == \"White\"].value_counts()"
   ]
  },
  {
   "cell_type": "code",
   "execution_count": 6,
   "id": "aa7039e9",
   "metadata": {},
   "outputs": [],
   "source": [
    "black = df_uniq['result'][df_uniq['race'] == \"Black/African American\"].value_counts()"
   ]
  },
  {
   "cell_type": "code",
   "execution_count": 7,
   "id": "0e58fba6",
   "metadata": {},
   "outputs": [
    {
     "data": {
      "text/plain": [
       "Warning (verbal or written)                                                  278\n",
       "Citation for infraction                                                      252\n",
       "No Action                                                                     34\n",
       "In-field cite and release                                                      8\n",
       "Custodial Arrest without warrant                                               5\n",
       "Psychiatric hold                                                               5\n",
       "Custodial Arrest pursuant to outstanding warrant                               4\n",
       "Field interview card completed                                                 4\n",
       "Contacted parent/legal guardian or other person responsible for the minor      2\n",
       "Noncriminal transport or caretaking transport                                  1\n",
       "Name: result, dtype: int64"
      ]
     },
     "execution_count": 7,
     "metadata": {},
     "output_type": "execute_result"
    }
   ],
   "source": [
    "white"
   ]
  },
  {
   "cell_type": "code",
   "execution_count": 8,
   "id": "3e460ee4",
   "metadata": {},
   "outputs": [
    {
     "data": {
      "text/plain": [
       "Warning (verbal or written)                         34\n",
       "Citation for infraction                             10\n",
       "No Action                                            6\n",
       "Custodial Arrest without warrant                     2\n",
       "Field interview card completed                       1\n",
       "Custodial Arrest pursuant to outstanding warrant     1\n",
       "Noncriminal transport or caretaking transport        1\n",
       "In-field cite and release                            1\n",
       "Name: result, dtype: int64"
      ]
     },
     "execution_count": 8,
     "metadata": {},
     "output_type": "execute_result"
    }
   ],
   "source": [
    "black"
   ]
  },
  {
   "cell_type": "code",
   "execution_count": 9,
   "id": "e1f348b6",
   "metadata": {},
   "outputs": [],
   "source": [
    "races = df_uniq['race'].value_counts().keys()"
   ]
  },
  {
   "cell_type": "code",
   "execution_count": 10,
   "id": "0bba6e2b",
   "metadata": {},
   "outputs": [
    {
     "data": {
      "text/plain": [
       "Index(['White', 'Hispanic/Latino/a', 'Asian', 'Middle Eastern or South Asian',\n",
       "       'Black/African American', 'Pacific Islander', 'Native American'],\n",
       "      dtype='object')"
      ]
     },
     "execution_count": 10,
     "metadata": {},
     "output_type": "execute_result"
    }
   ],
   "source": [
    "races"
   ]
  },
  {
   "cell_type": "code",
   "execution_count": 11,
   "id": "e267f0ee",
   "metadata": {},
   "outputs": [
    {
     "data": {
      "text/plain": [
       "Citation for infraction                                                      25.200000\n",
       "Contacted parent/legal guardian or other person responsible for the minor          NaN\n",
       "Custodial Arrest pursuant to outstanding warrant                              4.000000\n",
       "Custodial Arrest without warrant                                              2.500000\n",
       "Field interview card completed                                                4.000000\n",
       "In-field cite and release                                                     8.000000\n",
       "No Action                                                                     5.666667\n",
       "Noncriminal transport or caretaking transport                                 1.000000\n",
       "Psychiatric hold                                                                   NaN\n",
       "Warning (verbal or written)                                                   8.176471\n",
       "Name: result, dtype: float64"
      ]
     },
     "execution_count": 11,
     "metadata": {},
     "output_type": "execute_result"
    }
   ],
   "source": [
    "white/black"
   ]
  },
  {
   "cell_type": "code",
   "execution_count": 12,
   "id": "802bcffd",
   "metadata": {},
   "outputs": [
    {
     "data": {
      "text/plain": [
       "10.589285714285714"
      ]
     },
     "execution_count": 12,
     "metadata": {},
     "output_type": "execute_result"
    }
   ],
   "source": [
    "sum(white)/sum(black)"
   ]
  },
  {
   "cell_type": "code",
   "execution_count": 13,
   "id": "87a3a0a8",
   "metadata": {},
   "outputs": [],
   "source": [
    "result_by_race = {}"
   ]
  },
  {
   "cell_type": "code",
   "execution_count": 14,
   "id": "127e2c93",
   "metadata": {},
   "outputs": [],
   "source": [
    "for race in races:\n",
    "    result_by_race[race] = df_uniq['result'][df_uniq['race'] == race].value_counts()"
   ]
  },
  {
   "cell_type": "code",
   "execution_count": 15,
   "id": "420660e5",
   "metadata": {},
   "outputs": [],
   "source": [
    "def add_races(data, races_to_add, field='result'):\n",
    "    res = pd.Series(0, data[field].value_counts().keys())\n",
    "    for race in races_to_add:\n",
    "        res = res.add(data[field][data['race'] == race].value_counts(), fill_value=0)\n",
    "    return res"
   ]
  },
  {
   "cell_type": "code",
   "execution_count": 16,
   "id": "1a413699",
   "metadata": {},
   "outputs": [],
   "source": [
    "def generate_relative_df(baseline, comparison, base_race, comparison_race):\n",
    "        temp_dict={base_race: baseline, comparison_race: comparison}\n",
    "        scaled_baseline = sum(comparison)*(baseline/sum(baseline))\n",
    "        relative = (comparison/baseline)*(sum(baseline)/sum(comparison))\n",
    "        temp_dict[\"Expected {}\".format(comparison_race)] = scaled_baseline\n",
    "        temp_dict[\"Relative\"] = relative\n",
    "        return pd.DataFrame(temp_dict)\n",
    "    "
   ]
  },
  {
   "cell_type": "code",
   "execution_count": 17,
   "id": "1ccddf46",
   "metadata": {},
   "outputs": [],
   "source": [
    "black_hispanic = add_races(df_uniq, ['Black/African American', 'Hispanic/Latino/a'])"
   ]
  },
  {
   "cell_type": "code",
   "execution_count": 18,
   "id": "f8beb03e",
   "metadata": {},
   "outputs": [
    {
     "data": {
      "text/plain": [
       "386.0"
      ]
     },
     "execution_count": 18,
     "metadata": {},
     "output_type": "execute_result"
    }
   ],
   "source": [
    "sum(black_hispanic)"
   ]
  },
  {
   "cell_type": "code",
   "execution_count": 19,
   "id": "a78a32ca",
   "metadata": {},
   "outputs": [
    {
     "data": {
      "text/plain": [
       "593"
      ]
     },
     "execution_count": 19,
     "metadata": {},
     "output_type": "execute_result"
    }
   ],
   "source": [
    "sum(white)"
   ]
  },
  {
   "cell_type": "code",
   "execution_count": 20,
   "id": "e6fcecc5",
   "metadata": {},
   "outputs": [
    {
     "data": {
      "text/plain": [
       "Citation for infraction                                                      142.0\n",
       "Contacted parent/legal guardian or other person responsible for the minor      1.0\n",
       "Custodial Arrest pursuant to outstanding warrant                               1.0\n",
       "Custodial Arrest without warrant                                               9.0\n",
       "Field interview card completed                                                 3.0\n",
       "In-field cite and release                                                     13.0\n",
       "No Action                                                                     28.0\n",
       "Noncriminal transport or caretaking transport                                  2.0\n",
       "Psychiatric hold                                                               0.0\n",
       "Warning (verbal or written)                                                  187.0\n",
       "dtype: float64"
      ]
     },
     "execution_count": 20,
     "metadata": {},
     "output_type": "execute_result"
    }
   ],
   "source": [
    "black_hispanic"
   ]
  },
  {
   "cell_type": "code",
   "execution_count": 21,
   "id": "f32890a1",
   "metadata": {},
   "outputs": [
    {
     "data": {
      "text/html": [
       "<div>\n",
       "<style scoped>\n",
       "    .dataframe tbody tr th:only-of-type {\n",
       "        vertical-align: middle;\n",
       "    }\n",
       "\n",
       "    .dataframe tbody tr th {\n",
       "        vertical-align: top;\n",
       "    }\n",
       "\n",
       "    .dataframe thead th {\n",
       "        text-align: right;\n",
       "    }\n",
       "</style>\n",
       "<table border=\"1\" class=\"dataframe\">\n",
       "  <thead>\n",
       "    <tr style=\"text-align: right;\">\n",
       "      <th></th>\n",
       "      <th>White</th>\n",
       "      <th>Black and Hispanic</th>\n",
       "      <th>Expected Black and Hispanic</th>\n",
       "      <th>Relative</th>\n",
       "    </tr>\n",
       "  </thead>\n",
       "  <tbody>\n",
       "    <tr>\n",
       "      <th>Citation for infraction</th>\n",
       "      <td>252</td>\n",
       "      <td>142.0</td>\n",
       "      <td>164.033727</td>\n",
       "      <td>0.865676</td>\n",
       "    </tr>\n",
       "    <tr>\n",
       "      <th>Contacted parent/legal guardian or other person responsible for the minor</th>\n",
       "      <td>2</td>\n",
       "      <td>1.0</td>\n",
       "      <td>1.301855</td>\n",
       "      <td>0.768135</td>\n",
       "    </tr>\n",
       "    <tr>\n",
       "      <th>Custodial Arrest pursuant to outstanding warrant</th>\n",
       "      <td>4</td>\n",
       "      <td>1.0</td>\n",
       "      <td>2.603710</td>\n",
       "      <td>0.384067</td>\n",
       "    </tr>\n",
       "    <tr>\n",
       "      <th>Custodial Arrest without warrant</th>\n",
       "      <td>5</td>\n",
       "      <td>9.0</td>\n",
       "      <td>3.254637</td>\n",
       "      <td>2.765285</td>\n",
       "    </tr>\n",
       "    <tr>\n",
       "      <th>Field interview card completed</th>\n",
       "      <td>4</td>\n",
       "      <td>3.0</td>\n",
       "      <td>2.603710</td>\n",
       "      <td>1.152202</td>\n",
       "    </tr>\n",
       "    <tr>\n",
       "      <th>In-field cite and release</th>\n",
       "      <td>8</td>\n",
       "      <td>13.0</td>\n",
       "      <td>5.207420</td>\n",
       "      <td>2.496438</td>\n",
       "    </tr>\n",
       "    <tr>\n",
       "      <th>No Action</th>\n",
       "      <td>34</td>\n",
       "      <td>28.0</td>\n",
       "      <td>22.131535</td>\n",
       "      <td>1.265163</td>\n",
       "    </tr>\n",
       "    <tr>\n",
       "      <th>Noncriminal transport or caretaking transport</th>\n",
       "      <td>1</td>\n",
       "      <td>2.0</td>\n",
       "      <td>0.650927</td>\n",
       "      <td>3.072539</td>\n",
       "    </tr>\n",
       "    <tr>\n",
       "      <th>Psychiatric hold</th>\n",
       "      <td>5</td>\n",
       "      <td>0.0</td>\n",
       "      <td>3.254637</td>\n",
       "      <td>0.000000</td>\n",
       "    </tr>\n",
       "    <tr>\n",
       "      <th>Warning (verbal or written)</th>\n",
       "      <td>278</td>\n",
       "      <td>187.0</td>\n",
       "      <td>180.957841</td>\n",
       "      <td>1.033390</td>\n",
       "    </tr>\n",
       "  </tbody>\n",
       "</table>\n",
       "</div>"
      ],
      "text/plain": [
       "                                                    White  Black and Hispanic  \\\n",
       "Citation for infraction                               252               142.0   \n",
       "Contacted parent/legal guardian or other person...      2                 1.0   \n",
       "Custodial Arrest pursuant to outstanding warrant        4                 1.0   \n",
       "Custodial Arrest without warrant                        5                 9.0   \n",
       "Field interview card completed                          4                 3.0   \n",
       "In-field cite and release                               8                13.0   \n",
       "No Action                                              34                28.0   \n",
       "Noncriminal transport or caretaking transport           1                 2.0   \n",
       "Psychiatric hold                                        5                 0.0   \n",
       "Warning (verbal or written)                           278               187.0   \n",
       "\n",
       "                                                    Expected Black and Hispanic  \\\n",
       "Citation for infraction                                              164.033727   \n",
       "Contacted parent/legal guardian or other person...                     1.301855   \n",
       "Custodial Arrest pursuant to outstanding warrant                       2.603710   \n",
       "Custodial Arrest without warrant                                       3.254637   \n",
       "Field interview card completed                                         2.603710   \n",
       "In-field cite and release                                              5.207420   \n",
       "No Action                                                             22.131535   \n",
       "Noncriminal transport or caretaking transport                          0.650927   \n",
       "Psychiatric hold                                                       3.254637   \n",
       "Warning (verbal or written)                                          180.957841   \n",
       "\n",
       "                                                    Relative  \n",
       "Citation for infraction                             0.865676  \n",
       "Contacted parent/legal guardian or other person...  0.768135  \n",
       "Custodial Arrest pursuant to outstanding warrant    0.384067  \n",
       "Custodial Arrest without warrant                    2.765285  \n",
       "Field interview card completed                      1.152202  \n",
       "In-field cite and release                           2.496438  \n",
       "No Action                                           1.265163  \n",
       "Noncriminal transport or caretaking transport       3.072539  \n",
       "Psychiatric hold                                    0.000000  \n",
       "Warning (verbal or written)                         1.033390  "
      ]
     },
     "execution_count": 21,
     "metadata": {},
     "output_type": "execute_result"
    }
   ],
   "source": [
    "generate_relative_df(white, black_hispanic, \"White\", \"Black and Hispanic\")"
   ]
  },
  {
   "cell_type": "code",
   "execution_count": 22,
   "id": "fa7bac20",
   "metadata": {},
   "outputs": [],
   "source": [
    "poc = add_races(df_uniq, [x for x in races if x != \"White\"])"
   ]
  },
  {
   "cell_type": "code",
   "execution_count": 23,
   "id": "6470acfa",
   "metadata": {},
   "outputs": [
    {
     "data": {
      "text/html": [
       "<div>\n",
       "<style scoped>\n",
       "    .dataframe tbody tr th:only-of-type {\n",
       "        vertical-align: middle;\n",
       "    }\n",
       "\n",
       "    .dataframe tbody tr th {\n",
       "        vertical-align: top;\n",
       "    }\n",
       "\n",
       "    .dataframe thead th {\n",
       "        text-align: right;\n",
       "    }\n",
       "</style>\n",
       "<table border=\"1\" class=\"dataframe\">\n",
       "  <thead>\n",
       "    <tr style=\"text-align: right;\">\n",
       "      <th></th>\n",
       "      <th>White</th>\n",
       "      <th>POC</th>\n",
       "      <th>Expected POC</th>\n",
       "      <th>Relative</th>\n",
       "    </tr>\n",
       "  </thead>\n",
       "  <tbody>\n",
       "    <tr>\n",
       "      <th>Citation for infraction</th>\n",
       "      <td>252</td>\n",
       "      <td>359.0</td>\n",
       "      <td>353.564924</td>\n",
       "      <td>1.015372</td>\n",
       "    </tr>\n",
       "    <tr>\n",
       "      <th>Contacted parent/legal guardian or other person responsible for the minor</th>\n",
       "      <td>2</td>\n",
       "      <td>2.0</td>\n",
       "      <td>2.806071</td>\n",
       "      <td>0.712740</td>\n",
       "    </tr>\n",
       "    <tr>\n",
       "      <th>Custodial Arrest pursuant to outstanding warrant</th>\n",
       "      <td>4</td>\n",
       "      <td>2.0</td>\n",
       "      <td>5.612142</td>\n",
       "      <td>0.356370</td>\n",
       "    </tr>\n",
       "    <tr>\n",
       "      <th>Custodial Arrest without warrant</th>\n",
       "      <td>5</td>\n",
       "      <td>14.0</td>\n",
       "      <td>7.015177</td>\n",
       "      <td>1.995673</td>\n",
       "    </tr>\n",
       "    <tr>\n",
       "      <th>Field interview card completed</th>\n",
       "      <td>4</td>\n",
       "      <td>3.0</td>\n",
       "      <td>5.612142</td>\n",
       "      <td>0.534555</td>\n",
       "    </tr>\n",
       "    <tr>\n",
       "      <th>In-field cite and release</th>\n",
       "      <td>8</td>\n",
       "      <td>20.0</td>\n",
       "      <td>11.224283</td>\n",
       "      <td>1.781851</td>\n",
       "    </tr>\n",
       "    <tr>\n",
       "      <th>No Action</th>\n",
       "      <td>34</td>\n",
       "      <td>46.0</td>\n",
       "      <td>47.703204</td>\n",
       "      <td>0.964296</td>\n",
       "    </tr>\n",
       "    <tr>\n",
       "      <th>Noncriminal transport or caretaking transport</th>\n",
       "      <td>1</td>\n",
       "      <td>2.0</td>\n",
       "      <td>1.403035</td>\n",
       "      <td>1.425481</td>\n",
       "    </tr>\n",
       "    <tr>\n",
       "      <th>Psychiatric hold</th>\n",
       "      <td>5</td>\n",
       "      <td>0.0</td>\n",
       "      <td>7.015177</td>\n",
       "      <td>0.000000</td>\n",
       "    </tr>\n",
       "    <tr>\n",
       "      <th>Warning (verbal or written)</th>\n",
       "      <td>278</td>\n",
       "      <td>384.0</td>\n",
       "      <td>390.043845</td>\n",
       "      <td>0.984505</td>\n",
       "    </tr>\n",
       "  </tbody>\n",
       "</table>\n",
       "</div>"
      ],
      "text/plain": [
       "                                                    White    POC  \\\n",
       "Citation for infraction                               252  359.0   \n",
       "Contacted parent/legal guardian or other person...      2    2.0   \n",
       "Custodial Arrest pursuant to outstanding warrant        4    2.0   \n",
       "Custodial Arrest without warrant                        5   14.0   \n",
       "Field interview card completed                          4    3.0   \n",
       "In-field cite and release                               8   20.0   \n",
       "No Action                                              34   46.0   \n",
       "Noncriminal transport or caretaking transport           1    2.0   \n",
       "Psychiatric hold                                        5    0.0   \n",
       "Warning (verbal or written)                           278  384.0   \n",
       "\n",
       "                                                    Expected POC  Relative  \n",
       "Citation for infraction                               353.564924  1.015372  \n",
       "Contacted parent/legal guardian or other person...      2.806071  0.712740  \n",
       "Custodial Arrest pursuant to outstanding warrant        5.612142  0.356370  \n",
       "Custodial Arrest without warrant                        7.015177  1.995673  \n",
       "Field interview card completed                          5.612142  0.534555  \n",
       "In-field cite and release                              11.224283  1.781851  \n",
       "No Action                                              47.703204  0.964296  \n",
       "Noncriminal transport or caretaking transport           1.403035  1.425481  \n",
       "Psychiatric hold                                        7.015177  0.000000  \n",
       "Warning (verbal or written)                           390.043845  0.984505  "
      ]
     },
     "execution_count": 23,
     "metadata": {},
     "output_type": "execute_result"
    }
   ],
   "source": [
    "generate_relative_df(white, poc, \"White\", \"POC\")"
   ]
  },
  {
   "cell_type": "code",
   "execution_count": 24,
   "id": "89c59de2",
   "metadata": {},
   "outputs": [],
   "source": [
    "non_priv = add_races(df_uniq, [x for x in races if (x != \"White\" and x != \"Asian\")])"
   ]
  },
  {
   "cell_type": "code",
   "execution_count": 25,
   "id": "682b91b5",
   "metadata": {},
   "outputs": [
    {
     "data": {
      "text/html": [
       "<div>\n",
       "<style scoped>\n",
       "    .dataframe tbody tr th:only-of-type {\n",
       "        vertical-align: middle;\n",
       "    }\n",
       "\n",
       "    .dataframe tbody tr th {\n",
       "        vertical-align: top;\n",
       "    }\n",
       "\n",
       "    .dataframe thead th {\n",
       "        text-align: right;\n",
       "    }\n",
       "</style>\n",
       "<table border=\"1\" class=\"dataframe\">\n",
       "  <thead>\n",
       "    <tr style=\"text-align: right;\">\n",
       "      <th></th>\n",
       "      <th>White</th>\n",
       "      <th>Non-Privileged</th>\n",
       "      <th>Expected Non-Privileged</th>\n",
       "      <th>Relative</th>\n",
       "    </tr>\n",
       "  </thead>\n",
       "  <tbody>\n",
       "    <tr>\n",
       "      <th>Citation for infraction</th>\n",
       "      <td>252</td>\n",
       "      <td>238.0</td>\n",
       "      <td>251.150084</td>\n",
       "      <td>0.947641</td>\n",
       "    </tr>\n",
       "    <tr>\n",
       "      <th>Contacted parent/legal guardian or other person responsible for the minor</th>\n",
       "      <td>2</td>\n",
       "      <td>2.0</td>\n",
       "      <td>1.993255</td>\n",
       "      <td>1.003384</td>\n",
       "    </tr>\n",
       "    <tr>\n",
       "      <th>Custodial Arrest pursuant to outstanding warrant</th>\n",
       "      <td>4</td>\n",
       "      <td>2.0</td>\n",
       "      <td>3.986509</td>\n",
       "      <td>0.501692</td>\n",
       "    </tr>\n",
       "    <tr>\n",
       "      <th>Custodial Arrest without warrant</th>\n",
       "      <td>5</td>\n",
       "      <td>14.0</td>\n",
       "      <td>4.983137</td>\n",
       "      <td>2.809475</td>\n",
       "    </tr>\n",
       "    <tr>\n",
       "      <th>Field interview card completed</th>\n",
       "      <td>4</td>\n",
       "      <td>3.0</td>\n",
       "      <td>3.986509</td>\n",
       "      <td>0.752538</td>\n",
       "    </tr>\n",
       "    <tr>\n",
       "      <th>In-field cite and release</th>\n",
       "      <td>8</td>\n",
       "      <td>17.0</td>\n",
       "      <td>7.973019</td>\n",
       "      <td>2.132191</td>\n",
       "    </tr>\n",
       "    <tr>\n",
       "      <th>No Action</th>\n",
       "      <td>34</td>\n",
       "      <td>35.0</td>\n",
       "      <td>33.885329</td>\n",
       "      <td>1.032895</td>\n",
       "    </tr>\n",
       "    <tr>\n",
       "      <th>Noncriminal transport or caretaking transport</th>\n",
       "      <td>1</td>\n",
       "      <td>2.0</td>\n",
       "      <td>0.996627</td>\n",
       "      <td>2.006768</td>\n",
       "    </tr>\n",
       "    <tr>\n",
       "      <th>Psychiatric hold</th>\n",
       "      <td>5</td>\n",
       "      <td>0.0</td>\n",
       "      <td>4.983137</td>\n",
       "      <td>0.000000</td>\n",
       "    </tr>\n",
       "    <tr>\n",
       "      <th>Warning (verbal or written)</th>\n",
       "      <td>278</td>\n",
       "      <td>278.0</td>\n",
       "      <td>277.062395</td>\n",
       "      <td>1.003384</td>\n",
       "    </tr>\n",
       "  </tbody>\n",
       "</table>\n",
       "</div>"
      ],
      "text/plain": [
       "                                                    White  Non-Privileged  \\\n",
       "Citation for infraction                               252           238.0   \n",
       "Contacted parent/legal guardian or other person...      2             2.0   \n",
       "Custodial Arrest pursuant to outstanding warrant        4             2.0   \n",
       "Custodial Arrest without warrant                        5            14.0   \n",
       "Field interview card completed                          4             3.0   \n",
       "In-field cite and release                               8            17.0   \n",
       "No Action                                              34            35.0   \n",
       "Noncriminal transport or caretaking transport           1             2.0   \n",
       "Psychiatric hold                                        5             0.0   \n",
       "Warning (verbal or written)                           278           278.0   \n",
       "\n",
       "                                                    Expected Non-Privileged  \\\n",
       "Citation for infraction                                          251.150084   \n",
       "Contacted parent/legal guardian or other person...                 1.993255   \n",
       "Custodial Arrest pursuant to outstanding warrant                   3.986509   \n",
       "Custodial Arrest without warrant                                   4.983137   \n",
       "Field interview card completed                                     3.986509   \n",
       "In-field cite and release                                          7.973019   \n",
       "No Action                                                         33.885329   \n",
       "Noncriminal transport or caretaking transport                      0.996627   \n",
       "Psychiatric hold                                                   4.983137   \n",
       "Warning (verbal or written)                                      277.062395   \n",
       "\n",
       "                                                    Relative  \n",
       "Citation for infraction                             0.947641  \n",
       "Contacted parent/legal guardian or other person...  1.003384  \n",
       "Custodial Arrest pursuant to outstanding warrant    0.501692  \n",
       "Custodial Arrest without warrant                    2.809475  \n",
       "Field interview card completed                      0.752538  \n",
       "In-field cite and release                           2.132191  \n",
       "No Action                                           1.032895  \n",
       "Noncriminal transport or caretaking transport       2.006768  \n",
       "Psychiatric hold                                    0.000000  \n",
       "Warning (verbal or written)                         1.003384  "
      ]
     },
     "execution_count": 25,
     "metadata": {},
     "output_type": "execute_result"
    }
   ],
   "source": [
    "generate_relative_df(white, non_priv, \"White\", \"Non-Privileged\")"
   ]
  },
  {
   "cell_type": "code",
   "execution_count": 26,
   "id": "d80f767f",
   "metadata": {},
   "outputs": [
    {
     "data": {
      "text/plain": [
       "Index(['stop_id', 'date_time', 'duration', 'call_for_service', 'location',\n",
       "       'actions_taken', 'Person Search Consent Given',\n",
       "       'Property Search Consent Given', 'basis_for_search', 'reason_for_stop',\n",
       "       'result', 'limited_english', 'age', 'gender', 'Gender Nonconforming',\n",
       "       'lgbt', 'race', 'disabilities', 'evidence_found'],\n",
       "      dtype='object')"
      ]
     },
     "execution_count": 26,
     "metadata": {},
     "output_type": "execute_result"
    }
   ],
   "source": [
    "df_uniq.keys()"
   ]
  },
  {
   "cell_type": "code",
   "execution_count": 27,
   "id": "fdff34fa",
   "metadata": {},
   "outputs": [
    {
     "data": {
      "text/plain": [
       "Traffic Violation                                                   1354\n",
       "Reasonable Suspicion                                                  50\n",
       "Consensual Encounter resulting in a search                             8\n",
       "Investigation to determine whether the person was truant               8\n",
       "Known to be on Parole / Probation / PRCS / Mandatory Supervision       3\n",
       "Knowledge of outstanding arrest warrant/wanted person                  2\n",
       "Name: reason_for_stop, dtype: int64"
      ]
     },
     "execution_count": 27,
     "metadata": {},
     "output_type": "execute_result"
    }
   ],
   "source": [
    "df_uniq['reason_for_stop'].value_counts()"
   ]
  },
  {
   "cell_type": "code",
   "execution_count": 29,
   "id": "8c4077d9",
   "metadata": {},
   "outputs": [
    {
     "data": {
      "text/html": [
       "<div>\n",
       "<style scoped>\n",
       "    .dataframe tbody tr th:only-of-type {\n",
       "        vertical-align: middle;\n",
       "    }\n",
       "\n",
       "    .dataframe tbody tr th {\n",
       "        vertical-align: top;\n",
       "    }\n",
       "\n",
       "    .dataframe thead th {\n",
       "        text-align: right;\n",
       "    }\n",
       "</style>\n",
       "<table border=\"1\" class=\"dataframe\">\n",
       "  <thead>\n",
       "    <tr style=\"text-align: right;\">\n",
       "      <th></th>\n",
       "      <th>White</th>\n",
       "      <th>Black and Hispanic</th>\n",
       "      <th>Expected Black and Hispanic</th>\n",
       "      <th>Relative</th>\n",
       "    </tr>\n",
       "  </thead>\n",
       "  <tbody>\n",
       "    <tr>\n",
       "      <th>Citation for infraction</th>\n",
       "      <td>252</td>\n",
       "      <td>142.0</td>\n",
       "      <td>164.033727</td>\n",
       "      <td>0.865676</td>\n",
       "    </tr>\n",
       "    <tr>\n",
       "      <th>Contacted parent/legal guardian or other person responsible for the minor</th>\n",
       "      <td>2</td>\n",
       "      <td>1.0</td>\n",
       "      <td>1.301855</td>\n",
       "      <td>0.768135</td>\n",
       "    </tr>\n",
       "    <tr>\n",
       "      <th>Custodial Arrest pursuant to outstanding warrant</th>\n",
       "      <td>4</td>\n",
       "      <td>1.0</td>\n",
       "      <td>2.603710</td>\n",
       "      <td>0.384067</td>\n",
       "    </tr>\n",
       "    <tr>\n",
       "      <th>Custodial Arrest without warrant</th>\n",
       "      <td>5</td>\n",
       "      <td>9.0</td>\n",
       "      <td>3.254637</td>\n",
       "      <td>2.765285</td>\n",
       "    </tr>\n",
       "    <tr>\n",
       "      <th>Field interview card completed</th>\n",
       "      <td>4</td>\n",
       "      <td>3.0</td>\n",
       "      <td>2.603710</td>\n",
       "      <td>1.152202</td>\n",
       "    </tr>\n",
       "    <tr>\n",
       "      <th>In-field cite and release</th>\n",
       "      <td>8</td>\n",
       "      <td>13.0</td>\n",
       "      <td>5.207420</td>\n",
       "      <td>2.496438</td>\n",
       "    </tr>\n",
       "    <tr>\n",
       "      <th>No Action</th>\n",
       "      <td>34</td>\n",
       "      <td>28.0</td>\n",
       "      <td>22.131535</td>\n",
       "      <td>1.265163</td>\n",
       "    </tr>\n",
       "    <tr>\n",
       "      <th>Noncriminal transport or caretaking transport</th>\n",
       "      <td>1</td>\n",
       "      <td>2.0</td>\n",
       "      <td>0.650927</td>\n",
       "      <td>3.072539</td>\n",
       "    </tr>\n",
       "    <tr>\n",
       "      <th>Psychiatric hold</th>\n",
       "      <td>5</td>\n",
       "      <td>0.0</td>\n",
       "      <td>3.254637</td>\n",
       "      <td>0.000000</td>\n",
       "    </tr>\n",
       "    <tr>\n",
       "      <th>Warning (verbal or written)</th>\n",
       "      <td>278</td>\n",
       "      <td>187.0</td>\n",
       "      <td>180.957841</td>\n",
       "      <td>1.033390</td>\n",
       "    </tr>\n",
       "  </tbody>\n",
       "</table>\n",
       "</div>"
      ],
      "text/plain": [
       "                                                    White  Black and Hispanic  \\\n",
       "Citation for infraction                               252               142.0   \n",
       "Contacted parent/legal guardian or other person...      2                 1.0   \n",
       "Custodial Arrest pursuant to outstanding warrant        4                 1.0   \n",
       "Custodial Arrest without warrant                        5                 9.0   \n",
       "Field interview card completed                          4                 3.0   \n",
       "In-field cite and release                               8                13.0   \n",
       "No Action                                              34                28.0   \n",
       "Noncriminal transport or caretaking transport           1                 2.0   \n",
       "Psychiatric hold                                        5                 0.0   \n",
       "Warning (verbal or written)                           278               187.0   \n",
       "\n",
       "                                                    Expected Black and Hispanic  \\\n",
       "Citation for infraction                                              164.033727   \n",
       "Contacted parent/legal guardian or other person...                     1.301855   \n",
       "Custodial Arrest pursuant to outstanding warrant                       2.603710   \n",
       "Custodial Arrest without warrant                                       3.254637   \n",
       "Field interview card completed                                         2.603710   \n",
       "In-field cite and release                                              5.207420   \n",
       "No Action                                                             22.131535   \n",
       "Noncriminal transport or caretaking transport                          0.650927   \n",
       "Psychiatric hold                                                       3.254637   \n",
       "Warning (verbal or written)                                          180.957841   \n",
       "\n",
       "                                                    Relative  \n",
       "Citation for infraction                             0.865676  \n",
       "Contacted parent/legal guardian or other person...  0.768135  \n",
       "Custodial Arrest pursuant to outstanding warrant    0.384067  \n",
       "Custodial Arrest without warrant                    2.765285  \n",
       "Field interview card completed                      1.152202  \n",
       "In-field cite and release                           2.496438  \n",
       "No Action                                           1.265163  \n",
       "Noncriminal transport or caretaking transport       3.072539  \n",
       "Psychiatric hold                                    0.000000  \n",
       "Warning (verbal or written)                         1.033390  "
      ]
     },
     "execution_count": 29,
     "metadata": {},
     "output_type": "execute_result"
    }
   ],
   "source": [
    "generate_relative_df(white, black_hispanic, \"White\", \"Black and Hispanic\")"
   ]
  },
  {
   "cell_type": "code",
   "execution_count": 30,
   "id": "2fc64707",
   "metadata": {},
   "outputs": [],
   "source": [
    "black_hispanic_rfs = add_races(df_uniq, ['Black/African American', 'Hispanic/Latino/a'], field='reason_for_stop')"
   ]
  },
  {
   "cell_type": "code",
   "execution_count": 31,
   "id": "00a569a9",
   "metadata": {},
   "outputs": [],
   "source": [
    "white_rfs = df_uniq['reason_for_stop'][df_uniq['race'] == \"White\"].value_counts()"
   ]
  },
  {
   "cell_type": "code",
   "execution_count": 32,
   "id": "c9404f1e",
   "metadata": {},
   "outputs": [
    {
     "data": {
      "text/html": [
       "<div>\n",
       "<style scoped>\n",
       "    .dataframe tbody tr th:only-of-type {\n",
       "        vertical-align: middle;\n",
       "    }\n",
       "\n",
       "    .dataframe tbody tr th {\n",
       "        vertical-align: top;\n",
       "    }\n",
       "\n",
       "    .dataframe thead th {\n",
       "        text-align: right;\n",
       "    }\n",
       "</style>\n",
       "<table border=\"1\" class=\"dataframe\">\n",
       "  <thead>\n",
       "    <tr style=\"text-align: right;\">\n",
       "      <th></th>\n",
       "      <th>White</th>\n",
       "      <th>Black and Hispanic</th>\n",
       "      <th>Expected Black and Hispanic</th>\n",
       "      <th>Relative</th>\n",
       "    </tr>\n",
       "  </thead>\n",
       "  <tbody>\n",
       "    <tr>\n",
       "      <th>Consensual Encounter resulting in a search</th>\n",
       "      <td>3</td>\n",
       "      <td>4.0</td>\n",
       "      <td>1.952782</td>\n",
       "      <td>2.048359</td>\n",
       "    </tr>\n",
       "    <tr>\n",
       "      <th>Investigation to determine whether the person was truant</th>\n",
       "      <td>2</td>\n",
       "      <td>4.0</td>\n",
       "      <td>1.301855</td>\n",
       "      <td>3.072539</td>\n",
       "    </tr>\n",
       "    <tr>\n",
       "      <th>Knowledge of outstanding arrest warrant/wanted person</th>\n",
       "      <td>1</td>\n",
       "      <td>1.0</td>\n",
       "      <td>0.650927</td>\n",
       "      <td>1.536269</td>\n",
       "    </tr>\n",
       "    <tr>\n",
       "      <th>Known to be on Parole / Probation / PRCS / Mandatory Supervision</th>\n",
       "      <td>1</td>\n",
       "      <td>2.0</td>\n",
       "      <td>0.650927</td>\n",
       "      <td>3.072539</td>\n",
       "    </tr>\n",
       "    <tr>\n",
       "      <th>Reasonable Suspicion</th>\n",
       "      <td>24</td>\n",
       "      <td>13.0</td>\n",
       "      <td>15.622260</td>\n",
       "      <td>0.832146</td>\n",
       "    </tr>\n",
       "    <tr>\n",
       "      <th>Traffic Violation</th>\n",
       "      <td>562</td>\n",
       "      <td>362.0</td>\n",
       "      <td>365.821248</td>\n",
       "      <td>0.989554</td>\n",
       "    </tr>\n",
       "  </tbody>\n",
       "</table>\n",
       "</div>"
      ],
      "text/plain": [
       "                                                    White  Black and Hispanic  \\\n",
       "Consensual Encounter resulting in a search              3                 4.0   \n",
       "Investigation to determine whether the person w...      2                 4.0   \n",
       "Knowledge of outstanding arrest warrant/wanted ...      1                 1.0   \n",
       "Known to be on Parole / Probation / PRCS / Mand...      1                 2.0   \n",
       "Reasonable Suspicion                                   24                13.0   \n",
       "Traffic Violation                                     562               362.0   \n",
       "\n",
       "                                                    Expected Black and Hispanic  \\\n",
       "Consensual Encounter resulting in a search                             1.952782   \n",
       "Investigation to determine whether the person w...                     1.301855   \n",
       "Knowledge of outstanding arrest warrant/wanted ...                     0.650927   \n",
       "Known to be on Parole / Probation / PRCS / Mand...                     0.650927   \n",
       "Reasonable Suspicion                                                  15.622260   \n",
       "Traffic Violation                                                    365.821248   \n",
       "\n",
       "                                                    Relative  \n",
       "Consensual Encounter resulting in a search          2.048359  \n",
       "Investigation to determine whether the person w...  3.072539  \n",
       "Knowledge of outstanding arrest warrant/wanted ...  1.536269  \n",
       "Known to be on Parole / Probation / PRCS / Mand...  3.072539  \n",
       "Reasonable Suspicion                                0.832146  \n",
       "Traffic Violation                                   0.989554  "
      ]
     },
     "execution_count": 32,
     "metadata": {},
     "output_type": "execute_result"
    }
   ],
   "source": [
    "generate_relative_df(white_rfs, black_hispanic_rfs, \"White\", \"Black and Hispanic\")"
   ]
  },
  {
   "cell_type": "code",
   "execution_count": 33,
   "id": "f78f79e5",
   "metadata": {},
   "outputs": [
    {
     "data": {
      "text/plain": [
       "No Search                                                        1353\n",
       "Condition of parole / probation/ PRCS / mandatory supervision      26\n",
       "Incident to arrest                                                 19\n",
       "Consent given                                                      13\n",
       "Officer Safety/safety of others                                    11\n",
       "Evidence of crime                                                   2\n",
       "Odor of contraband                                                  1\n",
       "Name: basis_for_search, dtype: int64"
      ]
     },
     "execution_count": 33,
     "metadata": {},
     "output_type": "execute_result"
    }
   ],
   "source": [
    "df_uniq[\"basis_for_search\"].value_counts()"
   ]
  },
  {
   "cell_type": "code",
   "execution_count": 34,
   "id": "ad2423c7",
   "metadata": {},
   "outputs": [],
   "source": [
    "white_bfs = df_uniq['basis_for_search'][df_uniq['race'] == \"White\"].value_counts()"
   ]
  },
  {
   "cell_type": "code",
   "execution_count": 35,
   "id": "cb2e999b",
   "metadata": {},
   "outputs": [],
   "source": [
    "black_hispanic_bfs = add_races(df_uniq, ['Black/African American', 'Hispanic/Latino/a'], field='basis_for_search')"
   ]
  },
  {
   "cell_type": "code",
   "execution_count": 36,
   "id": "8f78b860",
   "metadata": {},
   "outputs": [
    {
     "data": {
      "text/html": [
       "<div>\n",
       "<style scoped>\n",
       "    .dataframe tbody tr th:only-of-type {\n",
       "        vertical-align: middle;\n",
       "    }\n",
       "\n",
       "    .dataframe tbody tr th {\n",
       "        vertical-align: top;\n",
       "    }\n",
       "\n",
       "    .dataframe thead th {\n",
       "        text-align: right;\n",
       "    }\n",
       "</style>\n",
       "<table border=\"1\" class=\"dataframe\">\n",
       "  <thead>\n",
       "    <tr style=\"text-align: right;\">\n",
       "      <th></th>\n",
       "      <th>White</th>\n",
       "      <th>Black and Hispanic</th>\n",
       "      <th>Expected Black and Hispanic</th>\n",
       "      <th>Relative</th>\n",
       "    </tr>\n",
       "  </thead>\n",
       "  <tbody>\n",
       "    <tr>\n",
       "      <th>Condition of parole / probation/ PRCS / mandatory supervision</th>\n",
       "      <td>8.0</td>\n",
       "      <td>14.0</td>\n",
       "      <td>5.207420</td>\n",
       "      <td>2.688472</td>\n",
       "    </tr>\n",
       "    <tr>\n",
       "      <th>Consent given</th>\n",
       "      <td>4.0</td>\n",
       "      <td>5.0</td>\n",
       "      <td>2.603710</td>\n",
       "      <td>1.920337</td>\n",
       "    </tr>\n",
       "    <tr>\n",
       "      <th>Evidence of crime</th>\n",
       "      <td>1.0</td>\n",
       "      <td>1.0</td>\n",
       "      <td>0.650927</td>\n",
       "      <td>1.536269</td>\n",
       "    </tr>\n",
       "    <tr>\n",
       "      <th>Incident to arrest</th>\n",
       "      <td>7.0</td>\n",
       "      <td>6.0</td>\n",
       "      <td>4.556492</td>\n",
       "      <td>1.316802</td>\n",
       "    </tr>\n",
       "    <tr>\n",
       "      <th>No Search</th>\n",
       "      <td>569.0</td>\n",
       "      <td>355.0</td>\n",
       "      <td>370.377740</td>\n",
       "      <td>0.958481</td>\n",
       "    </tr>\n",
       "    <tr>\n",
       "      <th>Odor of contraband</th>\n",
       "      <td>NaN</td>\n",
       "      <td>0.0</td>\n",
       "      <td>NaN</td>\n",
       "      <td>NaN</td>\n",
       "    </tr>\n",
       "    <tr>\n",
       "      <th>Officer Safety/safety of others</th>\n",
       "      <td>4.0</td>\n",
       "      <td>5.0</td>\n",
       "      <td>2.603710</td>\n",
       "      <td>1.920337</td>\n",
       "    </tr>\n",
       "  </tbody>\n",
       "</table>\n",
       "</div>"
      ],
      "text/plain": [
       "                                                    White  Black and Hispanic  \\\n",
       "Condition of parole / probation/ PRCS / mandato...    8.0                14.0   \n",
       "Consent given                                         4.0                 5.0   \n",
       "Evidence of crime                                     1.0                 1.0   \n",
       "Incident to arrest                                    7.0                 6.0   \n",
       "No Search                                           569.0               355.0   \n",
       "Odor of contraband                                    NaN                 0.0   \n",
       "Officer Safety/safety of others                       4.0                 5.0   \n",
       "\n",
       "                                                    Expected Black and Hispanic  \\\n",
       "Condition of parole / probation/ PRCS / mandato...                     5.207420   \n",
       "Consent given                                                          2.603710   \n",
       "Evidence of crime                                                      0.650927   \n",
       "Incident to arrest                                                     4.556492   \n",
       "No Search                                                            370.377740   \n",
       "Odor of contraband                                                          NaN   \n",
       "Officer Safety/safety of others                                        2.603710   \n",
       "\n",
       "                                                    Relative  \n",
       "Condition of parole / probation/ PRCS / mandato...  2.688472  \n",
       "Consent given                                       1.920337  \n",
       "Evidence of crime                                   1.536269  \n",
       "Incident to arrest                                  1.316802  \n",
       "No Search                                           0.958481  \n",
       "Odor of contraband                                       NaN  \n",
       "Officer Safety/safety of others                     1.920337  "
      ]
     },
     "execution_count": 36,
     "metadata": {},
     "output_type": "execute_result"
    }
   ],
   "source": [
    "generate_relative_df(white_bfs, black_hispanic_bfs, \"White\", \"Black and Hispanic\")"
   ]
  },
  {
   "cell_type": "code",
   "execution_count": 37,
   "id": "0d0b6fa6",
   "metadata": {},
   "outputs": [
    {
     "data": {
      "text/plain": [
       "['pie', 'pie', 'pie', 'pie', 'pie', 'cake', 'cake', 'cake']"
      ]
     },
     "execution_count": 37,
     "metadata": {},
     "output_type": "execute_result"
    }
   ],
   "source": [
    "5*[\"pie\"] + 3*['cake']"
   ]
  },
  {
   "cell_type": "code",
   "execution_count": 38,
   "id": "7127d00a",
   "metadata": {},
   "outputs": [],
   "source": [
    "green_dict = {\"stop_id\": [x for x in range(20)],\n",
    "             \"race\": ['green']*20,\n",
    "             \"dessert\": 5*[\"pie\"]+5*[\"ice cream\"]+5*[\"cake\"]+5*[\"beer\"]}\n",
    "blue_dict = {\"stop_id\": [20+x for x in range(20)],\n",
    "             \"race\": ['blue']*20,\n",
    "             \"dessert\": 10*[\"pie\"]+2*[\"ice cream\"]+2*[\"cake\"]+6*[\"beer\"]}\n"
   ]
  },
  {
   "cell_type": "code",
   "execution_count": 39,
   "id": "fea830d5",
   "metadata": {},
   "outputs": [],
   "source": [
    "green = add_races(pd.DataFrame(green_dict), [\"green\"], field=\"dessert\")"
   ]
  },
  {
   "cell_type": "code",
   "execution_count": 40,
   "id": "40587c7f",
   "metadata": {},
   "outputs": [],
   "source": [
    "blue = add_races(pd.DataFrame(blue_dict), [\"blue\"], field=\"dessert\")"
   ]
  },
  {
   "cell_type": "code",
   "execution_count": 41,
   "id": "6a4a79b3",
   "metadata": {},
   "outputs": [
    {
     "data": {
      "text/html": [
       "<div>\n",
       "<style scoped>\n",
       "    .dataframe tbody tr th:only-of-type {\n",
       "        vertical-align: middle;\n",
       "    }\n",
       "\n",
       "    .dataframe tbody tr th {\n",
       "        vertical-align: top;\n",
       "    }\n",
       "\n",
       "    .dataframe thead th {\n",
       "        text-align: right;\n",
       "    }\n",
       "</style>\n",
       "<table border=\"1\" class=\"dataframe\">\n",
       "  <thead>\n",
       "    <tr style=\"text-align: right;\">\n",
       "      <th></th>\n",
       "      <th>green</th>\n",
       "      <th>blue</th>\n",
       "      <th>Expected blue</th>\n",
       "      <th>Relative</th>\n",
       "    </tr>\n",
       "  </thead>\n",
       "  <tbody>\n",
       "    <tr>\n",
       "      <th>beer</th>\n",
       "      <td>5</td>\n",
       "      <td>6</td>\n",
       "      <td>5.0</td>\n",
       "      <td>1.2</td>\n",
       "    </tr>\n",
       "    <tr>\n",
       "      <th>cake</th>\n",
       "      <td>5</td>\n",
       "      <td>2</td>\n",
       "      <td>5.0</td>\n",
       "      <td>0.4</td>\n",
       "    </tr>\n",
       "    <tr>\n",
       "      <th>ice cream</th>\n",
       "      <td>5</td>\n",
       "      <td>2</td>\n",
       "      <td>5.0</td>\n",
       "      <td>0.4</td>\n",
       "    </tr>\n",
       "    <tr>\n",
       "      <th>pie</th>\n",
       "      <td>5</td>\n",
       "      <td>10</td>\n",
       "      <td>5.0</td>\n",
       "      <td>2.0</td>\n",
       "    </tr>\n",
       "  </tbody>\n",
       "</table>\n",
       "</div>"
      ],
      "text/plain": [
       "           green  blue  Expected blue  Relative\n",
       "beer           5     6            5.0       1.2\n",
       "cake           5     2            5.0       0.4\n",
       "ice cream      5     2            5.0       0.4\n",
       "pie            5    10            5.0       2.0"
      ]
     },
     "execution_count": 41,
     "metadata": {},
     "output_type": "execute_result"
    }
   ],
   "source": [
    "generate_relative_df(green, blue, \"green\", \"blue\")"
   ]
  },
  {
   "cell_type": "code",
   "execution_count": 42,
   "id": "9a1bbfc1",
   "metadata": {},
   "outputs": [
    {
     "data": {
      "text/plain": [
       "pie          5\n",
       "ice cream    5\n",
       "cake         5\n",
       "beer         5\n",
       "dtype: int64"
      ]
     },
     "execution_count": 42,
     "metadata": {},
     "output_type": "execute_result"
    }
   ],
   "source": [
    "green"
   ]
  },
  {
   "cell_type": "code",
   "execution_count": 43,
   "id": "69049416",
   "metadata": {},
   "outputs": [],
   "source": [
    "desdata = pd.concat([pd.DataFrame(green_dict), pd.DataFrame(blue_dict)], ignore_index=True)"
   ]
  },
  {
   "cell_type": "code",
   "execution_count": 44,
   "id": "f8a01fae",
   "metadata": {},
   "outputs": [],
   "source": [
    "green= add_races(desdata, [\"green\"], field='dessert')"
   ]
  },
  {
   "cell_type": "code",
   "execution_count": 45,
   "id": "d495d90d",
   "metadata": {},
   "outputs": [
    {
     "data": {
      "text/plain": [
       "beer         5\n",
       "cake         5\n",
       "ice cream    5\n",
       "pie          5\n",
       "dtype: int64"
      ]
     },
     "execution_count": 45,
     "metadata": {},
     "output_type": "execute_result"
    }
   ],
   "source": [
    "green"
   ]
  },
  {
   "cell_type": "code",
   "execution_count": 46,
   "id": "38f20541",
   "metadata": {},
   "outputs": [],
   "source": [
    "blue = add_races(desdata, ['blue'], field = 'dessert')"
   ]
  },
  {
   "cell_type": "code",
   "execution_count": 47,
   "id": "c913c704",
   "metadata": {},
   "outputs": [
    {
     "data": {
      "text/plain": [
       "pie          10\n",
       "beer          6\n",
       "ice cream     2\n",
       "cake          2\n",
       "dtype: int64"
      ]
     },
     "execution_count": 47,
     "metadata": {},
     "output_type": "execute_result"
    }
   ],
   "source": [
    "blue"
   ]
  },
  {
   "cell_type": "code",
   "execution_count": 48,
   "id": "21742273",
   "metadata": {},
   "outputs": [
    {
     "data": {
      "text/plain": [
       "beer         11\n",
       "cake          7\n",
       "ice cream     7\n",
       "pie          15\n",
       "dtype: int64"
      ]
     },
     "execution_count": 48,
     "metadata": {},
     "output_type": "execute_result"
    }
   ],
   "source": [
    "add_races(desdata, ['green', 'blue'], field='dessert')"
   ]
  },
  {
   "cell_type": "code",
   "execution_count": 51,
   "id": "faa9aae1",
   "metadata": {},
   "outputs": [],
   "source": [
    "import analysis.populations as pop"
   ]
  },
  {
   "cell_type": "code",
   "execution_count": 52,
   "id": "61c367cc",
   "metadata": {},
   "outputs": [],
   "source": [
    "la_pop = pop.get_population(\"Los Altos\")"
   ]
  },
  {
   "cell_type": "code",
   "execution_count": 53,
   "id": "3a2bda2b",
   "metadata": {},
   "outputs": [
    {
     "data": {
      "text/plain": [
       "White                            17735.000000\n",
       "Hispanic/Latino/a                 1357.000000\n",
       "Asian                             6963.059055\n",
       "Middle Eastern or South Asian     2622.940945\n",
       "Black/African American             145.000000\n",
       "Pacific Islander                     0.000000\n",
       "Native American                     24.000000\n",
       "Multiple                          1567.000000\n",
       "Other                              100.000000\n",
       "dtype: float64"
      ]
     },
     "execution_count": 53,
     "metadata": {},
     "output_type": "execute_result"
    }
   ],
   "source": [
    "la_pop"
   ]
  },
  {
   "cell_type": "code",
   "execution_count": 54,
   "id": "ae013424",
   "metadata": {},
   "outputs": [
    {
     "data": {
      "text/plain": [
       "White                            593\n",
       "Hispanic/Latino/a                330\n",
       "Asian                            241\n",
       "Middle Eastern or South Asian    177\n",
       "Black/African American            56\n",
       "Pacific Islander                  23\n",
       "Native American                    5\n",
       "Name: race, dtype: int64"
      ]
     },
     "execution_count": 54,
     "metadata": {},
     "output_type": "execute_result"
    }
   ],
   "source": [
    "df_uniq[\"race\"].value_counts()"
   ]
  },
  {
   "cell_type": "code",
   "execution_count": 55,
   "id": "fb6a227e",
   "metadata": {},
   "outputs": [
    {
     "data": {
      "text/plain": [
       "Asian                             1.035127\n",
       "Black/African American           11.550387\n",
       "Hispanic/Latino/a                 7.272950\n",
       "Middle Eastern or South Asian     2.018186\n",
       "Multiple                               NaN\n",
       "Native American                   6.230677\n",
       "Other                                  NaN\n",
       "Pacific Islander                       inf\n",
       "White                             1.000000\n",
       "dtype: float64"
      ]
     },
     "execution_count": 55,
     "metadata": {},
     "output_type": "execute_result"
    }
   ],
   "source": [
    "(df_uniq[\"race\"].value_counts()/la_pop)/(df_uniq[\"race\"].value_counts()[\"White\"]/la_pop[\"White\"])"
   ]
  },
  {
   "cell_type": "code",
   "execution_count": null,
   "id": "58dac5d6",
   "metadata": {},
   "outputs": [],
   "source": []
  }
 ],
 "metadata": {
  "kernelspec": {
   "display_name": "Python 3 (ipykernel)",
   "language": "python",
   "name": "python3"
  },
  "language_info": {
   "codemirror_mode": {
    "name": "ipython",
    "version": 3
   },
   "file_extension": ".py",
   "mimetype": "text/x-python",
   "name": "python",
   "nbconvert_exporter": "python",
   "pygments_lexer": "ipython3",
   "version": "3.10.4"
  }
 },
 "nbformat": 4,
 "nbformat_minor": 5
}
