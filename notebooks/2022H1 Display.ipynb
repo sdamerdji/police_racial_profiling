{
 "cells": [
  {
   "cell_type": "code",
   "execution_count": 1,
   "id": "a08a5fbb",
   "metadata": {},
   "outputs": [],
   "source": [
    "import numpy as np\n",
    "import seaborn as sns\n",
    "import matplotlib.pyplot as plt\n",
    "import plotting.lare_matplot as lmp"
   ]
  },
  {
   "cell_type": "code",
   "execution_count": 2,
   "id": "28783943",
   "metadata": {},
   "outputs": [],
   "source": [
    "import pandas as pd"
   ]
  },
  {
   "cell_type": "code",
   "execution_count": null,
   "id": "5991615b",
   "metadata": {},
   "outputs": [],
   "source": []
  },
  {
   "cell_type": "code",
   "execution_count": 3,
   "id": "b6e58c34",
   "metadata": {},
   "outputs": [
    {
     "ename": "FileNotFoundError",
     "evalue": "[Errno 2] No such file or directory: \"data/clean_data/LAPD_RIPA_DATA_202101_202206.csv'\"",
     "output_type": "error",
     "traceback": [
      "\u001b[0;31m---------------------------------------------------------------------------\u001b[0m",
      "\u001b[0;31mFileNotFoundError\u001b[0m                         Traceback (most recent call last)",
      "Input \u001b[0;32mIn [3]\u001b[0m, in \u001b[0;36m<cell line: 1>\u001b[0;34m()\u001b[0m\n\u001b[0;32m----> 1\u001b[0m df \u001b[38;5;241m=\u001b[39m \u001b[43mpd\u001b[49m\u001b[38;5;241;43m.\u001b[39;49m\u001b[43mread_csv\u001b[49m\u001b[43m(\u001b[49m\u001b[38;5;124;43m\"\u001b[39;49m\u001b[38;5;124;43mdata/clean_data/LAPD_RIPA_DATA_202101_202206.csv\u001b[39;49m\u001b[38;5;124;43m'\u001b[39;49m\u001b[38;5;124;43m\"\u001b[39;49m\u001b[43m,\u001b[49m\u001b[43m \u001b[49m\u001b[43mencoding\u001b[49m\u001b[43m \u001b[49m\u001b[38;5;241;43m=\u001b[39;49m\u001b[43m \u001b[49m\u001b[38;5;124;43m'\u001b[39;49m\u001b[38;5;124;43municode_escape\u001b[39;49m\u001b[38;5;124;43m'\u001b[39;49m\u001b[43m,\u001b[49m\u001b[43m \u001b[49m\u001b[43mengine\u001b[49m\u001b[43m \u001b[49m\u001b[38;5;241;43m=\u001b[39;49m\u001b[38;5;124;43m'\u001b[39;49m\u001b[38;5;124;43mpython\u001b[39;49m\u001b[38;5;124;43m'\u001b[39;49m\u001b[43m)\u001b[49m\n\u001b[1;32m      2\u001b[0m df[\u001b[38;5;124m\"\u001b[39m\u001b[38;5;124mstopDateTime\u001b[39m\u001b[38;5;124m\"\u001b[39m] \u001b[38;5;241m=\u001b[39m pd\u001b[38;5;241m.\u001b[39mto_datetime(df[\u001b[38;5;124m\"\u001b[39m\u001b[38;5;124mstopDateTime\u001b[39m\u001b[38;5;124m\"\u001b[39m], \u001b[38;5;28mformat\u001b[39m\u001b[38;5;241m=\u001b[39m\u001b[38;5;124m\"\u001b[39m\u001b[38;5;124m%\u001b[39m\u001b[38;5;124mY-\u001b[39m\u001b[38;5;124m%\u001b[39m\u001b[38;5;124mm-\u001b[39m\u001b[38;5;132;01m%d\u001b[39;00m\u001b[38;5;124m \u001b[39m\u001b[38;5;124m%\u001b[39m\u001b[38;5;124mH:\u001b[39m\u001b[38;5;124m%\u001b[39m\u001b[38;5;124mM:\u001b[39m\u001b[38;5;124m%\u001b[39m\u001b[38;5;124mS\u001b[39m\u001b[38;5;124m\"\u001b[39m)\n\u001b[1;32m      3\u001b[0m std_cols \u001b[38;5;241m=\u001b[39m {\u001b[38;5;124m\"\u001b[39m\u001b[38;5;124mstopID\u001b[39m\u001b[38;5;124m\"\u001b[39m: \u001b[38;5;124m\"\u001b[39m\u001b[38;5;124mstop_id\u001b[39m\u001b[38;5;124m\"\u001b[39m,\n\u001b[1;32m      4\u001b[0m             \u001b[38;5;124m\"\u001b[39m\u001b[38;5;124mstopDateTime\u001b[39m\u001b[38;5;124m\"\u001b[39m: \u001b[38;5;124m\"\u001b[39m\u001b[38;5;124mdate_time\u001b[39m\u001b[38;5;124m\"\u001b[39m,\n\u001b[1;32m      5\u001b[0m             \u001b[38;5;124m\"\u001b[39m\u001b[38;5;124mstopDuration\u001b[39m\u001b[38;5;124m\"\u001b[39m: \u001b[38;5;124m\"\u001b[39m\u001b[38;5;124mduration\u001b[39m\u001b[38;5;124m\"\u001b[39m,\n\u001b[0;32m   (...)\u001b[0m\n\u001b[1;32m     21\u001b[0m             \u001b[38;5;124m\"\u001b[39m\u001b[38;5;124mcontrabandOrEvidenceDiscovered\u001b[39m\u001b[38;5;124m\"\u001b[39m: \u001b[38;5;124m\"\u001b[39m\u001b[38;5;124mevidence_found\u001b[39m\u001b[38;5;124m\"\u001b[39m\n\u001b[1;32m     22\u001b[0m            }\n",
      "File \u001b[0;32m~/.local/lib/python3.10/site-packages/pandas/util/_decorators.py:311\u001b[0m, in \u001b[0;36mdeprecate_nonkeyword_arguments.<locals>.decorate.<locals>.wrapper\u001b[0;34m(*args, **kwargs)\u001b[0m\n\u001b[1;32m    305\u001b[0m \u001b[38;5;28;01mif\u001b[39;00m \u001b[38;5;28mlen\u001b[39m(args) \u001b[38;5;241m>\u001b[39m num_allow_args:\n\u001b[1;32m    306\u001b[0m     warnings\u001b[38;5;241m.\u001b[39mwarn(\n\u001b[1;32m    307\u001b[0m         msg\u001b[38;5;241m.\u001b[39mformat(arguments\u001b[38;5;241m=\u001b[39marguments),\n\u001b[1;32m    308\u001b[0m         \u001b[38;5;167;01mFutureWarning\u001b[39;00m,\n\u001b[1;32m    309\u001b[0m         stacklevel\u001b[38;5;241m=\u001b[39mstacklevel,\n\u001b[1;32m    310\u001b[0m     )\n\u001b[0;32m--> 311\u001b[0m \u001b[38;5;28;01mreturn\u001b[39;00m \u001b[43mfunc\u001b[49m\u001b[43m(\u001b[49m\u001b[38;5;241;43m*\u001b[39;49m\u001b[43margs\u001b[49m\u001b[43m,\u001b[49m\u001b[43m \u001b[49m\u001b[38;5;241;43m*\u001b[39;49m\u001b[38;5;241;43m*\u001b[39;49m\u001b[43mkwargs\u001b[49m\u001b[43m)\u001b[49m\n",
      "File \u001b[0;32m~/.local/lib/python3.10/site-packages/pandas/io/parsers/readers.py:680\u001b[0m, in \u001b[0;36mread_csv\u001b[0;34m(filepath_or_buffer, sep, delimiter, header, names, index_col, usecols, squeeze, prefix, mangle_dupe_cols, dtype, engine, converters, true_values, false_values, skipinitialspace, skiprows, skipfooter, nrows, na_values, keep_default_na, na_filter, verbose, skip_blank_lines, parse_dates, infer_datetime_format, keep_date_col, date_parser, dayfirst, cache_dates, iterator, chunksize, compression, thousands, decimal, lineterminator, quotechar, quoting, doublequote, escapechar, comment, encoding, encoding_errors, dialect, error_bad_lines, warn_bad_lines, on_bad_lines, delim_whitespace, low_memory, memory_map, float_precision, storage_options)\u001b[0m\n\u001b[1;32m    665\u001b[0m kwds_defaults \u001b[38;5;241m=\u001b[39m _refine_defaults_read(\n\u001b[1;32m    666\u001b[0m     dialect,\n\u001b[1;32m    667\u001b[0m     delimiter,\n\u001b[0;32m   (...)\u001b[0m\n\u001b[1;32m    676\u001b[0m     defaults\u001b[38;5;241m=\u001b[39m{\u001b[38;5;124m\"\u001b[39m\u001b[38;5;124mdelimiter\u001b[39m\u001b[38;5;124m\"\u001b[39m: \u001b[38;5;124m\"\u001b[39m\u001b[38;5;124m,\u001b[39m\u001b[38;5;124m\"\u001b[39m},\n\u001b[1;32m    677\u001b[0m )\n\u001b[1;32m    678\u001b[0m kwds\u001b[38;5;241m.\u001b[39mupdate(kwds_defaults)\n\u001b[0;32m--> 680\u001b[0m \u001b[38;5;28;01mreturn\u001b[39;00m \u001b[43m_read\u001b[49m\u001b[43m(\u001b[49m\u001b[43mfilepath_or_buffer\u001b[49m\u001b[43m,\u001b[49m\u001b[43m \u001b[49m\u001b[43mkwds\u001b[49m\u001b[43m)\u001b[49m\n",
      "File \u001b[0;32m~/.local/lib/python3.10/site-packages/pandas/io/parsers/readers.py:575\u001b[0m, in \u001b[0;36m_read\u001b[0;34m(filepath_or_buffer, kwds)\u001b[0m\n\u001b[1;32m    572\u001b[0m _validate_names(kwds\u001b[38;5;241m.\u001b[39mget(\u001b[38;5;124m\"\u001b[39m\u001b[38;5;124mnames\u001b[39m\u001b[38;5;124m\"\u001b[39m, \u001b[38;5;28;01mNone\u001b[39;00m))\n\u001b[1;32m    574\u001b[0m \u001b[38;5;66;03m# Create the parser.\u001b[39;00m\n\u001b[0;32m--> 575\u001b[0m parser \u001b[38;5;241m=\u001b[39m \u001b[43mTextFileReader\u001b[49m\u001b[43m(\u001b[49m\u001b[43mfilepath_or_buffer\u001b[49m\u001b[43m,\u001b[49m\u001b[43m \u001b[49m\u001b[38;5;241;43m*\u001b[39;49m\u001b[38;5;241;43m*\u001b[39;49m\u001b[43mkwds\u001b[49m\u001b[43m)\u001b[49m\n\u001b[1;32m    577\u001b[0m \u001b[38;5;28;01mif\u001b[39;00m chunksize \u001b[38;5;129;01mor\u001b[39;00m iterator:\n\u001b[1;32m    578\u001b[0m     \u001b[38;5;28;01mreturn\u001b[39;00m parser\n",
      "File \u001b[0;32m~/.local/lib/python3.10/site-packages/pandas/io/parsers/readers.py:933\u001b[0m, in \u001b[0;36mTextFileReader.__init__\u001b[0;34m(self, f, engine, **kwds)\u001b[0m\n\u001b[1;32m    930\u001b[0m     \u001b[38;5;28mself\u001b[39m\u001b[38;5;241m.\u001b[39moptions[\u001b[38;5;124m\"\u001b[39m\u001b[38;5;124mhas_index_names\u001b[39m\u001b[38;5;124m\"\u001b[39m] \u001b[38;5;241m=\u001b[39m kwds[\u001b[38;5;124m\"\u001b[39m\u001b[38;5;124mhas_index_names\u001b[39m\u001b[38;5;124m\"\u001b[39m]\n\u001b[1;32m    932\u001b[0m \u001b[38;5;28mself\u001b[39m\u001b[38;5;241m.\u001b[39mhandles: IOHandles \u001b[38;5;241m|\u001b[39m \u001b[38;5;28;01mNone\u001b[39;00m \u001b[38;5;241m=\u001b[39m \u001b[38;5;28;01mNone\u001b[39;00m\n\u001b[0;32m--> 933\u001b[0m \u001b[38;5;28mself\u001b[39m\u001b[38;5;241m.\u001b[39m_engine \u001b[38;5;241m=\u001b[39m \u001b[38;5;28;43mself\u001b[39;49m\u001b[38;5;241;43m.\u001b[39;49m\u001b[43m_make_engine\u001b[49m\u001b[43m(\u001b[49m\u001b[43mf\u001b[49m\u001b[43m,\u001b[49m\u001b[43m \u001b[49m\u001b[38;5;28;43mself\u001b[39;49m\u001b[38;5;241;43m.\u001b[39;49m\u001b[43mengine\u001b[49m\u001b[43m)\u001b[49m\n",
      "File \u001b[0;32m~/.local/lib/python3.10/site-packages/pandas/io/parsers/readers.py:1217\u001b[0m, in \u001b[0;36mTextFileReader._make_engine\u001b[0;34m(self, f, engine)\u001b[0m\n\u001b[1;32m   1213\u001b[0m     mode \u001b[38;5;241m=\u001b[39m \u001b[38;5;124m\"\u001b[39m\u001b[38;5;124mrb\u001b[39m\u001b[38;5;124m\"\u001b[39m\n\u001b[1;32m   1214\u001b[0m \u001b[38;5;66;03m# error: No overload variant of \"get_handle\" matches argument types\u001b[39;00m\n\u001b[1;32m   1215\u001b[0m \u001b[38;5;66;03m# \"Union[str, PathLike[str], ReadCsvBuffer[bytes], ReadCsvBuffer[str]]\"\u001b[39;00m\n\u001b[1;32m   1216\u001b[0m \u001b[38;5;66;03m# , \"str\", \"bool\", \"Any\", \"Any\", \"Any\", \"Any\", \"Any\"\u001b[39;00m\n\u001b[0;32m-> 1217\u001b[0m \u001b[38;5;28mself\u001b[39m\u001b[38;5;241m.\u001b[39mhandles \u001b[38;5;241m=\u001b[39m \u001b[43mget_handle\u001b[49m\u001b[43m(\u001b[49m\u001b[43m  \u001b[49m\u001b[38;5;66;43;03m# type: ignore[call-overload]\u001b[39;49;00m\n\u001b[1;32m   1218\u001b[0m \u001b[43m    \u001b[49m\u001b[43mf\u001b[49m\u001b[43m,\u001b[49m\n\u001b[1;32m   1219\u001b[0m \u001b[43m    \u001b[49m\u001b[43mmode\u001b[49m\u001b[43m,\u001b[49m\n\u001b[1;32m   1220\u001b[0m \u001b[43m    \u001b[49m\u001b[43mencoding\u001b[49m\u001b[38;5;241;43m=\u001b[39;49m\u001b[38;5;28;43mself\u001b[39;49m\u001b[38;5;241;43m.\u001b[39;49m\u001b[43moptions\u001b[49m\u001b[38;5;241;43m.\u001b[39;49m\u001b[43mget\u001b[49m\u001b[43m(\u001b[49m\u001b[38;5;124;43m\"\u001b[39;49m\u001b[38;5;124;43mencoding\u001b[39;49m\u001b[38;5;124;43m\"\u001b[39;49m\u001b[43m,\u001b[49m\u001b[43m \u001b[49m\u001b[38;5;28;43;01mNone\u001b[39;49;00m\u001b[43m)\u001b[49m\u001b[43m,\u001b[49m\n\u001b[1;32m   1221\u001b[0m \u001b[43m    \u001b[49m\u001b[43mcompression\u001b[49m\u001b[38;5;241;43m=\u001b[39;49m\u001b[38;5;28;43mself\u001b[39;49m\u001b[38;5;241;43m.\u001b[39;49m\u001b[43moptions\u001b[49m\u001b[38;5;241;43m.\u001b[39;49m\u001b[43mget\u001b[49m\u001b[43m(\u001b[49m\u001b[38;5;124;43m\"\u001b[39;49m\u001b[38;5;124;43mcompression\u001b[39;49m\u001b[38;5;124;43m\"\u001b[39;49m\u001b[43m,\u001b[49m\u001b[43m \u001b[49m\u001b[38;5;28;43;01mNone\u001b[39;49;00m\u001b[43m)\u001b[49m\u001b[43m,\u001b[49m\n\u001b[1;32m   1222\u001b[0m \u001b[43m    \u001b[49m\u001b[43mmemory_map\u001b[49m\u001b[38;5;241;43m=\u001b[39;49m\u001b[38;5;28;43mself\u001b[39;49m\u001b[38;5;241;43m.\u001b[39;49m\u001b[43moptions\u001b[49m\u001b[38;5;241;43m.\u001b[39;49m\u001b[43mget\u001b[49m\u001b[43m(\u001b[49m\u001b[38;5;124;43m\"\u001b[39;49m\u001b[38;5;124;43mmemory_map\u001b[39;49m\u001b[38;5;124;43m\"\u001b[39;49m\u001b[43m,\u001b[49m\u001b[43m \u001b[49m\u001b[38;5;28;43;01mFalse\u001b[39;49;00m\u001b[43m)\u001b[49m\u001b[43m,\u001b[49m\n\u001b[1;32m   1223\u001b[0m \u001b[43m    \u001b[49m\u001b[43mis_text\u001b[49m\u001b[38;5;241;43m=\u001b[39;49m\u001b[43mis_text\u001b[49m\u001b[43m,\u001b[49m\n\u001b[1;32m   1224\u001b[0m \u001b[43m    \u001b[49m\u001b[43merrors\u001b[49m\u001b[38;5;241;43m=\u001b[39;49m\u001b[38;5;28;43mself\u001b[39;49m\u001b[38;5;241;43m.\u001b[39;49m\u001b[43moptions\u001b[49m\u001b[38;5;241;43m.\u001b[39;49m\u001b[43mget\u001b[49m\u001b[43m(\u001b[49m\u001b[38;5;124;43m\"\u001b[39;49m\u001b[38;5;124;43mencoding_errors\u001b[39;49m\u001b[38;5;124;43m\"\u001b[39;49m\u001b[43m,\u001b[49m\u001b[43m \u001b[49m\u001b[38;5;124;43m\"\u001b[39;49m\u001b[38;5;124;43mstrict\u001b[39;49m\u001b[38;5;124;43m\"\u001b[39;49m\u001b[43m)\u001b[49m\u001b[43m,\u001b[49m\n\u001b[1;32m   1225\u001b[0m \u001b[43m    \u001b[49m\u001b[43mstorage_options\u001b[49m\u001b[38;5;241;43m=\u001b[39;49m\u001b[38;5;28;43mself\u001b[39;49m\u001b[38;5;241;43m.\u001b[39;49m\u001b[43moptions\u001b[49m\u001b[38;5;241;43m.\u001b[39;49m\u001b[43mget\u001b[49m\u001b[43m(\u001b[49m\u001b[38;5;124;43m\"\u001b[39;49m\u001b[38;5;124;43mstorage_options\u001b[39;49m\u001b[38;5;124;43m\"\u001b[39;49m\u001b[43m,\u001b[49m\u001b[43m \u001b[49m\u001b[38;5;28;43;01mNone\u001b[39;49;00m\u001b[43m)\u001b[49m\u001b[43m,\u001b[49m\n\u001b[1;32m   1226\u001b[0m \u001b[43m\u001b[49m\u001b[43m)\u001b[49m\n\u001b[1;32m   1227\u001b[0m \u001b[38;5;28;01massert\u001b[39;00m \u001b[38;5;28mself\u001b[39m\u001b[38;5;241m.\u001b[39mhandles \u001b[38;5;129;01mis\u001b[39;00m \u001b[38;5;129;01mnot\u001b[39;00m \u001b[38;5;28;01mNone\u001b[39;00m\n\u001b[1;32m   1228\u001b[0m f \u001b[38;5;241m=\u001b[39m \u001b[38;5;28mself\u001b[39m\u001b[38;5;241m.\u001b[39mhandles\u001b[38;5;241m.\u001b[39mhandle\n",
      "File \u001b[0;32m~/.local/lib/python3.10/site-packages/pandas/io/common.py:789\u001b[0m, in \u001b[0;36mget_handle\u001b[0;34m(path_or_buf, mode, encoding, compression, memory_map, is_text, errors, storage_options)\u001b[0m\n\u001b[1;32m    784\u001b[0m \u001b[38;5;28;01melif\u001b[39;00m \u001b[38;5;28misinstance\u001b[39m(handle, \u001b[38;5;28mstr\u001b[39m):\n\u001b[1;32m    785\u001b[0m     \u001b[38;5;66;03m# Check whether the filename is to be opened in binary mode.\u001b[39;00m\n\u001b[1;32m    786\u001b[0m     \u001b[38;5;66;03m# Binary mode does not support 'encoding' and 'newline'.\u001b[39;00m\n\u001b[1;32m    787\u001b[0m     \u001b[38;5;28;01mif\u001b[39;00m ioargs\u001b[38;5;241m.\u001b[39mencoding \u001b[38;5;129;01mand\u001b[39;00m \u001b[38;5;124m\"\u001b[39m\u001b[38;5;124mb\u001b[39m\u001b[38;5;124m\"\u001b[39m \u001b[38;5;129;01mnot\u001b[39;00m \u001b[38;5;129;01min\u001b[39;00m ioargs\u001b[38;5;241m.\u001b[39mmode:\n\u001b[1;32m    788\u001b[0m         \u001b[38;5;66;03m# Encoding\u001b[39;00m\n\u001b[0;32m--> 789\u001b[0m         handle \u001b[38;5;241m=\u001b[39m \u001b[38;5;28;43mopen\u001b[39;49m\u001b[43m(\u001b[49m\n\u001b[1;32m    790\u001b[0m \u001b[43m            \u001b[49m\u001b[43mhandle\u001b[49m\u001b[43m,\u001b[49m\n\u001b[1;32m    791\u001b[0m \u001b[43m            \u001b[49m\u001b[43mioargs\u001b[49m\u001b[38;5;241;43m.\u001b[39;49m\u001b[43mmode\u001b[49m\u001b[43m,\u001b[49m\n\u001b[1;32m    792\u001b[0m \u001b[43m            \u001b[49m\u001b[43mencoding\u001b[49m\u001b[38;5;241;43m=\u001b[39;49m\u001b[43mioargs\u001b[49m\u001b[38;5;241;43m.\u001b[39;49m\u001b[43mencoding\u001b[49m\u001b[43m,\u001b[49m\n\u001b[1;32m    793\u001b[0m \u001b[43m            \u001b[49m\u001b[43merrors\u001b[49m\u001b[38;5;241;43m=\u001b[39;49m\u001b[43merrors\u001b[49m\u001b[43m,\u001b[49m\n\u001b[1;32m    794\u001b[0m \u001b[43m            \u001b[49m\u001b[43mnewline\u001b[49m\u001b[38;5;241;43m=\u001b[39;49m\u001b[38;5;124;43m\"\u001b[39;49m\u001b[38;5;124;43m\"\u001b[39;49m\u001b[43m,\u001b[49m\n\u001b[1;32m    795\u001b[0m \u001b[43m        \u001b[49m\u001b[43m)\u001b[49m\n\u001b[1;32m    796\u001b[0m     \u001b[38;5;28;01melse\u001b[39;00m:\n\u001b[1;32m    797\u001b[0m         \u001b[38;5;66;03m# Binary mode\u001b[39;00m\n\u001b[1;32m    798\u001b[0m         handle \u001b[38;5;241m=\u001b[39m \u001b[38;5;28mopen\u001b[39m(handle, ioargs\u001b[38;5;241m.\u001b[39mmode)\n",
      "\u001b[0;31mFileNotFoundError\u001b[0m: [Errno 2] No such file or directory: \"data/clean_data/LAPD_RIPA_DATA_202101_202206.csv'\""
     ]
    }
   ],
   "source": [
    "df = pd.read_csv(\"data/clean_data/LAPD_RIPA_DATA_202101_202206.csv'\", encoding = 'unicode_escape', engine ='python')\n",
    "df[\"stopDateTime\"] = pd.to_datetime(df[\"stopDateTime\"], format=\"%Y-%m-%d %H:%M:%S\")\n",
    "std_cols = {\"stopID\": \"stop_id\",\n",
    "            \"stopDateTime\": \"date_time\",\n",
    "            \"stopDuration\": \"duration\",\n",
    "            \"stopInResponseToCFS\": \"call_for_service\",\n",
    "           \"street\": \"location\",\n",
    "           \"actionTakenDuringStop\": \"actions_taken\",\n",
    "           \"personSearchConsentGiven\": \"person_search_consent\",\n",
    "           \"propertySearchConsentGiven\": \"property_search_consent\",\n",
    "           \"perceivedRace\": \"race\",\n",
    "           \"reasonForStop\": \"reason_for_stop\",\n",
    "           \"perceivedOrKnownDisability\": \"disabilities\",\n",
    "            \"perceivedLimitedEnglish\": \"limited_english\",\n",
    "            \"perceivedAge\": \"age\",\n",
    "            \"perceivedGender\": \"gender\",\n",
    "            \"perceivedLgbt\": \"lgbt\",\n",
    "            \"genderNonConforming\": \"gender_nonconforming\",\n",
    "            \"resultOfStop\": \"result\",\n",
    "            \"basisForSearch\": \"basis_for_search\",\n",
    "            \"contrabandOrEvidenceDiscovered\": \"evidence_found\"\n",
    "           }\n",
    "df.rename(columns=std_cols, inplace=\"True\")"
   ]
  },
  {
   "cell_type": "markdown",
   "id": "4c45e6dc",
   "metadata": {},
   "source": [
    "Make a list of all the possible results, in increasing order of severity. We'll use this to sort, then we'll select the single record for each stop_id with the most sever outcome."
   ]
  },
  {
   "cell_type": "code",
   "execution_count": 4,
   "id": "65d5b5c6",
   "metadata": {},
   "outputs": [],
   "source": [
    "orig_df_uniq=df.drop_duplicates(subset=\"stop_id\", keep=\"last\")"
   ]
  },
  {
   "cell_type": "code",
   "execution_count": 5,
   "id": "836610bd",
   "metadata": {},
   "outputs": [],
   "source": [
    "result_options = ['No Action',\n",
    "                 'Warning (verbal or written)',\n",
    "                 'Noncriminal transport or caretaking transport',\n",
    "                 'Psychiatric hold',\n",
    "                 'Field interview card completed',\n",
    "                 'Contacted parent/legal guardian or other person responsible for the minor',\n",
    "                 'Citation for infraction',\n",
    "                 'In-field cite and release',\n",
    "                 'Custodial Arrest pursuant to outstanding warrant',\n",
    "                 'Custodial Arrest without warrant']"
   ]
  },
  {
   "cell_type": "code",
   "execution_count": 6,
   "id": "3d057809",
   "metadata": {},
   "outputs": [],
   "source": [
    "df[\"result_num\"] = df[\"result\"].apply(lambda x: result_options.index(x))"
   ]
  },
  {
   "cell_type": "code",
   "execution_count": 7,
   "id": "567f1843",
   "metadata": {},
   "outputs": [],
   "source": [
    "df.sort_values(by=[\"stop_id\", \"result_num\"], inplace=True)"
   ]
  },
  {
   "cell_type": "code",
   "execution_count": 8,
   "id": "1bf52fb7",
   "metadata": {},
   "outputs": [],
   "source": [
    "df_uniq = df.drop_duplicates(subset=\"stop_id\", keep=\"last\")"
   ]
  },
  {
   "cell_type": "code",
   "execution_count": 9,
   "id": "4ba3bdf0",
   "metadata": {},
   "outputs": [
    {
     "data": {
      "text/plain": [
       "738"
      ]
     },
     "execution_count": 9,
     "metadata": {},
     "output_type": "execute_result"
    }
   ],
   "source": [
    "len(df_uniq)"
   ]
  },
  {
   "cell_type": "code",
   "execution_count": 10,
   "id": "0ca0af13",
   "metadata": {},
   "outputs": [
    {
     "data": {
      "text/plain": [
       "Warning (verbal or written)                                                  406\n",
       "Citation for infraction                                                      237\n",
       "No Action                                                                     52\n",
       "In-field cite and release                                                     20\n",
       "Custodial Arrest pursuant to outstanding warrant                               8\n",
       "Custodial Arrest without warrant                                               6\n",
       "Noncriminal transport or caretaking transport                                  3\n",
       "Field interview card completed                                                 3\n",
       "Psychiatric hold                                                               2\n",
       "Contacted parent/legal guardian or other person responsible for the minor      1\n",
       "Name: result, dtype: int64"
      ]
     },
     "execution_count": 10,
     "metadata": {},
     "output_type": "execute_result"
    }
   ],
   "source": [
    "df_uniq[\"result\"].value_counts()"
   ]
  },
  {
   "cell_type": "code",
   "execution_count": 11,
   "id": "8a33a960",
   "metadata": {},
   "outputs": [
    {
     "data": {
      "text/plain": [
       "Warning (verbal or written)                                                  416\n",
       "Citation for infraction                                                      233\n",
       "No Action                                                                     53\n",
       "In-field cite and release                                                     16\n",
       "Custodial Arrest without warrant                                               6\n",
       "Custodial Arrest pursuant to outstanding warrant                               6\n",
       "Noncriminal transport or caretaking transport                                  3\n",
       "Field interview card completed                                                 2\n",
       "Psychiatric hold                                                               2\n",
       "Contacted parent/legal guardian or other person responsible for the minor      1\n",
       "Name: result, dtype: int64"
      ]
     },
     "execution_count": 11,
     "metadata": {},
     "output_type": "execute_result"
    }
   ],
   "source": [
    "orig_df_uniq[\"result\"].value_counts()"
   ]
  },
  {
   "cell_type": "code",
   "execution_count": 12,
   "id": "5e0ccd3e",
   "metadata": {},
   "outputs": [],
   "source": [
    "import analysis.populations as pop"
   ]
  },
  {
   "cell_type": "code",
   "execution_count": 13,
   "id": "e1db0bd1",
   "metadata": {},
   "outputs": [],
   "source": [
    "la_pop=pop.get_population(\"Los Altos\")"
   ]
  },
  {
   "cell_type": "code",
   "execution_count": 14,
   "id": "1d7accbd",
   "metadata": {},
   "outputs": [],
   "source": [
    "la_pop_df = la_pop.to_frame(\"pop\")"
   ]
  },
  {
   "cell_type": "code",
   "execution_count": 15,
   "id": "4238ed84",
   "metadata": {},
   "outputs": [],
   "source": [
    "stops = df_uniq[\"race\"].value_counts()"
   ]
  },
  {
   "cell_type": "code",
   "execution_count": 16,
   "id": "8f8d9353",
   "metadata": {},
   "outputs": [],
   "source": [
    "stops_df=stops.to_frame(\"stops\")"
   ]
  },
  {
   "cell_type": "code",
   "execution_count": 17,
   "id": "95d500be",
   "metadata": {},
   "outputs": [],
   "source": [
    "sns.reset_defaults()\n",
    "sns.set_style(\"white\")"
   ]
  },
  {
   "cell_type": "code",
   "execution_count": 18,
   "id": "a4dc9b0d",
   "metadata": {},
   "outputs": [
    {
     "name": "stderr",
     "output_type": "stream",
     "text": [
      "/tmp/ipykernel_46878/1206384643.py:7: RuntimeWarning: divide by zero encountered in true_divide\n",
      "  plt.annotate(\"{} ({:.1f}%)\".format(race, 100*stops[race]/la_pop[race]), (la_pop[race]+250, stops[race]) )\n"
     ]
    }
   ],
   "source": [
    "ax = sns.scatterplot(data=pd.concat([la_pop_df, stops_df], sort=False, axis=1), \n",
    "                x=\"pop\", \n",
    "                y=\"stops\")\n",
    "ax.set(xlabel=\"Population\", ylabel=\"Number of Stops\")\n",
    "plt.plot([0, la_pop[\"White\"]], [0,stops[\"White\"]], linestyle=\"dashed\", color=\"xkcd:grey\")\n",
    "for race in stops.keys():\n",
    "    plt.annotate(\"{} ({:.1f}%)\".format(race, 100*stops[race]/la_pop[race]), (la_pop[race]+250, stops[race]) )\n",
    "plt.annotate(\"↑ Excessive Stops ↑\", (11000, 190), rotation=37, color=\"red\")\n",
    "sns.despine()\n",
    "ax.figure.savefig(\"stops_vs_population.png\", bbox_inches=\"tight\")"
   ]
  },
  {
   "cell_type": "code",
   "execution_count": 21,
   "id": "2e317ab9",
   "metadata": {},
   "outputs": [],
   "source": [
    "rel_bars = (df_uniq[\"race\"].value_counts()/la_pop)/(df_uniq[\"race\"].value_counts()[\"White\"]/la_pop[\"White\"])"
   ]
  },
  {
   "cell_type": "code",
   "execution_count": 22,
   "id": "a19ece9e",
   "metadata": {},
   "outputs": [],
   "source": [
    "rel_bars_df = rel_bars.to_frame(\"relative\")"
   ]
  },
  {
   "cell_type": "code",
   "execution_count": 23,
   "id": "a3b7423c",
   "metadata": {},
   "outputs": [],
   "source": [
    "rel_bars_df[\"err\"] = (np.sqrt(df_uniq[\"race\"].value_counts())/la_pop)/(df_uniq[\"race\"].value_counts()[\"White\"]/la_pop[\"White\"])"
   ]
  },
  {
   "cell_type": "code",
   "execution_count": 24,
   "id": "a30d9101",
   "metadata": {},
   "outputs": [
    {
     "data": {
      "text/html": [
       "<div>\n",
       "<style scoped>\n",
       "    .dataframe tbody tr th:only-of-type {\n",
       "        vertical-align: middle;\n",
       "    }\n",
       "\n",
       "    .dataframe tbody tr th {\n",
       "        vertical-align: top;\n",
       "    }\n",
       "\n",
       "    .dataframe thead th {\n",
       "        text-align: right;\n",
       "    }\n",
       "</style>\n",
       "<table border=\"1\" class=\"dataframe\">\n",
       "  <thead>\n",
       "    <tr style=\"text-align: right;\">\n",
       "      <th></th>\n",
       "      <th>relative</th>\n",
       "      <th>err</th>\n",
       "    </tr>\n",
       "  </thead>\n",
       "  <tbody>\n",
       "    <tr>\n",
       "      <th>Asian</th>\n",
       "      <td>1.282735</td>\n",
       "      <td>0.108800</td>\n",
       "    </tr>\n",
       "    <tr>\n",
       "      <th>Black/African American</th>\n",
       "      <td>12.408296</td>\n",
       "      <td>2.344948</td>\n",
       "    </tr>\n",
       "    <tr>\n",
       "      <th>Hispanic/Latino/a</th>\n",
       "      <td>9.091666</td>\n",
       "      <td>0.656135</td>\n",
       "    </tr>\n",
       "    <tr>\n",
       "      <th>Middle Eastern or South Asian</th>\n",
       "      <td>2.229333</td>\n",
       "      <td>0.233698</td>\n",
       "    </tr>\n",
       "    <tr>\n",
       "      <th>Multiple</th>\n",
       "      <td>NaN</td>\n",
       "      <td>NaN</td>\n",
       "    </tr>\n",
       "    <tr>\n",
       "      <th>Native American</th>\n",
       "      <td>5.354771</td>\n",
       "      <td>3.786395</td>\n",
       "    </tr>\n",
       "    <tr>\n",
       "      <th>Other</th>\n",
       "      <td>NaN</td>\n",
       "      <td>NaN</td>\n",
       "    </tr>\n",
       "    <tr>\n",
       "      <th>Pacific Islander</th>\n",
       "      <td>inf</td>\n",
       "      <td>inf</td>\n",
       "    </tr>\n",
       "    <tr>\n",
       "      <th>White</th>\n",
       "      <td>1.000000</td>\n",
       "      <td>0.060193</td>\n",
       "    </tr>\n",
       "  </tbody>\n",
       "</table>\n",
       "</div>"
      ],
      "text/plain": [
       "                                relative       err\n",
       "Asian                           1.282735  0.108800\n",
       "Black/African American         12.408296  2.344948\n",
       "Hispanic/Latino/a               9.091666  0.656135\n",
       "Middle Eastern or South Asian   2.229333  0.233698\n",
       "Multiple                             NaN       NaN\n",
       "Native American                 5.354771  3.786395\n",
       "Other                                NaN       NaN\n",
       "Pacific Islander                     inf       inf\n",
       "White                           1.000000  0.060193"
      ]
     },
     "execution_count": 24,
     "metadata": {},
     "output_type": "execute_result"
    }
   ],
   "source": [
    "rel_bars_df"
   ]
  },
  {
   "cell_type": "code",
   "execution_count": 25,
   "id": "28dca0a4",
   "metadata": {},
   "outputs": [
    {
     "name": "stderr",
     "output_type": "stream",
     "text": [
      "/tmp/ipykernel_46878/2446174790.py:1: UserWarning: Boolean Series key will be reindexed to match DataFrame index.\n",
      "  rel_bars_clean_df = rel_bars_df.dropna()[rel_bars < 1e30] #.to_frame(\"relative\")\n"
     ]
    }
   ],
   "source": [
    "rel_bars_clean_df = rel_bars_df.dropna()[rel_bars < 1e30] #.to_frame(\"relative\")"
   ]
  },
  {
   "cell_type": "code",
   "execution_count": 26,
   "id": "1989e2bc",
   "metadata": {},
   "outputs": [
    {
     "data": {
      "text/html": [
       "<div>\n",
       "<style scoped>\n",
       "    .dataframe tbody tr th:only-of-type {\n",
       "        vertical-align: middle;\n",
       "    }\n",
       "\n",
       "    .dataframe tbody tr th {\n",
       "        vertical-align: top;\n",
       "    }\n",
       "\n",
       "    .dataframe thead th {\n",
       "        text-align: right;\n",
       "    }\n",
       "</style>\n",
       "<table border=\"1\" class=\"dataframe\">\n",
       "  <thead>\n",
       "    <tr style=\"text-align: right;\">\n",
       "      <th></th>\n",
       "      <th>relative</th>\n",
       "      <th>err</th>\n",
       "    </tr>\n",
       "  </thead>\n",
       "  <tbody>\n",
       "    <tr>\n",
       "      <th>Asian</th>\n",
       "      <td>1.282735</td>\n",
       "      <td>0.108800</td>\n",
       "    </tr>\n",
       "    <tr>\n",
       "      <th>Black/African American</th>\n",
       "      <td>12.408296</td>\n",
       "      <td>2.344948</td>\n",
       "    </tr>\n",
       "    <tr>\n",
       "      <th>Hispanic/Latino/a</th>\n",
       "      <td>9.091666</td>\n",
       "      <td>0.656135</td>\n",
       "    </tr>\n",
       "    <tr>\n",
       "      <th>Middle Eastern or South Asian</th>\n",
       "      <td>2.229333</td>\n",
       "      <td>0.233698</td>\n",
       "    </tr>\n",
       "    <tr>\n",
       "      <th>Native American</th>\n",
       "      <td>5.354771</td>\n",
       "      <td>3.786395</td>\n",
       "    </tr>\n",
       "    <tr>\n",
       "      <th>White</th>\n",
       "      <td>1.000000</td>\n",
       "      <td>0.060193</td>\n",
       "    </tr>\n",
       "  </tbody>\n",
       "</table>\n",
       "</div>"
      ],
      "text/plain": [
       "                                relative       err\n",
       "Asian                           1.282735  0.108800\n",
       "Black/African American         12.408296  2.344948\n",
       "Hispanic/Latino/a               9.091666  0.656135\n",
       "Middle Eastern or South Asian   2.229333  0.233698\n",
       "Native American                 5.354771  3.786395\n",
       "White                           1.000000  0.060193"
      ]
     },
     "execution_count": 26,
     "metadata": {},
     "output_type": "execute_result"
    }
   ],
   "source": [
    "rel_bars_clean_df"
   ]
  },
  {
   "cell_type": "code",
   "execution_count": 27,
   "id": "62c46ed4",
   "metadata": {},
   "outputs": [],
   "source": [
    "ax = sns.barplot(rel_bars_clean_df, x=\"relative\", y=rel_bars_clean_df.index.values,\n",
    "                xerr=rel_bars_clean_df[\"err\"])\n",
    "ax.set(xlabel=\"Relative per-capita rate of stops (White = 1)\")\n",
    "ax.figure.savefig(\"relative_per_capita_rate_bar.png\", bbox_inches=\"tight\")"
   ]
  },
  {
   "cell_type": "code",
   "execution_count": 28,
   "id": "c9cabcf3",
   "metadata": {},
   "outputs": [],
   "source": [
    "import analysis.ratios as rat"
   ]
  },
  {
   "cell_type": "code",
   "execution_count": 29,
   "id": "1ff4d25b",
   "metadata": {},
   "outputs": [],
   "source": [
    "new_whites = rat.add_races(df_uniq, ['White'])"
   ]
  },
  {
   "cell_type": "code",
   "execution_count": 30,
   "id": "e6871fbd",
   "metadata": {},
   "outputs": [
    {
     "data": {
      "text/plain": [
       "Warning (verbal or written)                                                  158\n",
       "Citation for infraction                                                       78\n",
       "No Action                                                                     23\n",
       "Custodial Arrest pursuant to outstanding warrant                               6\n",
       "In-field cite and release                                                      5\n",
       "Custodial Arrest without warrant                                               2\n",
       "Psychiatric hold                                                               2\n",
       "Contacted parent/legal guardian or other person responsible for the minor      1\n",
       "Noncriminal transport or caretaking transport                                  1\n",
       "Name: result, dtype: int64"
      ]
     },
     "execution_count": 30,
     "metadata": {},
     "output_type": "execute_result"
    }
   ],
   "source": [
    "df_uniq[df_uniq[\"race\"]==\"White\"][\"result\"].value_counts()"
   ]
  },
  {
   "cell_type": "code",
   "execution_count": 31,
   "id": "60d6e097",
   "metadata": {},
   "outputs": [
    {
     "data": {
      "text/plain": [
       "Warning (verbal or written)                      17\n",
       "Citation for infraction                           5\n",
       "No Action                                         3\n",
       "In-field cite and release                         2\n",
       "Noncriminal transport or caretaking transport     1\n",
       "Name: result, dtype: int64"
      ]
     },
     "execution_count": 31,
     "metadata": {},
     "output_type": "execute_result"
    }
   ],
   "source": [
    "df_uniq[df_uniq[\"race\"]==\"Black/African American\"][\"result\"].value_counts()"
   ]
  },
  {
   "cell_type": "code",
   "execution_count": 32,
   "id": "637eaa41",
   "metadata": {},
   "outputs": [
    {
     "data": {
      "text/plain": [
       "Warning (verbal or written)                         106\n",
       "Citation for infraction                              58\n",
       "No Action                                            12\n",
       "In-field cite and release                            10\n",
       "Custodial Arrest without warrant                      3\n",
       "Custodial Arrest pursuant to outstanding warrant      2\n",
       "Field interview card completed                        1\n",
       "Name: result, dtype: int64"
      ]
     },
     "execution_count": 32,
     "metadata": {},
     "output_type": "execute_result"
    }
   ],
   "source": [
    "df_uniq[df_uniq[\"race\"]==\"Hispanic/Latino/a\"][\"result\"].value_counts()"
   ]
  },
  {
   "cell_type": "code",
   "execution_count": 33,
   "id": "124662af",
   "metadata": {},
   "outputs": [
    {
     "data": {
      "text/plain": [
       "Hispanic/Latino/a    3\n",
       "White                2\n",
       "Pacific Islander     1\n",
       "Name: race, dtype: int64"
      ]
     },
     "execution_count": 33,
     "metadata": {},
     "output_type": "execute_result"
    }
   ],
   "source": [
    "df_uniq[df_uniq[\"result\"]==\"Custodial Arrest without warrant\"][\"race\"].value_counts()"
   ]
  },
  {
   "cell_type": "code",
   "execution_count": 34,
   "id": "0868b2ac",
   "metadata": {},
   "outputs": [],
   "source": [
    "pt = pd.pivot_table(df_uniq, values=\"stop_id\", index=\"race\", columns=\"result\", aggfunc=\"count\", fill_value=0)"
   ]
  },
  {
   "cell_type": "code",
   "execution_count": 35,
   "id": "efd7eeb5",
   "metadata": {},
   "outputs": [],
   "source": [
    "pt[\"warn/help\"] = pt[\"Warning (verbal or written)\"] + \\\n",
    "                    pt[\"Psychiatric hold\"] + \\\n",
    "                    pt[\"Noncriminal transport or caretaking transport\"] + \\\n",
    "                    pt[\"Field interview card completed\"]"
   ]
  },
  {
   "cell_type": "code",
   "execution_count": 36,
   "id": "615658b5",
   "metadata": {},
   "outputs": [],
   "source": [
    "pt[\"cite/arrest\"] = pt[\"Citation for infraction\"] + \\\n",
    "                    pt[\"Custodial Arrest pursuant to outstanding warrant\"] + \\\n",
    "                    pt[\"Custodial Arrest without warrant\"] + \\\n",
    "                    pt[\"In-field cite and release\"]"
   ]
  },
  {
   "cell_type": "code",
   "execution_count": 37,
   "id": "9f4bdd20",
   "metadata": {},
   "outputs": [
    {
     "data": {
      "text/html": [
       "<div>\n",
       "<style scoped>\n",
       "    .dataframe tbody tr th:only-of-type {\n",
       "        vertical-align: middle;\n",
       "    }\n",
       "\n",
       "    .dataframe tbody tr th {\n",
       "        vertical-align: top;\n",
       "    }\n",
       "\n",
       "    .dataframe thead th {\n",
       "        text-align: right;\n",
       "    }\n",
       "</style>\n",
       "<table border=\"1\" class=\"dataframe\">\n",
       "  <thead>\n",
       "    <tr style=\"text-align: right;\">\n",
       "      <th>result</th>\n",
       "      <th>Citation for infraction</th>\n",
       "      <th>Contacted parent/legal guardian or other person responsible for the minor</th>\n",
       "      <th>Custodial Arrest pursuant to outstanding warrant</th>\n",
       "      <th>Custodial Arrest without warrant</th>\n",
       "      <th>Field interview card completed</th>\n",
       "      <th>In-field cite and release</th>\n",
       "      <th>No Action</th>\n",
       "      <th>Noncriminal transport or caretaking transport</th>\n",
       "      <th>Psychiatric hold</th>\n",
       "      <th>Warning (verbal or written)</th>\n",
       "      <th>warn/help</th>\n",
       "      <th>cite/arrest</th>\n",
       "    </tr>\n",
       "    <tr>\n",
       "      <th>race</th>\n",
       "      <th></th>\n",
       "      <th></th>\n",
       "      <th></th>\n",
       "      <th></th>\n",
       "      <th></th>\n",
       "      <th></th>\n",
       "      <th></th>\n",
       "      <th></th>\n",
       "      <th></th>\n",
       "      <th></th>\n",
       "      <th></th>\n",
       "      <th></th>\n",
       "    </tr>\n",
       "  </thead>\n",
       "  <tbody>\n",
       "    <tr>\n",
       "      <th>Asian</th>\n",
       "      <td>57</td>\n",
       "      <td>0</td>\n",
       "      <td>0</td>\n",
       "      <td>0</td>\n",
       "      <td>1</td>\n",
       "      <td>1</td>\n",
       "      <td>8</td>\n",
       "      <td>1</td>\n",
       "      <td>0</td>\n",
       "      <td>71</td>\n",
       "      <td>73</td>\n",
       "      <td>58</td>\n",
       "    </tr>\n",
       "    <tr>\n",
       "      <th>Black/African American</th>\n",
       "      <td>5</td>\n",
       "      <td>0</td>\n",
       "      <td>0</td>\n",
       "      <td>0</td>\n",
       "      <td>0</td>\n",
       "      <td>2</td>\n",
       "      <td>3</td>\n",
       "      <td>1</td>\n",
       "      <td>0</td>\n",
       "      <td>17</td>\n",
       "      <td>18</td>\n",
       "      <td>7</td>\n",
       "    </tr>\n",
       "    <tr>\n",
       "      <th>Hispanic/Latino/a</th>\n",
       "      <td>58</td>\n",
       "      <td>0</td>\n",
       "      <td>2</td>\n",
       "      <td>3</td>\n",
       "      <td>1</td>\n",
       "      <td>10</td>\n",
       "      <td>12</td>\n",
       "      <td>0</td>\n",
       "      <td>0</td>\n",
       "      <td>106</td>\n",
       "      <td>107</td>\n",
       "      <td>73</td>\n",
       "    </tr>\n",
       "    <tr>\n",
       "      <th>Middle Eastern or South Asian</th>\n",
       "      <td>36</td>\n",
       "      <td>0</td>\n",
       "      <td>0</td>\n",
       "      <td>0</td>\n",
       "      <td>0</td>\n",
       "      <td>1</td>\n",
       "      <td>5</td>\n",
       "      <td>0</td>\n",
       "      <td>0</td>\n",
       "      <td>49</td>\n",
       "      <td>49</td>\n",
       "      <td>37</td>\n",
       "    </tr>\n",
       "    <tr>\n",
       "      <th>Native American</th>\n",
       "      <td>0</td>\n",
       "      <td>0</td>\n",
       "      <td>0</td>\n",
       "      <td>0</td>\n",
       "      <td>0</td>\n",
       "      <td>1</td>\n",
       "      <td>1</td>\n",
       "      <td>0</td>\n",
       "      <td>0</td>\n",
       "      <td>0</td>\n",
       "      <td>0</td>\n",
       "      <td>1</td>\n",
       "    </tr>\n",
       "    <tr>\n",
       "      <th>Pacific Islander</th>\n",
       "      <td>3</td>\n",
       "      <td>0</td>\n",
       "      <td>0</td>\n",
       "      <td>1</td>\n",
       "      <td>1</td>\n",
       "      <td>0</td>\n",
       "      <td>0</td>\n",
       "      <td>0</td>\n",
       "      <td>0</td>\n",
       "      <td>5</td>\n",
       "      <td>6</td>\n",
       "      <td>4</td>\n",
       "    </tr>\n",
       "    <tr>\n",
       "      <th>White</th>\n",
       "      <td>78</td>\n",
       "      <td>1</td>\n",
       "      <td>6</td>\n",
       "      <td>2</td>\n",
       "      <td>0</td>\n",
       "      <td>5</td>\n",
       "      <td>23</td>\n",
       "      <td>1</td>\n",
       "      <td>2</td>\n",
       "      <td>158</td>\n",
       "      <td>161</td>\n",
       "      <td>91</td>\n",
       "    </tr>\n",
       "  </tbody>\n",
       "</table>\n",
       "</div>"
      ],
      "text/plain": [
       "result                         Citation for infraction  \\\n",
       "race                                                     \n",
       "Asian                                               57   \n",
       "Black/African American                               5   \n",
       "Hispanic/Latino/a                                   58   \n",
       "Middle Eastern or South Asian                       36   \n",
       "Native American                                      0   \n",
       "Pacific Islander                                     3   \n",
       "White                                               78   \n",
       "\n",
       "result                         Contacted parent/legal guardian or other person responsible for the minor  \\\n",
       "race                                                                                                       \n",
       "Asian                                                                          0                           \n",
       "Black/African American                                                         0                           \n",
       "Hispanic/Latino/a                                                              0                           \n",
       "Middle Eastern or South Asian                                                  0                           \n",
       "Native American                                                                0                           \n",
       "Pacific Islander                                                               0                           \n",
       "White                                                                          1                           \n",
       "\n",
       "result                         Custodial Arrest pursuant to outstanding warrant  \\\n",
       "race                                                                              \n",
       "Asian                                                                         0   \n",
       "Black/African American                                                        0   \n",
       "Hispanic/Latino/a                                                             2   \n",
       "Middle Eastern or South Asian                                                 0   \n",
       "Native American                                                               0   \n",
       "Pacific Islander                                                              0   \n",
       "White                                                                         6   \n",
       "\n",
       "result                         Custodial Arrest without warrant  \\\n",
       "race                                                              \n",
       "Asian                                                         0   \n",
       "Black/African American                                        0   \n",
       "Hispanic/Latino/a                                             3   \n",
       "Middle Eastern or South Asian                                 0   \n",
       "Native American                                               0   \n",
       "Pacific Islander                                              1   \n",
       "White                                                         2   \n",
       "\n",
       "result                         Field interview card completed  \\\n",
       "race                                                            \n",
       "Asian                                                       1   \n",
       "Black/African American                                      0   \n",
       "Hispanic/Latino/a                                           1   \n",
       "Middle Eastern or South Asian                               0   \n",
       "Native American                                             0   \n",
       "Pacific Islander                                            1   \n",
       "White                                                       0   \n",
       "\n",
       "result                         In-field cite and release  No Action  \\\n",
       "race                                                                  \n",
       "Asian                                                  1          8   \n",
       "Black/African American                                 2          3   \n",
       "Hispanic/Latino/a                                     10         12   \n",
       "Middle Eastern or South Asian                          1          5   \n",
       "Native American                                        1          1   \n",
       "Pacific Islander                                       0          0   \n",
       "White                                                  5         23   \n",
       "\n",
       "result                         Noncriminal transport or caretaking transport  \\\n",
       "race                                                                           \n",
       "Asian                                                                      1   \n",
       "Black/African American                                                     1   \n",
       "Hispanic/Latino/a                                                          0   \n",
       "Middle Eastern or South Asian                                              0   \n",
       "Native American                                                            0   \n",
       "Pacific Islander                                                           0   \n",
       "White                                                                      1   \n",
       "\n",
       "result                         Psychiatric hold  Warning (verbal or written)  \\\n",
       "race                                                                           \n",
       "Asian                                         0                           71   \n",
       "Black/African American                        0                           17   \n",
       "Hispanic/Latino/a                             0                          106   \n",
       "Middle Eastern or South Asian                 0                           49   \n",
       "Native American                               0                            0   \n",
       "Pacific Islander                              0                            5   \n",
       "White                                         2                          158   \n",
       "\n",
       "result                         warn/help  cite/arrest  \n",
       "race                                                   \n",
       "Asian                                 73           58  \n",
       "Black/African American                18            7  \n",
       "Hispanic/Latino/a                    107           73  \n",
       "Middle Eastern or South Asian         49           37  \n",
       "Native American                        0            1  \n",
       "Pacific Islander                       6            4  \n",
       "White                                161           91  "
      ]
     },
     "execution_count": 37,
     "metadata": {},
     "output_type": "execute_result"
    }
   ],
   "source": [
    "pt"
   ]
  },
  {
   "cell_type": "code",
   "execution_count": 38,
   "id": "5d0c365d",
   "metadata": {},
   "outputs": [],
   "source": [
    "bob = pt[[\"No Action\", \"warn/help\", \"cite/arrest\"]]"
   ]
  },
  {
   "cell_type": "code",
   "execution_count": 39,
   "id": "7a7ad9f0",
   "metadata": {},
   "outputs": [],
   "source": [
    "bob = bob.transpose()"
   ]
  },
  {
   "cell_type": "code",
   "execution_count": 40,
   "id": "f90ee709",
   "metadata": {},
   "outputs": [
    {
     "data": {
      "text/html": [
       "<div>\n",
       "<style scoped>\n",
       "    .dataframe tbody tr th:only-of-type {\n",
       "        vertical-align: middle;\n",
       "    }\n",
       "\n",
       "    .dataframe tbody tr th {\n",
       "        vertical-align: top;\n",
       "    }\n",
       "\n",
       "    .dataframe thead th {\n",
       "        text-align: right;\n",
       "    }\n",
       "</style>\n",
       "<table border=\"1\" class=\"dataframe\">\n",
       "  <thead>\n",
       "    <tr style=\"text-align: right;\">\n",
       "      <th>race</th>\n",
       "      <th>Asian</th>\n",
       "      <th>Black/African American</th>\n",
       "      <th>Hispanic/Latino/a</th>\n",
       "      <th>Middle Eastern or South Asian</th>\n",
       "      <th>Native American</th>\n",
       "      <th>Pacific Islander</th>\n",
       "      <th>White</th>\n",
       "    </tr>\n",
       "    <tr>\n",
       "      <th>result</th>\n",
       "      <th></th>\n",
       "      <th></th>\n",
       "      <th></th>\n",
       "      <th></th>\n",
       "      <th></th>\n",
       "      <th></th>\n",
       "      <th></th>\n",
       "    </tr>\n",
       "  </thead>\n",
       "  <tbody>\n",
       "    <tr>\n",
       "      <th>No Action</th>\n",
       "      <td>8</td>\n",
       "      <td>3</td>\n",
       "      <td>12</td>\n",
       "      <td>5</td>\n",
       "      <td>1</td>\n",
       "      <td>0</td>\n",
       "      <td>23</td>\n",
       "    </tr>\n",
       "    <tr>\n",
       "      <th>warn/help</th>\n",
       "      <td>73</td>\n",
       "      <td>18</td>\n",
       "      <td>107</td>\n",
       "      <td>49</td>\n",
       "      <td>0</td>\n",
       "      <td>6</td>\n",
       "      <td>161</td>\n",
       "    </tr>\n",
       "    <tr>\n",
       "      <th>cite/arrest</th>\n",
       "      <td>58</td>\n",
       "      <td>7</td>\n",
       "      <td>73</td>\n",
       "      <td>37</td>\n",
       "      <td>1</td>\n",
       "      <td>4</td>\n",
       "      <td>91</td>\n",
       "    </tr>\n",
       "  </tbody>\n",
       "</table>\n",
       "</div>"
      ],
      "text/plain": [
       "race         Asian  Black/African American  Hispanic/Latino/a  \\\n",
       "result                                                          \n",
       "No Action        8                       3                 12   \n",
       "warn/help       73                      18                107   \n",
       "cite/arrest     58                       7                 73   \n",
       "\n",
       "race         Middle Eastern or South Asian  Native American  Pacific Islander  \\\n",
       "result                                                                          \n",
       "No Action                                5                1                 0   \n",
       "warn/help                               49                0                 6   \n",
       "cite/arrest                             37                1                 4   \n",
       "\n",
       "race         White  \n",
       "result              \n",
       "No Action       23  \n",
       "warn/help      161  \n",
       "cite/arrest     91  "
      ]
     },
     "execution_count": 40,
     "metadata": {},
     "output_type": "execute_result"
    }
   ],
   "source": [
    "bob"
   ]
  },
  {
   "cell_type": "code",
   "execution_count": 45,
   "id": "32a37dc0",
   "metadata": {},
   "outputs": [
    {
     "data": {
      "text/plain": [
       "28"
      ]
     },
     "execution_count": 45,
     "metadata": {},
     "output_type": "execute_result"
    }
   ],
   "source": [
    "bob[\"Black/African American\"].sum()"
   ]
  },
  {
   "cell_type": "code",
   "execution_count": 46,
   "id": "b32f29db",
   "metadata": {},
   "outputs": [
    {
     "data": {
      "text/plain": [
       "275"
      ]
     },
     "execution_count": 46,
     "metadata": {},
     "output_type": "execute_result"
    }
   ],
   "source": [
    "bob[\"White\"].sum()"
   ]
  },
  {
   "cell_type": "code",
   "execution_count": 47,
   "id": "2eddf1de",
   "metadata": {},
   "outputs": [],
   "source": [
    "import analysis.bayes_binomial as bayes"
   ]
  },
  {
   "cell_type": "code",
   "execution_count": 48,
   "id": "08919eb6",
   "metadata": {},
   "outputs": [
    {
     "data": {
      "text/plain": [
       "0.16420886485863948"
      ]
     },
     "execution_count": 48,
     "metadata": {},
     "output_type": "execute_result"
    }
   ],
   "source": [
    "bayes.odds_different(3, 28, 23, 275)"
   ]
  },
  {
   "cell_type": "code",
   "execution_count": 49,
   "id": "35827381",
   "metadata": {},
   "outputs": [
    {
     "data": {
      "text/plain": [
       "0.08709590081766072"
      ]
     },
     "execution_count": 49,
     "metadata": {},
     "output_type": "execute_result"
    }
   ],
   "source": [
    "bayes.odds_different(12, 12+107+73, 23, 275)"
   ]
  },
  {
   "cell_type": "code",
   "execution_count": 50,
   "id": "0326b0dd",
   "metadata": {},
   "outputs": [
    {
     "data": {
      "text/plain": [
       "0.16420886485863948"
      ]
     },
     "execution_count": 50,
     "metadata": {},
     "output_type": "execute_result"
    }
   ],
   "source": [
    "bayes.odds_different(23, 275, 3, 28)"
   ]
  },
  {
   "cell_type": "code",
   "execution_count": 51,
   "id": "494d717b",
   "metadata": {},
   "outputs": [
    {
     "data": {
      "text/plain": [
       "0.08709590081766072"
      ]
     },
     "execution_count": 51,
     "metadata": {},
     "output_type": "execute_result"
    }
   ],
   "source": [
    "bayes.odds_different(23, 275, 12, 12+107+73)"
   ]
  },
  {
   "cell_type": "code",
   "execution_count": 41,
   "id": "cbbed664",
   "metadata": {},
   "outputs": [
    {
     "data": {
      "image/png": "[encoded data removed]",
      "text/plain": [
       "<Figure size 640x480 with 1 Axes>"
      ]
     },
     "metadata": {},
     "output_type": "display_data"
    },
    {
     "data": {
      "image/png": "[encoded data removed]",
      "text/plain": [
       "<Figure size 640x480 with 1 Axes>"
      ]
     },
     "metadata": {},
     "output_type": "display_data"
    }
   ],
   "source": [
    "keys = bob.keys() #[\"No Action\", \"warn/help\", \"cite/arrest\"]\n",
    "fig = plt.subplots(len(keys), 1)\n",
    "for key in keys:\n",
    "    lmp.single_bar(bob[key], key, fig, 1, 1)\n",
    "plt.show()\n",
    "\n"
   ]
  },
  {
   "cell_type": "code",
   "execution_count": 44,
   "id": "fee1d26f",
   "metadata": {},
   "outputs": [
    {
     "data": {
      "image/png": "[encoded data removed]",
      "text/plain": [
       "<Figure size 640x480 with 1 Axes>"
      ]
     },
     "metadata": {},
     "output_type": "display_data"
    },
    {
     "data": {
      "image/png": "[encoded data removed]",
      "text/plain": [
       "<Figure size 640x480 with 1 Axes>"
      ]
     },
     "metadata": {},
     "output_type": "display_data"
    },
    {
     "data": {
      "image/png": "[encoded data removed]",
      "text/plain": [
       "<Figure size 640x480 with 1 Axes>"
      ]
     },
     "metadata": {},
     "output_type": "display_data"
    }
   ],
   "source": [
    "ax = bob.div(0.01*bob.sum(axis=1), axis=0).plot(kind='barh',stacked=True,rot=0)\n",
    "ax.set(ylabel=\"\")\n",
    "ax.legend(bbox_to_anchor=(-0.2, 1.02))\n",
    "plt.show()\n"
   ]
  },
  {
   "cell_type": "code",
   "execution_count": 266,
   "id": "43bc105a",
   "metadata": {},
   "outputs": [
    {
     "data": {
      "text/plain": [
       "Index(['No Action', 'warn/help', 'cite/arrest'], dtype='object', name='result')"
      ]
     },
     "execution_count": 266,
     "metadata": {},
     "output_type": "execute_result"
    }
   ],
   "source": [
    "bob.keys()"
   ]
  },
  {
   "cell_type": "code",
   "execution_count": 269,
   "id": "226fdc44",
   "metadata": {},
   "outputs": [],
   "source": [
    "bobt=bob.transpose()"
   ]
  },
  {
   "cell_type": "code",
   "execution_count": 270,
   "id": "9589b20b",
   "metadata": {},
   "outputs": [
    {
     "data": {
      "image/png": "[encoded data removed]",
      "text/plain": [
       "<Figure size 640x480 with 1 Axes>"
      ]
     },
     "metadata": {},
     "output_type": "display_data"
    }
   ],
   "source": [
    "fig = plt.subplots(len(bobt.keys()), 1)\n",
    "for key in bobt.keys():\n",
    "    lmp.single_bar(bobt[key], key, fig, 1, 1)\n",
    "plt.show()"
   ]
  },
  {
   "cell_type": "code",
   "execution_count": 121,
   "id": "41b0fa14",
   "metadata": {},
   "outputs": [
    {
     "data": {
      "text/plain": [
       "Citation for infraction                                                       77.0\n",
       "Contacted parent/legal guardian or other person responsible for the minor      1.0\n",
       "Custodial Arrest pursuant to outstanding warrant                               6.0\n",
       "Custodial Arrest without warrant                                               2.0\n",
       "Field interview card completed                                                 0.0\n",
       "In-field cite and release                                                      4.0\n",
       "No Action                                                                     23.0\n",
       "Noncriminal transport or caretaking transport                                  1.0\n",
       "Psychiatric hold                                                               2.0\n",
       "Warning (verbal or written)                                                  157.0\n",
       "dtype: float64"
      ]
     },
     "execution_count": 121,
     "metadata": {},
     "output_type": "execute_result"
    }
   ],
   "source": [
    "whites"
   ]
  },
  {
   "cell_type": "code",
   "execution_count": 173,
   "id": "0cc10a7e",
   "metadata": {},
   "outputs": [
    {
     "data": {
      "text/plain": [
       "Citation for infraction                                                       78.0\n",
       "Contacted parent/legal guardian or other person responsible for the minor      1.0\n",
       "Custodial Arrest pursuant to outstanding warrant                               6.0\n",
       "Custodial Arrest without warrant                                               2.0\n",
       "Field interview card completed                                                 0.0\n",
       "In-field cite and release                                                      5.0\n",
       "No Action                                                                     23.0\n",
       "Noncriminal transport or caretaking transport                                  1.0\n",
       "Psychiatric hold                                                               2.0\n",
       "Warning (verbal or written)                                                  158.0\n",
       "dtype: float64"
      ]
     },
     "execution_count": 173,
     "metadata": {},
     "output_type": "execute_result"
    }
   ],
   "source": [
    "new_whites"
   ]
  },
  {
   "cell_type": "code",
   "execution_count": 128,
   "id": "24f27c06",
   "metadata": {},
   "outputs": [
    {
     "data": {
      "text/plain": [
       "In-field cite and release    36\n",
       "Name: result, dtype: int64"
      ]
     },
     "execution_count": 128,
     "metadata": {},
     "output_type": "execute_result"
    }
   ],
   "source": [
    "df[df[\"stop_id\"]==3140][\"result\"].value_counts()"
   ]
  },
  {
   "cell_type": "code",
   "execution_count": 135,
   "id": "f040392d",
   "metadata": {},
   "outputs": [],
   "source": [
    "result_options = list(df[\"result\"].value_counts().index.values)"
   ]
  },
  {
   "cell_type": "code",
   "execution_count": 136,
   "id": "76f1b6be",
   "metadata": {},
   "outputs": [
    {
     "data": {
      "text/plain": [
       "5"
      ]
     },
     "execution_count": 136,
     "metadata": {},
     "output_type": "execute_result"
    }
   ],
   "source": [
    "result_options.index(\"No Action\")"
   ]
  },
  {
   "cell_type": "code",
   "execution_count": 137,
   "id": "1e8e7ab7",
   "metadata": {},
   "outputs": [
    {
     "data": {
      "text/plain": [
       "['Warning (verbal or written)',\n",
       " 'Custodial Arrest without warrant',\n",
       " 'Citation for infraction',\n",
       " 'In-field cite and release',\n",
       " 'Custodial Arrest pursuant to outstanding warrant',\n",
       " 'No Action',\n",
       " 'Psychiatric hold',\n",
       " 'Noncriminal transport or caretaking transport',\n",
       " 'Field interview card completed',\n",
       " 'Contacted parent/legal guardian or other person responsible for the minor']"
      ]
     },
     "execution_count": 137,
     "metadata": {},
     "output_type": "execute_result"
    }
   ],
   "source": [
    "result_options"
   ]
  },
  {
   "cell_type": "code",
   "execution_count": 155,
   "id": "6ea151eb",
   "metadata": {},
   "outputs": [],
   "source": [
    "test_stop = 3133"
   ]
  },
  {
   "cell_type": "code",
   "execution_count": 157,
   "id": "fa15f841",
   "metadata": {},
   "outputs": [
    {
     "data": {
      "text/plain": [
       "'Custodial Arrest pursuant to outstanding warrant'"
      ]
     },
     "execution_count": 157,
     "metadata": {},
     "output_type": "execute_result"
    }
   ],
   "source": [
    "df[df[\"stop_id\"] == test_stop][\"result\"].values[0]"
   ]
  },
  {
   "cell_type": "code",
   "execution_count": 158,
   "id": "aa78922a",
   "metadata": {},
   "outputs": [
    {
     "data": {
      "text/plain": [
       "8"
      ]
     },
     "execution_count": 158,
     "metadata": {},
     "output_type": "execute_result"
    }
   ],
   "source": [
    "result_options.index(df[df[\"stop_id\"] == test_stop][\"result\"].values[0])"
   ]
  },
  {
   "cell_type": "code",
   "execution_count": 165,
   "id": "c6fc9e58",
   "metadata": {},
   "outputs": [
    {
     "data": {
      "text/html": [
       "<div>\n",
       "<style scoped>\n",
       "    .dataframe tbody tr th:only-of-type {\n",
       "        vertical-align: middle;\n",
       "    }\n",
       "\n",
       "    .dataframe tbody tr th {\n",
       "        vertical-align: top;\n",
       "    }\n",
       "\n",
       "    .dataframe thead th {\n",
       "        text-align: right;\n",
       "    }\n",
       "</style>\n",
       "<table border=\"1\" class=\"dataframe\">\n",
       "  <thead>\n",
       "    <tr style=\"text-align: right;\">\n",
       "      <th></th>\n",
       "      <th>stop_id</th>\n",
       "      <th>date_time</th>\n",
       "      <th>duration</th>\n",
       "      <th>call_for_service</th>\n",
       "      <th>location</th>\n",
       "      <th>actions_taken</th>\n",
       "      <th>person_search_consent</th>\n",
       "      <th>property_search_consent</th>\n",
       "      <th>race</th>\n",
       "      <th>reason_for_stop</th>\n",
       "      <th>disabilities</th>\n",
       "      <th>limited_english</th>\n",
       "      <th>age</th>\n",
       "      <th>gender</th>\n",
       "      <th>lgbt</th>\n",
       "      <th>genderNonconforming</th>\n",
       "      <th>result</th>\n",
       "      <th>basis_for_search</th>\n",
       "      <th>evidence_found</th>\n",
       "      <th>result_num</th>\n",
       "    </tr>\n",
       "  </thead>\n",
       "  <tbody>\n",
       "    <tr>\n",
       "      <th>32</th>\n",
       "      <td>3133</td>\n",
       "      <td>2022-01-13 15:51:35</td>\n",
       "      <td>30</td>\n",
       "      <td>True</td>\n",
       "      <td>homestead rd</td>\n",
       "      <td>Curbside detention</td>\n",
       "      <td>NaN</td>\n",
       "      <td>NaN</td>\n",
       "      <td>White</td>\n",
       "      <td>Reasonable Suspicion</td>\n",
       "      <td>Mental health condition</td>\n",
       "      <td>False</td>\n",
       "      <td>35</td>\n",
       "      <td>Male</td>\n",
       "      <td>No</td>\n",
       "      <td>False</td>\n",
       "      <td>In-field cite and release</td>\n",
       "      <td>Incident to arrest</td>\n",
       "      <td>None</td>\n",
       "      <td>7</td>\n",
       "    </tr>\n",
       "    <tr>\n",
       "      <th>34</th>\n",
       "      <td>3133</td>\n",
       "      <td>2022-01-13 15:51:35</td>\n",
       "      <td>30</td>\n",
       "      <td>True</td>\n",
       "      <td>homestead rd</td>\n",
       "      <td>Handcuffed or flex cuffed</td>\n",
       "      <td>NaN</td>\n",
       "      <td>NaN</td>\n",
       "      <td>White</td>\n",
       "      <td>Reasonable Suspicion</td>\n",
       "      <td>Mental health condition</td>\n",
       "      <td>False</td>\n",
       "      <td>35</td>\n",
       "      <td>Male</td>\n",
       "      <td>No</td>\n",
       "      <td>False</td>\n",
       "      <td>In-field cite and release</td>\n",
       "      <td>Incident to arrest</td>\n",
       "      <td>None</td>\n",
       "      <td>7</td>\n",
       "    </tr>\n",
       "    <tr>\n",
       "      <th>35</th>\n",
       "      <td>3133</td>\n",
       "      <td>2022-01-13 15:51:35</td>\n",
       "      <td>30</td>\n",
       "      <td>True</td>\n",
       "      <td>homestead rd</td>\n",
       "      <td>Patrol car detention</td>\n",
       "      <td>NaN</td>\n",
       "      <td>NaN</td>\n",
       "      <td>White</td>\n",
       "      <td>Reasonable Suspicion</td>\n",
       "      <td>Mental health condition</td>\n",
       "      <td>False</td>\n",
       "      <td>35</td>\n",
       "      <td>Male</td>\n",
       "      <td>No</td>\n",
       "      <td>False</td>\n",
       "      <td>In-field cite and release</td>\n",
       "      <td>Incident to arrest</td>\n",
       "      <td>None</td>\n",
       "      <td>7</td>\n",
       "    </tr>\n",
       "    <tr>\n",
       "      <th>37</th>\n",
       "      <td>3133</td>\n",
       "      <td>2022-01-13 15:51:35</td>\n",
       "      <td>30</td>\n",
       "      <td>True</td>\n",
       "      <td>homestead rd</td>\n",
       "      <td>Search of person was conducted</td>\n",
       "      <td>NaN</td>\n",
       "      <td>NaN</td>\n",
       "      <td>White</td>\n",
       "      <td>Reasonable Suspicion</td>\n",
       "      <td>Mental health condition</td>\n",
       "      <td>False</td>\n",
       "      <td>35</td>\n",
       "      <td>Male</td>\n",
       "      <td>No</td>\n",
       "      <td>False</td>\n",
       "      <td>In-field cite and release</td>\n",
       "      <td>Incident to arrest</td>\n",
       "      <td>None</td>\n",
       "      <td>7</td>\n",
       "    </tr>\n",
       "    <tr>\n",
       "      <th>30</th>\n",
       "      <td>3133</td>\n",
       "      <td>2022-01-13 15:51:35</td>\n",
       "      <td>30</td>\n",
       "      <td>True</td>\n",
       "      <td>homestead rd</td>\n",
       "      <td>Handcuffed or flex cuffed</td>\n",
       "      <td>NaN</td>\n",
       "      <td>NaN</td>\n",
       "      <td>White</td>\n",
       "      <td>Reasonable Suspicion</td>\n",
       "      <td>Mental health condition</td>\n",
       "      <td>False</td>\n",
       "      <td>35</td>\n",
       "      <td>Male</td>\n",
       "      <td>No</td>\n",
       "      <td>False</td>\n",
       "      <td>Custodial Arrest pursuant to outstanding warrant</td>\n",
       "      <td>Incident to arrest</td>\n",
       "      <td>None</td>\n",
       "      <td>8</td>\n",
       "    </tr>\n",
       "    <tr>\n",
       "      <th>31</th>\n",
       "      <td>3133</td>\n",
       "      <td>2022-01-13 15:51:35</td>\n",
       "      <td>30</td>\n",
       "      <td>True</td>\n",
       "      <td>homestead rd</td>\n",
       "      <td>Search of person was conducted</td>\n",
       "      <td>NaN</td>\n",
       "      <td>NaN</td>\n",
       "      <td>White</td>\n",
       "      <td>Reasonable Suspicion</td>\n",
       "      <td>Mental health condition</td>\n",
       "      <td>False</td>\n",
       "      <td>35</td>\n",
       "      <td>Male</td>\n",
       "      <td>No</td>\n",
       "      <td>False</td>\n",
       "      <td>Custodial Arrest pursuant to outstanding warrant</td>\n",
       "      <td>Incident to arrest</td>\n",
       "      <td>None</td>\n",
       "      <td>8</td>\n",
       "    </tr>\n",
       "    <tr>\n",
       "      <th>33</th>\n",
       "      <td>3133</td>\n",
       "      <td>2022-01-13 15:51:35</td>\n",
       "      <td>30</td>\n",
       "      <td>True</td>\n",
       "      <td>homestead rd</td>\n",
       "      <td>Curbside detention</td>\n",
       "      <td>NaN</td>\n",
       "      <td>NaN</td>\n",
       "      <td>White</td>\n",
       "      <td>Reasonable Suspicion</td>\n",
       "      <td>Mental health condition</td>\n",
       "      <td>False</td>\n",
       "      <td>35</td>\n",
       "      <td>Male</td>\n",
       "      <td>No</td>\n",
       "      <td>False</td>\n",
       "      <td>Custodial Arrest pursuant to outstanding warrant</td>\n",
       "      <td>Incident to arrest</td>\n",
       "      <td>None</td>\n",
       "      <td>8</td>\n",
       "    </tr>\n",
       "    <tr>\n",
       "      <th>36</th>\n",
       "      <td>3133</td>\n",
       "      <td>2022-01-13 15:51:35</td>\n",
       "      <td>30</td>\n",
       "      <td>True</td>\n",
       "      <td>homestead rd</td>\n",
       "      <td>Patrol car detention</td>\n",
       "      <td>NaN</td>\n",
       "      <td>NaN</td>\n",
       "      <td>White</td>\n",
       "      <td>Reasonable Suspicion</td>\n",
       "      <td>Mental health condition</td>\n",
       "      <td>False</td>\n",
       "      <td>35</td>\n",
       "      <td>Male</td>\n",
       "      <td>No</td>\n",
       "      <td>False</td>\n",
       "      <td>Custodial Arrest pursuant to outstanding warrant</td>\n",
       "      <td>Incident to arrest</td>\n",
       "      <td>None</td>\n",
       "      <td>8</td>\n",
       "    </tr>\n",
       "  </tbody>\n",
       "</table>\n",
       "</div>"
      ],
      "text/plain": [
       "    stop_id           date_time  duration  call_for_service      location  \\\n",
       "32     3133 2022-01-13 15:51:35        30              True  homestead rd   \n",
       "34     3133 2022-01-13 15:51:35        30              True  homestead rd   \n",
       "35     3133 2022-01-13 15:51:35        30              True  homestead rd   \n",
       "37     3133 2022-01-13 15:51:35        30              True  homestead rd   \n",
       "30     3133 2022-01-13 15:51:35        30              True  homestead rd   \n",
       "31     3133 2022-01-13 15:51:35        30              True  homestead rd   \n",
       "33     3133 2022-01-13 15:51:35        30              True  homestead rd   \n",
       "36     3133 2022-01-13 15:51:35        30              True  homestead rd   \n",
       "\n",
       "                     actions_taken person_search_consent  \\\n",
       "32              Curbside detention                   NaN   \n",
       "34       Handcuffed or flex cuffed                   NaN   \n",
       "35            Patrol car detention                   NaN   \n",
       "37  Search of person was conducted                   NaN   \n",
       "30       Handcuffed or flex cuffed                   NaN   \n",
       "31  Search of person was conducted                   NaN   \n",
       "33              Curbside detention                   NaN   \n",
       "36            Patrol car detention                   NaN   \n",
       "\n",
       "   property_search_consent   race       reason_for_stop  \\\n",
       "32                     NaN  White  Reasonable Suspicion   \n",
       "34                     NaN  White  Reasonable Suspicion   \n",
       "35                     NaN  White  Reasonable Suspicion   \n",
       "37                     NaN  White  Reasonable Suspicion   \n",
       "30                     NaN  White  Reasonable Suspicion   \n",
       "31                     NaN  White  Reasonable Suspicion   \n",
       "33                     NaN  White  Reasonable Suspicion   \n",
       "36                     NaN  White  Reasonable Suspicion   \n",
       "\n",
       "               disabilities  limited_english  age gender lgbt  \\\n",
       "32  Mental health condition            False   35   Male   No   \n",
       "34  Mental health condition            False   35   Male   No   \n",
       "35  Mental health condition            False   35   Male   No   \n",
       "37  Mental health condition            False   35   Male   No   \n",
       "30  Mental health condition            False   35   Male   No   \n",
       "31  Mental health condition            False   35   Male   No   \n",
       "33  Mental health condition            False   35   Male   No   \n",
       "36  Mental health condition            False   35   Male   No   \n",
       "\n",
       "    genderNonconforming                                            result  \\\n",
       "32                False                         In-field cite and release   \n",
       "34                False                         In-field cite and release   \n",
       "35                False                         In-field cite and release   \n",
       "37                False                         In-field cite and release   \n",
       "30                False  Custodial Arrest pursuant to outstanding warrant   \n",
       "31                False  Custodial Arrest pursuant to outstanding warrant   \n",
       "33                False  Custodial Arrest pursuant to outstanding warrant   \n",
       "36                False  Custodial Arrest pursuant to outstanding warrant   \n",
       "\n",
       "      basis_for_search evidence_found  result_num  \n",
       "32  Incident to arrest           None           7  \n",
       "34  Incident to arrest           None           7  \n",
       "35  Incident to arrest           None           7  \n",
       "37  Incident to arrest           None           7  \n",
       "30  Incident to arrest           None           8  \n",
       "31  Incident to arrest           None           8  \n",
       "33  Incident to arrest           None           8  \n",
       "36  Incident to arrest           None           8  "
      ]
     },
     "execution_count": 165,
     "metadata": {},
     "output_type": "execute_result"
    }
   ],
   "source": [
    "df[df[\"stop_id\"]==3133]"
   ]
  },
  {
   "cell_type": "code",
   "execution_count": null,
   "id": "77644673",
   "metadata": {},
   "outputs": [],
   "source": []
  }
 ],
 "metadata": {
  "kernelspec": {
   "display_name": "Python 3 (ipykernel)",
   "language": "python",
   "name": "python3"
  },
  "language_info": {
   "codemirror_mode": {
    "name": "ipython",
    "version": 3
   },
   "file_extension": ".py",
   "mimetype": "text/x-python",
   "name": "python",
   "nbconvert_exporter": "python",
   "pygments_lexer": "ipython3",
   "version": "3.10.6"
  }
 },
 "nbformat": 4,
 "nbformat_minor": 5
}
